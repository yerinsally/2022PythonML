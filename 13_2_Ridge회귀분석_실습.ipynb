{
  "nbformat": 4,
  "nbformat_minor": 0,
  "metadata": {
    "kernelspec": {
      "display_name": "Python 3",
      "language": "python",
      "name": "python3"
    },
    "language_info": {
      "codemirror_mode": {
        "name": "ipython",
        "version": 3
      },
      "file_extension": ".py",
      "mimetype": "text/x-python",
      "name": "python",
      "nbconvert_exporter": "python",
      "pygments_lexer": "ipython3",
      "version": "3.7.1"
    },
    "colab": {
      "provenance": [],
      "include_colab_link": true
    }
  },
  "cells": [
    {
      "cell_type": "markdown",
      "metadata": {
        "id": "view-in-github",
        "colab_type": "text"
      },
      "source": [
        "<a href=\"https://colab.research.google.com/github/yerinsally/2022_PythonML/blob/main/13_2_Ridge%ED%9A%8C%EA%B7%80%EB%B6%84%EC%84%9D_%EC%8B%A4%EC%8A%B5.ipynb\" target=\"_parent\"><img src=\"https://colab.research.google.com/assets/colab-badge.svg\" alt=\"Open In Colab\"/></a>"
      ]
    },
    {
      "cell_type": "markdown",
      "metadata": {
        "id": "Qd3j5ZvL6IVs"
      },
      "source": [
        "# 1. 라이브러리 및 데이터 불러오기"
      ]
    },
    {
      "cell_type": "code",
      "metadata": {
        "id": "38wXMLxy6IVy"
      },
      "source": [
        "import warnings\n",
        "warnings.filterwarnings(\"ignore\")"
      ],
      "execution_count": null,
      "outputs": []
    },
    {
      "cell_type": "code",
      "metadata": {
        "colab": {
          "base_uri": "https://localhost:8080/"
        },
        "id": "qLTM7At26jYa",
        "outputId": "5ef73868-9d21-44c2-ad16-e6eea4e9f61b"
      },
      "source": [
        "from google.colab import drive\n",
        "drive.mount('/content/drive')"
      ],
      "execution_count": null,
      "outputs": [
        {
          "output_type": "stream",
          "name": "stdout",
          "text": [
            "Mounted at /content/drive\n"
          ]
        }
      ]
    },
    {
      "cell_type": "code",
      "metadata": {
        "id": "WtQsZkQc6IV1"
      },
      "source": [
        "import pandas as pd"
      ],
      "execution_count": null,
      "outputs": []
    },
    {
      "cell_type": "code",
      "metadata": {
        "id": "m6ocsvAc6IV2"
      },
      "source": [
        "data=pd.read_csv(\"/content/drive/MyDrive/G_ML_2/data/wine.csv\",sep=',')"
      ],
      "execution_count": null,
      "outputs": []
    },
    {
      "cell_type": "code",
      "metadata": {
        "id": "W2H3dFQN6IV2"
      },
      "source": [
        "X=data[data.columns[0:11]]"
      ],
      "execution_count": null,
      "outputs": []
    },
    {
      "cell_type": "code",
      "metadata": {
        "id": "M-US-vN26IV2"
      },
      "source": [
        "y=data[['quality']]"
      ],
      "execution_count": null,
      "outputs": []
    },
    {
      "cell_type": "code",
      "metadata": {
        "id": "z99cZ0e_6IV3"
      },
      "source": [
        "from sklearn.model_selection import train_test_split"
      ],
      "execution_count": null,
      "outputs": []
    },
    {
      "cell_type": "code",
      "metadata": {
        "id": "dkaBTMpc6IV4"
      },
      "source": [
        "X_train, X_test, y_train, y_test = train_test_split(\n",
        "    X, y, train_size = 0.7, random_state=42)"
      ],
      "execution_count": null,
      "outputs": []
    },
    {
      "cell_type": "markdown",
      "metadata": {
        "id": "IDDl8Tqc6IV4"
      },
      "source": [
        "# 2. Grid Search"
      ]
    },
    {
      "cell_type": "code",
      "metadata": {
        "id": "b4IEnloS6IV5"
      },
      "source": [
        "from sklearn.model_selection import GridSearchCV"
      ],
      "execution_count": null,
      "outputs": []
    },
    {
      "cell_type": "code",
      "metadata": {
        "id": "zL6aK2e16IV6"
      },
      "source": [
        "param_grid={'alpha': [1e-4, 1e-3, 1e-2, 0.1, 0.5, 1.0, 5.0, 10.0]}"
      ],
      "execution_count": null,
      "outputs": []
    },
    {
      "cell_type": "code",
      "metadata": {
        "id": "LaJa6nhZ6IV6"
      },
      "source": [
        "from sklearn.linear_model import Ridge"
      ],
      "execution_count": null,
      "outputs": []
    },
    {
      "cell_type": "code",
      "metadata": {
        "id": "3ZwEUq2v6IV6"
      },
      "source": [
        "grid_search=GridSearchCV(Ridge(), param_grid, cv=5, return_train_score=True)"
      ],
      "execution_count": null,
      "outputs": []
    },
    {
      "cell_type": "code",
      "metadata": {
        "colab": {
          "base_uri": "https://localhost:8080/"
        },
        "id": "tesp5eej6IV7",
        "outputId": "5baa9174-be0a-4741-f46d-61467f0154ea"
      },
      "source": [
        "grid_search.fit(X_train, y_train)"
      ],
      "execution_count": null,
      "outputs": [
        {
          "output_type": "execute_result",
          "data": {
            "text/plain": [
              "GridSearchCV(cv=5, estimator=Ridge(),\n",
              "             param_grid={'alpha': [0.0001, 0.001, 0.01, 0.1, 0.5, 1.0, 5.0,\n",
              "                                   10.0]},\n",
              "             return_train_score=True)"
            ]
          },
          "metadata": {},
          "execution_count": 13
        }
      ]
    },
    {
      "cell_type": "code",
      "metadata": {
        "colab": {
          "base_uri": "https://localhost:8080/"
        },
        "id": "vRyL3RN56IV8",
        "outputId": "3be96494-6981-4d04-cec7-133928212494"
      },
      "source": [
        "print(\"Best Parameter: {}\".format(grid_search.best_params_))"
      ],
      "execution_count": null,
      "outputs": [
        {
          "output_type": "stream",
          "name": "stdout",
          "text": [
            "Best Parameter: {'alpha': 1.0}\n"
          ]
        }
      ]
    },
    {
      "cell_type": "code",
      "metadata": {
        "colab": {
          "base_uri": "https://localhost:8080/"
        },
        "id": "ecWGiJRS6IV8",
        "outputId": "0484603a-bbe0-487c-e3cd-e23074258a17"
      },
      "source": [
        "print(\"Best Cross-validity Score: {:.3f}\".format(grid_search.best_score_))"
      ],
      "execution_count": null,
      "outputs": [
        {
          "output_type": "stream",
          "name": "stdout",
          "text": [
            "Best Cross-validity Score: 0.336\n"
          ]
        }
      ]
    },
    {
      "cell_type": "code",
      "metadata": {
        "colab": {
          "base_uri": "https://localhost:8080/"
        },
        "id": "N_DGgOmg6IV9",
        "outputId": "6da2baf9-1bb0-4556-84ac-cba84de714e2"
      },
      "source": [
        "print(\"Test set Score: {:.3f}\".format(grid_search.score(X_test, y_test)))"
      ],
      "execution_count": null,
      "outputs": [
        {
          "output_type": "stream",
          "name": "stdout",
          "text": [
            "Test set Score: 0.347\n"
          ]
        }
      ]
    },
    {
      "cell_type": "code",
      "metadata": {
        "id": "7PNItOs76IV9"
      },
      "source": [
        "result_grid= pd.DataFrame(grid_search.cv_results_)"
      ],
      "execution_count": null,
      "outputs": []
    },
    {
      "cell_type": "code",
      "metadata": {
        "colab": {
          "base_uri": "https://localhost:8080/",
          "height": 454
        },
        "id": "Ryf7_6aQ6IV9",
        "outputId": "1f5721f2-f9d8-4a23-cfcc-4ccfa142d471"
      },
      "source": [
        "result_grid"
      ],
      "execution_count": null,
      "outputs": [
        {
          "output_type": "execute_result",
          "data": {
            "text/html": [
              "<div>\n",
              "<style scoped>\n",
              "    .dataframe tbody tr th:only-of-type {\n",
              "        vertical-align: middle;\n",
              "    }\n",
              "\n",
              "    .dataframe tbody tr th {\n",
              "        vertical-align: top;\n",
              "    }\n",
              "\n",
              "    .dataframe thead th {\n",
              "        text-align: right;\n",
              "    }\n",
              "</style>\n",
              "<table border=\"1\" class=\"dataframe\">\n",
              "  <thead>\n",
              "    <tr style=\"text-align: right;\">\n",
              "      <th></th>\n",
              "      <th>mean_fit_time</th>\n",
              "      <th>std_fit_time</th>\n",
              "      <th>mean_score_time</th>\n",
              "      <th>std_score_time</th>\n",
              "      <th>param_alpha</th>\n",
              "      <th>params</th>\n",
              "      <th>split0_test_score</th>\n",
              "      <th>split1_test_score</th>\n",
              "      <th>split2_test_score</th>\n",
              "      <th>split3_test_score</th>\n",
              "      <th>split4_test_score</th>\n",
              "      <th>mean_test_score</th>\n",
              "      <th>std_test_score</th>\n",
              "      <th>rank_test_score</th>\n",
              "      <th>split0_train_score</th>\n",
              "      <th>split1_train_score</th>\n",
              "      <th>split2_train_score</th>\n",
              "      <th>split3_train_score</th>\n",
              "      <th>split4_train_score</th>\n",
              "      <th>mean_train_score</th>\n",
              "      <th>std_train_score</th>\n",
              "    </tr>\n",
              "  </thead>\n",
              "  <tbody>\n",
              "    <tr>\n",
              "      <th>0</th>\n",
              "      <td>0.011928</td>\n",
              "      <td>0.009858</td>\n",
              "      <td>0.005235</td>\n",
              "      <td>0.000524</td>\n",
              "      <td>0.0001</td>\n",
              "      <td>{'alpha': 0.0001}</td>\n",
              "      <td>0.364618</td>\n",
              "      <td>0.202111</td>\n",
              "      <td>0.349531</td>\n",
              "      <td>0.306502</td>\n",
              "      <td>0.452615</td>\n",
              "      <td>0.335075</td>\n",
              "      <td>0.081723</td>\n",
              "      <td>6</td>\n",
              "      <td>0.356019</td>\n",
              "      <td>0.394011</td>\n",
              "      <td>0.361156</td>\n",
              "      <td>0.368514</td>\n",
              "      <td>0.338663</td>\n",
              "      <td>0.363672</td>\n",
              "      <td>0.018079</td>\n",
              "    </tr>\n",
              "    <tr>\n",
              "      <th>1</th>\n",
              "      <td>0.006895</td>\n",
              "      <td>0.001278</td>\n",
              "      <td>0.004724</td>\n",
              "      <td>0.000353</td>\n",
              "      <td>0.001</td>\n",
              "      <td>{'alpha': 0.001}</td>\n",
              "      <td>0.365314</td>\n",
              "      <td>0.201863</td>\n",
              "      <td>0.349988</td>\n",
              "      <td>0.306716</td>\n",
              "      <td>0.452469</td>\n",
              "      <td>0.335270</td>\n",
              "      <td>0.081814</td>\n",
              "      <td>5</td>\n",
              "      <td>0.355798</td>\n",
              "      <td>0.393976</td>\n",
              "      <td>0.360987</td>\n",
              "      <td>0.368512</td>\n",
              "      <td>0.338603</td>\n",
              "      <td>0.363575</td>\n",
              "      <td>0.018107</td>\n",
              "    </tr>\n",
              "    <tr>\n",
              "      <th>2</th>\n",
              "      <td>0.005964</td>\n",
              "      <td>0.000349</td>\n",
              "      <td>0.005010</td>\n",
              "      <td>0.000714</td>\n",
              "      <td>0.01</td>\n",
              "      <td>{'alpha': 0.01}</td>\n",
              "      <td>0.365595</td>\n",
              "      <td>0.201852</td>\n",
              "      <td>0.350163</td>\n",
              "      <td>0.306740</td>\n",
              "      <td>0.452448</td>\n",
              "      <td>0.335360</td>\n",
              "      <td>0.081837</td>\n",
              "      <td>4</td>\n",
              "      <td>0.355552</td>\n",
              "      <td>0.393936</td>\n",
              "      <td>0.360792</td>\n",
              "      <td>0.368509</td>\n",
              "      <td>0.338533</td>\n",
              "      <td>0.363465</td>\n",
              "      <td>0.018140</td>\n",
              "    </tr>\n",
              "    <tr>\n",
              "      <th>3</th>\n",
              "      <td>0.006554</td>\n",
              "      <td>0.001103</td>\n",
              "      <td>0.006297</td>\n",
              "      <td>0.003168</td>\n",
              "      <td>0.1</td>\n",
              "      <td>{'alpha': 0.1}</td>\n",
              "      <td>0.365568</td>\n",
              "      <td>0.203327</td>\n",
              "      <td>0.350128</td>\n",
              "      <td>0.305799</td>\n",
              "      <td>0.453378</td>\n",
              "      <td>0.335640</td>\n",
              "      <td>0.081689</td>\n",
              "      <td>3</td>\n",
              "      <td>0.355474</td>\n",
              "      <td>0.393880</td>\n",
              "      <td>0.360725</td>\n",
              "      <td>0.368497</td>\n",
              "      <td>0.338479</td>\n",
              "      <td>0.363411</td>\n",
              "      <td>0.018144</td>\n",
              "    </tr>\n",
              "    <tr>\n",
              "      <th>4</th>\n",
              "      <td>0.006308</td>\n",
              "      <td>0.000754</td>\n",
              "      <td>0.006001</td>\n",
              "      <td>0.001992</td>\n",
              "      <td>0.5</td>\n",
              "      <td>{'alpha': 0.5}</td>\n",
              "      <td>0.364967</td>\n",
              "      <td>0.207929</td>\n",
              "      <td>0.349594</td>\n",
              "      <td>0.302550</td>\n",
              "      <td>0.456078</td>\n",
              "      <td>0.336223</td>\n",
              "      <td>0.081196</td>\n",
              "      <td>2</td>\n",
              "      <td>0.354971</td>\n",
              "      <td>0.393162</td>\n",
              "      <td>0.360254</td>\n",
              "      <td>0.368301</td>\n",
              "      <td>0.337842</td>\n",
              "      <td>0.362906</td>\n",
              "      <td>0.018126</td>\n",
              "    </tr>\n",
              "    <tr>\n",
              "      <th>5</th>\n",
              "      <td>0.005846</td>\n",
              "      <td>0.000092</td>\n",
              "      <td>0.004968</td>\n",
              "      <td>0.000753</td>\n",
              "      <td>1</td>\n",
              "      <td>{'alpha': 1.0}</td>\n",
              "      <td>0.364011</td>\n",
              "      <td>0.211324</td>\n",
              "      <td>0.348831</td>\n",
              "      <td>0.299882</td>\n",
              "      <td>0.457632</td>\n",
              "      <td>0.336336</td>\n",
              "      <td>0.080736</td>\n",
              "      <td>1</td>\n",
              "      <td>0.354122</td>\n",
              "      <td>0.391962</td>\n",
              "      <td>0.359464</td>\n",
              "      <td>0.367923</td>\n",
              "      <td>0.336750</td>\n",
              "      <td>0.362044</td>\n",
              "      <td>0.018104</td>\n",
              "    </tr>\n",
              "    <tr>\n",
              "      <th>6</th>\n",
              "      <td>0.006157</td>\n",
              "      <td>0.000323</td>\n",
              "      <td>0.005356</td>\n",
              "      <td>0.001234</td>\n",
              "      <td>5</td>\n",
              "      <td>{'alpha': 5.0}</td>\n",
              "      <td>0.356832</td>\n",
              "      <td>0.221131</td>\n",
              "      <td>0.344753</td>\n",
              "      <td>0.291545</td>\n",
              "      <td>0.456565</td>\n",
              "      <td>0.334165</td>\n",
              "      <td>0.077719</td>\n",
              "      <td>7</td>\n",
              "      <td>0.348255</td>\n",
              "      <td>0.384550</td>\n",
              "      <td>0.353895</td>\n",
              "      <td>0.364110</td>\n",
              "      <td>0.329932</td>\n",
              "      <td>0.356148</td>\n",
              "      <td>0.018026</td>\n",
              "    </tr>\n",
              "    <tr>\n",
              "      <th>7</th>\n",
              "      <td>0.006773</td>\n",
              "      <td>0.001362</td>\n",
              "      <td>0.004736</td>\n",
              "      <td>0.000060</td>\n",
              "      <td>10</td>\n",
              "      <td>{'alpha': 10.0}</td>\n",
              "      <td>0.348643</td>\n",
              "      <td>0.225485</td>\n",
              "      <td>0.340595</td>\n",
              "      <td>0.286221</td>\n",
              "      <td>0.451210</td>\n",
              "      <td>0.330431</td>\n",
              "      <td>0.074821</td>\n",
              "      <td>8</td>\n",
              "      <td>0.342436</td>\n",
              "      <td>0.377772</td>\n",
              "      <td>0.348068</td>\n",
              "      <td>0.359139</td>\n",
              "      <td>0.323965</td>\n",
              "      <td>0.350276</td>\n",
              "      <td>0.017850</td>\n",
              "    </tr>\n",
              "  </tbody>\n",
              "</table>\n",
              "</div>"
            ],
            "text/plain": [
              "   mean_fit_time  std_fit_time  ...  mean_train_score  std_train_score\n",
              "0       0.011928      0.009858  ...          0.363672         0.018079\n",
              "1       0.006895      0.001278  ...          0.363575         0.018107\n",
              "2       0.005964      0.000349  ...          0.363465         0.018140\n",
              "3       0.006554      0.001103  ...          0.363411         0.018144\n",
              "4       0.006308      0.000754  ...          0.362906         0.018126\n",
              "5       0.005846      0.000092  ...          0.362044         0.018104\n",
              "6       0.006157      0.000323  ...          0.356148         0.018026\n",
              "7       0.006773      0.001362  ...          0.350276         0.017850\n",
              "\n",
              "[8 rows x 21 columns]"
            ]
          },
          "metadata": {},
          "execution_count": 18
        }
      ]
    },
    {
      "cell_type": "code",
      "metadata": {
        "colab": {
          "base_uri": "https://localhost:8080/",
          "height": 285
        },
        "id": "gH1ihEXR6IV-",
        "outputId": "69086fe7-6270-4432-de1c-d30f6fa82e1d"
      },
      "source": [
        "import matplotlib.pyplot as plt\n",
        "plt.plot(result_grid['param_alpha'],  result_grid['mean_train_score'], label=\"Train\")\n",
        "plt.plot(result_grid['param_alpha'],  result_grid['mean_test_score'], label=\"Test\")\n",
        "plt.legend()"
      ],
      "execution_count": null,
      "outputs": [
        {
          "output_type": "execute_result",
          "data": {
            "text/plain": [
              "<matplotlib.legend.Legend at 0x7f30297ee250>"
            ]
          },
          "metadata": {},
          "execution_count": 31
        },
        {
          "output_type": "display_data",
          "data": {
            "image/png": "[encoded data removed]",
            "text/plain": [
              "<Figure size 432x288 with 1 Axes>"
            ]
          },
          "metadata": {
            "needs_background": "light"
          }
        }
      ]
    },
    {
      "cell_type": "markdown",
      "metadata": {
        "id": "ZRjxf1JK6IV-"
      },
      "source": [
        "# 3. Random Search"
      ]
    },
    {
      "cell_type": "code",
      "metadata": {
        "id": "-TcVqFsC6IV-"
      },
      "source": [
        "from sklearn.model_selection import RandomizedSearchCV"
      ],
      "execution_count": null,
      "outputs": []
    },
    {
      "cell_type": "code",
      "metadata": {
        "id": "DcVgNGiS6IV_"
      },
      "source": [
        "from scipy.stats import randint"
      ],
      "execution_count": null,
      "outputs": []
    },
    {
      "cell_type": "code",
      "metadata": {
        "id": "nkHovahN6IV_"
      },
      "source": [
        "param_distribs = {'alpha': randint(low=0.0001, high=100)}"
      ],
      "execution_count": null,
      "outputs": []
    },
    {
      "cell_type": "code",
      "metadata": {
        "id": "MnsFGTAW6IV_"
      },
      "source": [
        "random_search=RandomizedSearchCV(Ridge(), param_distributions=param_distribs, cv=5,  n_iter=1000, return_train_score=True)"
      ],
      "execution_count": null,
      "outputs": []
    },
    {
      "cell_type": "code",
      "metadata": {
        "colab": {
          "base_uri": "https://localhost:8080/"
        },
        "id": "ztTxlEgp6IV_",
        "outputId": "65ab0385-c7df-499f-a681-8fa8af68b8e7"
      },
      "source": [
        "random_search.fit(X_train, y_train)"
      ],
      "execution_count": null,
      "outputs": [
        {
          "output_type": "execute_result",
          "data": {
            "text/plain": [
              "RandomizedSearchCV(cv=5, estimator=Ridge(), n_iter=1000,\n",
              "                   param_distributions={'alpha': <scipy.stats._distn_infrastructure.rv_frozen object at 0x7f30351a9a10>},\n",
              "                   return_train_score=True)"
            ]
          },
          "metadata": {},
          "execution_count": 24
        }
      ]
    },
    {
      "cell_type": "code",
      "metadata": {
        "colab": {
          "base_uri": "https://localhost:8080/"
        },
        "id": "oWLLg99j6IV_",
        "outputId": "df2ecec3-0445-41d7-d4fc-33aec0702d10"
      },
      "source": [
        "print(\"Best Parameter: {}\".format(random_search.best_params_))"
      ],
      "execution_count": null,
      "outputs": [
        {
          "output_type": "stream",
          "name": "stdout",
          "text": [
            "Best Parameter: {'alpha': 1}\n"
          ]
        }
      ]
    },
    {
      "cell_type": "code",
      "metadata": {
        "colab": {
          "base_uri": "https://localhost:8080/"
        },
        "id": "NThx3JsC6IWA",
        "outputId": "9145b8a9-ccb6-4292-c2df-fa4f9d147b99"
      },
      "source": [
        "print(\"Best Cross-validity Score: {:.3f}\".format(random_search.best_score_))"
      ],
      "execution_count": null,
      "outputs": [
        {
          "output_type": "stream",
          "name": "stdout",
          "text": [
            "Best Cross-validity Score: 0.336\n"
          ]
        }
      ]
    },
    {
      "cell_type": "code",
      "metadata": {
        "colab": {
          "base_uri": "https://localhost:8080/"
        },
        "id": "u03HW0lZ6IWA",
        "outputId": "1307a296-3f80-4a16-a9ce-e0e35d069ce6"
      },
      "source": [
        "print(\"Test set Score: {:.3f}\".format(random_search.score(X_test, y_test)))"
      ],
      "execution_count": null,
      "outputs": [
        {
          "output_type": "stream",
          "name": "stdout",
          "text": [
            "Test set Score: 0.347\n"
          ]
        }
      ]
    },
    {
      "cell_type": "code",
      "metadata": {
        "id": "-DT8sGPD6IWA"
      },
      "source": [
        "result_random= pd.DataFrame(random_search.cv_results_ )"
      ],
      "execution_count": null,
      "outputs": []
    },
    {
      "cell_type": "code",
      "metadata": {
        "colab": {
          "base_uri": "https://localhost:8080/",
          "height": 610
        },
        "id": "JSa8YTlE6IWB",
        "outputId": "cbdfdd42-8030-4cdc-b08b-95a06087ac9b"
      },
      "source": [
        "result_random"
      ],
      "execution_count": null,
      "outputs": [
        {
          "output_type": "execute_result",
          "data": {
            "text/html": [
              "<div>\n",
              "<style scoped>\n",
              "    .dataframe tbody tr th:only-of-type {\n",
              "        vertical-align: middle;\n",
              "    }\n",
              "\n",
              "    .dataframe tbody tr th {\n",
              "        vertical-align: top;\n",
              "    }\n",
              "\n",
              "    .dataframe thead th {\n",
              "        text-align: right;\n",
              "    }\n",
              "</style>\n",
              "<table border=\"1\" class=\"dataframe\">\n",
              "  <thead>\n",
              "    <tr style=\"text-align: right;\">\n",
              "      <th></th>\n",
              "      <th>mean_fit_time</th>\n",
              "      <th>std_fit_time</th>\n",
              "      <th>mean_score_time</th>\n",
              "      <th>std_score_time</th>\n",
              "      <th>param_alpha</th>\n",
              "      <th>params</th>\n",
              "      <th>split0_test_score</th>\n",
              "      <th>split1_test_score</th>\n",
              "      <th>split2_test_score</th>\n",
              "      <th>split3_test_score</th>\n",
              "      <th>split4_test_score</th>\n",
              "      <th>mean_test_score</th>\n",
              "      <th>std_test_score</th>\n",
              "      <th>rank_test_score</th>\n",
              "      <th>split0_train_score</th>\n",
              "      <th>split1_train_score</th>\n",
              "      <th>split2_train_score</th>\n",
              "      <th>split3_train_score</th>\n",
              "      <th>split4_train_score</th>\n",
              "      <th>mean_train_score</th>\n",
              "      <th>std_train_score</th>\n",
              "    </tr>\n",
              "  </thead>\n",
              "  <tbody>\n",
              "    <tr>\n",
              "      <th>0</th>\n",
              "      <td>0.009559</td>\n",
              "      <td>0.006340</td>\n",
              "      <td>0.006188</td>\n",
              "      <td>0.002662</td>\n",
              "      <td>21</td>\n",
              "      <td>{'alpha': 21}</td>\n",
              "      <td>0.333775</td>\n",
              "      <td>0.228731</td>\n",
              "      <td>0.332538</td>\n",
              "      <td>0.277107</td>\n",
              "      <td>0.440326</td>\n",
              "      <td>0.322496</td>\n",
              "      <td>0.070660</td>\n",
              "      <td>211</td>\n",
              "      <td>0.332618</td>\n",
              "      <td>0.366008</td>\n",
              "      <td>0.337686</td>\n",
              "      <td>0.349560</td>\n",
              "      <td>0.313946</td>\n",
              "      <td>0.339964</td>\n",
              "      <td>0.017358</td>\n",
              "    </tr>\n",
              "    <tr>\n",
              "      <th>1</th>\n",
              "      <td>0.006475</td>\n",
              "      <td>0.000519</td>\n",
              "      <td>0.004846</td>\n",
              "      <td>0.000173</td>\n",
              "      <td>38</td>\n",
              "      <td>{'alpha': 38}</td>\n",
              "      <td>0.317402</td>\n",
              "      <td>0.229141</td>\n",
              "      <td>0.322994</td>\n",
              "      <td>0.266132</td>\n",
              "      <td>0.427348</td>\n",
              "      <td>0.312603</td>\n",
              "      <td>0.066967</td>\n",
              "      <td>367</td>\n",
              "      <td>0.322014</td>\n",
              "      <td>0.352603</td>\n",
              "      <td>0.325903</td>\n",
              "      <td>0.338289</td>\n",
              "      <td>0.302683</td>\n",
              "      <td>0.328298</td>\n",
              "      <td>0.016685</td>\n",
              "    </tr>\n",
              "    <tr>\n",
              "      <th>2</th>\n",
              "      <td>0.006469</td>\n",
              "      <td>0.000419</td>\n",
              "      <td>0.005634</td>\n",
              "      <td>0.000292</td>\n",
              "      <td>7</td>\n",
              "      <td>{'alpha': 7}</td>\n",
              "      <td>0.353457</td>\n",
              "      <td>0.223311</td>\n",
              "      <td>0.343056</td>\n",
              "      <td>0.289225</td>\n",
              "      <td>0.454480</td>\n",
              "      <td>0.332706</td>\n",
              "      <td>0.076452</td>\n",
              "      <td>72</td>\n",
              "      <td>0.345789</td>\n",
              "      <td>0.381672</td>\n",
              "      <td>0.351461</td>\n",
              "      <td>0.362096</td>\n",
              "      <td>0.327369</td>\n",
              "      <td>0.353677</td>\n",
              "      <td>0.017966</td>\n",
              "    </tr>\n",
              "    <tr>\n",
              "      <th>3</th>\n",
              "      <td>0.006334</td>\n",
              "      <td>0.000524</td>\n",
              "      <td>0.005119</td>\n",
              "      <td>0.000408</td>\n",
              "      <td>46</td>\n",
              "      <td>{'alpha': 46}</td>\n",
              "      <td>0.311540</td>\n",
              "      <td>0.228802</td>\n",
              "      <td>0.319456</td>\n",
              "      <td>0.261902</td>\n",
              "      <td>0.422404</td>\n",
              "      <td>0.308821</td>\n",
              "      <td>0.065766</td>\n",
              "      <td>456</td>\n",
              "      <td>0.318187</td>\n",
              "      <td>0.347621</td>\n",
              "      <td>0.321542</td>\n",
              "      <td>0.334080</td>\n",
              "      <td>0.298505</td>\n",
              "      <td>0.323987</td>\n",
              "      <td>0.016428</td>\n",
              "    </tr>\n",
              "    <tr>\n",
              "      <th>4</th>\n",
              "      <td>0.006003</td>\n",
              "      <td>0.000268</td>\n",
              "      <td>0.004783</td>\n",
              "      <td>0.000075</td>\n",
              "      <td>30</td>\n",
              "      <td>{'alpha': 30}</td>\n",
              "      <td>0.324319</td>\n",
              "      <td>0.229251</td>\n",
              "      <td>0.327097</td>\n",
              "      <td>0.270919</td>\n",
              "      <td>0.432969</td>\n",
              "      <td>0.316911</td>\n",
              "      <td>0.068451</td>\n",
              "      <td>297</td>\n",
              "      <td>0.326501</td>\n",
              "      <td>0.358354</td>\n",
              "      <td>0.330949</td>\n",
              "      <td>0.343141</td>\n",
              "      <td>0.307509</td>\n",
              "      <td>0.333291</td>\n",
              "      <td>0.016979</td>\n",
              "    </tr>\n",
              "    <tr>\n",
              "      <th>...</th>\n",
              "      <td>...</td>\n",
              "      <td>...</td>\n",
              "      <td>...</td>\n",
              "      <td>...</td>\n",
              "      <td>...</td>\n",
              "      <td>...</td>\n",
              "      <td>...</td>\n",
              "      <td>...</td>\n",
              "      <td>...</td>\n",
              "      <td>...</td>\n",
              "      <td>...</td>\n",
              "      <td>...</td>\n",
              "      <td>...</td>\n",
              "      <td>...</td>\n",
              "      <td>...</td>\n",
              "      <td>...</td>\n",
              "      <td>...</td>\n",
              "      <td>...</td>\n",
              "      <td>...</td>\n",
              "      <td>...</td>\n",
              "      <td>...</td>\n",
              "    </tr>\n",
              "    <tr>\n",
              "      <th>995</th>\n",
              "      <td>0.005929</td>\n",
              "      <td>0.000430</td>\n",
              "      <td>0.004724</td>\n",
              "      <td>0.000181</td>\n",
              "      <td>95</td>\n",
              "      <td>{'alpha': 95}</td>\n",
              "      <td>0.288551</td>\n",
              "      <td>0.226224</td>\n",
              "      <td>0.305312</td>\n",
              "      <td>0.243804</td>\n",
              "      <td>0.400951</td>\n",
              "      <td>0.292968</td>\n",
              "      <td>0.061162</td>\n",
              "      <td>948</td>\n",
              "      <td>0.302762</td>\n",
              "      <td>0.327123</td>\n",
              "      <td>0.303589</td>\n",
              "      <td>0.316779</td>\n",
              "      <td>0.281284</td>\n",
              "      <td>0.306307</td>\n",
              "      <td>0.015421</td>\n",
              "    </tr>\n",
              "    <tr>\n",
              "      <th>996</th>\n",
              "      <td>0.006334</td>\n",
              "      <td>0.000852</td>\n",
              "      <td>0.004625</td>\n",
              "      <td>0.000045</td>\n",
              "      <td>25</td>\n",
              "      <td>{'alpha': 25}</td>\n",
              "      <td>0.329319</td>\n",
              "      <td>0.229087</td>\n",
              "      <td>0.330001</td>\n",
              "      <td>0.274240</td>\n",
              "      <td>0.436904</td>\n",
              "      <td>0.319910</td>\n",
              "      <td>0.069588</td>\n",
              "      <td>246</td>\n",
              "      <td>0.329735</td>\n",
              "      <td>0.362429</td>\n",
              "      <td>0.334532</td>\n",
              "      <td>0.346567</td>\n",
              "      <td>0.310933</td>\n",
              "      <td>0.336839</td>\n",
              "      <td>0.017184</td>\n",
              "    </tr>\n",
              "    <tr>\n",
              "      <th>997</th>\n",
              "      <td>0.006470</td>\n",
              "      <td>0.001485</td>\n",
              "      <td>0.004584</td>\n",
              "      <td>0.000045</td>\n",
              "      <td>90</td>\n",
              "      <td>{'alpha': 90}</td>\n",
              "      <td>0.290255</td>\n",
              "      <td>0.226448</td>\n",
              "      <td>0.306366</td>\n",
              "      <td>0.245227</td>\n",
              "      <td>0.402680</td>\n",
              "      <td>0.294195</td>\n",
              "      <td>0.061515</td>\n",
              "      <td>894</td>\n",
              "      <td>0.303937</td>\n",
              "      <td>0.328693</td>\n",
              "      <td>0.304970</td>\n",
              "      <td>0.318103</td>\n",
              "      <td>0.282606</td>\n",
              "      <td>0.307662</td>\n",
              "      <td>0.015494</td>\n",
              "    </tr>\n",
              "    <tr>\n",
              "      <th>998</th>\n",
              "      <td>0.005706</td>\n",
              "      <td>0.000089</td>\n",
              "      <td>0.004545</td>\n",
              "      <td>0.000025</td>\n",
              "      <td>66</td>\n",
              "      <td>{'alpha': 66}</td>\n",
              "      <td>0.300115</td>\n",
              "      <td>0.227686</td>\n",
              "      <td>0.312456</td>\n",
              "      <td>0.253205</td>\n",
              "      <td>0.412209</td>\n",
              "      <td>0.301134</td>\n",
              "      <td>0.063496</td>\n",
              "      <td>661</td>\n",
              "      <td>0.310622</td>\n",
              "      <td>0.337621</td>\n",
              "      <td>0.312797</td>\n",
              "      <td>0.325634</td>\n",
              "      <td>0.290113</td>\n",
              "      <td>0.315357</td>\n",
              "      <td>0.015922</td>\n",
              "    </tr>\n",
              "    <tr>\n",
              "      <th>999</th>\n",
              "      <td>0.007865</td>\n",
              "      <td>0.003265</td>\n",
              "      <td>0.004647</td>\n",
              "      <td>0.000111</td>\n",
              "      <td>44</td>\n",
              "      <td>{'alpha': 44}</td>\n",
              "      <td>0.312920</td>\n",
              "      <td>0.228899</td>\n",
              "      <td>0.320294</td>\n",
              "      <td>0.262913</td>\n",
              "      <td>0.423584</td>\n",
              "      <td>0.309722</td>\n",
              "      <td>0.066046</td>\n",
              "      <td>432</td>\n",
              "      <td>0.319091</td>\n",
              "      <td>0.348803</td>\n",
              "      <td>0.322577</td>\n",
              "      <td>0.335079</td>\n",
              "      <td>0.299497</td>\n",
              "      <td>0.325009</td>\n",
              "      <td>0.016489</td>\n",
              "    </tr>\n",
              "  </tbody>\n",
              "</table>\n",
              "<p>1000 rows × 21 columns</p>\n",
              "</div>"
            ],
            "text/plain": [
              "     mean_fit_time  std_fit_time  ...  mean_train_score  std_train_score\n",
              "0         0.009559      0.006340  ...          0.339964         0.017358\n",
              "1         0.006475      0.000519  ...          0.328298         0.016685\n",
              "2         0.006469      0.000419  ...          0.353677         0.017966\n",
              "3         0.006334      0.000524  ...          0.323987         0.016428\n",
              "4         0.006003      0.000268  ...          0.333291         0.016979\n",
              "..             ...           ...  ...               ...              ...\n",
              "995       0.005929      0.000430  ...          0.306307         0.015421\n",
              "996       0.006334      0.000852  ...          0.336839         0.017184\n",
              "997       0.006470      0.001485  ...          0.307662         0.015494\n",
              "998       0.005706      0.000089  ...          0.315357         0.015922\n",
              "999       0.007865      0.003265  ...          0.325009         0.016489\n",
              "\n",
              "[1000 rows x 21 columns]"
            ]
          },
          "metadata": {},
          "execution_count": 29
        }
      ]
    },
    {
      "cell_type": "code",
      "metadata": {
        "colab": {
          "base_uri": "https://localhost:8080/",
          "height": 283
        },
        "id": "nwbwGQXL6IWB",
        "outputId": "626f74af-7003-457a-ec43-f21115e08064"
      },
      "source": [
        "import matplotlib.pyplot as plt\n",
        "plt.plot(result_random['param_alpha'], result_random['mean_train_score'], label=\"Train\")\n",
        "plt.plot(result_random['param_alpha'], result_random['mean_test_score'], label=\"Test\")\n",
        "plt.legend()"
      ],
      "execution_count": null,
      "outputs": [
        {
          "output_type": "execute_result",
          "data": {
            "text/plain": [
              "<matplotlib.legend.Legend at 0x7f3029869a10>"
            ]
          },
          "metadata": {},
          "execution_count": 32
        },
        {
          "output_type": "display_data",
          "data": {
            "image/png": "[encoded data removed]",
            "text/plain": [
              "<Figure size 432x288 with 1 Axes>"
            ]
          },
          "metadata": {
            "needs_background": "light"
          }
        }
      ]
    }
  ]
}