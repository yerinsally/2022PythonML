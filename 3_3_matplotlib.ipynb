{
  "cells": [
    {
      "cell_type": "markdown",
      "metadata": {
        "id": "LPk6O_y8JMf7"
      },
      "source": [
        "# Matplotlib"
      ]
    },
    {
      "cell_type": "markdown",
      "metadata": {
        "id": "myr_QXGIJMgA"
      },
      "source": [
        "Update date: April 01, 2022.\n",
        "Youngmin Park, All rights reserved."
      ]
    },
    {
      "cell_type": "markdown",
      "metadata": {
        "id": "RtrztIo9JMgB"
      },
      "source": [
        "#### matplotlib으로 그래프 그리기"
      ]
    },
    {
      "cell_type": "code",
      "execution_count": null,
      "metadata": {
        "id": "bz5En4mWJMgC"
      },
      "outputs": [],
      "source": [
        "import numpy as np\n",
        "import pandas as pd"
      ]
    },
    {
      "cell_type": "code",
      "execution_count": null,
      "metadata": {
        "ExecuteTime": {
          "end_time": "2021-07-08T10:34:43.966106Z",
          "start_time": "2021-07-08T10:34:43.142915Z"
        },
        "colab": {
          "base_uri": "https://localhost:8080/"
        },
        "id": "H3T1jtCiJMgD",
        "outputId": "6185b945-f366-44ec-d3ab-4c18de270cf3"
      },
      "outputs": [
        {
          "output_type": "stream",
          "name": "stdout",
          "text": [
            "Reading package lists... Done\n",
            "Building dependency tree       \n",
            "Reading state information... Done\n",
            "fonts-nanum is already the newest version (20170925-1).\n",
            "The following package was automatically installed and is no longer required:\n",
            "  libnvidia-common-460\n",
            "Use 'sudo apt autoremove' to remove it.\n",
            "0 upgraded, 0 newly installed, 0 to remove and 22 not upgraded.\n",
            "/usr/share/fonts: caching, new cache contents: 0 fonts, 1 dirs\n",
            "/usr/share/fonts/truetype: caching, new cache contents: 0 fonts, 3 dirs\n",
            "/usr/share/fonts/truetype/humor-sans: caching, new cache contents: 1 fonts, 0 dirs\n",
            "/usr/share/fonts/truetype/liberation: caching, new cache contents: 16 fonts, 0 dirs\n",
            "/usr/share/fonts/truetype/nanum: caching, new cache contents: 10 fonts, 0 dirs\n",
            "/usr/local/share/fonts: caching, new cache contents: 0 fonts, 0 dirs\n",
            "/root/.local/share/fonts: skipping, no such directory\n",
            "/root/.fonts: skipping, no such directory\n",
            "/var/cache/fontconfig: cleaning cache directory\n",
            "/root/.cache/fontconfig: not cleaning non-existent cache directory\n",
            "/root/.fontconfig: not cleaning non-existent cache directory\n",
            "fc-cache: succeeded\n"
          ]
        }
      ],
      "source": [
        "from matplotlib import pyplot as plt\n",
        "%matplotlib inline\n",
        "\n",
        "# 한글 폰트 설정 (윈도우 Malgun Gothic,  리눅스&Mac AppltGothic)\n",
        "import matplotlib.font_manager as fm\n",
        "!sudo apt-get install -y fonts-nanum\n",
        "!sudo fc-cache -fv\n",
        "!rm ~/.cache/matplotlib -rf\n",
        "plt.rc('font', family='NanumBarunGothic') "
      ]
    },
    {
      "cell_type": "code",
      "execution_count": null,
      "metadata": {
        "id": "7p7Cx41GJMgE"
      },
      "outputs": [],
      "source": [
        "# 현대자동차 20일간 주가 변화\n",
        "# X축 : 날짜\n",
        "날짜_리스트 = [\n",
        "          '2018-06-01',\n",
        "          '2018-06-04',\n",
        "          '2018-06-05', \n",
        "          '2018-06-07',\n",
        "          '2018-06-08',\n",
        "          '2018-06-11',\n",
        "          '2018-06-12',\n",
        "          '2018-06-14',\n",
        "          '2018-06-15',\n",
        "          '2018-06-18',\n",
        "         ]"
      ]
    },
    {
      "cell_type": "code",
      "execution_count": null,
      "metadata": {
        "id": "bUBQn82RJMgF"
      },
      "outputs": [],
      "source": [
        "# Y축 : 날짜별 주가\n",
        "날짜별_주가_리스트 = [\n",
        "              140000,\n",
        "              143000,\n",
        "              142500,\n",
        "              142500,\n",
        "              141000,\n",
        "              139500,\n",
        "              140500,\n",
        "              135000,\n",
        "              134000,\n",
        "              135000,\n",
        "             ]"
      ]
    },
    {
      "cell_type": "code",
      "execution_count": null,
      "metadata": {
        "colab": {
          "base_uri": "https://localhost:8080/",
          "height": 265
        },
        "id": "yxO44ioLJMgG",
        "outputId": "98542a25-a0d3-42c8-972a-3d955936e901"
      },
      "outputs": [
        {
          "output_type": "display_data",
          "data": {
            "text/plain": [
              "<Figure size 864x288 with 1 Axes>"
            ],
            "image/png": "[encoded data removed]"
          },
          "metadata": {
            "needs_background": "light"
          }
        }
      ],
      "source": [
        "plt.figure(figsize=(12, 4))\n",
        "plt.plot(날짜_리스트, 날짜별_주가_리스트)\n",
        "plt.show() # 그래프 출력"
      ]
    },
    {
      "cell_type": "code",
      "execution_count": null,
      "metadata": {
        "colab": {
          "base_uri": "https://localhost:8080/",
          "height": 280
        },
        "id": "jiUW_mXRJMgH",
        "outputId": "e9df4d35-1b9c-4fef-d391-ad5d17ecbe8a"
      },
      "outputs": [
        {
          "output_type": "display_data",
          "data": {
            "text/plain": [
              "<Figure size 864x288 with 1 Axes>"
            ],
            "image/png": "[encoded data removed]"
          },
          "metadata": {
            "needs_background": "light"
          }
        }
      ],
      "source": [
        "plt.figure(figsize=(12, 4))\n",
        "plt.plot(날짜_리스트, 날짜별_주가_리스트, label='주식가격')\n",
        "plt.title('현대자동차 10일간 주가 변화')\n",
        "plt.legend() # 범례 설정\n",
        "plt.show() # 그래프 출력"
      ]
    },
    {
      "cell_type": "code",
      "execution_count": null,
      "metadata": {
        "id": "1g00GbB7JMgI"
      },
      "outputs": [],
      "source": [
        "X = np.array([0, 1, 2, 3, 4])\n",
        "X축_레이블 = ['광고1_클릭횟수', '광고2_클릭횟수', '광고3_클릭횟수', '광고4_클릭횟수', '광고5_클릭횟수']\n",
        "광고별_남성_클릭횟수 = [20, 34, 30, 35, 27]\n",
        "광고별_여성_클릭횟수 = [25, 32, 34, 20, 25]"
      ]
    },
    {
      "cell_type": "code",
      "execution_count": null,
      "metadata": {
        "colab": {
          "base_uri": "https://localhost:8080/",
          "height": 265
        },
        "id": "lGug0PvjJMgJ",
        "outputId": "9ad741c6-de02-48f8-f0b5-0b34b3d20598"
      },
      "outputs": [
        {
          "output_type": "display_data",
          "data": {
            "text/plain": [
              "<Figure size 864x288 with 1 Axes>"
            ],
            "image/png": "[encoded data removed]"
          },
          "metadata": {
            "needs_background": "light"
          }
        }
      ],
      "source": [
        "바너비 = 0.2\n",
        "\n",
        "plt.figure(figsize=(12,4))\n",
        "plt.bar(X, 광고별_남성_클릭횟수, width=바너비, label='남성')\n",
        "plt.show()"
      ]
    },
    {
      "cell_type": "code",
      "execution_count": null,
      "metadata": {
        "colab": {
          "base_uri": "https://localhost:8080/"
        },
        "id": "xC8nC9i2JMgJ",
        "outputId": "ad3c596b-8aba-478b-e6ea-412b63992b23"
      },
      "outputs": [
        {
          "output_type": "stream",
          "name": "stdout",
          "text": [
            "[0 1 2 3 4]\n",
            "[-0.2  0.8  1.8  2.8  3.8]\n",
            "[0.2 1.2 2.2 3.2 4.2]\n"
          ]
        }
      ],
      "source": [
        "바너비 = 0.4\n",
        "\n",
        "print(X)\n",
        "print(X - 바너비/2)\n",
        "print(X + 바너비/2)"
      ]
    },
    {
      "cell_type": "code",
      "execution_count": null,
      "metadata": {
        "colab": {
          "base_uri": "https://localhost:8080/",
          "height": 265
        },
        "id": "uHbtqLK-JMgK",
        "outputId": "58d0feb0-9999-4b8f-ebe3-9026e2decba9"
      },
      "outputs": [
        {
          "output_type": "display_data",
          "data": {
            "text/plain": [
              "<Figure size 864x288 with 1 Axes>"
            ],
            "image/png": "[encoded data removed]"
          },
          "metadata": {
            "needs_background": "light"
          }
        }
      ],
      "source": [
        "plt.figure(figsize=(12,4))\n",
        "plt.bar(X - 바너비/2, 광고별_남성_클릭횟수, width=바너비)\n",
        "plt.bar(X + 바너비/2, 광고별_여성_클릭횟수, width=바너비)\n",
        "plt.show()"
      ]
    },
    {
      "cell_type": "code",
      "execution_count": null,
      "metadata": {
        "colab": {
          "base_uri": "https://localhost:8080/",
          "height": 389
        },
        "id": "KJf4vjN8JMgK",
        "outputId": "9cdf27b1-5cf5-490e-b98a-a6d1114a8d24"
      },
      "outputs": [
        {
          "output_type": "display_data",
          "data": {
            "text/plain": [
              "<Figure size 864x432 with 1 Axes>"
            ],
            "image/png": "[encoded data removed]"
          },
          "metadata": {
            "needs_background": "light"
          }
        }
      ],
      "source": [
        "바너비 = 0.4\n",
        "\n",
        "plt.figure(figsize=(12,6))\n",
        "plt.bar(X - 바너비/2, 광고별_남성_클릭횟수, width=바너비, label='남성')\n",
        "plt.bar(X + 바너비/2, 광고별_여성_클릭횟수, width=바너비, label='여성')\n",
        "\n",
        "plt.title('광고별 남녀 클릭횟수 분석')\n",
        "plt.ylabel('클릭 횟수')\n",
        "plt.xticks(X, labels=X축_레이블)\n",
        "plt.legend()\n",
        "\n",
        "plt.show()"
      ]
    },
    {
      "cell_type": "code",
      "execution_count": null,
      "metadata": {
        "colab": {
          "base_uri": "https://localhost:8080/",
          "height": 279
        },
        "id": "ymzbm4U3JMgL",
        "outputId": "76b287a9-a64f-4f70-f990-3b94b94eed14"
      },
      "outputs": [
        {
          "output_type": "display_data",
          "data": {
            "text/plain": [
              "<Figure size 432x288 with 1 Axes>"
            ],
            "image/png": "[encoded data removed]"
          },
          "metadata": {
            "needs_background": "light"
          }
        }
      ],
      "source": [
        "X축_데이터 = [170, 182, 155, 160, 163] # 키\n",
        "Y축_데이터 = [60, 71, 49, 53, 56]      # 몸무게\n",
        "\n",
        "plt.scatter(X축_데이터, Y축_데이터)\n",
        "plt.xlabel('키')\n",
        "plt.ylabel('몸무게')\n",
        "\n",
        "plt.show()"
      ]
    },
    {
      "cell_type": "code",
      "execution_count": null,
      "metadata": {
        "colab": {
          "base_uri": "https://localhost:8080/",
          "height": 279
        },
        "id": "Qs35cvfvJMgM",
        "outputId": "c98e8c51-6363-4934-fa97-2f21773cf200"
      },
      "outputs": [
        {
          "output_type": "display_data",
          "data": {
            "text/plain": [
              "<Figure size 432x288 with 1 Axes>"
            ],
            "image/png": "[encoded data removed]"
          },
          "metadata": {
            "needs_background": "light"
          }
        }
      ],
      "source": [
        "X축_데이터 = [170, 182, 155, 160, 163] # 키\n",
        "Y축_데이터 = [60, 71, 49, 53, 56]      # 몸무게\n",
        "\n",
        "plt.scatter(X축_데이터, Y축_데이터)\n",
        "plt.xlabel('키')\n",
        "plt.ylabel('몸무게')\n",
        "plt.grid()\n",
        "\n",
        "plt.show()"
      ]
    },
    {
      "cell_type": "code",
      "source": [
        "from google.colab import drive\n",
        "drive.mount('/content/drive')"
      ],
      "metadata": {
        "colab": {
          "base_uri": "https://localhost:8080/"
        },
        "id": "msFBkWoe99b_",
        "outputId": "24dc75ed-ba5a-42cc-f9f6-36560023c933"
      },
      "execution_count": null,
      "outputs": [
        {
          "output_type": "stream",
          "name": "stdout",
          "text": [
            "Mounted at /content/drive\n"
          ]
        }
      ]
    },
    {
      "cell_type": "code",
      "execution_count": null,
      "metadata": {
        "colab": {
          "base_uri": "https://localhost:8080/",
          "height": 175
        },
        "id": "-jDtYb1BJMgM",
        "outputId": "c290124a-16d6-44df-b871-7eb295394e09"
      },
      "outputs": [
        {
          "output_type": "execute_result",
          "data": {
            "text/plain": [
              "         원티드   사람인  잡플래닛  잡코리아    스펙업\n",
              "10/22   9800  5500  2000   980  20000\n",
              "10/23  10200  6600  2200  1020  20000\n",
              "10/24  12500  4520  3000   780  21000\n",
              "10/25   2000  2000  2000  2000   2000"
            ],
            "text/html": [
              "\n",
              "  <div id=\"df-034cf8be-99ab-4014-9590-4de6f116aa2f\">\n",
              "    <div class=\"colab-df-container\">\n",
              "      <div>\n",
              "<style scoped>\n",
              "    .dataframe tbody tr th:only-of-type {\n",
              "        vertical-align: middle;\n",
              "    }\n",
              "\n",
              "    .dataframe tbody tr th {\n",
              "        vertical-align: top;\n",
              "    }\n",
              "\n",
              "    .dataframe thead th {\n",
              "        text-align: right;\n",
              "    }\n",
              "</style>\n",
              "<table border=\"1\" class=\"dataframe\">\n",
              "  <thead>\n",
              "    <tr style=\"text-align: right;\">\n",
              "      <th></th>\n",
              "      <th>원티드</th>\n",
              "      <th>사람인</th>\n",
              "      <th>잡플래닛</th>\n",
              "      <th>잡코리아</th>\n",
              "      <th>스펙업</th>\n",
              "    </tr>\n",
              "  </thead>\n",
              "  <tbody>\n",
              "    <tr>\n",
              "      <th>10/22</th>\n",
              "      <td>9800</td>\n",
              "      <td>5500</td>\n",
              "      <td>2000</td>\n",
              "      <td>980</td>\n",
              "      <td>20000</td>\n",
              "    </tr>\n",
              "    <tr>\n",
              "      <th>10/23</th>\n",
              "      <td>10200</td>\n",
              "      <td>6600</td>\n",
              "      <td>2200</td>\n",
              "      <td>1020</td>\n",
              "      <td>20000</td>\n",
              "    </tr>\n",
              "    <tr>\n",
              "      <th>10/24</th>\n",
              "      <td>12500</td>\n",
              "      <td>4520</td>\n",
              "      <td>3000</td>\n",
              "      <td>780</td>\n",
              "      <td>21000</td>\n",
              "    </tr>\n",
              "    <tr>\n",
              "      <th>10/25</th>\n",
              "      <td>2000</td>\n",
              "      <td>2000</td>\n",
              "      <td>2000</td>\n",
              "      <td>2000</td>\n",
              "      <td>2000</td>\n",
              "    </tr>\n",
              "  </tbody>\n",
              "</table>\n",
              "</div>\n",
              "      <button class=\"colab-df-convert\" onclick=\"convertToInteractive('df-034cf8be-99ab-4014-9590-4de6f116aa2f')\"\n",
              "              title=\"Convert this dataframe to an interactive table.\"\n",
              "              style=\"display:none;\">\n",
              "        \n",
              "  <svg xmlns=\"http://www.w3.org/2000/svg\" height=\"24px\"viewBox=\"0 0 24 24\"\n",
              "       width=\"24px\">\n",
              "    <path d=\"M0 0h24v24H0V0z\" fill=\"none\"/>\n",
              "    <path d=\"M18.56 5.44l.94 2.06.94-2.06 2.06-.94-2.06-.94-.94-2.06-.94 2.06-2.06.94zm-11 1L8.5 8.5l.94-2.06 2.06-.94-2.06-.94L8.5 2.5l-.94 2.06-2.06.94zm10 10l.94 2.06.94-2.06 2.06-.94-2.06-.94-.94-2.06-.94 2.06-2.06.94z\"/><path d=\"M17.41 7.96l-1.37-1.37c-.4-.4-.92-.59-1.43-.59-.52 0-1.04.2-1.43.59L10.3 9.45l-7.72 7.72c-.78.78-.78 2.05 0 2.83L4 21.41c.39.39.9.59 1.41.59.51 0 1.02-.2 1.41-.59l7.78-7.78 2.81-2.81c.8-.78.8-2.07 0-2.86zM5.41 20L4 18.59l7.72-7.72 1.47 1.35L5.41 20z\"/>\n",
              "  </svg>\n",
              "      </button>\n",
              "      \n",
              "  <style>\n",
              "    .colab-df-container {\n",
              "      display:flex;\n",
              "      flex-wrap:wrap;\n",
              "      gap: 12px;\n",
              "    }\n",
              "\n",
              "    .colab-df-convert {\n",
              "      background-color: #E8F0FE;\n",
              "      border: none;\n",
              "      border-radius: 50%;\n",
              "      cursor: pointer;\n",
              "      display: none;\n",
              "      fill: #1967D2;\n",
              "      height: 32px;\n",
              "      padding: 0 0 0 0;\n",
              "      width: 32px;\n",
              "    }\n",
              "\n",
              "    .colab-df-convert:hover {\n",
              "      background-color: #E2EBFA;\n",
              "      box-shadow: 0px 1px 2px rgba(60, 64, 67, 0.3), 0px 1px 3px 1px rgba(60, 64, 67, 0.15);\n",
              "      fill: #174EA6;\n",
              "    }\n",
              "\n",
              "    [theme=dark] .colab-df-convert {\n",
              "      background-color: #3B4455;\n",
              "      fill: #D2E3FC;\n",
              "    }\n",
              "\n",
              "    [theme=dark] .colab-df-convert:hover {\n",
              "      background-color: #434B5C;\n",
              "      box-shadow: 0px 1px 3px 1px rgba(0, 0, 0, 0.15);\n",
              "      filter: drop-shadow(0px 1px 2px rgba(0, 0, 0, 0.3));\n",
              "      fill: #FFFFFF;\n",
              "    }\n",
              "  </style>\n",
              "\n",
              "      <script>\n",
              "        const buttonEl =\n",
              "          document.querySelector('#df-034cf8be-99ab-4014-9590-4de6f116aa2f button.colab-df-convert');\n",
              "        buttonEl.style.display =\n",
              "          google.colab.kernel.accessAllowed ? 'block' : 'none';\n",
              "\n",
              "        async function convertToInteractive(key) {\n",
              "          const element = document.querySelector('#df-034cf8be-99ab-4014-9590-4de6f116aa2f');\n",
              "          const dataTable =\n",
              "            await google.colab.kernel.invokeFunction('convertToInteractive',\n",
              "                                                     [key], {});\n",
              "          if (!dataTable) return;\n",
              "\n",
              "          const docLinkHtml = 'Like what you see? Visit the ' +\n",
              "            '<a target=\"_blank\" href=https://colab.research.google.com/notebooks/data_table.ipynb>data table notebook</a>'\n",
              "            + ' to learn more about interactive tables.';\n",
              "          element.innerHTML = '';\n",
              "          dataTable['output_type'] = 'display_data';\n",
              "          await google.colab.output.renderOutput(dataTable, element);\n",
              "          const docLink = document.createElement('div');\n",
              "          docLink.innerHTML = docLinkHtml;\n",
              "          element.appendChild(docLink);\n",
              "        }\n",
              "      </script>\n",
              "    </div>\n",
              "  </div>\n",
              "  "
            ]
          },
          "metadata": {},
          "execution_count": 15
        }
      ],
      "source": [
        "# 차트를 그릴 데이터 dataframe 준비하기\n",
        "\n",
        "주가_데이터 = pd.read_csv('/content/drive/MyDrive/Colab Notebooks/MachineLearning/data/stock.adj_close.csv', index_col=0)\n",
        "my_df = 주가_데이터.T.loc['2020-09-09':,'A005900':'A006000']\n",
        "my_df_2 = my_df.loc[:'2020-09-11','A005960':]\n",
        "\n",
        "trafic_data = pd.DataFrame(\n",
        "    [[9800,5500,2000,980,20000],[10200,6600,2200,1020,20000],[12500,4520,3000,780,21000],[2000,2000,2000,2000,2000]],\n",
        "    index=['10/22','10/23','10/24','10/25'],\n",
        "    columns=['원티드','사람인','잡플래닛','잡코리아','스펙업'])\n",
        "trafic_data   # trafic_data 라는 DataFrame 생성"
      ]
    },
    {
      "cell_type": "code",
      "source": [
        "주가_데이터"
      ],
      "metadata": {
        "colab": {
          "base_uri": "https://localhost:8080/",
          "height": 536
        },
        "id": "upWvueVunLJk",
        "outputId": "d5784bba-9c66-4aba-ce26-e2b30b6b8827"
      },
      "execution_count": null,
      "outputs": [
        {
          "output_type": "execute_result",
          "data": {
            "text/plain": [
              "         2018-06-01  2018-06-04  2018-06-05  2018-06-07  2018-06-08  \\\n",
              "Symbol                                                                \n",
              "A000020     11550.0     11750.0     11700.0     11650.0     11500.0   \n",
              "A000030     15500.0     15950.0     16050.0     16500.0     16600.0   \n",
              "A000040      2992.0      3021.0      3025.0      3069.0      3045.0   \n",
              "A000050     13200.0     13550.0     13600.0     13800.0     13800.0   \n",
              "A000060     20050.0     20050.0     20150.0     20050.0     20400.0   \n",
              "...             ...         ...         ...         ...         ...   \n",
              "A950160     38600.0     36400.0     36350.0     38700.0     40200.0   \n",
              "A950170     13850.0     14250.0     14450.0     14300.0     14150.0   \n",
              "A950180         NaN         NaN         NaN         NaN         NaN   \n",
              "A950190         NaN         NaN         NaN         NaN         NaN   \n",
              "A950200         NaN         NaN         NaN         NaN         NaN   \n",
              "\n",
              "         2018-06-11  2018-06-12  2018-06-14  2018-06-15  2018-06-18  ...  \\\n",
              "Symbol                                                               ...   \n",
              "A000020     11500.0     11650.0     12000.0     11800.0     11450.0  ...   \n",
              "A000030     16650.0     16850.0     16500.0     16100.0     16350.0  ...   \n",
              "A000040      2984.0      2976.0      3033.0      3033.0      3017.0  ...   \n",
              "A000050     13800.0     13650.0     13850.0     14500.0     14550.0  ...   \n",
              "A000060     20150.0     20700.0     20950.0     20150.0     20900.0  ...   \n",
              "...             ...         ...         ...         ...         ...  ...   \n",
              "A950160     39250.0     38300.0     38350.0     39000.0     37600.0  ...   \n",
              "A950170     13650.0     14050.0     13600.0     13550.0     11900.0  ...   \n",
              "A950180         NaN         NaN         NaN         NaN         NaN  ...   \n",
              "A950190         NaN         NaN         NaN         NaN         NaN  ...   \n",
              "A950200         NaN         NaN         NaN         NaN         NaN  ...   \n",
              "\n",
              "         2020-09-25  2020-09-28  2020-09-29  2020-10-05  2020-10-06  \\\n",
              "Symbol                                                                \n",
              "A000020     22100.0     22000.0     21850.0     24100.0     23750.0   \n",
              "A000030     14800.0     14800.0     14800.0     14800.0     14800.0   \n",
              "A000040       771.0       743.0       767.0       829.0       810.0   \n",
              "A000050     10750.0     10500.0     10550.0     10850.0     10900.0   \n",
              "A000060     12750.0     12750.0     12850.0     13150.0     13300.0   \n",
              "...             ...         ...         ...         ...         ...   \n",
              "A950160      8010.0      8010.0      8010.0      8010.0      8010.0   \n",
              "A950170      3820.0      3900.0      4050.0      4070.0      4190.0   \n",
              "A950180     12400.0     12800.0     12900.0     12800.0     12850.0   \n",
              "A950190     27200.0     27950.0     28150.0     28350.0     28400.0   \n",
              "A950200     14000.0     13900.0     14200.0     14050.0     14300.0   \n",
              "\n",
              "         2020-10-07  2020-10-08  2020-10-12  2020-10-13  2020-10-14  \n",
              "Symbol                                                               \n",
              "A000020     23500.0     24150.0     24000.0     24300.0     23850.0  \n",
              "A000030     14800.0     14800.0     14800.0     14800.0     14800.0  \n",
              "A000040       860.0       863.0       863.0       850.0       874.0  \n",
              "A000050     10900.0     11000.0     11000.0     10850.0     10800.0  \n",
              "A000060     13350.0     13900.0     13950.0     13700.0     13550.0  \n",
              "...             ...         ...         ...         ...         ...  \n",
              "A950160      8010.0      8010.0      8010.0      8010.0      8010.0  \n",
              "A950170      4160.0      4320.0      4445.0      4440.0      4335.0  \n",
              "A950180     13050.0     13050.0     12900.0     12650.0     13350.0  \n",
              "A950190     28100.0     28550.0     28800.0     28750.0     28400.0  \n",
              "A950200     14400.0     15100.0     15150.0     14400.0     14150.0  \n",
              "\n",
              "[2278 rows x 582 columns]"
            ],
            "text/html": [
              "\n",
              "  <div id=\"df-be324774-12c0-4e5b-9406-2ff8e5ddf945\">\n",
              "    <div class=\"colab-df-container\">\n",
              "      <div>\n",
              "<style scoped>\n",
              "    .dataframe tbody tr th:only-of-type {\n",
              "        vertical-align: middle;\n",
              "    }\n",
              "\n",
              "    .dataframe tbody tr th {\n",
              "        vertical-align: top;\n",
              "    }\n",
              "\n",
              "    .dataframe thead th {\n",
              "        text-align: right;\n",
              "    }\n",
              "</style>\n",
              "<table border=\"1\" class=\"dataframe\">\n",
              "  <thead>\n",
              "    <tr style=\"text-align: right;\">\n",
              "      <th></th>\n",
              "      <th>2018-06-01</th>\n",
              "      <th>2018-06-04</th>\n",
              "      <th>2018-06-05</th>\n",
              "      <th>2018-06-07</th>\n",
              "      <th>2018-06-08</th>\n",
              "      <th>2018-06-11</th>\n",
              "      <th>2018-06-12</th>\n",
              "      <th>2018-06-14</th>\n",
              "      <th>2018-06-15</th>\n",
              "      <th>2018-06-18</th>\n",
              "      <th>...</th>\n",
              "      <th>2020-09-25</th>\n",
              "      <th>2020-09-28</th>\n",
              "      <th>2020-09-29</th>\n",
              "      <th>2020-10-05</th>\n",
              "      <th>2020-10-06</th>\n",
              "      <th>2020-10-07</th>\n",
              "      <th>2020-10-08</th>\n",
              "      <th>2020-10-12</th>\n",
              "      <th>2020-10-13</th>\n",
              "      <th>2020-10-14</th>\n",
              "    </tr>\n",
              "    <tr>\n",
              "      <th>Symbol</th>\n",
              "      <th></th>\n",
              "      <th></th>\n",
              "      <th></th>\n",
              "      <th></th>\n",
              "      <th></th>\n",
              "      <th></th>\n",
              "      <th></th>\n",
              "      <th></th>\n",
              "      <th></th>\n",
              "      <th></th>\n",
              "      <th></th>\n",
              "      <th></th>\n",
              "      <th></th>\n",
              "      <th></th>\n",
              "      <th></th>\n",
              "      <th></th>\n",
              "      <th></th>\n",
              "      <th></th>\n",
              "      <th></th>\n",
              "      <th></th>\n",
              "      <th></th>\n",
              "    </tr>\n",
              "  </thead>\n",
              "  <tbody>\n",
              "    <tr>\n",
              "      <th>A000020</th>\n",
              "      <td>11550.0</td>\n",
              "      <td>11750.0</td>\n",
              "      <td>11700.0</td>\n",
              "      <td>11650.0</td>\n",
              "      <td>11500.0</td>\n",
              "      <td>11500.0</td>\n",
              "      <td>11650.0</td>\n",
              "      <td>12000.0</td>\n",
              "      <td>11800.0</td>\n",
              "      <td>11450.0</td>\n",
              "      <td>...</td>\n",
              "      <td>22100.0</td>\n",
              "      <td>22000.0</td>\n",
              "      <td>21850.0</td>\n",
              "      <td>24100.0</td>\n",
              "      <td>23750.0</td>\n",
              "      <td>23500.0</td>\n",
              "      <td>24150.0</td>\n",
              "      <td>24000.0</td>\n",
              "      <td>24300.0</td>\n",
              "      <td>23850.0</td>\n",
              "    </tr>\n",
              "    <tr>\n",
              "      <th>A000030</th>\n",
              "      <td>15500.0</td>\n",
              "      <td>15950.0</td>\n",
              "      <td>16050.0</td>\n",
              "      <td>16500.0</td>\n",
              "      <td>16600.0</td>\n",
              "      <td>16650.0</td>\n",
              "      <td>16850.0</td>\n",
              "      <td>16500.0</td>\n",
              "      <td>16100.0</td>\n",
              "      <td>16350.0</td>\n",
              "      <td>...</td>\n",
              "      <td>14800.0</td>\n",
              "      <td>14800.0</td>\n",
              "      <td>14800.0</td>\n",
              "      <td>14800.0</td>\n",
              "      <td>14800.0</td>\n",
              "      <td>14800.0</td>\n",
              "      <td>14800.0</td>\n",
              "      <td>14800.0</td>\n",
              "      <td>14800.0</td>\n",
              "      <td>14800.0</td>\n",
              "    </tr>\n",
              "    <tr>\n",
              "      <th>A000040</th>\n",
              "      <td>2992.0</td>\n",
              "      <td>3021.0</td>\n",
              "      <td>3025.0</td>\n",
              "      <td>3069.0</td>\n",
              "      <td>3045.0</td>\n",
              "      <td>2984.0</td>\n",
              "      <td>2976.0</td>\n",
              "      <td>3033.0</td>\n",
              "      <td>3033.0</td>\n",
              "      <td>3017.0</td>\n",
              "      <td>...</td>\n",
              "      <td>771.0</td>\n",
              "      <td>743.0</td>\n",
              "      <td>767.0</td>\n",
              "      <td>829.0</td>\n",
              "      <td>810.0</td>\n",
              "      <td>860.0</td>\n",
              "      <td>863.0</td>\n",
              "      <td>863.0</td>\n",
              "      <td>850.0</td>\n",
              "      <td>874.0</td>\n",
              "    </tr>\n",
              "    <tr>\n",
              "      <th>A000050</th>\n",
              "      <td>13200.0</td>\n",
              "      <td>13550.0</td>\n",
              "      <td>13600.0</td>\n",
              "      <td>13800.0</td>\n",
              "      <td>13800.0</td>\n",
              "      <td>13800.0</td>\n",
              "      <td>13650.0</td>\n",
              "      <td>13850.0</td>\n",
              "      <td>14500.0</td>\n",
              "      <td>14550.0</td>\n",
              "      <td>...</td>\n",
              "      <td>10750.0</td>\n",
              "      <td>10500.0</td>\n",
              "      <td>10550.0</td>\n",
              "      <td>10850.0</td>\n",
              "      <td>10900.0</td>\n",
              "      <td>10900.0</td>\n",
              "      <td>11000.0</td>\n",
              "      <td>11000.0</td>\n",
              "      <td>10850.0</td>\n",
              "      <td>10800.0</td>\n",
              "    </tr>\n",
              "    <tr>\n",
              "      <th>A000060</th>\n",
              "      <td>20050.0</td>\n",
              "      <td>20050.0</td>\n",
              "      <td>20150.0</td>\n",
              "      <td>20050.0</td>\n",
              "      <td>20400.0</td>\n",
              "      <td>20150.0</td>\n",
              "      <td>20700.0</td>\n",
              "      <td>20950.0</td>\n",
              "      <td>20150.0</td>\n",
              "      <td>20900.0</td>\n",
              "      <td>...</td>\n",
              "      <td>12750.0</td>\n",
              "      <td>12750.0</td>\n",
              "      <td>12850.0</td>\n",
              "      <td>13150.0</td>\n",
              "      <td>13300.0</td>\n",
              "      <td>13350.0</td>\n",
              "      <td>13900.0</td>\n",
              "      <td>13950.0</td>\n",
              "      <td>13700.0</td>\n",
              "      <td>13550.0</td>\n",
              "    </tr>\n",
              "    <tr>\n",
              "      <th>...</th>\n",
              "      <td>...</td>\n",
              "      <td>...</td>\n",
              "      <td>...</td>\n",
              "      <td>...</td>\n",
              "      <td>...</td>\n",
              "      <td>...</td>\n",
              "      <td>...</td>\n",
              "      <td>...</td>\n",
              "      <td>...</td>\n",
              "      <td>...</td>\n",
              "      <td>...</td>\n",
              "      <td>...</td>\n",
              "      <td>...</td>\n",
              "      <td>...</td>\n",
              "      <td>...</td>\n",
              "      <td>...</td>\n",
              "      <td>...</td>\n",
              "      <td>...</td>\n",
              "      <td>...</td>\n",
              "      <td>...</td>\n",
              "      <td>...</td>\n",
              "    </tr>\n",
              "    <tr>\n",
              "      <th>A950160</th>\n",
              "      <td>38600.0</td>\n",
              "      <td>36400.0</td>\n",
              "      <td>36350.0</td>\n",
              "      <td>38700.0</td>\n",
              "      <td>40200.0</td>\n",
              "      <td>39250.0</td>\n",
              "      <td>38300.0</td>\n",
              "      <td>38350.0</td>\n",
              "      <td>39000.0</td>\n",
              "      <td>37600.0</td>\n",
              "      <td>...</td>\n",
              "      <td>8010.0</td>\n",
              "      <td>8010.0</td>\n",
              "      <td>8010.0</td>\n",
              "      <td>8010.0</td>\n",
              "      <td>8010.0</td>\n",
              "      <td>8010.0</td>\n",
              "      <td>8010.0</td>\n",
              "      <td>8010.0</td>\n",
              "      <td>8010.0</td>\n",
              "      <td>8010.0</td>\n",
              "    </tr>\n",
              "    <tr>\n",
              "      <th>A950170</th>\n",
              "      <td>13850.0</td>\n",
              "      <td>14250.0</td>\n",
              "      <td>14450.0</td>\n",
              "      <td>14300.0</td>\n",
              "      <td>14150.0</td>\n",
              "      <td>13650.0</td>\n",
              "      <td>14050.0</td>\n",
              "      <td>13600.0</td>\n",
              "      <td>13550.0</td>\n",
              "      <td>11900.0</td>\n",
              "      <td>...</td>\n",
              "      <td>3820.0</td>\n",
              "      <td>3900.0</td>\n",
              "      <td>4050.0</td>\n",
              "      <td>4070.0</td>\n",
              "      <td>4190.0</td>\n",
              "      <td>4160.0</td>\n",
              "      <td>4320.0</td>\n",
              "      <td>4445.0</td>\n",
              "      <td>4440.0</td>\n",
              "      <td>4335.0</td>\n",
              "    </tr>\n",
              "    <tr>\n",
              "      <th>A950180</th>\n",
              "      <td>NaN</td>\n",
              "      <td>NaN</td>\n",
              "      <td>NaN</td>\n",
              "      <td>NaN</td>\n",
              "      <td>NaN</td>\n",
              "      <td>NaN</td>\n",
              "      <td>NaN</td>\n",
              "      <td>NaN</td>\n",
              "      <td>NaN</td>\n",
              "      <td>NaN</td>\n",
              "      <td>...</td>\n",
              "      <td>12400.0</td>\n",
              "      <td>12800.0</td>\n",
              "      <td>12900.0</td>\n",
              "      <td>12800.0</td>\n",
              "      <td>12850.0</td>\n",
              "      <td>13050.0</td>\n",
              "      <td>13050.0</td>\n",
              "      <td>12900.0</td>\n",
              "      <td>12650.0</td>\n",
              "      <td>13350.0</td>\n",
              "    </tr>\n",
              "    <tr>\n",
              "      <th>A950190</th>\n",
              "      <td>NaN</td>\n",
              "      <td>NaN</td>\n",
              "      <td>NaN</td>\n",
              "      <td>NaN</td>\n",
              "      <td>NaN</td>\n",
              "      <td>NaN</td>\n",
              "      <td>NaN</td>\n",
              "      <td>NaN</td>\n",
              "      <td>NaN</td>\n",
              "      <td>NaN</td>\n",
              "      <td>...</td>\n",
              "      <td>27200.0</td>\n",
              "      <td>27950.0</td>\n",
              "      <td>28150.0</td>\n",
              "      <td>28350.0</td>\n",
              "      <td>28400.0</td>\n",
              "      <td>28100.0</td>\n",
              "      <td>28550.0</td>\n",
              "      <td>28800.0</td>\n",
              "      <td>28750.0</td>\n",
              "      <td>28400.0</td>\n",
              "    </tr>\n",
              "    <tr>\n",
              "      <th>A950200</th>\n",
              "      <td>NaN</td>\n",
              "      <td>NaN</td>\n",
              "      <td>NaN</td>\n",
              "      <td>NaN</td>\n",
              "      <td>NaN</td>\n",
              "      <td>NaN</td>\n",
              "      <td>NaN</td>\n",
              "      <td>NaN</td>\n",
              "      <td>NaN</td>\n",
              "      <td>NaN</td>\n",
              "      <td>...</td>\n",
              "      <td>14000.0</td>\n",
              "      <td>13900.0</td>\n",
              "      <td>14200.0</td>\n",
              "      <td>14050.0</td>\n",
              "      <td>14300.0</td>\n",
              "      <td>14400.0</td>\n",
              "      <td>15100.0</td>\n",
              "      <td>15150.0</td>\n",
              "      <td>14400.0</td>\n",
              "      <td>14150.0</td>\n",
              "    </tr>\n",
              "  </tbody>\n",
              "</table>\n",
              "<p>2278 rows × 582 columns</p>\n",
              "</div>\n",
              "      <button class=\"colab-df-convert\" onclick=\"convertToInteractive('df-be324774-12c0-4e5b-9406-2ff8e5ddf945')\"\n",
              "              title=\"Convert this dataframe to an interactive table.\"\n",
              "              style=\"display:none;\">\n",
              "        \n",
              "  <svg xmlns=\"http://www.w3.org/2000/svg\" height=\"24px\"viewBox=\"0 0 24 24\"\n",
              "       width=\"24px\">\n",
              "    <path d=\"M0 0h24v24H0V0z\" fill=\"none\"/>\n",
              "    <path d=\"M18.56 5.44l.94 2.06.94-2.06 2.06-.94-2.06-.94-.94-2.06-.94 2.06-2.06.94zm-11 1L8.5 8.5l.94-2.06 2.06-.94-2.06-.94L8.5 2.5l-.94 2.06-2.06.94zm10 10l.94 2.06.94-2.06 2.06-.94-2.06-.94-.94-2.06-.94 2.06-2.06.94z\"/><path d=\"M17.41 7.96l-1.37-1.37c-.4-.4-.92-.59-1.43-.59-.52 0-1.04.2-1.43.59L10.3 9.45l-7.72 7.72c-.78.78-.78 2.05 0 2.83L4 21.41c.39.39.9.59 1.41.59.51 0 1.02-.2 1.41-.59l7.78-7.78 2.81-2.81c.8-.78.8-2.07 0-2.86zM5.41 20L4 18.59l7.72-7.72 1.47 1.35L5.41 20z\"/>\n",
              "  </svg>\n",
              "      </button>\n",
              "      \n",
              "  <style>\n",
              "    .colab-df-container {\n",
              "      display:flex;\n",
              "      flex-wrap:wrap;\n",
              "      gap: 12px;\n",
              "    }\n",
              "\n",
              "    .colab-df-convert {\n",
              "      background-color: #E8F0FE;\n",
              "      border: none;\n",
              "      border-radius: 50%;\n",
              "      cursor: pointer;\n",
              "      display: none;\n",
              "      fill: #1967D2;\n",
              "      height: 32px;\n",
              "      padding: 0 0 0 0;\n",
              "      width: 32px;\n",
              "    }\n",
              "\n",
              "    .colab-df-convert:hover {\n",
              "      background-color: #E2EBFA;\n",
              "      box-shadow: 0px 1px 2px rgba(60, 64, 67, 0.3), 0px 1px 3px 1px rgba(60, 64, 67, 0.15);\n",
              "      fill: #174EA6;\n",
              "    }\n",
              "\n",
              "    [theme=dark] .colab-df-convert {\n",
              "      background-color: #3B4455;\n",
              "      fill: #D2E3FC;\n",
              "    }\n",
              "\n",
              "    [theme=dark] .colab-df-convert:hover {\n",
              "      background-color: #434B5C;\n",
              "      box-shadow: 0px 1px 3px 1px rgba(0, 0, 0, 0.15);\n",
              "      filter: drop-shadow(0px 1px 2px rgba(0, 0, 0, 0.3));\n",
              "      fill: #FFFFFF;\n",
              "    }\n",
              "  </style>\n",
              "\n",
              "      <script>\n",
              "        const buttonEl =\n",
              "          document.querySelector('#df-be324774-12c0-4e5b-9406-2ff8e5ddf945 button.colab-df-convert');\n",
              "        buttonEl.style.display =\n",
              "          google.colab.kernel.accessAllowed ? 'block' : 'none';\n",
              "\n",
              "        async function convertToInteractive(key) {\n",
              "          const element = document.querySelector('#df-be324774-12c0-4e5b-9406-2ff8e5ddf945');\n",
              "          const dataTable =\n",
              "            await google.colab.kernel.invokeFunction('convertToInteractive',\n",
              "                                                     [key], {});\n",
              "          if (!dataTable) return;\n",
              "\n",
              "          const docLinkHtml = 'Like what you see? Visit the ' +\n",
              "            '<a target=\"_blank\" href=https://colab.research.google.com/notebooks/data_table.ipynb>data table notebook</a>'\n",
              "            + ' to learn more about interactive tables.';\n",
              "          element.innerHTML = '';\n",
              "          dataTable['output_type'] = 'display_data';\n",
              "          await google.colab.output.renderOutput(dataTable, element);\n",
              "          const docLink = document.createElement('div');\n",
              "          docLink.innerHTML = docLinkHtml;\n",
              "          element.appendChild(docLink);\n",
              "        }\n",
              "      </script>\n",
              "    </div>\n",
              "  </div>\n",
              "  "
            ]
          },
          "metadata": {},
          "execution_count": 16
        }
      ]
    },
    {
      "cell_type": "code",
      "source": [
        "주가_데이터.T"
      ],
      "metadata": {
        "colab": {
          "base_uri": "https://localhost:8080/",
          "height": 661
        },
        "id": "skJfOvcYB20I",
        "outputId": "990a3965-b36b-4961-f0bf-c557736a7e32"
      },
      "execution_count": null,
      "outputs": [
        {
          "output_type": "execute_result",
          "data": {
            "text/plain": [
              "Symbol      A000020  A000030  A000040  A000050  A000060   A000070  A000080  \\\n",
              "2018-06-01  11550.0  15500.0   2992.0  13200.0  20050.0  120000.0  20200.0   \n",
              "2018-06-04  11750.0  15950.0   3021.0  13550.0  20050.0  123000.0  20400.0   \n",
              "2018-06-05  11700.0  16050.0   3025.0  13600.0  20150.0  123500.0  20350.0   \n",
              "2018-06-07  11650.0  16500.0   3069.0  13800.0  20050.0  124500.0  21000.0   \n",
              "2018-06-08  11500.0  16600.0   3045.0  13800.0  20400.0  123500.0  20750.0   \n",
              "...             ...      ...      ...      ...      ...       ...      ...   \n",
              "2020-10-07  23500.0  14800.0    860.0  10900.0  13350.0   63700.0  37550.0   \n",
              "2020-10-08  24150.0  14800.0    863.0  11000.0  13900.0   62700.0  37700.0   \n",
              "2020-10-12  24000.0  14800.0    863.0  11000.0  13950.0   63500.0  37900.0   \n",
              "2020-10-13  24300.0  14800.0    850.0  10850.0  13700.0   63000.0  38700.0   \n",
              "2020-10-14  23850.0  14800.0    874.0  10800.0  13550.0   61800.0  38500.0   \n",
              "\n",
              "Symbol      A000100   A000120  A000140  ...  A900310  A900340  A950110  \\\n",
              "2018-06-01  44979.0  148000.0   9360.0  ...   3245.0      NaN   7690.0   \n",
              "2018-06-04  42689.0  153000.0   9440.0  ...   3245.0      NaN   7700.0   \n",
              "2018-06-05  41406.0  152500.0   9390.0  ...   3240.0      NaN   7690.0   \n",
              "2018-06-07  41498.0  154000.0   9490.0  ...   3245.0      NaN   7680.0   \n",
              "2018-06-08  41956.0  154000.0   9510.0  ...   3180.0      NaN   7680.0   \n",
              "...             ...       ...      ...  ...      ...      ...      ...   \n",
              "2020-10-07  64800.0  183000.0  17150.0  ...   1680.0   1280.0   7390.0   \n",
              "2020-10-08  65700.0  184000.0  17250.0  ...   1690.0   1320.0   7350.0   \n",
              "2020-10-12  65000.0  188500.0  17300.0  ...   1815.0   1340.0   7470.0   \n",
              "2020-10-13  64100.0  186500.0  17300.0  ...   1765.0   1300.0   7330.0   \n",
              "2020-10-14  63600.0  180500.0  17250.0  ...   1780.0   1285.0   7160.0   \n",
              "\n",
              "Symbol      A950130  A950140  A950160  A950170  A950180  A950190  A950200  \n",
              "2018-06-01   4970.0   6530.0  38600.0  13850.0      NaN      NaN      NaN  \n",
              "2018-06-04   4900.0   6870.0  36400.0  14250.0      NaN      NaN      NaN  \n",
              "2018-06-05   4940.0   6690.0  36350.0  14450.0      NaN      NaN      NaN  \n",
              "2018-06-07   5140.0   6950.0  38700.0  14300.0      NaN      NaN      NaN  \n",
              "2018-06-08   5280.0   6740.0  40200.0  14150.0      NaN      NaN      NaN  \n",
              "...             ...      ...      ...      ...      ...      ...      ...  \n",
              "2020-10-07  26800.0   4130.0   8010.0   4160.0  13050.0  28100.0  14400.0  \n",
              "2020-10-08  27050.0   4340.0   8010.0   4320.0  13050.0  28550.0  15100.0  \n",
              "2020-10-12  35150.0   4450.0   8010.0   4445.0  12900.0  28800.0  15150.0  \n",
              "2020-10-13  33400.0   4390.0   8010.0   4440.0  12650.0  28750.0  14400.0  \n",
              "2020-10-14  34500.0   4330.0   8010.0   4335.0  13350.0  28400.0  14150.0  \n",
              "\n",
              "[582 rows x 2278 columns]"
            ],
            "text/html": [
              "\n",
              "  <div id=\"df-748a678d-0d70-4d6a-997e-70fffb15d8f5\">\n",
              "    <div class=\"colab-df-container\">\n",
              "      <div>\n",
              "<style scoped>\n",
              "    .dataframe tbody tr th:only-of-type {\n",
              "        vertical-align: middle;\n",
              "    }\n",
              "\n",
              "    .dataframe tbody tr th {\n",
              "        vertical-align: top;\n",
              "    }\n",
              "\n",
              "    .dataframe thead th {\n",
              "        text-align: right;\n",
              "    }\n",
              "</style>\n",
              "<table border=\"1\" class=\"dataframe\">\n",
              "  <thead>\n",
              "    <tr style=\"text-align: right;\">\n",
              "      <th>Symbol</th>\n",
              "      <th>A000020</th>\n",
              "      <th>A000030</th>\n",
              "      <th>A000040</th>\n",
              "      <th>A000050</th>\n",
              "      <th>A000060</th>\n",
              "      <th>A000070</th>\n",
              "      <th>A000080</th>\n",
              "      <th>A000100</th>\n",
              "      <th>A000120</th>\n",
              "      <th>A000140</th>\n",
              "      <th>...</th>\n",
              "      <th>A900310</th>\n",
              "      <th>A900340</th>\n",
              "      <th>A950110</th>\n",
              "      <th>A950130</th>\n",
              "      <th>A950140</th>\n",
              "      <th>A950160</th>\n",
              "      <th>A950170</th>\n",
              "      <th>A950180</th>\n",
              "      <th>A950190</th>\n",
              "      <th>A950200</th>\n",
              "    </tr>\n",
              "  </thead>\n",
              "  <tbody>\n",
              "    <tr>\n",
              "      <th>2018-06-01</th>\n",
              "      <td>11550.0</td>\n",
              "      <td>15500.0</td>\n",
              "      <td>2992.0</td>\n",
              "      <td>13200.0</td>\n",
              "      <td>20050.0</td>\n",
              "      <td>120000.0</td>\n",
              "      <td>20200.0</td>\n",
              "      <td>44979.0</td>\n",
              "      <td>148000.0</td>\n",
              "      <td>9360.0</td>\n",
              "      <td>...</td>\n",
              "      <td>3245.0</td>\n",
              "      <td>NaN</td>\n",
              "      <td>7690.0</td>\n",
              "      <td>4970.0</td>\n",
              "      <td>6530.0</td>\n",
              "      <td>38600.0</td>\n",
              "      <td>13850.0</td>\n",
              "      <td>NaN</td>\n",
              "      <td>NaN</td>\n",
              "      <td>NaN</td>\n",
              "    </tr>\n",
              "    <tr>\n",
              "      <th>2018-06-04</th>\n",
              "      <td>11750.0</td>\n",
              "      <td>15950.0</td>\n",
              "      <td>3021.0</td>\n",
              "      <td>13550.0</td>\n",
              "      <td>20050.0</td>\n",
              "      <td>123000.0</td>\n",
              "      <td>20400.0</td>\n",
              "      <td>42689.0</td>\n",
              "      <td>153000.0</td>\n",
              "      <td>9440.0</td>\n",
              "      <td>...</td>\n",
              "      <td>3245.0</td>\n",
              "      <td>NaN</td>\n",
              "      <td>7700.0</td>\n",
              "      <td>4900.0</td>\n",
              "      <td>6870.0</td>\n",
              "      <td>36400.0</td>\n",
              "      <td>14250.0</td>\n",
              "      <td>NaN</td>\n",
              "      <td>NaN</td>\n",
              "      <td>NaN</td>\n",
              "    </tr>\n",
              "    <tr>\n",
              "      <th>2018-06-05</th>\n",
              "      <td>11700.0</td>\n",
              "      <td>16050.0</td>\n",
              "      <td>3025.0</td>\n",
              "      <td>13600.0</td>\n",
              "      <td>20150.0</td>\n",
              "      <td>123500.0</td>\n",
              "      <td>20350.0</td>\n",
              "      <td>41406.0</td>\n",
              "      <td>152500.0</td>\n",
              "      <td>9390.0</td>\n",
              "      <td>...</td>\n",
              "      <td>3240.0</td>\n",
              "      <td>NaN</td>\n",
              "      <td>7690.0</td>\n",
              "      <td>4940.0</td>\n",
              "      <td>6690.0</td>\n",
              "      <td>36350.0</td>\n",
              "      <td>14450.0</td>\n",
              "      <td>NaN</td>\n",
              "      <td>NaN</td>\n",
              "      <td>NaN</td>\n",
              "    </tr>\n",
              "    <tr>\n",
              "      <th>2018-06-07</th>\n",
              "      <td>11650.0</td>\n",
              "      <td>16500.0</td>\n",
              "      <td>3069.0</td>\n",
              "      <td>13800.0</td>\n",
              "      <td>20050.0</td>\n",
              "      <td>124500.0</td>\n",
              "      <td>21000.0</td>\n",
              "      <td>41498.0</td>\n",
              "      <td>154000.0</td>\n",
              "      <td>9490.0</td>\n",
              "      <td>...</td>\n",
              "      <td>3245.0</td>\n",
              "      <td>NaN</td>\n",
              "      <td>7680.0</td>\n",
              "      <td>5140.0</td>\n",
              "      <td>6950.0</td>\n",
              "      <td>38700.0</td>\n",
              "      <td>14300.0</td>\n",
              "      <td>NaN</td>\n",
              "      <td>NaN</td>\n",
              "      <td>NaN</td>\n",
              "    </tr>\n",
              "    <tr>\n",
              "      <th>2018-06-08</th>\n",
              "      <td>11500.0</td>\n",
              "      <td>16600.0</td>\n",
              "      <td>3045.0</td>\n",
              "      <td>13800.0</td>\n",
              "      <td>20400.0</td>\n",
              "      <td>123500.0</td>\n",
              "      <td>20750.0</td>\n",
              "      <td>41956.0</td>\n",
              "      <td>154000.0</td>\n",
              "      <td>9510.0</td>\n",
              "      <td>...</td>\n",
              "      <td>3180.0</td>\n",
              "      <td>NaN</td>\n",
              "      <td>7680.0</td>\n",
              "      <td>5280.0</td>\n",
              "      <td>6740.0</td>\n",
              "      <td>40200.0</td>\n",
              "      <td>14150.0</td>\n",
              "      <td>NaN</td>\n",
              "      <td>NaN</td>\n",
              "      <td>NaN</td>\n",
              "    </tr>\n",
              "    <tr>\n",
              "      <th>...</th>\n",
              "      <td>...</td>\n",
              "      <td>...</td>\n",
              "      <td>...</td>\n",
              "      <td>...</td>\n",
              "      <td>...</td>\n",
              "      <td>...</td>\n",
              "      <td>...</td>\n",
              "      <td>...</td>\n",
              "      <td>...</td>\n",
              "      <td>...</td>\n",
              "      <td>...</td>\n",
              "      <td>...</td>\n",
              "      <td>...</td>\n",
              "      <td>...</td>\n",
              "      <td>...</td>\n",
              "      <td>...</td>\n",
              "      <td>...</td>\n",
              "      <td>...</td>\n",
              "      <td>...</td>\n",
              "      <td>...</td>\n",
              "      <td>...</td>\n",
              "    </tr>\n",
              "    <tr>\n",
              "      <th>2020-10-07</th>\n",
              "      <td>23500.0</td>\n",
              "      <td>14800.0</td>\n",
              "      <td>860.0</td>\n",
              "      <td>10900.0</td>\n",
              "      <td>13350.0</td>\n",
              "      <td>63700.0</td>\n",
              "      <td>37550.0</td>\n",
              "      <td>64800.0</td>\n",
              "      <td>183000.0</td>\n",
              "      <td>17150.0</td>\n",
              "      <td>...</td>\n",
              "      <td>1680.0</td>\n",
              "      <td>1280.0</td>\n",
              "      <td>7390.0</td>\n",
              "      <td>26800.0</td>\n",
              "      <td>4130.0</td>\n",
              "      <td>8010.0</td>\n",
              "      <td>4160.0</td>\n",
              "      <td>13050.0</td>\n",
              "      <td>28100.0</td>\n",
              "      <td>14400.0</td>\n",
              "    </tr>\n",
              "    <tr>\n",
              "      <th>2020-10-08</th>\n",
              "      <td>24150.0</td>\n",
              "      <td>14800.0</td>\n",
              "      <td>863.0</td>\n",
              "      <td>11000.0</td>\n",
              "      <td>13900.0</td>\n",
              "      <td>62700.0</td>\n",
              "      <td>37700.0</td>\n",
              "      <td>65700.0</td>\n",
              "      <td>184000.0</td>\n",
              "      <td>17250.0</td>\n",
              "      <td>...</td>\n",
              "      <td>1690.0</td>\n",
              "      <td>1320.0</td>\n",
              "      <td>7350.0</td>\n",
              "      <td>27050.0</td>\n",
              "      <td>4340.0</td>\n",
              "      <td>8010.0</td>\n",
              "      <td>4320.0</td>\n",
              "      <td>13050.0</td>\n",
              "      <td>28550.0</td>\n",
              "      <td>15100.0</td>\n",
              "    </tr>\n",
              "    <tr>\n",
              "      <th>2020-10-12</th>\n",
              "      <td>24000.0</td>\n",
              "      <td>14800.0</td>\n",
              "      <td>863.0</td>\n",
              "      <td>11000.0</td>\n",
              "      <td>13950.0</td>\n",
              "      <td>63500.0</td>\n",
              "      <td>37900.0</td>\n",
              "      <td>65000.0</td>\n",
              "      <td>188500.0</td>\n",
              "      <td>17300.0</td>\n",
              "      <td>...</td>\n",
              "      <td>1815.0</td>\n",
              "      <td>1340.0</td>\n",
              "      <td>7470.0</td>\n",
              "      <td>35150.0</td>\n",
              "      <td>4450.0</td>\n",
              "      <td>8010.0</td>\n",
              "      <td>4445.0</td>\n",
              "      <td>12900.0</td>\n",
              "      <td>28800.0</td>\n",
              "      <td>15150.0</td>\n",
              "    </tr>\n",
              "    <tr>\n",
              "      <th>2020-10-13</th>\n",
              "      <td>24300.0</td>\n",
              "      <td>14800.0</td>\n",
              "      <td>850.0</td>\n",
              "      <td>10850.0</td>\n",
              "      <td>13700.0</td>\n",
              "      <td>63000.0</td>\n",
              "      <td>38700.0</td>\n",
              "      <td>64100.0</td>\n",
              "      <td>186500.0</td>\n",
              "      <td>17300.0</td>\n",
              "      <td>...</td>\n",
              "      <td>1765.0</td>\n",
              "      <td>1300.0</td>\n",
              "      <td>7330.0</td>\n",
              "      <td>33400.0</td>\n",
              "      <td>4390.0</td>\n",
              "      <td>8010.0</td>\n",
              "      <td>4440.0</td>\n",
              "      <td>12650.0</td>\n",
              "      <td>28750.0</td>\n",
              "      <td>14400.0</td>\n",
              "    </tr>\n",
              "    <tr>\n",
              "      <th>2020-10-14</th>\n",
              "      <td>23850.0</td>\n",
              "      <td>14800.0</td>\n",
              "      <td>874.0</td>\n",
              "      <td>10800.0</td>\n",
              "      <td>13550.0</td>\n",
              "      <td>61800.0</td>\n",
              "      <td>38500.0</td>\n",
              "      <td>63600.0</td>\n",
              "      <td>180500.0</td>\n",
              "      <td>17250.0</td>\n",
              "      <td>...</td>\n",
              "      <td>1780.0</td>\n",
              "      <td>1285.0</td>\n",
              "      <td>7160.0</td>\n",
              "      <td>34500.0</td>\n",
              "      <td>4330.0</td>\n",
              "      <td>8010.0</td>\n",
              "      <td>4335.0</td>\n",
              "      <td>13350.0</td>\n",
              "      <td>28400.0</td>\n",
              "      <td>14150.0</td>\n",
              "    </tr>\n",
              "  </tbody>\n",
              "</table>\n",
              "<p>582 rows × 2278 columns</p>\n",
              "</div>\n",
              "      <button class=\"colab-df-convert\" onclick=\"convertToInteractive('df-748a678d-0d70-4d6a-997e-70fffb15d8f5')\"\n",
              "              title=\"Convert this dataframe to an interactive table.\"\n",
              "              style=\"display:none;\">\n",
              "        \n",
              "  <svg xmlns=\"http://www.w3.org/2000/svg\" height=\"24px\"viewBox=\"0 0 24 24\"\n",
              "       width=\"24px\">\n",
              "    <path d=\"M0 0h24v24H0V0z\" fill=\"none\"/>\n",
              "    <path d=\"M18.56 5.44l.94 2.06.94-2.06 2.06-.94-2.06-.94-.94-2.06-.94 2.06-2.06.94zm-11 1L8.5 8.5l.94-2.06 2.06-.94-2.06-.94L8.5 2.5l-.94 2.06-2.06.94zm10 10l.94 2.06.94-2.06 2.06-.94-2.06-.94-.94-2.06-.94 2.06-2.06.94z\"/><path d=\"M17.41 7.96l-1.37-1.37c-.4-.4-.92-.59-1.43-.59-.52 0-1.04.2-1.43.59L10.3 9.45l-7.72 7.72c-.78.78-.78 2.05 0 2.83L4 21.41c.39.39.9.59 1.41.59.51 0 1.02-.2 1.41-.59l7.78-7.78 2.81-2.81c.8-.78.8-2.07 0-2.86zM5.41 20L4 18.59l7.72-7.72 1.47 1.35L5.41 20z\"/>\n",
              "  </svg>\n",
              "      </button>\n",
              "      \n",
              "  <style>\n",
              "    .colab-df-container {\n",
              "      display:flex;\n",
              "      flex-wrap:wrap;\n",
              "      gap: 12px;\n",
              "    }\n",
              "\n",
              "    .colab-df-convert {\n",
              "      background-color: #E8F0FE;\n",
              "      border: none;\n",
              "      border-radius: 50%;\n",
              "      cursor: pointer;\n",
              "      display: none;\n",
              "      fill: #1967D2;\n",
              "      height: 32px;\n",
              "      padding: 0 0 0 0;\n",
              "      width: 32px;\n",
              "    }\n",
              "\n",
              "    .colab-df-convert:hover {\n",
              "      background-color: #E2EBFA;\n",
              "      box-shadow: 0px 1px 2px rgba(60, 64, 67, 0.3), 0px 1px 3px 1px rgba(60, 64, 67, 0.15);\n",
              "      fill: #174EA6;\n",
              "    }\n",
              "\n",
              "    [theme=dark] .colab-df-convert {\n",
              "      background-color: #3B4455;\n",
              "      fill: #D2E3FC;\n",
              "    }\n",
              "\n",
              "    [theme=dark] .colab-df-convert:hover {\n",
              "      background-color: #434B5C;\n",
              "      box-shadow: 0px 1px 3px 1px rgba(0, 0, 0, 0.15);\n",
              "      filter: drop-shadow(0px 1px 2px rgba(0, 0, 0, 0.3));\n",
              "      fill: #FFFFFF;\n",
              "    }\n",
              "  </style>\n",
              "\n",
              "      <script>\n",
              "        const buttonEl =\n",
              "          document.querySelector('#df-748a678d-0d70-4d6a-997e-70fffb15d8f5 button.colab-df-convert');\n",
              "        buttonEl.style.display =\n",
              "          google.colab.kernel.accessAllowed ? 'block' : 'none';\n",
              "\n",
              "        async function convertToInteractive(key) {\n",
              "          const element = document.querySelector('#df-748a678d-0d70-4d6a-997e-70fffb15d8f5');\n",
              "          const dataTable =\n",
              "            await google.colab.kernel.invokeFunction('convertToInteractive',\n",
              "                                                     [key], {});\n",
              "          if (!dataTable) return;\n",
              "\n",
              "          const docLinkHtml = 'Like what you see? Visit the ' +\n",
              "            '<a target=\"_blank\" href=https://colab.research.google.com/notebooks/data_table.ipynb>data table notebook</a>'\n",
              "            + ' to learn more about interactive tables.';\n",
              "          element.innerHTML = '';\n",
              "          dataTable['output_type'] = 'display_data';\n",
              "          await google.colab.output.renderOutput(dataTable, element);\n",
              "          const docLink = document.createElement('div');\n",
              "          docLink.innerHTML = docLinkHtml;\n",
              "          element.appendChild(docLink);\n",
              "        }\n",
              "      </script>\n",
              "    </div>\n",
              "  </div>\n",
              "  "
            ]
          },
          "metadata": {},
          "execution_count": 17
        }
      ]
    },
    {
      "cell_type": "code",
      "execution_count": null,
      "metadata": {
        "colab": {
          "base_uri": "https://localhost:8080/",
          "height": 739
        },
        "id": "_GT0VuGEJMgN",
        "outputId": "7fbcc3b1-1c77-4253-de25-657deb15d690"
      },
      "outputs": [
        {
          "output_type": "execute_result",
          "data": {
            "text/plain": [
              "Symbol      A005930  A005940  A005950  A005960  A005980  A005990\n",
              "2020-09-09  58400.0   9190.0   9080.0  11000.0    671.0   7990.0\n",
              "2020-09-10  59200.0   9280.0   9280.0  11150.0    671.0   7960.0\n",
              "2020-09-11  59000.0   9270.0   9360.0  11050.0    671.0   8120.0\n",
              "2020-09-14  60400.0   9370.0   9400.0  11200.0    671.0   8200.0\n",
              "2020-09-15  61000.0   9470.0   9390.0  11350.0    671.0   8180.0\n",
              "2020-09-16  61000.0   9530.0   9080.0  11250.0    671.0   8180.0\n",
              "2020-09-17  59500.0   9320.0   8880.0  11000.0    671.0   8000.0\n",
              "2020-09-18  59300.0   9320.0   9070.0  10850.0    671.0   8020.0\n",
              "2020-09-21  59200.0   9200.0   8880.0  10700.0    671.0   7970.0\n",
              "2020-09-22  58200.0   9040.0   8580.0  10600.0    671.0   7890.0\n",
              "2020-09-23  58600.0   9060.0   8500.0  10750.0    671.0   7890.0\n",
              "2020-09-24  57800.0   8940.0   8280.0  10500.0    671.0   7710.0\n",
              "2020-09-25  57900.0   9070.0   8300.0  10500.0    671.0   7860.0\n",
              "2020-09-28  58200.0   9080.0   8530.0  10800.0    671.0   7940.0\n",
              "2020-09-29  58200.0   9140.0   8670.0  10900.0    671.0   7950.0\n",
              "2020-10-05  58700.0   9400.0   8880.0  11050.0    671.0   8010.0\n",
              "2020-10-06  59000.0   9280.0  11500.0  10950.0    671.0   7990.0\n",
              "2020-10-07  59900.0   9370.0  11550.0  10950.0    671.0   8010.0\n",
              "2020-10-08  59700.0   9390.0  11800.0  10900.0    671.0   8010.0\n",
              "2020-10-12  60400.0   9510.0  11700.0  11200.0    671.0   8010.0\n",
              "2020-10-13  60900.0   9450.0  12300.0  11200.0    671.0   7980.0\n",
              "2020-10-14  60900.0   9350.0  11600.0  11150.0    671.0   7890.0"
            ],
            "text/html": [
              "\n",
              "  <div id=\"df-d69b2276-c354-4bef-863d-9dcb85269ca4\">\n",
              "    <div class=\"colab-df-container\">\n",
              "      <div>\n",
              "<style scoped>\n",
              "    .dataframe tbody tr th:only-of-type {\n",
              "        vertical-align: middle;\n",
              "    }\n",
              "\n",
              "    .dataframe tbody tr th {\n",
              "        vertical-align: top;\n",
              "    }\n",
              "\n",
              "    .dataframe thead th {\n",
              "        text-align: right;\n",
              "    }\n",
              "</style>\n",
              "<table border=\"1\" class=\"dataframe\">\n",
              "  <thead>\n",
              "    <tr style=\"text-align: right;\">\n",
              "      <th>Symbol</th>\n",
              "      <th>A005930</th>\n",
              "      <th>A005940</th>\n",
              "      <th>A005950</th>\n",
              "      <th>A005960</th>\n",
              "      <th>A005980</th>\n",
              "      <th>A005990</th>\n",
              "    </tr>\n",
              "  </thead>\n",
              "  <tbody>\n",
              "    <tr>\n",
              "      <th>2020-09-09</th>\n",
              "      <td>58400.0</td>\n",
              "      <td>9190.0</td>\n",
              "      <td>9080.0</td>\n",
              "      <td>11000.0</td>\n",
              "      <td>671.0</td>\n",
              "      <td>7990.0</td>\n",
              "    </tr>\n",
              "    <tr>\n",
              "      <th>2020-09-10</th>\n",
              "      <td>59200.0</td>\n",
              "      <td>9280.0</td>\n",
              "      <td>9280.0</td>\n",
              "      <td>11150.0</td>\n",
              "      <td>671.0</td>\n",
              "      <td>7960.0</td>\n",
              "    </tr>\n",
              "    <tr>\n",
              "      <th>2020-09-11</th>\n",
              "      <td>59000.0</td>\n",
              "      <td>9270.0</td>\n",
              "      <td>9360.0</td>\n",
              "      <td>11050.0</td>\n",
              "      <td>671.0</td>\n",
              "      <td>8120.0</td>\n",
              "    </tr>\n",
              "    <tr>\n",
              "      <th>2020-09-14</th>\n",
              "      <td>60400.0</td>\n",
              "      <td>9370.0</td>\n",
              "      <td>9400.0</td>\n",
              "      <td>11200.0</td>\n",
              "      <td>671.0</td>\n",
              "      <td>8200.0</td>\n",
              "    </tr>\n",
              "    <tr>\n",
              "      <th>2020-09-15</th>\n",
              "      <td>61000.0</td>\n",
              "      <td>9470.0</td>\n",
              "      <td>9390.0</td>\n",
              "      <td>11350.0</td>\n",
              "      <td>671.0</td>\n",
              "      <td>8180.0</td>\n",
              "    </tr>\n",
              "    <tr>\n",
              "      <th>2020-09-16</th>\n",
              "      <td>61000.0</td>\n",
              "      <td>9530.0</td>\n",
              "      <td>9080.0</td>\n",
              "      <td>11250.0</td>\n",
              "      <td>671.0</td>\n",
              "      <td>8180.0</td>\n",
              "    </tr>\n",
              "    <tr>\n",
              "      <th>2020-09-17</th>\n",
              "      <td>59500.0</td>\n",
              "      <td>9320.0</td>\n",
              "      <td>8880.0</td>\n",
              "      <td>11000.0</td>\n",
              "      <td>671.0</td>\n",
              "      <td>8000.0</td>\n",
              "    </tr>\n",
              "    <tr>\n",
              "      <th>2020-09-18</th>\n",
              "      <td>59300.0</td>\n",
              "      <td>9320.0</td>\n",
              "      <td>9070.0</td>\n",
              "      <td>10850.0</td>\n",
              "      <td>671.0</td>\n",
              "      <td>8020.0</td>\n",
              "    </tr>\n",
              "    <tr>\n",
              "      <th>2020-09-21</th>\n",
              "      <td>59200.0</td>\n",
              "      <td>9200.0</td>\n",
              "      <td>8880.0</td>\n",
              "      <td>10700.0</td>\n",
              "      <td>671.0</td>\n",
              "      <td>7970.0</td>\n",
              "    </tr>\n",
              "    <tr>\n",
              "      <th>2020-09-22</th>\n",
              "      <td>58200.0</td>\n",
              "      <td>9040.0</td>\n",
              "      <td>8580.0</td>\n",
              "      <td>10600.0</td>\n",
              "      <td>671.0</td>\n",
              "      <td>7890.0</td>\n",
              "    </tr>\n",
              "    <tr>\n",
              "      <th>2020-09-23</th>\n",
              "      <td>58600.0</td>\n",
              "      <td>9060.0</td>\n",
              "      <td>8500.0</td>\n",
              "      <td>10750.0</td>\n",
              "      <td>671.0</td>\n",
              "      <td>7890.0</td>\n",
              "    </tr>\n",
              "    <tr>\n",
              "      <th>2020-09-24</th>\n",
              "      <td>57800.0</td>\n",
              "      <td>8940.0</td>\n",
              "      <td>8280.0</td>\n",
              "      <td>10500.0</td>\n",
              "      <td>671.0</td>\n",
              "      <td>7710.0</td>\n",
              "    </tr>\n",
              "    <tr>\n",
              "      <th>2020-09-25</th>\n",
              "      <td>57900.0</td>\n",
              "      <td>9070.0</td>\n",
              "      <td>8300.0</td>\n",
              "      <td>10500.0</td>\n",
              "      <td>671.0</td>\n",
              "      <td>7860.0</td>\n",
              "    </tr>\n",
              "    <tr>\n",
              "      <th>2020-09-28</th>\n",
              "      <td>58200.0</td>\n",
              "      <td>9080.0</td>\n",
              "      <td>8530.0</td>\n",
              "      <td>10800.0</td>\n",
              "      <td>671.0</td>\n",
              "      <td>7940.0</td>\n",
              "    </tr>\n",
              "    <tr>\n",
              "      <th>2020-09-29</th>\n",
              "      <td>58200.0</td>\n",
              "      <td>9140.0</td>\n",
              "      <td>8670.0</td>\n",
              "      <td>10900.0</td>\n",
              "      <td>671.0</td>\n",
              "      <td>7950.0</td>\n",
              "    </tr>\n",
              "    <tr>\n",
              "      <th>2020-10-05</th>\n",
              "      <td>58700.0</td>\n",
              "      <td>9400.0</td>\n",
              "      <td>8880.0</td>\n",
              "      <td>11050.0</td>\n",
              "      <td>671.0</td>\n",
              "      <td>8010.0</td>\n",
              "    </tr>\n",
              "    <tr>\n",
              "      <th>2020-10-06</th>\n",
              "      <td>59000.0</td>\n",
              "      <td>9280.0</td>\n",
              "      <td>11500.0</td>\n",
              "      <td>10950.0</td>\n",
              "      <td>671.0</td>\n",
              "      <td>7990.0</td>\n",
              "    </tr>\n",
              "    <tr>\n",
              "      <th>2020-10-07</th>\n",
              "      <td>59900.0</td>\n",
              "      <td>9370.0</td>\n",
              "      <td>11550.0</td>\n",
              "      <td>10950.0</td>\n",
              "      <td>671.0</td>\n",
              "      <td>8010.0</td>\n",
              "    </tr>\n",
              "    <tr>\n",
              "      <th>2020-10-08</th>\n",
              "      <td>59700.0</td>\n",
              "      <td>9390.0</td>\n",
              "      <td>11800.0</td>\n",
              "      <td>10900.0</td>\n",
              "      <td>671.0</td>\n",
              "      <td>8010.0</td>\n",
              "    </tr>\n",
              "    <tr>\n",
              "      <th>2020-10-12</th>\n",
              "      <td>60400.0</td>\n",
              "      <td>9510.0</td>\n",
              "      <td>11700.0</td>\n",
              "      <td>11200.0</td>\n",
              "      <td>671.0</td>\n",
              "      <td>8010.0</td>\n",
              "    </tr>\n",
              "    <tr>\n",
              "      <th>2020-10-13</th>\n",
              "      <td>60900.0</td>\n",
              "      <td>9450.0</td>\n",
              "      <td>12300.0</td>\n",
              "      <td>11200.0</td>\n",
              "      <td>671.0</td>\n",
              "      <td>7980.0</td>\n",
              "    </tr>\n",
              "    <tr>\n",
              "      <th>2020-10-14</th>\n",
              "      <td>60900.0</td>\n",
              "      <td>9350.0</td>\n",
              "      <td>11600.0</td>\n",
              "      <td>11150.0</td>\n",
              "      <td>671.0</td>\n",
              "      <td>7890.0</td>\n",
              "    </tr>\n",
              "  </tbody>\n",
              "</table>\n",
              "</div>\n",
              "      <button class=\"colab-df-convert\" onclick=\"convertToInteractive('df-d69b2276-c354-4bef-863d-9dcb85269ca4')\"\n",
              "              title=\"Convert this dataframe to an interactive table.\"\n",
              "              style=\"display:none;\">\n",
              "        \n",
              "  <svg xmlns=\"http://www.w3.org/2000/svg\" height=\"24px\"viewBox=\"0 0 24 24\"\n",
              "       width=\"24px\">\n",
              "    <path d=\"M0 0h24v24H0V0z\" fill=\"none\"/>\n",
              "    <path d=\"M18.56 5.44l.94 2.06.94-2.06 2.06-.94-2.06-.94-.94-2.06-.94 2.06-2.06.94zm-11 1L8.5 8.5l.94-2.06 2.06-.94-2.06-.94L8.5 2.5l-.94 2.06-2.06.94zm10 10l.94 2.06.94-2.06 2.06-.94-2.06-.94-.94-2.06-.94 2.06-2.06.94z\"/><path d=\"M17.41 7.96l-1.37-1.37c-.4-.4-.92-.59-1.43-.59-.52 0-1.04.2-1.43.59L10.3 9.45l-7.72 7.72c-.78.78-.78 2.05 0 2.83L4 21.41c.39.39.9.59 1.41.59.51 0 1.02-.2 1.41-.59l7.78-7.78 2.81-2.81c.8-.78.8-2.07 0-2.86zM5.41 20L4 18.59l7.72-7.72 1.47 1.35L5.41 20z\"/>\n",
              "  </svg>\n",
              "      </button>\n",
              "      \n",
              "  <style>\n",
              "    .colab-df-container {\n",
              "      display:flex;\n",
              "      flex-wrap:wrap;\n",
              "      gap: 12px;\n",
              "    }\n",
              "\n",
              "    .colab-df-convert {\n",
              "      background-color: #E8F0FE;\n",
              "      border: none;\n",
              "      border-radius: 50%;\n",
              "      cursor: pointer;\n",
              "      display: none;\n",
              "      fill: #1967D2;\n",
              "      height: 32px;\n",
              "      padding: 0 0 0 0;\n",
              "      width: 32px;\n",
              "    }\n",
              "\n",
              "    .colab-df-convert:hover {\n",
              "      background-color: #E2EBFA;\n",
              "      box-shadow: 0px 1px 2px rgba(60, 64, 67, 0.3), 0px 1px 3px 1px rgba(60, 64, 67, 0.15);\n",
              "      fill: #174EA6;\n",
              "    }\n",
              "\n",
              "    [theme=dark] .colab-df-convert {\n",
              "      background-color: #3B4455;\n",
              "      fill: #D2E3FC;\n",
              "    }\n",
              "\n",
              "    [theme=dark] .colab-df-convert:hover {\n",
              "      background-color: #434B5C;\n",
              "      box-shadow: 0px 1px 3px 1px rgba(0, 0, 0, 0.15);\n",
              "      filter: drop-shadow(0px 1px 2px rgba(0, 0, 0, 0.3));\n",
              "      fill: #FFFFFF;\n",
              "    }\n",
              "  </style>\n",
              "\n",
              "      <script>\n",
              "        const buttonEl =\n",
              "          document.querySelector('#df-d69b2276-c354-4bef-863d-9dcb85269ca4 button.colab-df-convert');\n",
              "        buttonEl.style.display =\n",
              "          google.colab.kernel.accessAllowed ? 'block' : 'none';\n",
              "\n",
              "        async function convertToInteractive(key) {\n",
              "          const element = document.querySelector('#df-d69b2276-c354-4bef-863d-9dcb85269ca4');\n",
              "          const dataTable =\n",
              "            await google.colab.kernel.invokeFunction('convertToInteractive',\n",
              "                                                     [key], {});\n",
              "          if (!dataTable) return;\n",
              "\n",
              "          const docLinkHtml = 'Like what you see? Visit the ' +\n",
              "            '<a target=\"_blank\" href=https://colab.research.google.com/notebooks/data_table.ipynb>data table notebook</a>'\n",
              "            + ' to learn more about interactive tables.';\n",
              "          element.innerHTML = '';\n",
              "          dataTable['output_type'] = 'display_data';\n",
              "          await google.colab.output.renderOutput(dataTable, element);\n",
              "          const docLink = document.createElement('div');\n",
              "          docLink.innerHTML = docLinkHtml;\n",
              "          element.appendChild(docLink);\n",
              "        }\n",
              "      </script>\n",
              "    </div>\n",
              "  </div>\n",
              "  "
            ]
          },
          "metadata": {},
          "execution_count": 18
        }
      ],
      "source": [
        "my_df"
      ]
    },
    {
      "cell_type": "code",
      "source": [
        "my_df_2"
      ],
      "metadata": {
        "colab": {
          "base_uri": "https://localhost:8080/",
          "height": 143
        },
        "id": "nUabQWLzCpAq",
        "outputId": "4f4f0fce-ab58-4d62-f3cc-f829d338a56b"
      },
      "execution_count": null,
      "outputs": [
        {
          "output_type": "execute_result",
          "data": {
            "text/plain": [
              "Symbol      A005960  A005980  A005990\n",
              "2020-09-09  11000.0    671.0   7990.0\n",
              "2020-09-10  11150.0    671.0   7960.0\n",
              "2020-09-11  11050.0    671.0   8120.0"
            ],
            "text/html": [
              "\n",
              "  <div id=\"df-2d3f0531-91a0-4cba-a2d8-fefa0844811b\">\n",
              "    <div class=\"colab-df-container\">\n",
              "      <div>\n",
              "<style scoped>\n",
              "    .dataframe tbody tr th:only-of-type {\n",
              "        vertical-align: middle;\n",
              "    }\n",
              "\n",
              "    .dataframe tbody tr th {\n",
              "        vertical-align: top;\n",
              "    }\n",
              "\n",
              "    .dataframe thead th {\n",
              "        text-align: right;\n",
              "    }\n",
              "</style>\n",
              "<table border=\"1\" class=\"dataframe\">\n",
              "  <thead>\n",
              "    <tr style=\"text-align: right;\">\n",
              "      <th>Symbol</th>\n",
              "      <th>A005960</th>\n",
              "      <th>A005980</th>\n",
              "      <th>A005990</th>\n",
              "    </tr>\n",
              "  </thead>\n",
              "  <tbody>\n",
              "    <tr>\n",
              "      <th>2020-09-09</th>\n",
              "      <td>11000.0</td>\n",
              "      <td>671.0</td>\n",
              "      <td>7990.0</td>\n",
              "    </tr>\n",
              "    <tr>\n",
              "      <th>2020-09-10</th>\n",
              "      <td>11150.0</td>\n",
              "      <td>671.0</td>\n",
              "      <td>7960.0</td>\n",
              "    </tr>\n",
              "    <tr>\n",
              "      <th>2020-09-11</th>\n",
              "      <td>11050.0</td>\n",
              "      <td>671.0</td>\n",
              "      <td>8120.0</td>\n",
              "    </tr>\n",
              "  </tbody>\n",
              "</table>\n",
              "</div>\n",
              "      <button class=\"colab-df-convert\" onclick=\"convertToInteractive('df-2d3f0531-91a0-4cba-a2d8-fefa0844811b')\"\n",
              "              title=\"Convert this dataframe to an interactive table.\"\n",
              "              style=\"display:none;\">\n",
              "        \n",
              "  <svg xmlns=\"http://www.w3.org/2000/svg\" height=\"24px\"viewBox=\"0 0 24 24\"\n",
              "       width=\"24px\">\n",
              "    <path d=\"M0 0h24v24H0V0z\" fill=\"none\"/>\n",
              "    <path d=\"M18.56 5.44l.94 2.06.94-2.06 2.06-.94-2.06-.94-.94-2.06-.94 2.06-2.06.94zm-11 1L8.5 8.5l.94-2.06 2.06-.94-2.06-.94L8.5 2.5l-.94 2.06-2.06.94zm10 10l.94 2.06.94-2.06 2.06-.94-2.06-.94-.94-2.06-.94 2.06-2.06.94z\"/><path d=\"M17.41 7.96l-1.37-1.37c-.4-.4-.92-.59-1.43-.59-.52 0-1.04.2-1.43.59L10.3 9.45l-7.72 7.72c-.78.78-.78 2.05 0 2.83L4 21.41c.39.39.9.59 1.41.59.51 0 1.02-.2 1.41-.59l7.78-7.78 2.81-2.81c.8-.78.8-2.07 0-2.86zM5.41 20L4 18.59l7.72-7.72 1.47 1.35L5.41 20z\"/>\n",
              "  </svg>\n",
              "      </button>\n",
              "      \n",
              "  <style>\n",
              "    .colab-df-container {\n",
              "      display:flex;\n",
              "      flex-wrap:wrap;\n",
              "      gap: 12px;\n",
              "    }\n",
              "\n",
              "    .colab-df-convert {\n",
              "      background-color: #E8F0FE;\n",
              "      border: none;\n",
              "      border-radius: 50%;\n",
              "      cursor: pointer;\n",
              "      display: none;\n",
              "      fill: #1967D2;\n",
              "      height: 32px;\n",
              "      padding: 0 0 0 0;\n",
              "      width: 32px;\n",
              "    }\n",
              "\n",
              "    .colab-df-convert:hover {\n",
              "      background-color: #E2EBFA;\n",
              "      box-shadow: 0px 1px 2px rgba(60, 64, 67, 0.3), 0px 1px 3px 1px rgba(60, 64, 67, 0.15);\n",
              "      fill: #174EA6;\n",
              "    }\n",
              "\n",
              "    [theme=dark] .colab-df-convert {\n",
              "      background-color: #3B4455;\n",
              "      fill: #D2E3FC;\n",
              "    }\n",
              "\n",
              "    [theme=dark] .colab-df-convert:hover {\n",
              "      background-color: #434B5C;\n",
              "      box-shadow: 0px 1px 3px 1px rgba(0, 0, 0, 0.15);\n",
              "      filter: drop-shadow(0px 1px 2px rgba(0, 0, 0, 0.3));\n",
              "      fill: #FFFFFF;\n",
              "    }\n",
              "  </style>\n",
              "\n",
              "      <script>\n",
              "        const buttonEl =\n",
              "          document.querySelector('#df-2d3f0531-91a0-4cba-a2d8-fefa0844811b button.colab-df-convert');\n",
              "        buttonEl.style.display =\n",
              "          google.colab.kernel.accessAllowed ? 'block' : 'none';\n",
              "\n",
              "        async function convertToInteractive(key) {\n",
              "          const element = document.querySelector('#df-2d3f0531-91a0-4cba-a2d8-fefa0844811b');\n",
              "          const dataTable =\n",
              "            await google.colab.kernel.invokeFunction('convertToInteractive',\n",
              "                                                     [key], {});\n",
              "          if (!dataTable) return;\n",
              "\n",
              "          const docLinkHtml = 'Like what you see? Visit the ' +\n",
              "            '<a target=\"_blank\" href=https://colab.research.google.com/notebooks/data_table.ipynb>data table notebook</a>'\n",
              "            + ' to learn more about interactive tables.';\n",
              "          element.innerHTML = '';\n",
              "          dataTable['output_type'] = 'display_data';\n",
              "          await google.colab.output.renderOutput(dataTable, element);\n",
              "          const docLink = document.createElement('div');\n",
              "          docLink.innerHTML = docLinkHtml;\n",
              "          element.appendChild(docLink);\n",
              "        }\n",
              "      </script>\n",
              "    </div>\n",
              "  </div>\n",
              "  "
            ]
          },
          "metadata": {},
          "execution_count": 19
        }
      ]
    },
    {
      "cell_type": "code",
      "execution_count": null,
      "metadata": {
        "ExecuteTime": {
          "end_time": "2021-07-08T10:34:44.276801Z",
          "start_time": "2021-07-08T10:34:43.969102Z"
        },
        "colab": {
          "base_uri": "https://localhost:8080/",
          "height": 265
        },
        "id": "3lDL6ZK-JMgN",
        "outputId": "8b9152dd-1cf0-4e98-dfa3-9a6d11698618"
      },
      "outputs": [
        {
          "output_type": "display_data",
          "data": {
            "text/plain": [
              "<Figure size 432x288 with 1 Axes>"
            ],
            "image/png": "[encoded data removed]"
          },
          "metadata": {
            "needs_background": "light"
          }
        }
      ],
      "source": [
        "my_df.loc[:,'A005930'].plot();  # Series 그래프"
      ]
    },
    {
      "cell_type": "code",
      "execution_count": null,
      "metadata": {
        "ExecuteTime": {
          "end_time": "2021-07-08T10:34:44.650236Z",
          "start_time": "2021-07-08T10:34:44.279798Z"
        },
        "colab": {
          "base_uri": "https://localhost:8080/",
          "height": 265
        },
        "id": "ttxXrVQPJMgO",
        "outputId": "d692aebe-27fa-4142-a723-080ab092ec8a"
      },
      "outputs": [
        {
          "output_type": "display_data",
          "data": {
            "text/plain": [
              "<Figure size 432x288 with 1 Axes>"
            ],
            "image/png": "[encoded data removed]"
          },
          "metadata": {
            "needs_background": "light"
          }
        }
      ],
      "source": [
        "my_df.plot(grid=True);  # DataFrame 그래프"
      ]
    },
    {
      "cell_type": "code",
      "execution_count": null,
      "metadata": {
        "ExecuteTime": {
          "end_time": "2021-07-08T10:34:44.946950Z",
          "start_time": "2021-07-08T10:34:44.653233Z"
        },
        "colab": {
          "base_uri": "https://localhost:8080/",
          "height": 329
        },
        "id": "HmIErrncJMgO",
        "outputId": "399c3686-ba8c-408b-e4fb-1a4110e286fc"
      },
      "outputs": [
        {
          "output_type": "display_data",
          "data": {
            "text/plain": [
              "<Figure size 432x288 with 1 Axes>"
            ],
            "image/png": "[encoded data removed]"
          },
          "metadata": {
            "needs_background": "light"
          }
        }
      ],
      "source": [
        "my_df_2.plot(kind='bar', title='주가 흐름');"
      ]
    },
    {
      "cell_type": "code",
      "execution_count": null,
      "metadata": {
        "ExecuteTime": {
          "end_time": "2021-07-08T10:34:45.176565Z",
          "start_time": "2021-07-08T10:34:44.948967Z"
        },
        "colab": {
          "base_uri": "https://localhost:8080/",
          "height": 279
        },
        "id": "XHmOmn-RJMgO",
        "outputId": "342596fe-8f0d-4e04-ee0b-3096e87bf052"
      },
      "outputs": [
        {
          "output_type": "display_data",
          "data": {
            "text/plain": [
              "<Figure size 432x288 with 1 Axes>"
            ],
            "image/png": "[encoded data removed]"
          },
          "metadata": {
            "needs_background": "light"
          }
        }
      ],
      "source": [
        "trafic_data.plot(kind='scatter', grid=True,\n",
        "                 x='원티드', y='사람인');"
      ]
    },
    {
      "cell_type": "code",
      "execution_count": null,
      "metadata": {
        "ExecuteTime": {
          "end_time": "2021-07-08T10:34:46.993196Z",
          "start_time": "2021-07-08T10:34:45.179563Z"
        },
        "colab": {
          "base_uri": "https://localhost:8080/",
          "height": 265
        },
        "id": "c7zIHFaXJMgP",
        "outputId": "08565c00-3a17-4e4e-c510-83a9fb61b24c"
      },
      "outputs": [
        {
          "output_type": "display_data",
          "data": {
            "text/plain": [
              "<Figure size 432x288 with 5 Axes>"
            ],
            "image/png": "[encoded data removed]"
          },
          "metadata": {
            "needs_background": "light"
          }
        }
      ],
      "source": [
        "trafic_data.plot(subplots=True);"
      ]
    },
    {
      "cell_type": "markdown",
      "metadata": {
        "id": "k5boLNGGJMgP"
      },
      "source": [
        "##### <연습문제 1 >\n",
        "trafic_data에서  '스펙업'의 일자별 Bar 그래프를 그려보세요"
      ]
    },
    {
      "cell_type": "code",
      "execution_count": null,
      "metadata": {
        "ExecuteTime": {
          "end_time": "2021-07-08T12:15:33.202801Z",
          "start_time": "2021-07-08T12:15:33.018831Z"
        },
        "colab": {
          "base_uri": "https://localhost:8080/",
          "height": 298
        },
        "id": "3FYVjWclJMgP",
        "outputId": "31e0a8ff-b4a2-42e1-9ad3-7cce8857b6f2"
      },
      "outputs": [
        {
          "output_type": "display_data",
          "data": {
            "text/plain": [
              "<Figure size 432x288 with 1 Axes>"
            ],
            "image/png": "[encoded data removed]"
          },
          "metadata": {
            "needs_background": "light"
          }
        }
      ],
      "source": [
        "trafic_data.loc[:,'스펙업'].plot(kind='bar', title='스펙업의 일자별 트래픽 Bar 그래프');"
      ]
    },
    {
      "cell_type": "markdown",
      "metadata": {
        "id": "K9ww-fa6JMgQ"
      },
      "source": [
        "# matplotlib 고급"
      ]
    },
    {
      "cell_type": "markdown",
      "metadata": {
        "id": "DAhQfqGAJMgQ"
      },
      "source": [
        "Object Oriented 방식으로, 언급된 구성요소들에 접근하여 플로팅 하는 Code-Style"
      ]
    },
    {
      "cell_type": "code",
      "execution_count": null,
      "metadata": {
        "colab": {
          "base_uri": "https://localhost:8080/",
          "height": 294
        },
        "id": "kkwNoEzKJMgQ",
        "outputId": "1abc4f0c-7101-4003-a1d6-638014fe121c"
      },
      "outputs": [
        {
          "output_type": "display_data",
          "data": {
            "text/plain": [
              "<Figure size 432x288 with 1 Axes>"
            ],
            "image/png": "[encoded data removed]"
          },
          "metadata": {
            "needs_background": "light"
          }
        }
      ],
      "source": [
        "x = np.linspace(0, 2, 100)\n",
        "\n",
        "# Note that even in the OO-style, we use `.pyplot.figure` to create the figure.\n",
        "fig, ax = plt.subplots()  # Create a figure and an axes.\n",
        "ax.plot(x, x, label='linear')  # Plot some data on the axes.\n",
        "ax.plot(x, x**2, label='quadratic')  # Plot more data on the axes...\n",
        "ax.plot(x, x**3, label='cubic')  # ... and some more.\n",
        "ax.set_xlabel('x label')  # Add an x-label to the axes.\n",
        "ax.set_ylabel('y label')  # Add a y-label to the axes.\n",
        "ax.set_title(\"Simple Plot\")  # Add a title to the axes.\n",
        "ax.legend();  # Add a legend."
      ]
    },
    {
      "cell_type": "markdown",
      "metadata": {
        "id": "ckQRy4TyJMgQ"
      },
      "source": [
        "pyplot 방식으로, 현재 그려지고 있는 요소에 플로팅이 적용되는 Code-Style"
      ]
    },
    {
      "cell_type": "code",
      "execution_count": null,
      "metadata": {
        "colab": {
          "base_uri": "https://localhost:8080/",
          "height": 294
        },
        "id": "xy1m_YMLJMgQ",
        "outputId": "e5f98d23-bf38-468f-95ec-e3c132798af0"
      },
      "outputs": [
        {
          "output_type": "display_data",
          "data": {
            "text/plain": [
              "<Figure size 432x288 with 1 Axes>"
            ],
            "image/png": "[encoded data removed]"
          },
          "metadata": {
            "needs_background": "light"
          }
        }
      ],
      "source": [
        "x = np.linspace(0, 2, 100)\n",
        "\n",
        "plt.plot(x, x, label='linear')  # Plot some data on the (implicit) axes.\n",
        "plt.plot(x, x**2, label='quadratic')  # etc.\n",
        "plt.plot(x, x**3, label='cubic')\n",
        "plt.xlabel('x label')\n",
        "plt.ylabel('y label')\n",
        "plt.title(\"Simple Plot\")\n",
        "plt.legend();"
      ]
    },
    {
      "cell_type": "markdown",
      "metadata": {
        "id": "l2wSJcWbJMgR"
      },
      "source": [
        "subplots과 ax로 그래프 그리기"
      ]
    },
    {
      "cell_type": "code",
      "execution_count": null,
      "metadata": {
        "id": "OImPMG3jJMgR"
      },
      "outputs": [],
      "source": [
        "def my_plotter(ax, data1, data2, param_dict):\n",
        "    \"\"\"\n",
        "    A helper function to make a graph\n",
        "\n",
        "    Parameters\n",
        "    ----------\n",
        "    ax : Axes\n",
        "        The axes to draw to\n",
        "\n",
        "    data1 : array\n",
        "       The x data\n",
        "\n",
        "    data2 : array\n",
        "       The y data\n",
        "\n",
        "    param_dict : dict\n",
        "       Dictionary of kwargs to pass to ax.plot\n",
        "\n",
        "    Returns\n",
        "    -------\n",
        "    out : list\n",
        "        list of artists added\n",
        "    \"\"\"\n",
        "    out = ax.scatter(data1, data2, **param_dict)\n",
        "    #out = ax.plot(data1, data2, **param_dict)\n",
        "    return out"
      ]
    },
    {
      "cell_type": "code",
      "execution_count": null,
      "metadata": {
        "colab": {
          "base_uri": "https://localhost:8080/",
          "height": 358
        },
        "id": "W_ppGTYfJMgR",
        "outputId": "15900e40-203a-4909-e7a6-ad85c5b6994e"
      },
      "outputs": [
        {
          "output_type": "stream",
          "name": "stderr",
          "text": [
            "/usr/local/lib/python3.7/dist-packages/matplotlib/backends/backend_agg.py:214: RuntimeWarning: Glyph 8722 missing from current font.\n",
            "  font.set_text(s, 0.0, flags=flags)\n",
            "/usr/local/lib/python3.7/dist-packages/matplotlib/backends/backend_agg.py:183: RuntimeWarning: Glyph 8722 missing from current font.\n",
            "  font.set_text(s, 0, flags=flags)\n"
          ]
        },
        {
          "output_type": "display_data",
          "data": {
            "text/plain": [
              "<Figure size 432x288 with 1 Axes>"
            ],
            "image/png": "[encoded data removed]"
          },
          "metadata": {
            "needs_background": "light"
          }
        }
      ],
      "source": [
        "# 하나의 ax를 생성하고 플로팅\n",
        "\n",
        "data1, data2, data3, data4 = np.random.randn(4, 100)\n",
        "fig, ax = plt.subplots(1, 1)\n",
        "my_plotter(ax, data1, data2, {'marker': 'x'});\n"
      ]
    },
    {
      "cell_type": "code",
      "execution_count": null,
      "metadata": {
        "colab": {
          "base_uri": "https://localhost:8080/",
          "height": 358
        },
        "id": "TJJhnxKqJMgR",
        "outputId": "c9fd2863-4ca6-46a5-9e67-639b0c981c83"
      },
      "outputs": [
        {
          "output_type": "stream",
          "name": "stderr",
          "text": [
            "/usr/local/lib/python3.7/dist-packages/matplotlib/backends/backend_agg.py:214: RuntimeWarning: Glyph 8722 missing from current font.\n",
            "  font.set_text(s, 0.0, flags=flags)\n",
            "/usr/local/lib/python3.7/dist-packages/matplotlib/backends/backend_agg.py:183: RuntimeWarning: Glyph 8722 missing from current font.\n",
            "  font.set_text(s, 0, flags=flags)\n"
          ]
        },
        {
          "output_type": "display_data",
          "data": {
            "text/plain": [
              "<Figure size 432x288 with 2 Axes>"
            ],
            "image/png": "[encoded data removed]"
          },
          "metadata": {
            "needs_background": "light"
          }
        }
      ],
      "source": [
        "# 두개의 ax를 생성하고 플로팅\n",
        "\n",
        "fig, (ax1, ax2) = plt.subplots(1, 2)\n",
        "my_plotter(ax1, data1, data2, {'marker': 'x'})\n",
        "my_plotter(ax2, data3, data4, {'marker': 'o'});"
      ]
    },
    {
      "cell_type": "markdown",
      "metadata": {
        "id": "ADnnkJzUJMgR"
      },
      "source": [
        "line 의 스타일 변경해보기"
      ]
    },
    {
      "cell_type": "code",
      "execution_count": null,
      "metadata": {
        "colab": {
          "base_uri": "https://localhost:8080/",
          "height": 265
        },
        "id": "TkcyViNfJMgS",
        "outputId": "fe7ebff1-1e11-4e0f-8925-5d76082375ab"
      },
      "outputs": [
        {
          "output_type": "display_data",
          "data": {
            "text/plain": [
              "<Figure size 432x288 with 1 Axes>"
            ],
            "image/png": "[encoded data removed]"
          },
          "metadata": {
            "needs_background": "light"
          }
        }
      ],
      "source": [
        "import numpy as np\n",
        "\n",
        "# evenly sampled time at 200ms intervals\n",
        "t = np.arange(0., 5., 0.2)\n",
        "\n",
        "# red dashes, blue squares and green triangles\n",
        "plt.plot(t, t, 'r--', t, t**2, 'bs', t, t**3, 'g^')\n",
        "plt.show()"
      ]
    },
    {
      "cell_type": "markdown",
      "metadata": {
        "id": "UdP3s0lGJMgS"
      },
      "source": [
        "scatter 차트에서 점의 크기를 활용하기"
      ]
    },
    {
      "cell_type": "code",
      "execution_count": null,
      "metadata": {
        "colab": {
          "base_uri": "https://localhost:8080/",
          "height": 372
        },
        "id": "Wh8sE_GhJMgS",
        "outputId": "22dcaa27-280e-4e4f-df42-f4b3fe7c921c"
      },
      "outputs": [
        {
          "output_type": "stream",
          "name": "stderr",
          "text": [
            "/usr/local/lib/python3.7/dist-packages/matplotlib/backends/backend_agg.py:214: RuntimeWarning: Glyph 8722 missing from current font.\n",
            "  font.set_text(s, 0.0, flags=flags)\n",
            "/usr/local/lib/python3.7/dist-packages/matplotlib/backends/backend_agg.py:183: RuntimeWarning: Glyph 8722 missing from current font.\n",
            "  font.set_text(s, 0, flags=flags)\n"
          ]
        },
        {
          "output_type": "display_data",
          "data": {
            "text/plain": [
              "<Figure size 432x288 with 1 Axes>"
            ],
            "image/png": "[encoded data removed]"
          },
          "metadata": {
            "needs_background": "light"
          }
        }
      ],
      "source": [
        "data = {'a': np.arange(50),\n",
        "        'c': np.random.randint(0, 50, 50),\n",
        "        'd': np.random.randn(50)}\n",
        "data['b'] = data['a'] + 10 * np.random.randn(50)\n",
        "data['d'] = np.abs(data['d']) * 100\n",
        "\n",
        "plt.scatter('a', 'b', c='c', s='d', data=data)\n",
        "plt.xlabel('entry a')\n",
        "plt.ylabel('entry b')\n",
        "plt.show();"
      ]
    },
    {
      "cell_type": "markdown",
      "metadata": {
        "id": "woxzoujLJMgS"
      },
      "source": [
        "카테고리로그래프 그려보기"
      ]
    },
    {
      "cell_type": "code",
      "execution_count": null,
      "metadata": {
        "colab": {
          "base_uri": "https://localhost:8080/",
          "height": 233
        },
        "id": "xdsQqesWJMgS",
        "outputId": "fe0d69b9-69ae-4ee0-d8aa-2e3deadc8b17"
      },
      "outputs": [
        {
          "output_type": "display_data",
          "data": {
            "text/plain": [
              "<Figure size 648x216 with 3 Axes>"
            ],
            "image/png": "[encoded data removed]"
          },
          "metadata": {
            "needs_background": "light"
          }
        }
      ],
      "source": [
        "names = ['group_a', 'group_b', 'group_c']\n",
        "values = [1, 10, 100]\n",
        "\n",
        "plt.figure(figsize=(9, 3))\n",
        "\n",
        "plt.subplot(131)\n",
        "plt.bar(names, values)\n",
        "plt.subplot(132)\n",
        "plt.scatter(names, values)\n",
        "plt.subplot(133)\n",
        "plt.plot(names, values)\n",
        "plt.suptitle('Categorical Plotting')\n",
        "plt.show()"
      ]
    },
    {
      "cell_type": "markdown",
      "metadata": {
        "id": "1njb1uCvJMgT"
      },
      "source": [
        "subplot으로 여러 개의 차트 그리기 (pyplot-style)"
      ]
    },
    {
      "cell_type": "code",
      "execution_count": null,
      "metadata": {
        "colab": {
          "base_uri": "https://localhost:8080/",
          "height": 356
        },
        "id": "bgLUBXRlJMgT",
        "outputId": "fea3b4ca-419a-4d33-df04-f2f02972a955"
      },
      "outputs": [
        {
          "output_type": "stream",
          "name": "stderr",
          "text": [
            "/usr/local/lib/python3.7/dist-packages/matplotlib/backends/backend_agg.py:214: RuntimeWarning: Glyph 8722 missing from current font.\n",
            "  font.set_text(s, 0.0, flags=flags)\n",
            "/usr/local/lib/python3.7/dist-packages/matplotlib/backends/backend_agg.py:183: RuntimeWarning: Glyph 8722 missing from current font.\n",
            "  font.set_text(s, 0, flags=flags)\n"
          ]
        },
        {
          "output_type": "display_data",
          "data": {
            "text/plain": [
              "<Figure size 432x288 with 2 Axes>"
            ],
            "image/png": "[encoded data removed]"
          },
          "metadata": {
            "needs_background": "light"
          }
        }
      ],
      "source": [
        "def f(t):\n",
        "    return np.exp(-t) * np.cos(2*np.pi*t)\n",
        "\n",
        "t1 = np.arange(0.0, 5.0, 0.1)\n",
        "t2 = np.arange(0.0, 5.0, 0.02)\n",
        "\n",
        "plt.figure()\n",
        "plt.subplot(211)\n",
        "plt.plot(t1, f(t1), 'bo', t2, f(t2), 'k')\n",
        "\n",
        "plt.subplot(212)\n",
        "plt.plot(t2, np.cos(2*np.pi*t2), 'r--')\n",
        "plt.show();"
      ]
    },
    {
      "cell_type": "markdown",
      "metadata": {
        "id": "KJyWGnAcJMgT"
      },
      "source": [
        "차트에 텍스트 넣기"
      ]
    },
    {
      "cell_type": "code",
      "execution_count": null,
      "metadata": {
        "colab": {
          "base_uri": "https://localhost:8080/",
          "height": 295
        },
        "id": "TYzORWLwJMgT",
        "outputId": "eba71e04-a308-465a-abd7-3fdbe70db648"
      },
      "outputs": [
        {
          "output_type": "display_data",
          "data": {
            "text/plain": [
              "<Figure size 432x288 with 1 Axes>"
            ],
            "image/png": "[encoded data removed]"
          },
          "metadata": {
            "needs_background": "light"
          }
        }
      ],
      "source": [
        "mu, sigma = 100, 15\n",
        "x = mu + sigma * np.random.randn(10000)\n",
        "\n",
        "# the histogram of the data\n",
        "n, bins, patches = plt.hist(x, 50, density=1, facecolor='g', alpha=0.75)\n",
        "\n",
        "\n",
        "plt.xlabel('Smarts')\n",
        "plt.ylabel('Probability')\n",
        "plt.title('Histogram of IQ')\n",
        "plt.text(60, .025, r'$\\mu=100,\\ \\sigma=15$')\n",
        "plt.axis([40, 160, 0, 0.03])\n",
        "plt.grid(True)\n",
        "plt.show()"
      ]
    },
    {
      "cell_type": "markdown",
      "metadata": {
        "id": "UTRSz667JMgT"
      },
      "source": [
        "차트에 고급 어노테이션 넣기"
      ]
    },
    {
      "cell_type": "code",
      "execution_count": null,
      "metadata": {
        "colab": {
          "base_uri": "https://localhost:8080/",
          "height": 360
        },
        "id": "1hYWbflZJMgT",
        "outputId": "0aec0bc5-82b7-4476-ee20-d88ffc97a5aa"
      },
      "outputs": [
        {
          "output_type": "stream",
          "name": "stderr",
          "text": [
            "/usr/local/lib/python3.7/dist-packages/matplotlib/backends/backend_agg.py:214: RuntimeWarning: Glyph 8722 missing from current font.\n",
            "  font.set_text(s, 0.0, flags=flags)\n",
            "/usr/local/lib/python3.7/dist-packages/matplotlib/backends/backend_agg.py:183: RuntimeWarning: Glyph 8722 missing from current font.\n",
            "  font.set_text(s, 0, flags=flags)\n"
          ]
        },
        {
          "output_type": "display_data",
          "data": {
            "text/plain": [
              "<Figure size 432x288 with 1 Axes>"
            ],
            "image/png": "[encoded data removed]"
          },
          "metadata": {
            "needs_background": "light"
          }
        }
      ],
      "source": [
        "ax = plt.subplot()\n",
        "\n",
        "t = np.arange(0.0, 5.0, 0.01)\n",
        "s = np.cos(2*np.pi*t)\n",
        "line, = plt.plot(t, s, lw=2)\n",
        "\n",
        "plt.annotate('local max', xy=(2, 1), xytext=(3, 1.5),\n",
        "             arrowprops=dict(facecolor='black', shrink=0.05),\n",
        "             )\n",
        "\n",
        "plt.ylim(-2, 2)\n",
        "plt.show();"
      ]
    },
    {
      "cell_type": "markdown",
      "metadata": {
        "id": "2Q9nvOmoJMgU"
      },
      "source": [
        "여러 개의 그래프를 하나의 차트 안에 그리기  (hist,  plot)"
      ]
    },
    {
      "cell_type": "code",
      "execution_count": null,
      "metadata": {
        "colab": {
          "base_uri": "https://localhost:8080/",
          "height": 297
        },
        "id": "NKoFfjltJMgU",
        "outputId": "c01c9549-ce8b-472d-a72c-b096a929bf6d"
      },
      "outputs": [
        {
          "output_type": "display_data",
          "data": {
            "text/plain": [
              "<Figure size 432x288 with 1 Axes>"
            ],
            "image/png": "[encoded data removed]"
          },
          "metadata": {
            "needs_background": "light"
          }
        }
      ],
      "source": [
        "import numpy as np\n",
        "import matplotlib.pyplot as plt\n",
        "\n",
        "np.random.seed(19680801)\n",
        "\n",
        "# example data\n",
        "mu = 100  # mean of distribution\n",
        "sigma = 15  # standard deviation of distribution\n",
        "x = mu + sigma * np.random.randn(437)\n",
        "\n",
        "num_bins = 50\n",
        "\n",
        "fig, ax = plt.subplots()\n",
        "\n",
        "# the histogram of the data\n",
        "n, bins, patches = ax.hist(x, num_bins, density=True)\n",
        "\n",
        "# add a 'best fit' line\n",
        "y = ((1 / (np.sqrt(2 * np.pi) * sigma)) *\n",
        "     np.exp(-0.5 * (1 / sigma * (bins - mu))**2))\n",
        "ax.plot(bins, y, '--')\n",
        "ax.set_xlabel('Smarts')\n",
        "ax.set_ylabel('Probability density')\n",
        "ax.set_title(r'Histogram of IQ: $\\mu=100$, $\\sigma=15$')\n",
        "\n",
        "# Tweak spacing to prevent clipping of ylabel\n",
        "fig.tight_layout()\n",
        "plt.show()"
      ]
    }
  ],
  "metadata": {
    "kernelspec": {
      "display_name": "Python 3",
      "name": "python3"
    },
    "language_info": {
      "name": "python"
    },
    "toc": {
      "base_numbering": 1,
      "nav_menu": {
        "height": "144px",
        "width": "160px"
      },
      "number_sections": false,
      "sideBar": true,
      "skip_h1_title": false,
      "title_cell": "Table of Contents",
      "title_sidebar": "Contents",
      "toc_cell": false,
      "toc_position": {
        "height": "calc(100% - 180px)",
        "left": "10px",
        "top": "150px",
        "width": "211.705px"
      },
      "toc_section_display": true,
      "toc_window_display": true
    },
    "varInspector": {
      "cols": {
        "lenName": 16,
        "lenType": 16,
        "lenVar": 40
      },
      "kernels_config": {
        "python": {
          "delete_cmd_postfix": "",
          "delete_cmd_prefix": "del ",
          "library": "var_list.py",
          "varRefreshCmd": "print(var_dic_list())"
        },
        "r": {
          "delete_cmd_postfix": ") ",
          "delete_cmd_prefix": "rm(",
          "library": "var_list.r",
          "varRefreshCmd": "cat(var_dic_list()) "
        }
      },
      "types_to_exclude": [
        "module",
        "function",
        "builtin_function_or_method",
        "instance",
        "_Feature"
      ],
      "window_display": false
    },
    "colab": {
      "provenance": []
    }
  },
  "nbformat": 4,
  "nbformat_minor": 0
}