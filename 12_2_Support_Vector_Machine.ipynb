{
  "nbformat": 4,
  "nbformat_minor": 0,
  "metadata": {
    "kernelspec": {
      "display_name": "Python 3",
      "language": "python",
      "name": "python3"
    },
    "language_info": {
      "codemirror_mode": {
        "name": "ipython",
        "version": 3
      },
      "file_extension": ".py",
      "mimetype": "text/x-python",
      "name": "python",
      "nbconvert_exporter": "python",
      "pygments_lexer": "ipython3",
      "version": "3.7.1"
    },
    "colab": {
      "provenance": [],
      "include_colab_link": true
    }
  },
  "cells": [
    {
      "cell_type": "markdown",
      "metadata": {
        "id": "view-in-github",
        "colab_type": "text"
      },
      "source": [
        "<a href=\"https://colab.research.google.com/github/yerinsally/2022_PythonML/blob/main/12_2_Support_Vector_Machine.ipynb\" target=\"_parent\"><img src=\"https://colab.research.google.com/assets/colab-badge.svg\" alt=\"Open In Colab\"/></a>"
      ]
    },
    {
      "cell_type": "markdown",
      "metadata": {
        "id": "fB8q6U_u_VwM"
      },
      "source": [
        "# 1. 데이터 불러오기와 데이터셋 나누기"
      ]
    },
    {
      "cell_type": "code",
      "metadata": {
        "id": "1cLY2D4wQYbi",
        "colab": {
          "base_uri": "https://localhost:8080/",
          "height": 55
        },
        "outputId": "952fdd1b-af03-4a2f-bf3e-6c3f1fe6085a"
      },
      "source": [
        "from google.colab import drive\n",
        "drive.mount('/content/drive')"
      ],
      "execution_count": null,
      "outputs": [
        {
          "output_type": "stream",
          "text": [
            "Drive already mounted at /content/drive; to attempt to forcibly remount, call drive.mount(\"/content/drive\", force_remount=True).\n"
          ],
          "name": "stdout"
        }
      ]
    },
    {
      "cell_type": "code",
      "metadata": {
        "id": "2FL-6zTu_VwN"
      },
      "source": [
        "import warnings\n",
        "warnings.filterwarnings(\"ignore\")"
      ],
      "execution_count": null,
      "outputs": []
    },
    {
      "cell_type": "code",
      "metadata": {
        "id": "W8Yau5na_VwU"
      },
      "source": [
        "import pandas as pd"
      ],
      "execution_count": null,
      "outputs": []
    },
    {
      "cell_type": "code",
      "metadata": {
        "id": "fPP2Buok_VwY"
      },
      "source": [
        "data=pd.read_csv('/content/drive/My Drive/g_ml/Fvote.csv', encoding='utf-8')"
      ],
      "execution_count": null,
      "outputs": []
    },
    {
      "cell_type": "code",
      "metadata": {
        "id": "D9pgjpbj_Vwh"
      },
      "source": [
        "X=data[['gender_female', 'gender_male', 'region_Chungcheung', 'region_Honam', \n",
        "        'region_Others', 'region_Sudo', 'region_Youngnam', 'edu', 'income', \n",
        "        'age', 'score_gov', 'score_progress', 'score_intention']]"
      ],
      "execution_count": null,
      "outputs": []
    },
    {
      "cell_type": "code",
      "metadata": {
        "id": "meZm4ePh_Vwl"
      },
      "source": [
        "y=data[['vote']]"
      ],
      "execution_count": null,
      "outputs": []
    },
    {
      "cell_type": "code",
      "metadata": {
        "id": "9iRRNmIi_Vwr"
      },
      "source": [
        "from sklearn.model_selection import train_test_split"
      ],
      "execution_count": null,
      "outputs": []
    },
    {
      "cell_type": "code",
      "metadata": {
        "id": "5zPUNLsY_Vwu"
      },
      "source": [
        "X_train, X_test, y_train, y_test=train_test_split(X, y, random_state=42 )"
      ],
      "execution_count": null,
      "outputs": []
    },
    {
      "cell_type": "markdown",
      "metadata": {
        "id": "noUrTsea_Vw3"
      },
      "source": [
        "# 2. Grid Search "
      ]
    },
    {
      "cell_type": "code",
      "metadata": {
        "id": "FmPx-PvZ_Vw4"
      },
      "source": [
        "from sklearn.model_selection import GridSearchCV"
      ],
      "execution_count": null,
      "outputs": []
    },
    {
      "cell_type": "code",
      "metadata": {
        "id": "vBs3o9ui_Vw8"
      },
      "source": [
        "param_grid=[{'kernel': ['rbf'], 'C': [0.001, 0.01, 0.1, 1, 10, 100], \n",
        "             'gamma': [0.001, 0.01, 0.1, 1, 10, 100]}, \n",
        "            {'kernel': ['linear'], 'C': [0.001, 0.01, 0.1, 1, 10, 100], \n",
        "             'gamma': [0.001, 0.01, 0.1, 1, 10, 100]}]"
      ],
      "execution_count": null,
      "outputs": []
    },
    {
      "cell_type": "code",
      "metadata": {
        "id": "wWnBP7FB_VxA"
      },
      "source": [
        "from sklearn.svm import SVC"
      ],
      "execution_count": null,
      "outputs": []
    },
    {
      "cell_type": "code",
      "metadata": {
        "id": "Oq81B6xv_VxD"
      },
      "source": [
        "grid_search=GridSearchCV(SVC(), param_grid, cv=5, return_train_score=True)"
      ],
      "execution_count": null,
      "outputs": []
    },
    {
      "cell_type": "code",
      "metadata": {
        "id": "l2VJmV0W_VxK",
        "outputId": "d2ce3e39-efe8-49ea-ea0a-f67de8e3be62",
        "colab": {
          "base_uri": "https://localhost:8080/",
          "height": 299
        }
      },
      "source": [
        "grid_search.fit(X_train, y_train)"
      ],
      "execution_count": null,
      "outputs": [
        {
          "output_type": "execute_result",
          "data": {
            "text/plain": [
              "GridSearchCV(cv=5, error_score=nan,\n",
              "             estimator=SVC(C=1.0, break_ties=False, cache_size=200,\n",
              "                           class_weight=None, coef0=0.0,\n",
              "                           decision_function_shape='ovr', degree=3,\n",
              "                           gamma='scale', kernel='rbf', max_iter=-1,\n",
              "                           probability=False, random_state=None, shrinking=True,\n",
              "                           tol=0.001, verbose=False),\n",
              "             iid='deprecated', n_jobs=None,\n",
              "             param_grid=[{'C': [0.001, 0.01, 0.1, 1, 10, 100],\n",
              "                          'gamma': [0.001, 0.01, 0.1, 1, 10, 100],\n",
              "                          'kernel': ['rbf']},\n",
              "                         {'C': [0.001, 0.01, 0.1, 1, 10, 100],\n",
              "                          'gamma': [0.001, 0.01, 0.1, 1, 10, 100],\n",
              "                          'kernel': ['linear']}],\n",
              "             pre_dispatch='2*n_jobs', refit=True, return_train_score=True,\n",
              "             scoring=None, verbose=0)"
            ]
          },
          "metadata": {
            "tags": []
          },
          "execution_count": 24
        }
      ]
    },
    {
      "cell_type": "code",
      "metadata": {
        "id": "_tUFVME-_VxR",
        "outputId": "ab2cba08-cb23-4aed-8868-f33b427fa1da",
        "colab": {
          "base_uri": "https://localhost:8080/",
          "height": 35
        }
      },
      "source": [
        "print(\"Best Parameter: {}\".format(grid_search.best_params_))"
      ],
      "execution_count": null,
      "outputs": [
        {
          "output_type": "stream",
          "text": [
            "Best Parameter: {'C': 0.001, 'gamma': 0.001, 'kernel': 'rbf'}\n"
          ],
          "name": "stdout"
        }
      ]
    },
    {
      "cell_type": "code",
      "metadata": {
        "id": "26RWaAzP_VxU",
        "outputId": "4fbea020-6d7d-479e-a78e-285fb4cc3e01",
        "colab": {
          "base_uri": "https://localhost:8080/",
          "height": 35
        }
      },
      "source": [
        "print(\"Best Cross-validity Score: {:.3f}\".format(grid_search.best_score_))"
      ],
      "execution_count": null,
      "outputs": [
        {
          "output_type": "stream",
          "text": [
            "Best Cross-validity Score: 0.696\n"
          ],
          "name": "stdout"
        }
      ]
    },
    {
      "cell_type": "code",
      "metadata": {
        "id": "zMxPCCQH_VxZ",
        "outputId": "1a9d6c22-9e94-45fd-9401-2276fec44bab",
        "colab": {
          "base_uri": "https://localhost:8080/",
          "height": 35
        }
      },
      "source": [
        "print(\"Test set Score: {:.3f}\".format(grid_search.score(X_test, y_test)))"
      ],
      "execution_count": null,
      "outputs": [
        {
          "output_type": "stream",
          "text": [
            "Test set Score: 0.755\n"
          ],
          "name": "stdout"
        }
      ]
    },
    {
      "cell_type": "code",
      "metadata": {
        "id": "MNmkBFUb_Vxd"
      },
      "source": [
        "result_grid= pd.DataFrame(grid_search.cv_results_)"
      ],
      "execution_count": null,
      "outputs": []
    },
    {
      "cell_type": "code",
      "metadata": {
        "id": "gdOnUkQn_Vxg",
        "outputId": "9fbee9b5-1b7a-4e07-a63e-800faf8525d9",
        "colab": {
          "base_uri": "https://localhost:8080/",
          "height": 1000
        }
      },
      "source": [
        "result_grid"
      ],
      "execution_count": null,
      "outputs": [
        {
          "output_type": "execute_result",
          "data": {
            "text/html": [
              "<div>\n",
              "<style scoped>\n",
              "    .dataframe tbody tr th:only-of-type {\n",
              "        vertical-align: middle;\n",
              "    }\n",
              "\n",
              "    .dataframe tbody tr th {\n",
              "        vertical-align: top;\n",
              "    }\n",
              "\n",
              "    .dataframe thead th {\n",
              "        text-align: right;\n",
              "    }\n",
              "</style>\n",
              "<table border=\"1\" class=\"dataframe\">\n",
              "  <thead>\n",
              "    <tr style=\"text-align: right;\">\n",
              "      <th></th>\n",
              "      <th>mean_fit_time</th>\n",
              "      <th>std_fit_time</th>\n",
              "      <th>mean_score_time</th>\n",
              "      <th>std_score_time</th>\n",
              "      <th>param_C</th>\n",
              "      <th>param_gamma</th>\n",
              "      <th>param_kernel</th>\n",
              "      <th>params</th>\n",
              "      <th>split0_test_score</th>\n",
              "      <th>split1_test_score</th>\n",
              "      <th>split2_test_score</th>\n",
              "      <th>split3_test_score</th>\n",
              "      <th>split4_test_score</th>\n",
              "      <th>mean_test_score</th>\n",
              "      <th>std_test_score</th>\n",
              "      <th>rank_test_score</th>\n",
              "      <th>split0_train_score</th>\n",
              "      <th>split1_train_score</th>\n",
              "      <th>split2_train_score</th>\n",
              "      <th>split3_train_score</th>\n",
              "      <th>split4_train_score</th>\n",
              "      <th>mean_train_score</th>\n",
              "      <th>std_train_score</th>\n",
              "    </tr>\n",
              "  </thead>\n",
              "  <tbody>\n",
              "    <tr>\n",
              "      <th>0</th>\n",
              "      <td>0.003670</td>\n",
              "      <td>0.000755</td>\n",
              "      <td>0.001322</td>\n",
              "      <td>0.000219</td>\n",
              "      <td>0.001</td>\n",
              "      <td>0.001</td>\n",
              "      <td>rbf</td>\n",
              "      <td>{'C': 0.001, 'gamma': 0.001, 'kernel': 'rbf'}</td>\n",
              "      <td>0.6875</td>\n",
              "      <td>0.6875</td>\n",
              "      <td>0.68750</td>\n",
              "      <td>0.709677</td>\n",
              "      <td>0.709677</td>\n",
              "      <td>0.696371</td>\n",
              "      <td>0.010865</td>\n",
              "      <td>1</td>\n",
              "      <td>0.698413</td>\n",
              "      <td>0.698413</td>\n",
              "      <td>0.698413</td>\n",
              "      <td>0.692913</td>\n",
              "      <td>0.692913</td>\n",
              "      <td>0.696213</td>\n",
              "      <td>0.002694</td>\n",
              "    </tr>\n",
              "    <tr>\n",
              "      <th>1</th>\n",
              "      <td>0.003171</td>\n",
              "      <td>0.000482</td>\n",
              "      <td>0.001388</td>\n",
              "      <td>0.000591</td>\n",
              "      <td>0.001</td>\n",
              "      <td>0.01</td>\n",
              "      <td>rbf</td>\n",
              "      <td>{'C': 0.001, 'gamma': 0.01, 'kernel': 'rbf'}</td>\n",
              "      <td>0.6875</td>\n",
              "      <td>0.6875</td>\n",
              "      <td>0.68750</td>\n",
              "      <td>0.709677</td>\n",
              "      <td>0.709677</td>\n",
              "      <td>0.696371</td>\n",
              "      <td>0.010865</td>\n",
              "      <td>1</td>\n",
              "      <td>0.698413</td>\n",
              "      <td>0.698413</td>\n",
              "      <td>0.698413</td>\n",
              "      <td>0.692913</td>\n",
              "      <td>0.692913</td>\n",
              "      <td>0.696213</td>\n",
              "      <td>0.002694</td>\n",
              "    </tr>\n",
              "    <tr>\n",
              "      <th>2</th>\n",
              "      <td>0.002834</td>\n",
              "      <td>0.000098</td>\n",
              "      <td>0.001077</td>\n",
              "      <td>0.000069</td>\n",
              "      <td>0.001</td>\n",
              "      <td>0.1</td>\n",
              "      <td>rbf</td>\n",
              "      <td>{'C': 0.001, 'gamma': 0.1, 'kernel': 'rbf'}</td>\n",
              "      <td>0.6875</td>\n",
              "      <td>0.6875</td>\n",
              "      <td>0.68750</td>\n",
              "      <td>0.709677</td>\n",
              "      <td>0.709677</td>\n",
              "      <td>0.696371</td>\n",
              "      <td>0.010865</td>\n",
              "      <td>1</td>\n",
              "      <td>0.698413</td>\n",
              "      <td>0.698413</td>\n",
              "      <td>0.698413</td>\n",
              "      <td>0.692913</td>\n",
              "      <td>0.692913</td>\n",
              "      <td>0.696213</td>\n",
              "      <td>0.002694</td>\n",
              "    </tr>\n",
              "    <tr>\n",
              "      <th>3</th>\n",
              "      <td>0.002747</td>\n",
              "      <td>0.000014</td>\n",
              "      <td>0.001064</td>\n",
              "      <td>0.000024</td>\n",
              "      <td>0.001</td>\n",
              "      <td>1</td>\n",
              "      <td>rbf</td>\n",
              "      <td>{'C': 0.001, 'gamma': 1, 'kernel': 'rbf'}</td>\n",
              "      <td>0.6875</td>\n",
              "      <td>0.6875</td>\n",
              "      <td>0.68750</td>\n",
              "      <td>0.709677</td>\n",
              "      <td>0.709677</td>\n",
              "      <td>0.696371</td>\n",
              "      <td>0.010865</td>\n",
              "      <td>1</td>\n",
              "      <td>0.698413</td>\n",
              "      <td>0.698413</td>\n",
              "      <td>0.698413</td>\n",
              "      <td>0.692913</td>\n",
              "      <td>0.692913</td>\n",
              "      <td>0.696213</td>\n",
              "      <td>0.002694</td>\n",
              "    </tr>\n",
              "    <tr>\n",
              "      <th>4</th>\n",
              "      <td>0.002868</td>\n",
              "      <td>0.000101</td>\n",
              "      <td>0.001084</td>\n",
              "      <td>0.000040</td>\n",
              "      <td>0.001</td>\n",
              "      <td>10</td>\n",
              "      <td>rbf</td>\n",
              "      <td>{'C': 0.001, 'gamma': 10, 'kernel': 'rbf'}</td>\n",
              "      <td>0.6875</td>\n",
              "      <td>0.6875</td>\n",
              "      <td>0.68750</td>\n",
              "      <td>0.709677</td>\n",
              "      <td>0.709677</td>\n",
              "      <td>0.696371</td>\n",
              "      <td>0.010865</td>\n",
              "      <td>1</td>\n",
              "      <td>0.698413</td>\n",
              "      <td>0.698413</td>\n",
              "      <td>0.698413</td>\n",
              "      <td>0.692913</td>\n",
              "      <td>0.692913</td>\n",
              "      <td>0.696213</td>\n",
              "      <td>0.002694</td>\n",
              "    </tr>\n",
              "    <tr>\n",
              "      <th>...</th>\n",
              "      <td>...</td>\n",
              "      <td>...</td>\n",
              "      <td>...</td>\n",
              "      <td>...</td>\n",
              "      <td>...</td>\n",
              "      <td>...</td>\n",
              "      <td>...</td>\n",
              "      <td>...</td>\n",
              "      <td>...</td>\n",
              "      <td>...</td>\n",
              "      <td>...</td>\n",
              "      <td>...</td>\n",
              "      <td>...</td>\n",
              "      <td>...</td>\n",
              "      <td>...</td>\n",
              "      <td>...</td>\n",
              "      <td>...</td>\n",
              "      <td>...</td>\n",
              "      <td>...</td>\n",
              "      <td>...</td>\n",
              "      <td>...</td>\n",
              "      <td>...</td>\n",
              "      <td>...</td>\n",
              "    </tr>\n",
              "    <tr>\n",
              "      <th>67</th>\n",
              "      <td>0.004452</td>\n",
              "      <td>0.000678</td>\n",
              "      <td>0.001102</td>\n",
              "      <td>0.000031</td>\n",
              "      <td>100</td>\n",
              "      <td>0.01</td>\n",
              "      <td>linear</td>\n",
              "      <td>{'C': 100, 'gamma': 0.01, 'kernel': 'linear'}</td>\n",
              "      <td>0.6875</td>\n",
              "      <td>0.6875</td>\n",
              "      <td>0.65625</td>\n",
              "      <td>0.709677</td>\n",
              "      <td>0.709677</td>\n",
              "      <td>0.690121</td>\n",
              "      <td>0.019626</td>\n",
              "      <td>50</td>\n",
              "      <td>0.698413</td>\n",
              "      <td>0.698413</td>\n",
              "      <td>0.706349</td>\n",
              "      <td>0.692913</td>\n",
              "      <td>0.692913</td>\n",
              "      <td>0.697800</td>\n",
              "      <td>0.004931</td>\n",
              "    </tr>\n",
              "    <tr>\n",
              "      <th>68</th>\n",
              "      <td>0.004486</td>\n",
              "      <td>0.000683</td>\n",
              "      <td>0.001174</td>\n",
              "      <td>0.000073</td>\n",
              "      <td>100</td>\n",
              "      <td>0.1</td>\n",
              "      <td>linear</td>\n",
              "      <td>{'C': 100, 'gamma': 0.1, 'kernel': 'linear'}</td>\n",
              "      <td>0.6875</td>\n",
              "      <td>0.6875</td>\n",
              "      <td>0.65625</td>\n",
              "      <td>0.709677</td>\n",
              "      <td>0.709677</td>\n",
              "      <td>0.690121</td>\n",
              "      <td>0.019626</td>\n",
              "      <td>50</td>\n",
              "      <td>0.698413</td>\n",
              "      <td>0.698413</td>\n",
              "      <td>0.706349</td>\n",
              "      <td>0.692913</td>\n",
              "      <td>0.692913</td>\n",
              "      <td>0.697800</td>\n",
              "      <td>0.004931</td>\n",
              "    </tr>\n",
              "    <tr>\n",
              "      <th>69</th>\n",
              "      <td>0.004433</td>\n",
              "      <td>0.000571</td>\n",
              "      <td>0.001296</td>\n",
              "      <td>0.000267</td>\n",
              "      <td>100</td>\n",
              "      <td>1</td>\n",
              "      <td>linear</td>\n",
              "      <td>{'C': 100, 'gamma': 1, 'kernel': 'linear'}</td>\n",
              "      <td>0.6875</td>\n",
              "      <td>0.6875</td>\n",
              "      <td>0.65625</td>\n",
              "      <td>0.709677</td>\n",
              "      <td>0.709677</td>\n",
              "      <td>0.690121</td>\n",
              "      <td>0.019626</td>\n",
              "      <td>50</td>\n",
              "      <td>0.698413</td>\n",
              "      <td>0.698413</td>\n",
              "      <td>0.706349</td>\n",
              "      <td>0.692913</td>\n",
              "      <td>0.692913</td>\n",
              "      <td>0.697800</td>\n",
              "      <td>0.004931</td>\n",
              "    </tr>\n",
              "    <tr>\n",
              "      <th>70</th>\n",
              "      <td>0.004430</td>\n",
              "      <td>0.000564</td>\n",
              "      <td>0.001180</td>\n",
              "      <td>0.000132</td>\n",
              "      <td>100</td>\n",
              "      <td>10</td>\n",
              "      <td>linear</td>\n",
              "      <td>{'C': 100, 'gamma': 10, 'kernel': 'linear'}</td>\n",
              "      <td>0.6875</td>\n",
              "      <td>0.6875</td>\n",
              "      <td>0.65625</td>\n",
              "      <td>0.709677</td>\n",
              "      <td>0.709677</td>\n",
              "      <td>0.690121</td>\n",
              "      <td>0.019626</td>\n",
              "      <td>50</td>\n",
              "      <td>0.698413</td>\n",
              "      <td>0.698413</td>\n",
              "      <td>0.706349</td>\n",
              "      <td>0.692913</td>\n",
              "      <td>0.692913</td>\n",
              "      <td>0.697800</td>\n",
              "      <td>0.004931</td>\n",
              "    </tr>\n",
              "    <tr>\n",
              "      <th>71</th>\n",
              "      <td>0.004382</td>\n",
              "      <td>0.000604</td>\n",
              "      <td>0.001088</td>\n",
              "      <td>0.000041</td>\n",
              "      <td>100</td>\n",
              "      <td>100</td>\n",
              "      <td>linear</td>\n",
              "      <td>{'C': 100, 'gamma': 100, 'kernel': 'linear'}</td>\n",
              "      <td>0.6875</td>\n",
              "      <td>0.6875</td>\n",
              "      <td>0.65625</td>\n",
              "      <td>0.709677</td>\n",
              "      <td>0.709677</td>\n",
              "      <td>0.690121</td>\n",
              "      <td>0.019626</td>\n",
              "      <td>50</td>\n",
              "      <td>0.698413</td>\n",
              "      <td>0.698413</td>\n",
              "      <td>0.706349</td>\n",
              "      <td>0.692913</td>\n",
              "      <td>0.692913</td>\n",
              "      <td>0.697800</td>\n",
              "      <td>0.004931</td>\n",
              "    </tr>\n",
              "  </tbody>\n",
              "</table>\n",
              "<p>72 rows × 23 columns</p>\n",
              "</div>"
            ],
            "text/plain": [
              "    mean_fit_time  std_fit_time  ...  mean_train_score  std_train_score\n",
              "0        0.003670      0.000755  ...          0.696213         0.002694\n",
              "1        0.003171      0.000482  ...          0.696213         0.002694\n",
              "2        0.002834      0.000098  ...          0.696213         0.002694\n",
              "3        0.002747      0.000014  ...          0.696213         0.002694\n",
              "4        0.002868      0.000101  ...          0.696213         0.002694\n",
              "..            ...           ...  ...               ...              ...\n",
              "67       0.004452      0.000678  ...          0.697800         0.004931\n",
              "68       0.004486      0.000683  ...          0.697800         0.004931\n",
              "69       0.004433      0.000571  ...          0.697800         0.004931\n",
              "70       0.004430      0.000564  ...          0.697800         0.004931\n",
              "71       0.004382      0.000604  ...          0.697800         0.004931\n",
              "\n",
              "[72 rows x 23 columns]"
            ]
          },
          "metadata": {
            "tags": []
          },
          "execution_count": 29
        }
      ]
    },
    {
      "cell_type": "code",
      "metadata": {
        "id": "wyZhpTrv_Vxo",
        "outputId": "a4082260-d5dd-46f9-9dc7-db1a17dfab93",
        "colab": {
          "base_uri": "https://localhost:8080/",
          "height": 283
        }
      },
      "source": [
        "import matplotlib.pyplot as plt\n",
        "plt.plot(result_grid['param_C'], result_grid['mean_train_score'], label=\"Train\")\n",
        "plt.plot(result_grid['param_C'], result_grid['mean_test_score'], label=\"Test\")\n",
        "plt.legend()"
      ],
      "execution_count": null,
      "outputs": [
        {
          "output_type": "execute_result",
          "data": {
            "text/plain": [
              "<matplotlib.legend.Legend at 0x7f4d5c96eef0>"
            ]
          },
          "metadata": {
            "tags": []
          },
          "execution_count": 30
        },
        {
          "output_type": "display_data",
          "data": {
            "image/png": "[encoded data removed]",
            "text/plain": [
              "<Figure size 432x288 with 1 Axes>"
            ]
          },
          "metadata": {
            "tags": [],
            "needs_background": "light"
          }
        }
      ]
    },
    {
      "cell_type": "code",
      "metadata": {
        "id": "xKjr_4i0_Vxr",
        "outputId": "7ab4f83d-31b0-4db7-d1b3-f571d8372dc2",
        "colab": {
          "base_uri": "https://localhost:8080/",
          "height": 283
        }
      },
      "source": [
        "import matplotlib.pyplot as plt\n",
        "plt.plot(result_grid['param_gamma'], result_grid['mean_train_score'], label=\"Train\")\n",
        "plt.plot(result_grid['param_gamma'], result_grid['mean_test_score'], label=\"Test\")\n",
        "plt.legend()"
      ],
      "execution_count": null,
      "outputs": [
        {
          "output_type": "execute_result",
          "data": {
            "text/plain": [
              "<matplotlib.legend.Legend at 0x7f4d5c4d1278>"
            ]
          },
          "metadata": {
            "tags": []
          },
          "execution_count": 31
        },
        {
          "output_type": "display_data",
          "data": {
            "image/png": "[encoded data removed]",
            "text/plain": [
              "<Figure size 432x288 with 1 Axes>"
            ]
          },
          "metadata": {
            "tags": [],
            "needs_background": "light"
          }
        }
      ]
    },
    {
      "cell_type": "markdown",
      "metadata": {
        "id": "WXs7yXqt_Vxv"
      },
      "source": [
        "# 3. Random Search"
      ]
    },
    {
      "cell_type": "code",
      "metadata": {
        "id": "OUvuCWuF_Vxv"
      },
      "source": [
        "from sklearn.model_selection import RandomizedSearchCV"
      ],
      "execution_count": null,
      "outputs": []
    },
    {
      "cell_type": "code",
      "metadata": {
        "id": "zkUOjYO3_Vxy"
      },
      "source": [
        "from scipy.stats import randint"
      ],
      "execution_count": null,
      "outputs": []
    },
    {
      "cell_type": "code",
      "metadata": {
        "id": "e7aDsPn1_Vx1"
      },
      "source": [
        "param_distribs={'kernel': ['rbf'], 'C': randint(low=0.001, high=100), \n",
        "                'gamma': randint(low=0.001, high=100)}"
      ],
      "execution_count": null,
      "outputs": []
    },
    {
      "cell_type": "code",
      "metadata": {
        "id": "ehDLoyuk_Vx4"
      },
      "source": [
        "from sklearn.svm import SVC"
      ],
      "execution_count": null,
      "outputs": []
    },
    {
      "cell_type": "code",
      "metadata": {
        "id": "nK4PFo6L_Vx-"
      },
      "source": [
        "random_search=RandomizedSearchCV(SVC(), param_distributions=param_distribs, cv=5, return_train_score=True)"
      ],
      "execution_count": null,
      "outputs": []
    },
    {
      "cell_type": "code",
      "metadata": {
        "id": "hvTP6qF3_VyD",
        "outputId": "93610d3e-3ede-4fe3-8099-3138f6ae5108",
        "colab": {
          "base_uri": "https://localhost:8080/",
          "height": 266
        }
      },
      "source": [
        "random_search.fit(X_train, y_train)"
      ],
      "execution_count": null,
      "outputs": [
        {
          "output_type": "execute_result",
          "data": {
            "text/plain": [
              "RandomizedSearchCV(cv=5, error_score=nan,\n",
              "                   estimator=SVC(C=1.0, break_ties=False, cache_size=200,\n",
              "                                 class_weight=None, coef0=0.0,\n",
              "                                 decision_function_shape='ovr', degree=3,\n",
              "                                 gamma='scale', kernel='rbf', max_iter=-1,\n",
              "                                 probability=False, random_state=None,\n",
              "                                 shrinking=True, tol=0.001, verbose=False),\n",
              "                   iid='deprecated', n_iter=10, n_jobs=None,\n",
              "                   param_distributions={'C': <scipy.stats._distn_infrastructure.rv_frozen object at 0x7f4d5d22dc18>,\n",
              "                                        'gamma': <scipy.stats._distn_infrastructure.rv_frozen object at 0x7f4d5c95b668>,\n",
              "                                        'kernel': ['rbf']},\n",
              "                   pre_dispatch='2*n_jobs', random_state=None, refit=True,\n",
              "                   return_train_score=True, scoring=None, verbose=0)"
            ]
          },
          "metadata": {
            "tags": []
          },
          "execution_count": 37
        }
      ]
    },
    {
      "cell_type": "code",
      "metadata": {
        "id": "WyBYISzc_VyO",
        "outputId": "e6656d66-b1e5-429f-d0b0-cedacdb1f53c",
        "colab": {
          "base_uri": "https://localhost:8080/",
          "height": 35
        }
      },
      "source": [
        "print(\"Best Parameter: {}\".format(random_search.best_params_))"
      ],
      "execution_count": null,
      "outputs": [
        {
          "output_type": "stream",
          "text": [
            "Best Parameter: {'C': 15, 'gamma': 85, 'kernel': 'rbf'}\n"
          ],
          "name": "stdout"
        }
      ]
    },
    {
      "cell_type": "code",
      "metadata": {
        "id": "xpZB3Srj_VyR",
        "outputId": "3b908ac6-4b6c-4356-d09d-384f8ab9168f",
        "colab": {
          "base_uri": "https://localhost:8080/",
          "height": 35
        }
      },
      "source": [
        "print(\"Best Cross-validity Score: {:.3f}\".format(random_search.best_score_))"
      ],
      "execution_count": null,
      "outputs": [
        {
          "output_type": "stream",
          "text": [
            "Best Cross-validity Score: 0.665\n"
          ],
          "name": "stdout"
        }
      ]
    },
    {
      "cell_type": "code",
      "metadata": {
        "id": "DFwZH9_P_VyU",
        "outputId": "5bc369bf-177e-4011-f31c-6605c2187c7c",
        "colab": {
          "base_uri": "https://localhost:8080/",
          "height": 35
        }
      },
      "source": [
        "print(\"Test set Score: {:.3f}\".format(random_search.score(X_test, y_test)))"
      ],
      "execution_count": null,
      "outputs": [
        {
          "output_type": "stream",
          "text": [
            "Test set Score: 0.755\n"
          ],
          "name": "stdout"
        }
      ]
    },
    {
      "cell_type": "code",
      "metadata": {
        "id": "Exi7fP27_VyW"
      },
      "source": [
        "result_random = random_search.cv_results_"
      ],
      "execution_count": null,
      "outputs": []
    },
    {
      "cell_type": "code",
      "metadata": {
        "id": "x-tywp7F_Vyb"
      },
      "source": [
        "result_random = pd.DataFrame(result_random)"
      ],
      "execution_count": null,
      "outputs": []
    },
    {
      "cell_type": "code",
      "metadata": {
        "id": "SojSD1RY_Vye",
        "outputId": "b17bc4ba-aa07-4ba8-9e8c-af5b4da3f7f4",
        "colab": {
          "base_uri": "https://localhost:8080/",
          "height": 283
        }
      },
      "source": [
        "import matplotlib.pyplot as plt\n",
        "plt.plot(result_grid['param_C'], result_grid['mean_train_score'], label=\"Train\")\n",
        "plt.plot(result_grid['param_C'], result_grid['mean_test_score'], label=\"Test\")\n",
        "plt.legend()"
      ],
      "execution_count": null,
      "outputs": [
        {
          "output_type": "execute_result",
          "data": {
            "text/plain": [
              "<matplotlib.legend.Legend at 0x7f4d5c3e4358>"
            ]
          },
          "metadata": {
            "tags": []
          },
          "execution_count": 43
        },
        {
          "output_type": "display_data",
          "data": {
            "image/png": "[encoded data removed]",
            "text/plain": [
              "<Figure size 432x288 with 1 Axes>"
            ]
          },
          "metadata": {
            "tags": [],
            "needs_background": "light"
          }
        }
      ]
    },
    {
      "cell_type": "code",
      "metadata": {
        "id": "8cM6Sbot_Vyg",
        "outputId": "6a66bf4f-a6fc-4a1c-e815-e2077bdc602b",
        "colab": {
          "base_uri": "https://localhost:8080/",
          "height": 283
        }
      },
      "source": [
        "import matplotlib.pyplot as plt\n",
        "plt.plot(result_grid['param_gamma'], result_grid['mean_train_score'], label=\"Train\")\n",
        "plt.plot(result_grid['param_gamma'], result_grid['mean_test_score'], label=\"Test\")\n",
        "plt.legend()"
      ],
      "execution_count": null,
      "outputs": [
        {
          "output_type": "execute_result",
          "data": {
            "text/plain": [
              "<matplotlib.legend.Legend at 0x7f4d5c3ce3c8>"
            ]
          },
          "metadata": {
            "tags": []
          },
          "execution_count": 44
        },
        {
          "output_type": "display_data",
          "data": {
            "image/png": "[encoded data removed]",
            "text/plain": [
              "<Figure size 432x288 with 1 Axes>"
            ]
          },
          "metadata": {
            "tags": [],
            "needs_background": "light"
          }
        }
      ]
    },
    {
      "cell_type": "markdown",
      "metadata": {
        "id": "epazCMjn_Vyk"
      },
      "source": [
        "# 4. 모델평가"
      ]
    },
    {
      "cell_type": "code",
      "metadata": {
        "id": "OXCg0RcX_Vyk"
      },
      "source": [
        "from sklearn.svm import SVC"
      ],
      "execution_count": null,
      "outputs": []
    },
    {
      "cell_type": "code",
      "metadata": {
        "id": "w-f-jhlg_Vym"
      },
      "source": [
        "svc1=SVC(C=80, gamma=71, kernel='rbf')"
      ],
      "execution_count": null,
      "outputs": []
    },
    {
      "cell_type": "code",
      "metadata": {
        "id": "ZbzVNA_t_Vyr",
        "outputId": "079cfaaa-8af1-4e05-d420-198bc50d5e66",
        "colab": {
          "base_uri": "https://localhost:8080/",
          "height": 87
        }
      },
      "source": [
        "svc1.fit(X_train, y_train)"
      ],
      "execution_count": null,
      "outputs": [
        {
          "output_type": "execute_result",
          "data": {
            "text/plain": [
              "SVC(C=80, break_ties=False, cache_size=200, class_weight=None, coef0=0.0,\n",
              "    decision_function_shape='ovr', degree=3, gamma=71, kernel='rbf',\n",
              "    max_iter=-1, probability=False, random_state=None, shrinking=True,\n",
              "    tol=0.001, verbose=False)"
            ]
          },
          "metadata": {
            "tags": []
          },
          "execution_count": 47
        }
      ]
    },
    {
      "cell_type": "code",
      "metadata": {
        "id": "Y_BO0TGT_Vyw"
      },
      "source": [
        "from sklearn.metrics import confusion_matrix"
      ],
      "execution_count": null,
      "outputs": []
    },
    {
      "cell_type": "code",
      "metadata": {
        "id": "fLY1BsJ-_Vy2"
      },
      "source": [
        "pred_train=svc1.predict(X_train)"
      ],
      "execution_count": null,
      "outputs": []
    },
    {
      "cell_type": "code",
      "metadata": {
        "id": "vvr4DdrV_Vy5"
      },
      "source": [
        "confusion_train=confusion_matrix(y_train, pred_train)"
      ],
      "execution_count": null,
      "outputs": []
    },
    {
      "cell_type": "code",
      "metadata": {
        "id": "Yos5YaOe_VzA",
        "outputId": "1e4d40af-329b-490d-dd49-1ea8a4688db7",
        "colab": {
          "base_uri": "https://localhost:8080/",
          "height": 70
        }
      },
      "source": [
        "print(\"훈련데이터 오차행렬:\\n\", confusion_train)"
      ],
      "execution_count": null,
      "outputs": [
        {
          "output_type": "stream",
          "text": [
            "훈련데이터 오차행렬:\n",
            " [[ 48   0]\n",
            " [  0 110]]\n"
          ],
          "name": "stdout"
        }
      ]
    },
    {
      "cell_type": "code",
      "metadata": {
        "id": "yKknbMke_VzM"
      },
      "source": [
        "pred_test=svc1.predict(X_test)"
      ],
      "execution_count": null,
      "outputs": []
    },
    {
      "cell_type": "code",
      "metadata": {
        "id": "MtBDIf7z_VzU"
      },
      "source": [
        "confusion_test=confusion_matrix(y_test, pred_test)"
      ],
      "execution_count": null,
      "outputs": []
    },
    {
      "cell_type": "code",
      "metadata": {
        "id": "vIH00j0W_Vzc",
        "outputId": "7ef41cdf-87c3-4d3c-82ac-20b509e5fa25",
        "colab": {
          "base_uri": "https://localhost:8080/",
          "height": 70
        }
      },
      "source": [
        "print(\"테스트데이터 오차행렬:\\n\", confusion_test)"
      ],
      "execution_count": null,
      "outputs": [
        {
          "output_type": "stream",
          "text": [
            "테스트데이터 오차행렬:\n",
            " [[ 0 13]\n",
            " [ 0 40]]\n"
          ],
          "name": "stdout"
        }
      ]
    },
    {
      "cell_type": "code",
      "metadata": {
        "id": "NzV0XNtJ_Vzj"
      },
      "source": [
        "from sklearn.metrics import f1_score"
      ],
      "execution_count": null,
      "outputs": []
    },
    {
      "cell_type": "code",
      "metadata": {
        "id": "Tvd8fAWR_Vzm"
      },
      "source": [
        "f1=f1_score(y_test, pred_test)"
      ],
      "execution_count": null,
      "outputs": []
    },
    {
      "cell_type": "code",
      "metadata": {
        "id": "yp0YYoCH_Vzv",
        "outputId": "495f564c-45f7-4ebc-de3c-082797a18874",
        "colab": {
          "base_uri": "https://localhost:8080/",
          "height": 52
        }
      },
      "source": [
        "print(\"f1 score:\\n\", f1)"
      ],
      "execution_count": null,
      "outputs": [
        {
          "output_type": "stream",
          "text": [
            "f1 score:\n",
            " 0.8602150537634409\n"
          ],
          "name": "stdout"
        }
      ]
    },
    {
      "cell_type": "code",
      "metadata": {
        "id": "SFo8r72m_Vz2"
      },
      "source": [
        "from sklearn.metrics import classification_report"
      ],
      "execution_count": null,
      "outputs": []
    },
    {
      "cell_type": "code",
      "metadata": {
        "id": "KCS0tCpS_Vz5"
      },
      "source": [
        "cfreport=classification_report(y_test, pred_test)"
      ],
      "execution_count": null,
      "outputs": []
    },
    {
      "cell_type": "code",
      "metadata": {
        "id": "mMCOebmi_V0B",
        "outputId": "377f9898-db0e-430c-e5ae-b18851681ea3",
        "colab": {
          "base_uri": "https://localhost:8080/",
          "height": 193
        }
      },
      "source": [
        "print(\"분류예측 레포트:\\n\", cfreport)"
      ],
      "execution_count": null,
      "outputs": [
        {
          "output_type": "stream",
          "text": [
            "분류예측 레포트:\n",
            "               precision    recall  f1-score   support\n",
            "\n",
            "           0       0.00      0.00      0.00        13\n",
            "           1       0.75      1.00      0.86        40\n",
            "\n",
            "    accuracy                           0.75        53\n",
            "   macro avg       0.38      0.50      0.43        53\n",
            "weighted avg       0.57      0.75      0.65        53\n",
            "\n"
          ],
          "name": "stdout"
        }
      ]
    },
    {
      "cell_type": "markdown",
      "metadata": {
        "id": "1cZCPY-f_V0F"
      },
      "source": [
        "# 5. 다중분류의 적용"
      ]
    },
    {
      "cell_type": "code",
      "metadata": {
        "id": "q4kHLdo9_V0G"
      },
      "source": [
        "import warnings\n",
        "warnings.filterwarnings(\"ignore\")"
      ],
      "execution_count": null,
      "outputs": []
    },
    {
      "cell_type": "code",
      "metadata": {
        "id": "1jMvV8Ux_V0I"
      },
      "source": [
        "import pandas as pd"
      ],
      "execution_count": null,
      "outputs": []
    },
    {
      "cell_type": "code",
      "metadata": {
        "id": "HMwjgYt5_V0K"
      },
      "source": [
        "data=pd.read_csv('/content/drive/My Drive/g_ml/Fvote.csv', encoding='utf-8')"
      ],
      "execution_count": null,
      "outputs": []
    },
    {
      "cell_type": "code",
      "metadata": {
        "id": "udlxQqlg_V0X"
      },
      "source": [
        "X=data[['gender_female', 'gender_male', 'region_Chungcheung', 'region_Honam', \n",
        "        'region_Others', 'region_Sudo', 'region_Youngnam', 'edu', 'income', \n",
        "        'age', 'score_gov', 'score_progress', 'score_intention']]"
      ],
      "execution_count": null,
      "outputs": []
    },
    {
      "cell_type": "code",
      "metadata": {
        "id": "a-Dbg4K9_V0d"
      },
      "source": [
        "y=data[['parties']]"
      ],
      "execution_count": null,
      "outputs": []
    },
    {
      "cell_type": "code",
      "metadata": {
        "id": "q2CJ3xgf_V00"
      },
      "source": [
        "from sklearn.model_selection import train_test_split"
      ],
      "execution_count": null,
      "outputs": []
    },
    {
      "cell_type": "code",
      "metadata": {
        "id": "HQSfQkHm_V03"
      },
      "source": [
        "X_train, X_test, y_train, y_test=train_test_split(X, y, random_state=42 )"
      ],
      "execution_count": null,
      "outputs": []
    },
    {
      "cell_type": "code",
      "metadata": {
        "id": "Mz6_7Fih_V08"
      },
      "source": [
        "from sklearn.model_selection import GridSearchCV"
      ],
      "execution_count": null,
      "outputs": []
    },
    {
      "cell_type": "code",
      "metadata": {
        "id": "9m2WA-6E_V0-"
      },
      "source": [
        "param_grid=[{'kernel': ['rbf'], 'C': [0.001, 0.01, 0.1, 1, 10, 100], \n",
        "             'gamma': [0.001, 0.01, 0.1, 1, 10, 100]}, \n",
        "            {'kernel': ['linear'], 'C': [0.001, 0.01, 0.1, 1, 10, 100], \n",
        "             'gamma': [0.001, 0.01, 0.1, 1, 10, 100]}]"
      ],
      "execution_count": null,
      "outputs": []
    },
    {
      "cell_type": "code",
      "metadata": {
        "id": "P2HSJ2yA_V1B"
      },
      "source": [
        "from sklearn.svm import SVC"
      ],
      "execution_count": null,
      "outputs": []
    },
    {
      "cell_type": "code",
      "metadata": {
        "id": "zbIgmqxE_V1N"
      },
      "source": [
        "grid_search=GridSearchCV(SVC(), param_grid, cv=5)"
      ],
      "execution_count": null,
      "outputs": []
    },
    {
      "cell_type": "code",
      "metadata": {
        "id": "vm05qz0V_V1T",
        "outputId": "82240498-cda6-4c28-af06-d1a48364a4a1",
        "colab": {
          "base_uri": "https://localhost:8080/",
          "height": 299
        }
      },
      "source": [
        "grid_search.fit(X_train, y_train)"
      ],
      "execution_count": null,
      "outputs": [
        {
          "output_type": "execute_result",
          "data": {
            "text/plain": [
              "GridSearchCV(cv=5, error_score=nan,\n",
              "             estimator=SVC(C=1.0, break_ties=False, cache_size=200,\n",
              "                           class_weight=None, coef0=0.0,\n",
              "                           decision_function_shape='ovr', degree=3,\n",
              "                           gamma='scale', kernel='rbf', max_iter=-1,\n",
              "                           probability=False, random_state=None, shrinking=True,\n",
              "                           tol=0.001, verbose=False),\n",
              "             iid='deprecated', n_jobs=None,\n",
              "             param_grid=[{'C': [0.001, 0.01, 0.1, 1, 10, 100],\n",
              "                          'gamma': [0.001, 0.01, 0.1, 1, 10, 100],\n",
              "                          'kernel': ['rbf']},\n",
              "                         {'C': [0.001, 0.01, 0.1, 1, 10, 100],\n",
              "                          'gamma': [0.001, 0.01, 0.1, 1, 10, 100],\n",
              "                          'kernel': ['linear']}],\n",
              "             pre_dispatch='2*n_jobs', refit=True, return_train_score=False,\n",
              "             scoring=None, verbose=0)"
            ]
          },
          "metadata": {
            "tags": []
          },
          "execution_count": 73
        }
      ]
    },
    {
      "cell_type": "code",
      "metadata": {
        "id": "VblykBfD_V1W",
        "outputId": "0c5e3c12-7dad-4233-cd66-816eb892c9dc",
        "colab": {
          "base_uri": "https://localhost:8080/",
          "height": 35
        }
      },
      "source": [
        "print(\"Best Parameter: {}\".format(grid_search.best_params_))"
      ],
      "execution_count": null,
      "outputs": [
        {
          "output_type": "stream",
          "text": [
            "Best Parameter: {'C': 10, 'gamma': 0.001, 'kernel': 'linear'}\n"
          ],
          "name": "stdout"
        }
      ]
    },
    {
      "cell_type": "code",
      "metadata": {
        "id": "iP_A-I_h_V1a",
        "outputId": "3dc16cf0-74ca-46bd-9d51-d6506d403740",
        "colab": {
          "base_uri": "https://localhost:8080/",
          "height": 35
        }
      },
      "source": [
        "print(\"Best Cross-validity Score: {:.3f}\".format(grid_search.best_score_))"
      ],
      "execution_count": null,
      "outputs": [
        {
          "output_type": "stream",
          "text": [
            "Best Cross-validity Score: 0.571\n"
          ],
          "name": "stdout"
        }
      ]
    },
    {
      "cell_type": "code",
      "metadata": {
        "id": "inf2JNM__V1e",
        "outputId": "728ae105-3140-4499-a170-de58990dbe76",
        "colab": {
          "base_uri": "https://localhost:8080/",
          "height": 35
        }
      },
      "source": [
        "print(\"Test set Score: {:.3f}\".format(grid_search.score(X_test, y_test)))"
      ],
      "execution_count": null,
      "outputs": [
        {
          "output_type": "stream",
          "text": [
            "Test set Score: 0.509\n"
          ],
          "name": "stdout"
        }
      ]
    },
    {
      "cell_type": "code",
      "metadata": {
        "id": "WJAlEZAH_V1g"
      },
      "source": [
        "svc2=SVC(C=10, gamma=0.001, kernel='linear')"
      ],
      "execution_count": null,
      "outputs": []
    },
    {
      "cell_type": "code",
      "metadata": {
        "id": "lBZl-ww9_V1j",
        "outputId": "cf9dd948-909d-499c-f52d-33663803e679",
        "colab": {
          "base_uri": "https://localhost:8080/",
          "height": 87
        }
      },
      "source": [
        "svc2.fit(X_train, y_train)"
      ],
      "execution_count": null,
      "outputs": [
        {
          "output_type": "execute_result",
          "data": {
            "text/plain": [
              "SVC(C=10, break_ties=False, cache_size=200, class_weight=None, coef0=0.0,\n",
              "    decision_function_shape='ovr', degree=3, gamma=0.001, kernel='linear',\n",
              "    max_iter=-1, probability=False, random_state=None, shrinking=True,\n",
              "    tol=0.001, verbose=False)"
            ]
          },
          "metadata": {
            "tags": []
          },
          "execution_count": 78
        }
      ]
    },
    {
      "cell_type": "code",
      "metadata": {
        "id": "N3Tk_F-5_V1m"
      },
      "source": [
        "from sklearn.metrics import confusion_matrix"
      ],
      "execution_count": null,
      "outputs": []
    },
    {
      "cell_type": "code",
      "metadata": {
        "id": "LFjYK-td_V1p"
      },
      "source": [
        "pred_train=svc2.predict(X_train)"
      ],
      "execution_count": null,
      "outputs": []
    },
    {
      "cell_type": "code",
      "metadata": {
        "id": "io0YryPU_V1s"
      },
      "source": [
        "confusion_train=confusion_matrix(y_train, pred_train)"
      ],
      "execution_count": null,
      "outputs": []
    },
    {
      "cell_type": "code",
      "metadata": {
        "id": "juE6i5gp_V1t",
        "outputId": "3871c15c-e14f-423f-8223-12b5fadfc36a",
        "colab": {
          "base_uri": "https://localhost:8080/",
          "height": 105
        }
      },
      "source": [
        "print(\"훈련데이터 오차행렬:\\n\", confusion_train)"
      ],
      "execution_count": null,
      "outputs": [
        {
          "output_type": "stream",
          "text": [
            "훈련데이터 오차행렬:\n",
            " [[23  2  3  9]\n",
            " [ 3 25  1  8]\n",
            " [ 2  1  6 10]\n",
            " [ 7  4  2 52]]\n"
          ],
          "name": "stdout"
        }
      ]
    },
    {
      "cell_type": "code",
      "metadata": {
        "id": "eEu5wZ6Q_V16"
      },
      "source": [
        "pred_test=svc2.predict(X_test)"
      ],
      "execution_count": null,
      "outputs": []
    },
    {
      "cell_type": "code",
      "metadata": {
        "id": "fkN1tGvH_V1_"
      },
      "source": [
        "confusion_test=confusion_matrix(y_test, pred_test)"
      ],
      "execution_count": null,
      "outputs": []
    },
    {
      "cell_type": "code",
      "metadata": {
        "id": "fmrVqfwF_V2F",
        "outputId": "d1cfe168-45bb-4977-d675-b8049a91f915",
        "colab": {
          "base_uri": "https://localhost:8080/",
          "height": 105
        }
      },
      "source": [
        "print(\"테스트데이터 오차행렬:\\n\", confusion_test)"
      ],
      "execution_count": null,
      "outputs": [
        {
          "output_type": "stream",
          "text": [
            "테스트데이터 오차행렬:\n",
            " [[ 5  2  1  5]\n",
            " [ 2  8  1  5]\n",
            " [ 2  0  1  3]\n",
            " [ 3  2  0 13]]\n"
          ],
          "name": "stdout"
        }
      ]
    },
    {
      "cell_type": "code",
      "metadata": {
        "id": "mTSAR6wY_V2M"
      },
      "source": [
        "from sklearn.metrics import f1_score"
      ],
      "execution_count": null,
      "outputs": []
    },
    {
      "cell_type": "code",
      "metadata": {
        "id": "OQzIuudn_V2P"
      },
      "source": [
        "f1=f1_score(y_test, pred_test, average=\"micro\" )"
      ],
      "execution_count": null,
      "outputs": []
    },
    {
      "cell_type": "code",
      "metadata": {
        "id": "WNcXvUnP_V2U",
        "outputId": "3608a4ac-b9a3-49e0-dee5-74a6402a2f63",
        "colab": {
          "base_uri": "https://localhost:8080/",
          "height": 52
        }
      },
      "source": [
        "print(\"micro f1 score:\\n\", f1)"
      ],
      "execution_count": null,
      "outputs": [
        {
          "output_type": "stream",
          "text": [
            "micro f1 score:\n",
            " 0.5094339622641509\n"
          ],
          "name": "stdout"
        }
      ]
    },
    {
      "cell_type": "code",
      "metadata": {
        "id": "A_2az3Cv_V2Y"
      },
      "source": [
        "f2=f1_score(y_test, pred_test, average=\"macro\" )"
      ],
      "execution_count": null,
      "outputs": []
    },
    {
      "cell_type": "code",
      "metadata": {
        "id": "76gHWJVZ_V2a",
        "outputId": "0b3ac8ec-c295-4a13-ceb4-787cb86eb587",
        "colab": {
          "base_uri": "https://localhost:8080/",
          "height": 52
        }
      },
      "source": [
        "print(\"macro f1 score:\\n\", f2)"
      ],
      "execution_count": null,
      "outputs": [
        {
          "output_type": "stream",
          "text": [
            "macro f1 score:\n",
            " 0.44613997113997117\n"
          ],
          "name": "stdout"
        }
      ]
    },
    {
      "cell_type": "code",
      "metadata": {
        "id": "_EgT7Pcs_V2c"
      },
      "source": [
        "from sklearn.metrics import classification_report"
      ],
      "execution_count": null,
      "outputs": []
    },
    {
      "cell_type": "code",
      "metadata": {
        "id": "pxnQ1Fwy_V2f"
      },
      "source": [
        "cfreport=classification_report(y_test, pred_test)"
      ],
      "execution_count": null,
      "outputs": []
    },
    {
      "cell_type": "code",
      "metadata": {
        "id": "yLAy4Ub5_V2g",
        "outputId": "4ad027d3-5114-41b2-9099-fde6dd9e508d",
        "colab": {
          "base_uri": "https://localhost:8080/",
          "height": 228
        }
      },
      "source": [
        "print(\"분류예측 레포트:\\n\", cfreport)"
      ],
      "execution_count": null,
      "outputs": [
        {
          "output_type": "stream",
          "text": [
            "분류예측 레포트:\n",
            "               precision    recall  f1-score   support\n",
            "\n",
            "           1       0.42      0.38      0.40        13\n",
            "           2       0.67      0.50      0.57        16\n",
            "           3       0.33      0.17      0.22         6\n",
            "           4       0.50      0.72      0.59        18\n",
            "\n",
            "    accuracy                           0.51        53\n",
            "   macro avg       0.48      0.44      0.45        53\n",
            "weighted avg       0.51      0.51      0.50        53\n",
            "\n"
          ],
          "name": "stdout"
        }
      ]
    },
    {
      "cell_type": "code",
      "metadata": {
        "id": "0txMOxRI_V2j"
      },
      "source": [],
      "execution_count": null,
      "outputs": []
    }
  ]
}