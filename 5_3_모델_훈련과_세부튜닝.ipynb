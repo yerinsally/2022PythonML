{
  "cells": [
    {
      "cell_type": "markdown",
      "metadata": {
        "id": "view-in-github",
        "colab_type": "text"
      },
      "source": [
        "<a href=\"https://colab.research.google.com/github/yerinsally/2022_PythonML/blob/main/5_3_%EB%AA%A8%EB%8D%B8_%ED%9B%88%EB%A0%A8%EA%B3%BC_%EC%84%B8%EB%B6%80%ED%8A%9C%EB%8B%9D.ipynb\" target=\"_parent\"><img src=\"https://colab.research.google.com/assets/colab-badge.svg\" alt=\"Open In Colab\"/></a>"
      ]
    },
    {
      "cell_type": "code",
      "source": [
        "# 기본적인 라이브러리 선언\n",
        "import numpy as np\n",
        "import pandas as pd\n",
        "from sklearn.model_selection import train_test_split\n",
        "from sklearn.neighbors import KNeighborsClassifier"
      ],
      "metadata": {
        "id": "wiOSacJbukTL"
      },
      "execution_count": null,
      "outputs": []
    },
    {
      "cell_type": "markdown",
      "metadata": {
        "id": "nmOp1mfgu8mi"
      },
      "source": [
        "# 1. 데이터 불러오기와 데이터셋 나누기"
      ]
    },
    {
      "cell_type": "code",
      "execution_count": null,
      "metadata": {
        "id": "Is1pFD32u8mk"
      },
      "outputs": [],
      "source": [
        "# 일반적인 경고 메세지는 무시함\n",
        "import warnings\n",
        "warnings.filterwarnings(\"ignore\")"
      ]
    },
    {
      "cell_type": "code",
      "source": [
        "from google.colab import drive\n",
        "drive.mount('/content/drive')"
      ],
      "metadata": {
        "colab": {
          "base_uri": "https://localhost:8080/"
        },
        "id": "-x0e9uzwu6lj",
        "outputId": "6c5b27c8-71c1-466c-d4d7-50cf44ee4651"
      },
      "execution_count": null,
      "outputs": [
        {
          "output_type": "stream",
          "name": "stdout",
          "text": [
            "Mounted at /content/drive\n"
          ]
        }
      ]
    },
    {
      "cell_type": "code",
      "execution_count": null,
      "metadata": {
        "id": "7QpXNuE0u8ml"
      },
      "outputs": [],
      "source": [
        "# One-hot Coding과 연속데이터 스케일링을 수행한 Fvote.cav 파일을 불러옴\n",
        "data=pd.read_csv('/content/drive/MyDrive/Colab Notebooks/MachineLearning/data/Fvote.csv', encoding='utf-8')"
      ]
    },
    {
      "cell_type": "code",
      "execution_count": null,
      "metadata": {
        "id": "iM8CcAiFu8ml"
      },
      "outputs": [],
      "source": [
        "# 입력에 해당하는 feature들을 X로 저장함\n",
        "X=data[['gender_female', 'gender_male', 'region_Chungcheung', 'region_Honam', \n",
        "        'region_Others', 'region_Sudo', 'region_Youngnam', 'edu', 'income', \n",
        "        'age', 'score_gov', 'score_progress', 'score_intention']]"
      ]
    },
    {
      "cell_type": "code",
      "execution_count": null,
      "metadata": {
        "id": "KSmMJ4DJu8ml"
      },
      "outputs": [],
      "source": [
        "# 출력에 해당하는 레이블 중에서 vote만 y로 저장함\n",
        "y=data[['vote']]"
      ]
    },
    {
      "cell_type": "code",
      "execution_count": null,
      "metadata": {
        "id": "suX2LEHJu8ml"
      },
      "outputs": [],
      "source": [
        "# 데이터를 Train와 Test 셋으로 분리하기 위한 라이브러리를 선언함\n",
        "from sklearn.model_selection import train_test_split"
      ]
    },
    {
      "cell_type": "code",
      "execution_count": null,
      "metadata": {
        "id": "RNyHBydju8mm"
      },
      "outputs": [],
      "source": [
        "# Train셋을 X_train, y_train으로 저장하고, Test 셋으로 X_test, y_test으로 저장함\n",
        "X_train, X_test, y_train, y_test=train_test_split(X, y, stratify=y, random_state=42 )"
      ]
    },
    {
      "cell_type": "markdown",
      "metadata": {
        "id": "t0Yg3h5zu8mm"
      },
      "source": [
        "# 2. Grid Search "
      ]
    },
    {
      "cell_type": "code",
      "execution_count": null,
      "metadata": {
        "id": "17-uyli7u8mn"
      },
      "outputs": [],
      "source": [
        "# 모델 훈련을 위해 GridSearchCV를 선언\n",
        "from sklearn.model_selection import GridSearchCV"
      ]
    },
    {
      "cell_type": "code",
      "execution_count": null,
      "metadata": {
        "id": "685RaESgu8mn"
      },
      "outputs": [],
      "source": [
        "# GridSearch의 범위를 1~10으로 지정\n",
        "param_grid={'n_neighbors': [1, 2, 3, 4, 5, 6, 7, 8, 9 , 10]}"
      ]
    },
    {
      "cell_type": "code",
      "execution_count": null,
      "metadata": {
        "id": "zvrLfzk2u8mn"
      },
      "outputs": [],
      "source": [
        "# KNN 알고리즘 적용을 위한 라이브러리 선언\n",
        "from sklearn.neighbors import KNeighborsClassifier"
      ]
    },
    {
      "cell_type": "code",
      "execution_count": null,
      "metadata": {
        "id": "YhoBnOVfu8mn"
      },
      "outputs": [],
      "source": [
        "# KNN 알고리즘에 GridSearch를 적용\n",
        "# n_neighbors(parameter) : param_grid 넣기\n",
        "grid_search=GridSearchCV(KNeighborsClassifier(), param_grid, cv=5, return_train_score=True)\n",
        "# param_grid = n_neighbors가 한 값이 아니라 1~10까지 돌려보기\n",
        "# return_train_score = True 조건 넣기"
      ]
    },
    {
      "cell_type": "code",
      "execution_count": null,
      "metadata": {
        "id": "6m11J2seu8mo",
        "outputId": "f70d0627-fcfb-4160-d6fd-fe3f3503424c",
        "colab": {
          "base_uri": "https://localhost:8080/"
        }
      },
      "outputs": [
        {
          "output_type": "execute_result",
          "data": {
            "text/plain": [
              "GridSearchCV(cv=5, estimator=KNeighborsClassifier(),\n",
              "             param_grid={'n_neighbors': [1, 2, 3, 4, 5, 6, 7, 8, 9, 10]},\n",
              "             return_train_score=True)"
            ]
          },
          "metadata": {},
          "execution_count": 13
        }
      ],
      "source": [
        "# Train 데이터에 GridSearch를 적용 -> 모델 만들기\n",
        "grid_search.fit(X_train, y_train)"
      ]
    },
    {
      "cell_type": "code",
      "execution_count": null,
      "metadata": {
        "id": "TsTf9Vcfu8mo",
        "outputId": "7890649e-954e-4a6d-ed29-863f77828ae8",
        "colab": {
          "base_uri": "https://localhost:8080/"
        }
      },
      "outputs": [
        {
          "output_type": "stream",
          "name": "stdout",
          "text": [
            "Best Parameter: {'n_neighbors': 7}\n"
          ]
        }
      ],
      "source": [
        "# best parameter : 가장 좋은 결과를 얻는 그리드를 출력\n",
        "print(\"Best Parameter: {}\".format(grid_search.best_params_))\n",
        "# grid_search. 뒤에 _ 있으면 고유변수 나타냄"
      ]
    },
    {
      "cell_type": "code",
      "execution_count": null,
      "metadata": {
        "id": "IiHnAXbxu8mo",
        "outputId": "13a166ab-55ea-4b30-fce2-d5fffee6ef42",
        "colab": {
          "base_uri": "https://localhost:8080/"
        }
      },
      "outputs": [
        {
          "output_type": "stream",
          "name": "stdout",
          "text": [
            "Best Cross-validity Score: 0.671\n"
          ]
        }
      ],
      "source": [
        "# grid_search의 최종 스코어를 출력\n",
        "print(\"Best Cross-validity Score: {:.3f}\".format(grid_search.best_score_))"
      ]
    },
    {
      "cell_type": "code",
      "execution_count": null,
      "metadata": {
        "id": "zRRKMd_iu8mo",
        "outputId": "a19872e6-bb22-4afc-db67-829f9b912b69",
        "colab": {
          "base_uri": "https://localhost:8080/"
        }
      },
      "outputs": [
        {
          "output_type": "stream",
          "name": "stdout",
          "text": [
            "Test set Score: 0.623\n"
          ]
        }
      ],
      "source": [
        "# Test 데이터에 대해 grid_search 알고리즘을 적용\n",
        "print(\"Test set Score: {:.3f}\".format(grid_search.score(X_test, y_test)))"
      ]
    },
    {
      "cell_type": "code",
      "execution_count": null,
      "metadata": {
        "id": "u6demMF0u8mo"
      },
      "outputs": [],
      "source": [
        "result_grid= pd.DataFrame(grid_search.cv_results_)\n",
        "# 리스트 형태를 데이터프레임으로"
      ]
    },
    {
      "cell_type": "code",
      "execution_count": null,
      "metadata": {
        "id": "Azoqphr6u8mp",
        "outputId": "277dde9f-0fa0-4341-b495-6beee377cad8",
        "colab": {
          "base_uri": "https://localhost:8080/",
          "height": 630
        }
      },
      "outputs": [
        {
          "output_type": "execute_result",
          "data": {
            "text/plain": [
              "   mean_fit_time  std_fit_time  mean_score_time  std_score_time  \\\n",
              "0       0.004000      0.000331         0.003853        0.000112   \n",
              "1       0.003800      0.000115         0.003992        0.000455   \n",
              "2       0.004681      0.001069         0.004791        0.001092   \n",
              "3       0.003904      0.000121         0.003819        0.000067   \n",
              "4       0.003979      0.000288         0.004389        0.001098   \n",
              "5       0.003879      0.000087         0.004345        0.001135   \n",
              "6       0.003895      0.000099         0.003842        0.000045   \n",
              "7       0.003812      0.000076         0.003874        0.000137   \n",
              "8       0.003877      0.000084         0.003839        0.000077   \n",
              "9       0.003881      0.000073         0.003817        0.000072   \n",
              "\n",
              "  param_n_neighbors               params  split0_test_score  \\\n",
              "0                 1   {'n_neighbors': 1}            0.65625   \n",
              "1                 2   {'n_neighbors': 2}            0.43750   \n",
              "2                 3   {'n_neighbors': 3}            0.56250   \n",
              "3                 4   {'n_neighbors': 4}            0.50000   \n",
              "4                 5   {'n_neighbors': 5}            0.65625   \n",
              "5                 6   {'n_neighbors': 6}            0.53125   \n",
              "6                 7   {'n_neighbors': 7}            0.65625   \n",
              "7                 8   {'n_neighbors': 8}            0.62500   \n",
              "8                 9   {'n_neighbors': 9}            0.62500   \n",
              "9                10  {'n_neighbors': 10}            0.56250   \n",
              "\n",
              "   split1_test_score  split2_test_score  split3_test_score  ...  \\\n",
              "0            0.65625            0.56250           0.580645  ...   \n",
              "1            0.56250            0.50000           0.451613  ...   \n",
              "2            0.62500            0.56250           0.612903  ...   \n",
              "3            0.59375            0.59375           0.483871  ...   \n",
              "4            0.71875            0.62500           0.645161  ...   \n",
              "5            0.68750            0.62500           0.483871  ...   \n",
              "6            0.71875            0.65625           0.645161  ...   \n",
              "7            0.68750            0.62500           0.612903  ...   \n",
              "8            0.68750            0.68750           0.645161  ...   \n",
              "9            0.68750            0.65625           0.645161  ...   \n",
              "\n",
              "   mean_test_score  std_test_score  rank_test_score  split0_train_score  \\\n",
              "0         0.620161        0.040289                6            1.000000   \n",
              "1         0.512903        0.066436               10            0.825397   \n",
              "2         0.601613        0.033557                7            0.801587   \n",
              "3         0.556855        0.053709                9            0.769841   \n",
              "4         0.664516        0.031976                2            0.785714   \n",
              "5         0.594556        0.075346                8            0.730159   \n",
              "6         0.670766        0.026168                1            0.746032   \n",
              "7         0.632661        0.027948                5            0.746032   \n",
              "8         0.664516        0.025136                2            0.753968   \n",
              "9         0.632863        0.042504                4            0.738095   \n",
              "\n",
              "   split1_train_score  split2_train_score  split3_train_score  \\\n",
              "0            0.992063            1.000000            0.992126   \n",
              "1            0.825397            0.777778            0.779528   \n",
              "2            0.809524            0.817460            0.826772   \n",
              "3            0.746032            0.738095            0.740157   \n",
              "4            0.809524            0.753968            0.787402   \n",
              "5            0.793651            0.738095            0.771654   \n",
              "6            0.753968            0.738095            0.748031   \n",
              "7            0.730159            0.753968            0.771654   \n",
              "8            0.753968            0.738095            0.724409   \n",
              "9            0.746032            0.722222            0.732283   \n",
              "\n",
              "   split4_train_score  mean_train_score  std_train_score  \n",
              "0            0.992126          0.995263         0.003868  \n",
              "1            0.811024          0.803825         0.021219  \n",
              "2            0.803150          0.811699         0.009386  \n",
              "3            0.755906          0.750006         0.011687  \n",
              "4            0.755906          0.778503         0.021005  \n",
              "5            0.700787          0.746869         0.032504  \n",
              "6            0.732283          0.743682         0.007634  \n",
              "7            0.685039          0.737370         0.029382  \n",
              "8            0.700787          0.734246         0.020045  \n",
              "9            0.700787          0.727884         0.015616  \n",
              "\n",
              "[10 rows x 21 columns]"
            ],
            "text/html": [
              "\n",
              "  <div id=\"df-cda4fcba-6280-4a38-a042-626faa0a6113\">\n",
              "    <div class=\"colab-df-container\">\n",
              "      <div>\n",
              "<style scoped>\n",
              "    .dataframe tbody tr th:only-of-type {\n",
              "        vertical-align: middle;\n",
              "    }\n",
              "\n",
              "    .dataframe tbody tr th {\n",
              "        vertical-align: top;\n",
              "    }\n",
              "\n",
              "    .dataframe thead th {\n",
              "        text-align: right;\n",
              "    }\n",
              "</style>\n",
              "<table border=\"1\" class=\"dataframe\">\n",
              "  <thead>\n",
              "    <tr style=\"text-align: right;\">\n",
              "      <th></th>\n",
              "      <th>mean_fit_time</th>\n",
              "      <th>std_fit_time</th>\n",
              "      <th>mean_score_time</th>\n",
              "      <th>std_score_time</th>\n",
              "      <th>param_n_neighbors</th>\n",
              "      <th>params</th>\n",
              "      <th>split0_test_score</th>\n",
              "      <th>split1_test_score</th>\n",
              "      <th>split2_test_score</th>\n",
              "      <th>split3_test_score</th>\n",
              "      <th>...</th>\n",
              "      <th>mean_test_score</th>\n",
              "      <th>std_test_score</th>\n",
              "      <th>rank_test_score</th>\n",
              "      <th>split0_train_score</th>\n",
              "      <th>split1_train_score</th>\n",
              "      <th>split2_train_score</th>\n",
              "      <th>split3_train_score</th>\n",
              "      <th>split4_train_score</th>\n",
              "      <th>mean_train_score</th>\n",
              "      <th>std_train_score</th>\n",
              "    </tr>\n",
              "  </thead>\n",
              "  <tbody>\n",
              "    <tr>\n",
              "      <th>0</th>\n",
              "      <td>0.004000</td>\n",
              "      <td>0.000331</td>\n",
              "      <td>0.003853</td>\n",
              "      <td>0.000112</td>\n",
              "      <td>1</td>\n",
              "      <td>{'n_neighbors': 1}</td>\n",
              "      <td>0.65625</td>\n",
              "      <td>0.65625</td>\n",
              "      <td>0.56250</td>\n",
              "      <td>0.580645</td>\n",
              "      <td>...</td>\n",
              "      <td>0.620161</td>\n",
              "      <td>0.040289</td>\n",
              "      <td>6</td>\n",
              "      <td>1.000000</td>\n",
              "      <td>0.992063</td>\n",
              "      <td>1.000000</td>\n",
              "      <td>0.992126</td>\n",
              "      <td>0.992126</td>\n",
              "      <td>0.995263</td>\n",
              "      <td>0.003868</td>\n",
              "    </tr>\n",
              "    <tr>\n",
              "      <th>1</th>\n",
              "      <td>0.003800</td>\n",
              "      <td>0.000115</td>\n",
              "      <td>0.003992</td>\n",
              "      <td>0.000455</td>\n",
              "      <td>2</td>\n",
              "      <td>{'n_neighbors': 2}</td>\n",
              "      <td>0.43750</td>\n",
              "      <td>0.56250</td>\n",
              "      <td>0.50000</td>\n",
              "      <td>0.451613</td>\n",
              "      <td>...</td>\n",
              "      <td>0.512903</td>\n",
              "      <td>0.066436</td>\n",
              "      <td>10</td>\n",
              "      <td>0.825397</td>\n",
              "      <td>0.825397</td>\n",
              "      <td>0.777778</td>\n",
              "      <td>0.779528</td>\n",
              "      <td>0.811024</td>\n",
              "      <td>0.803825</td>\n",
              "      <td>0.021219</td>\n",
              "    </tr>\n",
              "    <tr>\n",
              "      <th>2</th>\n",
              "      <td>0.004681</td>\n",
              "      <td>0.001069</td>\n",
              "      <td>0.004791</td>\n",
              "      <td>0.001092</td>\n",
              "      <td>3</td>\n",
              "      <td>{'n_neighbors': 3}</td>\n",
              "      <td>0.56250</td>\n",
              "      <td>0.62500</td>\n",
              "      <td>0.56250</td>\n",
              "      <td>0.612903</td>\n",
              "      <td>...</td>\n",
              "      <td>0.601613</td>\n",
              "      <td>0.033557</td>\n",
              "      <td>7</td>\n",
              "      <td>0.801587</td>\n",
              "      <td>0.809524</td>\n",
              "      <td>0.817460</td>\n",
              "      <td>0.826772</td>\n",
              "      <td>0.803150</td>\n",
              "      <td>0.811699</td>\n",
              "      <td>0.009386</td>\n",
              "    </tr>\n",
              "    <tr>\n",
              "      <th>3</th>\n",
              "      <td>0.003904</td>\n",
              "      <td>0.000121</td>\n",
              "      <td>0.003819</td>\n",
              "      <td>0.000067</td>\n",
              "      <td>4</td>\n",
              "      <td>{'n_neighbors': 4}</td>\n",
              "      <td>0.50000</td>\n",
              "      <td>0.59375</td>\n",
              "      <td>0.59375</td>\n",
              "      <td>0.483871</td>\n",
              "      <td>...</td>\n",
              "      <td>0.556855</td>\n",
              "      <td>0.053709</td>\n",
              "      <td>9</td>\n",
              "      <td>0.769841</td>\n",
              "      <td>0.746032</td>\n",
              "      <td>0.738095</td>\n",
              "      <td>0.740157</td>\n",
              "      <td>0.755906</td>\n",
              "      <td>0.750006</td>\n",
              "      <td>0.011687</td>\n",
              "    </tr>\n",
              "    <tr>\n",
              "      <th>4</th>\n",
              "      <td>0.003979</td>\n",
              "      <td>0.000288</td>\n",
              "      <td>0.004389</td>\n",
              "      <td>0.001098</td>\n",
              "      <td>5</td>\n",
              "      <td>{'n_neighbors': 5}</td>\n",
              "      <td>0.65625</td>\n",
              "      <td>0.71875</td>\n",
              "      <td>0.62500</td>\n",
              "      <td>0.645161</td>\n",
              "      <td>...</td>\n",
              "      <td>0.664516</td>\n",
              "      <td>0.031976</td>\n",
              "      <td>2</td>\n",
              "      <td>0.785714</td>\n",
              "      <td>0.809524</td>\n",
              "      <td>0.753968</td>\n",
              "      <td>0.787402</td>\n",
              "      <td>0.755906</td>\n",
              "      <td>0.778503</td>\n",
              "      <td>0.021005</td>\n",
              "    </tr>\n",
              "    <tr>\n",
              "      <th>5</th>\n",
              "      <td>0.003879</td>\n",
              "      <td>0.000087</td>\n",
              "      <td>0.004345</td>\n",
              "      <td>0.001135</td>\n",
              "      <td>6</td>\n",
              "      <td>{'n_neighbors': 6}</td>\n",
              "      <td>0.53125</td>\n",
              "      <td>0.68750</td>\n",
              "      <td>0.62500</td>\n",
              "      <td>0.483871</td>\n",
              "      <td>...</td>\n",
              "      <td>0.594556</td>\n",
              "      <td>0.075346</td>\n",
              "      <td>8</td>\n",
              "      <td>0.730159</td>\n",
              "      <td>0.793651</td>\n",
              "      <td>0.738095</td>\n",
              "      <td>0.771654</td>\n",
              "      <td>0.700787</td>\n",
              "      <td>0.746869</td>\n",
              "      <td>0.032504</td>\n",
              "    </tr>\n",
              "    <tr>\n",
              "      <th>6</th>\n",
              "      <td>0.003895</td>\n",
              "      <td>0.000099</td>\n",
              "      <td>0.003842</td>\n",
              "      <td>0.000045</td>\n",
              "      <td>7</td>\n",
              "      <td>{'n_neighbors': 7}</td>\n",
              "      <td>0.65625</td>\n",
              "      <td>0.71875</td>\n",
              "      <td>0.65625</td>\n",
              "      <td>0.645161</td>\n",
              "      <td>...</td>\n",
              "      <td>0.670766</td>\n",
              "      <td>0.026168</td>\n",
              "      <td>1</td>\n",
              "      <td>0.746032</td>\n",
              "      <td>0.753968</td>\n",
              "      <td>0.738095</td>\n",
              "      <td>0.748031</td>\n",
              "      <td>0.732283</td>\n",
              "      <td>0.743682</td>\n",
              "      <td>0.007634</td>\n",
              "    </tr>\n",
              "    <tr>\n",
              "      <th>7</th>\n",
              "      <td>0.003812</td>\n",
              "      <td>0.000076</td>\n",
              "      <td>0.003874</td>\n",
              "      <td>0.000137</td>\n",
              "      <td>8</td>\n",
              "      <td>{'n_neighbors': 8}</td>\n",
              "      <td>0.62500</td>\n",
              "      <td>0.68750</td>\n",
              "      <td>0.62500</td>\n",
              "      <td>0.612903</td>\n",
              "      <td>...</td>\n",
              "      <td>0.632661</td>\n",
              "      <td>0.027948</td>\n",
              "      <td>5</td>\n",
              "      <td>0.746032</td>\n",
              "      <td>0.730159</td>\n",
              "      <td>0.753968</td>\n",
              "      <td>0.771654</td>\n",
              "      <td>0.685039</td>\n",
              "      <td>0.737370</td>\n",
              "      <td>0.029382</td>\n",
              "    </tr>\n",
              "    <tr>\n",
              "      <th>8</th>\n",
              "      <td>0.003877</td>\n",
              "      <td>0.000084</td>\n",
              "      <td>0.003839</td>\n",
              "      <td>0.000077</td>\n",
              "      <td>9</td>\n",
              "      <td>{'n_neighbors': 9}</td>\n",
              "      <td>0.62500</td>\n",
              "      <td>0.68750</td>\n",
              "      <td>0.68750</td>\n",
              "      <td>0.645161</td>\n",
              "      <td>...</td>\n",
              "      <td>0.664516</td>\n",
              "      <td>0.025136</td>\n",
              "      <td>2</td>\n",
              "      <td>0.753968</td>\n",
              "      <td>0.753968</td>\n",
              "      <td>0.738095</td>\n",
              "      <td>0.724409</td>\n",
              "      <td>0.700787</td>\n",
              "      <td>0.734246</td>\n",
              "      <td>0.020045</td>\n",
              "    </tr>\n",
              "    <tr>\n",
              "      <th>9</th>\n",
              "      <td>0.003881</td>\n",
              "      <td>0.000073</td>\n",
              "      <td>0.003817</td>\n",
              "      <td>0.000072</td>\n",
              "      <td>10</td>\n",
              "      <td>{'n_neighbors': 10}</td>\n",
              "      <td>0.56250</td>\n",
              "      <td>0.68750</td>\n",
              "      <td>0.65625</td>\n",
              "      <td>0.645161</td>\n",
              "      <td>...</td>\n",
              "      <td>0.632863</td>\n",
              "      <td>0.042504</td>\n",
              "      <td>4</td>\n",
              "      <td>0.738095</td>\n",
              "      <td>0.746032</td>\n",
              "      <td>0.722222</td>\n",
              "      <td>0.732283</td>\n",
              "      <td>0.700787</td>\n",
              "      <td>0.727884</td>\n",
              "      <td>0.015616</td>\n",
              "    </tr>\n",
              "  </tbody>\n",
              "</table>\n",
              "<p>10 rows × 21 columns</p>\n",
              "</div>\n",
              "      <button class=\"colab-df-convert\" onclick=\"convertToInteractive('df-cda4fcba-6280-4a38-a042-626faa0a6113')\"\n",
              "              title=\"Convert this dataframe to an interactive table.\"\n",
              "              style=\"display:none;\">\n",
              "        \n",
              "  <svg xmlns=\"http://www.w3.org/2000/svg\" height=\"24px\"viewBox=\"0 0 24 24\"\n",
              "       width=\"24px\">\n",
              "    <path d=\"M0 0h24v24H0V0z\" fill=\"none\"/>\n",
              "    <path d=\"M18.56 5.44l.94 2.06.94-2.06 2.06-.94-2.06-.94-.94-2.06-.94 2.06-2.06.94zm-11 1L8.5 8.5l.94-2.06 2.06-.94-2.06-.94L8.5 2.5l-.94 2.06-2.06.94zm10 10l.94 2.06.94-2.06 2.06-.94-2.06-.94-.94-2.06-.94 2.06-2.06.94z\"/><path d=\"M17.41 7.96l-1.37-1.37c-.4-.4-.92-.59-1.43-.59-.52 0-1.04.2-1.43.59L10.3 9.45l-7.72 7.72c-.78.78-.78 2.05 0 2.83L4 21.41c.39.39.9.59 1.41.59.51 0 1.02-.2 1.41-.59l7.78-7.78 2.81-2.81c.8-.78.8-2.07 0-2.86zM5.41 20L4 18.59l7.72-7.72 1.47 1.35L5.41 20z\"/>\n",
              "  </svg>\n",
              "      </button>\n",
              "      \n",
              "  <style>\n",
              "    .colab-df-container {\n",
              "      display:flex;\n",
              "      flex-wrap:wrap;\n",
              "      gap: 12px;\n",
              "    }\n",
              "\n",
              "    .colab-df-convert {\n",
              "      background-color: #E8F0FE;\n",
              "      border: none;\n",
              "      border-radius: 50%;\n",
              "      cursor: pointer;\n",
              "      display: none;\n",
              "      fill: #1967D2;\n",
              "      height: 32px;\n",
              "      padding: 0 0 0 0;\n",
              "      width: 32px;\n",
              "    }\n",
              "\n",
              "    .colab-df-convert:hover {\n",
              "      background-color: #E2EBFA;\n",
              "      box-shadow: 0px 1px 2px rgba(60, 64, 67, 0.3), 0px 1px 3px 1px rgba(60, 64, 67, 0.15);\n",
              "      fill: #174EA6;\n",
              "    }\n",
              "\n",
              "    [theme=dark] .colab-df-convert {\n",
              "      background-color: #3B4455;\n",
              "      fill: #D2E3FC;\n",
              "    }\n",
              "\n",
              "    [theme=dark] .colab-df-convert:hover {\n",
              "      background-color: #434B5C;\n",
              "      box-shadow: 0px 1px 3px 1px rgba(0, 0, 0, 0.15);\n",
              "      filter: drop-shadow(0px 1px 2px rgba(0, 0, 0, 0.3));\n",
              "      fill: #FFFFFF;\n",
              "    }\n",
              "  </style>\n",
              "\n",
              "      <script>\n",
              "        const buttonEl =\n",
              "          document.querySelector('#df-cda4fcba-6280-4a38-a042-626faa0a6113 button.colab-df-convert');\n",
              "        buttonEl.style.display =\n",
              "          google.colab.kernel.accessAllowed ? 'block' : 'none';\n",
              "\n",
              "        async function convertToInteractive(key) {\n",
              "          const element = document.querySelector('#df-cda4fcba-6280-4a38-a042-626faa0a6113');\n",
              "          const dataTable =\n",
              "            await google.colab.kernel.invokeFunction('convertToInteractive',\n",
              "                                                     [key], {});\n",
              "          if (!dataTable) return;\n",
              "\n",
              "          const docLinkHtml = 'Like what you see? Visit the ' +\n",
              "            '<a target=\"_blank\" href=https://colab.research.google.com/notebooks/data_table.ipynb>data table notebook</a>'\n",
              "            + ' to learn more about interactive tables.';\n",
              "          element.innerHTML = '';\n",
              "          dataTable['output_type'] = 'display_data';\n",
              "          await google.colab.output.renderOutput(dataTable, element);\n",
              "          const docLink = document.createElement('div');\n",
              "          docLink.innerHTML = docLinkHtml;\n",
              "          element.appendChild(docLink);\n",
              "        }\n",
              "      </script>\n",
              "    </div>\n",
              "  </div>\n",
              "  "
            ]
          },
          "metadata": {},
          "execution_count": 18
        }
      ],
      "source": [
        "result_grid"
      ]
    },
    {
      "cell_type": "code",
      "execution_count": null,
      "metadata": {
        "id": "iWUsUAP3u8mp",
        "outputId": "7614b646-dd18-450f-9c2b-99fdd4d560a0",
        "colab": {
          "base_uri": "https://localhost:8080/",
          "height": 283
        }
      },
      "outputs": [
        {
          "output_type": "execute_result",
          "data": {
            "text/plain": [
              "<matplotlib.legend.Legend at 0x7f3439f1f6d0>"
            ]
          },
          "metadata": {},
          "execution_count": 19
        },
        {
          "output_type": "display_data",
          "data": {
            "text/plain": [
              "<Figure size 432x288 with 1 Axes>"
            ],
            "image/png": "[encoded data removed]"
          },
          "metadata": {
            "needs_background": "light"
          }
        }
      ],
      "source": [
        "import matplotlib.pyplot as plt\n",
        "plt.plot(result_grid['param_n_neighbors'], result_grid['mean_train_score'], label=\"Train\")\n",
        "plt.plot(result_grid['param_n_neighbors'], result_grid['mean_test_score'], label=\"Test\")\n",
        "plt.legend()\n",
        "# 7일때 test_score가 가장 높고, train_score와 차이 얼마 안남"
      ]
    },
    {
      "cell_type": "markdown",
      "metadata": {
        "id": "OFF8hXJ3u8mp"
      },
      "source": [
        "# 3. Random Search"
      ]
    },
    {
      "cell_type": "code",
      "execution_count": null,
      "metadata": {
        "id": "s45StDeFu8mp"
      },
      "outputs": [],
      "source": [
        "from sklearn.model_selection import RandomizedSearchCV"
      ]
    },
    {
      "cell_type": "code",
      "execution_count": null,
      "metadata": {
        "id": "sMoB1X6Hu8mp"
      },
      "outputs": [],
      "source": [
        "from scipy.stats import randint"
      ]
    },
    {
      "cell_type": "code",
      "execution_count": null,
      "metadata": {
        "id": "gfOUPyThu8mp"
      },
      "outputs": [],
      "source": [
        "# n_neighbors에 최소, 최대 주기\n",
        "param_distribs = {'n_neighbors': randint(low=1, high=20)}"
      ]
    },
    {
      "cell_type": "code",
      "execution_count": null,
      "metadata": {
        "id": "HBDceDIVu8mp"
      },
      "outputs": [],
      "source": [
        "from sklearn.neighbors import KNeighborsClassifier"
      ]
    },
    {
      "cell_type": "code",
      "execution_count": null,
      "metadata": {
        "id": "qRMIH6pJu8mp"
      },
      "outputs": [],
      "source": [
        "random_search=RandomizedSearchCV(KNeighborsClassifier(), param_distributions = param_distribs, cv=5, return_train_score=True)"
      ]
    },
    {
      "cell_type": "code",
      "execution_count": null,
      "metadata": {
        "id": "RLP6CpJsu8mq",
        "outputId": "c0446fd7-2a05-47f7-8b23-9a2c1c6fef93",
        "colab": {
          "base_uri": "https://localhost:8080/"
        }
      },
      "outputs": [
        {
          "output_type": "execute_result",
          "data": {
            "text/plain": [
              "RandomizedSearchCV(cv=5, estimator=KNeighborsClassifier(),\n",
              "                   param_distributions={'n_neighbors': <scipy.stats._distn_infrastructure.rv_frozen object at 0x7f3439e8c590>},\n",
              "                   return_train_score=True)"
            ]
          },
          "metadata": {},
          "execution_count": 33
        }
      ],
      "source": [
        "random_search.fit(X_train, y_train)"
      ]
    },
    {
      "cell_type": "code",
      "execution_count": null,
      "metadata": {
        "id": "ImFKVpXLu8mq",
        "outputId": "ceeb0c4b-24b3-4dd9-f911-56acde9294a0",
        "colab": {
          "base_uri": "https://localhost:8080/"
        }
      },
      "outputs": [
        {
          "output_type": "stream",
          "name": "stdout",
          "text": [
            "Best Parameter: {'n_neighbors': 18}\n"
          ]
        }
      ],
      "source": [
        "print(\"Best Parameter: {}\".format(random_search.best_params_))"
      ]
    },
    {
      "cell_type": "code",
      "execution_count": null,
      "metadata": {
        "id": "AAHKSFylu8mq",
        "outputId": "d3076efa-2f8e-42af-e116-358df53ecaf3",
        "colab": {
          "base_uri": "https://localhost:8080/"
        }
      },
      "outputs": [
        {
          "output_type": "stream",
          "name": "stdout",
          "text": [
            "Best Cross-validity Score: 0.703\n"
          ]
        }
      ],
      "source": [
        "print(\"Best Cross-validity Score: {:.3f}\".format(random_search.best_score_))"
      ]
    },
    {
      "cell_type": "code",
      "execution_count": null,
      "metadata": {
        "id": "CcMgdHNCu8mq",
        "outputId": "f6c8bcfe-9363-430b-eb77-4ab8143bab42",
        "colab": {
          "base_uri": "https://localhost:8080/"
        }
      },
      "outputs": [
        {
          "output_type": "stream",
          "name": "stdout",
          "text": [
            "Test set Score: 0.717\n"
          ]
        }
      ],
      "source": [
        "print(\"Test set Score: {:.3f}\".format(random_search.score(X_test, y_test)))"
      ]
    },
    {
      "cell_type": "code",
      "execution_count": null,
      "metadata": {
        "id": "3x07gSicu8mq"
      },
      "outputs": [],
      "source": [
        "result_random = pd.DataFrame(random_search.cv_results_)"
      ]
    },
    {
      "cell_type": "code",
      "execution_count": null,
      "metadata": {
        "id": "ArCw5x5pu8mq",
        "outputId": "2e49d17e-e898-4016-9abc-6b721796ae95",
        "colab": {
          "base_uri": "https://localhost:8080/",
          "height": 630
        }
      },
      "outputs": [
        {
          "output_type": "execute_result",
          "data": {
            "text/plain": [
              "   mean_fit_time  std_fit_time  mean_score_time  std_score_time  \\\n",
              "0       0.004261      0.000390         0.004029        0.000271   \n",
              "1       0.004265      0.000380         0.004029        0.000135   \n",
              "2       0.004251      0.000316         0.004741        0.001474   \n",
              "3       0.004219      0.000199         0.004132        0.000358   \n",
              "4       0.004605      0.001186         0.004539        0.000964   \n",
              "5       0.004579      0.001120         0.004205        0.000440   \n",
              "6       0.004040      0.000197         0.004133        0.000196   \n",
              "7       0.004002      0.000125         0.004087        0.000392   \n",
              "8       0.004791      0.001264         0.004770        0.001089   \n",
              "9       0.006308      0.000287         0.006243        0.000258   \n",
              "\n",
              "  param_n_neighbors               params  split0_test_score  \\\n",
              "0                12  {'n_neighbors': 12}            0.65625   \n",
              "1                 9   {'n_neighbors': 9}            0.62500   \n",
              "2                 9   {'n_neighbors': 9}            0.62500   \n",
              "3                 4   {'n_neighbors': 4}            0.50000   \n",
              "4                 6   {'n_neighbors': 6}            0.53125   \n",
              "5                18  {'n_neighbors': 18}            0.65625   \n",
              "6                16  {'n_neighbors': 16}            0.71875   \n",
              "7                 2   {'n_neighbors': 2}            0.43750   \n",
              "8                 2   {'n_neighbors': 2}            0.43750   \n",
              "9                 9   {'n_neighbors': 9}            0.62500   \n",
              "\n",
              "   split1_test_score  split2_test_score  split3_test_score  ...  \\\n",
              "0            0.68750            0.68750           0.709677  ...   \n",
              "1            0.68750            0.68750           0.645161  ...   \n",
              "2            0.68750            0.68750           0.645161  ...   \n",
              "3            0.59375            0.59375           0.483871  ...   \n",
              "4            0.68750            0.62500           0.483871  ...   \n",
              "5            0.68750            0.71875           0.741935  ...   \n",
              "6            0.68750            0.71875           0.741935  ...   \n",
              "7            0.56250            0.50000           0.451613  ...   \n",
              "8            0.56250            0.50000           0.451613  ...   \n",
              "9            0.68750            0.68750           0.645161  ...   \n",
              "\n",
              "   mean_test_score  std_test_score  rank_test_score  split0_train_score  \\\n",
              "0         0.677218        0.023377                3            0.722222   \n",
              "1         0.664516        0.025136                4            0.753968   \n",
              "2         0.664516        0.025136                4            0.753968   \n",
              "3         0.556855        0.053709                8            0.769841   \n",
              "4         0.594556        0.075346                7            0.730159   \n",
              "5         0.702823        0.029101                1            0.714286   \n",
              "6         0.702419        0.033454                2            0.730159   \n",
              "7         0.512903        0.066436                9            0.825397   \n",
              "8         0.512903        0.066436                9            0.825397   \n",
              "9         0.664516        0.025136                4            0.753968   \n",
              "\n",
              "   split1_train_score  split2_train_score  split3_train_score  \\\n",
              "0            0.738095            0.746032            0.763780   \n",
              "1            0.753968            0.738095            0.724409   \n",
              "2            0.753968            0.738095            0.724409   \n",
              "3            0.746032            0.738095            0.740157   \n",
              "4            0.793651            0.738095            0.771654   \n",
              "5            0.753968            0.722222            0.708661   \n",
              "6            0.730159            0.738095            0.748031   \n",
              "7            0.825397            0.777778            0.779528   \n",
              "8            0.825397            0.777778            0.779528   \n",
              "9            0.753968            0.738095            0.724409   \n",
              "\n",
              "   split4_train_score  mean_train_score  std_train_score  \n",
              "0            0.740157          0.742057         0.013419  \n",
              "1            0.700787          0.734246         0.020045  \n",
              "2            0.700787          0.734246         0.020045  \n",
              "3            0.755906          0.750006         0.011687  \n",
              "4            0.700787          0.746869         0.032504  \n",
              "5            0.748031          0.729434         0.018225  \n",
              "6            0.732283          0.735746         0.006795  \n",
              "7            0.811024          0.803825         0.021219  \n",
              "8            0.811024          0.803825         0.021219  \n",
              "9            0.700787          0.734246         0.020045  \n",
              "\n",
              "[10 rows x 21 columns]"
            ],
            "text/html": [
              "\n",
              "  <div id=\"df-358f0860-ce3c-4de6-90d5-62dd8234bbae\">\n",
              "    <div class=\"colab-df-container\">\n",
              "      <div>\n",
              "<style scoped>\n",
              "    .dataframe tbody tr th:only-of-type {\n",
              "        vertical-align: middle;\n",
              "    }\n",
              "\n",
              "    .dataframe tbody tr th {\n",
              "        vertical-align: top;\n",
              "    }\n",
              "\n",
              "    .dataframe thead th {\n",
              "        text-align: right;\n",
              "    }\n",
              "</style>\n",
              "<table border=\"1\" class=\"dataframe\">\n",
              "  <thead>\n",
              "    <tr style=\"text-align: right;\">\n",
              "      <th></th>\n",
              "      <th>mean_fit_time</th>\n",
              "      <th>std_fit_time</th>\n",
              "      <th>mean_score_time</th>\n",
              "      <th>std_score_time</th>\n",
              "      <th>param_n_neighbors</th>\n",
              "      <th>params</th>\n",
              "      <th>split0_test_score</th>\n",
              "      <th>split1_test_score</th>\n",
              "      <th>split2_test_score</th>\n",
              "      <th>split3_test_score</th>\n",
              "      <th>...</th>\n",
              "      <th>mean_test_score</th>\n",
              "      <th>std_test_score</th>\n",
              "      <th>rank_test_score</th>\n",
              "      <th>split0_train_score</th>\n",
              "      <th>split1_train_score</th>\n",
              "      <th>split2_train_score</th>\n",
              "      <th>split3_train_score</th>\n",
              "      <th>split4_train_score</th>\n",
              "      <th>mean_train_score</th>\n",
              "      <th>std_train_score</th>\n",
              "    </tr>\n",
              "  </thead>\n",
              "  <tbody>\n",
              "    <tr>\n",
              "      <th>0</th>\n",
              "      <td>0.004261</td>\n",
              "      <td>0.000390</td>\n",
              "      <td>0.004029</td>\n",
              "      <td>0.000271</td>\n",
              "      <td>12</td>\n",
              "      <td>{'n_neighbors': 12}</td>\n",
              "      <td>0.65625</td>\n",
              "      <td>0.68750</td>\n",
              "      <td>0.68750</td>\n",
              "      <td>0.709677</td>\n",
              "      <td>...</td>\n",
              "      <td>0.677218</td>\n",
              "      <td>0.023377</td>\n",
              "      <td>3</td>\n",
              "      <td>0.722222</td>\n",
              "      <td>0.738095</td>\n",
              "      <td>0.746032</td>\n",
              "      <td>0.763780</td>\n",
              "      <td>0.740157</td>\n",
              "      <td>0.742057</td>\n",
              "      <td>0.013419</td>\n",
              "    </tr>\n",
              "    <tr>\n",
              "      <th>1</th>\n",
              "      <td>0.004265</td>\n",
              "      <td>0.000380</td>\n",
              "      <td>0.004029</td>\n",
              "      <td>0.000135</td>\n",
              "      <td>9</td>\n",
              "      <td>{'n_neighbors': 9}</td>\n",
              "      <td>0.62500</td>\n",
              "      <td>0.68750</td>\n",
              "      <td>0.68750</td>\n",
              "      <td>0.645161</td>\n",
              "      <td>...</td>\n",
              "      <td>0.664516</td>\n",
              "      <td>0.025136</td>\n",
              "      <td>4</td>\n",
              "      <td>0.753968</td>\n",
              "      <td>0.753968</td>\n",
              "      <td>0.738095</td>\n",
              "      <td>0.724409</td>\n",
              "      <td>0.700787</td>\n",
              "      <td>0.734246</td>\n",
              "      <td>0.020045</td>\n",
              "    </tr>\n",
              "    <tr>\n",
              "      <th>2</th>\n",
              "      <td>0.004251</td>\n",
              "      <td>0.000316</td>\n",
              "      <td>0.004741</td>\n",
              "      <td>0.001474</td>\n",
              "      <td>9</td>\n",
              "      <td>{'n_neighbors': 9}</td>\n",
              "      <td>0.62500</td>\n",
              "      <td>0.68750</td>\n",
              "      <td>0.68750</td>\n",
              "      <td>0.645161</td>\n",
              "      <td>...</td>\n",
              "      <td>0.664516</td>\n",
              "      <td>0.025136</td>\n",
              "      <td>4</td>\n",
              "      <td>0.753968</td>\n",
              "      <td>0.753968</td>\n",
              "      <td>0.738095</td>\n",
              "      <td>0.724409</td>\n",
              "      <td>0.700787</td>\n",
              "      <td>0.734246</td>\n",
              "      <td>0.020045</td>\n",
              "    </tr>\n",
              "    <tr>\n",
              "      <th>3</th>\n",
              "      <td>0.004219</td>\n",
              "      <td>0.000199</td>\n",
              "      <td>0.004132</td>\n",
              "      <td>0.000358</td>\n",
              "      <td>4</td>\n",
              "      <td>{'n_neighbors': 4}</td>\n",
              "      <td>0.50000</td>\n",
              "      <td>0.59375</td>\n",
              "      <td>0.59375</td>\n",
              "      <td>0.483871</td>\n",
              "      <td>...</td>\n",
              "      <td>0.556855</td>\n",
              "      <td>0.053709</td>\n",
              "      <td>8</td>\n",
              "      <td>0.769841</td>\n",
              "      <td>0.746032</td>\n",
              "      <td>0.738095</td>\n",
              "      <td>0.740157</td>\n",
              "      <td>0.755906</td>\n",
              "      <td>0.750006</td>\n",
              "      <td>0.011687</td>\n",
              "    </tr>\n",
              "    <tr>\n",
              "      <th>4</th>\n",
              "      <td>0.004605</td>\n",
              "      <td>0.001186</td>\n",
              "      <td>0.004539</td>\n",
              "      <td>0.000964</td>\n",
              "      <td>6</td>\n",
              "      <td>{'n_neighbors': 6}</td>\n",
              "      <td>0.53125</td>\n",
              "      <td>0.68750</td>\n",
              "      <td>0.62500</td>\n",
              "      <td>0.483871</td>\n",
              "      <td>...</td>\n",
              "      <td>0.594556</td>\n",
              "      <td>0.075346</td>\n",
              "      <td>7</td>\n",
              "      <td>0.730159</td>\n",
              "      <td>0.793651</td>\n",
              "      <td>0.738095</td>\n",
              "      <td>0.771654</td>\n",
              "      <td>0.700787</td>\n",
              "      <td>0.746869</td>\n",
              "      <td>0.032504</td>\n",
              "    </tr>\n",
              "    <tr>\n",
              "      <th>5</th>\n",
              "      <td>0.004579</td>\n",
              "      <td>0.001120</td>\n",
              "      <td>0.004205</td>\n",
              "      <td>0.000440</td>\n",
              "      <td>18</td>\n",
              "      <td>{'n_neighbors': 18}</td>\n",
              "      <td>0.65625</td>\n",
              "      <td>0.68750</td>\n",
              "      <td>0.71875</td>\n",
              "      <td>0.741935</td>\n",
              "      <td>...</td>\n",
              "      <td>0.702823</td>\n",
              "      <td>0.029101</td>\n",
              "      <td>1</td>\n",
              "      <td>0.714286</td>\n",
              "      <td>0.753968</td>\n",
              "      <td>0.722222</td>\n",
              "      <td>0.708661</td>\n",
              "      <td>0.748031</td>\n",
              "      <td>0.729434</td>\n",
              "      <td>0.018225</td>\n",
              "    </tr>\n",
              "    <tr>\n",
              "      <th>6</th>\n",
              "      <td>0.004040</td>\n",
              "      <td>0.000197</td>\n",
              "      <td>0.004133</td>\n",
              "      <td>0.000196</td>\n",
              "      <td>16</td>\n",
              "      <td>{'n_neighbors': 16}</td>\n",
              "      <td>0.71875</td>\n",
              "      <td>0.68750</td>\n",
              "      <td>0.71875</td>\n",
              "      <td>0.741935</td>\n",
              "      <td>...</td>\n",
              "      <td>0.702419</td>\n",
              "      <td>0.033454</td>\n",
              "      <td>2</td>\n",
              "      <td>0.730159</td>\n",
              "      <td>0.730159</td>\n",
              "      <td>0.738095</td>\n",
              "      <td>0.748031</td>\n",
              "      <td>0.732283</td>\n",
              "      <td>0.735746</td>\n",
              "      <td>0.006795</td>\n",
              "    </tr>\n",
              "    <tr>\n",
              "      <th>7</th>\n",
              "      <td>0.004002</td>\n",
              "      <td>0.000125</td>\n",
              "      <td>0.004087</td>\n",
              "      <td>0.000392</td>\n",
              "      <td>2</td>\n",
              "      <td>{'n_neighbors': 2}</td>\n",
              "      <td>0.43750</td>\n",
              "      <td>0.56250</td>\n",
              "      <td>0.50000</td>\n",
              "      <td>0.451613</td>\n",
              "      <td>...</td>\n",
              "      <td>0.512903</td>\n",
              "      <td>0.066436</td>\n",
              "      <td>9</td>\n",
              "      <td>0.825397</td>\n",
              "      <td>0.825397</td>\n",
              "      <td>0.777778</td>\n",
              "      <td>0.779528</td>\n",
              "      <td>0.811024</td>\n",
              "      <td>0.803825</td>\n",
              "      <td>0.021219</td>\n",
              "    </tr>\n",
              "    <tr>\n",
              "      <th>8</th>\n",
              "      <td>0.004791</td>\n",
              "      <td>0.001264</td>\n",
              "      <td>0.004770</td>\n",
              "      <td>0.001089</td>\n",
              "      <td>2</td>\n",
              "      <td>{'n_neighbors': 2}</td>\n",
              "      <td>0.43750</td>\n",
              "      <td>0.56250</td>\n",
              "      <td>0.50000</td>\n",
              "      <td>0.451613</td>\n",
              "      <td>...</td>\n",
              "      <td>0.512903</td>\n",
              "      <td>0.066436</td>\n",
              "      <td>9</td>\n",
              "      <td>0.825397</td>\n",
              "      <td>0.825397</td>\n",
              "      <td>0.777778</td>\n",
              "      <td>0.779528</td>\n",
              "      <td>0.811024</td>\n",
              "      <td>0.803825</td>\n",
              "      <td>0.021219</td>\n",
              "    </tr>\n",
              "    <tr>\n",
              "      <th>9</th>\n",
              "      <td>0.006308</td>\n",
              "      <td>0.000287</td>\n",
              "      <td>0.006243</td>\n",
              "      <td>0.000258</td>\n",
              "      <td>9</td>\n",
              "      <td>{'n_neighbors': 9}</td>\n",
              "      <td>0.62500</td>\n",
              "      <td>0.68750</td>\n",
              "      <td>0.68750</td>\n",
              "      <td>0.645161</td>\n",
              "      <td>...</td>\n",
              "      <td>0.664516</td>\n",
              "      <td>0.025136</td>\n",
              "      <td>4</td>\n",
              "      <td>0.753968</td>\n",
              "      <td>0.753968</td>\n",
              "      <td>0.738095</td>\n",
              "      <td>0.724409</td>\n",
              "      <td>0.700787</td>\n",
              "      <td>0.734246</td>\n",
              "      <td>0.020045</td>\n",
              "    </tr>\n",
              "  </tbody>\n",
              "</table>\n",
              "<p>10 rows × 21 columns</p>\n",
              "</div>\n",
              "      <button class=\"colab-df-convert\" onclick=\"convertToInteractive('df-358f0860-ce3c-4de6-90d5-62dd8234bbae')\"\n",
              "              title=\"Convert this dataframe to an interactive table.\"\n",
              "              style=\"display:none;\">\n",
              "        \n",
              "  <svg xmlns=\"http://www.w3.org/2000/svg\" height=\"24px\"viewBox=\"0 0 24 24\"\n",
              "       width=\"24px\">\n",
              "    <path d=\"M0 0h24v24H0V0z\" fill=\"none\"/>\n",
              "    <path d=\"M18.56 5.44l.94 2.06.94-2.06 2.06-.94-2.06-.94-.94-2.06-.94 2.06-2.06.94zm-11 1L8.5 8.5l.94-2.06 2.06-.94-2.06-.94L8.5 2.5l-.94 2.06-2.06.94zm10 10l.94 2.06.94-2.06 2.06-.94-2.06-.94-.94-2.06-.94 2.06-2.06.94z\"/><path d=\"M17.41 7.96l-1.37-1.37c-.4-.4-.92-.59-1.43-.59-.52 0-1.04.2-1.43.59L10.3 9.45l-7.72 7.72c-.78.78-.78 2.05 0 2.83L4 21.41c.39.39.9.59 1.41.59.51 0 1.02-.2 1.41-.59l7.78-7.78 2.81-2.81c.8-.78.8-2.07 0-2.86zM5.41 20L4 18.59l7.72-7.72 1.47 1.35L5.41 20z\"/>\n",
              "  </svg>\n",
              "      </button>\n",
              "      \n",
              "  <style>\n",
              "    .colab-df-container {\n",
              "      display:flex;\n",
              "      flex-wrap:wrap;\n",
              "      gap: 12px;\n",
              "    }\n",
              "\n",
              "    .colab-df-convert {\n",
              "      background-color: #E8F0FE;\n",
              "      border: none;\n",
              "      border-radius: 50%;\n",
              "      cursor: pointer;\n",
              "      display: none;\n",
              "      fill: #1967D2;\n",
              "      height: 32px;\n",
              "      padding: 0 0 0 0;\n",
              "      width: 32px;\n",
              "    }\n",
              "\n",
              "    .colab-df-convert:hover {\n",
              "      background-color: #E2EBFA;\n",
              "      box-shadow: 0px 1px 2px rgba(60, 64, 67, 0.3), 0px 1px 3px 1px rgba(60, 64, 67, 0.15);\n",
              "      fill: #174EA6;\n",
              "    }\n",
              "\n",
              "    [theme=dark] .colab-df-convert {\n",
              "      background-color: #3B4455;\n",
              "      fill: #D2E3FC;\n",
              "    }\n",
              "\n",
              "    [theme=dark] .colab-df-convert:hover {\n",
              "      background-color: #434B5C;\n",
              "      box-shadow: 0px 1px 3px 1px rgba(0, 0, 0, 0.15);\n",
              "      filter: drop-shadow(0px 1px 2px rgba(0, 0, 0, 0.3));\n",
              "      fill: #FFFFFF;\n",
              "    }\n",
              "  </style>\n",
              "\n",
              "      <script>\n",
              "        const buttonEl =\n",
              "          document.querySelector('#df-358f0860-ce3c-4de6-90d5-62dd8234bbae button.colab-df-convert');\n",
              "        buttonEl.style.display =\n",
              "          google.colab.kernel.accessAllowed ? 'block' : 'none';\n",
              "\n",
              "        async function convertToInteractive(key) {\n",
              "          const element = document.querySelector('#df-358f0860-ce3c-4de6-90d5-62dd8234bbae');\n",
              "          const dataTable =\n",
              "            await google.colab.kernel.invokeFunction('convertToInteractive',\n",
              "                                                     [key], {});\n",
              "          if (!dataTable) return;\n",
              "\n",
              "          const docLinkHtml = 'Like what you see? Visit the ' +\n",
              "            '<a target=\"_blank\" href=https://colab.research.google.com/notebooks/data_table.ipynb>data table notebook</a>'\n",
              "            + ' to learn more about interactive tables.';\n",
              "          element.innerHTML = '';\n",
              "          dataTable['output_type'] = 'display_data';\n",
              "          await google.colab.output.renderOutput(dataTable, element);\n",
              "          const docLink = document.createElement('div');\n",
              "          docLink.innerHTML = docLinkHtml;\n",
              "          element.appendChild(docLink);\n",
              "        }\n",
              "      </script>\n",
              "    </div>\n",
              "  </div>\n",
              "  "
            ]
          },
          "metadata": {},
          "execution_count": 38
        }
      ],
      "source": [
        "result_random"
      ]
    },
    {
      "cell_type": "code",
      "execution_count": null,
      "metadata": {
        "id": "aW8oGmdyu8mq",
        "outputId": "bf506ffb-9f3b-4c9a-d238-b7a77475ee93",
        "colab": {
          "base_uri": "https://localhost:8080/",
          "height": 283
        }
      },
      "outputs": [
        {
          "output_type": "execute_result",
          "data": {
            "text/plain": [
              "<matplotlib.legend.Legend at 0x7f3439e537d0>"
            ]
          },
          "metadata": {},
          "execution_count": 39
        },
        {
          "output_type": "display_data",
          "data": {
            "text/plain": [
              "<Figure size 432x288 with 1 Axes>"
            ],
            "image/png": "[encoded data removed]"
          },
          "metadata": {
            "needs_background": "light"
          }
        }
      ],
      "source": [
        "import matplotlib.pyplot as plt\n",
        "plt.plot(result_random['param_n_neighbors'], result_random['mean_train_score'], label=\"Train\")\n",
        "plt.plot(result_random['param_n_neighbors'], result_random['mean_test_score'], label=\"Test\")\n",
        "plt.legend()"
      ]
    },
    {
      "cell_type": "code",
      "source": [
        "# 결과 csv로 저장\n",
        "# result_random.to_csv('result_random.csv', sep=',', encoding = 'utf-8')"
      ],
      "metadata": {
        "id": "44eNE4TE0g7H"
      },
      "execution_count": null,
      "outputs": []
    }
  ],
  "metadata": {
    "kernelspec": {
      "display_name": "Python 3",
      "language": "python",
      "name": "python3"
    },
    "language_info": {
      "codemirror_mode": {
        "name": "ipython",
        "version": 3
      },
      "file_extension": ".py",
      "mimetype": "text/x-python",
      "name": "python",
      "nbconvert_exporter": "python",
      "pygments_lexer": "ipython3",
      "version": "3.7.1"
    },
    "colab": {
      "provenance": [],
      "include_colab_link": true
    }
  },
  "nbformat": 4,
  "nbformat_minor": 0
}