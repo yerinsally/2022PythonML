{
  "cells": [
    {
      "cell_type": "markdown",
      "metadata": {
        "id": "view-in-github",
        "colab_type": "text"
      },
      "source": [
        "<a href=\"https://colab.research.google.com/github/yerinsally/2022_PythonML/blob/main/5_4_%EB%AA%A8%EB%8D%B8_%ED%8F%89%EA%B0%80_%EC%9D%B4%EC%A7%84_%EB%B6%84%EB%A5%98.ipynb\" target=\"_parent\"><img src=\"https://colab.research.google.com/assets/colab-badge.svg\" alt=\"Open In Colab\"/></a>"
      ]
    },
    {
      "cell_type": "markdown",
      "metadata": {
        "id": "vja8bRdTh6Hj"
      },
      "source": [
        "# 1. 데이터 불러오기와 데이터셋 나누기"
      ]
    },
    {
      "cell_type": "code",
      "execution_count": null,
      "metadata": {
        "id": "h5iih_2Hh6Hm"
      },
      "outputs": [],
      "source": [
        "#일반적인 경고 메세지는 무시함\n",
        "import warnings\n",
        "warnings.filterwarnings(\"ignore\")"
      ]
    },
    {
      "cell_type": "code",
      "source": [
        "from google.colab import drive\n",
        "drive.mount('/content/drive')"
      ],
      "metadata": {
        "colab": {
          "base_uri": "https://localhost:8080/"
        },
        "id": "yhM0STCNh_cG",
        "outputId": "f045c6a9-a040-41bd-bd9e-09b1d736ca14"
      },
      "execution_count": null,
      "outputs": [
        {
          "output_type": "stream",
          "name": "stdout",
          "text": [
            "Drive already mounted at /content/drive; to attempt to forcibly remount, call drive.mount(\"/content/drive\", force_remount=True).\n"
          ]
        }
      ]
    },
    {
      "cell_type": "code",
      "execution_count": null,
      "metadata": {
        "id": "K1bV63Aoh6Hn"
      },
      "outputs": [],
      "source": [
        "#Pandas 라이브러리를 선언함\n",
        "import pandas as pd"
      ]
    },
    {
      "cell_type": "code",
      "execution_count": null,
      "metadata": {
        "id": "gNXiLe54h6Hn"
      },
      "outputs": [],
      "source": [
        "#One-hot Coding과 연속데이터 스케일링을 수행한 Fvote.cav 파일을 불러옴\n",
        "data=pd.read_csv('/content/drive/MyDrive/Colab Notebooks/MachineLearning/data/Fvote.csv', encoding='utf-8')"
      ]
    },
    {
      "cell_type": "code",
      "execution_count": null,
      "metadata": {
        "id": "13WpPCDHh6Ho"
      },
      "outputs": [],
      "source": [
        "#입력에 해당하는 feature들을 X로 저장함\n",
        "X=data[['gender_female', 'gender_male', 'region_Chungcheung', 'region_Honam', \n",
        "        'region_Others', 'region_Sudo', 'region_Youngnam', 'edu', 'income', \n",
        "        'age', 'score_gov', 'score_progress', 'score_intention']]"
      ]
    },
    {
      "cell_type": "code",
      "execution_count": null,
      "metadata": {
        "id": "bTbT-u_Fh6Ho"
      },
      "outputs": [],
      "source": [
        "#출력에 해당하는 레이블 중에서 vote만 y로 저장함\n",
        "y=data[['vote']]"
      ]
    },
    {
      "cell_type": "code",
      "execution_count": null,
      "metadata": {
        "id": "8sniPbrwh6Ho"
      },
      "outputs": [],
      "source": [
        "#데이터를 Train와 Test 셋으로 분리하기 위한 라이브러리를 선언함\n",
        "from sklearn.model_selection import train_test_split"
      ]
    },
    {
      "cell_type": "code",
      "execution_count": null,
      "metadata": {
        "id": "TTuFWKIah6Hp"
      },
      "outputs": [],
      "source": [
        "X_train, X_test, y_train, y_test=train_test_split(X, y, stratify=y, random_state=42 )"
      ]
    },
    {
      "cell_type": "markdown",
      "metadata": {
        "id": "I8kYyWQlh6Hq"
      },
      "source": [
        "# 2. Grid Search "
      ]
    },
    {
      "cell_type": "code",
      "execution_count": null,
      "metadata": {
        "id": "aOcwYrHgh6Hr"
      },
      "outputs": [],
      "source": [
        "from sklearn.model_selection import GridSearchCV"
      ]
    },
    {
      "cell_type": "code",
      "execution_count": null,
      "metadata": {
        "id": "QpOqdAarh6Hr"
      },
      "outputs": [],
      "source": [
        "param_grid={'n_neighbors': [1, 2, 3, 4, 5, 6, 7, 8, 9 , 10]}"
      ]
    },
    {
      "cell_type": "code",
      "execution_count": null,
      "metadata": {
        "id": "1PiidtBdh6Hr"
      },
      "outputs": [],
      "source": [
        "from sklearn.neighbors import KNeighborsClassifier"
      ]
    },
    {
      "cell_type": "code",
      "execution_count": null,
      "metadata": {
        "id": "TC-1a92Zh6Hr"
      },
      "outputs": [],
      "source": [
        "grid_search=GridSearchCV(KNeighborsClassifier(), param_grid, cv=5, return_train_score=True)"
      ]
    },
    {
      "cell_type": "code",
      "execution_count": null,
      "metadata": {
        "colab": {
          "base_uri": "https://localhost:8080/"
        },
        "id": "2Zb6FoRuh6Hs",
        "outputId": "edc0f441-3f75-42e8-b25f-43ae1d369279"
      },
      "outputs": [
        {
          "output_type": "execute_result",
          "data": {
            "text/plain": [
              "GridSearchCV(cv=5, estimator=KNeighborsClassifier(),\n",
              "             param_grid={'n_neighbors': [1, 2, 3, 4, 5, 6, 7, 8, 9, 10]},\n",
              "             return_train_score=True)"
            ]
          },
          "metadata": {},
          "execution_count": 36
        }
      ],
      "source": [
        "grid_search.fit(X_train, y_train)"
      ]
    },
    {
      "cell_type": "code",
      "execution_count": null,
      "metadata": {
        "colab": {
          "base_uri": "https://localhost:8080/"
        },
        "id": "abN7Gr2bh6Hs",
        "outputId": "9b68e8b4-dbeb-43c4-d4c9-ff7548f04e53"
      },
      "outputs": [
        {
          "output_type": "stream",
          "name": "stdout",
          "text": [
            "Best Parameter: {'n_neighbors': 9}\n"
          ]
        }
      ],
      "source": [
        "print(\"Best Parameter: {}\".format(grid_search.best_params_))"
      ]
    },
    {
      "cell_type": "code",
      "execution_count": null,
      "metadata": {
        "colab": {
          "base_uri": "https://localhost:8080/"
        },
        "id": "d0N-1TYgh6Hs",
        "outputId": "5533c727-992a-40bf-a529-82a84869507a"
      },
      "outputs": [
        {
          "output_type": "stream",
          "name": "stdout",
          "text": [
            "Best Cross-validity Score: 0.646\n"
          ]
        }
      ],
      "source": [
        "print(\"Best Cross-validity Score: {:.3f}\".format(grid_search.best_score_))"
      ]
    },
    {
      "cell_type": "code",
      "execution_count": null,
      "metadata": {
        "colab": {
          "base_uri": "https://localhost:8080/"
        },
        "id": "61EjHBhhh6Ht",
        "outputId": "bb8eca73-ac5c-4540-826e-e8fce402cf5c"
      },
      "outputs": [
        {
          "output_type": "stream",
          "name": "stdout",
          "text": [
            "Test set Score: 0.830\n"
          ]
        }
      ],
      "source": [
        "print(\"Test set Score: {:.3f}\".format(grid_search.score(X_test, y_test)))"
      ]
    },
    {
      "cell_type": "code",
      "execution_count": null,
      "metadata": {
        "id": "8Cdeu66uh6Ht"
      },
      "outputs": [],
      "source": [
        "result_grid= pd.DataFrame(grid_search.cv_results_)"
      ]
    },
    {
      "cell_type": "code",
      "execution_count": null,
      "metadata": {
        "colab": {
          "base_uri": "https://localhost:8080/",
          "height": 630
        },
        "id": "FVadVHWVh6Ht",
        "outputId": "65953683-1550-407d-c6a5-eefbcbef9182"
      },
      "outputs": [
        {
          "output_type": "execute_result",
          "data": {
            "text/plain": [
              "   mean_fit_time  std_fit_time  mean_score_time  std_score_time  \\\n",
              "0       0.003916      0.001489         0.003771        0.001604   \n",
              "1       0.002953      0.000027         0.003035        0.000132   \n",
              "2       0.003419      0.000784         0.003403        0.000744   \n",
              "3       0.003140      0.000354         0.003462        0.000949   \n",
              "4       0.003701      0.000865         0.003927        0.001205   \n",
              "5       0.003244      0.000582         0.003353        0.000805   \n",
              "6       0.002956      0.000065         0.002941        0.000094   \n",
              "7       0.002966      0.000090         0.002999        0.000070   \n",
              "8       0.003173      0.000513         0.003097        0.000384   \n",
              "9       0.002911      0.000033         0.002928        0.000049   \n",
              "\n",
              "  param_n_neighbors               params  split0_test_score  \\\n",
              "0                 1   {'n_neighbors': 1}            0.59375   \n",
              "1                 2   {'n_neighbors': 2}            0.50000   \n",
              "2                 3   {'n_neighbors': 3}            0.65625   \n",
              "3                 4   {'n_neighbors': 4}            0.59375   \n",
              "4                 5   {'n_neighbors': 5}            0.65625   \n",
              "5                 6   {'n_neighbors': 6}            0.56250   \n",
              "6                 7   {'n_neighbors': 7}            0.59375   \n",
              "7                 8   {'n_neighbors': 8}            0.56250   \n",
              "8                 9   {'n_neighbors': 9}            0.68750   \n",
              "9                10  {'n_neighbors': 10}            0.65625   \n",
              "\n",
              "   split1_test_score  split2_test_score  split3_test_score  ...  \\\n",
              "0            0.53125            0.50000           0.451613  ...   \n",
              "1            0.46875            0.37500           0.354839  ...   \n",
              "2            0.59375            0.53125           0.419355  ...   \n",
              "3            0.43750            0.37500           0.419355  ...   \n",
              "4            0.50000            0.62500           0.516129  ...   \n",
              "5            0.40625            0.53125           0.548387  ...   \n",
              "6            0.56250            0.65625           0.548387  ...   \n",
              "7            0.50000            0.62500           0.516129  ...   \n",
              "8            0.56250            0.65625           0.645161  ...   \n",
              "9            0.59375            0.65625           0.645161  ...   \n",
              "\n",
              "   mean_test_score  std_test_score  rank_test_score  split0_train_score  \\\n",
              "0         0.512097        0.048240                7            1.000000   \n",
              "1         0.417137        0.056726               10            0.722222   \n",
              "2         0.536895        0.082628                6            0.746032   \n",
              "3         0.461895        0.074598                9            0.650794   \n",
              "4         0.569153        0.061204                4            0.690476   \n",
              "5         0.506452        0.056684                8            0.666667   \n",
              "6         0.588306        0.037321                3            0.706349   \n",
              "7         0.543952        0.045591                5            0.658730   \n",
              "8         0.645766        0.044243                1            0.714286   \n",
              "9         0.645766        0.028028                1            0.682540   \n",
              "\n",
              "   split1_train_score  split2_train_score  split3_train_score  \\\n",
              "0            1.000000            1.000000            1.000000   \n",
              "1            0.730159            0.682540            0.771654   \n",
              "2            0.769841            0.793651            0.795276   \n",
              "3            0.730159            0.738095            0.740157   \n",
              "4            0.714286            0.738095            0.724409   \n",
              "5            0.706349            0.730159            0.653543   \n",
              "6            0.682540            0.714286            0.685039   \n",
              "7            0.674603            0.690476            0.669291   \n",
              "8            0.714286            0.706349            0.692913   \n",
              "9            0.690476            0.730159            0.629921   \n",
              "\n",
              "   split4_train_score  mean_train_score  std_train_score  \n",
              "0            1.000000          1.000000         0.000000  \n",
              "1            0.716535          0.724622         0.028582  \n",
              "2            0.740157          0.768991         0.023057  \n",
              "3            0.692913          0.710424         0.034356  \n",
              "4            0.692913          0.712036         0.018263  \n",
              "5            0.685039          0.688351         0.027439  \n",
              "6            0.700787          0.697800         0.012243  \n",
              "7            0.685039          0.675628         0.011276  \n",
              "8            0.685039          0.702575         0.011742  \n",
              "9            0.700787          0.686777         0.032688  \n",
              "\n",
              "[10 rows x 21 columns]"
            ],
            "text/html": [
              "\n",
              "  <div id=\"df-a762575f-da2a-4be1-b19a-9d2879035e2b\">\n",
              "    <div class=\"colab-df-container\">\n",
              "      <div>\n",
              "<style scoped>\n",
              "    .dataframe tbody tr th:only-of-type {\n",
              "        vertical-align: middle;\n",
              "    }\n",
              "\n",
              "    .dataframe tbody tr th {\n",
              "        vertical-align: top;\n",
              "    }\n",
              "\n",
              "    .dataframe thead th {\n",
              "        text-align: right;\n",
              "    }\n",
              "</style>\n",
              "<table border=\"1\" class=\"dataframe\">\n",
              "  <thead>\n",
              "    <tr style=\"text-align: right;\">\n",
              "      <th></th>\n",
              "      <th>mean_fit_time</th>\n",
              "      <th>std_fit_time</th>\n",
              "      <th>mean_score_time</th>\n",
              "      <th>std_score_time</th>\n",
              "      <th>param_n_neighbors</th>\n",
              "      <th>params</th>\n",
              "      <th>split0_test_score</th>\n",
              "      <th>split1_test_score</th>\n",
              "      <th>split2_test_score</th>\n",
              "      <th>split3_test_score</th>\n",
              "      <th>...</th>\n",
              "      <th>mean_test_score</th>\n",
              "      <th>std_test_score</th>\n",
              "      <th>rank_test_score</th>\n",
              "      <th>split0_train_score</th>\n",
              "      <th>split1_train_score</th>\n",
              "      <th>split2_train_score</th>\n",
              "      <th>split3_train_score</th>\n",
              "      <th>split4_train_score</th>\n",
              "      <th>mean_train_score</th>\n",
              "      <th>std_train_score</th>\n",
              "    </tr>\n",
              "  </thead>\n",
              "  <tbody>\n",
              "    <tr>\n",
              "      <th>0</th>\n",
              "      <td>0.003916</td>\n",
              "      <td>0.001489</td>\n",
              "      <td>0.003771</td>\n",
              "      <td>0.001604</td>\n",
              "      <td>1</td>\n",
              "      <td>{'n_neighbors': 1}</td>\n",
              "      <td>0.59375</td>\n",
              "      <td>0.53125</td>\n",
              "      <td>0.50000</td>\n",
              "      <td>0.451613</td>\n",
              "      <td>...</td>\n",
              "      <td>0.512097</td>\n",
              "      <td>0.048240</td>\n",
              "      <td>7</td>\n",
              "      <td>1.000000</td>\n",
              "      <td>1.000000</td>\n",
              "      <td>1.000000</td>\n",
              "      <td>1.000000</td>\n",
              "      <td>1.000000</td>\n",
              "      <td>1.000000</td>\n",
              "      <td>0.000000</td>\n",
              "    </tr>\n",
              "    <tr>\n",
              "      <th>1</th>\n",
              "      <td>0.002953</td>\n",
              "      <td>0.000027</td>\n",
              "      <td>0.003035</td>\n",
              "      <td>0.000132</td>\n",
              "      <td>2</td>\n",
              "      <td>{'n_neighbors': 2}</td>\n",
              "      <td>0.50000</td>\n",
              "      <td>0.46875</td>\n",
              "      <td>0.37500</td>\n",
              "      <td>0.354839</td>\n",
              "      <td>...</td>\n",
              "      <td>0.417137</td>\n",
              "      <td>0.056726</td>\n",
              "      <td>10</td>\n",
              "      <td>0.722222</td>\n",
              "      <td>0.730159</td>\n",
              "      <td>0.682540</td>\n",
              "      <td>0.771654</td>\n",
              "      <td>0.716535</td>\n",
              "      <td>0.724622</td>\n",
              "      <td>0.028582</td>\n",
              "    </tr>\n",
              "    <tr>\n",
              "      <th>2</th>\n",
              "      <td>0.003419</td>\n",
              "      <td>0.000784</td>\n",
              "      <td>0.003403</td>\n",
              "      <td>0.000744</td>\n",
              "      <td>3</td>\n",
              "      <td>{'n_neighbors': 3}</td>\n",
              "      <td>0.65625</td>\n",
              "      <td>0.59375</td>\n",
              "      <td>0.53125</td>\n",
              "      <td>0.419355</td>\n",
              "      <td>...</td>\n",
              "      <td>0.536895</td>\n",
              "      <td>0.082628</td>\n",
              "      <td>6</td>\n",
              "      <td>0.746032</td>\n",
              "      <td>0.769841</td>\n",
              "      <td>0.793651</td>\n",
              "      <td>0.795276</td>\n",
              "      <td>0.740157</td>\n",
              "      <td>0.768991</td>\n",
              "      <td>0.023057</td>\n",
              "    </tr>\n",
              "    <tr>\n",
              "      <th>3</th>\n",
              "      <td>0.003140</td>\n",
              "      <td>0.000354</td>\n",
              "      <td>0.003462</td>\n",
              "      <td>0.000949</td>\n",
              "      <td>4</td>\n",
              "      <td>{'n_neighbors': 4}</td>\n",
              "      <td>0.59375</td>\n",
              "      <td>0.43750</td>\n",
              "      <td>0.37500</td>\n",
              "      <td>0.419355</td>\n",
              "      <td>...</td>\n",
              "      <td>0.461895</td>\n",
              "      <td>0.074598</td>\n",
              "      <td>9</td>\n",
              "      <td>0.650794</td>\n",
              "      <td>0.730159</td>\n",
              "      <td>0.738095</td>\n",
              "      <td>0.740157</td>\n",
              "      <td>0.692913</td>\n",
              "      <td>0.710424</td>\n",
              "      <td>0.034356</td>\n",
              "    </tr>\n",
              "    <tr>\n",
              "      <th>4</th>\n",
              "      <td>0.003701</td>\n",
              "      <td>0.000865</td>\n",
              "      <td>0.003927</td>\n",
              "      <td>0.001205</td>\n",
              "      <td>5</td>\n",
              "      <td>{'n_neighbors': 5}</td>\n",
              "      <td>0.65625</td>\n",
              "      <td>0.50000</td>\n",
              "      <td>0.62500</td>\n",
              "      <td>0.516129</td>\n",
              "      <td>...</td>\n",
              "      <td>0.569153</td>\n",
              "      <td>0.061204</td>\n",
              "      <td>4</td>\n",
              "      <td>0.690476</td>\n",
              "      <td>0.714286</td>\n",
              "      <td>0.738095</td>\n",
              "      <td>0.724409</td>\n",
              "      <td>0.692913</td>\n",
              "      <td>0.712036</td>\n",
              "      <td>0.018263</td>\n",
              "    </tr>\n",
              "    <tr>\n",
              "      <th>5</th>\n",
              "      <td>0.003244</td>\n",
              "      <td>0.000582</td>\n",
              "      <td>0.003353</td>\n",
              "      <td>0.000805</td>\n",
              "      <td>6</td>\n",
              "      <td>{'n_neighbors': 6}</td>\n",
              "      <td>0.56250</td>\n",
              "      <td>0.40625</td>\n",
              "      <td>0.53125</td>\n",
              "      <td>0.548387</td>\n",
              "      <td>...</td>\n",
              "      <td>0.506452</td>\n",
              "      <td>0.056684</td>\n",
              "      <td>8</td>\n",
              "      <td>0.666667</td>\n",
              "      <td>0.706349</td>\n",
              "      <td>0.730159</td>\n",
              "      <td>0.653543</td>\n",
              "      <td>0.685039</td>\n",
              "      <td>0.688351</td>\n",
              "      <td>0.027439</td>\n",
              "    </tr>\n",
              "    <tr>\n",
              "      <th>6</th>\n",
              "      <td>0.002956</td>\n",
              "      <td>0.000065</td>\n",
              "      <td>0.002941</td>\n",
              "      <td>0.000094</td>\n",
              "      <td>7</td>\n",
              "      <td>{'n_neighbors': 7}</td>\n",
              "      <td>0.59375</td>\n",
              "      <td>0.56250</td>\n",
              "      <td>0.65625</td>\n",
              "      <td>0.548387</td>\n",
              "      <td>...</td>\n",
              "      <td>0.588306</td>\n",
              "      <td>0.037321</td>\n",
              "      <td>3</td>\n",
              "      <td>0.706349</td>\n",
              "      <td>0.682540</td>\n",
              "      <td>0.714286</td>\n",
              "      <td>0.685039</td>\n",
              "      <td>0.700787</td>\n",
              "      <td>0.697800</td>\n",
              "      <td>0.012243</td>\n",
              "    </tr>\n",
              "    <tr>\n",
              "      <th>7</th>\n",
              "      <td>0.002966</td>\n",
              "      <td>0.000090</td>\n",
              "      <td>0.002999</td>\n",
              "      <td>0.000070</td>\n",
              "      <td>8</td>\n",
              "      <td>{'n_neighbors': 8}</td>\n",
              "      <td>0.56250</td>\n",
              "      <td>0.50000</td>\n",
              "      <td>0.62500</td>\n",
              "      <td>0.516129</td>\n",
              "      <td>...</td>\n",
              "      <td>0.543952</td>\n",
              "      <td>0.045591</td>\n",
              "      <td>5</td>\n",
              "      <td>0.658730</td>\n",
              "      <td>0.674603</td>\n",
              "      <td>0.690476</td>\n",
              "      <td>0.669291</td>\n",
              "      <td>0.685039</td>\n",
              "      <td>0.675628</td>\n",
              "      <td>0.011276</td>\n",
              "    </tr>\n",
              "    <tr>\n",
              "      <th>8</th>\n",
              "      <td>0.003173</td>\n",
              "      <td>0.000513</td>\n",
              "      <td>0.003097</td>\n",
              "      <td>0.000384</td>\n",
              "      <td>9</td>\n",
              "      <td>{'n_neighbors': 9}</td>\n",
              "      <td>0.68750</td>\n",
              "      <td>0.56250</td>\n",
              "      <td>0.65625</td>\n",
              "      <td>0.645161</td>\n",
              "      <td>...</td>\n",
              "      <td>0.645766</td>\n",
              "      <td>0.044243</td>\n",
              "      <td>1</td>\n",
              "      <td>0.714286</td>\n",
              "      <td>0.714286</td>\n",
              "      <td>0.706349</td>\n",
              "      <td>0.692913</td>\n",
              "      <td>0.685039</td>\n",
              "      <td>0.702575</td>\n",
              "      <td>0.011742</td>\n",
              "    </tr>\n",
              "    <tr>\n",
              "      <th>9</th>\n",
              "      <td>0.002911</td>\n",
              "      <td>0.000033</td>\n",
              "      <td>0.002928</td>\n",
              "      <td>0.000049</td>\n",
              "      <td>10</td>\n",
              "      <td>{'n_neighbors': 10}</td>\n",
              "      <td>0.65625</td>\n",
              "      <td>0.59375</td>\n",
              "      <td>0.65625</td>\n",
              "      <td>0.645161</td>\n",
              "      <td>...</td>\n",
              "      <td>0.645766</td>\n",
              "      <td>0.028028</td>\n",
              "      <td>1</td>\n",
              "      <td>0.682540</td>\n",
              "      <td>0.690476</td>\n",
              "      <td>0.730159</td>\n",
              "      <td>0.629921</td>\n",
              "      <td>0.700787</td>\n",
              "      <td>0.686777</td>\n",
              "      <td>0.032688</td>\n",
              "    </tr>\n",
              "  </tbody>\n",
              "</table>\n",
              "<p>10 rows × 21 columns</p>\n",
              "</div>\n",
              "      <button class=\"colab-df-convert\" onclick=\"convertToInteractive('df-a762575f-da2a-4be1-b19a-9d2879035e2b')\"\n",
              "              title=\"Convert this dataframe to an interactive table.\"\n",
              "              style=\"display:none;\">\n",
              "        \n",
              "  <svg xmlns=\"http://www.w3.org/2000/svg\" height=\"24px\"viewBox=\"0 0 24 24\"\n",
              "       width=\"24px\">\n",
              "    <path d=\"M0 0h24v24H0V0z\" fill=\"none\"/>\n",
              "    <path d=\"M18.56 5.44l.94 2.06.94-2.06 2.06-.94-2.06-.94-.94-2.06-.94 2.06-2.06.94zm-11 1L8.5 8.5l.94-2.06 2.06-.94-2.06-.94L8.5 2.5l-.94 2.06-2.06.94zm10 10l.94 2.06.94-2.06 2.06-.94-2.06-.94-.94-2.06-.94 2.06-2.06.94z\"/><path d=\"M17.41 7.96l-1.37-1.37c-.4-.4-.92-.59-1.43-.59-.52 0-1.04.2-1.43.59L10.3 9.45l-7.72 7.72c-.78.78-.78 2.05 0 2.83L4 21.41c.39.39.9.59 1.41.59.51 0 1.02-.2 1.41-.59l7.78-7.78 2.81-2.81c.8-.78.8-2.07 0-2.86zM5.41 20L4 18.59l7.72-7.72 1.47 1.35L5.41 20z\"/>\n",
              "  </svg>\n",
              "      </button>\n",
              "      \n",
              "  <style>\n",
              "    .colab-df-container {\n",
              "      display:flex;\n",
              "      flex-wrap:wrap;\n",
              "      gap: 12px;\n",
              "    }\n",
              "\n",
              "    .colab-df-convert {\n",
              "      background-color: #E8F0FE;\n",
              "      border: none;\n",
              "      border-radius: 50%;\n",
              "      cursor: pointer;\n",
              "      display: none;\n",
              "      fill: #1967D2;\n",
              "      height: 32px;\n",
              "      padding: 0 0 0 0;\n",
              "      width: 32px;\n",
              "    }\n",
              "\n",
              "    .colab-df-convert:hover {\n",
              "      background-color: #E2EBFA;\n",
              "      box-shadow: 0px 1px 2px rgba(60, 64, 67, 0.3), 0px 1px 3px 1px rgba(60, 64, 67, 0.15);\n",
              "      fill: #174EA6;\n",
              "    }\n",
              "\n",
              "    [theme=dark] .colab-df-convert {\n",
              "      background-color: #3B4455;\n",
              "      fill: #D2E3FC;\n",
              "    }\n",
              "\n",
              "    [theme=dark] .colab-df-convert:hover {\n",
              "      background-color: #434B5C;\n",
              "      box-shadow: 0px 1px 3px 1px rgba(0, 0, 0, 0.15);\n",
              "      filter: drop-shadow(0px 1px 2px rgba(0, 0, 0, 0.3));\n",
              "      fill: #FFFFFF;\n",
              "    }\n",
              "  </style>\n",
              "\n",
              "      <script>\n",
              "        const buttonEl =\n",
              "          document.querySelector('#df-a762575f-da2a-4be1-b19a-9d2879035e2b button.colab-df-convert');\n",
              "        buttonEl.style.display =\n",
              "          google.colab.kernel.accessAllowed ? 'block' : 'none';\n",
              "\n",
              "        async function convertToInteractive(key) {\n",
              "          const element = document.querySelector('#df-a762575f-da2a-4be1-b19a-9d2879035e2b');\n",
              "          const dataTable =\n",
              "            await google.colab.kernel.invokeFunction('convertToInteractive',\n",
              "                                                     [key], {});\n",
              "          if (!dataTable) return;\n",
              "\n",
              "          const docLinkHtml = 'Like what you see? Visit the ' +\n",
              "            '<a target=\"_blank\" href=https://colab.research.google.com/notebooks/data_table.ipynb>data table notebook</a>'\n",
              "            + ' to learn more about interactive tables.';\n",
              "          element.innerHTML = '';\n",
              "          dataTable['output_type'] = 'display_data';\n",
              "          await google.colab.output.renderOutput(dataTable, element);\n",
              "          const docLink = document.createElement('div');\n",
              "          docLink.innerHTML = docLinkHtml;\n",
              "          element.appendChild(docLink);\n",
              "        }\n",
              "      </script>\n",
              "    </div>\n",
              "  </div>\n",
              "  "
            ]
          },
          "metadata": {},
          "execution_count": 41
        }
      ],
      "source": [
        "result_grid"
      ]
    },
    {
      "cell_type": "code",
      "execution_count": null,
      "metadata": {
        "colab": {
          "base_uri": "https://localhost:8080/",
          "height": 283
        },
        "id": "60iOy5s7h6Ht",
        "outputId": "afec6072-1840-4544-dcaa-88c907674809"
      },
      "outputs": [
        {
          "output_type": "execute_result",
          "data": {
            "text/plain": [
              "<matplotlib.legend.Legend at 0x7f6f9f532110>"
            ]
          },
          "metadata": {},
          "execution_count": 42
        },
        {
          "output_type": "display_data",
          "data": {
            "text/plain": [
              "<Figure size 432x288 with 1 Axes>"
            ],
            "image/png": "[encoded data removed]"
          },
          "metadata": {
            "needs_background": "light"
          }
        }
      ],
      "source": [
        "import matplotlib.pyplot as plt\n",
        "plt.plot(result_grid['param_n_neighbors'], result_grid['mean_train_score'], label=\"Train\")\n",
        "plt.plot(result_grid['param_n_neighbors'], result_grid['mean_test_score'], label=\"Test\")\n",
        "plt.legend()"
      ]
    },
    {
      "cell_type": "markdown",
      "metadata": {
        "id": "VGNjdqgVh6Hu"
      },
      "source": [
        "# 3. Random Search"
      ]
    },
    {
      "cell_type": "code",
      "execution_count": null,
      "metadata": {
        "id": "YpwbyT6th6Hu"
      },
      "outputs": [],
      "source": [
        "from sklearn.model_selection import RandomizedSearchCV"
      ]
    },
    {
      "cell_type": "code",
      "execution_count": null,
      "metadata": {
        "id": "9L95msaWh6Hu"
      },
      "outputs": [],
      "source": [
        "from scipy.stats import randint"
      ]
    },
    {
      "cell_type": "code",
      "execution_count": null,
      "metadata": {
        "id": "8mmfUSqSh6Hu"
      },
      "outputs": [],
      "source": [
        "param_distribs = {'n_neighbors': randint(low=1, high=20)}"
      ]
    },
    {
      "cell_type": "code",
      "execution_count": null,
      "metadata": {
        "id": "d4b2YELdh6Hv"
      },
      "outputs": [],
      "source": [
        "from sklearn.neighbors import KNeighborsClassifier"
      ]
    },
    {
      "cell_type": "code",
      "execution_count": null,
      "metadata": {
        "id": "xk-Ojdrkh6Hv"
      },
      "outputs": [],
      "source": [
        "random_search=RandomizedSearchCV(KNeighborsClassifier(), param_distributions=param_distribs, cv=5, return_train_score=True)"
      ]
    },
    {
      "cell_type": "code",
      "execution_count": null,
      "metadata": {
        "colab": {
          "base_uri": "https://localhost:8080/"
        },
        "id": "lD1Vvnnph6Hv",
        "outputId": "292a8c1a-90bc-4064-ea25-a5c962f9ba5e"
      },
      "outputs": [
        {
          "output_type": "execute_result",
          "data": {
            "text/plain": [
              "RandomizedSearchCV(cv=5, estimator=KNeighborsClassifier(),\n",
              "                   param_distributions={'n_neighbors': <scipy.stats._distn_infrastructure.rv_frozen object at 0x7f6f9f4a9b90>},\n",
              "                   return_train_score=True)"
            ]
          },
          "metadata": {},
          "execution_count": 48
        }
      ],
      "source": [
        "random_search.fit(X_train, y_train)"
      ]
    },
    {
      "cell_type": "code",
      "execution_count": null,
      "metadata": {
        "colab": {
          "base_uri": "https://localhost:8080/"
        },
        "id": "hO0-l6edh6Hv",
        "outputId": "4f135051-66ef-4f97-ae2b-ce4794b10948"
      },
      "outputs": [
        {
          "output_type": "stream",
          "name": "stdout",
          "text": [
            "Best Parameter: {'n_neighbors': 16}\n"
          ]
        }
      ],
      "source": [
        "print(\"Best Parameter: {}\".format(random_search.best_params_))"
      ]
    },
    {
      "cell_type": "code",
      "execution_count": null,
      "metadata": {
        "colab": {
          "base_uri": "https://localhost:8080/"
        },
        "id": "V2OGB0K4h6Hv",
        "outputId": "8d760b6c-40a2-4b8e-ac02-eb77f6abb589"
      },
      "outputs": [
        {
          "output_type": "stream",
          "name": "stdout",
          "text": [
            "Best Cross-validity Score: 0.684\n"
          ]
        }
      ],
      "source": [
        "print(\"Best Cross-validity Score: {:.3f}\".format(random_search.best_score_))"
      ]
    },
    {
      "cell_type": "code",
      "execution_count": null,
      "metadata": {
        "colab": {
          "base_uri": "https://localhost:8080/"
        },
        "id": "2XTwRv7Fh6Hv",
        "outputId": "0a6cea63-ce8d-476a-af0b-e85bc37bb406"
      },
      "outputs": [
        {
          "output_type": "stream",
          "name": "stdout",
          "text": [
            "Test set Score: 0.755\n"
          ]
        }
      ],
      "source": [
        "print(\"Test set Score: {:.3f}\".format(random_search.score(X_test, y_test)))"
      ]
    },
    {
      "cell_type": "code",
      "execution_count": null,
      "metadata": {
        "id": "p5fjEt09h6Hw"
      },
      "outputs": [],
      "source": [
        "result_random = random_search.cv_results_"
      ]
    },
    {
      "cell_type": "code",
      "execution_count": null,
      "metadata": {
        "colab": {
          "base_uri": "https://localhost:8080/",
          "height": 630
        },
        "id": "IqHEUvkfh6Hw",
        "outputId": "1077b42b-0d6a-4e13-b894-d13f801661da"
      },
      "outputs": [
        {
          "output_type": "execute_result",
          "data": {
            "text/plain": [
              "   mean_fit_time  std_fit_time  mean_score_time  std_score_time  \\\n",
              "0       0.003711      0.000981         0.003425        0.000510   \n",
              "1       0.004246      0.002102         0.003811        0.001174   \n",
              "2       0.002996      0.000062         0.002947        0.000059   \n",
              "3       0.003006      0.000186         0.002880        0.000026   \n",
              "4       0.002904      0.000023         0.003025        0.000087   \n",
              "5       0.002983      0.000143         0.002954        0.000025   \n",
              "6       0.002918      0.000047         0.002981        0.000046   \n",
              "7       0.003068      0.000266         0.003126        0.000311   \n",
              "8       0.003009      0.000139         0.003076        0.000137   \n",
              "9       0.002875      0.000005         0.002914        0.000082   \n",
              "\n",
              "  param_n_neighbors               params  split0_test_score  \\\n",
              "0                 6   {'n_neighbors': 6}            0.56250   \n",
              "1                 4   {'n_neighbors': 4}            0.59375   \n",
              "2                 7   {'n_neighbors': 7}            0.59375   \n",
              "3                 3   {'n_neighbors': 3}            0.65625   \n",
              "4                16  {'n_neighbors': 16}            0.68750   \n",
              "5                16  {'n_neighbors': 16}            0.68750   \n",
              "6                16  {'n_neighbors': 16}            0.68750   \n",
              "7                 9   {'n_neighbors': 9}            0.68750   \n",
              "8                19  {'n_neighbors': 19}            0.68750   \n",
              "9                 3   {'n_neighbors': 3}            0.65625   \n",
              "\n",
              "   split1_test_score  split2_test_score  split3_test_score  ...  \\\n",
              "0            0.40625            0.53125           0.548387  ...   \n",
              "1            0.43750            0.37500           0.419355  ...   \n",
              "2            0.56250            0.65625           0.548387  ...   \n",
              "3            0.59375            0.53125           0.419355  ...   \n",
              "4            0.65625            0.62500           0.741935  ...   \n",
              "5            0.65625            0.62500           0.741935  ...   \n",
              "6            0.65625            0.62500           0.741935  ...   \n",
              "7            0.56250            0.65625           0.645161  ...   \n",
              "8            0.65625            0.65625           0.709677  ...   \n",
              "9            0.59375            0.53125           0.419355  ...   \n",
              "\n",
              "   mean_test_score  std_test_score  rank_test_score  split0_train_score  \\\n",
              "0         0.506452        0.056684                9            0.666667   \n",
              "1         0.461895        0.074598               10            0.650794   \n",
              "2         0.588306        0.037321                6            0.706349   \n",
              "3         0.536895        0.082628                7            0.746032   \n",
              "4         0.684073        0.040692                1            0.706349   \n",
              "5         0.684073        0.040692                1            0.706349   \n",
              "6         0.684073        0.040692                1            0.706349   \n",
              "7         0.645766        0.044243                5            0.714286   \n",
              "8         0.677419        0.020192                4            0.698413   \n",
              "9         0.536895        0.082628                7            0.746032   \n",
              "\n",
              "   split1_train_score  split2_train_score  split3_train_score  \\\n",
              "0            0.706349            0.730159            0.653543   \n",
              "1            0.730159            0.738095            0.740157   \n",
              "2            0.682540            0.714286            0.685039   \n",
              "3            0.769841            0.793651            0.795276   \n",
              "4            0.706349            0.706349            0.661417   \n",
              "5            0.706349            0.706349            0.661417   \n",
              "6            0.706349            0.706349            0.661417   \n",
              "7            0.714286            0.706349            0.692913   \n",
              "8            0.706349            0.722222            0.685039   \n",
              "9            0.769841            0.793651            0.795276   \n",
              "\n",
              "   split4_train_score  mean_train_score  std_train_score  \n",
              "0            0.685039          0.688351         0.027439  \n",
              "1            0.692913          0.710424         0.034356  \n",
              "2            0.700787          0.697800         0.012243  \n",
              "3            0.740157          0.768991         0.023057  \n",
              "4            0.685039          0.693101         0.017863  \n",
              "5            0.685039          0.693101         0.017863  \n",
              "6            0.685039          0.693101         0.017863  \n",
              "7            0.685039          0.702575         0.011742  \n",
              "8            0.716535          0.705712         0.013197  \n",
              "9            0.740157          0.768991         0.023057  \n",
              "\n",
              "[10 rows x 21 columns]"
            ],
            "text/html": [
              "\n",
              "  <div id=\"df-a28b4945-8515-448d-b887-3fb717b7a276\">\n",
              "    <div class=\"colab-df-container\">\n",
              "      <div>\n",
              "<style scoped>\n",
              "    .dataframe tbody tr th:only-of-type {\n",
              "        vertical-align: middle;\n",
              "    }\n",
              "\n",
              "    .dataframe tbody tr th {\n",
              "        vertical-align: top;\n",
              "    }\n",
              "\n",
              "    .dataframe thead th {\n",
              "        text-align: right;\n",
              "    }\n",
              "</style>\n",
              "<table border=\"1\" class=\"dataframe\">\n",
              "  <thead>\n",
              "    <tr style=\"text-align: right;\">\n",
              "      <th></th>\n",
              "      <th>mean_fit_time</th>\n",
              "      <th>std_fit_time</th>\n",
              "      <th>mean_score_time</th>\n",
              "      <th>std_score_time</th>\n",
              "      <th>param_n_neighbors</th>\n",
              "      <th>params</th>\n",
              "      <th>split0_test_score</th>\n",
              "      <th>split1_test_score</th>\n",
              "      <th>split2_test_score</th>\n",
              "      <th>split3_test_score</th>\n",
              "      <th>...</th>\n",
              "      <th>mean_test_score</th>\n",
              "      <th>std_test_score</th>\n",
              "      <th>rank_test_score</th>\n",
              "      <th>split0_train_score</th>\n",
              "      <th>split1_train_score</th>\n",
              "      <th>split2_train_score</th>\n",
              "      <th>split3_train_score</th>\n",
              "      <th>split4_train_score</th>\n",
              "      <th>mean_train_score</th>\n",
              "      <th>std_train_score</th>\n",
              "    </tr>\n",
              "  </thead>\n",
              "  <tbody>\n",
              "    <tr>\n",
              "      <th>0</th>\n",
              "      <td>0.003711</td>\n",
              "      <td>0.000981</td>\n",
              "      <td>0.003425</td>\n",
              "      <td>0.000510</td>\n",
              "      <td>6</td>\n",
              "      <td>{'n_neighbors': 6}</td>\n",
              "      <td>0.56250</td>\n",
              "      <td>0.40625</td>\n",
              "      <td>0.53125</td>\n",
              "      <td>0.548387</td>\n",
              "      <td>...</td>\n",
              "      <td>0.506452</td>\n",
              "      <td>0.056684</td>\n",
              "      <td>9</td>\n",
              "      <td>0.666667</td>\n",
              "      <td>0.706349</td>\n",
              "      <td>0.730159</td>\n",
              "      <td>0.653543</td>\n",
              "      <td>0.685039</td>\n",
              "      <td>0.688351</td>\n",
              "      <td>0.027439</td>\n",
              "    </tr>\n",
              "    <tr>\n",
              "      <th>1</th>\n",
              "      <td>0.004246</td>\n",
              "      <td>0.002102</td>\n",
              "      <td>0.003811</td>\n",
              "      <td>0.001174</td>\n",
              "      <td>4</td>\n",
              "      <td>{'n_neighbors': 4}</td>\n",
              "      <td>0.59375</td>\n",
              "      <td>0.43750</td>\n",
              "      <td>0.37500</td>\n",
              "      <td>0.419355</td>\n",
              "      <td>...</td>\n",
              "      <td>0.461895</td>\n",
              "      <td>0.074598</td>\n",
              "      <td>10</td>\n",
              "      <td>0.650794</td>\n",
              "      <td>0.730159</td>\n",
              "      <td>0.738095</td>\n",
              "      <td>0.740157</td>\n",
              "      <td>0.692913</td>\n",
              "      <td>0.710424</td>\n",
              "      <td>0.034356</td>\n",
              "    </tr>\n",
              "    <tr>\n",
              "      <th>2</th>\n",
              "      <td>0.002996</td>\n",
              "      <td>0.000062</td>\n",
              "      <td>0.002947</td>\n",
              "      <td>0.000059</td>\n",
              "      <td>7</td>\n",
              "      <td>{'n_neighbors': 7}</td>\n",
              "      <td>0.59375</td>\n",
              "      <td>0.56250</td>\n",
              "      <td>0.65625</td>\n",
              "      <td>0.548387</td>\n",
              "      <td>...</td>\n",
              "      <td>0.588306</td>\n",
              "      <td>0.037321</td>\n",
              "      <td>6</td>\n",
              "      <td>0.706349</td>\n",
              "      <td>0.682540</td>\n",
              "      <td>0.714286</td>\n",
              "      <td>0.685039</td>\n",
              "      <td>0.700787</td>\n",
              "      <td>0.697800</td>\n",
              "      <td>0.012243</td>\n",
              "    </tr>\n",
              "    <tr>\n",
              "      <th>3</th>\n",
              "      <td>0.003006</td>\n",
              "      <td>0.000186</td>\n",
              "      <td>0.002880</td>\n",
              "      <td>0.000026</td>\n",
              "      <td>3</td>\n",
              "      <td>{'n_neighbors': 3}</td>\n",
              "      <td>0.65625</td>\n",
              "      <td>0.59375</td>\n",
              "      <td>0.53125</td>\n",
              "      <td>0.419355</td>\n",
              "      <td>...</td>\n",
              "      <td>0.536895</td>\n",
              "      <td>0.082628</td>\n",
              "      <td>7</td>\n",
              "      <td>0.746032</td>\n",
              "      <td>0.769841</td>\n",
              "      <td>0.793651</td>\n",
              "      <td>0.795276</td>\n",
              "      <td>0.740157</td>\n",
              "      <td>0.768991</td>\n",
              "      <td>0.023057</td>\n",
              "    </tr>\n",
              "    <tr>\n",
              "      <th>4</th>\n",
              "      <td>0.002904</td>\n",
              "      <td>0.000023</td>\n",
              "      <td>0.003025</td>\n",
              "      <td>0.000087</td>\n",
              "      <td>16</td>\n",
              "      <td>{'n_neighbors': 16}</td>\n",
              "      <td>0.68750</td>\n",
              "      <td>0.65625</td>\n",
              "      <td>0.62500</td>\n",
              "      <td>0.741935</td>\n",
              "      <td>...</td>\n",
              "      <td>0.684073</td>\n",
              "      <td>0.040692</td>\n",
              "      <td>1</td>\n",
              "      <td>0.706349</td>\n",
              "      <td>0.706349</td>\n",
              "      <td>0.706349</td>\n",
              "      <td>0.661417</td>\n",
              "      <td>0.685039</td>\n",
              "      <td>0.693101</td>\n",
              "      <td>0.017863</td>\n",
              "    </tr>\n",
              "    <tr>\n",
              "      <th>5</th>\n",
              "      <td>0.002983</td>\n",
              "      <td>0.000143</td>\n",
              "      <td>0.002954</td>\n",
              "      <td>0.000025</td>\n",
              "      <td>16</td>\n",
              "      <td>{'n_neighbors': 16}</td>\n",
              "      <td>0.68750</td>\n",
              "      <td>0.65625</td>\n",
              "      <td>0.62500</td>\n",
              "      <td>0.741935</td>\n",
              "      <td>...</td>\n",
              "      <td>0.684073</td>\n",
              "      <td>0.040692</td>\n",
              "      <td>1</td>\n",
              "      <td>0.706349</td>\n",
              "      <td>0.706349</td>\n",
              "      <td>0.706349</td>\n",
              "      <td>0.661417</td>\n",
              "      <td>0.685039</td>\n",
              "      <td>0.693101</td>\n",
              "      <td>0.017863</td>\n",
              "    </tr>\n",
              "    <tr>\n",
              "      <th>6</th>\n",
              "      <td>0.002918</td>\n",
              "      <td>0.000047</td>\n",
              "      <td>0.002981</td>\n",
              "      <td>0.000046</td>\n",
              "      <td>16</td>\n",
              "      <td>{'n_neighbors': 16}</td>\n",
              "      <td>0.68750</td>\n",
              "      <td>0.65625</td>\n",
              "      <td>0.62500</td>\n",
              "      <td>0.741935</td>\n",
              "      <td>...</td>\n",
              "      <td>0.684073</td>\n",
              "      <td>0.040692</td>\n",
              "      <td>1</td>\n",
              "      <td>0.706349</td>\n",
              "      <td>0.706349</td>\n",
              "      <td>0.706349</td>\n",
              "      <td>0.661417</td>\n",
              "      <td>0.685039</td>\n",
              "      <td>0.693101</td>\n",
              "      <td>0.017863</td>\n",
              "    </tr>\n",
              "    <tr>\n",
              "      <th>7</th>\n",
              "      <td>0.003068</td>\n",
              "      <td>0.000266</td>\n",
              "      <td>0.003126</td>\n",
              "      <td>0.000311</td>\n",
              "      <td>9</td>\n",
              "      <td>{'n_neighbors': 9}</td>\n",
              "      <td>0.68750</td>\n",
              "      <td>0.56250</td>\n",
              "      <td>0.65625</td>\n",
              "      <td>0.645161</td>\n",
              "      <td>...</td>\n",
              "      <td>0.645766</td>\n",
              "      <td>0.044243</td>\n",
              "      <td>5</td>\n",
              "      <td>0.714286</td>\n",
              "      <td>0.714286</td>\n",
              "      <td>0.706349</td>\n",
              "      <td>0.692913</td>\n",
              "      <td>0.685039</td>\n",
              "      <td>0.702575</td>\n",
              "      <td>0.011742</td>\n",
              "    </tr>\n",
              "    <tr>\n",
              "      <th>8</th>\n",
              "      <td>0.003009</td>\n",
              "      <td>0.000139</td>\n",
              "      <td>0.003076</td>\n",
              "      <td>0.000137</td>\n",
              "      <td>19</td>\n",
              "      <td>{'n_neighbors': 19}</td>\n",
              "      <td>0.68750</td>\n",
              "      <td>0.65625</td>\n",
              "      <td>0.65625</td>\n",
              "      <td>0.709677</td>\n",
              "      <td>...</td>\n",
              "      <td>0.677419</td>\n",
              "      <td>0.020192</td>\n",
              "      <td>4</td>\n",
              "      <td>0.698413</td>\n",
              "      <td>0.706349</td>\n",
              "      <td>0.722222</td>\n",
              "      <td>0.685039</td>\n",
              "      <td>0.716535</td>\n",
              "      <td>0.705712</td>\n",
              "      <td>0.013197</td>\n",
              "    </tr>\n",
              "    <tr>\n",
              "      <th>9</th>\n",
              "      <td>0.002875</td>\n",
              "      <td>0.000005</td>\n",
              "      <td>0.002914</td>\n",
              "      <td>0.000082</td>\n",
              "      <td>3</td>\n",
              "      <td>{'n_neighbors': 3}</td>\n",
              "      <td>0.65625</td>\n",
              "      <td>0.59375</td>\n",
              "      <td>0.53125</td>\n",
              "      <td>0.419355</td>\n",
              "      <td>...</td>\n",
              "      <td>0.536895</td>\n",
              "      <td>0.082628</td>\n",
              "      <td>7</td>\n",
              "      <td>0.746032</td>\n",
              "      <td>0.769841</td>\n",
              "      <td>0.793651</td>\n",
              "      <td>0.795276</td>\n",
              "      <td>0.740157</td>\n",
              "      <td>0.768991</td>\n",
              "      <td>0.023057</td>\n",
              "    </tr>\n",
              "  </tbody>\n",
              "</table>\n",
              "<p>10 rows × 21 columns</p>\n",
              "</div>\n",
              "      <button class=\"colab-df-convert\" onclick=\"convertToInteractive('df-a28b4945-8515-448d-b887-3fb717b7a276')\"\n",
              "              title=\"Convert this dataframe to an interactive table.\"\n",
              "              style=\"display:none;\">\n",
              "        \n",
              "  <svg xmlns=\"http://www.w3.org/2000/svg\" height=\"24px\"viewBox=\"0 0 24 24\"\n",
              "       width=\"24px\">\n",
              "    <path d=\"M0 0h24v24H0V0z\" fill=\"none\"/>\n",
              "    <path d=\"M18.56 5.44l.94 2.06.94-2.06 2.06-.94-2.06-.94-.94-2.06-.94 2.06-2.06.94zm-11 1L8.5 8.5l.94-2.06 2.06-.94-2.06-.94L8.5 2.5l-.94 2.06-2.06.94zm10 10l.94 2.06.94-2.06 2.06-.94-2.06-.94-.94-2.06-.94 2.06-2.06.94z\"/><path d=\"M17.41 7.96l-1.37-1.37c-.4-.4-.92-.59-1.43-.59-.52 0-1.04.2-1.43.59L10.3 9.45l-7.72 7.72c-.78.78-.78 2.05 0 2.83L4 21.41c.39.39.9.59 1.41.59.51 0 1.02-.2 1.41-.59l7.78-7.78 2.81-2.81c.8-.78.8-2.07 0-2.86zM5.41 20L4 18.59l7.72-7.72 1.47 1.35L5.41 20z\"/>\n",
              "  </svg>\n",
              "      </button>\n",
              "      \n",
              "  <style>\n",
              "    .colab-df-container {\n",
              "      display:flex;\n",
              "      flex-wrap:wrap;\n",
              "      gap: 12px;\n",
              "    }\n",
              "\n",
              "    .colab-df-convert {\n",
              "      background-color: #E8F0FE;\n",
              "      border: none;\n",
              "      border-radius: 50%;\n",
              "      cursor: pointer;\n",
              "      display: none;\n",
              "      fill: #1967D2;\n",
              "      height: 32px;\n",
              "      padding: 0 0 0 0;\n",
              "      width: 32px;\n",
              "    }\n",
              "\n",
              "    .colab-df-convert:hover {\n",
              "      background-color: #E2EBFA;\n",
              "      box-shadow: 0px 1px 2px rgba(60, 64, 67, 0.3), 0px 1px 3px 1px rgba(60, 64, 67, 0.15);\n",
              "      fill: #174EA6;\n",
              "    }\n",
              "\n",
              "    [theme=dark] .colab-df-convert {\n",
              "      background-color: #3B4455;\n",
              "      fill: #D2E3FC;\n",
              "    }\n",
              "\n",
              "    [theme=dark] .colab-df-convert:hover {\n",
              "      background-color: #434B5C;\n",
              "      box-shadow: 0px 1px 3px 1px rgba(0, 0, 0, 0.15);\n",
              "      filter: drop-shadow(0px 1px 2px rgba(0, 0, 0, 0.3));\n",
              "      fill: #FFFFFF;\n",
              "    }\n",
              "  </style>\n",
              "\n",
              "      <script>\n",
              "        const buttonEl =\n",
              "          document.querySelector('#df-a28b4945-8515-448d-b887-3fb717b7a276 button.colab-df-convert');\n",
              "        buttonEl.style.display =\n",
              "          google.colab.kernel.accessAllowed ? 'block' : 'none';\n",
              "\n",
              "        async function convertToInteractive(key) {\n",
              "          const element = document.querySelector('#df-a28b4945-8515-448d-b887-3fb717b7a276');\n",
              "          const dataTable =\n",
              "            await google.colab.kernel.invokeFunction('convertToInteractive',\n",
              "                                                     [key], {});\n",
              "          if (!dataTable) return;\n",
              "\n",
              "          const docLinkHtml = 'Like what you see? Visit the ' +\n",
              "            '<a target=\"_blank\" href=https://colab.research.google.com/notebooks/data_table.ipynb>data table notebook</a>'\n",
              "            + ' to learn more about interactive tables.';\n",
              "          element.innerHTML = '';\n",
              "          dataTable['output_type'] = 'display_data';\n",
              "          await google.colab.output.renderOutput(dataTable, element);\n",
              "          const docLink = document.createElement('div');\n",
              "          docLink.innerHTML = docLinkHtml;\n",
              "          element.appendChild(docLink);\n",
              "        }\n",
              "      </script>\n",
              "    </div>\n",
              "  </div>\n",
              "  "
            ]
          },
          "metadata": {},
          "execution_count": 53
        }
      ],
      "source": [
        "pd.DataFrame(result_random)"
      ]
    },
    {
      "cell_type": "code",
      "execution_count": null,
      "metadata": {
        "colab": {
          "base_uri": "https://localhost:8080/",
          "height": 283
        },
        "id": "MPRWlqinh6Hw",
        "outputId": "0cc0f2fe-92f3-432d-8d91-f8eca202a25f"
      },
      "outputs": [
        {
          "output_type": "execute_result",
          "data": {
            "text/plain": [
              "<matplotlib.legend.Legend at 0x7f6f9f49fed0>"
            ]
          },
          "metadata": {},
          "execution_count": 54
        },
        {
          "output_type": "display_data",
          "data": {
            "text/plain": [
              "<Figure size 432x288 with 1 Axes>"
            ],
            "image/png": "[encoded data removed]"
          },
          "metadata": {
            "needs_background": "light"
          }
        }
      ],
      "source": [
        "import matplotlib.pyplot as plt\n",
        "plt.plot(result_random['param_n_neighbors'], result_random['mean_train_score'], label=\"Train\")\n",
        "plt.plot(result_random['param_n_neighbors'], result_random['mean_test_score'], label=\"Test\")\n",
        "plt.legend()"
      ]
    },
    {
      "cell_type": "markdown",
      "metadata": {
        "id": "RL1Wf3TAh6Hw"
      },
      "source": [
        "# 4. 모델평가"
      ]
    },
    {
      "cell_type": "code",
      "execution_count": null,
      "metadata": {
        "id": "f2K8bsibh6Hw"
      },
      "outputs": [],
      "source": [
        "from sklearn.neighbors import KNeighborsClassifier"
      ]
    },
    {
      "cell_type": "code",
      "execution_count": null,
      "metadata": {
        "id": "sHUgcqSyh6Hw"
      },
      "outputs": [],
      "source": [
        "# 앞 단계에서 얻은 best parameter = n_neighbors = 9\n",
        "knn9=KNeighborsClassifier(n_neighbors=9)"
      ]
    },
    {
      "cell_type": "code",
      "execution_count": null,
      "metadata": {
        "colab": {
          "base_uri": "https://localhost:8080/"
        },
        "id": "6oXmemzGh6Hw",
        "outputId": "682993e0-5be2-49e0-872a-e3c9aa0893b5"
      },
      "outputs": [
        {
          "output_type": "execute_result",
          "data": {
            "text/plain": [
              "KNeighborsClassifier(n_neighbors=9)"
            ]
          },
          "metadata": {},
          "execution_count": 57
        }
      ],
      "source": [
        "knn9.fit(X_train, y_train)"
      ]
    },
    {
      "cell_type": "code",
      "execution_count": null,
      "metadata": {
        "id": "YUkk_qG-h6Hx"
      },
      "outputs": [],
      "source": [
        "from sklearn.metrics import confusion_matrix\n",
        "# Confusion matrix에서\n",
        "# [정확도]Accuracy =(TN + TP) / Total\n",
        "# [정밀도]Precision = TP / (TP + FP)\n",
        "# [재현율]Recall = TP / (TP + FN)\n",
        "# f-score = 2 / ((1 / precision) + (1 / recall))"
      ]
    },
    {
      "cell_type": "code",
      "execution_count": null,
      "metadata": {
        "id": "28Wco6z5h6Hx"
      },
      "outputs": [],
      "source": [
        "# y_train : given label = 알고있는 결과값\n",
        "pred_train=knn9.predict(X_train)"
      ]
    },
    {
      "cell_type": "code",
      "execution_count": null,
      "metadata": {
        "id": "9MfYQh11h6Hx"
      },
      "outputs": [],
      "source": [
        "# 실제 값 / 예측 값 비교\n",
        "confusion_train=confusion_matrix(y_train, pred_train)"
      ]
    },
    {
      "cell_type": "code",
      "execution_count": null,
      "metadata": {
        "colab": {
          "base_uri": "https://localhost:8080/"
        },
        "id": "c4u6XyMVh6Hx",
        "outputId": "e001552b-0e5f-4fac-d184-d93fceb9ff50"
      },
      "outputs": [
        {
          "output_type": "stream",
          "name": "stdout",
          "text": [
            "훈련데이터 오차행렬:\n",
            " [[  6  42]\n",
            " [  2 108]]\n"
          ]
        }
      ],
      "source": [
        "print(\"훈련데이터 오차행렬:\\n\", confusion_train)\n",
        "# 158개 중 114개 맞고 44개 틀림"
      ]
    },
    {
      "cell_type": "code",
      "execution_count": null,
      "metadata": {
        "id": "BhGRp_gVh6Hx"
      },
      "outputs": [],
      "source": [
        "# y_test : given label = 알고있는 결과값\n",
        "pred_test=knn9.predict(X_test)"
      ]
    },
    {
      "cell_type": "code",
      "execution_count": null,
      "metadata": {
        "id": "t-RDgHjmh6Hx"
      },
      "outputs": [],
      "source": [
        "confusion_test=confusion_matrix(y_test, pred_test)"
      ]
    },
    {
      "cell_type": "code",
      "execution_count": null,
      "metadata": {
        "colab": {
          "base_uri": "https://localhost:8080/"
        },
        "id": "A59oW66ph6Hx",
        "outputId": "18f1142a-e6cb-4d91-b840-a78564a5813e"
      },
      "outputs": [
        {
          "output_type": "stream",
          "name": "stdout",
          "text": [
            "테스트데이터 오차행렬:\n",
            " [[ 5  8]\n",
            " [ 1 39]]\n"
          ]
        }
      ],
      "source": [
        "print(\"테스트데이터 오차행렬:\\n\", confusion_test)"
      ]
    },
    {
      "cell_type": "code",
      "execution_count": null,
      "metadata": {
        "id": "rHxH8UFCh6Hy"
      },
      "outputs": [],
      "source": [
        "# p31\n",
        "TP = 39\n",
        "FP = 8\n",
        "FN = 1\n",
        "TN = 5"
      ]
    },
    {
      "cell_type": "code",
      "execution_count": null,
      "metadata": {
        "colab": {
          "base_uri": "https://localhost:8080/"
        },
        "id": "ettPLEGvh6Hy",
        "outputId": "2000ca3c-a925-4991-f384-493dcef8ec80"
      },
      "outputs": [
        {
          "output_type": "execute_result",
          "data": {
            "text/plain": [
              "0.8297872340425532"
            ]
          },
          "metadata": {},
          "execution_count": 67
        }
      ],
      "source": [
        "# precision\n",
        "precision = TP/(TP+FP)\n",
        "precision"
      ]
    },
    {
      "cell_type": "code",
      "execution_count": null,
      "metadata": {
        "colab": {
          "base_uri": "https://localhost:8080/"
        },
        "id": "4PAfui__h6Hy",
        "outputId": "65ecd8ff-e634-4427-e72f-9eb51217b2e5"
      },
      "outputs": [
        {
          "output_type": "execute_result",
          "data": {
            "text/plain": [
              "0.975"
            ]
          },
          "metadata": {},
          "execution_count": 68
        }
      ],
      "source": [
        "# recall\n",
        "recall = TP/(TP+FN)\n",
        "recall"
      ]
    },
    {
      "cell_type": "code",
      "execution_count": null,
      "metadata": {
        "colab": {
          "base_uri": "https://localhost:8080/"
        },
        "id": "R1XL_vyuh6Hy",
        "outputId": "b2a577cf-870a-4c08-9ae0-cc8ffa753929"
      },
      "outputs": [
        {
          "output_type": "execute_result",
          "data": {
            "text/plain": [
              "0.896551724137931"
            ]
          },
          "metadata": {},
          "execution_count": 69
        }
      ],
      "source": [
        "# f_score : precision과 recall에 대한 조합평균\n",
        "f_score=2/((1/precision)+(1/recall))\n",
        "f_score"
      ]
    },
    {
      "cell_type": "code",
      "source": [
        "# 일일이 안 구해도 됨\n",
        "from sklearn.metrics import f1_score"
      ],
      "metadata": {
        "id": "zmGoUCJi53FV"
      },
      "execution_count": null,
      "outputs": []
    },
    {
      "cell_type": "code",
      "execution_count": null,
      "metadata": {
        "id": "_XVLsNeth6Hy"
      },
      "outputs": [],
      "source": [
        "f1 = f1_score(y_test, pred_test)"
      ]
    },
    {
      "cell_type": "code",
      "execution_count": null,
      "metadata": {
        "colab": {
          "base_uri": "https://localhost:8080/"
        },
        "id": "AejQePsHh6Hy",
        "outputId": "a3687937-2530-40c5-869a-57fdfe15f821"
      },
      "outputs": [
        {
          "output_type": "stream",
          "name": "stdout",
          "text": [
            "f1 score:\n",
            " 0.896551724137931\n"
          ]
        }
      ],
      "source": [
        "print(\"f1 score:\\n\", f1)"
      ]
    },
    {
      "cell_type": "code",
      "execution_count": null,
      "metadata": {
        "id": "itO1VIBOh6Hy"
      },
      "outputs": [],
      "source": [
        "from sklearn.metrics import classification_report"
      ]
    },
    {
      "cell_type": "code",
      "execution_count": null,
      "metadata": {
        "id": "BaHq8iVIh6Hy"
      },
      "outputs": [],
      "source": [
        "cfreport = classification_report(y_test, pred_test)\n",
        "#classification_report(y_true, y_pred, labels=None, target_names=None, sample_weight=None, digits=2, output_dict=False)[source]"
      ]
    },
    {
      "cell_type": "code",
      "execution_count": null,
      "metadata": {
        "colab": {
          "base_uri": "https://localhost:8080/",
          "height": 71
        },
        "id": "sg0LocS6h6Hz",
        "outputId": "7ef63fc8-19a9-40e4-be9a-4886232d7a5a"
      },
      "outputs": [
        {
          "output_type": "execute_result",
          "data": {
            "text/plain": [
              "'              precision    recall  f1-score   support\\n\\n           0       0.83      0.38      0.53        13\\n           1       0.83      0.97      0.90        40\\n\\n    accuracy                           0.83        53\\n   macro avg       0.83      0.68      0.71        53\\nweighted avg       0.83      0.83      0.81        53\\n'"
            ],
            "application/vnd.google.colaboratory.intrinsic+json": {
              "type": "string"
            }
          },
          "metadata": {},
          "execution_count": 74
        }
      ],
      "source": [
        "cfreport"
      ]
    },
    {
      "cell_type": "code",
      "execution_count": null,
      "metadata": {
        "colab": {
          "base_uri": "https://localhost:8080/"
        },
        "id": "p0mWZitnh6Hz",
        "outputId": "b8db7a5f-37ef-4c05-d86d-ea2194bb93b7"
      },
      "outputs": [
        {
          "output_type": "stream",
          "name": "stdout",
          "text": [
            "분류예측 레포트:\n",
            "               precision    recall  f1-score   support\n",
            "\n",
            "           0       0.83      0.38      0.53        13\n",
            "           1       0.83      0.97      0.90        40\n",
            "\n",
            "    accuracy                           0.83        53\n",
            "   macro avg       0.83      0.68      0.71        53\n",
            "weighted avg       0.83      0.83      0.81        53\n",
            "\n"
          ]
        }
      ],
      "source": [
        "print(\"분류예측 레포트:\\n\", cfreport)\n",
        "# support : the number of occurrences of each class in y_true\n",
        "# micro average (averaging the total TP, FN and FP)\n",
        "# macro average (averaging the unweighted mean per label)\n",
        "# weighted average (averaging the support-weighted mean per label)\n",
        "\n",
        "# 최종 f1-score = 0.90"
      ]
    }
  ],
  "metadata": {
    "kernelspec": {
      "display_name": "Python 3",
      "language": "python",
      "name": "python3"
    },
    "language_info": {
      "codemirror_mode": {
        "name": "ipython",
        "version": 3
      },
      "file_extension": ".py",
      "mimetype": "text/x-python",
      "name": "python",
      "nbconvert_exporter": "python",
      "pygments_lexer": "ipython3",
      "version": "3.7.1"
    },
    "colab": {
      "provenance": [],
      "collapsed_sections": [
        "vja8bRdTh6Hj",
        "I8kYyWQlh6Hq",
        "VGNjdqgVh6Hu"
      ],
      "include_colab_link": true
    }
  },
  "nbformat": 4,
  "nbformat_minor": 0
}