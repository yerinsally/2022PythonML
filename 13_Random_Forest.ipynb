{
  "nbformat": 4,
  "nbformat_minor": 0,
  "metadata": {
    "kernelspec": {
      "display_name": "Python 3",
      "language": "python",
      "name": "python3"
    },
    "language_info": {
      "codemirror_mode": {
        "name": "ipython",
        "version": 3
      },
      "file_extension": ".py",
      "mimetype": "text/x-python",
      "name": "python",
      "nbconvert_exporter": "python",
      "pygments_lexer": "ipython3",
      "version": "3.6.5"
    },
    "colab": {
      "provenance": [],
      "include_colab_link": true
    }
  },
  "cells": [
    {
      "cell_type": "markdown",
      "metadata": {
        "id": "view-in-github",
        "colab_type": "text"
      },
      "source": [
        "<a href=\"https://colab.research.google.com/github/yerinsally/2022_PythonML/blob/main/13_Random_Forest.ipynb\" target=\"_parent\"><img src=\"https://colab.research.google.com/assets/colab-badge.svg\" alt=\"Open In Colab\"/></a>"
      ]
    },
    {
      "cell_type": "markdown",
      "metadata": {
        "id": "U-fpmes2_FVl"
      },
      "source": [
        "# 1. 데이터 불러오기와 데이터셋 나누기"
      ]
    },
    {
      "cell_type": "code",
      "metadata": {
        "id": "jjD-XKVZ_FVp"
      },
      "source": [
        "import warnings\n",
        "warnings.filterwarnings(\"ignore\")"
      ],
      "execution_count": null,
      "outputs": []
    },
    {
      "cell_type": "code",
      "metadata": {
        "colab": {
          "base_uri": "https://localhost:8080/"
        },
        "id": "ZDSrwOLi_Mz7",
        "outputId": "54bc5afa-d059-4bba-8a5f-673bd5d574f1"
      },
      "source": [
        "from google.colab import drive\n",
        "drive.mount('/content/drive')"
      ],
      "execution_count": null,
      "outputs": [
        {
          "output_type": "stream",
          "name": "stdout",
          "text": [
            "Mounted at /content/drive\n"
          ]
        }
      ]
    },
    {
      "cell_type": "code",
      "metadata": {
        "id": "NOsTSfMv_FVq"
      },
      "source": [
        "import pandas as pd"
      ],
      "execution_count": null,
      "outputs": []
    },
    {
      "cell_type": "code",
      "metadata": {
        "id": "8ElWcjIk_FVr"
      },
      "source": [
        "data=pd.read_csv('/content/drive/MyDrive/Colab Notebooks/MachineLearning/data/Fvote.csv', encoding='utf-8')"
      ],
      "execution_count": null,
      "outputs": []
    },
    {
      "cell_type": "code",
      "source": [
        "data.info()"
      ],
      "metadata": {
        "colab": {
          "base_uri": "https://localhost:8080/"
        },
        "id": "ypX2rQW7p6O6",
        "outputId": "01e65f62-895e-4922-e60f-d3f6292acba0"
      },
      "execution_count": null,
      "outputs": [
        {
          "output_type": "stream",
          "name": "stdout",
          "text": [
            "<class 'pandas.core.frame.DataFrame'>\n",
            "RangeIndex: 211 entries, 0 to 210\n",
            "Data columns (total 16 columns):\n",
            " #   Column              Non-Null Count  Dtype  \n",
            "---  ------              --------------  -----  \n",
            " 0   Unnamed: 0          211 non-null    int64  \n",
            " 1   gender_female       211 non-null    int64  \n",
            " 2   gender_male         211 non-null    int64  \n",
            " 3   region_Chungcheung  211 non-null    int64  \n",
            " 4   region_Honam        211 non-null    int64  \n",
            " 5   region_Others       211 non-null    int64  \n",
            " 6   region_Sudo         211 non-null    int64  \n",
            " 7   region_Youngnam     211 non-null    int64  \n",
            " 8   edu                 211 non-null    float64\n",
            " 9   income              211 non-null    float64\n",
            " 10  age                 211 non-null    float64\n",
            " 11  score_gov           211 non-null    float64\n",
            " 12  score_progress      211 non-null    float64\n",
            " 13  score_intention     211 non-null    float64\n",
            " 14  vote                211 non-null    int64  \n",
            " 15  parties             211 non-null    int64  \n",
            "dtypes: float64(6), int64(10)\n",
            "memory usage: 26.5 KB\n"
          ]
        }
      ]
    },
    {
      "cell_type": "code",
      "metadata": {
        "id": "ZlUi9tNw_FVr"
      },
      "source": [
        "X=data[['gender_female', 'gender_male', 'region_Chungcheung', 'region_Honam', \n",
        "        'region_Others', 'region_Sudo', 'region_Youngnam', 'edu', 'income', \n",
        "        'age', 'score_gov', 'score_progress', 'score_intention']]"
      ],
      "execution_count": null,
      "outputs": []
    },
    {
      "cell_type": "code",
      "metadata": {
        "id": "tm7TtPm9_FVs"
      },
      "source": [
        "y=data[['vote']]"
      ],
      "execution_count": null,
      "outputs": []
    },
    {
      "cell_type": "code",
      "metadata": {
        "id": "W6lchuXw_FVt"
      },
      "source": [
        "from sklearn.model_selection import train_test_split"
      ],
      "execution_count": null,
      "outputs": []
    },
    {
      "cell_type": "code",
      "metadata": {
        "id": "I6YTbVLe_FVt"
      },
      "source": [
        "X_train, X_test, y_train, y_test=train_test_split(X, y, random_state=42 )"
      ],
      "execution_count": null,
      "outputs": []
    },
    {
      "cell_type": "markdown",
      "metadata": {
        "id": "OL077BNJ_FVu"
      },
      "source": [
        "# 2. Grid Search "
      ]
    },
    {
      "cell_type": "code",
      "metadata": {
        "id": "77oW_cMH_FVv"
      },
      "source": [
        "from sklearn.model_selection import GridSearchCV"
      ],
      "execution_count": null,
      "outputs": []
    },
    {
      "cell_type": "code",
      "metadata": {
        "id": "F4I4pbX7_FVv"
      },
      "source": [
        "param_grid={'n_estimators': range(100, 1000, 100), \n",
        "            'max_features': ['auto', 'sqrt', 'log2']}"
      ],
      "execution_count": null,
      "outputs": []
    },
    {
      "cell_type": "code",
      "metadata": {
        "id": "_WjaveSP_FVw"
      },
      "source": [
        "from sklearn.ensemble import RandomForestClassifier"
      ],
      "execution_count": null,
      "outputs": []
    },
    {
      "cell_type": "code",
      "metadata": {
        "id": "wSb7ZKfp_FVw"
      },
      "source": [
        "grid_search=GridSearchCV(RandomForestClassifier(), param_grid, cv=5, return_train_score=True)"
      ],
      "execution_count": null,
      "outputs": []
    },
    {
      "cell_type": "code",
      "metadata": {
        "colab": {
          "base_uri": "https://localhost:8080/"
        },
        "id": "tY4TJqXh_FVw",
        "outputId": "a759aedd-75df-47ab-a2e4-849bd2da9e92"
      },
      "source": [
        "grid_search.fit(X_train, y_train)"
      ],
      "execution_count": null,
      "outputs": [
        {
          "output_type": "execute_result",
          "data": {
            "text/plain": [
              "GridSearchCV(cv=5, estimator=RandomForestClassifier(),\n",
              "             param_grid={'max_features': ['auto', 'sqrt', 'log2'],\n",
              "                         'n_estimators': range(100, 1000, 100)},\n",
              "             return_train_score=True)"
            ]
          },
          "metadata": {},
          "execution_count": 13
        }
      ]
    },
    {
      "cell_type": "code",
      "metadata": {
        "colab": {
          "base_uri": "https://localhost:8080/"
        },
        "id": "nRgfjqxU_FVx",
        "outputId": "d3f81866-2db7-4305-e5c1-6f506582c591"
      },
      "source": [
        "print(\"Best Parameter: {}\".format(grid_search.best_params_))"
      ],
      "execution_count": null,
      "outputs": [
        {
          "output_type": "stream",
          "name": "stdout",
          "text": [
            "Best Parameter: {'max_features': 'log2', 'n_estimators': 900}\n"
          ]
        }
      ]
    },
    {
      "cell_type": "code",
      "metadata": {
        "colab": {
          "base_uri": "https://localhost:8080/"
        },
        "id": "s6uDWiSa_FVy",
        "outputId": "43fffbff-e34e-4e0c-d1ea-88f64671b32a"
      },
      "source": [
        "print(\"Best Cross-validity Score: {:.3f}\".format(grid_search.best_score_))"
      ],
      "execution_count": null,
      "outputs": [
        {
          "output_type": "stream",
          "name": "stdout",
          "text": [
            "Best Cross-validity Score: 0.651\n"
          ]
        }
      ]
    },
    {
      "cell_type": "code",
      "metadata": {
        "colab": {
          "base_uri": "https://localhost:8080/"
        },
        "id": "W2eGVXhL_FVy",
        "outputId": "5ba5fff2-1f78-4932-b749-d12a918b4425"
      },
      "source": [
        "print(\"Test set Score: {:.3f}\".format(grid_search.score(X_test, y_test)))"
      ],
      "execution_count": null,
      "outputs": [
        {
          "output_type": "stream",
          "name": "stdout",
          "text": [
            "Test set Score: 0.792\n"
          ]
        }
      ]
    },
    {
      "cell_type": "code",
      "metadata": {
        "id": "q6QDkNLx_FVy"
      },
      "source": [
        "result_grid= pd.DataFrame(grid_search.cv_results_)"
      ],
      "execution_count": null,
      "outputs": []
    },
    {
      "cell_type": "code",
      "metadata": {
        "colab": {
          "base_uri": "https://localhost:8080/",
          "height": 1000
        },
        "id": "GzvUpqbu_FVz",
        "outputId": "af484f23-d306-41a6-cfc8-0cf56fd67f61"
      },
      "source": [
        "result_grid"
      ],
      "execution_count": null,
      "outputs": [
        {
          "output_type": "execute_result",
          "data": {
            "text/html": [
              "<div>\n",
              "<style scoped>\n",
              "    .dataframe tbody tr th:only-of-type {\n",
              "        vertical-align: middle;\n",
              "    }\n",
              "\n",
              "    .dataframe tbody tr th {\n",
              "        vertical-align: top;\n",
              "    }\n",
              "\n",
              "    .dataframe thead th {\n",
              "        text-align: right;\n",
              "    }\n",
              "</style>\n",
              "<table border=\"1\" class=\"dataframe\">\n",
              "  <thead>\n",
              "    <tr style=\"text-align: right;\">\n",
              "      <th></th>\n",
              "      <th>mean_fit_time</th>\n",
              "      <th>std_fit_time</th>\n",
              "      <th>mean_score_time</th>\n",
              "      <th>std_score_time</th>\n",
              "      <th>param_max_features</th>\n",
              "      <th>param_n_estimators</th>\n",
              "      <th>params</th>\n",
              "      <th>split0_test_score</th>\n",
              "      <th>split1_test_score</th>\n",
              "      <th>split2_test_score</th>\n",
              "      <th>split3_test_score</th>\n",
              "      <th>split4_test_score</th>\n",
              "      <th>mean_test_score</th>\n",
              "      <th>std_test_score</th>\n",
              "      <th>rank_test_score</th>\n",
              "      <th>split0_train_score</th>\n",
              "      <th>split1_train_score</th>\n",
              "      <th>split2_train_score</th>\n",
              "      <th>split3_train_score</th>\n",
              "      <th>split4_train_score</th>\n",
              "      <th>mean_train_score</th>\n",
              "      <th>std_train_score</th>\n",
              "    </tr>\n",
              "  </thead>\n",
              "  <tbody>\n",
              "    <tr>\n",
              "      <th>0</th>\n",
              "      <td>0.158791</td>\n",
              "      <td>0.008788</td>\n",
              "      <td>0.016570</td>\n",
              "      <td>0.004549</td>\n",
              "      <td>auto</td>\n",
              "      <td>100</td>\n",
              "      <td>{'max_features': 'auto', 'n_estimators': 100}</td>\n",
              "      <td>0.71875</td>\n",
              "      <td>0.68750</td>\n",
              "      <td>0.65625</td>\n",
              "      <td>0.548387</td>\n",
              "      <td>0.580645</td>\n",
              "      <td>0.638306</td>\n",
              "      <td>0.064224</td>\n",
              "      <td>6</td>\n",
              "      <td>1.0</td>\n",
              "      <td>1.0</td>\n",
              "      <td>1.0</td>\n",
              "      <td>1.0</td>\n",
              "      <td>0.992126</td>\n",
              "      <td>0.998425</td>\n",
              "      <td>0.00315</td>\n",
              "    </tr>\n",
              "    <tr>\n",
              "      <th>1</th>\n",
              "      <td>0.285303</td>\n",
              "      <td>0.006143</td>\n",
              "      <td>0.024068</td>\n",
              "      <td>0.002544</td>\n",
              "      <td>auto</td>\n",
              "      <td>200</td>\n",
              "      <td>{'max_features': 'auto', 'n_estimators': 200}</td>\n",
              "      <td>0.71875</td>\n",
              "      <td>0.68750</td>\n",
              "      <td>0.65625</td>\n",
              "      <td>0.548387</td>\n",
              "      <td>0.612903</td>\n",
              "      <td>0.644758</td>\n",
              "      <td>0.059558</td>\n",
              "      <td>2</td>\n",
              "      <td>1.0</td>\n",
              "      <td>1.0</td>\n",
              "      <td>1.0</td>\n",
              "      <td>1.0</td>\n",
              "      <td>1.000000</td>\n",
              "      <td>1.000000</td>\n",
              "      <td>0.00000</td>\n",
              "    </tr>\n",
              "    <tr>\n",
              "      <th>2</th>\n",
              "      <td>0.421728</td>\n",
              "      <td>0.008479</td>\n",
              "      <td>0.032843</td>\n",
              "      <td>0.001122</td>\n",
              "      <td>auto</td>\n",
              "      <td>300</td>\n",
              "      <td>{'max_features': 'auto', 'n_estimators': 300}</td>\n",
              "      <td>0.68750</td>\n",
              "      <td>0.68750</td>\n",
              "      <td>0.65625</td>\n",
              "      <td>0.548387</td>\n",
              "      <td>0.580645</td>\n",
              "      <td>0.632056</td>\n",
              "      <td>0.057231</td>\n",
              "      <td>14</td>\n",
              "      <td>1.0</td>\n",
              "      <td>1.0</td>\n",
              "      <td>1.0</td>\n",
              "      <td>1.0</td>\n",
              "      <td>1.000000</td>\n",
              "      <td>1.000000</td>\n",
              "      <td>0.00000</td>\n",
              "    </tr>\n",
              "    <tr>\n",
              "      <th>3</th>\n",
              "      <td>0.570473</td>\n",
              "      <td>0.028697</td>\n",
              "      <td>0.041078</td>\n",
              "      <td>0.001194</td>\n",
              "      <td>auto</td>\n",
              "      <td>400</td>\n",
              "      <td>{'max_features': 'auto', 'n_estimators': 400}</td>\n",
              "      <td>0.71875</td>\n",
              "      <td>0.68750</td>\n",
              "      <td>0.65625</td>\n",
              "      <td>0.580645</td>\n",
              "      <td>0.548387</td>\n",
              "      <td>0.638306</td>\n",
              "      <td>0.064224</td>\n",
              "      <td>6</td>\n",
              "      <td>1.0</td>\n",
              "      <td>1.0</td>\n",
              "      <td>1.0</td>\n",
              "      <td>1.0</td>\n",
              "      <td>1.000000</td>\n",
              "      <td>1.000000</td>\n",
              "      <td>0.00000</td>\n",
              "    </tr>\n",
              "    <tr>\n",
              "      <th>4</th>\n",
              "      <td>0.694463</td>\n",
              "      <td>0.016156</td>\n",
              "      <td>0.061397</td>\n",
              "      <td>0.014038</td>\n",
              "      <td>auto</td>\n",
              "      <td>500</td>\n",
              "      <td>{'max_features': 'auto', 'n_estimators': 500}</td>\n",
              "      <td>0.68750</td>\n",
              "      <td>0.68750</td>\n",
              "      <td>0.65625</td>\n",
              "      <td>0.580645</td>\n",
              "      <td>0.580645</td>\n",
              "      <td>0.638508</td>\n",
              "      <td>0.048603</td>\n",
              "      <td>5</td>\n",
              "      <td>1.0</td>\n",
              "      <td>1.0</td>\n",
              "      <td>1.0</td>\n",
              "      <td>1.0</td>\n",
              "      <td>1.000000</td>\n",
              "      <td>1.000000</td>\n",
              "      <td>0.00000</td>\n",
              "    </tr>\n",
              "    <tr>\n",
              "      <th>5</th>\n",
              "      <td>0.821507</td>\n",
              "      <td>0.006761</td>\n",
              "      <td>0.068309</td>\n",
              "      <td>0.004651</td>\n",
              "      <td>auto</td>\n",
              "      <td>600</td>\n",
              "      <td>{'max_features': 'auto', 'n_estimators': 600}</td>\n",
              "      <td>0.71875</td>\n",
              "      <td>0.68750</td>\n",
              "      <td>0.65625</td>\n",
              "      <td>0.548387</td>\n",
              "      <td>0.580645</td>\n",
              "      <td>0.638306</td>\n",
              "      <td>0.064224</td>\n",
              "      <td>6</td>\n",
              "      <td>1.0</td>\n",
              "      <td>1.0</td>\n",
              "      <td>1.0</td>\n",
              "      <td>1.0</td>\n",
              "      <td>1.000000</td>\n",
              "      <td>1.000000</td>\n",
              "      <td>0.00000</td>\n",
              "    </tr>\n",
              "    <tr>\n",
              "      <th>6</th>\n",
              "      <td>0.971818</td>\n",
              "      <td>0.009759</td>\n",
              "      <td>0.078596</td>\n",
              "      <td>0.008798</td>\n",
              "      <td>auto</td>\n",
              "      <td>700</td>\n",
              "      <td>{'max_features': 'auto', 'n_estimators': 700}</td>\n",
              "      <td>0.71875</td>\n",
              "      <td>0.68750</td>\n",
              "      <td>0.65625</td>\n",
              "      <td>0.580645</td>\n",
              "      <td>0.548387</td>\n",
              "      <td>0.638306</td>\n",
              "      <td>0.064224</td>\n",
              "      <td>6</td>\n",
              "      <td>1.0</td>\n",
              "      <td>1.0</td>\n",
              "      <td>1.0</td>\n",
              "      <td>1.0</td>\n",
              "      <td>1.000000</td>\n",
              "      <td>1.000000</td>\n",
              "      <td>0.00000</td>\n",
              "    </tr>\n",
              "    <tr>\n",
              "      <th>7</th>\n",
              "      <td>1.119040</td>\n",
              "      <td>0.002431</td>\n",
              "      <td>0.091637</td>\n",
              "      <td>0.009316</td>\n",
              "      <td>auto</td>\n",
              "      <td>800</td>\n",
              "      <td>{'max_features': 'auto', 'n_estimators': 800}</td>\n",
              "      <td>0.71875</td>\n",
              "      <td>0.68750</td>\n",
              "      <td>0.65625</td>\n",
              "      <td>0.580645</td>\n",
              "      <td>0.580645</td>\n",
              "      <td>0.644758</td>\n",
              "      <td>0.055955</td>\n",
              "      <td>2</td>\n",
              "      <td>1.0</td>\n",
              "      <td>1.0</td>\n",
              "      <td>1.0</td>\n",
              "      <td>1.0</td>\n",
              "      <td>1.000000</td>\n",
              "      <td>1.000000</td>\n",
              "      <td>0.00000</td>\n",
              "    </tr>\n",
              "    <tr>\n",
              "      <th>8</th>\n",
              "      <td>1.252528</td>\n",
              "      <td>0.031669</td>\n",
              "      <td>0.103646</td>\n",
              "      <td>0.017742</td>\n",
              "      <td>auto</td>\n",
              "      <td>900</td>\n",
              "      <td>{'max_features': 'auto', 'n_estimators': 900}</td>\n",
              "      <td>0.71875</td>\n",
              "      <td>0.65625</td>\n",
              "      <td>0.65625</td>\n",
              "      <td>0.580645</td>\n",
              "      <td>0.548387</td>\n",
              "      <td>0.632056</td>\n",
              "      <td>0.060548</td>\n",
              "      <td>14</td>\n",
              "      <td>1.0</td>\n",
              "      <td>1.0</td>\n",
              "      <td>1.0</td>\n",
              "      <td>1.0</td>\n",
              "      <td>1.000000</td>\n",
              "      <td>1.000000</td>\n",
              "      <td>0.00000</td>\n",
              "    </tr>\n",
              "    <tr>\n",
              "      <th>9</th>\n",
              "      <td>0.143711</td>\n",
              "      <td>0.006517</td>\n",
              "      <td>0.012934</td>\n",
              "      <td>0.000663</td>\n",
              "      <td>sqrt</td>\n",
              "      <td>100</td>\n",
              "      <td>{'max_features': 'sqrt', 'n_estimators': 100}</td>\n",
              "      <td>0.65625</td>\n",
              "      <td>0.71875</td>\n",
              "      <td>0.62500</td>\n",
              "      <td>0.548387</td>\n",
              "      <td>0.516129</td>\n",
              "      <td>0.612903</td>\n",
              "      <td>0.073152</td>\n",
              "      <td>26</td>\n",
              "      <td>1.0</td>\n",
              "      <td>1.0</td>\n",
              "      <td>1.0</td>\n",
              "      <td>1.0</td>\n",
              "      <td>1.000000</td>\n",
              "      <td>1.000000</td>\n",
              "      <td>0.00000</td>\n",
              "    </tr>\n",
              "    <tr>\n",
              "      <th>10</th>\n",
              "      <td>0.281065</td>\n",
              "      <td>0.010088</td>\n",
              "      <td>0.027765</td>\n",
              "      <td>0.005993</td>\n",
              "      <td>sqrt</td>\n",
              "      <td>200</td>\n",
              "      <td>{'max_features': 'sqrt', 'n_estimators': 200}</td>\n",
              "      <td>0.68750</td>\n",
              "      <td>0.68750</td>\n",
              "      <td>0.62500</td>\n",
              "      <td>0.580645</td>\n",
              "      <td>0.580645</td>\n",
              "      <td>0.632258</td>\n",
              "      <td>0.047925</td>\n",
              "      <td>13</td>\n",
              "      <td>1.0</td>\n",
              "      <td>1.0</td>\n",
              "      <td>1.0</td>\n",
              "      <td>1.0</td>\n",
              "      <td>1.000000</td>\n",
              "      <td>1.000000</td>\n",
              "      <td>0.00000</td>\n",
              "    </tr>\n",
              "    <tr>\n",
              "      <th>11</th>\n",
              "      <td>0.414864</td>\n",
              "      <td>0.006878</td>\n",
              "      <td>0.032691</td>\n",
              "      <td>0.001624</td>\n",
              "      <td>sqrt</td>\n",
              "      <td>300</td>\n",
              "      <td>{'max_features': 'sqrt', 'n_estimators': 300}</td>\n",
              "      <td>0.71875</td>\n",
              "      <td>0.65625</td>\n",
              "      <td>0.65625</td>\n",
              "      <td>0.580645</td>\n",
              "      <td>0.516129</td>\n",
              "      <td>0.625605</td>\n",
              "      <td>0.070087</td>\n",
              "      <td>24</td>\n",
              "      <td>1.0</td>\n",
              "      <td>1.0</td>\n",
              "      <td>1.0</td>\n",
              "      <td>1.0</td>\n",
              "      <td>1.000000</td>\n",
              "      <td>1.000000</td>\n",
              "      <td>0.00000</td>\n",
              "    </tr>\n",
              "    <tr>\n",
              "      <th>12</th>\n",
              "      <td>0.553302</td>\n",
              "      <td>0.010296</td>\n",
              "      <td>0.045387</td>\n",
              "      <td>0.003297</td>\n",
              "      <td>sqrt</td>\n",
              "      <td>400</td>\n",
              "      <td>{'max_features': 'sqrt', 'n_estimators': 400}</td>\n",
              "      <td>0.71875</td>\n",
              "      <td>0.68750</td>\n",
              "      <td>0.68750</td>\n",
              "      <td>0.580645</td>\n",
              "      <td>0.548387</td>\n",
              "      <td>0.644556</td>\n",
              "      <td>0.067121</td>\n",
              "      <td>4</td>\n",
              "      <td>1.0</td>\n",
              "      <td>1.0</td>\n",
              "      <td>1.0</td>\n",
              "      <td>1.0</td>\n",
              "      <td>1.000000</td>\n",
              "      <td>1.000000</td>\n",
              "      <td>0.00000</td>\n",
              "    </tr>\n",
              "    <tr>\n",
              "      <th>13</th>\n",
              "      <td>0.689215</td>\n",
              "      <td>0.009608</td>\n",
              "      <td>0.054006</td>\n",
              "      <td>0.003275</td>\n",
              "      <td>sqrt</td>\n",
              "      <td>500</td>\n",
              "      <td>{'max_features': 'sqrt', 'n_estimators': 500}</td>\n",
              "      <td>0.75000</td>\n",
              "      <td>0.65625</td>\n",
              "      <td>0.65625</td>\n",
              "      <td>0.580645</td>\n",
              "      <td>0.548387</td>\n",
              "      <td>0.638306</td>\n",
              "      <td>0.070042</td>\n",
              "      <td>6</td>\n",
              "      <td>1.0</td>\n",
              "      <td>1.0</td>\n",
              "      <td>1.0</td>\n",
              "      <td>1.0</td>\n",
              "      <td>1.000000</td>\n",
              "      <td>1.000000</td>\n",
              "      <td>0.00000</td>\n",
              "    </tr>\n",
              "    <tr>\n",
              "      <th>14</th>\n",
              "      <td>0.831349</td>\n",
              "      <td>0.014600</td>\n",
              "      <td>0.064005</td>\n",
              "      <td>0.003159</td>\n",
              "      <td>sqrt</td>\n",
              "      <td>600</td>\n",
              "      <td>{'max_features': 'sqrt', 'n_estimators': 600}</td>\n",
              "      <td>0.71875</td>\n",
              "      <td>0.68750</td>\n",
              "      <td>0.65625</td>\n",
              "      <td>0.580645</td>\n",
              "      <td>0.548387</td>\n",
              "      <td>0.638306</td>\n",
              "      <td>0.064224</td>\n",
              "      <td>6</td>\n",
              "      <td>1.0</td>\n",
              "      <td>1.0</td>\n",
              "      <td>1.0</td>\n",
              "      <td>1.0</td>\n",
              "      <td>1.000000</td>\n",
              "      <td>1.000000</td>\n",
              "      <td>0.00000</td>\n",
              "    </tr>\n",
              "    <tr>\n",
              "      <th>15</th>\n",
              "      <td>0.970525</td>\n",
              "      <td>0.010541</td>\n",
              "      <td>0.089735</td>\n",
              "      <td>0.022311</td>\n",
              "      <td>sqrt</td>\n",
              "      <td>700</td>\n",
              "      <td>{'max_features': 'sqrt', 'n_estimators': 700}</td>\n",
              "      <td>0.71875</td>\n",
              "      <td>0.68750</td>\n",
              "      <td>0.65625</td>\n",
              "      <td>0.548387</td>\n",
              "      <td>0.548387</td>\n",
              "      <td>0.631855</td>\n",
              "      <td>0.070959</td>\n",
              "      <td>21</td>\n",
              "      <td>1.0</td>\n",
              "      <td>1.0</td>\n",
              "      <td>1.0</td>\n",
              "      <td>1.0</td>\n",
              "      <td>1.000000</td>\n",
              "      <td>1.000000</td>\n",
              "      <td>0.00000</td>\n",
              "    </tr>\n",
              "    <tr>\n",
              "      <th>16</th>\n",
              "      <td>1.112657</td>\n",
              "      <td>0.021527</td>\n",
              "      <td>0.086577</td>\n",
              "      <td>0.005382</td>\n",
              "      <td>sqrt</td>\n",
              "      <td>800</td>\n",
              "      <td>{'max_features': 'sqrt', 'n_estimators': 800}</td>\n",
              "      <td>0.71875</td>\n",
              "      <td>0.65625</td>\n",
              "      <td>0.65625</td>\n",
              "      <td>0.580645</td>\n",
              "      <td>0.548387</td>\n",
              "      <td>0.632056</td>\n",
              "      <td>0.060548</td>\n",
              "      <td>14</td>\n",
              "      <td>1.0</td>\n",
              "      <td>1.0</td>\n",
              "      <td>1.0</td>\n",
              "      <td>1.0</td>\n",
              "      <td>1.000000</td>\n",
              "      <td>1.000000</td>\n",
              "      <td>0.00000</td>\n",
              "    </tr>\n",
              "    <tr>\n",
              "      <th>17</th>\n",
              "      <td>1.250338</td>\n",
              "      <td>0.015370</td>\n",
              "      <td>0.095394</td>\n",
              "      <td>0.007377</td>\n",
              "      <td>sqrt</td>\n",
              "      <td>900</td>\n",
              "      <td>{'max_features': 'sqrt', 'n_estimators': 900}</td>\n",
              "      <td>0.75000</td>\n",
              "      <td>0.68750</td>\n",
              "      <td>0.65625</td>\n",
              "      <td>0.548387</td>\n",
              "      <td>0.548387</td>\n",
              "      <td>0.638105</td>\n",
              "      <td>0.079232</td>\n",
              "      <td>12</td>\n",
              "      <td>1.0</td>\n",
              "      <td>1.0</td>\n",
              "      <td>1.0</td>\n",
              "      <td>1.0</td>\n",
              "      <td>1.000000</td>\n",
              "      <td>1.000000</td>\n",
              "      <td>0.00000</td>\n",
              "    </tr>\n",
              "    <tr>\n",
              "      <th>18</th>\n",
              "      <td>0.143250</td>\n",
              "      <td>0.007429</td>\n",
              "      <td>0.013422</td>\n",
              "      <td>0.001560</td>\n",
              "      <td>log2</td>\n",
              "      <td>100</td>\n",
              "      <td>{'max_features': 'log2', 'n_estimators': 100}</td>\n",
              "      <td>0.75000</td>\n",
              "      <td>0.68750</td>\n",
              "      <td>0.62500</td>\n",
              "      <td>0.548387</td>\n",
              "      <td>0.548387</td>\n",
              "      <td>0.631855</td>\n",
              "      <td>0.078785</td>\n",
              "      <td>21</td>\n",
              "      <td>1.0</td>\n",
              "      <td>1.0</td>\n",
              "      <td>1.0</td>\n",
              "      <td>1.0</td>\n",
              "      <td>1.000000</td>\n",
              "      <td>1.000000</td>\n",
              "      <td>0.00000</td>\n",
              "    </tr>\n",
              "    <tr>\n",
              "      <th>19</th>\n",
              "      <td>0.275966</td>\n",
              "      <td>0.002296</td>\n",
              "      <td>0.021987</td>\n",
              "      <td>0.000580</td>\n",
              "      <td>log2</td>\n",
              "      <td>200</td>\n",
              "      <td>{'max_features': 'log2', 'n_estimators': 200}</td>\n",
              "      <td>0.62500</td>\n",
              "      <td>0.65625</td>\n",
              "      <td>0.65625</td>\n",
              "      <td>0.548387</td>\n",
              "      <td>0.548387</td>\n",
              "      <td>0.606855</td>\n",
              "      <td>0.049084</td>\n",
              "      <td>27</td>\n",
              "      <td>1.0</td>\n",
              "      <td>1.0</td>\n",
              "      <td>1.0</td>\n",
              "      <td>1.0</td>\n",
              "      <td>1.000000</td>\n",
              "      <td>1.000000</td>\n",
              "      <td>0.00000</td>\n",
              "    </tr>\n",
              "    <tr>\n",
              "      <th>20</th>\n",
              "      <td>0.412977</td>\n",
              "      <td>0.003891</td>\n",
              "      <td>0.033035</td>\n",
              "      <td>0.002736</td>\n",
              "      <td>log2</td>\n",
              "      <td>300</td>\n",
              "      <td>{'max_features': 'log2', 'n_estimators': 300}</td>\n",
              "      <td>0.65625</td>\n",
              "      <td>0.65625</td>\n",
              "      <td>0.65625</td>\n",
              "      <td>0.580645</td>\n",
              "      <td>0.516129</td>\n",
              "      <td>0.613105</td>\n",
              "      <td>0.056644</td>\n",
              "      <td>25</td>\n",
              "      <td>1.0</td>\n",
              "      <td>1.0</td>\n",
              "      <td>1.0</td>\n",
              "      <td>1.0</td>\n",
              "      <td>1.000000</td>\n",
              "      <td>1.000000</td>\n",
              "      <td>0.00000</td>\n",
              "    </tr>\n",
              "    <tr>\n",
              "      <th>21</th>\n",
              "      <td>0.556407</td>\n",
              "      <td>0.010002</td>\n",
              "      <td>0.060635</td>\n",
              "      <td>0.028528</td>\n",
              "      <td>log2</td>\n",
              "      <td>400</td>\n",
              "      <td>{'max_features': 'log2', 'n_estimators': 400}</td>\n",
              "      <td>0.71875</td>\n",
              "      <td>0.65625</td>\n",
              "      <td>0.65625</td>\n",
              "      <td>0.580645</td>\n",
              "      <td>0.548387</td>\n",
              "      <td>0.632056</td>\n",
              "      <td>0.060548</td>\n",
              "      <td>14</td>\n",
              "      <td>1.0</td>\n",
              "      <td>1.0</td>\n",
              "      <td>1.0</td>\n",
              "      <td>1.0</td>\n",
              "      <td>1.000000</td>\n",
              "      <td>1.000000</td>\n",
              "      <td>0.00000</td>\n",
              "    </tr>\n",
              "    <tr>\n",
              "      <th>22</th>\n",
              "      <td>0.692158</td>\n",
              "      <td>0.004583</td>\n",
              "      <td>0.054836</td>\n",
              "      <td>0.002281</td>\n",
              "      <td>log2</td>\n",
              "      <td>500</td>\n",
              "      <td>{'max_features': 'log2', 'n_estimators': 500}</td>\n",
              "      <td>0.68750</td>\n",
              "      <td>0.68750</td>\n",
              "      <td>0.65625</td>\n",
              "      <td>0.548387</td>\n",
              "      <td>0.580645</td>\n",
              "      <td>0.632056</td>\n",
              "      <td>0.057231</td>\n",
              "      <td>14</td>\n",
              "      <td>1.0</td>\n",
              "      <td>1.0</td>\n",
              "      <td>1.0</td>\n",
              "      <td>1.0</td>\n",
              "      <td>1.000000</td>\n",
              "      <td>1.000000</td>\n",
              "      <td>0.00000</td>\n",
              "    </tr>\n",
              "    <tr>\n",
              "      <th>23</th>\n",
              "      <td>0.826657</td>\n",
              "      <td>0.008965</td>\n",
              "      <td>0.061058</td>\n",
              "      <td>0.001156</td>\n",
              "      <td>log2</td>\n",
              "      <td>600</td>\n",
              "      <td>{'max_features': 'log2', 'n_estimators': 600}</td>\n",
              "      <td>0.68750</td>\n",
              "      <td>0.68750</td>\n",
              "      <td>0.65625</td>\n",
              "      <td>0.580645</td>\n",
              "      <td>0.548387</td>\n",
              "      <td>0.632056</td>\n",
              "      <td>0.057231</td>\n",
              "      <td>14</td>\n",
              "      <td>1.0</td>\n",
              "      <td>1.0</td>\n",
              "      <td>1.0</td>\n",
              "      <td>1.0</td>\n",
              "      <td>1.000000</td>\n",
              "      <td>1.000000</td>\n",
              "      <td>0.00000</td>\n",
              "    </tr>\n",
              "    <tr>\n",
              "      <th>24</th>\n",
              "      <td>0.967881</td>\n",
              "      <td>0.010899</td>\n",
              "      <td>0.077320</td>\n",
              "      <td>0.004707</td>\n",
              "      <td>log2</td>\n",
              "      <td>700</td>\n",
              "      <td>{'max_features': 'log2', 'n_estimators': 700}</td>\n",
              "      <td>0.75000</td>\n",
              "      <td>0.65625</td>\n",
              "      <td>0.65625</td>\n",
              "      <td>0.548387</td>\n",
              "      <td>0.548387</td>\n",
              "      <td>0.631855</td>\n",
              "      <td>0.076266</td>\n",
              "      <td>21</td>\n",
              "      <td>1.0</td>\n",
              "      <td>1.0</td>\n",
              "      <td>1.0</td>\n",
              "      <td>1.0</td>\n",
              "      <td>1.000000</td>\n",
              "      <td>1.000000</td>\n",
              "      <td>0.00000</td>\n",
              "    </tr>\n",
              "    <tr>\n",
              "      <th>25</th>\n",
              "      <td>1.104296</td>\n",
              "      <td>0.019657</td>\n",
              "      <td>0.092607</td>\n",
              "      <td>0.009369</td>\n",
              "      <td>log2</td>\n",
              "      <td>800</td>\n",
              "      <td>{'max_features': 'log2', 'n_estimators': 800}</td>\n",
              "      <td>0.68750</td>\n",
              "      <td>0.68750</td>\n",
              "      <td>0.65625</td>\n",
              "      <td>0.580645</td>\n",
              "      <td>0.548387</td>\n",
              "      <td>0.632056</td>\n",
              "      <td>0.057231</td>\n",
              "      <td>14</td>\n",
              "      <td>1.0</td>\n",
              "      <td>1.0</td>\n",
              "      <td>1.0</td>\n",
              "      <td>1.0</td>\n",
              "      <td>1.000000</td>\n",
              "      <td>1.000000</td>\n",
              "      <td>0.00000</td>\n",
              "    </tr>\n",
              "    <tr>\n",
              "      <th>26</th>\n",
              "      <td>1.232869</td>\n",
              "      <td>0.010591</td>\n",
              "      <td>0.096704</td>\n",
              "      <td>0.004169</td>\n",
              "      <td>log2</td>\n",
              "      <td>900</td>\n",
              "      <td>{'max_features': 'log2', 'n_estimators': 900}</td>\n",
              "      <td>0.75000</td>\n",
              "      <td>0.68750</td>\n",
              "      <td>0.65625</td>\n",
              "      <td>0.580645</td>\n",
              "      <td>0.580645</td>\n",
              "      <td>0.651008</td>\n",
              "      <td>0.064901</td>\n",
              "      <td>1</td>\n",
              "      <td>1.0</td>\n",
              "      <td>1.0</td>\n",
              "      <td>1.0</td>\n",
              "      <td>1.0</td>\n",
              "      <td>1.000000</td>\n",
              "      <td>1.000000</td>\n",
              "      <td>0.00000</td>\n",
              "    </tr>\n",
              "  </tbody>\n",
              "</table>\n",
              "</div>"
            ],
            "text/plain": [
              "    mean_fit_time  std_fit_time  ...  mean_train_score  std_train_score\n",
              "0        0.158791      0.008788  ...          0.998425          0.00315\n",
              "1        0.285303      0.006143  ...          1.000000          0.00000\n",
              "2        0.421728      0.008479  ...          1.000000          0.00000\n",
              "3        0.570473      0.028697  ...          1.000000          0.00000\n",
              "4        0.694463      0.016156  ...          1.000000          0.00000\n",
              "5        0.821507      0.006761  ...          1.000000          0.00000\n",
              "6        0.971818      0.009759  ...          1.000000          0.00000\n",
              "7        1.119040      0.002431  ...          1.000000          0.00000\n",
              "8        1.252528      0.031669  ...          1.000000          0.00000\n",
              "9        0.143711      0.006517  ...          1.000000          0.00000\n",
              "10       0.281065      0.010088  ...          1.000000          0.00000\n",
              "11       0.414864      0.006878  ...          1.000000          0.00000\n",
              "12       0.553302      0.010296  ...          1.000000          0.00000\n",
              "13       0.689215      0.009608  ...          1.000000          0.00000\n",
              "14       0.831349      0.014600  ...          1.000000          0.00000\n",
              "15       0.970525      0.010541  ...          1.000000          0.00000\n",
              "16       1.112657      0.021527  ...          1.000000          0.00000\n",
              "17       1.250338      0.015370  ...          1.000000          0.00000\n",
              "18       0.143250      0.007429  ...          1.000000          0.00000\n",
              "19       0.275966      0.002296  ...          1.000000          0.00000\n",
              "20       0.412977      0.003891  ...          1.000000          0.00000\n",
              "21       0.556407      0.010002  ...          1.000000          0.00000\n",
              "22       0.692158      0.004583  ...          1.000000          0.00000\n",
              "23       0.826657      0.008965  ...          1.000000          0.00000\n",
              "24       0.967881      0.010899  ...          1.000000          0.00000\n",
              "25       1.104296      0.019657  ...          1.000000          0.00000\n",
              "26       1.232869      0.010591  ...          1.000000          0.00000\n",
              "\n",
              "[27 rows x 22 columns]"
            ]
          },
          "metadata": {},
          "execution_count": 18
        }
      ]
    },
    {
      "cell_type": "code",
      "metadata": {
        "colab": {
          "base_uri": "https://localhost:8080/",
          "height": 283
        },
        "id": "WQ770HCs_FVz",
        "outputId": "7b9236a1-7b46-433b-8d3e-e35f2b4fd940"
      },
      "source": [
        "import matplotlib.pyplot as plt\n",
        "plt.plot(result_grid['param_max_features'], \n",
        "         result_grid['mean_train_score'], label=\"Train\")\n",
        "plt.plot(result_grid['param_max_features'], \n",
        "         result_grid['mean_test_score'], label=\"Test\")\n",
        "plt.legend()"
      ],
      "execution_count": null,
      "outputs": [
        {
          "output_type": "execute_result",
          "data": {
            "text/plain": [
              "<matplotlib.legend.Legend at 0x7fc4b9291e90>"
            ]
          },
          "metadata": {},
          "execution_count": 19
        },
        {
          "output_type": "display_data",
          "data": {
            "image/png": "[encoded data removed]",
            "text/plain": [
              "<Figure size 432x288 with 1 Axes>"
            ]
          },
          "metadata": {
            "needs_background": "light"
          }
        }
      ]
    },
    {
      "cell_type": "code",
      "metadata": {
        "colab": {
          "base_uri": "https://localhost:8080/",
          "height": 283
        },
        "id": "FQFPh9Kj_FVz",
        "outputId": "d6a4836d-245f-402c-966e-76606e2b6848"
      },
      "source": [
        "import matplotlib.pyplot as plt\n",
        "plt.plot(result_grid['param_n_estimators'], \n",
        "         result_grid['mean_train_score'], label=\"Train\")\n",
        "plt.plot(result_grid['param_n_estimators'], \n",
        "         result_grid['mean_test_score'], label=\"Test\")\n",
        "plt.legend()"
      ],
      "execution_count": null,
      "outputs": [
        {
          "output_type": "execute_result",
          "data": {
            "text/plain": [
              "<matplotlib.legend.Legend at 0x7fc4b8d7ab10>"
            ]
          },
          "metadata": {},
          "execution_count": 20
        },
        {
          "output_type": "display_data",
          "data": {
            "image/png": "[encoded data removed]",
            "text/plain": [
              "<Figure size 432x288 with 1 Axes>"
            ]
          },
          "metadata": {
            "needs_background": "light"
          }
        }
      ]
    },
    {
      "cell_type": "markdown",
      "metadata": {
        "id": "b92ev-Ge_FV0"
      },
      "source": [
        "# 3. Random Search"
      ]
    },
    {
      "cell_type": "code",
      "metadata": {
        "id": "jWOOQt1h_FV0"
      },
      "source": [
        "from sklearn.model_selection import RandomizedSearchCV"
      ],
      "execution_count": null,
      "outputs": []
    },
    {
      "cell_type": "code",
      "metadata": {
        "id": "SQC0D3gu_FV0"
      },
      "source": [
        "from scipy.stats import randint"
      ],
      "execution_count": null,
      "outputs": []
    },
    {
      "cell_type": "code",
      "metadata": {
        "id": "wRoWIdVL_FV1"
      },
      "source": [
        "param_distribs = {'n_estimators': randint(low=100, high=1000), \n",
        "                  'max_features': ['auto', 'sqrt', 'log2']}"
      ],
      "execution_count": null,
      "outputs": []
    },
    {
      "cell_type": "code",
      "metadata": {
        "id": "mwSWOsNy_FV1"
      },
      "source": [
        "from sklearn.ensemble import RandomForestClassifier"
      ],
      "execution_count": null,
      "outputs": []
    },
    {
      "cell_type": "code",
      "metadata": {
        "id": "dbbzajAE_FV1"
      },
      "source": [
        "random_search=RandomizedSearchCV(RandomForestClassifier(), \n",
        "                                 param_distributions=param_distribs, cv=5, return_train_score=True)"
      ],
      "execution_count": null,
      "outputs": []
    },
    {
      "cell_type": "code",
      "metadata": {
        "colab": {
          "base_uri": "https://localhost:8080/"
        },
        "id": "xO6Zjmbw_FV1",
        "outputId": "05212345-e03c-4ef2-a9b2-19f4bdf8cfe2"
      },
      "source": [
        "random_search.fit(X_train, y_train)"
      ],
      "execution_count": null,
      "outputs": [
        {
          "output_type": "execute_result",
          "data": {
            "text/plain": [
              "RandomizedSearchCV(cv=5, estimator=RandomForestClassifier(),\n",
              "                   param_distributions={'max_features': ['auto', 'sqrt',\n",
              "                                                         'log2'],\n",
              "                                        'n_estimators': <scipy.stats._distn_infrastructure.rv_frozen object at 0x7fc4b8d57890>},\n",
              "                   return_train_score=True)"
            ]
          },
          "metadata": {},
          "execution_count": 26
        }
      ]
    },
    {
      "cell_type": "code",
      "metadata": {
        "colab": {
          "base_uri": "https://localhost:8080/"
        },
        "id": "3-FIXTO-_FV2",
        "outputId": "243fbbd6-bcb9-4f08-aede-d937c3ad7bb3"
      },
      "source": [
        "print(\"Best Parameter: {}\".format(random_search.best_params_))"
      ],
      "execution_count": null,
      "outputs": [
        {
          "output_type": "stream",
          "name": "stdout",
          "text": [
            "Best Parameter: {'max_features': 'auto', 'n_estimators': 180}\n"
          ]
        }
      ]
    },
    {
      "cell_type": "code",
      "metadata": {
        "colab": {
          "base_uri": "https://localhost:8080/"
        },
        "id": "wY25Q-1O_FV2",
        "outputId": "6d445cf9-1ada-45fa-a56a-2f10e2d672a0"
      },
      "source": [
        "print(\"Best Cross-validity Score: {:.3f}\".format(random_search.best_score_))"
      ],
      "execution_count": null,
      "outputs": [
        {
          "output_type": "stream",
          "name": "stdout",
          "text": [
            "Best Cross-validity Score: 0.651\n"
          ]
        }
      ]
    },
    {
      "cell_type": "code",
      "metadata": {
        "colab": {
          "base_uri": "https://localhost:8080/"
        },
        "id": "UC6ZX215_FV2",
        "outputId": "440bdbf6-c41f-41b0-b785-2de5ad9323bd"
      },
      "source": [
        "print(\"Test set Score: {:.3f}\".format(random_search.score(X_test, y_test)))"
      ],
      "execution_count": null,
      "outputs": [
        {
          "output_type": "stream",
          "name": "stdout",
          "text": [
            "Test set Score: 0.792\n"
          ]
        }
      ]
    },
    {
      "cell_type": "code",
      "metadata": {
        "id": "dfbJaE92_FV2"
      },
      "source": [
        "result_random = random_search.cv_results_"
      ],
      "execution_count": null,
      "outputs": []
    },
    {
      "cell_type": "code",
      "metadata": {
        "colab": {
          "base_uri": "https://localhost:8080/",
          "height": 885
        },
        "id": "Pp0n_vq1_FV3",
        "outputId": "f78dc4b6-579c-4031-a318-3f722cff557f"
      },
      "source": [
        "pd.DataFrame(result_random)"
      ],
      "execution_count": null,
      "outputs": [
        {
          "output_type": "execute_result",
          "data": {
            "text/html": [
              "<div>\n",
              "<style scoped>\n",
              "    .dataframe tbody tr th:only-of-type {\n",
              "        vertical-align: middle;\n",
              "    }\n",
              "\n",
              "    .dataframe tbody tr th {\n",
              "        vertical-align: top;\n",
              "    }\n",
              "\n",
              "    .dataframe thead th {\n",
              "        text-align: right;\n",
              "    }\n",
              "</style>\n",
              "<table border=\"1\" class=\"dataframe\">\n",
              "  <thead>\n",
              "    <tr style=\"text-align: right;\">\n",
              "      <th></th>\n",
              "      <th>mean_fit_time</th>\n",
              "      <th>std_fit_time</th>\n",
              "      <th>mean_score_time</th>\n",
              "      <th>std_score_time</th>\n",
              "      <th>param_max_features</th>\n",
              "      <th>param_n_estimators</th>\n",
              "      <th>params</th>\n",
              "      <th>split0_test_score</th>\n",
              "      <th>split1_test_score</th>\n",
              "      <th>split2_test_score</th>\n",
              "      <th>split3_test_score</th>\n",
              "      <th>split4_test_score</th>\n",
              "      <th>mean_test_score</th>\n",
              "      <th>std_test_score</th>\n",
              "      <th>rank_test_score</th>\n",
              "      <th>split0_train_score</th>\n",
              "      <th>split1_train_score</th>\n",
              "      <th>split2_train_score</th>\n",
              "      <th>split3_train_score</th>\n",
              "      <th>split4_train_score</th>\n",
              "      <th>mean_train_score</th>\n",
              "      <th>std_train_score</th>\n",
              "    </tr>\n",
              "  </thead>\n",
              "  <tbody>\n",
              "    <tr>\n",
              "      <th>0</th>\n",
              "      <td>0.265603</td>\n",
              "      <td>0.006864</td>\n",
              "      <td>0.023209</td>\n",
              "      <td>0.003125</td>\n",
              "      <td>auto</td>\n",
              "      <td>180</td>\n",
              "      <td>{'max_features': 'auto', 'n_estimators': 180}</td>\n",
              "      <td>0.71875</td>\n",
              "      <td>0.65625</td>\n",
              "      <td>0.65625</td>\n",
              "      <td>0.612903</td>\n",
              "      <td>0.612903</td>\n",
              "      <td>0.651411</td>\n",
              "      <td>0.038851</td>\n",
              "      <td>1</td>\n",
              "      <td>1.0</td>\n",
              "      <td>1.0</td>\n",
              "      <td>1.0</td>\n",
              "      <td>1.0</td>\n",
              "      <td>1.0</td>\n",
              "      <td>1.0</td>\n",
              "      <td>0.0</td>\n",
              "    </tr>\n",
              "    <tr>\n",
              "      <th>1</th>\n",
              "      <td>0.687258</td>\n",
              "      <td>0.008292</td>\n",
              "      <td>0.053807</td>\n",
              "      <td>0.005322</td>\n",
              "      <td>sqrt</td>\n",
              "      <td>494</td>\n",
              "      <td>{'max_features': 'sqrt', 'n_estimators': 494}</td>\n",
              "      <td>0.71875</td>\n",
              "      <td>0.71875</td>\n",
              "      <td>0.65625</td>\n",
              "      <td>0.548387</td>\n",
              "      <td>0.548387</td>\n",
              "      <td>0.638105</td>\n",
              "      <td>0.076727</td>\n",
              "      <td>4</td>\n",
              "      <td>1.0</td>\n",
              "      <td>1.0</td>\n",
              "      <td>1.0</td>\n",
              "      <td>1.0</td>\n",
              "      <td>1.0</td>\n",
              "      <td>1.0</td>\n",
              "      <td>0.0</td>\n",
              "    </tr>\n",
              "    <tr>\n",
              "      <th>2</th>\n",
              "      <td>0.871594</td>\n",
              "      <td>0.026141</td>\n",
              "      <td>0.068437</td>\n",
              "      <td>0.011849</td>\n",
              "      <td>log2</td>\n",
              "      <td>607</td>\n",
              "      <td>{'max_features': 'log2', 'n_estimators': 607}</td>\n",
              "      <td>0.71875</td>\n",
              "      <td>0.68750</td>\n",
              "      <td>0.65625</td>\n",
              "      <td>0.548387</td>\n",
              "      <td>0.548387</td>\n",
              "      <td>0.631855</td>\n",
              "      <td>0.070959</td>\n",
              "      <td>7</td>\n",
              "      <td>1.0</td>\n",
              "      <td>1.0</td>\n",
              "      <td>1.0</td>\n",
              "      <td>1.0</td>\n",
              "      <td>1.0</td>\n",
              "      <td>1.0</td>\n",
              "      <td>0.0</td>\n",
              "    </tr>\n",
              "    <tr>\n",
              "      <th>3</th>\n",
              "      <td>0.732504</td>\n",
              "      <td>0.012446</td>\n",
              "      <td>0.055859</td>\n",
              "      <td>0.003741</td>\n",
              "      <td>log2</td>\n",
              "      <td>520</td>\n",
              "      <td>{'max_features': 'log2', 'n_estimators': 520}</td>\n",
              "      <td>0.78125</td>\n",
              "      <td>0.65625</td>\n",
              "      <td>0.65625</td>\n",
              "      <td>0.548387</td>\n",
              "      <td>0.548387</td>\n",
              "      <td>0.638105</td>\n",
              "      <td>0.086311</td>\n",
              "      <td>4</td>\n",
              "      <td>1.0</td>\n",
              "      <td>1.0</td>\n",
              "      <td>1.0</td>\n",
              "      <td>1.0</td>\n",
              "      <td>1.0</td>\n",
              "      <td>1.0</td>\n",
              "      <td>0.0</td>\n",
              "    </tr>\n",
              "    <tr>\n",
              "      <th>4</th>\n",
              "      <td>1.020611</td>\n",
              "      <td>0.007787</td>\n",
              "      <td>0.077438</td>\n",
              "      <td>0.003867</td>\n",
              "      <td>sqrt</td>\n",
              "      <td>744</td>\n",
              "      <td>{'max_features': 'sqrt', 'n_estimators': 744}</td>\n",
              "      <td>0.75000</td>\n",
              "      <td>0.68750</td>\n",
              "      <td>0.65625</td>\n",
              "      <td>0.580645</td>\n",
              "      <td>0.548387</td>\n",
              "      <td>0.644556</td>\n",
              "      <td>0.072708</td>\n",
              "      <td>2</td>\n",
              "      <td>1.0</td>\n",
              "      <td>1.0</td>\n",
              "      <td>1.0</td>\n",
              "      <td>1.0</td>\n",
              "      <td>1.0</td>\n",
              "      <td>1.0</td>\n",
              "      <td>0.0</td>\n",
              "    </tr>\n",
              "    <tr>\n",
              "      <th>5</th>\n",
              "      <td>0.269882</td>\n",
              "      <td>0.005481</td>\n",
              "      <td>0.023213</td>\n",
              "      <td>0.002049</td>\n",
              "      <td>auto</td>\n",
              "      <td>194</td>\n",
              "      <td>{'max_features': 'auto', 'n_estimators': 194}</td>\n",
              "      <td>0.62500</td>\n",
              "      <td>0.68750</td>\n",
              "      <td>0.65625</td>\n",
              "      <td>0.580645</td>\n",
              "      <td>0.548387</td>\n",
              "      <td>0.619556</td>\n",
              "      <td>0.050143</td>\n",
              "      <td>8</td>\n",
              "      <td>1.0</td>\n",
              "      <td>1.0</td>\n",
              "      <td>1.0</td>\n",
              "      <td>1.0</td>\n",
              "      <td>1.0</td>\n",
              "      <td>1.0</td>\n",
              "      <td>0.0</td>\n",
              "    </tr>\n",
              "    <tr>\n",
              "      <th>6</th>\n",
              "      <td>0.827844</td>\n",
              "      <td>0.006521</td>\n",
              "      <td>0.063645</td>\n",
              "      <td>0.006208</td>\n",
              "      <td>log2</td>\n",
              "      <td>599</td>\n",
              "      <td>{'max_features': 'log2', 'n_estimators': 599}</td>\n",
              "      <td>0.75000</td>\n",
              "      <td>0.68750</td>\n",
              "      <td>0.65625</td>\n",
              "      <td>0.580645</td>\n",
              "      <td>0.516129</td>\n",
              "      <td>0.638105</td>\n",
              "      <td>0.081816</td>\n",
              "      <td>4</td>\n",
              "      <td>1.0</td>\n",
              "      <td>1.0</td>\n",
              "      <td>1.0</td>\n",
              "      <td>1.0</td>\n",
              "      <td>1.0</td>\n",
              "      <td>1.0</td>\n",
              "      <td>0.0</td>\n",
              "    </tr>\n",
              "    <tr>\n",
              "      <th>7</th>\n",
              "      <td>0.499405</td>\n",
              "      <td>0.006372</td>\n",
              "      <td>0.039432</td>\n",
              "      <td>0.001466</td>\n",
              "      <td>log2</td>\n",
              "      <td>362</td>\n",
              "      <td>{'max_features': 'log2', 'n_estimators': 362}</td>\n",
              "      <td>0.65625</td>\n",
              "      <td>0.65625</td>\n",
              "      <td>0.65625</td>\n",
              "      <td>0.548387</td>\n",
              "      <td>0.548387</td>\n",
              "      <td>0.613105</td>\n",
              "      <td>0.052842</td>\n",
              "      <td>9</td>\n",
              "      <td>1.0</td>\n",
              "      <td>1.0</td>\n",
              "      <td>1.0</td>\n",
              "      <td>1.0</td>\n",
              "      <td>1.0</td>\n",
              "      <td>1.0</td>\n",
              "      <td>0.0</td>\n",
              "    </tr>\n",
              "    <tr>\n",
              "      <th>8</th>\n",
              "      <td>0.603406</td>\n",
              "      <td>0.009132</td>\n",
              "      <td>0.048421</td>\n",
              "      <td>0.003923</td>\n",
              "      <td>sqrt</td>\n",
              "      <td>435</td>\n",
              "      <td>{'max_features': 'sqrt', 'n_estimators': 435}</td>\n",
              "      <td>0.65625</td>\n",
              "      <td>0.65625</td>\n",
              "      <td>0.65625</td>\n",
              "      <td>0.548387</td>\n",
              "      <td>0.548387</td>\n",
              "      <td>0.613105</td>\n",
              "      <td>0.052842</td>\n",
              "      <td>9</td>\n",
              "      <td>1.0</td>\n",
              "      <td>1.0</td>\n",
              "      <td>1.0</td>\n",
              "      <td>1.0</td>\n",
              "      <td>1.0</td>\n",
              "      <td>1.0</td>\n",
              "      <td>0.0</td>\n",
              "    </tr>\n",
              "    <tr>\n",
              "      <th>9</th>\n",
              "      <td>0.926459</td>\n",
              "      <td>0.011317</td>\n",
              "      <td>0.092451</td>\n",
              "      <td>0.040174</td>\n",
              "      <td>sqrt</td>\n",
              "      <td>659</td>\n",
              "      <td>{'max_features': 'sqrt', 'n_estimators': 659}</td>\n",
              "      <td>0.75000</td>\n",
              "      <td>0.68750</td>\n",
              "      <td>0.65625</td>\n",
              "      <td>0.548387</td>\n",
              "      <td>0.580645</td>\n",
              "      <td>0.644556</td>\n",
              "      <td>0.072708</td>\n",
              "      <td>2</td>\n",
              "      <td>1.0</td>\n",
              "      <td>1.0</td>\n",
              "      <td>1.0</td>\n",
              "      <td>1.0</td>\n",
              "      <td>1.0</td>\n",
              "      <td>1.0</td>\n",
              "      <td>0.0</td>\n",
              "    </tr>\n",
              "  </tbody>\n",
              "</table>\n",
              "</div>"
            ],
            "text/plain": [
              "   mean_fit_time  std_fit_time  ...  mean_train_score  std_train_score\n",
              "0       0.265603      0.006864  ...               1.0              0.0\n",
              "1       0.687258      0.008292  ...               1.0              0.0\n",
              "2       0.871594      0.026141  ...               1.0              0.0\n",
              "3       0.732504      0.012446  ...               1.0              0.0\n",
              "4       1.020611      0.007787  ...               1.0              0.0\n",
              "5       0.269882      0.005481  ...               1.0              0.0\n",
              "6       0.827844      0.006521  ...               1.0              0.0\n",
              "7       0.499405      0.006372  ...               1.0              0.0\n",
              "8       0.603406      0.009132  ...               1.0              0.0\n",
              "9       0.926459      0.011317  ...               1.0              0.0\n",
              "\n",
              "[10 rows x 22 columns]"
            ]
          },
          "metadata": {},
          "execution_count": 31
        }
      ]
    },
    {
      "cell_type": "code",
      "metadata": {
        "colab": {
          "base_uri": "https://localhost:8080/",
          "height": 283
        },
        "id": "GRed-92K_FV3",
        "outputId": "312e0bbd-85ad-4fff-d011-c7ff606cd729"
      },
      "source": [
        "import matplotlib.pyplot as plt\n",
        "plt.plot(result_grid['param_max_features'], \n",
        "         result_grid['mean_train_score'], label=\"Train\")\n",
        "plt.plot(result_grid['param_max_features'], \n",
        "         result_grid['mean_test_score'], label=\"Test\")\n",
        "plt.legend()"
      ],
      "execution_count": null,
      "outputs": [
        {
          "output_type": "execute_result",
          "data": {
            "text/plain": [
              "<matplotlib.legend.Legend at 0x7fc4b8d50790>"
            ]
          },
          "metadata": {},
          "execution_count": 32
        },
        {
          "output_type": "display_data",
          "data": {
            "image/png": "[encoded data removed]",
            "text/plain": [
              "<Figure size 432x288 with 1 Axes>"
            ]
          },
          "metadata": {
            "needs_background": "light"
          }
        }
      ]
    },
    {
      "cell_type": "code",
      "metadata": {
        "colab": {
          "base_uri": "https://localhost:8080/",
          "height": 283
        },
        "id": "MjCHUaLc_FV3",
        "outputId": "23271c5f-44a7-42d7-fd29-cbffc6f78d90"
      },
      "source": [
        "import matplotlib.pyplot as plt\n",
        "plt.plot(result_grid['param_n_estimators'], \n",
        "         result_grid['mean_train_score'], label=\"Train\")\n",
        "plt.plot(result_grid['param_n_estimators'], \n",
        "         result_grid['mean_test_score'], label=\"Test\")\n",
        "plt.legend()"
      ],
      "execution_count": null,
      "outputs": [
        {
          "output_type": "execute_result",
          "data": {
            "text/plain": [
              "<matplotlib.legend.Legend at 0x7fc4b8c45a10>"
            ]
          },
          "metadata": {},
          "execution_count": 33
        },
        {
          "output_type": "display_data",
          "data": {
            "image/png": "[encoded data removed]",
            "text/plain": [
              "<Figure size 432x288 with 1 Axes>"
            ]
          },
          "metadata": {
            "needs_background": "light"
          }
        }
      ]
    },
    {
      "cell_type": "code",
      "metadata": {
        "id": "cPYWATZr_FV4"
      },
      "source": [
        "from sklearn.ensemble import RandomForestClassifier"
      ],
      "execution_count": null,
      "outputs": []
    },
    {
      "cell_type": "code",
      "metadata": {
        "id": "-HVexB8q_FV4"
      },
      "source": [
        "Forest=RandomForestClassifier(max_features='auto', n_estimators=492)"
      ],
      "execution_count": null,
      "outputs": []
    },
    {
      "cell_type": "code",
      "metadata": {
        "colab": {
          "base_uri": "https://localhost:8080/"
        },
        "id": "YHYohJar_FV4",
        "outputId": "cf92f133-5efe-4a5d-824a-10561595f2d7"
      },
      "source": [
        "Forest.fit(X_train, y_train)"
      ],
      "execution_count": null,
      "outputs": [
        {
          "output_type": "execute_result",
          "data": {
            "text/plain": [
              "RandomForestClassifier(n_estimators=492)"
            ]
          },
          "metadata": {},
          "execution_count": 36
        }
      ]
    },
    {
      "cell_type": "code",
      "metadata": {
        "colab": {
          "base_uri": "https://localhost:8080/"
        },
        "id": "cuveOWrn_FV4",
        "outputId": "bf308533-ae15-42f6-a75f-d9f9739db778"
      },
      "source": [
        "print(\"특성 중요도:\\n{}\".format(Forest.feature_importances_))"
      ],
      "execution_count": null,
      "outputs": [
        {
          "output_type": "stream",
          "name": "stdout",
          "text": [
            "특성 중요도:\n",
            "[0.03003305 0.02891981 0.02555566 0.02335401 0.02390444 0.03306769\n",
            " 0.02293213 0.07273851 0.08957464 0.10803805 0.12536141 0.12760521\n",
            " 0.28891541]\n"
          ]
        }
      ]
    },
    {
      "cell_type": "code",
      "metadata": {
        "id": "aX9skmVy_FV5"
      },
      "source": [
        "import matplotlib.pyplot as plt\n",
        "import numpy as np"
      ],
      "execution_count": null,
      "outputs": []
    },
    {
      "cell_type": "code",
      "metadata": {
        "colab": {
          "base_uri": "https://localhost:8080/",
          "height": 279
        },
        "id": "RYmxBmxr_FV5",
        "outputId": "55de6b8f-f1c3-4d30-a08d-1fca389fe0de"
      },
      "source": [
        "def plot_feature_importances_forest(model):\n",
        "    n_features = X.shape[1]\n",
        "    plt.barh(range(n_features), model.feature_importances_, align='center')\n",
        "    plt.yticks(np.arange(n_features), X.columns)\n",
        "    plt.xlabel(\"Importance\")\n",
        "    plt.ylabel(\"Features\")\n",
        "    plt.ylim(-1, n_features)\n",
        "\n",
        "plot_feature_importances_forest(Forest)"
      ],
      "execution_count": null,
      "outputs": [
        {
          "output_type": "display_data",
          "data": {
            "image/png": "[encoded data removed]",
            "text/plain": [
              "<Figure size 432x288 with 1 Axes>"
            ]
          },
          "metadata": {
            "needs_background": "light"
          }
        }
      ]
    },
    {
      "cell_type": "markdown",
      "metadata": {
        "id": "Zn-Etu0u_FV5"
      },
      "source": [
        "# 4. 모델평가"
      ]
    },
    {
      "cell_type": "code",
      "metadata": {
        "id": "4OjnkgvQ_FV5"
      },
      "source": [
        "from sklearn.ensemble import RandomForestClassifier"
      ],
      "execution_count": null,
      "outputs": []
    },
    {
      "cell_type": "code",
      "metadata": {
        "id": "lWxsfw9O_FV5"
      },
      "source": [
        "Forest=RandomForestClassifier(max_features='auto', n_estimators=492)"
      ],
      "execution_count": null,
      "outputs": []
    },
    {
      "cell_type": "code",
      "metadata": {
        "colab": {
          "base_uri": "https://localhost:8080/"
        },
        "id": "dzhu1LCI_FV5",
        "outputId": "0ccee14f-a8d4-44ed-c388-97a91a66efda"
      },
      "source": [
        "Forest.fit(X_train, y_train)"
      ],
      "execution_count": null,
      "outputs": [
        {
          "output_type": "execute_result",
          "data": {
            "text/plain": [
              "RandomForestClassifier(n_estimators=492)"
            ]
          },
          "metadata": {},
          "execution_count": 42
        }
      ]
    },
    {
      "cell_type": "code",
      "metadata": {
        "id": "nL8Uq9l8_FV6"
      },
      "source": [
        "from sklearn.metrics import confusion_matrix"
      ],
      "execution_count": null,
      "outputs": []
    },
    {
      "cell_type": "code",
      "metadata": {
        "id": "hcN-F71f_FV6"
      },
      "source": [
        "pred_train=Forest.predict(X_train)"
      ],
      "execution_count": null,
      "outputs": []
    },
    {
      "cell_type": "code",
      "metadata": {
        "id": "7OHDQYEU_FV6"
      },
      "source": [
        "confusion_train=confusion_matrix(y_train, pred_train)"
      ],
      "execution_count": null,
      "outputs": []
    },
    {
      "cell_type": "code",
      "metadata": {
        "colab": {
          "base_uri": "https://localhost:8080/"
        },
        "id": "lmHJQIfG_FV6",
        "outputId": "689b99a2-c2e7-4cb3-84f5-0e362f92ea7b"
      },
      "source": [
        "print(\"훈련데이터 오차행렬:\\n\", confusion_train)"
      ],
      "execution_count": null,
      "outputs": [
        {
          "output_type": "stream",
          "name": "stdout",
          "text": [
            "훈련데이터 오차행렬:\n",
            " [[ 48   0]\n",
            " [  0 110]]\n"
          ]
        }
      ]
    },
    {
      "cell_type": "code",
      "metadata": {
        "colab": {
          "base_uri": "https://localhost:8080/"
        },
        "id": "gWvHHtXE_FV6",
        "outputId": "8a792a2f-0cc6-45ea-8a44-f72ddce4d588"
      },
      "source": [
        "pred_test=Forest.predict(X_test)\n",
        "confusion_test=confusion_matrix(y_test, pred_test)\n",
        "print(\"테스트 데이터 오차행렬:\\n\", confusion_test)"
      ],
      "execution_count": null,
      "outputs": [
        {
          "output_type": "stream",
          "name": "stdout",
          "text": [
            "테스트 데이터 오차행렬:\n",
            " [[ 3 10]\n",
            " [ 5 35]]\n"
          ]
        }
      ]
    },
    {
      "cell_type": "code",
      "metadata": {
        "id": "7VnxpF9s_FV6"
      },
      "source": [
        "from sklearn.metrics import f1_score"
      ],
      "execution_count": null,
      "outputs": []
    },
    {
      "cell_type": "code",
      "metadata": {
        "id": "MQxNiAdw_FV6"
      },
      "source": [
        "f1=f1_score(y_test, pred_test)"
      ],
      "execution_count": null,
      "outputs": []
    },
    {
      "cell_type": "code",
      "metadata": {
        "colab": {
          "base_uri": "https://localhost:8080/"
        },
        "id": "_4b9rDV__FV7",
        "outputId": "119fbff9-06fb-4ef0-b427-02d164485b76"
      },
      "source": [
        "print(\"f1 score:\\n\", f1)"
      ],
      "execution_count": null,
      "outputs": [
        {
          "output_type": "stream",
          "name": "stdout",
          "text": [
            "f1 score:\n",
            " 0.823529411764706\n"
          ]
        }
      ]
    },
    {
      "cell_type": "code",
      "metadata": {
        "id": "eRW4tNra_FV7"
      },
      "source": [
        "from sklearn.metrics import classification_report"
      ],
      "execution_count": null,
      "outputs": []
    },
    {
      "cell_type": "code",
      "metadata": {
        "id": "TSndMMTW_FV7"
      },
      "source": [
        "cfreport=classification_report(y_test, pred_test)"
      ],
      "execution_count": null,
      "outputs": []
    },
    {
      "cell_type": "code",
      "metadata": {
        "colab": {
          "base_uri": "https://localhost:8080/"
        },
        "id": "nxQQdHpq_FV7",
        "outputId": "9af57896-3803-42a2-817b-291c51d31e2c"
      },
      "source": [
        "print(\"분류예측 레포트:\\n\", cfreport)"
      ],
      "execution_count": null,
      "outputs": [
        {
          "output_type": "stream",
          "name": "stdout",
          "text": [
            "분류예측 레포트:\n",
            "               precision    recall  f1-score   support\n",
            "\n",
            "           0       0.38      0.23      0.29        13\n",
            "           1       0.78      0.88      0.82        40\n",
            "\n",
            "    accuracy                           0.72        53\n",
            "   macro avg       0.58      0.55      0.55        53\n",
            "weighted avg       0.68      0.72      0.69        53\n",
            "\n"
          ]
        }
      ]
    },
    {
      "cell_type": "markdown",
      "metadata": {
        "id": "zhlK9VCs_FV7"
      },
      "source": [
        "# 5. 다중분류적용"
      ]
    },
    {
      "cell_type": "code",
      "metadata": {
        "id": "RcYD7Nxz_FV7"
      },
      "source": [
        "import warnings\n",
        "warnings.filterwarnings(\"ignore\")"
      ],
      "execution_count": null,
      "outputs": []
    },
    {
      "cell_type": "code",
      "metadata": {
        "id": "xR-jX1Dc_FV8"
      },
      "source": [
        "import pandas as pd"
      ],
      "execution_count": null,
      "outputs": []
    },
    {
      "cell_type": "code",
      "metadata": {
        "id": "y2MWD88c_FV8"
      },
      "source": [
        "data=pd.read_csv('/content/drive/MyDrive/G_ML_2/data/vote.csv', encoding='utf-8')"
      ],
      "execution_count": null,
      "outputs": []
    },
    {
      "cell_type": "code",
      "metadata": {
        "colab": {
          "base_uri": "https://localhost:8080/",
          "height": 203
        },
        "id": "JqPw8fli_FV8",
        "outputId": "bb49d460-bf56-473a-c308-d4ec38c6c6f3"
      },
      "source": [
        "data.head()"
      ],
      "execution_count": null,
      "outputs": [
        {
          "output_type": "execute_result",
          "data": {
            "text/html": [
              "<div>\n",
              "<style scoped>\n",
              "    .dataframe tbody tr th:only-of-type {\n",
              "        vertical-align: middle;\n",
              "    }\n",
              "\n",
              "    .dataframe tbody tr th {\n",
              "        vertical-align: top;\n",
              "    }\n",
              "\n",
              "    .dataframe thead th {\n",
              "        text-align: right;\n",
              "    }\n",
              "</style>\n",
              "<table border=\"1\" class=\"dataframe\">\n",
              "  <thead>\n",
              "    <tr style=\"text-align: right;\">\n",
              "      <th></th>\n",
              "      <th>gender</th>\n",
              "      <th>region</th>\n",
              "      <th>edu</th>\n",
              "      <th>income</th>\n",
              "      <th>age</th>\n",
              "      <th>score_gov</th>\n",
              "      <th>score_progress</th>\n",
              "      <th>score_intention</th>\n",
              "      <th>vote</th>\n",
              "      <th>parties</th>\n",
              "    </tr>\n",
              "  </thead>\n",
              "  <tbody>\n",
              "    <tr>\n",
              "      <th>0</th>\n",
              "      <td>1</td>\n",
              "      <td>4</td>\n",
              "      <td>3</td>\n",
              "      <td>3</td>\n",
              "      <td>3</td>\n",
              "      <td>2</td>\n",
              "      <td>2</td>\n",
              "      <td>4.0</td>\n",
              "      <td>1</td>\n",
              "      <td>2</td>\n",
              "    </tr>\n",
              "    <tr>\n",
              "      <th>1</th>\n",
              "      <td>1</td>\n",
              "      <td>5</td>\n",
              "      <td>2</td>\n",
              "      <td>3</td>\n",
              "      <td>3</td>\n",
              "      <td>2</td>\n",
              "      <td>4</td>\n",
              "      <td>3.0</td>\n",
              "      <td>0</td>\n",
              "      <td>3</td>\n",
              "    </tr>\n",
              "    <tr>\n",
              "      <th>2</th>\n",
              "      <td>1</td>\n",
              "      <td>3</td>\n",
              "      <td>1</td>\n",
              "      <td>2</td>\n",
              "      <td>4</td>\n",
              "      <td>1</td>\n",
              "      <td>3</td>\n",
              "      <td>2.8</td>\n",
              "      <td>1</td>\n",
              "      <td>4</td>\n",
              "    </tr>\n",
              "    <tr>\n",
              "      <th>3</th>\n",
              "      <td>2</td>\n",
              "      <td>1</td>\n",
              "      <td>2</td>\n",
              "      <td>1</td>\n",
              "      <td>3</td>\n",
              "      <td>5</td>\n",
              "      <td>4</td>\n",
              "      <td>2.6</td>\n",
              "      <td>1</td>\n",
              "      <td>1</td>\n",
              "    </tr>\n",
              "    <tr>\n",
              "      <th>4</th>\n",
              "      <td>1</td>\n",
              "      <td>1</td>\n",
              "      <td>1</td>\n",
              "      <td>2</td>\n",
              "      <td>4</td>\n",
              "      <td>4</td>\n",
              "      <td>3</td>\n",
              "      <td>2.4</td>\n",
              "      <td>1</td>\n",
              "      <td>1</td>\n",
              "    </tr>\n",
              "  </tbody>\n",
              "</table>\n",
              "</div>"
            ],
            "text/plain": [
              "   gender  region  edu  income  ...  score_progress  score_intention  vote  parties\n",
              "0       1       4    3       3  ...               2              4.0     1        2\n",
              "1       1       5    2       3  ...               4              3.0     0        3\n",
              "2       1       3    1       2  ...               3              2.8     1        4\n",
              "3       2       1    2       1  ...               4              2.6     1        1\n",
              "4       1       1    1       2  ...               3              2.4     1        1\n",
              "\n",
              "[5 rows x 10 columns]"
            ]
          },
          "metadata": {},
          "execution_count": 58
        }
      ]
    },
    {
      "cell_type": "code",
      "metadata": {
        "id": "MQ90SqiJ_FV8"
      },
      "source": [
        "X=data[['gender', 'region', 'edu', 'income', 'age', \n",
        "        'score_gov', 'score_progress', 'score_intention']]"
      ],
      "execution_count": null,
      "outputs": []
    },
    {
      "cell_type": "code",
      "metadata": {
        "id": "pqNaGTqC_FV8"
      },
      "source": [
        "y=data[['parties']]"
      ],
      "execution_count": null,
      "outputs": []
    },
    {
      "cell_type": "code",
      "metadata": {
        "id": "34vgLZN2_FV9"
      },
      "source": [
        "from sklearn.model_selection import train_test_split"
      ],
      "execution_count": null,
      "outputs": []
    },
    {
      "cell_type": "code",
      "metadata": {
        "id": "U3a9nK3K_FV9"
      },
      "source": [
        "X_train, X_test, y_train, y_test=train_test_split(X, y, random_state=42 )"
      ],
      "execution_count": null,
      "outputs": []
    },
    {
      "cell_type": "code",
      "metadata": {
        "id": "l0a3UB0r_FV9"
      },
      "source": [
        "from sklearn.model_selection import RandomizedSearchCV"
      ],
      "execution_count": null,
      "outputs": []
    },
    {
      "cell_type": "code",
      "metadata": {
        "id": "MtPNWVaz_FV9"
      },
      "source": [
        "from scipy.stats import randint"
      ],
      "execution_count": null,
      "outputs": []
    },
    {
      "cell_type": "code",
      "metadata": {
        "id": "_KMHr1od_FV9"
      },
      "source": [
        "param_distribs = {'n_estimators': randint(low=100, high=1000), \n",
        "                  'max_features': ['auto', 'sqrt', 'log2']}"
      ],
      "execution_count": null,
      "outputs": []
    },
    {
      "cell_type": "code",
      "metadata": {
        "id": "kj4TDy-R_FV9"
      },
      "source": [
        "from sklearn.ensemble import RandomForestClassifier"
      ],
      "execution_count": null,
      "outputs": []
    },
    {
      "cell_type": "code",
      "metadata": {
        "id": "NXxVpocw_FV-"
      },
      "source": [
        "random_search=RandomizedSearchCV(RandomForestClassifier(), \n",
        "                                 param_distributions=param_distribs, cv=5, return_train_score=True)"
      ],
      "execution_count": null,
      "outputs": []
    },
    {
      "cell_type": "code",
      "metadata": {
        "colab": {
          "base_uri": "https://localhost:8080/"
        },
        "id": "6KISPvfb_FV-",
        "outputId": "52cb07c7-cbb3-45be-cd41-5d6f8a4a8d06"
      },
      "source": [
        "random_search.fit(X_train, y_train)"
      ],
      "execution_count": null,
      "outputs": [
        {
          "output_type": "execute_result",
          "data": {
            "text/plain": [
              "RandomizedSearchCV(cv=5, estimator=RandomForestClassifier(),\n",
              "                   param_distributions={'max_features': ['auto', 'sqrt',\n",
              "                                                         'log2'],\n",
              "                                        'n_estimators': <scipy.stats._distn_infrastructure.rv_frozen object at 0x7fc4b8b7a210>},\n",
              "                   return_train_score=True)"
            ]
          },
          "metadata": {},
          "execution_count": 68
        }
      ]
    },
    {
      "cell_type": "code",
      "metadata": {
        "colab": {
          "base_uri": "https://localhost:8080/"
        },
        "id": "-WGG2eOa_FV-",
        "outputId": "67af88f4-956b-4c2c-95a8-4d8835be0f02"
      },
      "source": [
        "print(\"Best Parameter: {}\".format(random_search.best_params_))"
      ],
      "execution_count": null,
      "outputs": [
        {
          "output_type": "stream",
          "name": "stdout",
          "text": [
            "Best Parameter: {'max_features': 'sqrt', 'n_estimators': 570}\n"
          ]
        }
      ]
    },
    {
      "cell_type": "code",
      "metadata": {
        "colab": {
          "base_uri": "https://localhost:8080/"
        },
        "id": "mOyOPAg__FV-",
        "outputId": "acb9a47a-7d95-496e-dafa-3327d6259f5a"
      },
      "source": [
        "print(\"Best Cross-validity Score: {:.3f}\".format(random_search.best_score_))"
      ],
      "execution_count": null,
      "outputs": [
        {
          "output_type": "stream",
          "name": "stdout",
          "text": [
            "Best Cross-validity Score: 0.456\n"
          ]
        }
      ]
    },
    {
      "cell_type": "code",
      "metadata": {
        "colab": {
          "base_uri": "https://localhost:8080/"
        },
        "id": "0a3M-w5a_FV-",
        "outputId": "31c90a66-427d-4c4e-92ca-7eed4bfbd166"
      },
      "source": [
        "print(\"Test set Score: {:.3f}\".format(random_search.score(X_test, y_test)))"
      ],
      "execution_count": null,
      "outputs": [
        {
          "output_type": "stream",
          "name": "stdout",
          "text": [
            "Test set Score: 0.509\n"
          ]
        }
      ]
    },
    {
      "cell_type": "code",
      "metadata": {
        "id": "_tA71TYd_FV-"
      },
      "source": [
        "result_random = random_search.cv_results_"
      ],
      "execution_count": null,
      "outputs": []
    },
    {
      "cell_type": "code",
      "metadata": {
        "colab": {
          "base_uri": "https://localhost:8080/",
          "height": 885
        },
        "id": "KXRRLS0v_FV_",
        "outputId": "ce6353d3-5d8e-47c9-f698-4a6a32709554"
      },
      "source": [
        "pd.DataFrame(result_random)"
      ],
      "execution_count": null,
      "outputs": [
        {
          "output_type": "execute_result",
          "data": {
            "text/html": [
              "<div>\n",
              "<style scoped>\n",
              "    .dataframe tbody tr th:only-of-type {\n",
              "        vertical-align: middle;\n",
              "    }\n",
              "\n",
              "    .dataframe tbody tr th {\n",
              "        vertical-align: top;\n",
              "    }\n",
              "\n",
              "    .dataframe thead th {\n",
              "        text-align: right;\n",
              "    }\n",
              "</style>\n",
              "<table border=\"1\" class=\"dataframe\">\n",
              "  <thead>\n",
              "    <tr style=\"text-align: right;\">\n",
              "      <th></th>\n",
              "      <th>mean_fit_time</th>\n",
              "      <th>std_fit_time</th>\n",
              "      <th>mean_score_time</th>\n",
              "      <th>std_score_time</th>\n",
              "      <th>param_max_features</th>\n",
              "      <th>param_n_estimators</th>\n",
              "      <th>params</th>\n",
              "      <th>split0_test_score</th>\n",
              "      <th>split1_test_score</th>\n",
              "      <th>split2_test_score</th>\n",
              "      <th>split3_test_score</th>\n",
              "      <th>split4_test_score</th>\n",
              "      <th>mean_test_score</th>\n",
              "      <th>std_test_score</th>\n",
              "      <th>rank_test_score</th>\n",
              "      <th>split0_train_score</th>\n",
              "      <th>split1_train_score</th>\n",
              "      <th>split2_train_score</th>\n",
              "      <th>split3_train_score</th>\n",
              "      <th>split4_train_score</th>\n",
              "      <th>mean_train_score</th>\n",
              "      <th>std_train_score</th>\n",
              "    </tr>\n",
              "  </thead>\n",
              "  <tbody>\n",
              "    <tr>\n",
              "      <th>0</th>\n",
              "      <td>0.691025</td>\n",
              "      <td>0.026748</td>\n",
              "      <td>0.050113</td>\n",
              "      <td>0.002191</td>\n",
              "      <td>log2</td>\n",
              "      <td>475</td>\n",
              "      <td>{'max_features': 'log2', 'n_estimators': 475}</td>\n",
              "      <td>0.31250</td>\n",
              "      <td>0.43750</td>\n",
              "      <td>0.50000</td>\n",
              "      <td>0.483871</td>\n",
              "      <td>0.483871</td>\n",
              "      <td>0.443548</td>\n",
              "      <td>0.068773</td>\n",
              "      <td>6</td>\n",
              "      <td>0.992063</td>\n",
              "      <td>1.0</td>\n",
              "      <td>0.992063</td>\n",
              "      <td>0.992126</td>\n",
              "      <td>1.0</td>\n",
              "      <td>0.995251</td>\n",
              "      <td>0.003878</td>\n",
              "    </tr>\n",
              "    <tr>\n",
              "      <th>1</th>\n",
              "      <td>1.027578</td>\n",
              "      <td>0.004857</td>\n",
              "      <td>0.076696</td>\n",
              "      <td>0.003480</td>\n",
              "      <td>log2</td>\n",
              "      <td>730</td>\n",
              "      <td>{'max_features': 'log2', 'n_estimators': 730}</td>\n",
              "      <td>0.31250</td>\n",
              "      <td>0.43750</td>\n",
              "      <td>0.50000</td>\n",
              "      <td>0.483871</td>\n",
              "      <td>0.483871</td>\n",
              "      <td>0.443548</td>\n",
              "      <td>0.068773</td>\n",
              "      <td>6</td>\n",
              "      <td>0.992063</td>\n",
              "      <td>1.0</td>\n",
              "      <td>0.992063</td>\n",
              "      <td>0.992126</td>\n",
              "      <td>1.0</td>\n",
              "      <td>0.995251</td>\n",
              "      <td>0.003878</td>\n",
              "    </tr>\n",
              "    <tr>\n",
              "      <th>2</th>\n",
              "      <td>1.092826</td>\n",
              "      <td>0.009969</td>\n",
              "      <td>0.100629</td>\n",
              "      <td>0.030428</td>\n",
              "      <td>log2</td>\n",
              "      <td>773</td>\n",
              "      <td>{'max_features': 'log2', 'n_estimators': 773}</td>\n",
              "      <td>0.28125</td>\n",
              "      <td>0.43750</td>\n",
              "      <td>0.50000</td>\n",
              "      <td>0.516129</td>\n",
              "      <td>0.483871</td>\n",
              "      <td>0.443750</td>\n",
              "      <td>0.085391</td>\n",
              "      <td>3</td>\n",
              "      <td>0.992063</td>\n",
              "      <td>1.0</td>\n",
              "      <td>0.992063</td>\n",
              "      <td>0.992126</td>\n",
              "      <td>1.0</td>\n",
              "      <td>0.995251</td>\n",
              "      <td>0.003878</td>\n",
              "    </tr>\n",
              "    <tr>\n",
              "      <th>3</th>\n",
              "      <td>0.843609</td>\n",
              "      <td>0.052310</td>\n",
              "      <td>0.066191</td>\n",
              "      <td>0.004548</td>\n",
              "      <td>sqrt</td>\n",
              "      <td>567</td>\n",
              "      <td>{'max_features': 'sqrt', 'n_estimators': 567}</td>\n",
              "      <td>0.34375</td>\n",
              "      <td>0.40625</td>\n",
              "      <td>0.50000</td>\n",
              "      <td>0.516129</td>\n",
              "      <td>0.483871</td>\n",
              "      <td>0.450000</td>\n",
              "      <td>0.065151</td>\n",
              "      <td>2</td>\n",
              "      <td>0.992063</td>\n",
              "      <td>1.0</td>\n",
              "      <td>0.992063</td>\n",
              "      <td>0.992126</td>\n",
              "      <td>1.0</td>\n",
              "      <td>0.995251</td>\n",
              "      <td>0.003878</td>\n",
              "    </tr>\n",
              "    <tr>\n",
              "      <th>4</th>\n",
              "      <td>0.936490</td>\n",
              "      <td>0.009887</td>\n",
              "      <td>0.071319</td>\n",
              "      <td>0.002845</td>\n",
              "      <td>log2</td>\n",
              "      <td>583</td>\n",
              "      <td>{'max_features': 'log2', 'n_estimators': 583}</td>\n",
              "      <td>0.28125</td>\n",
              "      <td>0.43750</td>\n",
              "      <td>0.46875</td>\n",
              "      <td>0.483871</td>\n",
              "      <td>0.483871</td>\n",
              "      <td>0.431048</td>\n",
              "      <td>0.076789</td>\n",
              "      <td>9</td>\n",
              "      <td>0.992063</td>\n",
              "      <td>1.0</td>\n",
              "      <td>0.992063</td>\n",
              "      <td>0.992126</td>\n",
              "      <td>1.0</td>\n",
              "      <td>0.995251</td>\n",
              "      <td>0.003878</td>\n",
              "    </tr>\n",
              "    <tr>\n",
              "      <th>5</th>\n",
              "      <td>0.444733</td>\n",
              "      <td>0.088964</td>\n",
              "      <td>0.034842</td>\n",
              "      <td>0.009906</td>\n",
              "      <td>sqrt</td>\n",
              "      <td>225</td>\n",
              "      <td>{'max_features': 'sqrt', 'n_estimators': 225}</td>\n",
              "      <td>0.28125</td>\n",
              "      <td>0.43750</td>\n",
              "      <td>0.46875</td>\n",
              "      <td>0.483871</td>\n",
              "      <td>0.516129</td>\n",
              "      <td>0.437500</td>\n",
              "      <td>0.082126</td>\n",
              "      <td>8</td>\n",
              "      <td>0.992063</td>\n",
              "      <td>1.0</td>\n",
              "      <td>0.992063</td>\n",
              "      <td>0.992126</td>\n",
              "      <td>1.0</td>\n",
              "      <td>0.995251</td>\n",
              "      <td>0.003878</td>\n",
              "    </tr>\n",
              "    <tr>\n",
              "      <th>6</th>\n",
              "      <td>0.487714</td>\n",
              "      <td>0.012395</td>\n",
              "      <td>0.037610</td>\n",
              "      <td>0.002769</td>\n",
              "      <td>log2</td>\n",
              "      <td>341</td>\n",
              "      <td>{'max_features': 'log2', 'n_estimators': 341}</td>\n",
              "      <td>0.31250</td>\n",
              "      <td>0.46875</td>\n",
              "      <td>0.43750</td>\n",
              "      <td>0.483871</td>\n",
              "      <td>0.516129</td>\n",
              "      <td>0.443750</td>\n",
              "      <td>0.070341</td>\n",
              "      <td>3</td>\n",
              "      <td>0.992063</td>\n",
              "      <td>1.0</td>\n",
              "      <td>0.992063</td>\n",
              "      <td>0.992126</td>\n",
              "      <td>1.0</td>\n",
              "      <td>0.995251</td>\n",
              "      <td>0.003878</td>\n",
              "    </tr>\n",
              "    <tr>\n",
              "      <th>7</th>\n",
              "      <td>1.160148</td>\n",
              "      <td>0.012801</td>\n",
              "      <td>0.092025</td>\n",
              "      <td>0.006675</td>\n",
              "      <td>sqrt</td>\n",
              "      <td>835</td>\n",
              "      <td>{'max_features': 'sqrt', 'n_estimators': 835}</td>\n",
              "      <td>0.28125</td>\n",
              "      <td>0.40625</td>\n",
              "      <td>0.43750</td>\n",
              "      <td>0.483871</td>\n",
              "      <td>0.516129</td>\n",
              "      <td>0.425000</td>\n",
              "      <td>0.081169</td>\n",
              "      <td>10</td>\n",
              "      <td>0.992063</td>\n",
              "      <td>1.0</td>\n",
              "      <td>0.992063</td>\n",
              "      <td>0.992126</td>\n",
              "      <td>1.0</td>\n",
              "      <td>0.995251</td>\n",
              "      <td>0.003878</td>\n",
              "    </tr>\n",
              "    <tr>\n",
              "      <th>8</th>\n",
              "      <td>0.802936</td>\n",
              "      <td>0.010401</td>\n",
              "      <td>0.058893</td>\n",
              "      <td>0.001040</td>\n",
              "      <td>sqrt</td>\n",
              "      <td>570</td>\n",
              "      <td>{'max_features': 'sqrt', 'n_estimators': 570}</td>\n",
              "      <td>0.37500</td>\n",
              "      <td>0.43750</td>\n",
              "      <td>0.50000</td>\n",
              "      <td>0.483871</td>\n",
              "      <td>0.483871</td>\n",
              "      <td>0.456048</td>\n",
              "      <td>0.045591</td>\n",
              "      <td>1</td>\n",
              "      <td>0.992063</td>\n",
              "      <td>1.0</td>\n",
              "      <td>0.992063</td>\n",
              "      <td>0.992126</td>\n",
              "      <td>1.0</td>\n",
              "      <td>0.995251</td>\n",
              "      <td>0.003878</td>\n",
              "    </tr>\n",
              "    <tr>\n",
              "      <th>9</th>\n",
              "      <td>0.422820</td>\n",
              "      <td>0.005633</td>\n",
              "      <td>0.033701</td>\n",
              "      <td>0.003705</td>\n",
              "      <td>auto</td>\n",
              "      <td>302</td>\n",
              "      <td>{'max_features': 'auto', 'n_estimators': 302}</td>\n",
              "      <td>0.31250</td>\n",
              "      <td>0.40625</td>\n",
              "      <td>0.50000</td>\n",
              "      <td>0.516129</td>\n",
              "      <td>0.483871</td>\n",
              "      <td>0.443750</td>\n",
              "      <td>0.075691</td>\n",
              "      <td>3</td>\n",
              "      <td>0.992063</td>\n",
              "      <td>1.0</td>\n",
              "      <td>0.992063</td>\n",
              "      <td>0.992126</td>\n",
              "      <td>1.0</td>\n",
              "      <td>0.995251</td>\n",
              "      <td>0.003878</td>\n",
              "    </tr>\n",
              "  </tbody>\n",
              "</table>\n",
              "</div>"
            ],
            "text/plain": [
              "   mean_fit_time  std_fit_time  ...  mean_train_score  std_train_score\n",
              "0       0.691025      0.026748  ...          0.995251         0.003878\n",
              "1       1.027578      0.004857  ...          0.995251         0.003878\n",
              "2       1.092826      0.009969  ...          0.995251         0.003878\n",
              "3       0.843609      0.052310  ...          0.995251         0.003878\n",
              "4       0.936490      0.009887  ...          0.995251         0.003878\n",
              "5       0.444733      0.088964  ...          0.995251         0.003878\n",
              "6       0.487714      0.012395  ...          0.995251         0.003878\n",
              "7       1.160148      0.012801  ...          0.995251         0.003878\n",
              "8       0.802936      0.010401  ...          0.995251         0.003878\n",
              "9       0.422820      0.005633  ...          0.995251         0.003878\n",
              "\n",
              "[10 rows x 22 columns]"
            ]
          },
          "metadata": {},
          "execution_count": 73
        }
      ]
    },
    {
      "cell_type": "code",
      "metadata": {
        "colab": {
          "base_uri": "https://localhost:8080/",
          "height": 283
        },
        "id": "JbJ2Taoy_FV_",
        "outputId": "bca6bf28-8cbd-4c6a-d4b8-cbc5bb5f752b"
      },
      "source": [
        "import matplotlib.pyplot as plt\n",
        "plt.plot(result_random['param_max_features'], \n",
        "         result_random['mean_train_score'], label=\"Train\")\n",
        "plt.plot(result_random['param_max_features'], \n",
        "         result_random['mean_test_score'], label=\"Test\")\n",
        "plt.legend()"
      ],
      "execution_count": null,
      "outputs": [
        {
          "output_type": "execute_result",
          "data": {
            "text/plain": [
              "<matplotlib.legend.Legend at 0x7fc4b8ca18d0>"
            ]
          },
          "metadata": {},
          "execution_count": 74
        },
        {
          "output_type": "display_data",
          "data": {
            "image/png": "[encoded data removed]",
            "text/plain": [
              "<Figure size 432x288 with 1 Axes>"
            ]
          },
          "metadata": {
            "needs_background": "light"
          }
        }
      ]
    },
    {
      "cell_type": "code",
      "metadata": {
        "id": "Ci6BIZtO_FV_"
      },
      "source": [
        "from sklearn.ensemble import RandomForestClassifier"
      ],
      "execution_count": null,
      "outputs": []
    },
    {
      "cell_type": "code",
      "metadata": {
        "id": "mlS6PnFr_FV_"
      },
      "source": [
        "Forest=RandomForestClassifier(max_features='log2', n_estimators=478)"
      ],
      "execution_count": null,
      "outputs": []
    },
    {
      "cell_type": "code",
      "metadata": {
        "colab": {
          "base_uri": "https://localhost:8080/"
        },
        "id": "2RDWYDJr_FV_",
        "outputId": "e77cfb46-939c-47c2-a7fc-11e211a50228"
      },
      "source": [
        "Forest.fit(X_train, y_train)"
      ],
      "execution_count": null,
      "outputs": [
        {
          "output_type": "execute_result",
          "data": {
            "text/plain": [
              "RandomForestClassifier(max_features='log2', n_estimators=478)"
            ]
          },
          "metadata": {},
          "execution_count": 77
        }
      ]
    },
    {
      "cell_type": "code",
      "metadata": {
        "colab": {
          "base_uri": "https://localhost:8080/"
        },
        "id": "SfQI96F__FV_",
        "outputId": "ef318203-7c69-4c7a-c38e-d929bd27c55c"
      },
      "source": [
        "print(\"특성 중요도:\\n{}\".format(Forest.feature_importances_))"
      ],
      "execution_count": null,
      "outputs": [
        {
          "output_type": "stream",
          "name": "stdout",
          "text": [
            "특성 중요도:\n",
            "[0.05572418 0.11243917 0.07485585 0.10463282 0.08974363 0.17847768\n",
            " 0.14113289 0.24299379]\n"
          ]
        }
      ]
    },
    {
      "cell_type": "code",
      "metadata": {
        "id": "ZSXPiuVO_FV_"
      },
      "source": [
        "import matplotlib.pyplot as plt\n",
        "import numpy as np"
      ],
      "execution_count": null,
      "outputs": []
    },
    {
      "cell_type": "code",
      "metadata": {
        "colab": {
          "base_uri": "https://localhost:8080/",
          "height": 279
        },
        "id": "VWWIHHoW_FWA",
        "outputId": "5d4867f8-b282-4dde-f272-22b6ec423086"
      },
      "source": [
        "def plot_feature_importances_Forest(model):\n",
        "    n_features = X.shape[1]\n",
        "    plt.barh(range(n_features), model.feature_importances_, align='center')\n",
        "    plt.yticks(np.arange(n_features), X.columns)\n",
        "    plt.xlabel(\"Importance\")\n",
        "    plt.ylabel(\"Features\")\n",
        "    plt.ylim(-1, n_features)\n",
        "\n",
        "plot_feature_importances_Forest(Forest)"
      ],
      "execution_count": null,
      "outputs": [
        {
          "output_type": "display_data",
          "data": {
            "image/png": "[encoded data removed]",
            "text/plain": [
              "<Figure size 432x288 with 1 Axes>"
            ]
          },
          "metadata": {
            "needs_background": "light"
          }
        }
      ]
    },
    {
      "cell_type": "code",
      "metadata": {
        "colab": {
          "base_uri": "https://localhost:8080/"
        },
        "id": "cR6I3FKj_FWA",
        "outputId": "129f9350-d4c5-4d29-83e1-f20ffed56379"
      },
      "source": [
        "from sklearn.metrics import confusion_matrix\n",
        "pred_train=Forest.predict(X_train)\n",
        "confusion_train=confusion_matrix(y_train, pred_train)\n",
        "print(\"훈련데이터 오차행렬:\\n\", confusion_train)"
      ],
      "execution_count": null,
      "outputs": [
        {
          "output_type": "stream",
          "name": "stdout",
          "text": [
            "훈련데이터 오차행렬:\n",
            " [[36  0  1  0]\n",
            " [ 0 37  0  0]\n",
            " [ 0  0 19  0]\n",
            " [ 0  0  0 65]]\n"
          ]
        }
      ]
    },
    {
      "cell_type": "code",
      "metadata": {
        "colab": {
          "base_uri": "https://localhost:8080/"
        },
        "id": "42XR7_20_FWA",
        "outputId": "cb1ef07e-188f-44bf-d482-7c445e9937a4"
      },
      "source": [
        "pred_test=Forest.predict(X_test)\n",
        "confusion_test=confusion_matrix(y_test, pred_test)\n",
        "print(\"테스트 데이터 오차행렬:\\n\", confusion_test)"
      ],
      "execution_count": null,
      "outputs": [
        {
          "output_type": "stream",
          "name": "stdout",
          "text": [
            "테스트 데이터 오차행렬:\n",
            " [[ 5  2  1  5]\n",
            " [ 1  9  2  4]\n",
            " [ 3  0  2  1]\n",
            " [ 1  2  1 14]]\n"
          ]
        }
      ]
    },
    {
      "cell_type": "code",
      "metadata": {
        "id": "KkP47hIk_FWA"
      },
      "source": [
        "from sklearn.metrics import f1_score\n",
        "f1=f1_score(y_test, pred_test, average=\"micro\" )\n",
        "f2=f1_score(y_test, pred_test, average=\"macro\" )"
      ],
      "execution_count": null,
      "outputs": []
    },
    {
      "cell_type": "code",
      "metadata": {
        "colab": {
          "base_uri": "https://localhost:8080/"
        },
        "id": "xZpXPNyt_FWA",
        "outputId": "586010f2-feeb-4ea3-92cf-7cb49545801c"
      },
      "source": [
        "print(\"micro f1 score:\\n\", f1)\n",
        "print(\"macro f1 score:\\n\", f2)"
      ],
      "execution_count": null,
      "outputs": [
        {
          "output_type": "stream",
          "name": "stdout",
          "text": [
            "micro f1 score:\n",
            " 0.5660377358490566\n",
            "macro f1 score:\n",
            " 0.5138680659670165\n"
          ]
        }
      ]
    },
    {
      "cell_type": "code",
      "metadata": {
        "colab": {
          "base_uri": "https://localhost:8080/"
        },
        "id": "VWqO5TMg_FWB",
        "outputId": "d4a89fec-a8d7-4371-c67d-503a8d68fdae"
      },
      "source": [
        "from sklearn.metrics import classification_report\n",
        "cfreport=classification_report(y_test, pred_test)\n",
        "print(\"분류예측 레포트:\\n\", cfreport)"
      ],
      "execution_count": null,
      "outputs": [
        {
          "output_type": "stream",
          "name": "stdout",
          "text": [
            "분류예측 레포트:\n",
            "               precision    recall  f1-score   support\n",
            "\n",
            "           1       0.50      0.38      0.43        13\n",
            "           2       0.69      0.56      0.62        16\n",
            "           3       0.33      0.33      0.33         6\n",
            "           4       0.58      0.78      0.67        18\n",
            "\n",
            "    accuracy                           0.57        53\n",
            "   macro avg       0.53      0.51      0.51        53\n",
            "weighted avg       0.57      0.57      0.56        53\n",
            "\n"
          ]
        }
      ]
    }
  ]
}