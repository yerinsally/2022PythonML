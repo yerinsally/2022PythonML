{
  "nbformat": 4,
  "nbformat_minor": 0,
  "metadata": {
    "kernelspec": {
      "display_name": "Python 3",
      "language": "python",
      "name": "python3"
    },
    "language_info": {
      "codemirror_mode": {
        "name": "ipython",
        "version": 3
      },
      "file_extension": ".py",
      "mimetype": "text/x-python",
      "name": "python",
      "nbconvert_exporter": "python",
      "pygments_lexer": "ipython3",
      "version": "3.7.1"
    },
    "colab": {
      "provenance": [],
      "include_colab_link": true
    }
  },
  "cells": [
    {
      "cell_type": "markdown",
      "metadata": {
        "id": "view-in-github",
        "colab_type": "text"
      },
      "source": [
        "<a href=\"https://colab.research.google.com/github/yerinsally/2022_PythonML/blob/main/13_1_%EC%84%A0%ED%98%95%ED%9A%8C%EA%B7%80%EB%B6%84%EC%84%9D_%EC%8B%A4%EC%8A%B5.ipynb\" target=\"_parent\"><img src=\"https://colab.research.google.com/assets/colab-badge.svg\" alt=\"Open In Colab\"/></a>"
      ]
    },
    {
      "cell_type": "markdown",
      "metadata": {
        "id": "WvEoMre4wt0I"
      },
      "source": [
        "# 1. 라이브러리 및 데이터 불러오기"
      ]
    },
    {
      "cell_type": "code",
      "metadata": {
        "id": "bhnBJul1wt0M"
      },
      "source": [
        "import warnings\n",
        "warnings.filterwarnings(\"ignore\")"
      ],
      "execution_count": null,
      "outputs": []
    },
    {
      "cell_type": "code",
      "metadata": {
        "colab": {
          "base_uri": "https://localhost:8080/"
        },
        "id": "AyLVRNfNwzdC",
        "outputId": "9ad53ef8-e7d1-4d56-a1a6-c639e95d6a72"
      },
      "source": [
        "from google.colab import drive\n",
        "drive.mount('/content/drive')"
      ],
      "execution_count": null,
      "outputs": [
        {
          "output_type": "stream",
          "name": "stdout",
          "text": [
            "Drive already mounted at /content/drive; to attempt to forcibly remount, call drive.mount(\"/content/drive\", force_remount=True).\n"
          ]
        }
      ]
    },
    {
      "cell_type": "code",
      "metadata": {
        "id": "2MFutIfXwt0O"
      },
      "source": [
        "import os\n",
        "import numpy as np\n",
        "import pandas as pd\n",
        "import matplotlib.pyplot as plt\n",
        "import seaborn as sns"
      ],
      "execution_count": null,
      "outputs": []
    },
    {
      "cell_type": "code",
      "metadata": {
        "id": "3q9gajCLwt0O"
      },
      "source": [
        "data=pd.read_csv(\"/content/drive/MyDrive/G_ML_2/data/wine.csv\",sep=',')"
      ],
      "execution_count": null,
      "outputs": []
    },
    {
      "cell_type": "code",
      "metadata": {
        "colab": {
          "base_uri": "https://localhost:8080/",
          "height": 224
        },
        "id": "0oqNL6N_wt0P",
        "outputId": "ba35df59-d36c-45d8-c5c2-963540b3777e"
      },
      "source": [
        "data.tail()"
      ],
      "execution_count": null,
      "outputs": [
        {
          "output_type": "execute_result",
          "data": {
            "text/html": [
              "<div>\n",
              "<style scoped>\n",
              "    .dataframe tbody tr th:only-of-type {\n",
              "        vertical-align: middle;\n",
              "    }\n",
              "\n",
              "    .dataframe tbody tr th {\n",
              "        vertical-align: top;\n",
              "    }\n",
              "\n",
              "    .dataframe thead th {\n",
              "        text-align: right;\n",
              "    }\n",
              "</style>\n",
              "<table border=\"1\" class=\"dataframe\">\n",
              "  <thead>\n",
              "    <tr style=\"text-align: right;\">\n",
              "      <th></th>\n",
              "      <th>fixed_acidity</th>\n",
              "      <th>volatile_acidity</th>\n",
              "      <th>citric_acid</th>\n",
              "      <th>residual_sugar</th>\n",
              "      <th>chlorides</th>\n",
              "      <th>free_sulfur_dioxide</th>\n",
              "      <th>total_sulfur_dioxide</th>\n",
              "      <th>density</th>\n",
              "      <th>pH</th>\n",
              "      <th>sulphates</th>\n",
              "      <th>alcohol</th>\n",
              "      <th>quality</th>\n",
              "    </tr>\n",
              "  </thead>\n",
              "  <tbody>\n",
              "    <tr>\n",
              "      <th>1594</th>\n",
              "      <td>6.2</td>\n",
              "      <td>0.600</td>\n",
              "      <td>0.08</td>\n",
              "      <td>2.0</td>\n",
              "      <td>0.090</td>\n",
              "      <td>32.0</td>\n",
              "      <td>44.0</td>\n",
              "      <td>0.99490</td>\n",
              "      <td>3.45</td>\n",
              "      <td>0.58</td>\n",
              "      <td>10.5</td>\n",
              "      <td>5</td>\n",
              "    </tr>\n",
              "    <tr>\n",
              "      <th>1595</th>\n",
              "      <td>5.9</td>\n",
              "      <td>0.550</td>\n",
              "      <td>0.10</td>\n",
              "      <td>2.2</td>\n",
              "      <td>0.062</td>\n",
              "      <td>39.0</td>\n",
              "      <td>51.0</td>\n",
              "      <td>0.99512</td>\n",
              "      <td>3.52</td>\n",
              "      <td>0.76</td>\n",
              "      <td>11.2</td>\n",
              "      <td>6</td>\n",
              "    </tr>\n",
              "    <tr>\n",
              "      <th>1596</th>\n",
              "      <td>6.3</td>\n",
              "      <td>0.510</td>\n",
              "      <td>0.13</td>\n",
              "      <td>2.3</td>\n",
              "      <td>0.076</td>\n",
              "      <td>29.0</td>\n",
              "      <td>40.0</td>\n",
              "      <td>0.99574</td>\n",
              "      <td>3.42</td>\n",
              "      <td>0.75</td>\n",
              "      <td>11.0</td>\n",
              "      <td>6</td>\n",
              "    </tr>\n",
              "    <tr>\n",
              "      <th>1597</th>\n",
              "      <td>5.9</td>\n",
              "      <td>0.645</td>\n",
              "      <td>0.12</td>\n",
              "      <td>2.0</td>\n",
              "      <td>0.075</td>\n",
              "      <td>32.0</td>\n",
              "      <td>44.0</td>\n",
              "      <td>0.99547</td>\n",
              "      <td>3.57</td>\n",
              "      <td>0.71</td>\n",
              "      <td>10.2</td>\n",
              "      <td>5</td>\n",
              "    </tr>\n",
              "    <tr>\n",
              "      <th>1598</th>\n",
              "      <td>6.0</td>\n",
              "      <td>0.310</td>\n",
              "      <td>0.47</td>\n",
              "      <td>3.6</td>\n",
              "      <td>0.067</td>\n",
              "      <td>18.0</td>\n",
              "      <td>42.0</td>\n",
              "      <td>0.99549</td>\n",
              "      <td>3.39</td>\n",
              "      <td>0.66</td>\n",
              "      <td>11.0</td>\n",
              "      <td>6</td>\n",
              "    </tr>\n",
              "  </tbody>\n",
              "</table>\n",
              "</div>"
            ],
            "text/plain": [
              "      fixed_acidity  volatile_acidity  citric_acid  ...  sulphates  alcohol  quality\n",
              "1594            6.2             0.600         0.08  ...       0.58     10.5        5\n",
              "1595            5.9             0.550         0.10  ...       0.76     11.2        6\n",
              "1596            6.3             0.510         0.13  ...       0.75     11.0        6\n",
              "1597            5.9             0.645         0.12  ...       0.71     10.2        5\n",
              "1598            6.0             0.310         0.47  ...       0.66     11.0        6\n",
              "\n",
              "[5 rows x 12 columns]"
            ]
          },
          "metadata": {},
          "execution_count": 5
        }
      ]
    },
    {
      "cell_type": "code",
      "metadata": {
        "colab": {
          "base_uri": "https://localhost:8080/"
        },
        "id": "Bf4T90WY0FrE",
        "outputId": "b047f601-eeaf-414b-e3c8-2ea5ea422789"
      },
      "source": [
        "data.shape"
      ],
      "execution_count": null,
      "outputs": [
        {
          "output_type": "execute_result",
          "data": {
            "text/plain": [
              "(1599, 12)"
            ]
          },
          "metadata": {},
          "execution_count": 6
        }
      ]
    },
    {
      "cell_type": "markdown",
      "metadata": {
        "id": "jxIe-nWGwt0Q"
      },
      "source": [
        "# 2. 단일회귀분석"
      ]
    },
    {
      "cell_type": "code",
      "metadata": {
        "id": "mrFboKJlwt0Q"
      },
      "source": [
        "import statsmodels.api as sm"
      ],
      "execution_count": null,
      "outputs": []
    },
    {
      "cell_type": "code",
      "metadata": {
        "id": "ZWeYWlGjwt0R"
      },
      "source": [
        "model = sm.OLS(data['quality'],sm.add_constant(data['alcohol'])).fit()"
      ],
      "execution_count": null,
      "outputs": []
    },
    {
      "cell_type": "code",
      "metadata": {
        "colab": {
          "base_uri": "https://localhost:8080/"
        },
        "id": "BuTfD9qWwt0R",
        "outputId": "2061a49a-bf92-4cd5-d26d-26c3c40f82be"
      },
      "source": [
        "print (model.summary())"
      ],
      "execution_count": null,
      "outputs": [
        {
          "output_type": "stream",
          "name": "stdout",
          "text": [
            "                            OLS Regression Results                            \n",
            "==============================================================================\n",
            "Dep. Variable:                quality   R-squared:                       0.227\n",
            "Model:                            OLS   Adj. R-squared:                  0.226\n",
            "Method:                 Least Squares   F-statistic:                     468.3\n",
            "Date:                Wed, 17 Nov 2021   Prob (F-statistic):           2.83e-91\n",
            "Time:                        05:24:01   Log-Likelihood:                -1721.1\n",
            "No. Observations:                1599   AIC:                             3446.\n",
            "Df Residuals:                    1597   BIC:                             3457.\n",
            "Df Model:                           1                                         \n",
            "Covariance Type:            nonrobust                                         \n",
            "==============================================================================\n",
            "                 coef    std err          t      P>|t|      [0.025      0.975]\n",
            "------------------------------------------------------------------------------\n",
            "const          1.8750      0.175     10.732      0.000       1.532       2.218\n",
            "alcohol        0.3608      0.017     21.639      0.000       0.328       0.394\n",
            "==============================================================================\n",
            "Omnibus:                       38.501   Durbin-Watson:                   1.748\n",
            "Prob(Omnibus):                  0.000   Jarque-Bera (JB):               71.758\n",
            "Skew:                          -0.154   Prob(JB):                     2.62e-16\n",
            "Kurtosis:                       3.991   Cond. No.                         104.\n",
            "==============================================================================\n",
            "\n",
            "Warnings:\n",
            "[1] Standard Errors assume that the covariance matrix of the errors is correctly specified.\n"
          ]
        }
      ]
    },
    {
      "cell_type": "code",
      "metadata": {
        "colab": {
          "base_uri": "https://localhost:8080/"
        },
        "id": "jVLW9NlOwt0S",
        "outputId": "d4ea4ef9-4ce7-47b3-a31d-ec35b2ad8d70"
      },
      "source": [
        "model.params"
      ],
      "execution_count": null,
      "outputs": [
        {
          "output_type": "execute_result",
          "data": {
            "text/plain": [
              "const      1.874975\n",
              "alcohol    0.360842\n",
              "dtype: float64"
            ]
          },
          "metadata": {},
          "execution_count": 10
        }
      ]
    },
    {
      "cell_type": "code",
      "metadata": {
        "colab": {
          "base_uri": "https://localhost:8080/",
          "height": 295
        },
        "id": "ej3OopG0wt0T",
        "outputId": "fd1c48ba-2d19-4130-ac51-9d224604110e"
      },
      "source": [
        "plt.scatter(data['alcohol'], data['quality'],label = 'Actual Data')\n",
        "plt.plot(data['alcohol'],model.params[0]+model.params[1]*data['alcohol'],\n",
        "         c ='r',label=\"Regression fit\")\n",
        "plt.title('Alcohol - Wine Regression')\n",
        "plt.xlabel('Alcohol')\n",
        "plt.ylabel('Wine')\n",
        "plt.show()"
      ],
      "execution_count": null,
      "outputs": [
        {
          "output_type": "display_data",
          "data": {
            "image/png": "[encoded data removed]",
            "text/plain": [
              "<Figure size 432x288 with 1 Axes>"
            ]
          },
          "metadata": {
            "needs_background": "light"
          }
        }
      ]
    },
    {
      "cell_type": "code",
      "metadata": {
        "id": "FBRWqzexwt0T"
      },
      "source": [
        "from sklearn.model_selection import train_test_split "
      ],
      "execution_count": null,
      "outputs": []
    },
    {
      "cell_type": "code",
      "metadata": {
        "id": "Ja90Toinwt0U"
      },
      "source": [
        "X_train,X_test,y_train,y_test = train_test_split(data['alcohol'], data[\"quality\"], train_size = 0.7,random_state=42)"
      ],
      "execution_count": null,
      "outputs": []
    },
    {
      "cell_type": "code",
      "metadata": {
        "colab": {
          "base_uri": "https://localhost:8080/"
        },
        "id": "PmmagyHHwt0U",
        "outputId": "fcb24c84-7e2f-47a6-d1a6-8f8d0aa8d2af"
      },
      "source": [
        "X_train.head()"
      ],
      "execution_count": null,
      "outputs": [
        {
          "output_type": "execute_result",
          "data": {
            "text/plain": [
              "925     11.0\n",
              "363     10.2\n",
              "906     11.0\n",
              "426     11.4\n",
              "1251     9.8\n",
              "Name: alcohol, dtype: float64"
            ]
          },
          "metadata": {},
          "execution_count": 14
        }
      ]
    },
    {
      "cell_type": "code",
      "metadata": {
        "id": "1FIklmHLwt0U"
      },
      "source": [
        "X_train = pd.DataFrame(X_train)\n",
        "X_test = pd.DataFrame(X_test)\n",
        "y_train = pd.DataFrame(y_train)\n",
        "y_test = pd.DataFrame(y_test)"
      ],
      "execution_count": null,
      "outputs": []
    },
    {
      "cell_type": "code",
      "metadata": {
        "id": "Uy8dX588wt0Y"
      },
      "source": [
        "from sklearn.linear_model import LinearRegression"
      ],
      "execution_count": null,
      "outputs": []
    },
    {
      "cell_type": "code",
      "metadata": {
        "id": "_rMCUrPewt0Z"
      },
      "source": [
        "lr = LinearRegression().fit(X_train, y_train)"
      ],
      "execution_count": null,
      "outputs": []
    },
    {
      "cell_type": "code",
      "metadata": {
        "colab": {
          "base_uri": "https://localhost:8080/"
        },
        "id": "bSgMaK4Kwt0Z",
        "outputId": "8d670a83-0672-4e71-b2ea-f9bf4771aa7b"
      },
      "source": [
        "print(\"lr.coef_: {}\".format(lr.coef_))\n",
        "print(\"lr.intercept_: {}\".format(lr.intercept_))"
      ],
      "execution_count": null,
      "outputs": [
        {
          "output_type": "stream",
          "name": "stdout",
          "text": [
            "lr.coef_: [[0.37699262]]\n",
            "lr.intercept_: [1.69472474]\n"
          ]
        }
      ]
    },
    {
      "cell_type": "code",
      "metadata": {
        "colab": {
          "base_uri": "https://localhost:8080/"
        },
        "id": "8ahHCPRRwt0Z",
        "outputId": "d0caf492-d65a-4556-b128-e1edb59e3305"
      },
      "source": [
        "print(\"훈련 세트 R-square: {:.2f}\".format(lr.score(X_train, y_train)))\n",
        "print(\"테스트 세트 R-square: {:.2f}\".format(lr.score(X_test, y_test)))"
      ],
      "execution_count": null,
      "outputs": [
        {
          "output_type": "stream",
          "name": "stdout",
          "text": [
            "훈련 세트 R-square: 0.24\n",
            "테스트 세트 R-square: 0.19\n"
          ]
        }
      ]
    },
    {
      "cell_type": "markdown",
      "metadata": {
        "id": "f79Gcn3Fwt0Z"
      },
      "source": [
        "# 3. 다중회귀분석"
      ]
    },
    {
      "cell_type": "code",
      "metadata": {
        "id": "3DetfKpRwt0a"
      },
      "source": [
        "X=data[data.columns[0:11]]"
      ],
      "execution_count": null,
      "outputs": []
    },
    {
      "cell_type": "code",
      "metadata": {
        "id": "Li6-J9b-wt0a"
      },
      "source": [
        "y = data[['quality']]"
      ],
      "execution_count": null,
      "outputs": []
    },
    {
      "cell_type": "code",
      "metadata": {
        "colab": {
          "base_uri": "https://localhost:8080/",
          "height": 224
        },
        "id": "_a-Ct4JLwt0a",
        "outputId": "43db4607-ade6-450d-93cc-87bb9074d154"
      },
      "source": [
        "X.head()"
      ],
      "execution_count": null,
      "outputs": [
        {
          "output_type": "execute_result",
          "data": {
            "text/html": [
              "<div>\n",
              "<style scoped>\n",
              "    .dataframe tbody tr th:only-of-type {\n",
              "        vertical-align: middle;\n",
              "    }\n",
              "\n",
              "    .dataframe tbody tr th {\n",
              "        vertical-align: top;\n",
              "    }\n",
              "\n",
              "    .dataframe thead th {\n",
              "        text-align: right;\n",
              "    }\n",
              "</style>\n",
              "<table border=\"1\" class=\"dataframe\">\n",
              "  <thead>\n",
              "    <tr style=\"text-align: right;\">\n",
              "      <th></th>\n",
              "      <th>fixed_acidity</th>\n",
              "      <th>volatile_acidity</th>\n",
              "      <th>citric_acid</th>\n",
              "      <th>residual_sugar</th>\n",
              "      <th>chlorides</th>\n",
              "      <th>free_sulfur_dioxide</th>\n",
              "      <th>total_sulfur_dioxide</th>\n",
              "      <th>density</th>\n",
              "      <th>pH</th>\n",
              "      <th>sulphates</th>\n",
              "      <th>alcohol</th>\n",
              "    </tr>\n",
              "  </thead>\n",
              "  <tbody>\n",
              "    <tr>\n",
              "      <th>0</th>\n",
              "      <td>7.4</td>\n",
              "      <td>0.70</td>\n",
              "      <td>0.00</td>\n",
              "      <td>1.9</td>\n",
              "      <td>0.076</td>\n",
              "      <td>11.0</td>\n",
              "      <td>34.0</td>\n",
              "      <td>0.9978</td>\n",
              "      <td>3.51</td>\n",
              "      <td>0.56</td>\n",
              "      <td>9.4</td>\n",
              "    </tr>\n",
              "    <tr>\n",
              "      <th>1</th>\n",
              "      <td>7.8</td>\n",
              "      <td>0.88</td>\n",
              "      <td>0.00</td>\n",
              "      <td>2.6</td>\n",
              "      <td>0.098</td>\n",
              "      <td>25.0</td>\n",
              "      <td>67.0</td>\n",
              "      <td>0.9968</td>\n",
              "      <td>3.20</td>\n",
              "      <td>0.68</td>\n",
              "      <td>9.8</td>\n",
              "    </tr>\n",
              "    <tr>\n",
              "      <th>2</th>\n",
              "      <td>7.8</td>\n",
              "      <td>0.76</td>\n",
              "      <td>0.04</td>\n",
              "      <td>2.3</td>\n",
              "      <td>0.092</td>\n",
              "      <td>15.0</td>\n",
              "      <td>54.0</td>\n",
              "      <td>0.9970</td>\n",
              "      <td>3.26</td>\n",
              "      <td>0.65</td>\n",
              "      <td>9.8</td>\n",
              "    </tr>\n",
              "    <tr>\n",
              "      <th>3</th>\n",
              "      <td>11.2</td>\n",
              "      <td>0.28</td>\n",
              "      <td>0.56</td>\n",
              "      <td>1.9</td>\n",
              "      <td>0.075</td>\n",
              "      <td>17.0</td>\n",
              "      <td>60.0</td>\n",
              "      <td>0.9980</td>\n",
              "      <td>3.16</td>\n",
              "      <td>0.58</td>\n",
              "      <td>9.8</td>\n",
              "    </tr>\n",
              "    <tr>\n",
              "      <th>4</th>\n",
              "      <td>7.4</td>\n",
              "      <td>0.70</td>\n",
              "      <td>0.00</td>\n",
              "      <td>1.9</td>\n",
              "      <td>0.076</td>\n",
              "      <td>11.0</td>\n",
              "      <td>34.0</td>\n",
              "      <td>0.9978</td>\n",
              "      <td>3.51</td>\n",
              "      <td>0.56</td>\n",
              "      <td>9.4</td>\n",
              "    </tr>\n",
              "  </tbody>\n",
              "</table>\n",
              "</div>"
            ],
            "text/plain": [
              "   fixed_acidity  volatile_acidity  citric_acid  ...    pH  sulphates  alcohol\n",
              "0            7.4              0.70         0.00  ...  3.51       0.56      9.4\n",
              "1            7.8              0.88         0.00  ...  3.20       0.68      9.8\n",
              "2            7.8              0.76         0.04  ...  3.26       0.65      9.8\n",
              "3           11.2              0.28         0.56  ...  3.16       0.58      9.8\n",
              "4            7.4              0.70         0.00  ...  3.51       0.56      9.4\n",
              "\n",
              "[5 rows x 11 columns]"
            ]
          },
          "metadata": {},
          "execution_count": 22
        }
      ]
    },
    {
      "cell_type": "code",
      "metadata": {
        "id": "aXQUKPTdwt0a"
      },
      "source": [
        "X_train, X_test, y_train, y_test = train_test_split(X, y,train_size = 0.7, random_state=42)"
      ],
      "execution_count": null,
      "outputs": []
    },
    {
      "cell_type": "code",
      "metadata": {
        "id": "RTFiO9hwwt0b"
      },
      "source": [
        "x_train_new = sm.add_constant(X_train)\n",
        "x_test_new = sm.add_constant(X_test)"
      ],
      "execution_count": null,
      "outputs": []
    },
    {
      "cell_type": "code",
      "metadata": {
        "colab": {
          "base_uri": "https://localhost:8080/",
          "height": 224
        },
        "id": "L7_bSVMUwt0b",
        "outputId": "4f263c1b-0257-4a60-bc8b-d27e3647f7f7"
      },
      "source": [
        "x_train_new.head()"
      ],
      "execution_count": null,
      "outputs": [
        {
          "output_type": "execute_result",
          "data": {
            "text/html": [
              "<div>\n",
              "<style scoped>\n",
              "    .dataframe tbody tr th:only-of-type {\n",
              "        vertical-align: middle;\n",
              "    }\n",
              "\n",
              "    .dataframe tbody tr th {\n",
              "        vertical-align: top;\n",
              "    }\n",
              "\n",
              "    .dataframe thead th {\n",
              "        text-align: right;\n",
              "    }\n",
              "</style>\n",
              "<table border=\"1\" class=\"dataframe\">\n",
              "  <thead>\n",
              "    <tr style=\"text-align: right;\">\n",
              "      <th></th>\n",
              "      <th>const</th>\n",
              "      <th>fixed_acidity</th>\n",
              "      <th>volatile_acidity</th>\n",
              "      <th>citric_acid</th>\n",
              "      <th>residual_sugar</th>\n",
              "      <th>chlorides</th>\n",
              "      <th>free_sulfur_dioxide</th>\n",
              "      <th>total_sulfur_dioxide</th>\n",
              "      <th>density</th>\n",
              "      <th>pH</th>\n",
              "      <th>sulphates</th>\n",
              "      <th>alcohol</th>\n",
              "    </tr>\n",
              "  </thead>\n",
              "  <tbody>\n",
              "    <tr>\n",
              "      <th>925</th>\n",
              "      <td>1.0</td>\n",
              "      <td>8.6</td>\n",
              "      <td>0.22</td>\n",
              "      <td>0.36</td>\n",
              "      <td>1.9</td>\n",
              "      <td>0.064</td>\n",
              "      <td>53.0</td>\n",
              "      <td>77.0</td>\n",
              "      <td>0.99604</td>\n",
              "      <td>3.47</td>\n",
              "      <td>0.87</td>\n",
              "      <td>11.0</td>\n",
              "    </tr>\n",
              "    <tr>\n",
              "      <th>363</th>\n",
              "      <td>1.0</td>\n",
              "      <td>12.5</td>\n",
              "      <td>0.46</td>\n",
              "      <td>0.63</td>\n",
              "      <td>2.0</td>\n",
              "      <td>0.071</td>\n",
              "      <td>6.0</td>\n",
              "      <td>15.0</td>\n",
              "      <td>0.99880</td>\n",
              "      <td>2.99</td>\n",
              "      <td>0.87</td>\n",
              "      <td>10.2</td>\n",
              "    </tr>\n",
              "    <tr>\n",
              "      <th>906</th>\n",
              "      <td>1.0</td>\n",
              "      <td>7.2</td>\n",
              "      <td>0.54</td>\n",
              "      <td>0.27</td>\n",
              "      <td>2.6</td>\n",
              "      <td>0.084</td>\n",
              "      <td>12.0</td>\n",
              "      <td>78.0</td>\n",
              "      <td>0.99640</td>\n",
              "      <td>3.39</td>\n",
              "      <td>0.71</td>\n",
              "      <td>11.0</td>\n",
              "    </tr>\n",
              "    <tr>\n",
              "      <th>426</th>\n",
              "      <td>1.0</td>\n",
              "      <td>6.4</td>\n",
              "      <td>0.67</td>\n",
              "      <td>0.08</td>\n",
              "      <td>2.1</td>\n",
              "      <td>0.045</td>\n",
              "      <td>19.0</td>\n",
              "      <td>48.0</td>\n",
              "      <td>0.99490</td>\n",
              "      <td>3.49</td>\n",
              "      <td>0.49</td>\n",
              "      <td>11.4</td>\n",
              "    </tr>\n",
              "    <tr>\n",
              "      <th>1251</th>\n",
              "      <td>1.0</td>\n",
              "      <td>7.5</td>\n",
              "      <td>0.58</td>\n",
              "      <td>0.14</td>\n",
              "      <td>2.2</td>\n",
              "      <td>0.077</td>\n",
              "      <td>27.0</td>\n",
              "      <td>60.0</td>\n",
              "      <td>0.99630</td>\n",
              "      <td>3.28</td>\n",
              "      <td>0.59</td>\n",
              "      <td>9.8</td>\n",
              "    </tr>\n",
              "  </tbody>\n",
              "</table>\n",
              "</div>"
            ],
            "text/plain": [
              "      const  fixed_acidity  volatile_acidity  ...    pH  sulphates  alcohol\n",
              "925     1.0            8.6              0.22  ...  3.47       0.87     11.0\n",
              "363     1.0           12.5              0.46  ...  2.99       0.87     10.2\n",
              "906     1.0            7.2              0.54  ...  3.39       0.71     11.0\n",
              "426     1.0            6.4              0.67  ...  3.49       0.49     11.4\n",
              "1251    1.0            7.5              0.58  ...  3.28       0.59      9.8\n",
              "\n",
              "[5 rows x 12 columns]"
            ]
          },
          "metadata": {},
          "execution_count": 25
        }
      ]
    },
    {
      "cell_type": "code",
      "metadata": {
        "colab": {
          "base_uri": "https://localhost:8080/"
        },
        "id": "bdDSgVrmwt0b",
        "outputId": "9a4de72a-9996-4f1a-e39f-9fb11dc743de"
      },
      "source": [
        "multi_model = sm.OLS(y_train,x_train_new).fit()\n",
        "print (multi_model.summary())"
      ],
      "execution_count": null,
      "outputs": [
        {
          "output_type": "stream",
          "name": "stdout",
          "text": [
            "                            OLS Regression Results                            \n",
            "==============================================================================\n",
            "Dep. Variable:                quality   R-squared:                       0.361\n",
            "Model:                            OLS   Adj. R-squared:                  0.355\n",
            "Method:                 Least Squares   F-statistic:                     56.90\n",
            "Date:                Wed, 17 Nov 2021   Prob (F-statistic):          8.34e-100\n",
            "Time:                        05:24:02   Log-Likelihood:                -1103.5\n",
            "No. Observations:                1119   AIC:                             2231.\n",
            "Df Residuals:                    1107   BIC:                             2291.\n",
            "Df Model:                          11                                         \n",
            "Covariance Type:            nonrobust                                         \n",
            "========================================================================================\n",
            "                           coef    std err          t      P>|t|      [0.025      0.975]\n",
            "----------------------------------------------------------------------------------------\n",
            "const                   17.9626     25.237      0.712      0.477     -31.555      67.480\n",
            "fixed_acidity            0.0235      0.031      0.769      0.442      -0.036       0.083\n",
            "volatile_acidity        -1.0996      0.145     -7.599      0.000      -1.384      -0.816\n",
            "citric_acid             -0.2479      0.177     -1.402      0.161      -0.595       0.099\n",
            "residual_sugar           0.0077      0.018      0.429      0.668      -0.028       0.043\n",
            "chlorides               -1.6736      0.500     -3.344      0.001      -2.656      -0.692\n",
            "free_sulfur_dioxide      0.0046      0.003      1.706      0.088      -0.001       0.010\n",
            "total_sulfur_dioxide    -0.0033      0.001     -3.723      0.000      -0.005      -0.002\n",
            "density                -14.2396     25.750     -0.553      0.580     -64.763      36.284\n",
            "pH                      -0.3192      0.227     -1.404      0.161      -0.766       0.127\n",
            "sulphates                0.8128      0.135      6.007      0.000       0.547       1.078\n",
            "alcohol                  0.2920      0.032      9.268      0.000       0.230       0.354\n",
            "==============================================================================\n",
            "Omnibus:                       29.060   Durbin-Watson:                   2.001\n",
            "Prob(Omnibus):                  0.000   Jarque-Bera (JB):               50.192\n",
            "Skew:                          -0.193   Prob(JB):                     1.26e-11\n",
            "Kurtosis:                       3.963   Cond. No.                     1.13e+05\n",
            "==============================================================================\n",
            "\n",
            "Warnings:\n",
            "[1] Standard Errors assume that the covariance matrix of the errors is correctly specified.\n",
            "[2] The condition number is large, 1.13e+05. This might indicate that there are\n",
            "strong multicollinearity or other numerical problems.\n"
          ]
        }
      ]
    },
    {
      "cell_type": "code",
      "metadata": {
        "id": "CSIPvUFNwt0b"
      },
      "source": [
        "y_pred = multi_model.predict(x_test_new)\n",
        "y_pred_df = pd.DataFrame(y_pred)\n",
        "y_pred_df.columns = ['y_pred']\n",
        "pred_data = pd.DataFrame(y_pred_df['y_pred'])\n",
        "y_test_new = pd.DataFrame(y_test)"
      ],
      "execution_count": null,
      "outputs": []
    },
    {
      "cell_type": "code",
      "metadata": {
        "id": "ZrZWWeIjwt0c"
      },
      "source": [
        "pred_data['y_test'] = pd.DataFrame(y_test_new['quality'])"
      ],
      "execution_count": null,
      "outputs": []
    },
    {
      "cell_type": "code",
      "metadata": {
        "colab": {
          "base_uri": "https://localhost:8080/",
          "height": 204
        },
        "id": "lqOXqJhywt0c",
        "outputId": "48cc172f-2d65-4fbc-cbd2-670a4e491f95"
      },
      "source": [
        "pred_data.head()"
      ],
      "execution_count": null,
      "outputs": [
        {
          "output_type": "execute_result",
          "data": {
            "text/html": [
              "<div>\n",
              "<style scoped>\n",
              "    .dataframe tbody tr th:only-of-type {\n",
              "        vertical-align: middle;\n",
              "    }\n",
              "\n",
              "    .dataframe tbody tr th {\n",
              "        vertical-align: top;\n",
              "    }\n",
              "\n",
              "    .dataframe thead th {\n",
              "        text-align: right;\n",
              "    }\n",
              "</style>\n",
              "<table border=\"1\" class=\"dataframe\">\n",
              "  <thead>\n",
              "    <tr style=\"text-align: right;\">\n",
              "      <th></th>\n",
              "      <th>y_pred</th>\n",
              "      <th>y_test</th>\n",
              "    </tr>\n",
              "  </thead>\n",
              "  <tbody>\n",
              "    <tr>\n",
              "      <th>803</th>\n",
              "      <td>5.356763</td>\n",
              "      <td>6</td>\n",
              "    </tr>\n",
              "    <tr>\n",
              "      <th>124</th>\n",
              "      <td>5.090715</td>\n",
              "      <td>5</td>\n",
              "    </tr>\n",
              "    <tr>\n",
              "      <th>350</th>\n",
              "      <td>5.625538</td>\n",
              "      <td>6</td>\n",
              "    </tr>\n",
              "    <tr>\n",
              "      <th>682</th>\n",
              "      <td>5.448861</td>\n",
              "      <td>5</td>\n",
              "    </tr>\n",
              "    <tr>\n",
              "      <th>1326</th>\n",
              "      <td>5.744784</td>\n",
              "      <td>6</td>\n",
              "    </tr>\n",
              "  </tbody>\n",
              "</table>\n",
              "</div>"
            ],
            "text/plain": [
              "        y_pred  y_test\n",
              "803   5.356763       6\n",
              "124   5.090715       5\n",
              "350   5.625538       6\n",
              "682   5.448861       5\n",
              "1326  5.744784       6"
            ]
          },
          "metadata": {},
          "execution_count": 29
        }
      ]
    },
    {
      "cell_type": "code",
      "metadata": {
        "colab": {
          "base_uri": "https://localhost:8080/"
        },
        "id": "B75MdCRbwt0c",
        "outputId": "64b3c9b5-b396-4789-e9e7-969d6851a5d5"
      },
      "source": [
        "multi_model2 = sm.OLS(y_test,x_test_new).fit()\n",
        "print (multi_model2.summary())"
      ],
      "execution_count": null,
      "outputs": [
        {
          "output_type": "stream",
          "name": "stdout",
          "text": [
            "                            OLS Regression Results                            \n",
            "==============================================================================\n",
            "Dep. Variable:                quality   R-squared:                       0.372\n",
            "Model:                            OLS   Adj. R-squared:                  0.357\n",
            "Method:                 Least Squares   F-statistic:                     25.22\n",
            "Date:                Wed, 17 Nov 2021   Prob (F-statistic):           5.60e-41\n",
            "Time:                        05:24:02   Log-Likelihood:                -460.03\n",
            "No. Observations:                 480   AIC:                             944.1\n",
            "Df Residuals:                     468   BIC:                             994.1\n",
            "Df Model:                          11                                         \n",
            "Covariance Type:            nonrobust                                         \n",
            "========================================================================================\n",
            "                           coef    std err          t      P>|t|      [0.025      0.975]\n",
            "----------------------------------------------------------------------------------------\n",
            "const                   30.8445     39.952      0.772      0.440     -47.662     109.351\n",
            "fixed_acidity            0.0159      0.050      0.315      0.753      -0.083       0.115\n",
            "volatile_acidity        -1.0251      0.224     -4.570      0.000      -1.466      -0.584\n",
            "citric_acid              0.0325      0.270      0.120      0.904      -0.498       0.563\n",
            "residual_sugar           0.0416      0.027      1.522      0.129      -0.012       0.095\n",
            "chlorides               -2.4644      0.779     -3.165      0.002      -3.994      -0.935\n",
            "free_sulfur_dioxide      0.0040      0.004      1.070      0.285      -0.003       0.011\n",
            "total_sulfur_dioxide    -0.0034      0.001     -2.546      0.011      -0.006      -0.001\n",
            "density                -25.6932     40.816     -0.629      0.529    -105.899      54.512\n",
            "pH                      -0.6864      0.360     -1.904      0.057      -1.395       0.022\n",
            "sulphates                1.1899      0.216      5.521      0.000       0.766       1.613\n",
            "alcohol                  0.2400      0.050      4.848      0.000       0.143       0.337\n",
            "==============================================================================\n",
            "Omnibus:                        0.207   Durbin-Watson:                   1.932\n",
            "Prob(Omnibus):                  0.902   Jarque-Bera (JB):                0.159\n",
            "Skew:                          -0.044   Prob(JB):                        0.924\n",
            "Kurtosis:                       3.012   Cond. No.                     1.17e+05\n",
            "==============================================================================\n",
            "\n",
            "Warnings:\n",
            "[1] Standard Errors assume that the covariance matrix of the errors is correctly specified.\n",
            "[2] The condition number is large, 1.17e+05. This might indicate that there are\n",
            "strong multicollinearity or other numerical problems.\n"
          ]
        }
      ]
    },
    {
      "cell_type": "markdown",
      "metadata": {
        "id": "T_L6bfb3wt0c"
      },
      "source": [
        "# 4. scikit-learn을 이용한 회귀분석"
      ]
    },
    {
      "cell_type": "code",
      "metadata": {
        "id": "0uznyOtMwt0c"
      },
      "source": [
        "from sklearn.linear_model import LinearRegression"
      ],
      "execution_count": null,
      "outputs": []
    },
    {
      "cell_type": "code",
      "metadata": {
        "id": "RKQ_9vm5wt0c"
      },
      "source": [
        "linear1=LinearRegression()"
      ],
      "execution_count": null,
      "outputs": []
    },
    {
      "cell_type": "code",
      "metadata": {
        "colab": {
          "base_uri": "https://localhost:8080/"
        },
        "id": "CPwapuzbwt0d",
        "outputId": "445d2ff9-fb8c-48eb-984b-b99b10ba66c5"
      },
      "source": [
        "linear1.fit(X_train, y_train)"
      ],
      "execution_count": null,
      "outputs": [
        {
          "output_type": "execute_result",
          "data": {
            "text/plain": [
              "LinearRegression()"
            ]
          },
          "metadata": {},
          "execution_count": 33
        }
      ]
    },
    {
      "cell_type": "code",
      "metadata": {
        "colab": {
          "base_uri": "https://localhost:8080/"
        },
        "id": "ztWSgiZmwt0d",
        "outputId": "816f7810-ac9f-484a-96a3-d7a7c83004af"
      },
      "source": [
        "linear1.score(X_train, y_train)"
      ],
      "execution_count": null,
      "outputs": [
        {
          "output_type": "execute_result",
          "data": {
            "text/plain": [
              "0.3611982441321644"
            ]
          },
          "metadata": {},
          "execution_count": 34
        }
      ]
    },
    {
      "cell_type": "code",
      "metadata": {
        "colab": {
          "base_uri": "https://localhost:8080/"
        },
        "id": "0K3N0o8Fwt0d",
        "outputId": "a4e92e0a-98b4-484e-d3b0-1d7fcc25390a"
      },
      "source": [
        "linear1.score(X_test, y_test)"
      ],
      "execution_count": null,
      "outputs": [
        {
          "output_type": "execute_result",
          "data": {
            "text/plain": [
              "0.35138853325173947"
            ]
          },
          "metadata": {},
          "execution_count": 35
        }
      ]
    },
    {
      "cell_type": "code",
      "metadata": {
        "id": "pPLYAVhGwt0d"
      },
      "source": [
        "pred_train=linear1.predict(X_train)"
      ],
      "execution_count": null,
      "outputs": []
    },
    {
      "cell_type": "code",
      "metadata": {
        "id": "w35jz3J1wt0d"
      },
      "source": [
        "pred_test=linear1.predict(X_test)"
      ],
      "execution_count": null,
      "outputs": []
    },
    {
      "cell_type": "code",
      "metadata": {
        "id": "-vLsOH_Nwt0d"
      },
      "source": [
        "linear2=LinearRegression(normalize=True)"
      ],
      "execution_count": null,
      "outputs": []
    },
    {
      "cell_type": "code",
      "metadata": {
        "colab": {
          "base_uri": "https://localhost:8080/"
        },
        "id": "p8ewRPcMwt0e",
        "outputId": "017ce9c8-76ba-45cb-ec53-aa83e2574ef7"
      },
      "source": [
        "linear2.fit(X_train, y_train)"
      ],
      "execution_count": null,
      "outputs": [
        {
          "output_type": "execute_result",
          "data": {
            "text/plain": [
              "LinearRegression(normalize=True)"
            ]
          },
          "metadata": {},
          "execution_count": 39
        }
      ]
    },
    {
      "cell_type": "code",
      "metadata": {
        "colab": {
          "base_uri": "https://localhost:8080/"
        },
        "id": "V19B6ti8wt0e",
        "outputId": "fb8a1506-a18b-4e32-968c-a720885f63b9"
      },
      "source": [
        "linear2.score(X_train, y_train)"
      ],
      "execution_count": null,
      "outputs": [
        {
          "output_type": "execute_result",
          "data": {
            "text/plain": [
              "0.3611982441321645"
            ]
          },
          "metadata": {},
          "execution_count": 40
        }
      ]
    },
    {
      "cell_type": "code",
      "metadata": {
        "colab": {
          "base_uri": "https://localhost:8080/"
        },
        "id": "5lDtt5xQwt0e",
        "outputId": "d3ae1138-9baa-4ea5-e167-1d35651ce9fe"
      },
      "source": [
        "linear2.score(X_test, y_test)"
      ],
      "execution_count": null,
      "outputs": [
        {
          "output_type": "execute_result",
          "data": {
            "text/plain": [
              "0.3513885332517398"
            ]
          },
          "metadata": {},
          "execution_count": 41
        }
      ]
    }
  ]
}