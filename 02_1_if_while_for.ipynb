{
  "nbformat": 4,
  "nbformat_minor": 0,
  "metadata": {
    "colab": {
      "provenance": [],
      "authorship_tag": "ABX9TyNkcVPYN453kTF2ayKccFaF"
    },
    "kernelspec": {
      "name": "python3",
      "display_name": "Python 3"
    },
    "language_info": {
      "name": "python"
    }
  },
  "cells": [
    {
      "cell_type": "markdown",
      "source": [
        "#if 문"
      ],
      "metadata": {
        "id": "b9sZLbqJjluY"
      }
    },
    {
      "cell_type": "code",
      "execution_count": null,
      "metadata": {
        "colab": {
          "base_uri": "https://localhost:8080/"
        },
        "id": "7qPhbWhwjX7H",
        "outputId": "c3ed4e95-a351-46c4-9ef3-14373f0bb87f"
      },
      "outputs": [
        {
          "output_type": "stream",
          "name": "stdout",
          "text": [
            "택시를 타고 가라\n"
          ]
        }
      ],
      "source": [
        "money = True\n",
        "if money:\n",
        "  print(\"택시를 타고 가라\")\n",
        "else:\n",
        "  print(\"걸어가라\")"
      ]
    },
    {
      "cell_type": "markdown",
      "source": [
        "# 비교연산자"
      ],
      "metadata": {
        "id": "5cve-RI5OaSJ"
      }
    },
    {
      "cell_type": "code",
      "source": [
        "x = 3\n",
        "y = 2\n",
        "x > y"
      ],
      "metadata": {
        "id": "HCCH2q_7jyc4",
        "colab": {
          "base_uri": "https://localhost:8080/"
        },
        "outputId": "43be4eec-a059-41ec-9283-fb39a5c3e0d7"
      },
      "execution_count": null,
      "outputs": [
        {
          "output_type": "execute_result",
          "data": {
            "text/plain": [
              "True"
            ]
          },
          "metadata": {},
          "execution_count": 1
        }
      ]
    },
    {
      "cell_type": "code",
      "source": [
        "money = 2000\n",
        "if money >= 3000:\n",
        "  print(\"택시를 타고 가라\")\n",
        "else:\n",
        "  print(\"걸어가라\")"
      ],
      "metadata": {
        "colab": {
          "base_uri": "https://localhost:8080/"
        },
        "id": "IOs0JJAoOWU8",
        "outputId": "66bfb1ca-fd4c-41e8-d2d3-6c7b6cf74ffb"
      },
      "execution_count": null,
      "outputs": [
        {
          "output_type": "stream",
          "name": "stdout",
          "text": [
            "걸어가라\n"
          ]
        }
      ]
    },
    {
      "cell_type": "code",
      "source": [
        "money = 2000\n",
        "card = True\n",
        "if money >= 3000 or card:\n",
        "  print(\"택시를 타고 가라\")\n",
        "else:\n",
        "  print(\"걸어가라\")"
      ],
      "metadata": {
        "colab": {
          "base_uri": "https://localhost:8080/"
        },
        "id": "5v7b0WVLOWLd",
        "outputId": "e1cb2280-66de-49c2-f65f-c940155f855d"
      },
      "execution_count": null,
      "outputs": [
        {
          "output_type": "stream",
          "name": "stdout",
          "text": [
            "택시를 타고 가라\n"
          ]
        }
      ]
    },
    {
      "cell_type": "code",
      "source": [
        "1 in [1, 2, 3]"
      ],
      "metadata": {
        "colab": {
          "base_uri": "https://localhost:8080/"
        },
        "id": "dj6F1f2qOWB7",
        "outputId": "ff69ac7e-1efe-477a-f5dc-263f9df19c2a"
      },
      "execution_count": null,
      "outputs": [
        {
          "output_type": "execute_result",
          "data": {
            "text/plain": [
              "True"
            ]
          },
          "metadata": {},
          "execution_count": 6
        }
      ]
    },
    {
      "cell_type": "code",
      "source": [
        "1 not in [1, 2, 3]"
      ],
      "metadata": {
        "colab": {
          "base_uri": "https://localhost:8080/"
        },
        "id": "NuDg-bbhOV2o",
        "outputId": "cd1a370b-9c84-4648-87b8-4b1c4901863a"
      },
      "execution_count": null,
      "outputs": [
        {
          "output_type": "execute_result",
          "data": {
            "text/plain": [
              "False"
            ]
          },
          "metadata": {},
          "execution_count": 7
        }
      ]
    },
    {
      "cell_type": "code",
      "source": [
        "4 not in [1, 2, 3]"
      ],
      "metadata": {
        "colab": {
          "base_uri": "https://localhost:8080/"
        },
        "id": "oqzqdBx-OViZ",
        "outputId": "029bac1c-0355-4baf-fa45-e559d3005af4"
      },
      "execution_count": null,
      "outputs": [
        {
          "output_type": "execute_result",
          "data": {
            "text/plain": [
              "True"
            ]
          },
          "metadata": {},
          "execution_count": 8
        }
      ]
    },
    {
      "cell_type": "code",
      "source": [
        "'a' in ['a', 'b', 'c']"
      ],
      "metadata": {
        "colab": {
          "base_uri": "https://localhost:8080/"
        },
        "id": "3AWoMBsEOVSX",
        "outputId": "88af3266-7d33-41a4-e29b-10a07f61f80e"
      },
      "execution_count": null,
      "outputs": [
        {
          "output_type": "execute_result",
          "data": {
            "text/plain": [
              "True"
            ]
          },
          "metadata": {},
          "execution_count": 9
        }
      ]
    },
    {
      "cell_type": "code",
      "source": [
        "pocket = ['paper', 'cellphone', 'money']\n",
        "if 'money' in pocket:\n",
        "  print(\"택시를 타고 가라\")\n",
        "else:\n",
        "  print(\"걸어가라\")"
      ],
      "metadata": {
        "colab": {
          "base_uri": "https://localhost:8080/"
        },
        "id": "uad5EXDbOU_k",
        "outputId": "8b2d3d94-73be-438d-d41e-782143d4cddc"
      },
      "execution_count": null,
      "outputs": [
        {
          "output_type": "stream",
          "name": "stdout",
          "text": [
            "택시를 타고 가라\n"
          ]
        }
      ]
    },
    {
      "cell_type": "code",
      "source": [
        "if 'money' in pocket:\n",
        "  pass\n",
        "else:\n",
        "  print(\"걸어가라\")"
      ],
      "metadata": {
        "id": "I7yccFe8Rjh2"
      },
      "execution_count": null,
      "outputs": []
    },
    {
      "cell_type": "code",
      "source": [
        "pocket = ['paper', 'cellphone']\n",
        "card = True\n",
        "if 'money' in pocket:\n",
        "  print(\"택시를 타고 가라\")\n",
        "else:\n",
        "  if card:\n",
        "    print(\"택시를 타고 가라\")\n",
        "  else:\n",
        "    print(\"걸어가라\")"
      ],
      "metadata": {
        "colab": {
          "base_uri": "https://localhost:8080/"
        },
        "id": "AKebYchsRsKu",
        "outputId": "338f3687-cffa-42b8-aed8-1e7cfc115281"
      },
      "execution_count": null,
      "outputs": [
        {
          "output_type": "stream",
          "name": "stdout",
          "text": [
            "택시를 타고 가라\n"
          ]
        }
      ]
    },
    {
      "cell_type": "code",
      "source": [
        "pocket = ['paper', 'cellphone']\n",
        "card = True\n",
        "if 'money' in pocket:\n",
        "  print(\"택시를 타고 가라\")\n",
        "elif card:\n",
        "    print(\"택시를 타고 가라\")\n",
        "else:\n",
        "    print(\"걸어가라\")"
      ],
      "metadata": {
        "colab": {
          "base_uri": "https://localhost:8080/"
        },
        "id": "4DBN2rvNSMK4",
        "outputId": "bc344c7b-d393-4724-f7d9-1d6845f35bb1"
      },
      "execution_count": null,
      "outputs": [
        {
          "output_type": "stream",
          "name": "stdout",
          "text": [
            "택시를 타고 가라\n"
          ]
        }
      ]
    },
    {
      "cell_type": "code",
      "source": [
        "score = 50\n",
        "if score >= 60:\n",
        "  message = \"success\"\n",
        "else:\n",
        "  message = \"failure\"\n",
        "message"
      ],
      "metadata": {
        "colab": {
          "base_uri": "https://localhost:8080/",
          "height": 35
        },
        "id": "_fmK8_e4SX9w",
        "outputId": "1c7baf85-47ca-43fb-e637-e2c397467f59"
      },
      "execution_count": null,
      "outputs": [
        {
          "output_type": "execute_result",
          "data": {
            "text/plain": [
              "'failure'"
            ],
            "application/vnd.google.colaboratory.intrinsic+json": {
              "type": "string"
            }
          },
          "metadata": {},
          "execution_count": 16
        }
      ]
    },
    {
      "cell_type": "code",
      "source": [
        "message = \"success\" if score >= 60 else \"failure\"\n",
        "message"
      ],
      "metadata": {
        "colab": {
          "base_uri": "https://localhost:8080/",
          "height": 35
        },
        "id": "env4K1dqSmbv",
        "outputId": "6319d350-80e7-4e19-b470-26dac2d0b3fe"
      },
      "execution_count": null,
      "outputs": [
        {
          "output_type": "execute_result",
          "data": {
            "text/plain": [
              "'failure'"
            ],
            "application/vnd.google.colaboratory.intrinsic+json": {
              "type": "string"
            }
          },
          "metadata": {},
          "execution_count": 18
        }
      ]
    },
    {
      "cell_type": "markdown",
      "source": [
        "# while문"
      ],
      "metadata": {
        "id": "2aHP35QpUgFG"
      }
    },
    {
      "cell_type": "code",
      "source": [
        "treeHit = 0\n",
        "while treeHit < 10:\n",
        "  treeHit = treeHit + 1\n",
        "  print(\"나무를 %d번 찍었습니다.\" % treeHit)\n",
        "  if treeHit == 10:\n",
        "    print(\"나무 넘어갑니다.\")"
      ],
      "metadata": {
        "colab": {
          "base_uri": "https://localhost:8080/"
        },
        "id": "t_F14qeCSvJJ",
        "outputId": "6cc13404-cc7a-4296-bfc0-fda23513a50c"
      },
      "execution_count": null,
      "outputs": [
        {
          "output_type": "stream",
          "name": "stdout",
          "text": [
            "나무를 1번 찍었습니다.\n",
            "나무를 2번 찍었습니다.\n",
            "나무를 3번 찍었습니다.\n",
            "나무를 4번 찍었습니다.\n",
            "나무를 5번 찍었습니다.\n",
            "나무를 6번 찍었습니다.\n",
            "나무를 7번 찍었습니다.\n",
            "나무를 8번 찍었습니다.\n",
            "나무를 9번 찍었습니다.\n",
            "나무를 10번 찍었습니다.\n",
            "나무 넘어갑니다.\n"
          ]
        }
      ]
    },
    {
      "cell_type": "code",
      "source": [
        "prompt = \"\"\"\n",
        "  1. Add\n",
        "  2. Del\n",
        "  3. List\n",
        "  4. Quit\n",
        "\n",
        "  Enter number: \"\"\""
      ],
      "metadata": {
        "id": "8dhPYENVU8u-"
      },
      "execution_count": null,
      "outputs": []
    },
    {
      "cell_type": "code",
      "source": [
        "print(prompt)"
      ],
      "metadata": {
        "colab": {
          "base_uri": "https://localhost:8080/"
        },
        "id": "q3F8goQDVbmj",
        "outputId": "45d9f3c4-d742-425d-cf6d-a9373a39f629"
      },
      "execution_count": null,
      "outputs": [
        {
          "output_type": "stream",
          "name": "stdout",
          "text": [
            "\n",
            "  1. Add\n",
            "  2. Del\n",
            "  3. List\n",
            "  4. Quit\n",
            "\n",
            "  Enter number: \n"
          ]
        }
      ]
    },
    {
      "cell_type": "code",
      "source": [
        "number = 0\n",
        "while number != 4:\n",
        "  print(prompt)\n",
        "  number = int(input())\n",
        "# input = 입력받는 값 (4이면 종료)"
      ],
      "metadata": {
        "colab": {
          "base_uri": "https://localhost:8080/"
        },
        "id": "XjX1TiioVeDG",
        "outputId": "e8b6373c-eaa0-4ac6-c0a6-cc10ec1fbebc"
      },
      "execution_count": null,
      "outputs": [
        {
          "name": "stdout",
          "output_type": "stream",
          "text": [
            "\n",
            "  1. Add\n",
            "  2. Del\n",
            "  3. List\n",
            "  4. Quit\n",
            "\n",
            "  Enter number: \n",
            "4\n"
          ]
        }
      ]
    },
    {
      "cell_type": "code",
      "source": [
        "coffee = 10\n",
        "money = 300\n",
        "while money:\n",
        "  print(\"돈을 받았으니 커피를 줍니다.\")\n",
        "  coffee = coffee - 1\n",
        "  print(\"남은 커피의 양은 %d개입니다.\" % coffee)\n",
        "  if coffee == 0:\n",
        "    print(\"커피가 다 떨어졌습니다. 판매를 중지합니다.\")\n",
        "    break"
      ],
      "metadata": {
        "colab": {
          "base_uri": "https://localhost:8080/"
        },
        "id": "VDQzIZzWVmTq",
        "outputId": "24ef2628-ea92-4d50-ade4-05a5f98825f4"
      },
      "execution_count": null,
      "outputs": [
        {
          "output_type": "stream",
          "name": "stdout",
          "text": [
            "돈을 받았으니 커피를 줍니다.\n",
            "남은 커피의 양은 9개입니다.\n",
            "돈을 받았으니 커피를 줍니다.\n",
            "남은 커피의 양은 8개입니다.\n",
            "돈을 받았으니 커피를 줍니다.\n",
            "남은 커피의 양은 7개입니다.\n",
            "돈을 받았으니 커피를 줍니다.\n",
            "남은 커피의 양은 6개입니다.\n",
            "돈을 받았으니 커피를 줍니다.\n",
            "남은 커피의 양은 5개입니다.\n",
            "돈을 받았으니 커피를 줍니다.\n",
            "남은 커피의 양은 4개입니다.\n",
            "돈을 받았으니 커피를 줍니다.\n",
            "남은 커피의 양은 3개입니다.\n",
            "돈을 받았으니 커피를 줍니다.\n",
            "남은 커피의 양은 2개입니다.\n",
            "돈을 받았으니 커피를 줍니다.\n",
            "남은 커피의 양은 1개입니다.\n",
            "돈을 받았으니 커피를 줍니다.\n",
            "남은 커피의 양은 0개입니다.\n",
            "커피가 다 떨어졌습니다. 판매를 중지합니다.\n"
          ]
        }
      ]
    },
    {
      "cell_type": "code",
      "source": [
        "coffee = 10\n",
        "while True:\n",
        "  money = int(input(\"돈을 넣어주세요: \"))\n",
        "  if money == 300:\n",
        "    print(\"커피를 줍니다.\")\n",
        "    coffee = coffee - 1\n",
        "  elif money > 300:\n",
        "    print(\"거스름돈 %d를 주고 커피를 줍니다.\" % (money - 300))\n",
        "    coffee = coffee - 1\n",
        "  else:\n",
        "    print(\"돈을 다시 돌려주고 커피를 주지 않습니다.\")\n",
        "    print(\"남은 커피의 양은 %d개입니다.\" % coffee)\n",
        "  if coffee == 0:\n",
        "    print(\"커피가 다 떨어졌습니다.판매를 중지합니다.\")\n",
        "    break"
      ],
      "metadata": {
        "colab": {
          "base_uri": "https://localhost:8080/"
        },
        "id": "uSe2lgARXPqE",
        "outputId": "125e5c4d-d091-4e49-bb4d-defc00d94638"
      },
      "execution_count": null,
      "outputs": [
        {
          "output_type": "stream",
          "name": "stdout",
          "text": [
            "돈을 넣어주세요: 1000\n",
            "거스름돈 700를 주고 커피를 줍니다.\n",
            "돈을 넣어주세요: 500\n",
            "거스름돈 200를 주고 커피를 줍니다.\n",
            "돈을 넣어주세요: 300\n",
            "커피를 줍니다.\n",
            "돈을 넣어주세요: 100\n",
            "돈을 다시 돌려주고 커피를 주지 않습니다.\n",
            "남은 커피의 양은 7개입니다.\n",
            "돈을 넣어주세요: 600\n",
            "거스름돈 300를 주고 커피를 줍니다.\n",
            "돈을 넣어주세요: 800\n",
            "거스름돈 500를 주고 커피를 줍니다.\n",
            "돈을 넣어주세요: 1000\n",
            "거스름돈 700를 주고 커피를 줍니다.\n",
            "돈을 넣어주세요: 900\n",
            "거스름돈 600를 주고 커피를 줍니다.\n",
            "돈을 넣어주세요: 400\n",
            "거스름돈 100를 주고 커피를 줍니다.\n",
            "돈을 넣어주세요: 500\n",
            "거스름돈 200를 주고 커피를 줍니다.\n",
            "돈을 넣어주세요: 600\n",
            "거스름돈 300를 주고 커피를 줍니다.\n",
            "커피가 다 떨어졌습니다.판매를 중지합니다.\n"
          ]
        }
      ]
    },
    {
      "cell_type": "code",
      "source": [
        "a = 0\n",
        "while a < 10:\n",
        "  a = a + 1\n",
        "  if a % 2 == 0: continue\n",
        "  print(a)"
      ],
      "metadata": {
        "colab": {
          "base_uri": "https://localhost:8080/"
        },
        "id": "hcgTdGh7YX6l",
        "outputId": "5abf6e50-600e-4e77-eceb-8ae4ebf156b6"
      },
      "execution_count": null,
      "outputs": [
        {
          "output_type": "stream",
          "name": "stdout",
          "text": [
            "1\n",
            "3\n",
            "5\n",
            "7\n",
            "9\n"
          ]
        }
      ]
    },
    {
      "cell_type": "markdown",
      "source": [
        "#for문"
      ],
      "metadata": {
        "id": "5B2Jkms-YwLg"
      }
    },
    {
      "cell_type": "code",
      "source": [
        "test_list = ['one','two','three']\n",
        "for i in test_list:\n",
        "  print(i)"
      ],
      "metadata": {
        "colab": {
          "base_uri": "https://localhost:8080/"
        },
        "id": "h7e0PPJAYyGv",
        "outputId": "7f293af5-03d0-46c9-a8e9-667377134ab3"
      },
      "execution_count": null,
      "outputs": [
        {
          "output_type": "stream",
          "name": "stdout",
          "text": [
            "one\n",
            "two\n",
            "three\n"
          ]
        }
      ]
    },
    {
      "cell_type": "code",
      "source": [
        "a = [(1,2), (3,4), (5,6)]\n",
        "for (first, last) in a:\n",
        "  print(first + last)"
      ],
      "metadata": {
        "colab": {
          "base_uri": "https://localhost:8080/"
        },
        "id": "uF0T8ZDqY-MN",
        "outputId": "ac58e62b-2112-44d6-9a62-e65f640dfee9"
      },
      "execution_count": null,
      "outputs": [
        {
          "output_type": "stream",
          "name": "stdout",
          "text": [
            "3\n",
            "7\n",
            "11\n"
          ]
        }
      ]
    },
    {
      "cell_type": "code",
      "source": [
        "marks = [90, 25, 67, 45, 80]\n",
        "number = 0\n",
        "for mark in marks:\n",
        "  number = number + 1\n",
        "  if mark >= 60:\n",
        "    print(\"%d번 학생은 합격입니다.\" % number)\n",
        "  else:\n",
        "    print(\"%d번 학생은 불합격입니다.\" % number)"
      ],
      "metadata": {
        "colab": {
          "base_uri": "https://localhost:8080/"
        },
        "id": "rKiTayVGZH4t",
        "outputId": "b5c15aa0-2b57-46ce-bdef-6833d185abb7"
      },
      "execution_count": null,
      "outputs": [
        {
          "output_type": "stream",
          "name": "stdout",
          "text": [
            "1번 학생은 합격입니다.\n",
            "2번 학생은 불합격입니다.\n",
            "3번 학생은 합격입니다.\n",
            "4번 학생은 불합격입니다.\n",
            "5번 학생은 합격입니다.\n"
          ]
        }
      ]
    },
    {
      "cell_type": "code",
      "source": [
        "marks = [90, 25, 67, 45, 80]\n",
        "number = 0\n",
        "for mark in marks:\n",
        "  number = number + 1\n",
        "  if mark < 60:\n",
        "    continue\n",
        "  print(\"%d번 학생 축하합니다. 합격입니다.\" % number)"
      ],
      "metadata": {
        "colab": {
          "base_uri": "https://localhost:8080/"
        },
        "id": "b9b4fkMrcnxm",
        "outputId": "22c5afa7-dc87-4ec8-fa08-5ba715c6e4ea"
      },
      "execution_count": null,
      "outputs": [
        {
          "output_type": "stream",
          "name": "stdout",
          "text": [
            "1번 학생 축하합니다. 합격입니다.\n",
            "3번 학생 축하합니다. 합격입니다.\n",
            "5번 학생 축하합니다. 합격입니다.\n"
          ]
        }
      ]
    },
    {
      "cell_type": "code",
      "source": [
        "a = range(0 ,11)\n",
        "a"
      ],
      "metadata": {
        "colab": {
          "base_uri": "https://localhost:8080/"
        },
        "id": "3yVgoEyOiL9h",
        "outputId": "f930f5da-1804-4bc8-dbff-62d01949a80d"
      },
      "execution_count": null,
      "outputs": [
        {
          "output_type": "execute_result",
          "data": {
            "text/plain": [
              "range(0, 11)"
            ]
          },
          "metadata": {},
          "execution_count": 35
        }
      ]
    },
    {
      "cell_type": "code",
      "source": [
        "add = 0\n",
        "for i in range(1,11):\n",
        "  add = add + i\n",
        "print(add)"
      ],
      "metadata": {
        "colab": {
          "base_uri": "https://localhost:8080/"
        },
        "id": "jELcjox9iRFE",
        "outputId": "a6366f63-85ff-472e-8cbb-0ea04027d3bf"
      },
      "execution_count": null,
      "outputs": [
        {
          "output_type": "stream",
          "name": "stdout",
          "text": [
            "55\n"
          ]
        }
      ]
    },
    {
      "cell_type": "code",
      "source": [
        "marks = [90, 25, 67, 45, 80]\n",
        "len(marks)\n",
        "for number in range(len(marks)):\n",
        "  if marks[number] < 60:\n",
        "    continue\n",
        "  print(\"%d번 학생 축하합니다. 합격입니다.\" % (number+1))\n",
        "# number는 0부터 len(marks)=5, 5-1=4까지 동작"
      ],
      "metadata": {
        "colab": {
          "base_uri": "https://localhost:8080/"
        },
        "id": "iAO6emtxieYn",
        "outputId": "5c558f7e-266c-43b1-a05d-f0c53a0328c8"
      },
      "execution_count": null,
      "outputs": [
        {
          "output_type": "stream",
          "name": "stdout",
          "text": [
            "1번 학생 축하합니다. 합격입니다.\n",
            "3번 학생 축하합니다. 합격입니다.\n",
            "5번 학생 축하합니다. 합격입니다.\n"
          ]
        }
      ]
    },
    {
      "cell_type": "code",
      "source": [
        "for i in range(2,10):\n",
        "  for j in range(1,10):\n",
        "    print(i*j, end = \" \")\n",
        "  print('') # 다음 줄로 넘어가기"
      ],
      "metadata": {
        "colab": {
          "base_uri": "https://localhost:8080/"
        },
        "id": "aEFEGjbRj3pY",
        "outputId": "25c9f763-7ebe-41cf-ec48-5797923c5e0c"
      },
      "execution_count": null,
      "outputs": [
        {
          "output_type": "stream",
          "name": "stdout",
          "text": [
            "2 4 6 8 10 12 14 16 18 \n",
            "3 6 9 12 15 18 21 24 27 \n",
            "4 8 12 16 20 24 28 32 36 \n",
            "5 10 15 20 25 30 35 40 45 \n",
            "6 12 18 24 30 36 42 48 54 \n",
            "7 14 21 28 35 42 49 56 63 \n",
            "8 16 24 32 40 48 56 64 72 \n",
            "9 18 27 36 45 54 63 72 81 \n"
          ]
        }
      ]
    },
    {
      "cell_type": "code",
      "source": [
        "a = [1,2,3,4]\n",
        "result = []\n",
        "for num in a:\n",
        "  result.append(num*3)\n",
        "print(result)"
      ],
      "metadata": {
        "colab": {
          "base_uri": "https://localhost:8080/"
        },
        "id": "S_zrfEgGlIxp",
        "outputId": "f93b5ef1-ef21-44f5-f96d-23f49362549c"
      },
      "execution_count": null,
      "outputs": [
        {
          "output_type": "stream",
          "name": "stdout",
          "text": [
            "[3, 6, 9, 12]\n"
          ]
        }
      ]
    },
    {
      "cell_type": "code",
      "source": [
        "a = [1,2,3,4]\n",
        "result = [num*3 for num in a]\n",
        "print(result)"
      ],
      "metadata": {
        "colab": {
          "base_uri": "https://localhost:8080/"
        },
        "id": "B4HmwwWAliMW",
        "outputId": "f4d30c7a-aa77-4327-ce15-737172bbdec0"
      },
      "execution_count": null,
      "outputs": [
        {
          "output_type": "stream",
          "name": "stdout",
          "text": [
            "[3, 6, 9, 12]\n"
          ]
        }
      ]
    },
    {
      "cell_type": "code",
      "source": [
        "a = [1,2,3,4]\n",
        "result = [num*3 for num in a if num % 2 == 0] # 짝수인 조건\n",
        "print(result)"
      ],
      "metadata": {
        "colab": {
          "base_uri": "https://localhost:8080/"
        },
        "id": "ruf5MEIslwWO",
        "outputId": "5778c4fd-fb09-4e49-bcc1-2a9e725d386b"
      },
      "execution_count": null,
      "outputs": [
        {
          "output_type": "stream",
          "name": "stdout",
          "text": [
            "[6, 12]\n"
          ]
        }
      ]
    }
  ]
}
