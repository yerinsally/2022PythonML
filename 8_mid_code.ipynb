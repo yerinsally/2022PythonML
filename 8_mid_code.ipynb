{
  "nbformat": 4,
  "nbformat_minor": 0,
  "metadata": {
    "colab": {
      "provenance": [],
      "collapsed_sections": [
        "kYY8kFFtXUF5",
        "UHQ16OQKXjij",
        "O2CjKsQuZGze",
        "ZfEk2tj-Z-mW",
        "KO8NpHNKaTLm",
        "mUKPeaJ8eBxm",
        "FV7X66UKfwm8",
        "9T1j2jOEhOxf",
        "E7Z3_5URh0X6",
        "ebcmOOo3iZPh",
        "eLLXidGhjDGh",
        "t-YXHotijlzt",
        "d0lD0I59lGu6",
        "_o0XOLl8lkZI",
        "l8ZwO2ksl7Lc",
        "qdoEbISen6Ti",
        "I4FJ08Ecow7N",
        "vuOFXKpMo0cf",
        "Feh6JS4apbsk",
        "8DrnSon6rAZs",
        "HHyhCus3rSLZ",
        "RZ0wedEXsOIr",
        "yNUDh9P2skw9",
        "Acwhcbe5tIsq"
      ],
      "mount_file_id": "1l6U3TNajMNFEAvZXD7llmwYXC3cwJGzS",
      "authorship_tag": "ABX9TyOERMF6I+1g1pV9vHeIDmVo",
      "include_colab_link": true
    },
    "kernelspec": {
      "name": "python3",
      "display_name": "Python 3"
    },
    "language_info": {
      "name": "python"
    }
  },
  "cells": [
    {
      "cell_type": "markdown",
      "metadata": {
        "id": "view-in-github",
        "colab_type": "text"
      },
      "source": [
        "<a href=\"https://colab.research.google.com/github/yerinsally/2022_PythonML/blob/main/8_mid_code.ipynb\" target=\"_parent\"><img src=\"https://colab.research.google.com/assets/colab-badge.svg\" alt=\"Open In Colab\"/></a>"
      ]
    },
    {
      "cell_type": "code",
      "source": [
        "# Google Mount\n",
        "from google.colab import drive\n",
        "drive.mount('/content/drive')"
      ],
      "metadata": {
        "colab": {
          "base_uri": "https://localhost:8080/"
        },
        "id": "Vkg_SVwxXyFh",
        "outputId": "9d7c75dd-e4e8-41bb-e7e9-0cdca31c426a"
      },
      "execution_count": null,
      "outputs": [
        {
          "output_type": "stream",
          "name": "stdout",
          "text": [
            "Drive already mounted at /content/drive; to attempt to forcibly remount, call drive.mount(\"/content/drive\", force_remount=True).\n"
          ]
        }
      ]
    },
    {
      "cell_type": "code",
      "source": [
        "import pandas as pd\n",
        "data = pd.read_csv('/content/drive/MyDrive/Colab Notebooks/MachineLearning/data/vote.csv', encoding='utf-8')"
      ],
      "metadata": {
        "id": "bg0FWpTKYUIw"
      },
      "execution_count": null,
      "outputs": []
    },
    {
      "cell_type": "markdown",
      "source": [
        "#1. 데이터 스케일링"
      ],
      "metadata": {
        "id": "kYY8kFFtXUF5"
      }
    },
    {
      "cell_type": "markdown",
      "source": [
        "## 1-1. 데이터 : 범주 / 연속 / 레이블(y)로 나누기"
      ],
      "metadata": {
        "id": "UHQ16OQKXjij"
      }
    },
    {
      "cell_type": "code",
      "execution_count": null,
      "metadata": {
        "colab": {
          "base_uri": "https://localhost:8080/",
          "height": 206
        },
        "id": "4sF2ziMMULX9",
        "outputId": "7b30e77d-933d-431e-d8b7-82f466fa1d24"
      },
      "outputs": [
        {
          "output_type": "execute_result",
          "data": {
            "text/plain": [
              "   gender  region\n",
              "0       1       4\n",
              "1       1       5\n",
              "2       1       3\n",
              "3       2       1\n",
              "4       1       1"
            ],
            "text/html": [
              "\n",
              "  <div id=\"df-b51a13b0-9e60-4f7b-bab3-97fa60d20903\">\n",
              "    <div class=\"colab-df-container\">\n",
              "      <div>\n",
              "<style scoped>\n",
              "    .dataframe tbody tr th:only-of-type {\n",
              "        vertical-align: middle;\n",
              "    }\n",
              "\n",
              "    .dataframe tbody tr th {\n",
              "        vertical-align: top;\n",
              "    }\n",
              "\n",
              "    .dataframe thead th {\n",
              "        text-align: right;\n",
              "    }\n",
              "</style>\n",
              "<table border=\"1\" class=\"dataframe\">\n",
              "  <thead>\n",
              "    <tr style=\"text-align: right;\">\n",
              "      <th></th>\n",
              "      <th>gender</th>\n",
              "      <th>region</th>\n",
              "    </tr>\n",
              "  </thead>\n",
              "  <tbody>\n",
              "    <tr>\n",
              "      <th>0</th>\n",
              "      <td>1</td>\n",
              "      <td>4</td>\n",
              "    </tr>\n",
              "    <tr>\n",
              "      <th>1</th>\n",
              "      <td>1</td>\n",
              "      <td>5</td>\n",
              "    </tr>\n",
              "    <tr>\n",
              "      <th>2</th>\n",
              "      <td>1</td>\n",
              "      <td>3</td>\n",
              "    </tr>\n",
              "    <tr>\n",
              "      <th>3</th>\n",
              "      <td>2</td>\n",
              "      <td>1</td>\n",
              "    </tr>\n",
              "    <tr>\n",
              "      <th>4</th>\n",
              "      <td>1</td>\n",
              "      <td>1</td>\n",
              "    </tr>\n",
              "  </tbody>\n",
              "</table>\n",
              "</div>\n",
              "      <button class=\"colab-df-convert\" onclick=\"convertToInteractive('df-b51a13b0-9e60-4f7b-bab3-97fa60d20903')\"\n",
              "              title=\"Convert this dataframe to an interactive table.\"\n",
              "              style=\"display:none;\">\n",
              "        \n",
              "  <svg xmlns=\"http://www.w3.org/2000/svg\" height=\"24px\"viewBox=\"0 0 24 24\"\n",
              "       width=\"24px\">\n",
              "    <path d=\"M0 0h24v24H0V0z\" fill=\"none\"/>\n",
              "    <path d=\"M18.56 5.44l.94 2.06.94-2.06 2.06-.94-2.06-.94-.94-2.06-.94 2.06-2.06.94zm-11 1L8.5 8.5l.94-2.06 2.06-.94-2.06-.94L8.5 2.5l-.94 2.06-2.06.94zm10 10l.94 2.06.94-2.06 2.06-.94-2.06-.94-.94-2.06-.94 2.06-2.06.94z\"/><path d=\"M17.41 7.96l-1.37-1.37c-.4-.4-.92-.59-1.43-.59-.52 0-1.04.2-1.43.59L10.3 9.45l-7.72 7.72c-.78.78-.78 2.05 0 2.83L4 21.41c.39.39.9.59 1.41.59.51 0 1.02-.2 1.41-.59l7.78-7.78 2.81-2.81c.8-.78.8-2.07 0-2.86zM5.41 20L4 18.59l7.72-7.72 1.47 1.35L5.41 20z\"/>\n",
              "  </svg>\n",
              "      </button>\n",
              "      \n",
              "  <style>\n",
              "    .colab-df-container {\n",
              "      display:flex;\n",
              "      flex-wrap:wrap;\n",
              "      gap: 12px;\n",
              "    }\n",
              "\n",
              "    .colab-df-convert {\n",
              "      background-color: #E8F0FE;\n",
              "      border: none;\n",
              "      border-radius: 50%;\n",
              "      cursor: pointer;\n",
              "      display: none;\n",
              "      fill: #1967D2;\n",
              "      height: 32px;\n",
              "      padding: 0 0 0 0;\n",
              "      width: 32px;\n",
              "    }\n",
              "\n",
              "    .colab-df-convert:hover {\n",
              "      background-color: #E2EBFA;\n",
              "      box-shadow: 0px 1px 2px rgba(60, 64, 67, 0.3), 0px 1px 3px 1px rgba(60, 64, 67, 0.15);\n",
              "      fill: #174EA6;\n",
              "    }\n",
              "\n",
              "    [theme=dark] .colab-df-convert {\n",
              "      background-color: #3B4455;\n",
              "      fill: #D2E3FC;\n",
              "    }\n",
              "\n",
              "    [theme=dark] .colab-df-convert:hover {\n",
              "      background-color: #434B5C;\n",
              "      box-shadow: 0px 1px 3px 1px rgba(0, 0, 0, 0.15);\n",
              "      filter: drop-shadow(0px 1px 2px rgba(0, 0, 0, 0.3));\n",
              "      fill: #FFFFFF;\n",
              "    }\n",
              "  </style>\n",
              "\n",
              "      <script>\n",
              "        const buttonEl =\n",
              "          document.querySelector('#df-b51a13b0-9e60-4f7b-bab3-97fa60d20903 button.colab-df-convert');\n",
              "        buttonEl.style.display =\n",
              "          google.colab.kernel.accessAllowed ? 'block' : 'none';\n",
              "\n",
              "        async function convertToInteractive(key) {\n",
              "          const element = document.querySelector('#df-b51a13b0-9e60-4f7b-bab3-97fa60d20903');\n",
              "          const dataTable =\n",
              "            await google.colab.kernel.invokeFunction('convertToInteractive',\n",
              "                                                     [key], {});\n",
              "          if (!dataTable) return;\n",
              "\n",
              "          const docLinkHtml = 'Like what you see? Visit the ' +\n",
              "            '<a target=\"_blank\" href=https://colab.research.google.com/notebooks/data_table.ipynb>data table notebook</a>'\n",
              "            + ' to learn more about interactive tables.';\n",
              "          element.innerHTML = '';\n",
              "          dataTable['output_type'] = 'display_data';\n",
              "          await google.colab.output.renderOutput(dataTable, element);\n",
              "          const docLink = document.createElement('div');\n",
              "          docLink.innerHTML = docLinkHtml;\n",
              "          element.appendChild(docLink);\n",
              "        }\n",
              "      </script>\n",
              "    </div>\n",
              "  </div>\n",
              "  "
            ]
          },
          "metadata": {},
          "execution_count": 4
        }
      ],
      "source": [
        "# 범주형 변수 = X1\n",
        "X1 = data[['gender', 'region']]\n",
        "X1.head()"
      ]
    },
    {
      "cell_type": "code",
      "source": [
        "# 연속형 변수 = X2\n",
        "X2 = data[['edu', 'income', 'age', 'score_gov', 'score_progress', 'score_intention']]\n",
        "X2.head()"
      ],
      "metadata": {
        "colab": {
          "base_uri": "https://localhost:8080/",
          "height": 206
        },
        "id": "lnOyRC2YYulN",
        "outputId": "82d7cb4c-25e1-4404-d692-85b7b2352716"
      },
      "execution_count": null,
      "outputs": [
        {
          "output_type": "execute_result",
          "data": {
            "text/plain": [
              "   edu  income  age  score_gov  score_progress  score_intention\n",
              "0    3       3    3          2               2              4.0\n",
              "1    2       3    3          2               4              3.0\n",
              "2    1       2    4          1               3              2.8\n",
              "3    2       1    3          5               4              2.6\n",
              "4    1       2    4          4               3              2.4"
            ],
            "text/html": [
              "\n",
              "  <div id=\"df-b2f1d77f-17fd-4cb9-8ec0-9d750a498942\">\n",
              "    <div class=\"colab-df-container\">\n",
              "      <div>\n",
              "<style scoped>\n",
              "    .dataframe tbody tr th:only-of-type {\n",
              "        vertical-align: middle;\n",
              "    }\n",
              "\n",
              "    .dataframe tbody tr th {\n",
              "        vertical-align: top;\n",
              "    }\n",
              "\n",
              "    .dataframe thead th {\n",
              "        text-align: right;\n",
              "    }\n",
              "</style>\n",
              "<table border=\"1\" class=\"dataframe\">\n",
              "  <thead>\n",
              "    <tr style=\"text-align: right;\">\n",
              "      <th></th>\n",
              "      <th>edu</th>\n",
              "      <th>income</th>\n",
              "      <th>age</th>\n",
              "      <th>score_gov</th>\n",
              "      <th>score_progress</th>\n",
              "      <th>score_intention</th>\n",
              "    </tr>\n",
              "  </thead>\n",
              "  <tbody>\n",
              "    <tr>\n",
              "      <th>0</th>\n",
              "      <td>3</td>\n",
              "      <td>3</td>\n",
              "      <td>3</td>\n",
              "      <td>2</td>\n",
              "      <td>2</td>\n",
              "      <td>4.0</td>\n",
              "    </tr>\n",
              "    <tr>\n",
              "      <th>1</th>\n",
              "      <td>2</td>\n",
              "      <td>3</td>\n",
              "      <td>3</td>\n",
              "      <td>2</td>\n",
              "      <td>4</td>\n",
              "      <td>3.0</td>\n",
              "    </tr>\n",
              "    <tr>\n",
              "      <th>2</th>\n",
              "      <td>1</td>\n",
              "      <td>2</td>\n",
              "      <td>4</td>\n",
              "      <td>1</td>\n",
              "      <td>3</td>\n",
              "      <td>2.8</td>\n",
              "    </tr>\n",
              "    <tr>\n",
              "      <th>3</th>\n",
              "      <td>2</td>\n",
              "      <td>1</td>\n",
              "      <td>3</td>\n",
              "      <td>5</td>\n",
              "      <td>4</td>\n",
              "      <td>2.6</td>\n",
              "    </tr>\n",
              "    <tr>\n",
              "      <th>4</th>\n",
              "      <td>1</td>\n",
              "      <td>2</td>\n",
              "      <td>4</td>\n",
              "      <td>4</td>\n",
              "      <td>3</td>\n",
              "      <td>2.4</td>\n",
              "    </tr>\n",
              "  </tbody>\n",
              "</table>\n",
              "</div>\n",
              "      <button class=\"colab-df-convert\" onclick=\"convertToInteractive('df-b2f1d77f-17fd-4cb9-8ec0-9d750a498942')\"\n",
              "              title=\"Convert this dataframe to an interactive table.\"\n",
              "              style=\"display:none;\">\n",
              "        \n",
              "  <svg xmlns=\"http://www.w3.org/2000/svg\" height=\"24px\"viewBox=\"0 0 24 24\"\n",
              "       width=\"24px\">\n",
              "    <path d=\"M0 0h24v24H0V0z\" fill=\"none\"/>\n",
              "    <path d=\"M18.56 5.44l.94 2.06.94-2.06 2.06-.94-2.06-.94-.94-2.06-.94 2.06-2.06.94zm-11 1L8.5 8.5l.94-2.06 2.06-.94-2.06-.94L8.5 2.5l-.94 2.06-2.06.94zm10 10l.94 2.06.94-2.06 2.06-.94-2.06-.94-.94-2.06-.94 2.06-2.06.94z\"/><path d=\"M17.41 7.96l-1.37-1.37c-.4-.4-.92-.59-1.43-.59-.52 0-1.04.2-1.43.59L10.3 9.45l-7.72 7.72c-.78.78-.78 2.05 0 2.83L4 21.41c.39.39.9.59 1.41.59.51 0 1.02-.2 1.41-.59l7.78-7.78 2.81-2.81c.8-.78.8-2.07 0-2.86zM5.41 20L4 18.59l7.72-7.72 1.47 1.35L5.41 20z\"/>\n",
              "  </svg>\n",
              "      </button>\n",
              "      \n",
              "  <style>\n",
              "    .colab-df-container {\n",
              "      display:flex;\n",
              "      flex-wrap:wrap;\n",
              "      gap: 12px;\n",
              "    }\n",
              "\n",
              "    .colab-df-convert {\n",
              "      background-color: #E8F0FE;\n",
              "      border: none;\n",
              "      border-radius: 50%;\n",
              "      cursor: pointer;\n",
              "      display: none;\n",
              "      fill: #1967D2;\n",
              "      height: 32px;\n",
              "      padding: 0 0 0 0;\n",
              "      width: 32px;\n",
              "    }\n",
              "\n",
              "    .colab-df-convert:hover {\n",
              "      background-color: #E2EBFA;\n",
              "      box-shadow: 0px 1px 2px rgba(60, 64, 67, 0.3), 0px 1px 3px 1px rgba(60, 64, 67, 0.15);\n",
              "      fill: #174EA6;\n",
              "    }\n",
              "\n",
              "    [theme=dark] .colab-df-convert {\n",
              "      background-color: #3B4455;\n",
              "      fill: #D2E3FC;\n",
              "    }\n",
              "\n",
              "    [theme=dark] .colab-df-convert:hover {\n",
              "      background-color: #434B5C;\n",
              "      box-shadow: 0px 1px 3px 1px rgba(0, 0, 0, 0.15);\n",
              "      filter: drop-shadow(0px 1px 2px rgba(0, 0, 0, 0.3));\n",
              "      fill: #FFFFFF;\n",
              "    }\n",
              "  </style>\n",
              "\n",
              "      <script>\n",
              "        const buttonEl =\n",
              "          document.querySelector('#df-b2f1d77f-17fd-4cb9-8ec0-9d750a498942 button.colab-df-convert');\n",
              "        buttonEl.style.display =\n",
              "          google.colab.kernel.accessAllowed ? 'block' : 'none';\n",
              "\n",
              "        async function convertToInteractive(key) {\n",
              "          const element = document.querySelector('#df-b2f1d77f-17fd-4cb9-8ec0-9d750a498942');\n",
              "          const dataTable =\n",
              "            await google.colab.kernel.invokeFunction('convertToInteractive',\n",
              "                                                     [key], {});\n",
              "          if (!dataTable) return;\n",
              "\n",
              "          const docLinkHtml = 'Like what you see? Visit the ' +\n",
              "            '<a target=\"_blank\" href=https://colab.research.google.com/notebooks/data_table.ipynb>data table notebook</a>'\n",
              "            + ' to learn more about interactive tables.';\n",
              "          element.innerHTML = '';\n",
              "          dataTable['output_type'] = 'display_data';\n",
              "          await google.colab.output.renderOutput(dataTable, element);\n",
              "          const docLink = document.createElement('div');\n",
              "          docLink.innerHTML = docLinkHtml;\n",
              "          element.appendChild(docLink);\n",
              "        }\n",
              "      </script>\n",
              "    </div>\n",
              "  </div>\n",
              "  "
            ]
          },
          "metadata": {},
          "execution_count": 5
        }
      ]
    },
    {
      "cell_type": "code",
      "source": [
        "y = data[['vote', 'parties']]\n",
        "y.head()"
      ],
      "metadata": {
        "colab": {
          "base_uri": "https://localhost:8080/",
          "height": 206
        },
        "id": "YQ8rKo-2Y8GG",
        "outputId": "d9f28e22-654a-420b-adc0-85a57bc34899"
      },
      "execution_count": null,
      "outputs": [
        {
          "output_type": "execute_result",
          "data": {
            "text/plain": [
              "   vote  parties\n",
              "0     1        2\n",
              "1     0        3\n",
              "2     1        4\n",
              "3     1        1\n",
              "4     1        1"
            ],
            "text/html": [
              "\n",
              "  <div id=\"df-c9740e7f-a458-4d5b-b8d0-dccbaff16037\">\n",
              "    <div class=\"colab-df-container\">\n",
              "      <div>\n",
              "<style scoped>\n",
              "    .dataframe tbody tr th:only-of-type {\n",
              "        vertical-align: middle;\n",
              "    }\n",
              "\n",
              "    .dataframe tbody tr th {\n",
              "        vertical-align: top;\n",
              "    }\n",
              "\n",
              "    .dataframe thead th {\n",
              "        text-align: right;\n",
              "    }\n",
              "</style>\n",
              "<table border=\"1\" class=\"dataframe\">\n",
              "  <thead>\n",
              "    <tr style=\"text-align: right;\">\n",
              "      <th></th>\n",
              "      <th>vote</th>\n",
              "      <th>parties</th>\n",
              "    </tr>\n",
              "  </thead>\n",
              "  <tbody>\n",
              "    <tr>\n",
              "      <th>0</th>\n",
              "      <td>1</td>\n",
              "      <td>2</td>\n",
              "    </tr>\n",
              "    <tr>\n",
              "      <th>1</th>\n",
              "      <td>0</td>\n",
              "      <td>3</td>\n",
              "    </tr>\n",
              "    <tr>\n",
              "      <th>2</th>\n",
              "      <td>1</td>\n",
              "      <td>4</td>\n",
              "    </tr>\n",
              "    <tr>\n",
              "      <th>3</th>\n",
              "      <td>1</td>\n",
              "      <td>1</td>\n",
              "    </tr>\n",
              "    <tr>\n",
              "      <th>4</th>\n",
              "      <td>1</td>\n",
              "      <td>1</td>\n",
              "    </tr>\n",
              "  </tbody>\n",
              "</table>\n",
              "</div>\n",
              "      <button class=\"colab-df-convert\" onclick=\"convertToInteractive('df-c9740e7f-a458-4d5b-b8d0-dccbaff16037')\"\n",
              "              title=\"Convert this dataframe to an interactive table.\"\n",
              "              style=\"display:none;\">\n",
              "        \n",
              "  <svg xmlns=\"http://www.w3.org/2000/svg\" height=\"24px\"viewBox=\"0 0 24 24\"\n",
              "       width=\"24px\">\n",
              "    <path d=\"M0 0h24v24H0V0z\" fill=\"none\"/>\n",
              "    <path d=\"M18.56 5.44l.94 2.06.94-2.06 2.06-.94-2.06-.94-.94-2.06-.94 2.06-2.06.94zm-11 1L8.5 8.5l.94-2.06 2.06-.94-2.06-.94L8.5 2.5l-.94 2.06-2.06.94zm10 10l.94 2.06.94-2.06 2.06-.94-2.06-.94-.94-2.06-.94 2.06-2.06.94z\"/><path d=\"M17.41 7.96l-1.37-1.37c-.4-.4-.92-.59-1.43-.59-.52 0-1.04.2-1.43.59L10.3 9.45l-7.72 7.72c-.78.78-.78 2.05 0 2.83L4 21.41c.39.39.9.59 1.41.59.51 0 1.02-.2 1.41-.59l7.78-7.78 2.81-2.81c.8-.78.8-2.07 0-2.86zM5.41 20L4 18.59l7.72-7.72 1.47 1.35L5.41 20z\"/>\n",
              "  </svg>\n",
              "      </button>\n",
              "      \n",
              "  <style>\n",
              "    .colab-df-container {\n",
              "      display:flex;\n",
              "      flex-wrap:wrap;\n",
              "      gap: 12px;\n",
              "    }\n",
              "\n",
              "    .colab-df-convert {\n",
              "      background-color: #E8F0FE;\n",
              "      border: none;\n",
              "      border-radius: 50%;\n",
              "      cursor: pointer;\n",
              "      display: none;\n",
              "      fill: #1967D2;\n",
              "      height: 32px;\n",
              "      padding: 0 0 0 0;\n",
              "      width: 32px;\n",
              "    }\n",
              "\n",
              "    .colab-df-convert:hover {\n",
              "      background-color: #E2EBFA;\n",
              "      box-shadow: 0px 1px 2px rgba(60, 64, 67, 0.3), 0px 1px 3px 1px rgba(60, 64, 67, 0.15);\n",
              "      fill: #174EA6;\n",
              "    }\n",
              "\n",
              "    [theme=dark] .colab-df-convert {\n",
              "      background-color: #3B4455;\n",
              "      fill: #D2E3FC;\n",
              "    }\n",
              "\n",
              "    [theme=dark] .colab-df-convert:hover {\n",
              "      background-color: #434B5C;\n",
              "      box-shadow: 0px 1px 3px 1px rgba(0, 0, 0, 0.15);\n",
              "      filter: drop-shadow(0px 1px 2px rgba(0, 0, 0, 0.3));\n",
              "      fill: #FFFFFF;\n",
              "    }\n",
              "  </style>\n",
              "\n",
              "      <script>\n",
              "        const buttonEl =\n",
              "          document.querySelector('#df-c9740e7f-a458-4d5b-b8d0-dccbaff16037 button.colab-df-convert');\n",
              "        buttonEl.style.display =\n",
              "          google.colab.kernel.accessAllowed ? 'block' : 'none';\n",
              "\n",
              "        async function convertToInteractive(key) {\n",
              "          const element = document.querySelector('#df-c9740e7f-a458-4d5b-b8d0-dccbaff16037');\n",
              "          const dataTable =\n",
              "            await google.colab.kernel.invokeFunction('convertToInteractive',\n",
              "                                                     [key], {});\n",
              "          if (!dataTable) return;\n",
              "\n",
              "          const docLinkHtml = 'Like what you see? Visit the ' +\n",
              "            '<a target=\"_blank\" href=https://colab.research.google.com/notebooks/data_table.ipynb>data table notebook</a>'\n",
              "            + ' to learn more about interactive tables.';\n",
              "          element.innerHTML = '';\n",
              "          dataTable['output_type'] = 'display_data';\n",
              "          await google.colab.output.renderOutput(dataTable, element);\n",
              "          const docLink = document.createElement('div');\n",
              "          docLink.innerHTML = docLinkHtml;\n",
              "          element.appendChild(docLink);\n",
              "        }\n",
              "      </script>\n",
              "    </div>\n",
              "  </div>\n",
              "  "
            ]
          },
          "metadata": {},
          "execution_count": 6
        }
      ]
    },
    {
      "cell_type": "markdown",
      "source": [
        "## 1-2. 범주형 변수 : One-hot Encoding"
      ],
      "metadata": {
        "id": "O2CjKsQuZGze"
      }
    },
    {
      "cell_type": "code",
      "source": [
        "# replace : 변수명 변환\n",
        "X1['gender'] = X1['gender'].replace([1,2], ['male', 'female']) # 1=male, 2=female\n",
        "X1.head()"
      ],
      "metadata": {
        "colab": {
          "base_uri": "https://localhost:8080/",
          "height": 335
        },
        "id": "q7maaVQVY8Nw",
        "outputId": "7d872c8d-1312-45a4-8a6f-da992416234b"
      },
      "execution_count": null,
      "outputs": [
        {
          "output_type": "stream",
          "name": "stderr",
          "text": [
            "/usr/local/lib/python3.7/dist-packages/ipykernel_launcher.py:2: SettingWithCopyWarning: \n",
            "A value is trying to be set on a copy of a slice from a DataFrame.\n",
            "Try using .loc[row_indexer,col_indexer] = value instead\n",
            "\n",
            "See the caveats in the documentation: https://pandas.pydata.org/pandas-docs/stable/user_guide/indexing.html#returning-a-view-versus-a-copy\n",
            "  \n"
          ]
        },
        {
          "output_type": "execute_result",
          "data": {
            "text/plain": [
              "   gender  region\n",
              "0    male       4\n",
              "1    male       5\n",
              "2    male       3\n",
              "3  female       1\n",
              "4    male       1"
            ],
            "text/html": [
              "\n",
              "  <div id=\"df-ea5f8213-8123-43d6-846e-ff6b24fe9099\">\n",
              "    <div class=\"colab-df-container\">\n",
              "      <div>\n",
              "<style scoped>\n",
              "    .dataframe tbody tr th:only-of-type {\n",
              "        vertical-align: middle;\n",
              "    }\n",
              "\n",
              "    .dataframe tbody tr th {\n",
              "        vertical-align: top;\n",
              "    }\n",
              "\n",
              "    .dataframe thead th {\n",
              "        text-align: right;\n",
              "    }\n",
              "</style>\n",
              "<table border=\"1\" class=\"dataframe\">\n",
              "  <thead>\n",
              "    <tr style=\"text-align: right;\">\n",
              "      <th></th>\n",
              "      <th>gender</th>\n",
              "      <th>region</th>\n",
              "    </tr>\n",
              "  </thead>\n",
              "  <tbody>\n",
              "    <tr>\n",
              "      <th>0</th>\n",
              "      <td>male</td>\n",
              "      <td>4</td>\n",
              "    </tr>\n",
              "    <tr>\n",
              "      <th>1</th>\n",
              "      <td>male</td>\n",
              "      <td>5</td>\n",
              "    </tr>\n",
              "    <tr>\n",
              "      <th>2</th>\n",
              "      <td>male</td>\n",
              "      <td>3</td>\n",
              "    </tr>\n",
              "    <tr>\n",
              "      <th>3</th>\n",
              "      <td>female</td>\n",
              "      <td>1</td>\n",
              "    </tr>\n",
              "    <tr>\n",
              "      <th>4</th>\n",
              "      <td>male</td>\n",
              "      <td>1</td>\n",
              "    </tr>\n",
              "  </tbody>\n",
              "</table>\n",
              "</div>\n",
              "      <button class=\"colab-df-convert\" onclick=\"convertToInteractive('df-ea5f8213-8123-43d6-846e-ff6b24fe9099')\"\n",
              "              title=\"Convert this dataframe to an interactive table.\"\n",
              "              style=\"display:none;\">\n",
              "        \n",
              "  <svg xmlns=\"http://www.w3.org/2000/svg\" height=\"24px\"viewBox=\"0 0 24 24\"\n",
              "       width=\"24px\">\n",
              "    <path d=\"M0 0h24v24H0V0z\" fill=\"none\"/>\n",
              "    <path d=\"M18.56 5.44l.94 2.06.94-2.06 2.06-.94-2.06-.94-.94-2.06-.94 2.06-2.06.94zm-11 1L8.5 8.5l.94-2.06 2.06-.94-2.06-.94L8.5 2.5l-.94 2.06-2.06.94zm10 10l.94 2.06.94-2.06 2.06-.94-2.06-.94-.94-2.06-.94 2.06-2.06.94z\"/><path d=\"M17.41 7.96l-1.37-1.37c-.4-.4-.92-.59-1.43-.59-.52 0-1.04.2-1.43.59L10.3 9.45l-7.72 7.72c-.78.78-.78 2.05 0 2.83L4 21.41c.39.39.9.59 1.41.59.51 0 1.02-.2 1.41-.59l7.78-7.78 2.81-2.81c.8-.78.8-2.07 0-2.86zM5.41 20L4 18.59l7.72-7.72 1.47 1.35L5.41 20z\"/>\n",
              "  </svg>\n",
              "      </button>\n",
              "      \n",
              "  <style>\n",
              "    .colab-df-container {\n",
              "      display:flex;\n",
              "      flex-wrap:wrap;\n",
              "      gap: 12px;\n",
              "    }\n",
              "\n",
              "    .colab-df-convert {\n",
              "      background-color: #E8F0FE;\n",
              "      border: none;\n",
              "      border-radius: 50%;\n",
              "      cursor: pointer;\n",
              "      display: none;\n",
              "      fill: #1967D2;\n",
              "      height: 32px;\n",
              "      padding: 0 0 0 0;\n",
              "      width: 32px;\n",
              "    }\n",
              "\n",
              "    .colab-df-convert:hover {\n",
              "      background-color: #E2EBFA;\n",
              "      box-shadow: 0px 1px 2px rgba(60, 64, 67, 0.3), 0px 1px 3px 1px rgba(60, 64, 67, 0.15);\n",
              "      fill: #174EA6;\n",
              "    }\n",
              "\n",
              "    [theme=dark] .colab-df-convert {\n",
              "      background-color: #3B4455;\n",
              "      fill: #D2E3FC;\n",
              "    }\n",
              "\n",
              "    [theme=dark] .colab-df-convert:hover {\n",
              "      background-color: #434B5C;\n",
              "      box-shadow: 0px 1px 3px 1px rgba(0, 0, 0, 0.15);\n",
              "      filter: drop-shadow(0px 1px 2px rgba(0, 0, 0, 0.3));\n",
              "      fill: #FFFFFF;\n",
              "    }\n",
              "  </style>\n",
              "\n",
              "      <script>\n",
              "        const buttonEl =\n",
              "          document.querySelector('#df-ea5f8213-8123-43d6-846e-ff6b24fe9099 button.colab-df-convert');\n",
              "        buttonEl.style.display =\n",
              "          google.colab.kernel.accessAllowed ? 'block' : 'none';\n",
              "\n",
              "        async function convertToInteractive(key) {\n",
              "          const element = document.querySelector('#df-ea5f8213-8123-43d6-846e-ff6b24fe9099');\n",
              "          const dataTable =\n",
              "            await google.colab.kernel.invokeFunction('convertToInteractive',\n",
              "                                                     [key], {});\n",
              "          if (!dataTable) return;\n",
              "\n",
              "          const docLinkHtml = 'Like what you see? Visit the ' +\n",
              "            '<a target=\"_blank\" href=https://colab.research.google.com/notebooks/data_table.ipynb>data table notebook</a>'\n",
              "            + ' to learn more about interactive tables.';\n",
              "          element.innerHTML = '';\n",
              "          dataTable['output_type'] = 'display_data';\n",
              "          await google.colab.output.renderOutput(dataTable, element);\n",
              "          const docLink = document.createElement('div');\n",
              "          docLink.innerHTML = docLinkHtml;\n",
              "          element.appendChild(docLink);\n",
              "        }\n",
              "      </script>\n",
              "    </div>\n",
              "  </div>\n",
              "  "
            ]
          },
          "metadata": {},
          "execution_count": 8
        }
      ]
    },
    {
      "cell_type": "code",
      "source": [
        "X1['region'] = X1['region'].replace([1,2,3,4,5], ['Sudo', 'Chungcheung', 'Honam', 'Youngnam', 'Others'])\n",
        "X1.head()"
      ],
      "metadata": {
        "colab": {
          "base_uri": "https://localhost:8080/",
          "height": 335
        },
        "id": "sa60owwCY8RB",
        "outputId": "41904500-4118-42e1-c042-f985537f31be"
      },
      "execution_count": null,
      "outputs": [
        {
          "output_type": "stream",
          "name": "stderr",
          "text": [
            "/usr/local/lib/python3.7/dist-packages/ipykernel_launcher.py:1: SettingWithCopyWarning: \n",
            "A value is trying to be set on a copy of a slice from a DataFrame.\n",
            "Try using .loc[row_indexer,col_indexer] = value instead\n",
            "\n",
            "See the caveats in the documentation: https://pandas.pydata.org/pandas-docs/stable/user_guide/indexing.html#returning-a-view-versus-a-copy\n",
            "  \"\"\"Entry point for launching an IPython kernel.\n"
          ]
        },
        {
          "output_type": "execute_result",
          "data": {
            "text/plain": [
              "   gender    region\n",
              "0    male  Youngnam\n",
              "1    male    Others\n",
              "2    male     Honam\n",
              "3  female      Sudo\n",
              "4    male      Sudo"
            ],
            "text/html": [
              "\n",
              "  <div id=\"df-939bf8df-1861-4352-ae3b-8522dea8f005\">\n",
              "    <div class=\"colab-df-container\">\n",
              "      <div>\n",
              "<style scoped>\n",
              "    .dataframe tbody tr th:only-of-type {\n",
              "        vertical-align: middle;\n",
              "    }\n",
              "\n",
              "    .dataframe tbody tr th {\n",
              "        vertical-align: top;\n",
              "    }\n",
              "\n",
              "    .dataframe thead th {\n",
              "        text-align: right;\n",
              "    }\n",
              "</style>\n",
              "<table border=\"1\" class=\"dataframe\">\n",
              "  <thead>\n",
              "    <tr style=\"text-align: right;\">\n",
              "      <th></th>\n",
              "      <th>gender</th>\n",
              "      <th>region</th>\n",
              "    </tr>\n",
              "  </thead>\n",
              "  <tbody>\n",
              "    <tr>\n",
              "      <th>0</th>\n",
              "      <td>male</td>\n",
              "      <td>Youngnam</td>\n",
              "    </tr>\n",
              "    <tr>\n",
              "      <th>1</th>\n",
              "      <td>male</td>\n",
              "      <td>Others</td>\n",
              "    </tr>\n",
              "    <tr>\n",
              "      <th>2</th>\n",
              "      <td>male</td>\n",
              "      <td>Honam</td>\n",
              "    </tr>\n",
              "    <tr>\n",
              "      <th>3</th>\n",
              "      <td>female</td>\n",
              "      <td>Sudo</td>\n",
              "    </tr>\n",
              "    <tr>\n",
              "      <th>4</th>\n",
              "      <td>male</td>\n",
              "      <td>Sudo</td>\n",
              "    </tr>\n",
              "  </tbody>\n",
              "</table>\n",
              "</div>\n",
              "      <button class=\"colab-df-convert\" onclick=\"convertToInteractive('df-939bf8df-1861-4352-ae3b-8522dea8f005')\"\n",
              "              title=\"Convert this dataframe to an interactive table.\"\n",
              "              style=\"display:none;\">\n",
              "        \n",
              "  <svg xmlns=\"http://www.w3.org/2000/svg\" height=\"24px\"viewBox=\"0 0 24 24\"\n",
              "       width=\"24px\">\n",
              "    <path d=\"M0 0h24v24H0V0z\" fill=\"none\"/>\n",
              "    <path d=\"M18.56 5.44l.94 2.06.94-2.06 2.06-.94-2.06-.94-.94-2.06-.94 2.06-2.06.94zm-11 1L8.5 8.5l.94-2.06 2.06-.94-2.06-.94L8.5 2.5l-.94 2.06-2.06.94zm10 10l.94 2.06.94-2.06 2.06-.94-2.06-.94-.94-2.06-.94 2.06-2.06.94z\"/><path d=\"M17.41 7.96l-1.37-1.37c-.4-.4-.92-.59-1.43-.59-.52 0-1.04.2-1.43.59L10.3 9.45l-7.72 7.72c-.78.78-.78 2.05 0 2.83L4 21.41c.39.39.9.59 1.41.59.51 0 1.02-.2 1.41-.59l7.78-7.78 2.81-2.81c.8-.78.8-2.07 0-2.86zM5.41 20L4 18.59l7.72-7.72 1.47 1.35L5.41 20z\"/>\n",
              "  </svg>\n",
              "      </button>\n",
              "      \n",
              "  <style>\n",
              "    .colab-df-container {\n",
              "      display:flex;\n",
              "      flex-wrap:wrap;\n",
              "      gap: 12px;\n",
              "    }\n",
              "\n",
              "    .colab-df-convert {\n",
              "      background-color: #E8F0FE;\n",
              "      border: none;\n",
              "      border-radius: 50%;\n",
              "      cursor: pointer;\n",
              "      display: none;\n",
              "      fill: #1967D2;\n",
              "      height: 32px;\n",
              "      padding: 0 0 0 0;\n",
              "      width: 32px;\n",
              "    }\n",
              "\n",
              "    .colab-df-convert:hover {\n",
              "      background-color: #E2EBFA;\n",
              "      box-shadow: 0px 1px 2px rgba(60, 64, 67, 0.3), 0px 1px 3px 1px rgba(60, 64, 67, 0.15);\n",
              "      fill: #174EA6;\n",
              "    }\n",
              "\n",
              "    [theme=dark] .colab-df-convert {\n",
              "      background-color: #3B4455;\n",
              "      fill: #D2E3FC;\n",
              "    }\n",
              "\n",
              "    [theme=dark] .colab-df-convert:hover {\n",
              "      background-color: #434B5C;\n",
              "      box-shadow: 0px 1px 3px 1px rgba(0, 0, 0, 0.15);\n",
              "      filter: drop-shadow(0px 1px 2px rgba(0, 0, 0, 0.3));\n",
              "      fill: #FFFFFF;\n",
              "    }\n",
              "  </style>\n",
              "\n",
              "      <script>\n",
              "        const buttonEl =\n",
              "          document.querySelector('#df-939bf8df-1861-4352-ae3b-8522dea8f005 button.colab-df-convert');\n",
              "        buttonEl.style.display =\n",
              "          google.colab.kernel.accessAllowed ? 'block' : 'none';\n",
              "\n",
              "        async function convertToInteractive(key) {\n",
              "          const element = document.querySelector('#df-939bf8df-1861-4352-ae3b-8522dea8f005');\n",
              "          const dataTable =\n",
              "            await google.colab.kernel.invokeFunction('convertToInteractive',\n",
              "                                                     [key], {});\n",
              "          if (!dataTable) return;\n",
              "\n",
              "          const docLinkHtml = 'Like what you see? Visit the ' +\n",
              "            '<a target=\"_blank\" href=https://colab.research.google.com/notebooks/data_table.ipynb>data table notebook</a>'\n",
              "            + ' to learn more about interactive tables.';\n",
              "          element.innerHTML = '';\n",
              "          dataTable['output_type'] = 'display_data';\n",
              "          await google.colab.output.renderOutput(dataTable, element);\n",
              "          const docLink = document.createElement('div');\n",
              "          docLink.innerHTML = docLinkHtml;\n",
              "          element.appendChild(docLink);\n",
              "        }\n",
              "      </script>\n",
              "    </div>\n",
              "  </div>\n",
              "  "
            ]
          },
          "metadata": {},
          "execution_count": 9
        }
      ]
    },
    {
      "cell_type": "code",
      "source": [
        "# One-hot Encoding\n",
        "X1_dum = pd.get_dummies(X1)"
      ],
      "metadata": {
        "id": "IJeJxZTKY8Ug"
      },
      "execution_count": null,
      "outputs": []
    },
    {
      "cell_type": "code",
      "source": [
        "# X1_dum은 범주형 데이터인 X1을 One-hot Encoding한 결과로 저장\n",
        "X1_dum.head()"
      ],
      "metadata": {
        "colab": {
          "base_uri": "https://localhost:8080/",
          "height": 270
        },
        "id": "VEW7eeqHY8YX",
        "outputId": "2ce25e52-30ed-470d-c143-aa82c6877ee3"
      },
      "execution_count": null,
      "outputs": [
        {
          "output_type": "execute_result",
          "data": {
            "text/plain": [
              "   gender_female  gender_male  region_Chungcheung  region_Honam  \\\n",
              "0              0            1                   0             0   \n",
              "1              0            1                   0             0   \n",
              "2              0            1                   0             1   \n",
              "3              1            0                   0             0   \n",
              "4              0            1                   0             0   \n",
              "\n",
              "   region_Others  region_Sudo  region_Youngnam  \n",
              "0              0            0                1  \n",
              "1              1            0                0  \n",
              "2              0            0                0  \n",
              "3              0            1                0  \n",
              "4              0            1                0  "
            ],
            "text/html": [
              "\n",
              "  <div id=\"df-c4aab02a-d5d2-4b7e-a19c-28fea448f205\">\n",
              "    <div class=\"colab-df-container\">\n",
              "      <div>\n",
              "<style scoped>\n",
              "    .dataframe tbody tr th:only-of-type {\n",
              "        vertical-align: middle;\n",
              "    }\n",
              "\n",
              "    .dataframe tbody tr th {\n",
              "        vertical-align: top;\n",
              "    }\n",
              "\n",
              "    .dataframe thead th {\n",
              "        text-align: right;\n",
              "    }\n",
              "</style>\n",
              "<table border=\"1\" class=\"dataframe\">\n",
              "  <thead>\n",
              "    <tr style=\"text-align: right;\">\n",
              "      <th></th>\n",
              "      <th>gender_female</th>\n",
              "      <th>gender_male</th>\n",
              "      <th>region_Chungcheung</th>\n",
              "      <th>region_Honam</th>\n",
              "      <th>region_Others</th>\n",
              "      <th>region_Sudo</th>\n",
              "      <th>region_Youngnam</th>\n",
              "    </tr>\n",
              "  </thead>\n",
              "  <tbody>\n",
              "    <tr>\n",
              "      <th>0</th>\n",
              "      <td>0</td>\n",
              "      <td>1</td>\n",
              "      <td>0</td>\n",
              "      <td>0</td>\n",
              "      <td>0</td>\n",
              "      <td>0</td>\n",
              "      <td>1</td>\n",
              "    </tr>\n",
              "    <tr>\n",
              "      <th>1</th>\n",
              "      <td>0</td>\n",
              "      <td>1</td>\n",
              "      <td>0</td>\n",
              "      <td>0</td>\n",
              "      <td>1</td>\n",
              "      <td>0</td>\n",
              "      <td>0</td>\n",
              "    </tr>\n",
              "    <tr>\n",
              "      <th>2</th>\n",
              "      <td>0</td>\n",
              "      <td>1</td>\n",
              "      <td>0</td>\n",
              "      <td>1</td>\n",
              "      <td>0</td>\n",
              "      <td>0</td>\n",
              "      <td>0</td>\n",
              "    </tr>\n",
              "    <tr>\n",
              "      <th>3</th>\n",
              "      <td>1</td>\n",
              "      <td>0</td>\n",
              "      <td>0</td>\n",
              "      <td>0</td>\n",
              "      <td>0</td>\n",
              "      <td>1</td>\n",
              "      <td>0</td>\n",
              "    </tr>\n",
              "    <tr>\n",
              "      <th>4</th>\n",
              "      <td>0</td>\n",
              "      <td>1</td>\n",
              "      <td>0</td>\n",
              "      <td>0</td>\n",
              "      <td>0</td>\n",
              "      <td>1</td>\n",
              "      <td>0</td>\n",
              "    </tr>\n",
              "  </tbody>\n",
              "</table>\n",
              "</div>\n",
              "      <button class=\"colab-df-convert\" onclick=\"convertToInteractive('df-c4aab02a-d5d2-4b7e-a19c-28fea448f205')\"\n",
              "              title=\"Convert this dataframe to an interactive table.\"\n",
              "              style=\"display:none;\">\n",
              "        \n",
              "  <svg xmlns=\"http://www.w3.org/2000/svg\" height=\"24px\"viewBox=\"0 0 24 24\"\n",
              "       width=\"24px\">\n",
              "    <path d=\"M0 0h24v24H0V0z\" fill=\"none\"/>\n",
              "    <path d=\"M18.56 5.44l.94 2.06.94-2.06 2.06-.94-2.06-.94-.94-2.06-.94 2.06-2.06.94zm-11 1L8.5 8.5l.94-2.06 2.06-.94-2.06-.94L8.5 2.5l-.94 2.06-2.06.94zm10 10l.94 2.06.94-2.06 2.06-.94-2.06-.94-.94-2.06-.94 2.06-2.06.94z\"/><path d=\"M17.41 7.96l-1.37-1.37c-.4-.4-.92-.59-1.43-.59-.52 0-1.04.2-1.43.59L10.3 9.45l-7.72 7.72c-.78.78-.78 2.05 0 2.83L4 21.41c.39.39.9.59 1.41.59.51 0 1.02-.2 1.41-.59l7.78-7.78 2.81-2.81c.8-.78.8-2.07 0-2.86zM5.41 20L4 18.59l7.72-7.72 1.47 1.35L5.41 20z\"/>\n",
              "  </svg>\n",
              "      </button>\n",
              "      \n",
              "  <style>\n",
              "    .colab-df-container {\n",
              "      display:flex;\n",
              "      flex-wrap:wrap;\n",
              "      gap: 12px;\n",
              "    }\n",
              "\n",
              "    .colab-df-convert {\n",
              "      background-color: #E8F0FE;\n",
              "      border: none;\n",
              "      border-radius: 50%;\n",
              "      cursor: pointer;\n",
              "      display: none;\n",
              "      fill: #1967D2;\n",
              "      height: 32px;\n",
              "      padding: 0 0 0 0;\n",
              "      width: 32px;\n",
              "    }\n",
              "\n",
              "    .colab-df-convert:hover {\n",
              "      background-color: #E2EBFA;\n",
              "      box-shadow: 0px 1px 2px rgba(60, 64, 67, 0.3), 0px 1px 3px 1px rgba(60, 64, 67, 0.15);\n",
              "      fill: #174EA6;\n",
              "    }\n",
              "\n",
              "    [theme=dark] .colab-df-convert {\n",
              "      background-color: #3B4455;\n",
              "      fill: #D2E3FC;\n",
              "    }\n",
              "\n",
              "    [theme=dark] .colab-df-convert:hover {\n",
              "      background-color: #434B5C;\n",
              "      box-shadow: 0px 1px 3px 1px rgba(0, 0, 0, 0.15);\n",
              "      filter: drop-shadow(0px 1px 2px rgba(0, 0, 0, 0.3));\n",
              "      fill: #FFFFFF;\n",
              "    }\n",
              "  </style>\n",
              "\n",
              "      <script>\n",
              "        const buttonEl =\n",
              "          document.querySelector('#df-c4aab02a-d5d2-4b7e-a19c-28fea448f205 button.colab-df-convert');\n",
              "        buttonEl.style.display =\n",
              "          google.colab.kernel.accessAllowed ? 'block' : 'none';\n",
              "\n",
              "        async function convertToInteractive(key) {\n",
              "          const element = document.querySelector('#df-c4aab02a-d5d2-4b7e-a19c-28fea448f205');\n",
              "          const dataTable =\n",
              "            await google.colab.kernel.invokeFunction('convertToInteractive',\n",
              "                                                     [key], {});\n",
              "          if (!dataTable) return;\n",
              "\n",
              "          const docLinkHtml = 'Like what you see? Visit the ' +\n",
              "            '<a target=\"_blank\" href=https://colab.research.google.com/notebooks/data_table.ipynb>data table notebook</a>'\n",
              "            + ' to learn more about interactive tables.';\n",
              "          element.innerHTML = '';\n",
              "          dataTable['output_type'] = 'display_data';\n",
              "          await google.colab.output.renderOutput(dataTable, element);\n",
              "          const docLink = document.createElement('div');\n",
              "          docLink.innerHTML = docLinkHtml;\n",
              "          element.appendChild(docLink);\n",
              "        }\n",
              "      </script>\n",
              "    </div>\n",
              "  </div>\n",
              "  "
            ]
          },
          "metadata": {},
          "execution_count": 11
        }
      ]
    },
    {
      "cell_type": "markdown",
      "source": [
        "## 1-3. 연속형 변수 : Scaling"
      ],
      "metadata": {
        "id": "ZfEk2tj-Z-mW"
      }
    },
    {
      "cell_type": "code",
      "source": [
        "# 연속형 데이터 상태 확인 : 그래프 출력(시각화)\n",
        "import matplotlib.pyplot as plt\n",
        "pd.DataFrame(X2).hist(figsize = (20,10))"
      ],
      "metadata": {
        "colab": {
          "base_uri": "https://localhost:8080/",
          "height": 490
        },
        "id": "nZGT1-9bZ9M7",
        "outputId": "80f2f1f1-4ead-4b01-e00a-06f2d08cbf9d"
      },
      "execution_count": null,
      "outputs": [
        {
          "output_type": "execute_result",
          "data": {
            "text/plain": [
              "array([[<matplotlib.axes._subplots.AxesSubplot object at 0x7fc68d5d8d90>,\n",
              "        <matplotlib.axes._subplots.AxesSubplot object at 0x7fc68d6f3310>],\n",
              "       [<matplotlib.axes._subplots.AxesSubplot object at 0x7fc68d568910>,\n",
              "        <matplotlib.axes._subplots.AxesSubplot object at 0x7fc68d51ef10>],\n",
              "       [<matplotlib.axes._subplots.AxesSubplot object at 0x7fc68d4e0550>,\n",
              "        <matplotlib.axes._subplots.AxesSubplot object at 0x7fc68d497b50>]],\n",
              "      dtype=object)"
            ]
          },
          "metadata": {},
          "execution_count": 12
        },
        {
          "output_type": "display_data",
          "data": {
            "text/plain": [
              "<Figure size 1440x720 with 6 Axes>"
            ],
            "image/png": "[encoded data removed]"
          },
          "metadata": {
            "needs_background": "light"
          }
        }
      ]
    },
    {
      "cell_type": "markdown",
      "source": [
        "### (1) Min-Max Scaling"
      ],
      "metadata": {
        "id": "KO8NpHNKaTLm"
      }
    },
    {
      "cell_type": "code",
      "source": [
        "from sklearn.preprocessing import MinMaxScaler"
      ],
      "metadata": {
        "id": "FEOnJr9xaOS4"
      },
      "execution_count": null,
      "outputs": []
    },
    {
      "cell_type": "code",
      "source": [
        "# 편의성을 위해 이름 지정\n",
        "scaler1 = MinMaxScaler() "
      ],
      "metadata": {
        "id": "-H4f849RaZ6F"
      },
      "execution_count": null,
      "outputs": []
    },
    {
      "cell_type": "code",
      "source": [
        "scaler1.fit(X2)"
      ],
      "metadata": {
        "colab": {
          "base_uri": "https://localhost:8080/"
        },
        "id": "RduDyboVasDK",
        "outputId": "19316590-b43e-4eff-b070-a591742a71fe"
      },
      "execution_count": null,
      "outputs": [
        {
          "output_type": "execute_result",
          "data": {
            "text/plain": [
              "MinMaxScaler()"
            ]
          },
          "metadata": {},
          "execution_count": 15
        }
      ]
    },
    {
      "cell_type": "code",
      "source": [
        "# 연속형 데이터 X2에 대해 Min-Max scaling으로 변환\n",
        "# MIn-Max scaling 이름 : X_scaled1\n",
        "X_scaled1 = scaler1.transform(X2)"
      ],
      "metadata": {
        "id": "4SLFBKKacf6t"
      },
      "execution_count": null,
      "outputs": []
    },
    {
      "cell_type": "code",
      "source": [
        "# 리스트 형태의 데이터를 Pandas 데이터프레임으로 변환\n",
        "pd.DataFrame(X_scaled1).head()\n",
        "# 스케일링 하면 칼럼명 사라짐"
      ],
      "metadata": {
        "colab": {
          "base_uri": "https://localhost:8080/",
          "height": 206
        },
        "id": "CuG7bxcTcm34",
        "outputId": "a9f0b8b3-9e38-4407-ef72-fbea25eaa334"
      },
      "execution_count": null,
      "outputs": [
        {
          "output_type": "execute_result",
          "data": {
            "text/plain": [
              "     0         1         2     3     4     5\n",
              "0  1.0  0.666667  0.666667  0.25  0.25  0.75\n",
              "1  0.5  0.666667  0.666667  0.25  0.75  0.50\n",
              "2  0.0  0.333333  1.000000  0.00  0.50  0.45\n",
              "3  0.5  0.000000  0.666667  1.00  0.75  0.40\n",
              "4  0.0  0.333333  1.000000  0.75  0.50  0.35"
            ],
            "text/html": [
              "\n",
              "  <div id=\"df-73196095-1947-49ee-908a-6e8a1d06c1f2\">\n",
              "    <div class=\"colab-df-container\">\n",
              "      <div>\n",
              "<style scoped>\n",
              "    .dataframe tbody tr th:only-of-type {\n",
              "        vertical-align: middle;\n",
              "    }\n",
              "\n",
              "    .dataframe tbody tr th {\n",
              "        vertical-align: top;\n",
              "    }\n",
              "\n",
              "    .dataframe thead th {\n",
              "        text-align: right;\n",
              "    }\n",
              "</style>\n",
              "<table border=\"1\" class=\"dataframe\">\n",
              "  <thead>\n",
              "    <tr style=\"text-align: right;\">\n",
              "      <th></th>\n",
              "      <th>0</th>\n",
              "      <th>1</th>\n",
              "      <th>2</th>\n",
              "      <th>3</th>\n",
              "      <th>4</th>\n",
              "      <th>5</th>\n",
              "    </tr>\n",
              "  </thead>\n",
              "  <tbody>\n",
              "    <tr>\n",
              "      <th>0</th>\n",
              "      <td>1.0</td>\n",
              "      <td>0.666667</td>\n",
              "      <td>0.666667</td>\n",
              "      <td>0.25</td>\n",
              "      <td>0.25</td>\n",
              "      <td>0.75</td>\n",
              "    </tr>\n",
              "    <tr>\n",
              "      <th>1</th>\n",
              "      <td>0.5</td>\n",
              "      <td>0.666667</td>\n",
              "      <td>0.666667</td>\n",
              "      <td>0.25</td>\n",
              "      <td>0.75</td>\n",
              "      <td>0.50</td>\n",
              "    </tr>\n",
              "    <tr>\n",
              "      <th>2</th>\n",
              "      <td>0.0</td>\n",
              "      <td>0.333333</td>\n",
              "      <td>1.000000</td>\n",
              "      <td>0.00</td>\n",
              "      <td>0.50</td>\n",
              "      <td>0.45</td>\n",
              "    </tr>\n",
              "    <tr>\n",
              "      <th>3</th>\n",
              "      <td>0.5</td>\n",
              "      <td>0.000000</td>\n",
              "      <td>0.666667</td>\n",
              "      <td>1.00</td>\n",
              "      <td>0.75</td>\n",
              "      <td>0.40</td>\n",
              "    </tr>\n",
              "    <tr>\n",
              "      <th>4</th>\n",
              "      <td>0.0</td>\n",
              "      <td>0.333333</td>\n",
              "      <td>1.000000</td>\n",
              "      <td>0.75</td>\n",
              "      <td>0.50</td>\n",
              "      <td>0.35</td>\n",
              "    </tr>\n",
              "  </tbody>\n",
              "</table>\n",
              "</div>\n",
              "      <button class=\"colab-df-convert\" onclick=\"convertToInteractive('df-73196095-1947-49ee-908a-6e8a1d06c1f2')\"\n",
              "              title=\"Convert this dataframe to an interactive table.\"\n",
              "              style=\"display:none;\">\n",
              "        \n",
              "  <svg xmlns=\"http://www.w3.org/2000/svg\" height=\"24px\"viewBox=\"0 0 24 24\"\n",
              "       width=\"24px\">\n",
              "    <path d=\"M0 0h24v24H0V0z\" fill=\"none\"/>\n",
              "    <path d=\"M18.56 5.44l.94 2.06.94-2.06 2.06-.94-2.06-.94-.94-2.06-.94 2.06-2.06.94zm-11 1L8.5 8.5l.94-2.06 2.06-.94-2.06-.94L8.5 2.5l-.94 2.06-2.06.94zm10 10l.94 2.06.94-2.06 2.06-.94-2.06-.94-.94-2.06-.94 2.06-2.06.94z\"/><path d=\"M17.41 7.96l-1.37-1.37c-.4-.4-.92-.59-1.43-.59-.52 0-1.04.2-1.43.59L10.3 9.45l-7.72 7.72c-.78.78-.78 2.05 0 2.83L4 21.41c.39.39.9.59 1.41.59.51 0 1.02-.2 1.41-.59l7.78-7.78 2.81-2.81c.8-.78.8-2.07 0-2.86zM5.41 20L4 18.59l7.72-7.72 1.47 1.35L5.41 20z\"/>\n",
              "  </svg>\n",
              "      </button>\n",
              "      \n",
              "  <style>\n",
              "    .colab-df-container {\n",
              "      display:flex;\n",
              "      flex-wrap:wrap;\n",
              "      gap: 12px;\n",
              "    }\n",
              "\n",
              "    .colab-df-convert {\n",
              "      background-color: #E8F0FE;\n",
              "      border: none;\n",
              "      border-radius: 50%;\n",
              "      cursor: pointer;\n",
              "      display: none;\n",
              "      fill: #1967D2;\n",
              "      height: 32px;\n",
              "      padding: 0 0 0 0;\n",
              "      width: 32px;\n",
              "    }\n",
              "\n",
              "    .colab-df-convert:hover {\n",
              "      background-color: #E2EBFA;\n",
              "      box-shadow: 0px 1px 2px rgba(60, 64, 67, 0.3), 0px 1px 3px 1px rgba(60, 64, 67, 0.15);\n",
              "      fill: #174EA6;\n",
              "    }\n",
              "\n",
              "    [theme=dark] .colab-df-convert {\n",
              "      background-color: #3B4455;\n",
              "      fill: #D2E3FC;\n",
              "    }\n",
              "\n",
              "    [theme=dark] .colab-df-convert:hover {\n",
              "      background-color: #434B5C;\n",
              "      box-shadow: 0px 1px 3px 1px rgba(0, 0, 0, 0.15);\n",
              "      filter: drop-shadow(0px 1px 2px rgba(0, 0, 0, 0.3));\n",
              "      fill: #FFFFFF;\n",
              "    }\n",
              "  </style>\n",
              "\n",
              "      <script>\n",
              "        const buttonEl =\n",
              "          document.querySelector('#df-73196095-1947-49ee-908a-6e8a1d06c1f2 button.colab-df-convert');\n",
              "        buttonEl.style.display =\n",
              "          google.colab.kernel.accessAllowed ? 'block' : 'none';\n",
              "\n",
              "        async function convertToInteractive(key) {\n",
              "          const element = document.querySelector('#df-73196095-1947-49ee-908a-6e8a1d06c1f2');\n",
              "          const dataTable =\n",
              "            await google.colab.kernel.invokeFunction('convertToInteractive',\n",
              "                                                     [key], {});\n",
              "          if (!dataTable) return;\n",
              "\n",
              "          const docLinkHtml = 'Like what you see? Visit the ' +\n",
              "            '<a target=\"_blank\" href=https://colab.research.google.com/notebooks/data_table.ipynb>data table notebook</a>'\n",
              "            + ' to learn more about interactive tables.';\n",
              "          element.innerHTML = '';\n",
              "          dataTable['output_type'] = 'display_data';\n",
              "          await google.colab.output.renderOutput(dataTable, element);\n",
              "          const docLink = document.createElement('div');\n",
              "          docLink.innerHTML = docLinkHtml;\n",
              "          element.appendChild(docLink);\n",
              "        }\n",
              "      </script>\n",
              "    </div>\n",
              "  </div>\n",
              "  "
            ]
          },
          "metadata": {},
          "execution_count": 17
        }
      ]
    },
    {
      "cell_type": "code",
      "source": [
        "pd.DataFrame(X_scaled1).hist(figsize = (20,10))\n",
        "# 왼쪽 끝 0, 오른쪽 끝 1로 맞춰짐\n",
        "pd.DataFrame(X_scaled1).describe()\n",
        "# 최소 0, 최대 1"
      ],
      "metadata": {
        "colab": {
          "base_uri": "https://localhost:8080/",
          "height": 645
        },
        "id": "n462aU8dcqjJ",
        "outputId": "88e0fb2b-4ba7-405a-c49c-3f54f5ae619c"
      },
      "execution_count": null,
      "outputs": [
        {
          "output_type": "execute_result",
          "data": {
            "text/plain": [
              "                0           1           2           3           4           5\n",
              "count  211.000000  211.000000  211.000000  211.000000  211.000000  211.000000\n",
              "mean     0.433649    0.402844    0.551343    0.514218    0.523697    0.477725\n",
              "std      0.312982    0.355475    0.290724    0.236113    0.240352    0.181269\n",
              "min      0.000000    0.000000    0.000000    0.000000    0.000000    0.000000\n",
              "25%      0.000000    0.000000    0.333333    0.500000    0.250000    0.350000\n",
              "50%      0.500000    0.333333    0.666667    0.500000    0.500000    0.500000\n",
              "75%      0.500000    0.666667    0.666667    0.750000    0.750000    0.600000\n",
              "max      1.000000    1.000000    1.000000    1.000000    1.000000    1.000000"
            ],
            "text/html": [
              "\n",
              "  <div id=\"df-d204b36c-0d75-4271-9413-01f3d0364401\">\n",
              "    <div class=\"colab-df-container\">\n",
              "      <div>\n",
              "<style scoped>\n",
              "    .dataframe tbody tr th:only-of-type {\n",
              "        vertical-align: middle;\n",
              "    }\n",
              "\n",
              "    .dataframe tbody tr th {\n",
              "        vertical-align: top;\n",
              "    }\n",
              "\n",
              "    .dataframe thead th {\n",
              "        text-align: right;\n",
              "    }\n",
              "</style>\n",
              "<table border=\"1\" class=\"dataframe\">\n",
              "  <thead>\n",
              "    <tr style=\"text-align: right;\">\n",
              "      <th></th>\n",
              "      <th>0</th>\n",
              "      <th>1</th>\n",
              "      <th>2</th>\n",
              "      <th>3</th>\n",
              "      <th>4</th>\n",
              "      <th>5</th>\n",
              "    </tr>\n",
              "  </thead>\n",
              "  <tbody>\n",
              "    <tr>\n",
              "      <th>count</th>\n",
              "      <td>211.000000</td>\n",
              "      <td>211.000000</td>\n",
              "      <td>211.000000</td>\n",
              "      <td>211.000000</td>\n",
              "      <td>211.000000</td>\n",
              "      <td>211.000000</td>\n",
              "    </tr>\n",
              "    <tr>\n",
              "      <th>mean</th>\n",
              "      <td>0.433649</td>\n",
              "      <td>0.402844</td>\n",
              "      <td>0.551343</td>\n",
              "      <td>0.514218</td>\n",
              "      <td>0.523697</td>\n",
              "      <td>0.477725</td>\n",
              "    </tr>\n",
              "    <tr>\n",
              "      <th>std</th>\n",
              "      <td>0.312982</td>\n",
              "      <td>0.355475</td>\n",
              "      <td>0.290724</td>\n",
              "      <td>0.236113</td>\n",
              "      <td>0.240352</td>\n",
              "      <td>0.181269</td>\n",
              "    </tr>\n",
              "    <tr>\n",
              "      <th>min</th>\n",
              "      <td>0.000000</td>\n",
              "      <td>0.000000</td>\n",
              "      <td>0.000000</td>\n",
              "      <td>0.000000</td>\n",
              "      <td>0.000000</td>\n",
              "      <td>0.000000</td>\n",
              "    </tr>\n",
              "    <tr>\n",
              "      <th>25%</th>\n",
              "      <td>0.000000</td>\n",
              "      <td>0.000000</td>\n",
              "      <td>0.333333</td>\n",
              "      <td>0.500000</td>\n",
              "      <td>0.250000</td>\n",
              "      <td>0.350000</td>\n",
              "    </tr>\n",
              "    <tr>\n",
              "      <th>50%</th>\n",
              "      <td>0.500000</td>\n",
              "      <td>0.333333</td>\n",
              "      <td>0.666667</td>\n",
              "      <td>0.500000</td>\n",
              "      <td>0.500000</td>\n",
              "      <td>0.500000</td>\n",
              "    </tr>\n",
              "    <tr>\n",
              "      <th>75%</th>\n",
              "      <td>0.500000</td>\n",
              "      <td>0.666667</td>\n",
              "      <td>0.666667</td>\n",
              "      <td>0.750000</td>\n",
              "      <td>0.750000</td>\n",
              "      <td>0.600000</td>\n",
              "    </tr>\n",
              "    <tr>\n",
              "      <th>max</th>\n",
              "      <td>1.000000</td>\n",
              "      <td>1.000000</td>\n",
              "      <td>1.000000</td>\n",
              "      <td>1.000000</td>\n",
              "      <td>1.000000</td>\n",
              "      <td>1.000000</td>\n",
              "    </tr>\n",
              "  </tbody>\n",
              "</table>\n",
              "</div>\n",
              "      <button class=\"colab-df-convert\" onclick=\"convertToInteractive('df-d204b36c-0d75-4271-9413-01f3d0364401')\"\n",
              "              title=\"Convert this dataframe to an interactive table.\"\n",
              "              style=\"display:none;\">\n",
              "        \n",
              "  <svg xmlns=\"http://www.w3.org/2000/svg\" height=\"24px\"viewBox=\"0 0 24 24\"\n",
              "       width=\"24px\">\n",
              "    <path d=\"M0 0h24v24H0V0z\" fill=\"none\"/>\n",
              "    <path d=\"M18.56 5.44l.94 2.06.94-2.06 2.06-.94-2.06-.94-.94-2.06-.94 2.06-2.06.94zm-11 1L8.5 8.5l.94-2.06 2.06-.94-2.06-.94L8.5 2.5l-.94 2.06-2.06.94zm10 10l.94 2.06.94-2.06 2.06-.94-2.06-.94-.94-2.06-.94 2.06-2.06.94z\"/><path d=\"M17.41 7.96l-1.37-1.37c-.4-.4-.92-.59-1.43-.59-.52 0-1.04.2-1.43.59L10.3 9.45l-7.72 7.72c-.78.78-.78 2.05 0 2.83L4 21.41c.39.39.9.59 1.41.59.51 0 1.02-.2 1.41-.59l7.78-7.78 2.81-2.81c.8-.78.8-2.07 0-2.86zM5.41 20L4 18.59l7.72-7.72 1.47 1.35L5.41 20z\"/>\n",
              "  </svg>\n",
              "      </button>\n",
              "      \n",
              "  <style>\n",
              "    .colab-df-container {\n",
              "      display:flex;\n",
              "      flex-wrap:wrap;\n",
              "      gap: 12px;\n",
              "    }\n",
              "\n",
              "    .colab-df-convert {\n",
              "      background-color: #E8F0FE;\n",
              "      border: none;\n",
              "      border-radius: 50%;\n",
              "      cursor: pointer;\n",
              "      display: none;\n",
              "      fill: #1967D2;\n",
              "      height: 32px;\n",
              "      padding: 0 0 0 0;\n",
              "      width: 32px;\n",
              "    }\n",
              "\n",
              "    .colab-df-convert:hover {\n",
              "      background-color: #E2EBFA;\n",
              "      box-shadow: 0px 1px 2px rgba(60, 64, 67, 0.3), 0px 1px 3px 1px rgba(60, 64, 67, 0.15);\n",
              "      fill: #174EA6;\n",
              "    }\n",
              "\n",
              "    [theme=dark] .colab-df-convert {\n",
              "      background-color: #3B4455;\n",
              "      fill: #D2E3FC;\n",
              "    }\n",
              "\n",
              "    [theme=dark] .colab-df-convert:hover {\n",
              "      background-color: #434B5C;\n",
              "      box-shadow: 0px 1px 3px 1px rgba(0, 0, 0, 0.15);\n",
              "      filter: drop-shadow(0px 1px 2px rgba(0, 0, 0, 0.3));\n",
              "      fill: #FFFFFF;\n",
              "    }\n",
              "  </style>\n",
              "\n",
              "      <script>\n",
              "        const buttonEl =\n",
              "          document.querySelector('#df-d204b36c-0d75-4271-9413-01f3d0364401 button.colab-df-convert');\n",
              "        buttonEl.style.display =\n",
              "          google.colab.kernel.accessAllowed ? 'block' : 'none';\n",
              "\n",
              "        async function convertToInteractive(key) {\n",
              "          const element = document.querySelector('#df-d204b36c-0d75-4271-9413-01f3d0364401');\n",
              "          const dataTable =\n",
              "            await google.colab.kernel.invokeFunction('convertToInteractive',\n",
              "                                                     [key], {});\n",
              "          if (!dataTable) return;\n",
              "\n",
              "          const docLinkHtml = 'Like what you see? Visit the ' +\n",
              "            '<a target=\"_blank\" href=https://colab.research.google.com/notebooks/data_table.ipynb>data table notebook</a>'\n",
              "            + ' to learn more about interactive tables.';\n",
              "          element.innerHTML = '';\n",
              "          dataTable['output_type'] = 'display_data';\n",
              "          await google.colab.output.renderOutput(dataTable, element);\n",
              "          const docLink = document.createElement('div');\n",
              "          docLink.innerHTML = docLinkHtml;\n",
              "          element.appendChild(docLink);\n",
              "        }\n",
              "      </script>\n",
              "    </div>\n",
              "  </div>\n",
              "  "
            ]
          },
          "metadata": {},
          "execution_count": 19
        },
        {
          "output_type": "display_data",
          "data": {
            "text/plain": [
              "<Figure size 1440x720 with 6 Axes>"
            ],
            "image/png": "[encoded data removed]"
          },
          "metadata": {
            "needs_background": "light"
          }
        }
      ]
    },
    {
      "cell_type": "markdown",
      "source": [
        "### (2) Standardization Scaling"
      ],
      "metadata": {
        "id": "mUKPeaJ8eBxm"
      }
    },
    {
      "cell_type": "code",
      "source": [
        "# Min-Max와 방법은 동일, 결과는 다름\n",
        "from sklearn.preprocessing import StandardScaler"
      ],
      "metadata": {
        "id": "0gaxxhJlct_3"
      },
      "execution_count": null,
      "outputs": []
    },
    {
      "cell_type": "code",
      "source": [
        "scaler2 = StandardScaler()"
      ],
      "metadata": {
        "id": "5db3FBFVeHpc"
      },
      "execution_count": null,
      "outputs": []
    },
    {
      "cell_type": "code",
      "source": [
        "scaler2.fit(X2)"
      ],
      "metadata": {
        "colab": {
          "base_uri": "https://localhost:8080/"
        },
        "id": "GtKI5SyXeJjd",
        "outputId": "536e88eb-c26e-45c3-9306-2222804739ea"
      },
      "execution_count": null,
      "outputs": [
        {
          "output_type": "execute_result",
          "data": {
            "text/plain": [
              "StandardScaler()"
            ]
          },
          "metadata": {},
          "execution_count": 22
        }
      ]
    },
    {
      "cell_type": "code",
      "source": [
        "X_scaled2 = scaler2.transform(X2)"
      ],
      "metadata": {
        "id": "XQezICkaeKlO"
      },
      "execution_count": null,
      "outputs": []
    },
    {
      "cell_type": "code",
      "source": [
        "pd.DataFrame(X_scaled2).hist(figsize=(20,10))\n",
        "# 평균과 표준편차 포함하는 결과\n",
        "pd.DataFrame(X_scaled2).describe()"
      ],
      "metadata": {
        "colab": {
          "base_uri": "https://localhost:8080/",
          "height": 709
        },
        "id": "51LHuy2neMeL",
        "outputId": "145932b2-53f6-4605-c7c0-b16a4c64dea6"
      },
      "execution_count": null,
      "outputs": [
        {
          "output_type": "execute_result",
          "data": {
            "text/plain": [
              "                  0             1             2             3             4  \\\n",
              "count  2.110000e+02  2.110000e+02  2.110000e+02  2.110000e+02  2.110000e+02   \n",
              "mean   5.051252e-17  3.367501e-17  1.683751e-16 -1.557469e-16 -9.681566e-17   \n",
              "std    1.002378e+00  1.002378e+00  1.002378e+00  1.002378e+00  1.002378e+00   \n",
              "min   -1.388837e+00 -1.135950e+00 -1.900955e+00 -2.183028e+00 -2.184055e+00   \n",
              "25%   -1.388837e+00 -1.135950e+00 -7.516670e-01 -6.036022e-02 -1.141440e+00   \n",
              "50%    2.124996e-01 -1.960071e-01  3.976209e-01 -6.036022e-02 -9.882600e-02   \n",
              "75%    2.124996e-01  7.439362e-01  3.976209e-01  1.000974e+00  9.437883e-01   \n",
              "max    1.813836e+00  1.683879e+00  1.546909e+00  2.062307e+00  1.986403e+00   \n",
              "\n",
              "                  5  \n",
              "count  2.110000e+02  \n",
              "mean  -2.188876e-16  \n",
              "std    1.002378e+00  \n",
              "min   -2.641710e+00  \n",
              "25%   -7.062904e-01  \n",
              "50%    1.231749e-01  \n",
              "75%    6.761518e-01  \n",
              "max    2.888059e+00  "
            ],
            "text/html": [
              "\n",
              "  <div id=\"df-e9a0f534-6388-42aa-96a3-4d70c4919770\">\n",
              "    <div class=\"colab-df-container\">\n",
              "      <div>\n",
              "<style scoped>\n",
              "    .dataframe tbody tr th:only-of-type {\n",
              "        vertical-align: middle;\n",
              "    }\n",
              "\n",
              "    .dataframe tbody tr th {\n",
              "        vertical-align: top;\n",
              "    }\n",
              "\n",
              "    .dataframe thead th {\n",
              "        text-align: right;\n",
              "    }\n",
              "</style>\n",
              "<table border=\"1\" class=\"dataframe\">\n",
              "  <thead>\n",
              "    <tr style=\"text-align: right;\">\n",
              "      <th></th>\n",
              "      <th>0</th>\n",
              "      <th>1</th>\n",
              "      <th>2</th>\n",
              "      <th>3</th>\n",
              "      <th>4</th>\n",
              "      <th>5</th>\n",
              "    </tr>\n",
              "  </thead>\n",
              "  <tbody>\n",
              "    <tr>\n",
              "      <th>count</th>\n",
              "      <td>2.110000e+02</td>\n",
              "      <td>2.110000e+02</td>\n",
              "      <td>2.110000e+02</td>\n",
              "      <td>2.110000e+02</td>\n",
              "      <td>2.110000e+02</td>\n",
              "      <td>2.110000e+02</td>\n",
              "    </tr>\n",
              "    <tr>\n",
              "      <th>mean</th>\n",
              "      <td>5.051252e-17</td>\n",
              "      <td>3.367501e-17</td>\n",
              "      <td>1.683751e-16</td>\n",
              "      <td>-1.557469e-16</td>\n",
              "      <td>-9.681566e-17</td>\n",
              "      <td>-2.188876e-16</td>\n",
              "    </tr>\n",
              "    <tr>\n",
              "      <th>std</th>\n",
              "      <td>1.002378e+00</td>\n",
              "      <td>1.002378e+00</td>\n",
              "      <td>1.002378e+00</td>\n",
              "      <td>1.002378e+00</td>\n",
              "      <td>1.002378e+00</td>\n",
              "      <td>1.002378e+00</td>\n",
              "    </tr>\n",
              "    <tr>\n",
              "      <th>min</th>\n",
              "      <td>-1.388837e+00</td>\n",
              "      <td>-1.135950e+00</td>\n",
              "      <td>-1.900955e+00</td>\n",
              "      <td>-2.183028e+00</td>\n",
              "      <td>-2.184055e+00</td>\n",
              "      <td>-2.641710e+00</td>\n",
              "    </tr>\n",
              "    <tr>\n",
              "      <th>25%</th>\n",
              "      <td>-1.388837e+00</td>\n",
              "      <td>-1.135950e+00</td>\n",
              "      <td>-7.516670e-01</td>\n",
              "      <td>-6.036022e-02</td>\n",
              "      <td>-1.141440e+00</td>\n",
              "      <td>-7.062904e-01</td>\n",
              "    </tr>\n",
              "    <tr>\n",
              "      <th>50%</th>\n",
              "      <td>2.124996e-01</td>\n",
              "      <td>-1.960071e-01</td>\n",
              "      <td>3.976209e-01</td>\n",
              "      <td>-6.036022e-02</td>\n",
              "      <td>-9.882600e-02</td>\n",
              "      <td>1.231749e-01</td>\n",
              "    </tr>\n",
              "    <tr>\n",
              "      <th>75%</th>\n",
              "      <td>2.124996e-01</td>\n",
              "      <td>7.439362e-01</td>\n",
              "      <td>3.976209e-01</td>\n",
              "      <td>1.000974e+00</td>\n",
              "      <td>9.437883e-01</td>\n",
              "      <td>6.761518e-01</td>\n",
              "    </tr>\n",
              "    <tr>\n",
              "      <th>max</th>\n",
              "      <td>1.813836e+00</td>\n",
              "      <td>1.683879e+00</td>\n",
              "      <td>1.546909e+00</td>\n",
              "      <td>2.062307e+00</td>\n",
              "      <td>1.986403e+00</td>\n",
              "      <td>2.888059e+00</td>\n",
              "    </tr>\n",
              "  </tbody>\n",
              "</table>\n",
              "</div>\n",
              "      <button class=\"colab-df-convert\" onclick=\"convertToInteractive('df-e9a0f534-6388-42aa-96a3-4d70c4919770')\"\n",
              "              title=\"Convert this dataframe to an interactive table.\"\n",
              "              style=\"display:none;\">\n",
              "        \n",
              "  <svg xmlns=\"http://www.w3.org/2000/svg\" height=\"24px\"viewBox=\"0 0 24 24\"\n",
              "       width=\"24px\">\n",
              "    <path d=\"M0 0h24v24H0V0z\" fill=\"none\"/>\n",
              "    <path d=\"M18.56 5.44l.94 2.06.94-2.06 2.06-.94-2.06-.94-.94-2.06-.94 2.06-2.06.94zm-11 1L8.5 8.5l.94-2.06 2.06-.94-2.06-.94L8.5 2.5l-.94 2.06-2.06.94zm10 10l.94 2.06.94-2.06 2.06-.94-2.06-.94-.94-2.06-.94 2.06-2.06.94z\"/><path d=\"M17.41 7.96l-1.37-1.37c-.4-.4-.92-.59-1.43-.59-.52 0-1.04.2-1.43.59L10.3 9.45l-7.72 7.72c-.78.78-.78 2.05 0 2.83L4 21.41c.39.39.9.59 1.41.59.51 0 1.02-.2 1.41-.59l7.78-7.78 2.81-2.81c.8-.78.8-2.07 0-2.86zM5.41 20L4 18.59l7.72-7.72 1.47 1.35L5.41 20z\"/>\n",
              "  </svg>\n",
              "      </button>\n",
              "      \n",
              "  <style>\n",
              "    .colab-df-container {\n",
              "      display:flex;\n",
              "      flex-wrap:wrap;\n",
              "      gap: 12px;\n",
              "    }\n",
              "\n",
              "    .colab-df-convert {\n",
              "      background-color: #E8F0FE;\n",
              "      border: none;\n",
              "      border-radius: 50%;\n",
              "      cursor: pointer;\n",
              "      display: none;\n",
              "      fill: #1967D2;\n",
              "      height: 32px;\n",
              "      padding: 0 0 0 0;\n",
              "      width: 32px;\n",
              "    }\n",
              "\n",
              "    .colab-df-convert:hover {\n",
              "      background-color: #E2EBFA;\n",
              "      box-shadow: 0px 1px 2px rgba(60, 64, 67, 0.3), 0px 1px 3px 1px rgba(60, 64, 67, 0.15);\n",
              "      fill: #174EA6;\n",
              "    }\n",
              "\n",
              "    [theme=dark] .colab-df-convert {\n",
              "      background-color: #3B4455;\n",
              "      fill: #D2E3FC;\n",
              "    }\n",
              "\n",
              "    [theme=dark] .colab-df-convert:hover {\n",
              "      background-color: #434B5C;\n",
              "      box-shadow: 0px 1px 3px 1px rgba(0, 0, 0, 0.15);\n",
              "      filter: drop-shadow(0px 1px 2px rgba(0, 0, 0, 0.3));\n",
              "      fill: #FFFFFF;\n",
              "    }\n",
              "  </style>\n",
              "\n",
              "      <script>\n",
              "        const buttonEl =\n",
              "          document.querySelector('#df-e9a0f534-6388-42aa-96a3-4d70c4919770 button.colab-df-convert');\n",
              "        buttonEl.style.display =\n",
              "          google.colab.kernel.accessAllowed ? 'block' : 'none';\n",
              "\n",
              "        async function convertToInteractive(key) {\n",
              "          const element = document.querySelector('#df-e9a0f534-6388-42aa-96a3-4d70c4919770');\n",
              "          const dataTable =\n",
              "            await google.colab.kernel.invokeFunction('convertToInteractive',\n",
              "                                                     [key], {});\n",
              "          if (!dataTable) return;\n",
              "\n",
              "          const docLinkHtml = 'Like what you see? Visit the ' +\n",
              "            '<a target=\"_blank\" href=https://colab.research.google.com/notebooks/data_table.ipynb>data table notebook</a>'\n",
              "            + ' to learn more about interactive tables.';\n",
              "          element.innerHTML = '';\n",
              "          dataTable['output_type'] = 'display_data';\n",
              "          await google.colab.output.renderOutput(dataTable, element);\n",
              "          const docLink = document.createElement('div');\n",
              "          docLink.innerHTML = docLinkHtml;\n",
              "          element.appendChild(docLink);\n",
              "        }\n",
              "      </script>\n",
              "    </div>\n",
              "  </div>\n",
              "  "
            ]
          },
          "metadata": {},
          "execution_count": 25
        },
        {
          "output_type": "display_data",
          "data": {
            "text/plain": [
              "<Figure size 1440x720 with 6 Axes>"
            ],
            "image/png": "[encoded data removed]"
          },
          "metadata": {
            "needs_background": "light"
          }
        }
      ]
    },
    {
      "cell_type": "markdown",
      "source": [
        "## 1-4. 자료 통합 및 저장하기"
      ],
      "metadata": {
        "id": "FV7X66UKfwm8"
      }
    },
    {
      "cell_type": "code",
      "source": [
        "import pandas as pd"
      ],
      "metadata": {
        "id": "TXXT9cU2eN_3"
      },
      "execution_count": null,
      "outputs": []
    },
    {
      "cell_type": "code",
      "source": [
        "# 연속형 변수 : Min-Max Scaling 택\n",
        "X_scaled = pd.DataFrame(X_scaled1)"
      ],
      "metadata": {
        "id": "XMj8RBffgEbY"
      },
      "execution_count": null,
      "outputs": []
    },
    {
      "cell_type": "code",
      "source": [
        "# Scaling 후 : 칼럼명 원래대로 추가\n",
        "X_scaled.columns=['edu', 'income', 'age', 'score_gov', 'score_progress', 'score_intention']"
      ],
      "metadata": {
        "id": "6d-do7aKgJKN"
      },
      "execution_count": null,
      "outputs": []
    },
    {
      "cell_type": "code",
      "source": [
        "# 범주형 데이터(One-hot Encoding) + 연속형 데이터(Min-Max scaling) + 레이블\n",
        "Fvote = pd.concat([X1_dum, X_scaled, y], axis=1)\n",
        "Fvote.head()"
      ],
      "metadata": {
        "colab": {
          "base_uri": "https://localhost:8080/",
          "height": 270
        },
        "id": "xR7LD2gxgsmp",
        "outputId": "4393a1e7-dfea-40e2-a407-1e7922434112"
      },
      "execution_count": null,
      "outputs": [
        {
          "output_type": "execute_result",
          "data": {
            "text/plain": [
              "   gender_female  gender_male  region_Chungcheung  region_Honam  \\\n",
              "0              0            1                   0             0   \n",
              "1              0            1                   0             0   \n",
              "2              0            1                   0             1   \n",
              "3              1            0                   0             0   \n",
              "4              0            1                   0             0   \n",
              "\n",
              "   region_Others  region_Sudo  region_Youngnam  edu    income       age  \\\n",
              "0              0            0                1  1.0  0.666667  0.666667   \n",
              "1              1            0                0  0.5  0.666667  0.666667   \n",
              "2              0            0                0  0.0  0.333333  1.000000   \n",
              "3              0            1                0  0.5  0.000000  0.666667   \n",
              "4              0            1                0  0.0  0.333333  1.000000   \n",
              "\n",
              "   score_gov  score_progress  score_intention  vote  parties  \n",
              "0       0.25            0.25             0.75     1        2  \n",
              "1       0.25            0.75             0.50     0        3  \n",
              "2       0.00            0.50             0.45     1        4  \n",
              "3       1.00            0.75             0.40     1        1  \n",
              "4       0.75            0.50             0.35     1        1  "
            ],
            "text/html": [
              "\n",
              "  <div id=\"df-c1b9462c-9d39-4e6f-8666-a446bf6c17f4\">\n",
              "    <div class=\"colab-df-container\">\n",
              "      <div>\n",
              "<style scoped>\n",
              "    .dataframe tbody tr th:only-of-type {\n",
              "        vertical-align: middle;\n",
              "    }\n",
              "\n",
              "    .dataframe tbody tr th {\n",
              "        vertical-align: top;\n",
              "    }\n",
              "\n",
              "    .dataframe thead th {\n",
              "        text-align: right;\n",
              "    }\n",
              "</style>\n",
              "<table border=\"1\" class=\"dataframe\">\n",
              "  <thead>\n",
              "    <tr style=\"text-align: right;\">\n",
              "      <th></th>\n",
              "      <th>gender_female</th>\n",
              "      <th>gender_male</th>\n",
              "      <th>region_Chungcheung</th>\n",
              "      <th>region_Honam</th>\n",
              "      <th>region_Others</th>\n",
              "      <th>region_Sudo</th>\n",
              "      <th>region_Youngnam</th>\n",
              "      <th>edu</th>\n",
              "      <th>income</th>\n",
              "      <th>age</th>\n",
              "      <th>score_gov</th>\n",
              "      <th>score_progress</th>\n",
              "      <th>score_intention</th>\n",
              "      <th>vote</th>\n",
              "      <th>parties</th>\n",
              "    </tr>\n",
              "  </thead>\n",
              "  <tbody>\n",
              "    <tr>\n",
              "      <th>0</th>\n",
              "      <td>0</td>\n",
              "      <td>1</td>\n",
              "      <td>0</td>\n",
              "      <td>0</td>\n",
              "      <td>0</td>\n",
              "      <td>0</td>\n",
              "      <td>1</td>\n",
              "      <td>1.0</td>\n",
              "      <td>0.666667</td>\n",
              "      <td>0.666667</td>\n",
              "      <td>0.25</td>\n",
              "      <td>0.25</td>\n",
              "      <td>0.75</td>\n",
              "      <td>1</td>\n",
              "      <td>2</td>\n",
              "    </tr>\n",
              "    <tr>\n",
              "      <th>1</th>\n",
              "      <td>0</td>\n",
              "      <td>1</td>\n",
              "      <td>0</td>\n",
              "      <td>0</td>\n",
              "      <td>1</td>\n",
              "      <td>0</td>\n",
              "      <td>0</td>\n",
              "      <td>0.5</td>\n",
              "      <td>0.666667</td>\n",
              "      <td>0.666667</td>\n",
              "      <td>0.25</td>\n",
              "      <td>0.75</td>\n",
              "      <td>0.50</td>\n",
              "      <td>0</td>\n",
              "      <td>3</td>\n",
              "    </tr>\n",
              "    <tr>\n",
              "      <th>2</th>\n",
              "      <td>0</td>\n",
              "      <td>1</td>\n",
              "      <td>0</td>\n",
              "      <td>1</td>\n",
              "      <td>0</td>\n",
              "      <td>0</td>\n",
              "      <td>0</td>\n",
              "      <td>0.0</td>\n",
              "      <td>0.333333</td>\n",
              "      <td>1.000000</td>\n",
              "      <td>0.00</td>\n",
              "      <td>0.50</td>\n",
              "      <td>0.45</td>\n",
              "      <td>1</td>\n",
              "      <td>4</td>\n",
              "    </tr>\n",
              "    <tr>\n",
              "      <th>3</th>\n",
              "      <td>1</td>\n",
              "      <td>0</td>\n",
              "      <td>0</td>\n",
              "      <td>0</td>\n",
              "      <td>0</td>\n",
              "      <td>1</td>\n",
              "      <td>0</td>\n",
              "      <td>0.5</td>\n",
              "      <td>0.000000</td>\n",
              "      <td>0.666667</td>\n",
              "      <td>1.00</td>\n",
              "      <td>0.75</td>\n",
              "      <td>0.40</td>\n",
              "      <td>1</td>\n",
              "      <td>1</td>\n",
              "    </tr>\n",
              "    <tr>\n",
              "      <th>4</th>\n",
              "      <td>0</td>\n",
              "      <td>1</td>\n",
              "      <td>0</td>\n",
              "      <td>0</td>\n",
              "      <td>0</td>\n",
              "      <td>1</td>\n",
              "      <td>0</td>\n",
              "      <td>0.0</td>\n",
              "      <td>0.333333</td>\n",
              "      <td>1.000000</td>\n",
              "      <td>0.75</td>\n",
              "      <td>0.50</td>\n",
              "      <td>0.35</td>\n",
              "      <td>1</td>\n",
              "      <td>1</td>\n",
              "    </tr>\n",
              "  </tbody>\n",
              "</table>\n",
              "</div>\n",
              "      <button class=\"colab-df-convert\" onclick=\"convertToInteractive('df-c1b9462c-9d39-4e6f-8666-a446bf6c17f4')\"\n",
              "              title=\"Convert this dataframe to an interactive table.\"\n",
              "              style=\"display:none;\">\n",
              "        \n",
              "  <svg xmlns=\"http://www.w3.org/2000/svg\" height=\"24px\"viewBox=\"0 0 24 24\"\n",
              "       width=\"24px\">\n",
              "    <path d=\"M0 0h24v24H0V0z\" fill=\"none\"/>\n",
              "    <path d=\"M18.56 5.44l.94 2.06.94-2.06 2.06-.94-2.06-.94-.94-2.06-.94 2.06-2.06.94zm-11 1L8.5 8.5l.94-2.06 2.06-.94-2.06-.94L8.5 2.5l-.94 2.06-2.06.94zm10 10l.94 2.06.94-2.06 2.06-.94-2.06-.94-.94-2.06-.94 2.06-2.06.94z\"/><path d=\"M17.41 7.96l-1.37-1.37c-.4-.4-.92-.59-1.43-.59-.52 0-1.04.2-1.43.59L10.3 9.45l-7.72 7.72c-.78.78-.78 2.05 0 2.83L4 21.41c.39.39.9.59 1.41.59.51 0 1.02-.2 1.41-.59l7.78-7.78 2.81-2.81c.8-.78.8-2.07 0-2.86zM5.41 20L4 18.59l7.72-7.72 1.47 1.35L5.41 20z\"/>\n",
              "  </svg>\n",
              "      </button>\n",
              "      \n",
              "  <style>\n",
              "    .colab-df-container {\n",
              "      display:flex;\n",
              "      flex-wrap:wrap;\n",
              "      gap: 12px;\n",
              "    }\n",
              "\n",
              "    .colab-df-convert {\n",
              "      background-color: #E8F0FE;\n",
              "      border: none;\n",
              "      border-radius: 50%;\n",
              "      cursor: pointer;\n",
              "      display: none;\n",
              "      fill: #1967D2;\n",
              "      height: 32px;\n",
              "      padding: 0 0 0 0;\n",
              "      width: 32px;\n",
              "    }\n",
              "\n",
              "    .colab-df-convert:hover {\n",
              "      background-color: #E2EBFA;\n",
              "      box-shadow: 0px 1px 2px rgba(60, 64, 67, 0.3), 0px 1px 3px 1px rgba(60, 64, 67, 0.15);\n",
              "      fill: #174EA6;\n",
              "    }\n",
              "\n",
              "    [theme=dark] .colab-df-convert {\n",
              "      background-color: #3B4455;\n",
              "      fill: #D2E3FC;\n",
              "    }\n",
              "\n",
              "    [theme=dark] .colab-df-convert:hover {\n",
              "      background-color: #434B5C;\n",
              "      box-shadow: 0px 1px 3px 1px rgba(0, 0, 0, 0.15);\n",
              "      filter: drop-shadow(0px 1px 2px rgba(0, 0, 0, 0.3));\n",
              "      fill: #FFFFFF;\n",
              "    }\n",
              "  </style>\n",
              "\n",
              "      <script>\n",
              "        const buttonEl =\n",
              "          document.querySelector('#df-c1b9462c-9d39-4e6f-8666-a446bf6c17f4 button.colab-df-convert');\n",
              "        buttonEl.style.display =\n",
              "          google.colab.kernel.accessAllowed ? 'block' : 'none';\n",
              "\n",
              "        async function convertToInteractive(key) {\n",
              "          const element = document.querySelector('#df-c1b9462c-9d39-4e6f-8666-a446bf6c17f4');\n",
              "          const dataTable =\n",
              "            await google.colab.kernel.invokeFunction('convertToInteractive',\n",
              "                                                     [key], {});\n",
              "          if (!dataTable) return;\n",
              "\n",
              "          const docLinkHtml = 'Like what you see? Visit the ' +\n",
              "            '<a target=\"_blank\" href=https://colab.research.google.com/notebooks/data_table.ipynb>data table notebook</a>'\n",
              "            + ' to learn more about interactive tables.';\n",
              "          element.innerHTML = '';\n",
              "          dataTable['output_type'] = 'display_data';\n",
              "          await google.colab.output.renderOutput(dataTable, element);\n",
              "          const docLink = document.createElement('div');\n",
              "          docLink.innerHTML = docLinkHtml;\n",
              "          element.appendChild(docLink);\n",
              "        }\n",
              "      </script>\n",
              "    </div>\n",
              "  </div>\n",
              "  "
            ]
          },
          "metadata": {},
          "execution_count": 32
        }
      ]
    },
    {
      "cell_type": "code",
      "source": [
        "Fvote.to_csv('/content/drive/MyDrive/Colab Notebooks/MachineLearning/data/Fvote.csv', sep=',', encoding='utf-8')"
      ],
      "metadata": {
        "id": "GdcgFRzvg2Df"
      },
      "execution_count": null,
      "outputs": []
    },
    {
      "cell_type": "markdown",
      "source": [
        "# 2. 데이터셋 나누기"
      ],
      "metadata": {
        "id": "9T1j2jOEhOxf"
      }
    },
    {
      "cell_type": "code",
      "source": [
        "import warnings\n",
        "warnings.filterwarnings(\"ignore\")"
      ],
      "metadata": {
        "id": "fiOYrY_5hBQT"
      },
      "execution_count": null,
      "outputs": []
    },
    {
      "cell_type": "code",
      "source": [
        "# Fvote.csv : 데이터 스케일링 후\n",
        "data = pd.read_csv('/content/drive/MyDrive/Colab Notebooks/MachineLearning/data/Fvote.csv', encoding='utf-8')"
      ],
      "metadata": {
        "id": "dA1B47g9hVFM"
      },
      "execution_count": null,
      "outputs": []
    },
    {
      "cell_type": "code",
      "source": [
        "data.head()\n",
        "# 칼럼 0이 삽입됨"
      ],
      "metadata": {
        "colab": {
          "base_uri": "https://localhost:8080/",
          "height": 287
        },
        "id": "lCUQy-WzhrZL",
        "outputId": "d3a41270-68f1-4c7f-a350-c1e0a1db32d3"
      },
      "execution_count": null,
      "outputs": [
        {
          "output_type": "execute_result",
          "data": {
            "text/plain": [
              "   Unnamed: 0  gender_female  gender_male  region_Chungcheung  region_Honam  \\\n",
              "0           0              0            1                   0             0   \n",
              "1           1              0            1                   0             0   \n",
              "2           2              0            1                   0             1   \n",
              "3           3              1            0                   0             0   \n",
              "4           4              0            1                   0             0   \n",
              "\n",
              "   region_Others  region_Sudo  region_Youngnam  edu    income       age  \\\n",
              "0              0            0                1  1.0  0.666667  0.666667   \n",
              "1              1            0                0  0.5  0.666667  0.666667   \n",
              "2              0            0                0  0.0  0.333333  1.000000   \n",
              "3              0            1                0  0.5  0.000000  0.666667   \n",
              "4              0            1                0  0.0  0.333333  1.000000   \n",
              "\n",
              "   score_gov  score_progress  score_intention  vote  parties  \n",
              "0       0.25            0.25             0.75     1        2  \n",
              "1       0.25            0.75             0.50     0        3  \n",
              "2       0.00            0.50             0.45     1        4  \n",
              "3       1.00            0.75             0.40     1        1  \n",
              "4       0.75            0.50             0.35     1        1  "
            ],
            "text/html": [
              "\n",
              "  <div id=\"df-376dfb13-ad65-4abc-9d1e-e933a81b352b\">\n",
              "    <div class=\"colab-df-container\">\n",
              "      <div>\n",
              "<style scoped>\n",
              "    .dataframe tbody tr th:only-of-type {\n",
              "        vertical-align: middle;\n",
              "    }\n",
              "\n",
              "    .dataframe tbody tr th {\n",
              "        vertical-align: top;\n",
              "    }\n",
              "\n",
              "    .dataframe thead th {\n",
              "        text-align: right;\n",
              "    }\n",
              "</style>\n",
              "<table border=\"1\" class=\"dataframe\">\n",
              "  <thead>\n",
              "    <tr style=\"text-align: right;\">\n",
              "      <th></th>\n",
              "      <th>Unnamed: 0</th>\n",
              "      <th>gender_female</th>\n",
              "      <th>gender_male</th>\n",
              "      <th>region_Chungcheung</th>\n",
              "      <th>region_Honam</th>\n",
              "      <th>region_Others</th>\n",
              "      <th>region_Sudo</th>\n",
              "      <th>region_Youngnam</th>\n",
              "      <th>edu</th>\n",
              "      <th>income</th>\n",
              "      <th>age</th>\n",
              "      <th>score_gov</th>\n",
              "      <th>score_progress</th>\n",
              "      <th>score_intention</th>\n",
              "      <th>vote</th>\n",
              "      <th>parties</th>\n",
              "    </tr>\n",
              "  </thead>\n",
              "  <tbody>\n",
              "    <tr>\n",
              "      <th>0</th>\n",
              "      <td>0</td>\n",
              "      <td>0</td>\n",
              "      <td>1</td>\n",
              "      <td>0</td>\n",
              "      <td>0</td>\n",
              "      <td>0</td>\n",
              "      <td>0</td>\n",
              "      <td>1</td>\n",
              "      <td>1.0</td>\n",
              "      <td>0.666667</td>\n",
              "      <td>0.666667</td>\n",
              "      <td>0.25</td>\n",
              "      <td>0.25</td>\n",
              "      <td>0.75</td>\n",
              "      <td>1</td>\n",
              "      <td>2</td>\n",
              "    </tr>\n",
              "    <tr>\n",
              "      <th>1</th>\n",
              "      <td>1</td>\n",
              "      <td>0</td>\n",
              "      <td>1</td>\n",
              "      <td>0</td>\n",
              "      <td>0</td>\n",
              "      <td>1</td>\n",
              "      <td>0</td>\n",
              "      <td>0</td>\n",
              "      <td>0.5</td>\n",
              "      <td>0.666667</td>\n",
              "      <td>0.666667</td>\n",
              "      <td>0.25</td>\n",
              "      <td>0.75</td>\n",
              "      <td>0.50</td>\n",
              "      <td>0</td>\n",
              "      <td>3</td>\n",
              "    </tr>\n",
              "    <tr>\n",
              "      <th>2</th>\n",
              "      <td>2</td>\n",
              "      <td>0</td>\n",
              "      <td>1</td>\n",
              "      <td>0</td>\n",
              "      <td>1</td>\n",
              "      <td>0</td>\n",
              "      <td>0</td>\n",
              "      <td>0</td>\n",
              "      <td>0.0</td>\n",
              "      <td>0.333333</td>\n",
              "      <td>1.000000</td>\n",
              "      <td>0.00</td>\n",
              "      <td>0.50</td>\n",
              "      <td>0.45</td>\n",
              "      <td>1</td>\n",
              "      <td>4</td>\n",
              "    </tr>\n",
              "    <tr>\n",
              "      <th>3</th>\n",
              "      <td>3</td>\n",
              "      <td>1</td>\n",
              "      <td>0</td>\n",
              "      <td>0</td>\n",
              "      <td>0</td>\n",
              "      <td>0</td>\n",
              "      <td>1</td>\n",
              "      <td>0</td>\n",
              "      <td>0.5</td>\n",
              "      <td>0.000000</td>\n",
              "      <td>0.666667</td>\n",
              "      <td>1.00</td>\n",
              "      <td>0.75</td>\n",
              "      <td>0.40</td>\n",
              "      <td>1</td>\n",
              "      <td>1</td>\n",
              "    </tr>\n",
              "    <tr>\n",
              "      <th>4</th>\n",
              "      <td>4</td>\n",
              "      <td>0</td>\n",
              "      <td>1</td>\n",
              "      <td>0</td>\n",
              "      <td>0</td>\n",
              "      <td>0</td>\n",
              "      <td>1</td>\n",
              "      <td>0</td>\n",
              "      <td>0.0</td>\n",
              "      <td>0.333333</td>\n",
              "      <td>1.000000</td>\n",
              "      <td>0.75</td>\n",
              "      <td>0.50</td>\n",
              "      <td>0.35</td>\n",
              "      <td>1</td>\n",
              "      <td>1</td>\n",
              "    </tr>\n",
              "  </tbody>\n",
              "</table>\n",
              "</div>\n",
              "      <button class=\"colab-df-convert\" onclick=\"convertToInteractive('df-376dfb13-ad65-4abc-9d1e-e933a81b352b')\"\n",
              "              title=\"Convert this dataframe to an interactive table.\"\n",
              "              style=\"display:none;\">\n",
              "        \n",
              "  <svg xmlns=\"http://www.w3.org/2000/svg\" height=\"24px\"viewBox=\"0 0 24 24\"\n",
              "       width=\"24px\">\n",
              "    <path d=\"M0 0h24v24H0V0z\" fill=\"none\"/>\n",
              "    <path d=\"M18.56 5.44l.94 2.06.94-2.06 2.06-.94-2.06-.94-.94-2.06-.94 2.06-2.06.94zm-11 1L8.5 8.5l.94-2.06 2.06-.94-2.06-.94L8.5 2.5l-.94 2.06-2.06.94zm10 10l.94 2.06.94-2.06 2.06-.94-2.06-.94-.94-2.06-.94 2.06-2.06.94z\"/><path d=\"M17.41 7.96l-1.37-1.37c-.4-.4-.92-.59-1.43-.59-.52 0-1.04.2-1.43.59L10.3 9.45l-7.72 7.72c-.78.78-.78 2.05 0 2.83L4 21.41c.39.39.9.59 1.41.59.51 0 1.02-.2 1.41-.59l7.78-7.78 2.81-2.81c.8-.78.8-2.07 0-2.86zM5.41 20L4 18.59l7.72-7.72 1.47 1.35L5.41 20z\"/>\n",
              "  </svg>\n",
              "      </button>\n",
              "      \n",
              "  <style>\n",
              "    .colab-df-container {\n",
              "      display:flex;\n",
              "      flex-wrap:wrap;\n",
              "      gap: 12px;\n",
              "    }\n",
              "\n",
              "    .colab-df-convert {\n",
              "      background-color: #E8F0FE;\n",
              "      border: none;\n",
              "      border-radius: 50%;\n",
              "      cursor: pointer;\n",
              "      display: none;\n",
              "      fill: #1967D2;\n",
              "      height: 32px;\n",
              "      padding: 0 0 0 0;\n",
              "      width: 32px;\n",
              "    }\n",
              "\n",
              "    .colab-df-convert:hover {\n",
              "      background-color: #E2EBFA;\n",
              "      box-shadow: 0px 1px 2px rgba(60, 64, 67, 0.3), 0px 1px 3px 1px rgba(60, 64, 67, 0.15);\n",
              "      fill: #174EA6;\n",
              "    }\n",
              "\n",
              "    [theme=dark] .colab-df-convert {\n",
              "      background-color: #3B4455;\n",
              "      fill: #D2E3FC;\n",
              "    }\n",
              "\n",
              "    [theme=dark] .colab-df-convert:hover {\n",
              "      background-color: #434B5C;\n",
              "      box-shadow: 0px 1px 3px 1px rgba(0, 0, 0, 0.15);\n",
              "      filter: drop-shadow(0px 1px 2px rgba(0, 0, 0, 0.3));\n",
              "      fill: #FFFFFF;\n",
              "    }\n",
              "  </style>\n",
              "\n",
              "      <script>\n",
              "        const buttonEl =\n",
              "          document.querySelector('#df-376dfb13-ad65-4abc-9d1e-e933a81b352b button.colab-df-convert');\n",
              "        buttonEl.style.display =\n",
              "          google.colab.kernel.accessAllowed ? 'block' : 'none';\n",
              "\n",
              "        async function convertToInteractive(key) {\n",
              "          const element = document.querySelector('#df-376dfb13-ad65-4abc-9d1e-e933a81b352b');\n",
              "          const dataTable =\n",
              "            await google.colab.kernel.invokeFunction('convertToInteractive',\n",
              "                                                     [key], {});\n",
              "          if (!dataTable) return;\n",
              "\n",
              "          const docLinkHtml = 'Like what you see? Visit the ' +\n",
              "            '<a target=\"_blank\" href=https://colab.research.google.com/notebooks/data_table.ipynb>data table notebook</a>'\n",
              "            + ' to learn more about interactive tables.';\n",
              "          element.innerHTML = '';\n",
              "          dataTable['output_type'] = 'display_data';\n",
              "          await google.colab.output.renderOutput(dataTable, element);\n",
              "          const docLink = document.createElement('div');\n",
              "          docLink.innerHTML = docLinkHtml;\n",
              "          element.appendChild(docLink);\n",
              "        }\n",
              "      </script>\n",
              "    </div>\n",
              "  </div>\n",
              "  "
            ]
          },
          "metadata": {},
          "execution_count": 38
        }
      ]
    },
    {
      "cell_type": "code",
      "source": [
        "data.shape"
      ],
      "metadata": {
        "colab": {
          "base_uri": "https://localhost:8080/"
        },
        "id": "pjFuQ1x_huWM",
        "outputId": "9a9baea8-ec2a-489f-809b-28e22551e168"
      },
      "execution_count": null,
      "outputs": [
        {
          "output_type": "execute_result",
          "data": {
            "text/plain": [
              "(211, 16)"
            ]
          },
          "metadata": {},
          "execution_count": 39
        }
      ]
    },
    {
      "cell_type": "markdown",
      "source": [
        "## 2-1. 특성(X)과 레이블(y) 나누기"
      ],
      "metadata": {
        "id": "E7Z3_5URh0X6"
      }
    },
    {
      "cell_type": "code",
      "source": [
        "# 특성(X)\n",
        "# 방법3: loc 함수로 불러오기 (단, 불러올 특성이 연달아 있어야 함)\n",
        "X = data.loc[:, 'gender_female':'score_intention']"
      ],
      "metadata": {
        "id": "FpgXcAfyhz7_"
      },
      "execution_count": null,
      "outputs": []
    },
    {
      "cell_type": "code",
      "source": [
        "# 레이블(y)\n",
        "y = data[[\"vote\"]]\n",
        "y.head()"
      ],
      "metadata": {
        "colab": {
          "base_uri": "https://localhost:8080/",
          "height": 206
        },
        "id": "iWnIcnHvhyuM",
        "outputId": "17c8fbe7-db6f-428b-9acb-ee1dd22d5f7b"
      },
      "execution_count": null,
      "outputs": [
        {
          "output_type": "execute_result",
          "data": {
            "text/plain": [
              "   vote\n",
              "0     1\n",
              "1     0\n",
              "2     1\n",
              "3     1\n",
              "4     1"
            ],
            "text/html": [
              "\n",
              "  <div id=\"df-645ed7a5-deb7-42c6-bc03-61802cbfcb4d\">\n",
              "    <div class=\"colab-df-container\">\n",
              "      <div>\n",
              "<style scoped>\n",
              "    .dataframe tbody tr th:only-of-type {\n",
              "        vertical-align: middle;\n",
              "    }\n",
              "\n",
              "    .dataframe tbody tr th {\n",
              "        vertical-align: top;\n",
              "    }\n",
              "\n",
              "    .dataframe thead th {\n",
              "        text-align: right;\n",
              "    }\n",
              "</style>\n",
              "<table border=\"1\" class=\"dataframe\">\n",
              "  <thead>\n",
              "    <tr style=\"text-align: right;\">\n",
              "      <th></th>\n",
              "      <th>vote</th>\n",
              "    </tr>\n",
              "  </thead>\n",
              "  <tbody>\n",
              "    <tr>\n",
              "      <th>0</th>\n",
              "      <td>1</td>\n",
              "    </tr>\n",
              "    <tr>\n",
              "      <th>1</th>\n",
              "      <td>0</td>\n",
              "    </tr>\n",
              "    <tr>\n",
              "      <th>2</th>\n",
              "      <td>1</td>\n",
              "    </tr>\n",
              "    <tr>\n",
              "      <th>3</th>\n",
              "      <td>1</td>\n",
              "    </tr>\n",
              "    <tr>\n",
              "      <th>4</th>\n",
              "      <td>1</td>\n",
              "    </tr>\n",
              "  </tbody>\n",
              "</table>\n",
              "</div>\n",
              "      <button class=\"colab-df-convert\" onclick=\"convertToInteractive('df-645ed7a5-deb7-42c6-bc03-61802cbfcb4d')\"\n",
              "              title=\"Convert this dataframe to an interactive table.\"\n",
              "              style=\"display:none;\">\n",
              "        \n",
              "  <svg xmlns=\"http://www.w3.org/2000/svg\" height=\"24px\"viewBox=\"0 0 24 24\"\n",
              "       width=\"24px\">\n",
              "    <path d=\"M0 0h24v24H0V0z\" fill=\"none\"/>\n",
              "    <path d=\"M18.56 5.44l.94 2.06.94-2.06 2.06-.94-2.06-.94-.94-2.06-.94 2.06-2.06.94zm-11 1L8.5 8.5l.94-2.06 2.06-.94-2.06-.94L8.5 2.5l-.94 2.06-2.06.94zm10 10l.94 2.06.94-2.06 2.06-.94-2.06-.94-.94-2.06-.94 2.06-2.06.94z\"/><path d=\"M17.41 7.96l-1.37-1.37c-.4-.4-.92-.59-1.43-.59-.52 0-1.04.2-1.43.59L10.3 9.45l-7.72 7.72c-.78.78-.78 2.05 0 2.83L4 21.41c.39.39.9.59 1.41.59.51 0 1.02-.2 1.41-.59l7.78-7.78 2.81-2.81c.8-.78.8-2.07 0-2.86zM5.41 20L4 18.59l7.72-7.72 1.47 1.35L5.41 20z\"/>\n",
              "  </svg>\n",
              "      </button>\n",
              "      \n",
              "  <style>\n",
              "    .colab-df-container {\n",
              "      display:flex;\n",
              "      flex-wrap:wrap;\n",
              "      gap: 12px;\n",
              "    }\n",
              "\n",
              "    .colab-df-convert {\n",
              "      background-color: #E8F0FE;\n",
              "      border: none;\n",
              "      border-radius: 50%;\n",
              "      cursor: pointer;\n",
              "      display: none;\n",
              "      fill: #1967D2;\n",
              "      height: 32px;\n",
              "      padding: 0 0 0 0;\n",
              "      width: 32px;\n",
              "    }\n",
              "\n",
              "    .colab-df-convert:hover {\n",
              "      background-color: #E2EBFA;\n",
              "      box-shadow: 0px 1px 2px rgba(60, 64, 67, 0.3), 0px 1px 3px 1px rgba(60, 64, 67, 0.15);\n",
              "      fill: #174EA6;\n",
              "    }\n",
              "\n",
              "    [theme=dark] .colab-df-convert {\n",
              "      background-color: #3B4455;\n",
              "      fill: #D2E3FC;\n",
              "    }\n",
              "\n",
              "    [theme=dark] .colab-df-convert:hover {\n",
              "      background-color: #434B5C;\n",
              "      box-shadow: 0px 1px 3px 1px rgba(0, 0, 0, 0.15);\n",
              "      filter: drop-shadow(0px 1px 2px rgba(0, 0, 0, 0.3));\n",
              "      fill: #FFFFFF;\n",
              "    }\n",
              "  </style>\n",
              "\n",
              "      <script>\n",
              "        const buttonEl =\n",
              "          document.querySelector('#df-645ed7a5-deb7-42c6-bc03-61802cbfcb4d button.colab-df-convert');\n",
              "        buttonEl.style.display =\n",
              "          google.colab.kernel.accessAllowed ? 'block' : 'none';\n",
              "\n",
              "        async function convertToInteractive(key) {\n",
              "          const element = document.querySelector('#df-645ed7a5-deb7-42c6-bc03-61802cbfcb4d');\n",
              "          const dataTable =\n",
              "            await google.colab.kernel.invokeFunction('convertToInteractive',\n",
              "                                                     [key], {});\n",
              "          if (!dataTable) return;\n",
              "\n",
              "          const docLinkHtml = 'Like what you see? Visit the ' +\n",
              "            '<a target=\"_blank\" href=https://colab.research.google.com/notebooks/data_table.ipynb>data table notebook</a>'\n",
              "            + ' to learn more about interactive tables.';\n",
              "          element.innerHTML = '';\n",
              "          dataTable['output_type'] = 'display_data';\n",
              "          await google.colab.output.renderOutput(dataTable, element);\n",
              "          const docLink = document.createElement('div');\n",
              "          docLink.innerHTML = docLinkHtml;\n",
              "          element.appendChild(docLink);\n",
              "        }\n",
              "      </script>\n",
              "    </div>\n",
              "  </div>\n",
              "  "
            ]
          },
          "metadata": {},
          "execution_count": 42
        }
      ]
    },
    {
      "cell_type": "markdown",
      "source": [
        "## 2-2. train, test 데이터셋 나누기"
      ],
      "metadata": {
        "id": "ebcmOOo3iZPh"
      }
    },
    {
      "cell_type": "code",
      "source": [
        "from sklearn.model_selection import train_test_split"
      ],
      "metadata": {
        "id": "WYYW1YiIiSxU"
      },
      "execution_count": null,
      "outputs": []
    },
    {
      "cell_type": "code",
      "source": [
        "# Train셋은 X_train, y_train으로, Test셋은 X_test와 y_test으로 정의됨\n",
        "X_train, X_test, y_train, y_test = train_test_split(X, y, stratify = y, random_state = 42)\n",
        "\n",
        "# stratify = 원래 y의 비율에 따라 데이터셋을 랜덤으로 섞기\n",
        "# random_state = 다음에 실행해도 같은 데이터셋으로 결과 도출"
      ],
      "metadata": {
        "id": "ovIPvsx7ikqW"
      },
      "execution_count": null,
      "outputs": []
    },
    {
      "cell_type": "code",
      "source": [
        "print(X_train.shape, X_test.shape, y_train.shape, y_test.shape)\n",
        "# Train은 158개, Test은 53개로 분리됨"
      ],
      "metadata": {
        "colab": {
          "base_uri": "https://localhost:8080/"
        },
        "id": "m_TaY8ALi6CX",
        "outputId": "a2e61994-af37-4226-93c3-2535d6b07685"
      },
      "execution_count": null,
      "outputs": [
        {
          "output_type": "stream",
          "name": "stdout",
          "text": [
            "(158, 13) (53, 13) (158, 1) (53, 1)\n"
          ]
        }
      ]
    },
    {
      "cell_type": "markdown",
      "source": [
        "## 2-3. 모델 적용"
      ],
      "metadata": {
        "id": "eLLXidGhjDGh"
      }
    },
    {
      "cell_type": "code",
      "source": [
        "# KNN 알고리즘 적용 : 대표적인 머신러닝 모델\n",
        "from sklearn.neighbors import KNeighborsClassifier"
      ],
      "metadata": {
        "id": "Ss2g9CHei9X-"
      },
      "execution_count": null,
      "outputs": []
    },
    {
      "cell_type": "code",
      "source": [
        "# 참조할 이웃의 수 : n_neighbors = @\n",
        "knn = KNeighborsClassifier(n_neighbors = 3)"
      ],
      "metadata": {
        "id": "FfcHB9BZjIQA"
      },
      "execution_count": null,
      "outputs": []
    },
    {
      "cell_type": "markdown",
      "source": [
        "### (1) 랜덤없는 교차검증 : cross_val_score"
      ],
      "metadata": {
        "id": "t-YXHotijlzt"
      }
    },
    {
      "cell_type": "code",
      "source": [
        "from sklearn.model_selection import cross_val_score"
      ],
      "metadata": {
        "id": "0Eh9XyiHjhMq"
      },
      "execution_count": null,
      "outputs": []
    },
    {
      "cell_type": "code",
      "source": [
        "# 먼저 train 데이터셋에 적용\n",
        "scores = cross_val_score(knn, X_train, y_train, cv = 5)\n",
        "# cv = fold(나누는 블럭의 개수)\n",
        "\n",
        "scores\n",
        "# 5회 실행한 결과값 : 정확도"
      ],
      "metadata": {
        "colab": {
          "base_uri": "https://localhost:8080/"
        },
        "id": "EmjDTihCkk5Y",
        "outputId": "344246d4-9e49-4d24-d3b4-bc812f023329"
      },
      "execution_count": null,
      "outputs": [
        {
          "output_type": "execute_result",
          "data": {
            "text/plain": [
              "array([0.5625    , 0.625     , 0.5625    , 0.61290323, 0.64516129])"
            ]
          },
          "metadata": {},
          "execution_count": 60
        }
      ]
    },
    {
      "cell_type": "code",
      "source": [
        "scores.mean()"
      ],
      "metadata": {
        "colab": {
          "base_uri": "https://localhost:8080/"
        },
        "id": "iE4vTl81kv8t",
        "outputId": "51591639-94b3-4cc3-b467-ec8a30cf54a7"
      },
      "execution_count": null,
      "outputs": [
        {
          "output_type": "execute_result",
          "data": {
            "text/plain": [
              "0.6016129032258064"
            ]
          },
          "metadata": {},
          "execution_count": 52
        }
      ]
    },
    {
      "cell_type": "code",
      "source": [
        "# X_test, y_test에 예측\n",
        "from sklearn.model_selection import cross_val_predict"
      ],
      "metadata": {
        "id": "NRrEQhQSk0sp"
      },
      "execution_count": null,
      "outputs": []
    },
    {
      "cell_type": "code",
      "source": [
        "cross_val_predict(knn, X_test, y_test, cv = 5)\n",
        "# label에 대한 예측값"
      ],
      "metadata": {
        "colab": {
          "base_uri": "https://localhost:8080/"
        },
        "id": "J1Y9i25_k_C8",
        "outputId": "30256320-4d8a-4a5a-ccd0-e3db8721e37f"
      },
      "execution_count": null,
      "outputs": [
        {
          "output_type": "execute_result",
          "data": {
            "text/plain": [
              "array([1, 1, 1, 1, 0, 1, 1, 0, 0, 1, 1, 1, 1, 0, 1, 1, 1, 1, 0, 1, 1, 1,\n",
              "       1, 1, 1, 1, 0, 1, 1, 1, 1, 1, 1, 1, 1, 1, 1, 0, 1, 1, 0, 1, 1, 1,\n",
              "       1, 1, 1, 1, 1, 1, 1, 0, 0])"
            ]
          },
          "metadata": {},
          "execution_count": 54
        }
      ]
    },
    {
      "cell_type": "markdown",
      "source": [
        "### (2) 랜덤있는 교차검증 : KFold"
      ],
      "metadata": {
        "id": "d0lD0I59lGu6"
      }
    },
    {
      "cell_type": "code",
      "source": [
        "from sklearn.model_selection import KFold"
      ],
      "metadata": {
        "id": "taHUkYHzlEuU"
      },
      "execution_count": null,
      "outputs": []
    },
    {
      "cell_type": "code",
      "source": [
        "# parameter : n_splits\n",
        "kfold = KFold(n_splits = 5, shuffle = True, random_state = 42)"
      ],
      "metadata": {
        "id": "u2f5PUYIlMZj"
      },
      "execution_count": null,
      "outputs": []
    },
    {
      "cell_type": "code",
      "source": [
        "# train 데이터셋에 cv = kfold 적용\n",
        "score = cross_val_score(knn, X_train, y_train, cv = kfold)\n",
        "score"
      ],
      "metadata": {
        "colab": {
          "base_uri": "https://localhost:8080/"
        },
        "id": "AakJWySzlSno",
        "outputId": "3f56a625-45fa-484b-a69f-07acd9dee0be"
      },
      "execution_count": null,
      "outputs": [
        {
          "output_type": "execute_result",
          "data": {
            "text/plain": [
              "array([0.625     , 0.65625   , 0.6875    , 0.70967742, 0.5483871 ])"
            ]
          },
          "metadata": {},
          "execution_count": 58
        }
      ]
    },
    {
      "cell_type": "code",
      "source": [
        "score.mean()"
      ],
      "metadata": {
        "colab": {
          "base_uri": "https://localhost:8080/"
        },
        "id": "Jb_6w56ilam_",
        "outputId": "7c26c603-9afd-4c0f-9e3b-95069e2bda5b"
      },
      "execution_count": null,
      "outputs": [
        {
          "output_type": "execute_result",
          "data": {
            "text/plain": [
              "0.6453629032258065"
            ]
          },
          "metadata": {},
          "execution_count": 59
        }
      ]
    },
    {
      "cell_type": "markdown",
      "source": [
        "### (3) 임의분할 교차검증"
      ],
      "metadata": {
        "id": "_o0XOLl8lkZI"
      }
    },
    {
      "cell_type": "code",
      "source": [
        "from sklearn.model_selection import ShuffleSplit"
      ],
      "metadata": {
        "id": "2Uat4lZqle7m"
      },
      "execution_count": null,
      "outputs": []
    },
    {
      "cell_type": "code",
      "source": [
        "# test_size와 train_size 정해줌\n",
        "shuffle_split = ShuffleSplit(test_size = 0.3, train_size = 0.5, random_state = 42)"
      ],
      "metadata": {
        "id": "wP-ZXxS_lnPb"
      },
      "execution_count": null,
      "outputs": []
    },
    {
      "cell_type": "code",
      "source": [
        "# train 데이터셋에 cv = shuffle_split 적용\n",
        "score = cross_val_score(knn, X_train, y_train, cv = shuffle_split)\n",
        "score"
      ],
      "metadata": {
        "colab": {
          "base_uri": "https://localhost:8080/"
        },
        "id": "kNlPUvNelro9",
        "outputId": "70ac43b5-efac-4005-9800-c8ced22390c0"
      },
      "execution_count": null,
      "outputs": [
        {
          "output_type": "execute_result",
          "data": {
            "text/plain": [
              "array([0.54166667, 0.5625    , 0.64583333, 0.625     , 0.5625    ,\n",
              "       0.66666667, 0.5625    , 0.52083333, 0.6875    , 0.60416667])"
            ]
          },
          "metadata": {},
          "execution_count": 64
        }
      ]
    },
    {
      "cell_type": "code",
      "source": [
        "score.mean()"
      ],
      "metadata": {
        "colab": {
          "base_uri": "https://localhost:8080/"
        },
        "id": "2uSzARxclyug",
        "outputId": "8dca416e-5964-490b-a259-c5f9374fddff"
      },
      "execution_count": null,
      "outputs": [
        {
          "output_type": "execute_result",
          "data": {
            "text/plain": [
              "0.5979166666666667"
            ]
          },
          "metadata": {},
          "execution_count": 65
        }
      ]
    },
    {
      "cell_type": "markdown",
      "source": [
        "### (4) train / test / validity 분할과 교차검증"
      ],
      "metadata": {
        "id": "l8ZwO2ksl7Lc"
      }
    },
    {
      "cell_type": "code",
      "source": [
        "from sklearn.model_selection import train_test_split"
      ],
      "metadata": {
        "id": "RKr_4ZYml440"
      },
      "execution_count": null,
      "outputs": []
    },
    {
      "cell_type": "code",
      "source": [
        "X_train_val, X_test, y_train_val, y_test = train_test_split(X, y, random_state=1)"
      ],
      "metadata": {
        "id": "5HIe9e3FmDzI"
      },
      "execution_count": null,
      "outputs": []
    },
    {
      "cell_type": "code",
      "source": [
        "# train, valid, test로 나누기\n",
        "X_train, X_valid, y_train, y_valid = train_test_split(X_train_val, y_train_val, random_state=2)"
      ],
      "metadata": {
        "id": "aopGs6mXmIO_"
      },
      "execution_count": null,
      "outputs": []
    },
    {
      "cell_type": "code",
      "source": [
        "from sklearn.neighbors import KNeighborsClassifier"
      ],
      "metadata": {
        "id": "OlXIwpuSmMKl"
      },
      "execution_count": null,
      "outputs": []
    },
    {
      "cell_type": "code",
      "source": [
        "knn = KNeighborsClassifier(n_neighbors = 3)"
      ],
      "metadata": {
        "id": "enrn54xumPld"
      },
      "execution_count": null,
      "outputs": []
    },
    {
      "cell_type": "code",
      "source": [
        "# train에 적용\n",
        "knn.fit(X_train, y_train)"
      ],
      "metadata": {
        "colab": {
          "base_uri": "https://localhost:8080/"
        },
        "id": "LpkxzH6MnhmZ",
        "outputId": "59fea3bd-a286-4605-b8bd-8d90df056101"
      },
      "execution_count": null,
      "outputs": [
        {
          "output_type": "execute_result",
          "data": {
            "text/plain": [
              "KNeighborsClassifier(n_neighbors=3)"
            ]
          },
          "metadata": {},
          "execution_count": 78
        }
      ]
    },
    {
      "cell_type": "code",
      "source": [
        "scores = cross_val_score(knn, X_train, y_train, cv = 5)\n",
        "scores"
      ],
      "metadata": {
        "colab": {
          "base_uri": "https://localhost:8080/"
        },
        "id": "m74L8NccmS31",
        "outputId": "05d41dbc-1385-4bdf-f978-175c55e7191b"
      },
      "execution_count": null,
      "outputs": [
        {
          "output_type": "execute_result",
          "data": {
            "text/plain": [
              "array([0.75      , 0.83333333, 0.54166667, 0.60869565, 0.73913043])"
            ]
          },
          "metadata": {},
          "execution_count": 79
        }
      ]
    },
    {
      "cell_type": "code",
      "source": [
        "scores.mean()"
      ],
      "metadata": {
        "colab": {
          "base_uri": "https://localhost:8080/"
        },
        "id": "5t64RH-smYmH",
        "outputId": "bc2cfd0b-cf93-4d3e-a9f9-8aa85731946b"
      },
      "execution_count": null,
      "outputs": [
        {
          "output_type": "execute_result",
          "data": {
            "text/plain": [
              "0.6945652173913043"
            ]
          },
          "metadata": {},
          "execution_count": 80
        }
      ]
    },
    {
      "cell_type": "code",
      "source": [
        "# valid에 적용\n",
        "knn.score(X_valid, y_valid)"
      ],
      "metadata": {
        "colab": {
          "base_uri": "https://localhost:8080/"
        },
        "id": "PYmWOBrtmcpM",
        "outputId": "189a48b4-9791-46f5-cac8-3d1e0adf9401"
      },
      "execution_count": null,
      "outputs": [
        {
          "output_type": "execute_result",
          "data": {
            "text/plain": [
              "0.6"
            ]
          },
          "metadata": {},
          "execution_count": 81
        }
      ]
    },
    {
      "cell_type": "code",
      "source": [
        "# test에 적용\n",
        "knn.score(X_test, y_test)"
      ],
      "metadata": {
        "colab": {
          "base_uri": "https://localhost:8080/"
        },
        "id": "PlyXprY1mfjT",
        "outputId": "769c1fc8-68e4-4e4f-808c-51a2a371ec69"
      },
      "execution_count": null,
      "outputs": [
        {
          "output_type": "execute_result",
          "data": {
            "text/plain": [
              "0.6226415094339622"
            ]
          },
          "metadata": {},
          "execution_count": 82
        }
      ]
    },
    {
      "cell_type": "markdown",
      "source": [
        "# 3. 모델 훈련과 세부튜닝"
      ],
      "metadata": {
        "id": "qdoEbISen6Ti"
      }
    },
    {
      "cell_type": "markdown",
      "source": [
        "## 3-1. Grid Search"
      ],
      "metadata": {
        "id": "I4FJ08Ecow7N"
      }
    },
    {
      "cell_type": "code",
      "source": [
        "# 모델 훈련을 위해 GridSearchCV를 선언\n",
        "from sklearn.model_selection import GridSearchCV"
      ],
      "metadata": {
        "id": "5xS72lc-n5wZ"
      },
      "execution_count": null,
      "outputs": []
    },
    {
      "cell_type": "code",
      "source": [
        "# GridSearch의 범위를 1~10으로 지정\n",
        "param_grid = {'n_neighbors': [1, 2, 3, 4, 5, 6, 7, 8, 9 , 10]}"
      ],
      "metadata": {
        "id": "T2ZIRMdqnxPG"
      },
      "execution_count": null,
      "outputs": []
    },
    {
      "cell_type": "code",
      "source": [
        "from sklearn.neighbors import KNeighborsClassifier"
      ],
      "metadata": {
        "id": "stqtC3EZoLUM"
      },
      "execution_count": null,
      "outputs": []
    },
    {
      "cell_type": "code",
      "source": [
        "# KNN 알고리즘에 GridSearch를 적용\n",
        "# n_neighbors(parameter) : param_grid 넣기\n",
        "\n",
        "grid_search = GridSearchCV(KNeighborsClassifier(), param_grid, cv = 5, return_train_score = True)\n",
        "# param_grid = n_neighbors가 한 값이 아니라 1~10까지 돌려보기\n",
        "# return_train_score = True 조건 넣기"
      ],
      "metadata": {
        "id": "_xju8ZiEoNOU"
      },
      "execution_count": null,
      "outputs": []
    },
    {
      "cell_type": "code",
      "source": [
        "# Train 데이터에 GridSearch를 적용 -> 모델 만들기\n",
        "grid_search.fit(X_train, y_train)"
      ],
      "metadata": {
        "colab": {
          "base_uri": "https://localhost:8080/"
        },
        "id": "dfS1UTLdoU8a",
        "outputId": "7d2aac42-1d64-465b-b641-45a91a60b7c0"
      },
      "execution_count": null,
      "outputs": [
        {
          "output_type": "execute_result",
          "data": {
            "text/plain": [
              "GridSearchCV(cv=5, estimator=KNeighborsClassifier(),\n",
              "             param_grid={'n_neighbors': [1, 2, 3, 4, 5, 6, 7, 8, 9, 10]},\n",
              "             return_train_score=True)"
            ]
          },
          "metadata": {},
          "execution_count": 87
        }
      ]
    },
    {
      "cell_type": "code",
      "source": [
        "# best parameter : 가장 좋은 결과를 얻는 그리드를 출력\n",
        "print(\"Best Parameter: {}\".format(grid_search.best_params_))"
      ],
      "metadata": {
        "colab": {
          "base_uri": "https://localhost:8080/"
        },
        "id": "EGTxRdX8oaOo",
        "outputId": "7bcc4b9f-acc5-440c-9ca7-74451de96654"
      },
      "execution_count": null,
      "outputs": [
        {
          "output_type": "stream",
          "name": "stdout",
          "text": [
            "Best Parameter: {'n_neighbors': 9}\n"
          ]
        }
      ]
    },
    {
      "cell_type": "code",
      "source": [
        "# grid_search의 최종 스코어를 출력\n",
        "print(\"Best Cross-validity Score: {:.3f}\".format(grid_search.best_score_))"
      ],
      "metadata": {
        "colab": {
          "base_uri": "https://localhost:8080/"
        },
        "id": "KYDjMGMtod7g",
        "outputId": "cbaab757-4365-4b66-e90e-40052bf45827"
      },
      "execution_count": null,
      "outputs": [
        {
          "output_type": "stream",
          "name": "stdout",
          "text": [
            "Best Cross-validity Score: 0.738\n"
          ]
        }
      ]
    },
    {
      "cell_type": "code",
      "source": [
        "# Test 데이터에 대해 grid_search 알고리즘을 적용\n",
        "print(\"Test set Score: {:.3f}\".format(grid_search.score(X_test, y_test)))"
      ],
      "metadata": {
        "colab": {
          "base_uri": "https://localhost:8080/"
        },
        "id": "I1o4aReDohYy",
        "outputId": "7e2814fa-adf7-4bbc-e11c-c33bbe3bfd83"
      },
      "execution_count": null,
      "outputs": [
        {
          "output_type": "stream",
          "name": "stdout",
          "text": [
            "Test set Score: 0.717\n"
          ]
        }
      ]
    },
    {
      "cell_type": "code",
      "source": [
        "result_grid = pd.DataFrame(grid_search.cv_results_)\n",
        "result_grid"
      ],
      "metadata": {
        "colab": {
          "base_uri": "https://localhost:8080/",
          "height": 630
        },
        "id": "wtwUj9HVokEr",
        "outputId": "14aa2a75-42e4-4586-d83f-46ddc1850e90"
      },
      "execution_count": null,
      "outputs": [
        {
          "output_type": "execute_result",
          "data": {
            "text/plain": [
              "   mean_fit_time  std_fit_time  mean_score_time  std_score_time  \\\n",
              "0       0.004601      0.001017         0.004512        0.001189   \n",
              "1       0.004598      0.000434         0.003892        0.000166   \n",
              "2       0.006154      0.004538         0.003823        0.000151   \n",
              "3       0.003854      0.000377         0.003560        0.000400   \n",
              "4       0.003992      0.000388         0.006188        0.003504   \n",
              "5       0.003893      0.001739         0.003196        0.000861   \n",
              "6       0.002596      0.000255         0.002883        0.000886   \n",
              "7       0.002302      0.000021         0.002163        0.000030   \n",
              "8       0.002410      0.000168         0.002205        0.000097   \n",
              "9       0.002312      0.000027         0.002178        0.000054   \n",
              "\n",
              "  param_n_neighbors               params  split0_test_score  \\\n",
              "0                 1   {'n_neighbors': 1}           0.750000   \n",
              "1                 2   {'n_neighbors': 2}           0.500000   \n",
              "2                 3   {'n_neighbors': 3}           0.750000   \n",
              "3                 4   {'n_neighbors': 4}           0.541667   \n",
              "4                 5   {'n_neighbors': 5}           0.708333   \n",
              "5                 6   {'n_neighbors': 6}           0.583333   \n",
              "6                 7   {'n_neighbors': 7}           0.708333   \n",
              "7                 8   {'n_neighbors': 8}           0.666667   \n",
              "8                 9   {'n_neighbors': 9}           0.708333   \n",
              "9                10  {'n_neighbors': 10}           0.666667   \n",
              "\n",
              "   split1_test_score  split2_test_score  split3_test_score  ...  \\\n",
              "0           0.666667           0.625000           0.434783  ...   \n",
              "1           0.625000           0.583333           0.478261  ...   \n",
              "2           0.833333           0.541667           0.608696  ...   \n",
              "3           0.750000           0.416667           0.478261  ...   \n",
              "4           0.875000           0.583333           0.782609  ...   \n",
              "5           0.875000           0.583333           0.739130  ...   \n",
              "6           0.708333           0.625000           0.782609  ...   \n",
              "7           0.750000           0.625000           0.739130  ...   \n",
              "8           0.708333           0.708333           0.782609  ...   \n",
              "9           0.708333           0.625000           0.739130  ...   \n",
              "\n",
              "   mean_test_score  std_test_score  rank_test_score  split0_train_score  \\\n",
              "0         0.617029        0.103433                8            0.989362   \n",
              "1         0.550362        0.054062               10            0.755319   \n",
              "2         0.694565        0.104945                7            0.797872   \n",
              "3         0.585145        0.136080                9            0.776596   \n",
              "4         0.737681        0.095458                2            0.776596   \n",
              "5         0.703986        0.110300                5            0.734043   \n",
              "6         0.703986        0.050055                4            0.808511   \n",
              "7         0.695290        0.046207                6            0.765957   \n",
              "8         0.738043        0.036387                1            0.787234   \n",
              "9         0.704348        0.054893                3            0.765957   \n",
              "\n",
              "   split1_train_score  split2_train_score  split3_train_score  \\\n",
              "0            1.000000            0.989362            1.000000   \n",
              "1            0.765957            0.797872            0.852632   \n",
              "2            0.819149            0.797872            0.852632   \n",
              "3            0.755319            0.755319            0.778947   \n",
              "4            0.787234            0.765957            0.800000   \n",
              "5            0.755319            0.765957            0.800000   \n",
              "6            0.702128            0.744681            0.768421   \n",
              "7            0.702128            0.755319            0.778947   \n",
              "8            0.712766            0.776596            0.757895   \n",
              "9            0.712766            0.776596            0.768421   \n",
              "\n",
              "   split4_train_score  mean_train_score  std_train_score  \n",
              "0            0.989474          0.993639         0.005194  \n",
              "1            0.831579          0.800672         0.037215  \n",
              "2            0.821053          0.817716         0.020099  \n",
              "3            0.747368          0.762710         0.012658  \n",
              "4            0.800000          0.785957         0.013294  \n",
              "5            0.768421          0.764748         0.021398  \n",
              "6            0.821053          0.768959         0.043207  \n",
              "7            0.800000          0.760470         0.032755  \n",
              "8            0.757895          0.758477         0.025477  \n",
              "9            0.747368          0.754222         0.022828  \n",
              "\n",
              "[10 rows x 21 columns]"
            ],
            "text/html": [
              "\n",
              "  <div id=\"df-40631504-a2e1-42ac-9637-71f0bf511749\">\n",
              "    <div class=\"colab-df-container\">\n",
              "      <div>\n",
              "<style scoped>\n",
              "    .dataframe tbody tr th:only-of-type {\n",
              "        vertical-align: middle;\n",
              "    }\n",
              "\n",
              "    .dataframe tbody tr th {\n",
              "        vertical-align: top;\n",
              "    }\n",
              "\n",
              "    .dataframe thead th {\n",
              "        text-align: right;\n",
              "    }\n",
              "</style>\n",
              "<table border=\"1\" class=\"dataframe\">\n",
              "  <thead>\n",
              "    <tr style=\"text-align: right;\">\n",
              "      <th></th>\n",
              "      <th>mean_fit_time</th>\n",
              "      <th>std_fit_time</th>\n",
              "      <th>mean_score_time</th>\n",
              "      <th>std_score_time</th>\n",
              "      <th>param_n_neighbors</th>\n",
              "      <th>params</th>\n",
              "      <th>split0_test_score</th>\n",
              "      <th>split1_test_score</th>\n",
              "      <th>split2_test_score</th>\n",
              "      <th>split3_test_score</th>\n",
              "      <th>...</th>\n",
              "      <th>mean_test_score</th>\n",
              "      <th>std_test_score</th>\n",
              "      <th>rank_test_score</th>\n",
              "      <th>split0_train_score</th>\n",
              "      <th>split1_train_score</th>\n",
              "      <th>split2_train_score</th>\n",
              "      <th>split3_train_score</th>\n",
              "      <th>split4_train_score</th>\n",
              "      <th>mean_train_score</th>\n",
              "      <th>std_train_score</th>\n",
              "    </tr>\n",
              "  </thead>\n",
              "  <tbody>\n",
              "    <tr>\n",
              "      <th>0</th>\n",
              "      <td>0.004601</td>\n",
              "      <td>0.001017</td>\n",
              "      <td>0.004512</td>\n",
              "      <td>0.001189</td>\n",
              "      <td>1</td>\n",
              "      <td>{'n_neighbors': 1}</td>\n",
              "      <td>0.750000</td>\n",
              "      <td>0.666667</td>\n",
              "      <td>0.625000</td>\n",
              "      <td>0.434783</td>\n",
              "      <td>...</td>\n",
              "      <td>0.617029</td>\n",
              "      <td>0.103433</td>\n",
              "      <td>8</td>\n",
              "      <td>0.989362</td>\n",
              "      <td>1.000000</td>\n",
              "      <td>0.989362</td>\n",
              "      <td>1.000000</td>\n",
              "      <td>0.989474</td>\n",
              "      <td>0.993639</td>\n",
              "      <td>0.005194</td>\n",
              "    </tr>\n",
              "    <tr>\n",
              "      <th>1</th>\n",
              "      <td>0.004598</td>\n",
              "      <td>0.000434</td>\n",
              "      <td>0.003892</td>\n",
              "      <td>0.000166</td>\n",
              "      <td>2</td>\n",
              "      <td>{'n_neighbors': 2}</td>\n",
              "      <td>0.500000</td>\n",
              "      <td>0.625000</td>\n",
              "      <td>0.583333</td>\n",
              "      <td>0.478261</td>\n",
              "      <td>...</td>\n",
              "      <td>0.550362</td>\n",
              "      <td>0.054062</td>\n",
              "      <td>10</td>\n",
              "      <td>0.755319</td>\n",
              "      <td>0.765957</td>\n",
              "      <td>0.797872</td>\n",
              "      <td>0.852632</td>\n",
              "      <td>0.831579</td>\n",
              "      <td>0.800672</td>\n",
              "      <td>0.037215</td>\n",
              "    </tr>\n",
              "    <tr>\n",
              "      <th>2</th>\n",
              "      <td>0.006154</td>\n",
              "      <td>0.004538</td>\n",
              "      <td>0.003823</td>\n",
              "      <td>0.000151</td>\n",
              "      <td>3</td>\n",
              "      <td>{'n_neighbors': 3}</td>\n",
              "      <td>0.750000</td>\n",
              "      <td>0.833333</td>\n",
              "      <td>0.541667</td>\n",
              "      <td>0.608696</td>\n",
              "      <td>...</td>\n",
              "      <td>0.694565</td>\n",
              "      <td>0.104945</td>\n",
              "      <td>7</td>\n",
              "      <td>0.797872</td>\n",
              "      <td>0.819149</td>\n",
              "      <td>0.797872</td>\n",
              "      <td>0.852632</td>\n",
              "      <td>0.821053</td>\n",
              "      <td>0.817716</td>\n",
              "      <td>0.020099</td>\n",
              "    </tr>\n",
              "    <tr>\n",
              "      <th>3</th>\n",
              "      <td>0.003854</td>\n",
              "      <td>0.000377</td>\n",
              "      <td>0.003560</td>\n",
              "      <td>0.000400</td>\n",
              "      <td>4</td>\n",
              "      <td>{'n_neighbors': 4}</td>\n",
              "      <td>0.541667</td>\n",
              "      <td>0.750000</td>\n",
              "      <td>0.416667</td>\n",
              "      <td>0.478261</td>\n",
              "      <td>...</td>\n",
              "      <td>0.585145</td>\n",
              "      <td>0.136080</td>\n",
              "      <td>9</td>\n",
              "      <td>0.776596</td>\n",
              "      <td>0.755319</td>\n",
              "      <td>0.755319</td>\n",
              "      <td>0.778947</td>\n",
              "      <td>0.747368</td>\n",
              "      <td>0.762710</td>\n",
              "      <td>0.012658</td>\n",
              "    </tr>\n",
              "    <tr>\n",
              "      <th>4</th>\n",
              "      <td>0.003992</td>\n",
              "      <td>0.000388</td>\n",
              "      <td>0.006188</td>\n",
              "      <td>0.003504</td>\n",
              "      <td>5</td>\n",
              "      <td>{'n_neighbors': 5}</td>\n",
              "      <td>0.708333</td>\n",
              "      <td>0.875000</td>\n",
              "      <td>0.583333</td>\n",
              "      <td>0.782609</td>\n",
              "      <td>...</td>\n",
              "      <td>0.737681</td>\n",
              "      <td>0.095458</td>\n",
              "      <td>2</td>\n",
              "      <td>0.776596</td>\n",
              "      <td>0.787234</td>\n",
              "      <td>0.765957</td>\n",
              "      <td>0.800000</td>\n",
              "      <td>0.800000</td>\n",
              "      <td>0.785957</td>\n",
              "      <td>0.013294</td>\n",
              "    </tr>\n",
              "    <tr>\n",
              "      <th>5</th>\n",
              "      <td>0.003893</td>\n",
              "      <td>0.001739</td>\n",
              "      <td>0.003196</td>\n",
              "      <td>0.000861</td>\n",
              "      <td>6</td>\n",
              "      <td>{'n_neighbors': 6}</td>\n",
              "      <td>0.583333</td>\n",
              "      <td>0.875000</td>\n",
              "      <td>0.583333</td>\n",
              "      <td>0.739130</td>\n",
              "      <td>...</td>\n",
              "      <td>0.703986</td>\n",
              "      <td>0.110300</td>\n",
              "      <td>5</td>\n",
              "      <td>0.734043</td>\n",
              "      <td>0.755319</td>\n",
              "      <td>0.765957</td>\n",
              "      <td>0.800000</td>\n",
              "      <td>0.768421</td>\n",
              "      <td>0.764748</td>\n",
              "      <td>0.021398</td>\n",
              "    </tr>\n",
              "    <tr>\n",
              "      <th>6</th>\n",
              "      <td>0.002596</td>\n",
              "      <td>0.000255</td>\n",
              "      <td>0.002883</td>\n",
              "      <td>0.000886</td>\n",
              "      <td>7</td>\n",
              "      <td>{'n_neighbors': 7}</td>\n",
              "      <td>0.708333</td>\n",
              "      <td>0.708333</td>\n",
              "      <td>0.625000</td>\n",
              "      <td>0.782609</td>\n",
              "      <td>...</td>\n",
              "      <td>0.703986</td>\n",
              "      <td>0.050055</td>\n",
              "      <td>4</td>\n",
              "      <td>0.808511</td>\n",
              "      <td>0.702128</td>\n",
              "      <td>0.744681</td>\n",
              "      <td>0.768421</td>\n",
              "      <td>0.821053</td>\n",
              "      <td>0.768959</td>\n",
              "      <td>0.043207</td>\n",
              "    </tr>\n",
              "    <tr>\n",
              "      <th>7</th>\n",
              "      <td>0.002302</td>\n",
              "      <td>0.000021</td>\n",
              "      <td>0.002163</td>\n",
              "      <td>0.000030</td>\n",
              "      <td>8</td>\n",
              "      <td>{'n_neighbors': 8}</td>\n",
              "      <td>0.666667</td>\n",
              "      <td>0.750000</td>\n",
              "      <td>0.625000</td>\n",
              "      <td>0.739130</td>\n",
              "      <td>...</td>\n",
              "      <td>0.695290</td>\n",
              "      <td>0.046207</td>\n",
              "      <td>6</td>\n",
              "      <td>0.765957</td>\n",
              "      <td>0.702128</td>\n",
              "      <td>0.755319</td>\n",
              "      <td>0.778947</td>\n",
              "      <td>0.800000</td>\n",
              "      <td>0.760470</td>\n",
              "      <td>0.032755</td>\n",
              "    </tr>\n",
              "    <tr>\n",
              "      <th>8</th>\n",
              "      <td>0.002410</td>\n",
              "      <td>0.000168</td>\n",
              "      <td>0.002205</td>\n",
              "      <td>0.000097</td>\n",
              "      <td>9</td>\n",
              "      <td>{'n_neighbors': 9}</td>\n",
              "      <td>0.708333</td>\n",
              "      <td>0.708333</td>\n",
              "      <td>0.708333</td>\n",
              "      <td>0.782609</td>\n",
              "      <td>...</td>\n",
              "      <td>0.738043</td>\n",
              "      <td>0.036387</td>\n",
              "      <td>1</td>\n",
              "      <td>0.787234</td>\n",
              "      <td>0.712766</td>\n",
              "      <td>0.776596</td>\n",
              "      <td>0.757895</td>\n",
              "      <td>0.757895</td>\n",
              "      <td>0.758477</td>\n",
              "      <td>0.025477</td>\n",
              "    </tr>\n",
              "    <tr>\n",
              "      <th>9</th>\n",
              "      <td>0.002312</td>\n",
              "      <td>0.000027</td>\n",
              "      <td>0.002178</td>\n",
              "      <td>0.000054</td>\n",
              "      <td>10</td>\n",
              "      <td>{'n_neighbors': 10}</td>\n",
              "      <td>0.666667</td>\n",
              "      <td>0.708333</td>\n",
              "      <td>0.625000</td>\n",
              "      <td>0.739130</td>\n",
              "      <td>...</td>\n",
              "      <td>0.704348</td>\n",
              "      <td>0.054893</td>\n",
              "      <td>3</td>\n",
              "      <td>0.765957</td>\n",
              "      <td>0.712766</td>\n",
              "      <td>0.776596</td>\n",
              "      <td>0.768421</td>\n",
              "      <td>0.747368</td>\n",
              "      <td>0.754222</td>\n",
              "      <td>0.022828</td>\n",
              "    </tr>\n",
              "  </tbody>\n",
              "</table>\n",
              "<p>10 rows × 21 columns</p>\n",
              "</div>\n",
              "      <button class=\"colab-df-convert\" onclick=\"convertToInteractive('df-40631504-a2e1-42ac-9637-71f0bf511749')\"\n",
              "              title=\"Convert this dataframe to an interactive table.\"\n",
              "              style=\"display:none;\">\n",
              "        \n",
              "  <svg xmlns=\"http://www.w3.org/2000/svg\" height=\"24px\"viewBox=\"0 0 24 24\"\n",
              "       width=\"24px\">\n",
              "    <path d=\"M0 0h24v24H0V0z\" fill=\"none\"/>\n",
              "    <path d=\"M18.56 5.44l.94 2.06.94-2.06 2.06-.94-2.06-.94-.94-2.06-.94 2.06-2.06.94zm-11 1L8.5 8.5l.94-2.06 2.06-.94-2.06-.94L8.5 2.5l-.94 2.06-2.06.94zm10 10l.94 2.06.94-2.06 2.06-.94-2.06-.94-.94-2.06-.94 2.06-2.06.94z\"/><path d=\"M17.41 7.96l-1.37-1.37c-.4-.4-.92-.59-1.43-.59-.52 0-1.04.2-1.43.59L10.3 9.45l-7.72 7.72c-.78.78-.78 2.05 0 2.83L4 21.41c.39.39.9.59 1.41.59.51 0 1.02-.2 1.41-.59l7.78-7.78 2.81-2.81c.8-.78.8-2.07 0-2.86zM5.41 20L4 18.59l7.72-7.72 1.47 1.35L5.41 20z\"/>\n",
              "  </svg>\n",
              "      </button>\n",
              "      \n",
              "  <style>\n",
              "    .colab-df-container {\n",
              "      display:flex;\n",
              "      flex-wrap:wrap;\n",
              "      gap: 12px;\n",
              "    }\n",
              "\n",
              "    .colab-df-convert {\n",
              "      background-color: #E8F0FE;\n",
              "      border: none;\n",
              "      border-radius: 50%;\n",
              "      cursor: pointer;\n",
              "      display: none;\n",
              "      fill: #1967D2;\n",
              "      height: 32px;\n",
              "      padding: 0 0 0 0;\n",
              "      width: 32px;\n",
              "    }\n",
              "\n",
              "    .colab-df-convert:hover {\n",
              "      background-color: #E2EBFA;\n",
              "      box-shadow: 0px 1px 2px rgba(60, 64, 67, 0.3), 0px 1px 3px 1px rgba(60, 64, 67, 0.15);\n",
              "      fill: #174EA6;\n",
              "    }\n",
              "\n",
              "    [theme=dark] .colab-df-convert {\n",
              "      background-color: #3B4455;\n",
              "      fill: #D2E3FC;\n",
              "    }\n",
              "\n",
              "    [theme=dark] .colab-df-convert:hover {\n",
              "      background-color: #434B5C;\n",
              "      box-shadow: 0px 1px 3px 1px rgba(0, 0, 0, 0.15);\n",
              "      filter: drop-shadow(0px 1px 2px rgba(0, 0, 0, 0.3));\n",
              "      fill: #FFFFFF;\n",
              "    }\n",
              "  </style>\n",
              "\n",
              "      <script>\n",
              "        const buttonEl =\n",
              "          document.querySelector('#df-40631504-a2e1-42ac-9637-71f0bf511749 button.colab-df-convert');\n",
              "        buttonEl.style.display =\n",
              "          google.colab.kernel.accessAllowed ? 'block' : 'none';\n",
              "\n",
              "        async function convertToInteractive(key) {\n",
              "          const element = document.querySelector('#df-40631504-a2e1-42ac-9637-71f0bf511749');\n",
              "          const dataTable =\n",
              "            await google.colab.kernel.invokeFunction('convertToInteractive',\n",
              "                                                     [key], {});\n",
              "          if (!dataTable) return;\n",
              "\n",
              "          const docLinkHtml = 'Like what you see? Visit the ' +\n",
              "            '<a target=\"_blank\" href=https://colab.research.google.com/notebooks/data_table.ipynb>data table notebook</a>'\n",
              "            + ' to learn more about interactive tables.';\n",
              "          element.innerHTML = '';\n",
              "          dataTable['output_type'] = 'display_data';\n",
              "          await google.colab.output.renderOutput(dataTable, element);\n",
              "          const docLink = document.createElement('div');\n",
              "          docLink.innerHTML = docLinkHtml;\n",
              "          element.appendChild(docLink);\n",
              "        }\n",
              "      </script>\n",
              "    </div>\n",
              "  </div>\n",
              "  "
            ]
          },
          "metadata": {},
          "execution_count": 91
        }
      ]
    },
    {
      "cell_type": "code",
      "source": [
        "import matplotlib.pyplot as plt\n",
        "plt.plot(result_grid['param_n_neighbors'], result_grid['mean_train_score'], label = \"Train\")\n",
        "plt.plot(result_grid['param_n_neighbors'], result_grid['mean_test_score'], label = \"Test\")\n",
        "plt.legend()"
      ],
      "metadata": {
        "colab": {
          "base_uri": "https://localhost:8080/",
          "height": 283
        },
        "id": "EXkTVtOXond3",
        "outputId": "5ed54252-54ef-42f2-ff10-9058b699231a"
      },
      "execution_count": null,
      "outputs": [
        {
          "output_type": "execute_result",
          "data": {
            "text/plain": [
              "<matplotlib.legend.Legend at 0x7fc67f986fd0>"
            ]
          },
          "metadata": {},
          "execution_count": 92
        },
        {
          "output_type": "display_data",
          "data": {
            "text/plain": [
              "<Figure size 432x288 with 1 Axes>"
            ],
            "image/png": "[encoded data removed]"
          },
          "metadata": {
            "needs_background": "light"
          }
        }
      ]
    },
    {
      "cell_type": "markdown",
      "source": [
        "## 3-2. Random Search"
      ],
      "metadata": {
        "id": "vuOFXKpMo0cf"
      }
    },
    {
      "cell_type": "code",
      "source": [
        "from sklearn.model_selection import RandomizedSearchCV"
      ],
      "metadata": {
        "id": "21a0ubJIotVA"
      },
      "execution_count": null,
      "outputs": []
    },
    {
      "cell_type": "code",
      "source": [
        "from scipy.stats import randint"
      ],
      "metadata": {
        "id": "GfaiMG8ioq9d"
      },
      "execution_count": null,
      "outputs": []
    },
    {
      "cell_type": "code",
      "source": [
        "# n_neighbors에 최소, 최대 주기\n",
        "param_distribs = {'n_neighbors': randint(low=1, high=20)}"
      ],
      "metadata": {
        "id": "1CwrEu5XpJOR"
      },
      "execution_count": null,
      "outputs": []
    },
    {
      "cell_type": "code",
      "source": [
        "from sklearn.neighbors import KNeighborsClassifier"
      ],
      "metadata": {
        "id": "xaoWdFhso_gT"
      },
      "execution_count": null,
      "outputs": []
    },
    {
      "cell_type": "code",
      "source": [
        "random_search = RandomizedSearchCV(KNeighborsClassifier(), param_distributions = param_distribs, cv = 5, return_train_score = True)"
      ],
      "metadata": {
        "id": "QQ7t3hqCpBAA"
      },
      "execution_count": null,
      "outputs": []
    },
    {
      "cell_type": "code",
      "source": [
        "random_search.fit(X_train, y_train)"
      ],
      "metadata": {
        "colab": {
          "base_uri": "https://localhost:8080/"
        },
        "id": "DjtE8C_npFKH",
        "outputId": "1a6a3398-3f69-4ce4-f3aa-10dec4287779"
      },
      "execution_count": null,
      "outputs": [
        {
          "output_type": "execute_result",
          "data": {
            "text/plain": [
              "RandomizedSearchCV(cv=5, estimator=KNeighborsClassifier(),\n",
              "                   param_distributions={'n_neighbors': <scipy.stats._distn_infrastructure.rv_frozen object at 0x7fc67f901f10>},\n",
              "                   return_train_score=True)"
            ]
          },
          "metadata": {},
          "execution_count": 100
        }
      ]
    },
    {
      "cell_type": "code",
      "source": [
        "print(\"Best Parameter: {}\".format(random_search.best_params_))"
      ],
      "metadata": {
        "colab": {
          "base_uri": "https://localhost:8080/"
        },
        "id": "lbkpXod4pNI5",
        "outputId": "afdc3a9d-3a61-448d-e7af-b67384994738"
      },
      "execution_count": null,
      "outputs": [
        {
          "output_type": "stream",
          "name": "stdout",
          "text": [
            "Best Parameter: {'n_neighbors': 12}\n"
          ]
        }
      ]
    },
    {
      "cell_type": "code",
      "source": [
        "print(\"Best Cross-validity Score: {:.3f}\".format(random_search.best_score_))"
      ],
      "metadata": {
        "colab": {
          "base_uri": "https://localhost:8080/"
        },
        "id": "83EvDXgmpO1m",
        "outputId": "604829cb-edf1-4ef5-9dc1-e34ab000404a"
      },
      "execution_count": null,
      "outputs": [
        {
          "output_type": "stream",
          "name": "stdout",
          "text": [
            "Best Cross-validity Score: 0.746\n"
          ]
        }
      ]
    },
    {
      "cell_type": "code",
      "source": [
        "print(\"Test set Score: {:.3f}\".format(random_search.score(X_test, y_test)))"
      ],
      "metadata": {
        "colab": {
          "base_uri": "https://localhost:8080/"
        },
        "id": "FYyKra-tpQTE",
        "outputId": "adc65b52-a680-44cf-93c0-96860427fcd1"
      },
      "execution_count": null,
      "outputs": [
        {
          "output_type": "stream",
          "name": "stdout",
          "text": [
            "Test set Score: 0.698\n"
          ]
        }
      ]
    },
    {
      "cell_type": "code",
      "source": [
        "result_random = pd.DataFrame(random_search.cv_results_)\n",
        "result_random"
      ],
      "metadata": {
        "colab": {
          "base_uri": "https://localhost:8080/",
          "height": 630
        },
        "id": "d9uccGq6pRee",
        "outputId": "76102943-b4e0-41ab-82b7-96cc8832cb4c"
      },
      "execution_count": null,
      "outputs": [
        {
          "output_type": "execute_result",
          "data": {
            "text/plain": [
              "   mean_fit_time  std_fit_time  mean_score_time  std_score_time  \\\n",
              "0       0.002817      0.000573         0.002838        0.000952   \n",
              "1       0.002805      0.000320         0.002927        0.001049   \n",
              "2       0.002873      0.000478         0.002440        0.000090   \n",
              "3       0.002951      0.000395         0.002468        0.000101   \n",
              "4       0.003167      0.001017         0.002908        0.000899   \n",
              "5       0.004282      0.000147         0.003857        0.000283   \n",
              "6       0.004159      0.000230         0.003830        0.000175   \n",
              "7       0.004188      0.000298         0.003708        0.000316   \n",
              "8       0.004336      0.000108         0.003876        0.000231   \n",
              "9       0.005034      0.001190         0.005075        0.001741   \n",
              "\n",
              "  param_n_neighbors               params  split0_test_score  \\\n",
              "0                 2   {'n_neighbors': 2}           0.500000   \n",
              "1                12  {'n_neighbors': 12}           0.708333   \n",
              "2                17  {'n_neighbors': 17}           0.666667   \n",
              "3                12  {'n_neighbors': 12}           0.708333   \n",
              "4                 6   {'n_neighbors': 6}           0.583333   \n",
              "5                18  {'n_neighbors': 18}           0.666667   \n",
              "6                 1   {'n_neighbors': 1}           0.750000   \n",
              "7                 4   {'n_neighbors': 4}           0.541667   \n",
              "8                 5   {'n_neighbors': 5}           0.708333   \n",
              "9                13  {'n_neighbors': 13}           0.708333   \n",
              "\n",
              "   split1_test_score  split2_test_score  split3_test_score  ...  \\\n",
              "0           0.625000           0.583333           0.478261  ...   \n",
              "1           0.708333           0.750000           0.782609  ...   \n",
              "2           0.708333           0.708333           0.739130  ...   \n",
              "3           0.708333           0.750000           0.782609  ...   \n",
              "4           0.875000           0.583333           0.739130  ...   \n",
              "5           0.708333           0.708333           0.782609  ...   \n",
              "6           0.666667           0.625000           0.434783  ...   \n",
              "7           0.750000           0.416667           0.478261  ...   \n",
              "8           0.875000           0.583333           0.782609  ...   \n",
              "9           0.708333           0.750000           0.782609  ...   \n",
              "\n",
              "   mean_test_score  std_test_score  rank_test_score  split0_train_score  \\\n",
              "0         0.550362        0.054062               10            0.755319   \n",
              "1         0.746377        0.033266                1            0.776596   \n",
              "2         0.721014        0.038464                6            0.755319   \n",
              "3         0.746377        0.033266                1            0.776596   \n",
              "4         0.703986        0.110300                7            0.734043   \n",
              "5         0.729710        0.045793                5            0.765957   \n",
              "6         0.617029        0.103433                8            0.989362   \n",
              "7         0.585145        0.136080                9            0.776596   \n",
              "8         0.737681        0.095458                3            0.776596   \n",
              "9         0.737681        0.027910                3            0.776596   \n",
              "\n",
              "   split1_train_score  split2_train_score  split3_train_score  \\\n",
              "0            0.765957            0.797872            0.852632   \n",
              "1            0.723404            0.765957            0.778947   \n",
              "2            0.723404            0.765957            0.726316   \n",
              "3            0.723404            0.765957            0.778947   \n",
              "4            0.755319            0.765957            0.800000   \n",
              "5            0.734043            0.755319            0.726316   \n",
              "6            1.000000            0.989362            1.000000   \n",
              "7            0.755319            0.755319            0.778947   \n",
              "8            0.787234            0.765957            0.800000   \n",
              "9            0.723404            0.765957            0.715789   \n",
              "\n",
              "   split4_train_score  mean_train_score  std_train_score  \n",
              "0            0.831579          0.800672         0.037215  \n",
              "1            0.747368          0.758455         0.020769  \n",
              "2            0.705263          0.735252         0.022204  \n",
              "3            0.747368          0.758455         0.020769  \n",
              "4            0.768421          0.764748         0.021398  \n",
              "5            0.715789          0.739485         0.018526  \n",
              "6            0.989474          0.993639         0.005194  \n",
              "7            0.747368          0.762710         0.012658  \n",
              "8            0.800000          0.785957         0.013294  \n",
              "9            0.726316          0.741613         0.024694  \n",
              "\n",
              "[10 rows x 21 columns]"
            ],
            "text/html": [
              "\n",
              "  <div id=\"df-e16a8ef9-d284-41a5-a6db-2fc4bcd93faa\">\n",
              "    <div class=\"colab-df-container\">\n",
              "      <div>\n",
              "<style scoped>\n",
              "    .dataframe tbody tr th:only-of-type {\n",
              "        vertical-align: middle;\n",
              "    }\n",
              "\n",
              "    .dataframe tbody tr th {\n",
              "        vertical-align: top;\n",
              "    }\n",
              "\n",
              "    .dataframe thead th {\n",
              "        text-align: right;\n",
              "    }\n",
              "</style>\n",
              "<table border=\"1\" class=\"dataframe\">\n",
              "  <thead>\n",
              "    <tr style=\"text-align: right;\">\n",
              "      <th></th>\n",
              "      <th>mean_fit_time</th>\n",
              "      <th>std_fit_time</th>\n",
              "      <th>mean_score_time</th>\n",
              "      <th>std_score_time</th>\n",
              "      <th>param_n_neighbors</th>\n",
              "      <th>params</th>\n",
              "      <th>split0_test_score</th>\n",
              "      <th>split1_test_score</th>\n",
              "      <th>split2_test_score</th>\n",
              "      <th>split3_test_score</th>\n",
              "      <th>...</th>\n",
              "      <th>mean_test_score</th>\n",
              "      <th>std_test_score</th>\n",
              "      <th>rank_test_score</th>\n",
              "      <th>split0_train_score</th>\n",
              "      <th>split1_train_score</th>\n",
              "      <th>split2_train_score</th>\n",
              "      <th>split3_train_score</th>\n",
              "      <th>split4_train_score</th>\n",
              "      <th>mean_train_score</th>\n",
              "      <th>std_train_score</th>\n",
              "    </tr>\n",
              "  </thead>\n",
              "  <tbody>\n",
              "    <tr>\n",
              "      <th>0</th>\n",
              "      <td>0.002817</td>\n",
              "      <td>0.000573</td>\n",
              "      <td>0.002838</td>\n",
              "      <td>0.000952</td>\n",
              "      <td>2</td>\n",
              "      <td>{'n_neighbors': 2}</td>\n",
              "      <td>0.500000</td>\n",
              "      <td>0.625000</td>\n",
              "      <td>0.583333</td>\n",
              "      <td>0.478261</td>\n",
              "      <td>...</td>\n",
              "      <td>0.550362</td>\n",
              "      <td>0.054062</td>\n",
              "      <td>10</td>\n",
              "      <td>0.755319</td>\n",
              "      <td>0.765957</td>\n",
              "      <td>0.797872</td>\n",
              "      <td>0.852632</td>\n",
              "      <td>0.831579</td>\n",
              "      <td>0.800672</td>\n",
              "      <td>0.037215</td>\n",
              "    </tr>\n",
              "    <tr>\n",
              "      <th>1</th>\n",
              "      <td>0.002805</td>\n",
              "      <td>0.000320</td>\n",
              "      <td>0.002927</td>\n",
              "      <td>0.001049</td>\n",
              "      <td>12</td>\n",
              "      <td>{'n_neighbors': 12}</td>\n",
              "      <td>0.708333</td>\n",
              "      <td>0.708333</td>\n",
              "      <td>0.750000</td>\n",
              "      <td>0.782609</td>\n",
              "      <td>...</td>\n",
              "      <td>0.746377</td>\n",
              "      <td>0.033266</td>\n",
              "      <td>1</td>\n",
              "      <td>0.776596</td>\n",
              "      <td>0.723404</td>\n",
              "      <td>0.765957</td>\n",
              "      <td>0.778947</td>\n",
              "      <td>0.747368</td>\n",
              "      <td>0.758455</td>\n",
              "      <td>0.020769</td>\n",
              "    </tr>\n",
              "    <tr>\n",
              "      <th>2</th>\n",
              "      <td>0.002873</td>\n",
              "      <td>0.000478</td>\n",
              "      <td>0.002440</td>\n",
              "      <td>0.000090</td>\n",
              "      <td>17</td>\n",
              "      <td>{'n_neighbors': 17}</td>\n",
              "      <td>0.666667</td>\n",
              "      <td>0.708333</td>\n",
              "      <td>0.708333</td>\n",
              "      <td>0.739130</td>\n",
              "      <td>...</td>\n",
              "      <td>0.721014</td>\n",
              "      <td>0.038464</td>\n",
              "      <td>6</td>\n",
              "      <td>0.755319</td>\n",
              "      <td>0.723404</td>\n",
              "      <td>0.765957</td>\n",
              "      <td>0.726316</td>\n",
              "      <td>0.705263</td>\n",
              "      <td>0.735252</td>\n",
              "      <td>0.022204</td>\n",
              "    </tr>\n",
              "    <tr>\n",
              "      <th>3</th>\n",
              "      <td>0.002951</td>\n",
              "      <td>0.000395</td>\n",
              "      <td>0.002468</td>\n",
              "      <td>0.000101</td>\n",
              "      <td>12</td>\n",
              "      <td>{'n_neighbors': 12}</td>\n",
              "      <td>0.708333</td>\n",
              "      <td>0.708333</td>\n",
              "      <td>0.750000</td>\n",
              "      <td>0.782609</td>\n",
              "      <td>...</td>\n",
              "      <td>0.746377</td>\n",
              "      <td>0.033266</td>\n",
              "      <td>1</td>\n",
              "      <td>0.776596</td>\n",
              "      <td>0.723404</td>\n",
              "      <td>0.765957</td>\n",
              "      <td>0.778947</td>\n",
              "      <td>0.747368</td>\n",
              "      <td>0.758455</td>\n",
              "      <td>0.020769</td>\n",
              "    </tr>\n",
              "    <tr>\n",
              "      <th>4</th>\n",
              "      <td>0.003167</td>\n",
              "      <td>0.001017</td>\n",
              "      <td>0.002908</td>\n",
              "      <td>0.000899</td>\n",
              "      <td>6</td>\n",
              "      <td>{'n_neighbors': 6}</td>\n",
              "      <td>0.583333</td>\n",
              "      <td>0.875000</td>\n",
              "      <td>0.583333</td>\n",
              "      <td>0.739130</td>\n",
              "      <td>...</td>\n",
              "      <td>0.703986</td>\n",
              "      <td>0.110300</td>\n",
              "      <td>7</td>\n",
              "      <td>0.734043</td>\n",
              "      <td>0.755319</td>\n",
              "      <td>0.765957</td>\n",
              "      <td>0.800000</td>\n",
              "      <td>0.768421</td>\n",
              "      <td>0.764748</td>\n",
              "      <td>0.021398</td>\n",
              "    </tr>\n",
              "    <tr>\n",
              "      <th>5</th>\n",
              "      <td>0.004282</td>\n",
              "      <td>0.000147</td>\n",
              "      <td>0.003857</td>\n",
              "      <td>0.000283</td>\n",
              "      <td>18</td>\n",
              "      <td>{'n_neighbors': 18}</td>\n",
              "      <td>0.666667</td>\n",
              "      <td>0.708333</td>\n",
              "      <td>0.708333</td>\n",
              "      <td>0.782609</td>\n",
              "      <td>...</td>\n",
              "      <td>0.729710</td>\n",
              "      <td>0.045793</td>\n",
              "      <td>5</td>\n",
              "      <td>0.765957</td>\n",
              "      <td>0.734043</td>\n",
              "      <td>0.755319</td>\n",
              "      <td>0.726316</td>\n",
              "      <td>0.715789</td>\n",
              "      <td>0.739485</td>\n",
              "      <td>0.018526</td>\n",
              "    </tr>\n",
              "    <tr>\n",
              "      <th>6</th>\n",
              "      <td>0.004159</td>\n",
              "      <td>0.000230</td>\n",
              "      <td>0.003830</td>\n",
              "      <td>0.000175</td>\n",
              "      <td>1</td>\n",
              "      <td>{'n_neighbors': 1}</td>\n",
              "      <td>0.750000</td>\n",
              "      <td>0.666667</td>\n",
              "      <td>0.625000</td>\n",
              "      <td>0.434783</td>\n",
              "      <td>...</td>\n",
              "      <td>0.617029</td>\n",
              "      <td>0.103433</td>\n",
              "      <td>8</td>\n",
              "      <td>0.989362</td>\n",
              "      <td>1.000000</td>\n",
              "      <td>0.989362</td>\n",
              "      <td>1.000000</td>\n",
              "      <td>0.989474</td>\n",
              "      <td>0.993639</td>\n",
              "      <td>0.005194</td>\n",
              "    </tr>\n",
              "    <tr>\n",
              "      <th>7</th>\n",
              "      <td>0.004188</td>\n",
              "      <td>0.000298</td>\n",
              "      <td>0.003708</td>\n",
              "      <td>0.000316</td>\n",
              "      <td>4</td>\n",
              "      <td>{'n_neighbors': 4}</td>\n",
              "      <td>0.541667</td>\n",
              "      <td>0.750000</td>\n",
              "      <td>0.416667</td>\n",
              "      <td>0.478261</td>\n",
              "      <td>...</td>\n",
              "      <td>0.585145</td>\n",
              "      <td>0.136080</td>\n",
              "      <td>9</td>\n",
              "      <td>0.776596</td>\n",
              "      <td>0.755319</td>\n",
              "      <td>0.755319</td>\n",
              "      <td>0.778947</td>\n",
              "      <td>0.747368</td>\n",
              "      <td>0.762710</td>\n",
              "      <td>0.012658</td>\n",
              "    </tr>\n",
              "    <tr>\n",
              "      <th>8</th>\n",
              "      <td>0.004336</td>\n",
              "      <td>0.000108</td>\n",
              "      <td>0.003876</td>\n",
              "      <td>0.000231</td>\n",
              "      <td>5</td>\n",
              "      <td>{'n_neighbors': 5}</td>\n",
              "      <td>0.708333</td>\n",
              "      <td>0.875000</td>\n",
              "      <td>0.583333</td>\n",
              "      <td>0.782609</td>\n",
              "      <td>...</td>\n",
              "      <td>0.737681</td>\n",
              "      <td>0.095458</td>\n",
              "      <td>3</td>\n",
              "      <td>0.776596</td>\n",
              "      <td>0.787234</td>\n",
              "      <td>0.765957</td>\n",
              "      <td>0.800000</td>\n",
              "      <td>0.800000</td>\n",
              "      <td>0.785957</td>\n",
              "      <td>0.013294</td>\n",
              "    </tr>\n",
              "    <tr>\n",
              "      <th>9</th>\n",
              "      <td>0.005034</td>\n",
              "      <td>0.001190</td>\n",
              "      <td>0.005075</td>\n",
              "      <td>0.001741</td>\n",
              "      <td>13</td>\n",
              "      <td>{'n_neighbors': 13}</td>\n",
              "      <td>0.708333</td>\n",
              "      <td>0.708333</td>\n",
              "      <td>0.750000</td>\n",
              "      <td>0.782609</td>\n",
              "      <td>...</td>\n",
              "      <td>0.737681</td>\n",
              "      <td>0.027910</td>\n",
              "      <td>3</td>\n",
              "      <td>0.776596</td>\n",
              "      <td>0.723404</td>\n",
              "      <td>0.765957</td>\n",
              "      <td>0.715789</td>\n",
              "      <td>0.726316</td>\n",
              "      <td>0.741613</td>\n",
              "      <td>0.024694</td>\n",
              "    </tr>\n",
              "  </tbody>\n",
              "</table>\n",
              "<p>10 rows × 21 columns</p>\n",
              "</div>\n",
              "      <button class=\"colab-df-convert\" onclick=\"convertToInteractive('df-e16a8ef9-d284-41a5-a6db-2fc4bcd93faa')\"\n",
              "              title=\"Convert this dataframe to an interactive table.\"\n",
              "              style=\"display:none;\">\n",
              "        \n",
              "  <svg xmlns=\"http://www.w3.org/2000/svg\" height=\"24px\"viewBox=\"0 0 24 24\"\n",
              "       width=\"24px\">\n",
              "    <path d=\"M0 0h24v24H0V0z\" fill=\"none\"/>\n",
              "    <path d=\"M18.56 5.44l.94 2.06.94-2.06 2.06-.94-2.06-.94-.94-2.06-.94 2.06-2.06.94zm-11 1L8.5 8.5l.94-2.06 2.06-.94-2.06-.94L8.5 2.5l-.94 2.06-2.06.94zm10 10l.94 2.06.94-2.06 2.06-.94-2.06-.94-.94-2.06-.94 2.06-2.06.94z\"/><path d=\"M17.41 7.96l-1.37-1.37c-.4-.4-.92-.59-1.43-.59-.52 0-1.04.2-1.43.59L10.3 9.45l-7.72 7.72c-.78.78-.78 2.05 0 2.83L4 21.41c.39.39.9.59 1.41.59.51 0 1.02-.2 1.41-.59l7.78-7.78 2.81-2.81c.8-.78.8-2.07 0-2.86zM5.41 20L4 18.59l7.72-7.72 1.47 1.35L5.41 20z\"/>\n",
              "  </svg>\n",
              "      </button>\n",
              "      \n",
              "  <style>\n",
              "    .colab-df-container {\n",
              "      display:flex;\n",
              "      flex-wrap:wrap;\n",
              "      gap: 12px;\n",
              "    }\n",
              "\n",
              "    .colab-df-convert {\n",
              "      background-color: #E8F0FE;\n",
              "      border: none;\n",
              "      border-radius: 50%;\n",
              "      cursor: pointer;\n",
              "      display: none;\n",
              "      fill: #1967D2;\n",
              "      height: 32px;\n",
              "      padding: 0 0 0 0;\n",
              "      width: 32px;\n",
              "    }\n",
              "\n",
              "    .colab-df-convert:hover {\n",
              "      background-color: #E2EBFA;\n",
              "      box-shadow: 0px 1px 2px rgba(60, 64, 67, 0.3), 0px 1px 3px 1px rgba(60, 64, 67, 0.15);\n",
              "      fill: #174EA6;\n",
              "    }\n",
              "\n",
              "    [theme=dark] .colab-df-convert {\n",
              "      background-color: #3B4455;\n",
              "      fill: #D2E3FC;\n",
              "    }\n",
              "\n",
              "    [theme=dark] .colab-df-convert:hover {\n",
              "      background-color: #434B5C;\n",
              "      box-shadow: 0px 1px 3px 1px rgba(0, 0, 0, 0.15);\n",
              "      filter: drop-shadow(0px 1px 2px rgba(0, 0, 0, 0.3));\n",
              "      fill: #FFFFFF;\n",
              "    }\n",
              "  </style>\n",
              "\n",
              "      <script>\n",
              "        const buttonEl =\n",
              "          document.querySelector('#df-e16a8ef9-d284-41a5-a6db-2fc4bcd93faa button.colab-df-convert');\n",
              "        buttonEl.style.display =\n",
              "          google.colab.kernel.accessAllowed ? 'block' : 'none';\n",
              "\n",
              "        async function convertToInteractive(key) {\n",
              "          const element = document.querySelector('#df-e16a8ef9-d284-41a5-a6db-2fc4bcd93faa');\n",
              "          const dataTable =\n",
              "            await google.colab.kernel.invokeFunction('convertToInteractive',\n",
              "                                                     [key], {});\n",
              "          if (!dataTable) return;\n",
              "\n",
              "          const docLinkHtml = 'Like what you see? Visit the ' +\n",
              "            '<a target=\"_blank\" href=https://colab.research.google.com/notebooks/data_table.ipynb>data table notebook</a>'\n",
              "            + ' to learn more about interactive tables.';\n",
              "          element.innerHTML = '';\n",
              "          dataTable['output_type'] = 'display_data';\n",
              "          await google.colab.output.renderOutput(dataTable, element);\n",
              "          const docLink = document.createElement('div');\n",
              "          docLink.innerHTML = docLinkHtml;\n",
              "          element.appendChild(docLink);\n",
              "        }\n",
              "      </script>\n",
              "    </div>\n",
              "  </div>\n",
              "  "
            ]
          },
          "metadata": {},
          "execution_count": 105
        }
      ]
    },
    {
      "cell_type": "code",
      "source": [
        "import matplotlib.pyplot as plt\n",
        "plt.plot(result_random['param_n_neighbors'], result_random['mean_train_score'], label=\"Train\")\n",
        "plt.plot(result_random['param_n_neighbors'], result_random['mean_test_score'], label=\"Test\")\n",
        "plt.legend()"
      ],
      "metadata": {
        "colab": {
          "base_uri": "https://localhost:8080/",
          "height": 283
        },
        "id": "DzhWta_MpS1v",
        "outputId": "29ca44be-ad2d-4911-e3ac-9f65c3ae0a16"
      },
      "execution_count": null,
      "outputs": [
        {
          "output_type": "execute_result",
          "data": {
            "text/plain": [
              "<matplotlib.legend.Legend at 0x7fc67f88fd10>"
            ]
          },
          "metadata": {},
          "execution_count": 106
        },
        {
          "output_type": "display_data",
          "data": {
            "text/plain": [
              "<Figure size 432x288 with 1 Axes>"
            ],
            "image/png": "[encoded data removed]"
          },
          "metadata": {
            "needs_background": "light"
          }
        }
      ]
    },
    {
      "cell_type": "code",
      "source": [
        "# 결과 csv로 저장\n",
        "# result_random.to_csv('result_random.csv', sep=',', encoding = 'utf-8')"
      ],
      "metadata": {
        "id": "6MeuxiPEpWaJ"
      },
      "execution_count": null,
      "outputs": []
    },
    {
      "cell_type": "markdown",
      "source": [
        "#4. 이진 분류_모델 평가"
      ],
      "metadata": {
        "id": "Feh6JS4apbsk"
      }
    },
    {
      "cell_type": "code",
      "source": [
        "from sklearn.neighbors import KNeighborsClassifier"
      ],
      "metadata": {
        "id": "ysMShNS0plS3"
      },
      "execution_count": null,
      "outputs": []
    },
    {
      "cell_type": "code",
      "source": [
        "# 앞 단계에서 얻은 best parameter : n_neighbors = 9\n",
        "knn9 = KNeighborsClassifier(n_neighbors = 9)"
      ],
      "metadata": {
        "id": "1-43fJCYpnZL"
      },
      "execution_count": null,
      "outputs": []
    },
    {
      "cell_type": "code",
      "source": [
        "knn9.fit(X_train, y_train)"
      ],
      "metadata": {
        "colab": {
          "base_uri": "https://localhost:8080/"
        },
        "id": "bAGNi1DMpwqC",
        "outputId": "89b754d9-6bd4-4c67-8315-8f43805eb0b9"
      },
      "execution_count": null,
      "outputs": [
        {
          "output_type": "execute_result",
          "data": {
            "text/plain": [
              "KNeighborsClassifier(n_neighbors=9)"
            ]
          },
          "metadata": {},
          "execution_count": 109
        }
      ]
    },
    {
      "cell_type": "code",
      "source": [
        "from sklearn.metrics import confusion_matrix\n",
        "# Confusion matrix에서\n",
        "# [정확도]Accuracy =(TN + TP) / Total\n",
        "# [정밀도]Precision = TP / (TP + FP)\n",
        "# [재현율]Recall = TP / (TP + FN)\n",
        "# f-score = 2 / ((1 / precision) + (1 / recall))"
      ],
      "metadata": {
        "id": "5FiCvLFgpxwo"
      },
      "execution_count": null,
      "outputs": []
    },
    {
      "cell_type": "code",
      "source": [
        "# y_train : given label = 알고있는 결과값\n",
        "pred_train = knn9.predict(X_train)"
      ],
      "metadata": {
        "id": "T8bYU20VpzTA"
      },
      "execution_count": null,
      "outputs": []
    },
    {
      "cell_type": "code",
      "source": [
        "# 실제 값 / 예측 값 비교\n",
        "confusion_train = confusion_matrix(y_train, pred_train)"
      ],
      "metadata": {
        "id": "loffDXxVp3kl"
      },
      "execution_count": null,
      "outputs": []
    },
    {
      "cell_type": "code",
      "source": [
        "print(\"훈련데이터 오차행렬:\\n\", confusion_train)\n",
        "# 118개 중 92개 맞고 26개 틀림"
      ],
      "metadata": {
        "colab": {
          "base_uri": "https://localhost:8080/"
        },
        "id": "3kZndpEup5PV",
        "outputId": "dc1b5450-5bc0-436f-da23-8251476d1afd"
      },
      "execution_count": null,
      "outputs": [
        {
          "output_type": "stream",
          "name": "stdout",
          "text": [
            "훈련데이터 오차행렬:\n",
            " [[ 8 25]\n",
            " [ 1 84]]\n"
          ]
        }
      ]
    },
    {
      "cell_type": "code",
      "source": [
        "# y_test : given label = 알고있는 결과값\n",
        "pred_test = knn9.predict(X_test)"
      ],
      "metadata": {
        "id": "mLRauFM9p7sI"
      },
      "execution_count": null,
      "outputs": []
    },
    {
      "cell_type": "code",
      "source": [
        "confusion_test = confusion_matrix(y_test, pred_test)"
      ],
      "metadata": {
        "id": "AilptBAkqK5K"
      },
      "execution_count": null,
      "outputs": []
    },
    {
      "cell_type": "code",
      "source": [
        "print(\"테스트데이터 오차행렬:\\n\", confusion_test)"
      ],
      "metadata": {
        "colab": {
          "base_uri": "https://localhost:8080/"
        },
        "id": "YoqwXy7oqMwm",
        "outputId": "473e68a1-58ec-4ab8-8f69-67e13911886f"
      },
      "execution_count": null,
      "outputs": [
        {
          "output_type": "stream",
          "name": "stdout",
          "text": [
            "테스트데이터 오차행렬:\n",
            " [[ 1 14]\n",
            " [ 1 37]]\n"
          ]
        }
      ]
    },
    {
      "cell_type": "code",
      "source": [
        "# p31\n",
        "TP = 37\n",
        "FP = 14\n",
        "FN = 1\n",
        "TN = 1"
      ],
      "metadata": {
        "id": "_XxcXuTZqOHM"
      },
      "execution_count": null,
      "outputs": []
    },
    {
      "cell_type": "code",
      "source": [
        "# precision\n",
        "precision = TP/(TP+FP)\n",
        "precision"
      ],
      "metadata": {
        "colab": {
          "base_uri": "https://localhost:8080/"
        },
        "id": "3p9IC3dLqgmK",
        "outputId": "ac393af1-7003-4d95-ce51-90607f52fc45"
      },
      "execution_count": null,
      "outputs": [
        {
          "output_type": "execute_result",
          "data": {
            "text/plain": [
              "0.7254901960784313"
            ]
          },
          "metadata": {},
          "execution_count": 118
        }
      ]
    },
    {
      "cell_type": "code",
      "source": [
        "# recall\n",
        "recall = TP/(TP+FN)\n",
        "recall"
      ],
      "metadata": {
        "colab": {
          "base_uri": "https://localhost:8080/"
        },
        "id": "deLLyzHDqiMF",
        "outputId": "1baf0752-5620-4987-8f4d-7c26a1863da3"
      },
      "execution_count": null,
      "outputs": [
        {
          "output_type": "execute_result",
          "data": {
            "text/plain": [
              "0.9736842105263158"
            ]
          },
          "metadata": {},
          "execution_count": 119
        }
      ]
    },
    {
      "cell_type": "code",
      "source": [
        "# f_score : precision과 recall에 대한 조합평균\n",
        "f_score = 2/((1/precision)+(1/recall))\n",
        "f_score"
      ],
      "metadata": {
        "colab": {
          "base_uri": "https://localhost:8080/"
        },
        "id": "NbQBRYhcqj6v",
        "outputId": "e266ea66-0d4a-46ee-b88a-1610210c6eca"
      },
      "execution_count": null,
      "outputs": [
        {
          "output_type": "execute_result",
          "data": {
            "text/plain": [
              "0.8314606741573034"
            ]
          },
          "metadata": {},
          "execution_count": 120
        }
      ]
    },
    {
      "cell_type": "code",
      "source": [
        "# 일일이 안 구해도 됨\n",
        "from sklearn.metrics import f1_score\n",
        "f1 = f1_score(y_test, pred_test)\n",
        "print(\"f1 score:\\n\", f1)"
      ],
      "metadata": {
        "colab": {
          "base_uri": "https://localhost:8080/"
        },
        "id": "MsuH3Km-qoWA",
        "outputId": "c568c6ae-53a7-4a8a-92c9-e98c29854f45"
      },
      "execution_count": null,
      "outputs": [
        {
          "output_type": "stream",
          "name": "stdout",
          "text": [
            "f1 score:\n",
            " 0.8314606741573034\n"
          ]
        }
      ]
    },
    {
      "cell_type": "code",
      "source": [
        "from sklearn.metrics import classification_report"
      ],
      "metadata": {
        "id": "mfbjSVQCqqSO"
      },
      "execution_count": null,
      "outputs": []
    },
    {
      "cell_type": "code",
      "source": [
        "cfreport = classification_report(y_test, pred_test)\n",
        "cfreport"
      ],
      "metadata": {
        "colab": {
          "base_uri": "https://localhost:8080/",
          "height": 90
        },
        "id": "tGdBgXkaqrtu",
        "outputId": "57105af8-a33e-42cc-a502-4bbffb8b8090"
      },
      "execution_count": null,
      "outputs": [
        {
          "output_type": "execute_result",
          "data": {
            "text/plain": [
              "'              precision    recall  f1-score   support\\n\\n           0       0.50      0.07      0.12        15\\n           1       0.73      0.97      0.83        38\\n\\n    accuracy                           0.72        53\\n   macro avg       0.61      0.52      0.47        53\\nweighted avg       0.66      0.72      0.63        53\\n'"
            ],
            "application/vnd.google.colaboratory.intrinsic+json": {
              "type": "string"
            }
          },
          "metadata": {},
          "execution_count": 127
        }
      ]
    },
    {
      "cell_type": "code",
      "source": [
        "print(\"분류예측 레포트:\\n\", cfreport)\n",
        "# support : the number of occurrences of each class in y_true\n",
        "# micro average (averaging the total TP, FN and FP)\n",
        "# macro average (averaging the unweighted mean per label)\n",
        "# weighted average (averaging the support-weighted mean per label)\n",
        "\n",
        "# 최종 f1-score = 0.83"
      ],
      "metadata": {
        "colab": {
          "base_uri": "https://localhost:8080/"
        },
        "id": "QRx0BnXaq1RG",
        "outputId": "36c8a132-1957-4ea5-fba1-e009d63fba7a"
      },
      "execution_count": null,
      "outputs": [
        {
          "output_type": "stream",
          "name": "stdout",
          "text": [
            "분류예측 레포트:\n",
            "               precision    recall  f1-score   support\n",
            "\n",
            "           0       0.50      0.07      0.12        15\n",
            "           1       0.73      0.97      0.83        38\n",
            "\n",
            "    accuracy                           0.72        53\n",
            "   macro avg       0.61      0.52      0.47        53\n",
            "weighted avg       0.66      0.72      0.63        53\n",
            "\n"
          ]
        }
      ]
    },
    {
      "cell_type": "markdown",
      "source": [
        "#5. 다중분류_머신러닝"
      ],
      "metadata": {
        "id": "8DrnSon6rAZs"
      }
    },
    {
      "cell_type": "code",
      "source": [
        "# 앞단계에서는 y(label) = vote(이진분류)\n",
        "# y(label) = parties(다준분류)로 머신러닝 진행"
      ],
      "metadata": {
        "id": "kkV5i9B_q51y"
      },
      "execution_count": null,
      "outputs": []
    },
    {
      "cell_type": "markdown",
      "source": [
        "## 5-1. 데이터셋 나누기"
      ],
      "metadata": {
        "id": "HHyhCus3rSLZ"
      }
    },
    {
      "cell_type": "code",
      "source": [
        "import warnings\n",
        "warnings.filterwarnings(\"ignore\")"
      ],
      "metadata": {
        "id": "JqgMpyi3rDa9"
      },
      "execution_count": null,
      "outputs": []
    },
    {
      "cell_type": "code",
      "source": [
        "import pandas as pd"
      ],
      "metadata": {
        "id": "0ewTPjsRrxCP"
      },
      "execution_count": null,
      "outputs": []
    },
    {
      "cell_type": "code",
      "source": [
        "# 특성(X)\n",
        "# 방법3: loc 함수로 불러오기 (단, 불러올 특성이 연달아 있어야 함)\n",
        "X = data.loc[:, 'gender_female':'score_intention']"
      ],
      "metadata": {
        "id": "zTiC3a9Rr0AW"
      },
      "execution_count": null,
      "outputs": []
    },
    {
      "cell_type": "code",
      "source": [
        "# 레이블(y)\n",
        "# 지지정당에 대한 결과\n",
        "y = data[[\"parties\"]]\n",
        "y.head()"
      ],
      "metadata": {
        "colab": {
          "base_uri": "https://localhost:8080/",
          "height": 206
        },
        "id": "1FhcsZg-r7Yd",
        "outputId": "72fe7fd0-97a8-48dd-865e-985a706e09a7"
      },
      "execution_count": null,
      "outputs": [
        {
          "output_type": "execute_result",
          "data": {
            "text/plain": [
              "   parties\n",
              "0        2\n",
              "1        3\n",
              "2        4\n",
              "3        1\n",
              "4        1"
            ],
            "text/html": [
              "\n",
              "  <div id=\"df-4697a9eb-72f9-4005-955d-a84c985512c1\">\n",
              "    <div class=\"colab-df-container\">\n",
              "      <div>\n",
              "<style scoped>\n",
              "    .dataframe tbody tr th:only-of-type {\n",
              "        vertical-align: middle;\n",
              "    }\n",
              "\n",
              "    .dataframe tbody tr th {\n",
              "        vertical-align: top;\n",
              "    }\n",
              "\n",
              "    .dataframe thead th {\n",
              "        text-align: right;\n",
              "    }\n",
              "</style>\n",
              "<table border=\"1\" class=\"dataframe\">\n",
              "  <thead>\n",
              "    <tr style=\"text-align: right;\">\n",
              "      <th></th>\n",
              "      <th>parties</th>\n",
              "    </tr>\n",
              "  </thead>\n",
              "  <tbody>\n",
              "    <tr>\n",
              "      <th>0</th>\n",
              "      <td>2</td>\n",
              "    </tr>\n",
              "    <tr>\n",
              "      <th>1</th>\n",
              "      <td>3</td>\n",
              "    </tr>\n",
              "    <tr>\n",
              "      <th>2</th>\n",
              "      <td>4</td>\n",
              "    </tr>\n",
              "    <tr>\n",
              "      <th>3</th>\n",
              "      <td>1</td>\n",
              "    </tr>\n",
              "    <tr>\n",
              "      <th>4</th>\n",
              "      <td>1</td>\n",
              "    </tr>\n",
              "  </tbody>\n",
              "</table>\n",
              "</div>\n",
              "      <button class=\"colab-df-convert\" onclick=\"convertToInteractive('df-4697a9eb-72f9-4005-955d-a84c985512c1')\"\n",
              "              title=\"Convert this dataframe to an interactive table.\"\n",
              "              style=\"display:none;\">\n",
              "        \n",
              "  <svg xmlns=\"http://www.w3.org/2000/svg\" height=\"24px\"viewBox=\"0 0 24 24\"\n",
              "       width=\"24px\">\n",
              "    <path d=\"M0 0h24v24H0V0z\" fill=\"none\"/>\n",
              "    <path d=\"M18.56 5.44l.94 2.06.94-2.06 2.06-.94-2.06-.94-.94-2.06-.94 2.06-2.06.94zm-11 1L8.5 8.5l.94-2.06 2.06-.94-2.06-.94L8.5 2.5l-.94 2.06-2.06.94zm10 10l.94 2.06.94-2.06 2.06-.94-2.06-.94-.94-2.06-.94 2.06-2.06.94z\"/><path d=\"M17.41 7.96l-1.37-1.37c-.4-.4-.92-.59-1.43-.59-.52 0-1.04.2-1.43.59L10.3 9.45l-7.72 7.72c-.78.78-.78 2.05 0 2.83L4 21.41c.39.39.9.59 1.41.59.51 0 1.02-.2 1.41-.59l7.78-7.78 2.81-2.81c.8-.78.8-2.07 0-2.86zM5.41 20L4 18.59l7.72-7.72 1.47 1.35L5.41 20z\"/>\n",
              "  </svg>\n",
              "      </button>\n",
              "      \n",
              "  <style>\n",
              "    .colab-df-container {\n",
              "      display:flex;\n",
              "      flex-wrap:wrap;\n",
              "      gap: 12px;\n",
              "    }\n",
              "\n",
              "    .colab-df-convert {\n",
              "      background-color: #E8F0FE;\n",
              "      border: none;\n",
              "      border-radius: 50%;\n",
              "      cursor: pointer;\n",
              "      display: none;\n",
              "      fill: #1967D2;\n",
              "      height: 32px;\n",
              "      padding: 0 0 0 0;\n",
              "      width: 32px;\n",
              "    }\n",
              "\n",
              "    .colab-df-convert:hover {\n",
              "      background-color: #E2EBFA;\n",
              "      box-shadow: 0px 1px 2px rgba(60, 64, 67, 0.3), 0px 1px 3px 1px rgba(60, 64, 67, 0.15);\n",
              "      fill: #174EA6;\n",
              "    }\n",
              "\n",
              "    [theme=dark] .colab-df-convert {\n",
              "      background-color: #3B4455;\n",
              "      fill: #D2E3FC;\n",
              "    }\n",
              "\n",
              "    [theme=dark] .colab-df-convert:hover {\n",
              "      background-color: #434B5C;\n",
              "      box-shadow: 0px 1px 3px 1px rgba(0, 0, 0, 0.15);\n",
              "      filter: drop-shadow(0px 1px 2px rgba(0, 0, 0, 0.3));\n",
              "      fill: #FFFFFF;\n",
              "    }\n",
              "  </style>\n",
              "\n",
              "      <script>\n",
              "        const buttonEl =\n",
              "          document.querySelector('#df-4697a9eb-72f9-4005-955d-a84c985512c1 button.colab-df-convert');\n",
              "        buttonEl.style.display =\n",
              "          google.colab.kernel.accessAllowed ? 'block' : 'none';\n",
              "\n",
              "        async function convertToInteractive(key) {\n",
              "          const element = document.querySelector('#df-4697a9eb-72f9-4005-955d-a84c985512c1');\n",
              "          const dataTable =\n",
              "            await google.colab.kernel.invokeFunction('convertToInteractive',\n",
              "                                                     [key], {});\n",
              "          if (!dataTable) return;\n",
              "\n",
              "          const docLinkHtml = 'Like what you see? Visit the ' +\n",
              "            '<a target=\"_blank\" href=https://colab.research.google.com/notebooks/data_table.ipynb>data table notebook</a>'\n",
              "            + ' to learn more about interactive tables.';\n",
              "          element.innerHTML = '';\n",
              "          dataTable['output_type'] = 'display_data';\n",
              "          await google.colab.output.renderOutput(dataTable, element);\n",
              "          const docLink = document.createElement('div');\n",
              "          docLink.innerHTML = docLinkHtml;\n",
              "          element.appendChild(docLink);\n",
              "        }\n",
              "      </script>\n",
              "    </div>\n",
              "  </div>\n",
              "  "
            ]
          },
          "metadata": {},
          "execution_count": 7
        }
      ]
    },
    {
      "cell_type": "code",
      "source": [
        "from sklearn.model_selection import train_test_split"
      ],
      "metadata": {
        "id": "Marqgg2EsD7T"
      },
      "execution_count": null,
      "outputs": []
    },
    {
      "cell_type": "code",
      "source": [
        "X_train, X_test, y_train, y_test=train_test_split(X, y, stratify=y, random_state=42 )"
      ],
      "metadata": {
        "id": "x3tfRDpIsK2t"
      },
      "execution_count": null,
      "outputs": []
    },
    {
      "cell_type": "markdown",
      "source": [
        "## 5-2. Grid Search"
      ],
      "metadata": {
        "id": "RZ0wedEXsOIr"
      }
    },
    {
      "cell_type": "code",
      "source": [
        "from sklearn.model_selection import GridSearchCV"
      ],
      "metadata": {
        "id": "n06Ge-4XsMa5"
      },
      "execution_count": null,
      "outputs": []
    },
    {
      "cell_type": "code",
      "source": [
        "param_grid={'n_neighbors': [1, 2, 3, 4, 5, 6, 7, 8, 9 ,10]}"
      ],
      "metadata": {
        "id": "0GE28kYgsR3i"
      },
      "execution_count": null,
      "outputs": []
    },
    {
      "cell_type": "code",
      "source": [
        "from sklearn.neighbors import KNeighborsClassifier"
      ],
      "metadata": {
        "id": "pEmP1Jr0sTrO"
      },
      "execution_count": null,
      "outputs": []
    },
    {
      "cell_type": "code",
      "source": [
        "grid_search = GridSearchCV(KNeighborsClassifier(), param_grid, cv=5, return_train_score=True)"
      ],
      "metadata": {
        "id": "lSW5l7ndsVZI"
      },
      "execution_count": null,
      "outputs": []
    },
    {
      "cell_type": "code",
      "source": [
        "grid_search.fit(X_train, y_train)"
      ],
      "metadata": {
        "colab": {
          "base_uri": "https://localhost:8080/"
        },
        "id": "wOkWo2G4sWya",
        "outputId": "83514ad5-6cf6-414c-984c-202231652153"
      },
      "execution_count": null,
      "outputs": [
        {
          "output_type": "execute_result",
          "data": {
            "text/plain": [
              "GridSearchCV(cv=5, estimator=KNeighborsClassifier(),\n",
              "             param_grid={'n_neighbors': [1, 2, 3, 4, 5, 6, 7, 8, 9, 10]},\n",
              "             return_train_score=True)"
            ]
          },
          "metadata": {},
          "execution_count": 14
        }
      ]
    },
    {
      "cell_type": "code",
      "source": [
        "print(\"Best Parameter: {}\".format(grid_search.best_params_))"
      ],
      "metadata": {
        "colab": {
          "base_uri": "https://localhost:8080/"
        },
        "id": "dqNRilABsZnK",
        "outputId": "e5f01b9b-72a4-4032-d678-736c654eb3e2"
      },
      "execution_count": null,
      "outputs": [
        {
          "output_type": "stream",
          "name": "stdout",
          "text": [
            "Best Parameter: {'n_neighbors': 1}\n"
          ]
        }
      ]
    },
    {
      "cell_type": "code",
      "source": [
        "print(\"Best Cross-validity Score: {:.3f}\".format(grid_search.best_score_))"
      ],
      "metadata": {
        "colab": {
          "base_uri": "https://localhost:8080/"
        },
        "id": "ccwDReWKsa2l",
        "outputId": "4b8a38da-f6a8-4a15-c72e-3e19256abfc8"
      },
      "execution_count": null,
      "outputs": [
        {
          "output_type": "stream",
          "name": "stdout",
          "text": [
            "Best Cross-validity Score: 0.373\n"
          ]
        }
      ]
    },
    {
      "cell_type": "code",
      "source": [
        "# Test data에 대한 예측률\n",
        "print(\"Test set Score: {:.3f}\".format(grid_search.score(X_test, y_test)))"
      ],
      "metadata": {
        "colab": {
          "base_uri": "https://localhost:8080/"
        },
        "id": "XwbqbOXasb91",
        "outputId": "120d56c3-3da8-4fee-fcdf-73b523ea1c7b"
      },
      "execution_count": null,
      "outputs": [
        {
          "output_type": "stream",
          "name": "stdout",
          "text": [
            "Test set Score: 0.245\n"
          ]
        }
      ]
    },
    {
      "cell_type": "code",
      "source": [
        "result_grid = pd.DataFrame(grid_search.cv_results_)\n",
        "result_grid"
      ],
      "metadata": {
        "colab": {
          "base_uri": "https://localhost:8080/",
          "height": 630
        },
        "id": "m39Y82ISseZ7",
        "outputId": "2f3ac152-ed00-46ca-d81c-e96e95179e56"
      },
      "execution_count": null,
      "outputs": [
        {
          "output_type": "execute_result",
          "data": {
            "text/plain": [
              "   mean_fit_time  std_fit_time  mean_score_time  std_score_time  \\\n",
              "0       0.003076      0.000935         0.002289        0.000149   \n",
              "1       0.002345      0.000113         0.002247        0.000059   \n",
              "2       0.002259      0.000066         0.002163        0.000031   \n",
              "3       0.002285      0.000062         0.002201        0.000086   \n",
              "4       0.002334      0.000139         0.002212        0.000092   \n",
              "5       0.004468      0.001683         0.005326        0.003155   \n",
              "6       0.004187      0.000315         0.004593        0.000652   \n",
              "7       0.004681      0.000694         0.004285        0.000134   \n",
              "8       0.003808      0.000324         0.003950        0.000161   \n",
              "9       0.004017      0.000147         0.004017        0.000160   \n",
              "\n",
              "  param_n_neighbors               params  split0_test_score  \\\n",
              "0                 1   {'n_neighbors': 1}            0.37500   \n",
              "1                 2   {'n_neighbors': 2}            0.31250   \n",
              "2                 3   {'n_neighbors': 3}            0.37500   \n",
              "3                 4   {'n_neighbors': 4}            0.34375   \n",
              "4                 5   {'n_neighbors': 5}            0.37500   \n",
              "5                 6   {'n_neighbors': 6}            0.37500   \n",
              "6                 7   {'n_neighbors': 7}            0.28125   \n",
              "7                 8   {'n_neighbors': 8}            0.34375   \n",
              "8                 9   {'n_neighbors': 9}            0.28125   \n",
              "9                10  {'n_neighbors': 10}            0.28125   \n",
              "\n",
              "   split1_test_score  split2_test_score  split3_test_score  ...  \\\n",
              "0            0.37500            0.46875           0.290323  ...   \n",
              "1            0.28125            0.43750           0.322581  ...   \n",
              "2            0.21875            0.40625           0.258065  ...   \n",
              "3            0.31250            0.40625           0.258065  ...   \n",
              "4            0.31250            0.46875           0.354839  ...   \n",
              "5            0.34375            0.37500           0.290323  ...   \n",
              "6            0.34375            0.37500           0.354839  ...   \n",
              "7            0.37500            0.37500           0.419355  ...   \n",
              "8            0.34375            0.43750           0.387097  ...   \n",
              "9            0.43750            0.43750           0.322581  ...   \n",
              "\n",
              "   mean_test_score  std_test_score  rank_test_score  split0_train_score  \\\n",
              "0         0.372782        0.057169                1            0.984127   \n",
              "1         0.309476        0.078495                8            0.666667   \n",
              "2         0.270968        0.111679               10            0.611111   \n",
              "3         0.302823        0.072677                9            0.571429   \n",
              "4         0.340927        0.089690                5            0.507937   \n",
              "5         0.328427        0.046852                6            0.531746   \n",
              "6         0.322581        0.044960                7            0.547619   \n",
              "7         0.360685        0.042637                4            0.547619   \n",
              "8         0.360887        0.051437                3            0.531746   \n",
              "9         0.366734        0.062312                2            0.539683   \n",
              "\n",
              "   split1_train_score  split2_train_score  split3_train_score  \\\n",
              "0            0.984127            0.992063            0.992126   \n",
              "1            0.658730            0.626984            0.692913   \n",
              "2            0.619048            0.619048            0.653543   \n",
              "3            0.563492            0.539683            0.622047   \n",
              "4            0.603175            0.515873            0.543307   \n",
              "5            0.523810            0.507937            0.511811   \n",
              "6            0.555556            0.507937            0.519685   \n",
              "7            0.523810            0.523810            0.543307   \n",
              "8            0.563492            0.507937            0.519685   \n",
              "9            0.531746            0.523810            0.496063   \n",
              "\n",
              "   split4_train_score  mean_train_score  std_train_score  \n",
              "0            0.976378          0.985764         0.005893  \n",
              "1            0.637795          0.656618         0.023045  \n",
              "2            0.645669          0.629684         0.016709  \n",
              "3            0.590551          0.577440         0.027633  \n",
              "4            0.574803          0.549019         0.035824  \n",
              "5            0.527559          0.520572         0.009171  \n",
              "6            0.551181          0.536395         0.018978  \n",
              "7            0.566929          0.541095         0.016201  \n",
              "8            0.551181          0.534808         0.020253  \n",
              "9            0.535433          0.525347         0.015544  \n",
              "\n",
              "[10 rows x 21 columns]"
            ],
            "text/html": [
              "\n",
              "  <div id=\"df-ea70233a-68a9-4a40-a4b9-6043a93d3ba1\">\n",
              "    <div class=\"colab-df-container\">\n",
              "      <div>\n",
              "<style scoped>\n",
              "    .dataframe tbody tr th:only-of-type {\n",
              "        vertical-align: middle;\n",
              "    }\n",
              "\n",
              "    .dataframe tbody tr th {\n",
              "        vertical-align: top;\n",
              "    }\n",
              "\n",
              "    .dataframe thead th {\n",
              "        text-align: right;\n",
              "    }\n",
              "</style>\n",
              "<table border=\"1\" class=\"dataframe\">\n",
              "  <thead>\n",
              "    <tr style=\"text-align: right;\">\n",
              "      <th></th>\n",
              "      <th>mean_fit_time</th>\n",
              "      <th>std_fit_time</th>\n",
              "      <th>mean_score_time</th>\n",
              "      <th>std_score_time</th>\n",
              "      <th>param_n_neighbors</th>\n",
              "      <th>params</th>\n",
              "      <th>split0_test_score</th>\n",
              "      <th>split1_test_score</th>\n",
              "      <th>split2_test_score</th>\n",
              "      <th>split3_test_score</th>\n",
              "      <th>...</th>\n",
              "      <th>mean_test_score</th>\n",
              "      <th>std_test_score</th>\n",
              "      <th>rank_test_score</th>\n",
              "      <th>split0_train_score</th>\n",
              "      <th>split1_train_score</th>\n",
              "      <th>split2_train_score</th>\n",
              "      <th>split3_train_score</th>\n",
              "      <th>split4_train_score</th>\n",
              "      <th>mean_train_score</th>\n",
              "      <th>std_train_score</th>\n",
              "    </tr>\n",
              "  </thead>\n",
              "  <tbody>\n",
              "    <tr>\n",
              "      <th>0</th>\n",
              "      <td>0.003076</td>\n",
              "      <td>0.000935</td>\n",
              "      <td>0.002289</td>\n",
              "      <td>0.000149</td>\n",
              "      <td>1</td>\n",
              "      <td>{'n_neighbors': 1}</td>\n",
              "      <td>0.37500</td>\n",
              "      <td>0.37500</td>\n",
              "      <td>0.46875</td>\n",
              "      <td>0.290323</td>\n",
              "      <td>...</td>\n",
              "      <td>0.372782</td>\n",
              "      <td>0.057169</td>\n",
              "      <td>1</td>\n",
              "      <td>0.984127</td>\n",
              "      <td>0.984127</td>\n",
              "      <td>0.992063</td>\n",
              "      <td>0.992126</td>\n",
              "      <td>0.976378</td>\n",
              "      <td>0.985764</td>\n",
              "      <td>0.005893</td>\n",
              "    </tr>\n",
              "    <tr>\n",
              "      <th>1</th>\n",
              "      <td>0.002345</td>\n",
              "      <td>0.000113</td>\n",
              "      <td>0.002247</td>\n",
              "      <td>0.000059</td>\n",
              "      <td>2</td>\n",
              "      <td>{'n_neighbors': 2}</td>\n",
              "      <td>0.31250</td>\n",
              "      <td>0.28125</td>\n",
              "      <td>0.43750</td>\n",
              "      <td>0.322581</td>\n",
              "      <td>...</td>\n",
              "      <td>0.309476</td>\n",
              "      <td>0.078495</td>\n",
              "      <td>8</td>\n",
              "      <td>0.666667</td>\n",
              "      <td>0.658730</td>\n",
              "      <td>0.626984</td>\n",
              "      <td>0.692913</td>\n",
              "      <td>0.637795</td>\n",
              "      <td>0.656618</td>\n",
              "      <td>0.023045</td>\n",
              "    </tr>\n",
              "    <tr>\n",
              "      <th>2</th>\n",
              "      <td>0.002259</td>\n",
              "      <td>0.000066</td>\n",
              "      <td>0.002163</td>\n",
              "      <td>0.000031</td>\n",
              "      <td>3</td>\n",
              "      <td>{'n_neighbors': 3}</td>\n",
              "      <td>0.37500</td>\n",
              "      <td>0.21875</td>\n",
              "      <td>0.40625</td>\n",
              "      <td>0.258065</td>\n",
              "      <td>...</td>\n",
              "      <td>0.270968</td>\n",
              "      <td>0.111679</td>\n",
              "      <td>10</td>\n",
              "      <td>0.611111</td>\n",
              "      <td>0.619048</td>\n",
              "      <td>0.619048</td>\n",
              "      <td>0.653543</td>\n",
              "      <td>0.645669</td>\n",
              "      <td>0.629684</td>\n",
              "      <td>0.016709</td>\n",
              "    </tr>\n",
              "    <tr>\n",
              "      <th>3</th>\n",
              "      <td>0.002285</td>\n",
              "      <td>0.000062</td>\n",
              "      <td>0.002201</td>\n",
              "      <td>0.000086</td>\n",
              "      <td>4</td>\n",
              "      <td>{'n_neighbors': 4}</td>\n",
              "      <td>0.34375</td>\n",
              "      <td>0.31250</td>\n",
              "      <td>0.40625</td>\n",
              "      <td>0.258065</td>\n",
              "      <td>...</td>\n",
              "      <td>0.302823</td>\n",
              "      <td>0.072677</td>\n",
              "      <td>9</td>\n",
              "      <td>0.571429</td>\n",
              "      <td>0.563492</td>\n",
              "      <td>0.539683</td>\n",
              "      <td>0.622047</td>\n",
              "      <td>0.590551</td>\n",
              "      <td>0.577440</td>\n",
              "      <td>0.027633</td>\n",
              "    </tr>\n",
              "    <tr>\n",
              "      <th>4</th>\n",
              "      <td>0.002334</td>\n",
              "      <td>0.000139</td>\n",
              "      <td>0.002212</td>\n",
              "      <td>0.000092</td>\n",
              "      <td>5</td>\n",
              "      <td>{'n_neighbors': 5}</td>\n",
              "      <td>0.37500</td>\n",
              "      <td>0.31250</td>\n",
              "      <td>0.46875</td>\n",
              "      <td>0.354839</td>\n",
              "      <td>...</td>\n",
              "      <td>0.340927</td>\n",
              "      <td>0.089690</td>\n",
              "      <td>5</td>\n",
              "      <td>0.507937</td>\n",
              "      <td>0.603175</td>\n",
              "      <td>0.515873</td>\n",
              "      <td>0.543307</td>\n",
              "      <td>0.574803</td>\n",
              "      <td>0.549019</td>\n",
              "      <td>0.035824</td>\n",
              "    </tr>\n",
              "    <tr>\n",
              "      <th>5</th>\n",
              "      <td>0.004468</td>\n",
              "      <td>0.001683</td>\n",
              "      <td>0.005326</td>\n",
              "      <td>0.003155</td>\n",
              "      <td>6</td>\n",
              "      <td>{'n_neighbors': 6}</td>\n",
              "      <td>0.37500</td>\n",
              "      <td>0.34375</td>\n",
              "      <td>0.37500</td>\n",
              "      <td>0.290323</td>\n",
              "      <td>...</td>\n",
              "      <td>0.328427</td>\n",
              "      <td>0.046852</td>\n",
              "      <td>6</td>\n",
              "      <td>0.531746</td>\n",
              "      <td>0.523810</td>\n",
              "      <td>0.507937</td>\n",
              "      <td>0.511811</td>\n",
              "      <td>0.527559</td>\n",
              "      <td>0.520572</td>\n",
              "      <td>0.009171</td>\n",
              "    </tr>\n",
              "    <tr>\n",
              "      <th>6</th>\n",
              "      <td>0.004187</td>\n",
              "      <td>0.000315</td>\n",
              "      <td>0.004593</td>\n",
              "      <td>0.000652</td>\n",
              "      <td>7</td>\n",
              "      <td>{'n_neighbors': 7}</td>\n",
              "      <td>0.28125</td>\n",
              "      <td>0.34375</td>\n",
              "      <td>0.37500</td>\n",
              "      <td>0.354839</td>\n",
              "      <td>...</td>\n",
              "      <td>0.322581</td>\n",
              "      <td>0.044960</td>\n",
              "      <td>7</td>\n",
              "      <td>0.547619</td>\n",
              "      <td>0.555556</td>\n",
              "      <td>0.507937</td>\n",
              "      <td>0.519685</td>\n",
              "      <td>0.551181</td>\n",
              "      <td>0.536395</td>\n",
              "      <td>0.018978</td>\n",
              "    </tr>\n",
              "    <tr>\n",
              "      <th>7</th>\n",
              "      <td>0.004681</td>\n",
              "      <td>0.000694</td>\n",
              "      <td>0.004285</td>\n",
              "      <td>0.000134</td>\n",
              "      <td>8</td>\n",
              "      <td>{'n_neighbors': 8}</td>\n",
              "      <td>0.34375</td>\n",
              "      <td>0.37500</td>\n",
              "      <td>0.37500</td>\n",
              "      <td>0.419355</td>\n",
              "      <td>...</td>\n",
              "      <td>0.360685</td>\n",
              "      <td>0.042637</td>\n",
              "      <td>4</td>\n",
              "      <td>0.547619</td>\n",
              "      <td>0.523810</td>\n",
              "      <td>0.523810</td>\n",
              "      <td>0.543307</td>\n",
              "      <td>0.566929</td>\n",
              "      <td>0.541095</td>\n",
              "      <td>0.016201</td>\n",
              "    </tr>\n",
              "    <tr>\n",
              "      <th>8</th>\n",
              "      <td>0.003808</td>\n",
              "      <td>0.000324</td>\n",
              "      <td>0.003950</td>\n",
              "      <td>0.000161</td>\n",
              "      <td>9</td>\n",
              "      <td>{'n_neighbors': 9}</td>\n",
              "      <td>0.28125</td>\n",
              "      <td>0.34375</td>\n",
              "      <td>0.43750</td>\n",
              "      <td>0.387097</td>\n",
              "      <td>...</td>\n",
              "      <td>0.360887</td>\n",
              "      <td>0.051437</td>\n",
              "      <td>3</td>\n",
              "      <td>0.531746</td>\n",
              "      <td>0.563492</td>\n",
              "      <td>0.507937</td>\n",
              "      <td>0.519685</td>\n",
              "      <td>0.551181</td>\n",
              "      <td>0.534808</td>\n",
              "      <td>0.020253</td>\n",
              "    </tr>\n",
              "    <tr>\n",
              "      <th>9</th>\n",
              "      <td>0.004017</td>\n",
              "      <td>0.000147</td>\n",
              "      <td>0.004017</td>\n",
              "      <td>0.000160</td>\n",
              "      <td>10</td>\n",
              "      <td>{'n_neighbors': 10}</td>\n",
              "      <td>0.28125</td>\n",
              "      <td>0.43750</td>\n",
              "      <td>0.43750</td>\n",
              "      <td>0.322581</td>\n",
              "      <td>...</td>\n",
              "      <td>0.366734</td>\n",
              "      <td>0.062312</td>\n",
              "      <td>2</td>\n",
              "      <td>0.539683</td>\n",
              "      <td>0.531746</td>\n",
              "      <td>0.523810</td>\n",
              "      <td>0.496063</td>\n",
              "      <td>0.535433</td>\n",
              "      <td>0.525347</td>\n",
              "      <td>0.015544</td>\n",
              "    </tr>\n",
              "  </tbody>\n",
              "</table>\n",
              "<p>10 rows × 21 columns</p>\n",
              "</div>\n",
              "      <button class=\"colab-df-convert\" onclick=\"convertToInteractive('df-ea70233a-68a9-4a40-a4b9-6043a93d3ba1')\"\n",
              "              title=\"Convert this dataframe to an interactive table.\"\n",
              "              style=\"display:none;\">\n",
              "        \n",
              "  <svg xmlns=\"http://www.w3.org/2000/svg\" height=\"24px\"viewBox=\"0 0 24 24\"\n",
              "       width=\"24px\">\n",
              "    <path d=\"M0 0h24v24H0V0z\" fill=\"none\"/>\n",
              "    <path d=\"M18.56 5.44l.94 2.06.94-2.06 2.06-.94-2.06-.94-.94-2.06-.94 2.06-2.06.94zm-11 1L8.5 8.5l.94-2.06 2.06-.94-2.06-.94L8.5 2.5l-.94 2.06-2.06.94zm10 10l.94 2.06.94-2.06 2.06-.94-2.06-.94-.94-2.06-.94 2.06-2.06.94z\"/><path d=\"M17.41 7.96l-1.37-1.37c-.4-.4-.92-.59-1.43-.59-.52 0-1.04.2-1.43.59L10.3 9.45l-7.72 7.72c-.78.78-.78 2.05 0 2.83L4 21.41c.39.39.9.59 1.41.59.51 0 1.02-.2 1.41-.59l7.78-7.78 2.81-2.81c.8-.78.8-2.07 0-2.86zM5.41 20L4 18.59l7.72-7.72 1.47 1.35L5.41 20z\"/>\n",
              "  </svg>\n",
              "      </button>\n",
              "      \n",
              "  <style>\n",
              "    .colab-df-container {\n",
              "      display:flex;\n",
              "      flex-wrap:wrap;\n",
              "      gap: 12px;\n",
              "    }\n",
              "\n",
              "    .colab-df-convert {\n",
              "      background-color: #E8F0FE;\n",
              "      border: none;\n",
              "      border-radius: 50%;\n",
              "      cursor: pointer;\n",
              "      display: none;\n",
              "      fill: #1967D2;\n",
              "      height: 32px;\n",
              "      padding: 0 0 0 0;\n",
              "      width: 32px;\n",
              "    }\n",
              "\n",
              "    .colab-df-convert:hover {\n",
              "      background-color: #E2EBFA;\n",
              "      box-shadow: 0px 1px 2px rgba(60, 64, 67, 0.3), 0px 1px 3px 1px rgba(60, 64, 67, 0.15);\n",
              "      fill: #174EA6;\n",
              "    }\n",
              "\n",
              "    [theme=dark] .colab-df-convert {\n",
              "      background-color: #3B4455;\n",
              "      fill: #D2E3FC;\n",
              "    }\n",
              "\n",
              "    [theme=dark] .colab-df-convert:hover {\n",
              "      background-color: #434B5C;\n",
              "      box-shadow: 0px 1px 3px 1px rgba(0, 0, 0, 0.15);\n",
              "      filter: drop-shadow(0px 1px 2px rgba(0, 0, 0, 0.3));\n",
              "      fill: #FFFFFF;\n",
              "    }\n",
              "  </style>\n",
              "\n",
              "      <script>\n",
              "        const buttonEl =\n",
              "          document.querySelector('#df-ea70233a-68a9-4a40-a4b9-6043a93d3ba1 button.colab-df-convert');\n",
              "        buttonEl.style.display =\n",
              "          google.colab.kernel.accessAllowed ? 'block' : 'none';\n",
              "\n",
              "        async function convertToInteractive(key) {\n",
              "          const element = document.querySelector('#df-ea70233a-68a9-4a40-a4b9-6043a93d3ba1');\n",
              "          const dataTable =\n",
              "            await google.colab.kernel.invokeFunction('convertToInteractive',\n",
              "                                                     [key], {});\n",
              "          if (!dataTable) return;\n",
              "\n",
              "          const docLinkHtml = 'Like what you see? Visit the ' +\n",
              "            '<a target=\"_blank\" href=https://colab.research.google.com/notebooks/data_table.ipynb>data table notebook</a>'\n",
              "            + ' to learn more about interactive tables.';\n",
              "          element.innerHTML = '';\n",
              "          dataTable['output_type'] = 'display_data';\n",
              "          await google.colab.output.renderOutput(dataTable, element);\n",
              "          const docLink = document.createElement('div');\n",
              "          docLink.innerHTML = docLinkHtml;\n",
              "          element.appendChild(docLink);\n",
              "        }\n",
              "      </script>\n",
              "    </div>\n",
              "  </div>\n",
              "  "
            ]
          },
          "metadata": {},
          "execution_count": 19
        }
      ]
    },
    {
      "cell_type": "code",
      "source": [
        "import matplotlib.pyplot as plt\n",
        "plt.plot(result_grid['param_n_neighbors'], result_grid['mean_train_score'], label=\"Train\")\n",
        "plt.plot(result_grid['param_n_neighbors'], result_grid['mean_test_score'], label=\"Test\")\n",
        "plt.legend()"
      ],
      "metadata": {
        "colab": {
          "base_uri": "https://localhost:8080/",
          "height": 283
        },
        "id": "c0mBmlh7sgU9",
        "outputId": "6a8f207a-d721-448d-b25a-7e871d0d1766"
      },
      "execution_count": null,
      "outputs": [
        {
          "output_type": "execute_result",
          "data": {
            "text/plain": [
              "<matplotlib.legend.Legend at 0x7f6202c9a750>"
            ]
          },
          "metadata": {},
          "execution_count": 20
        },
        {
          "output_type": "display_data",
          "data": {
            "text/plain": [
              "<Figure size 432x288 with 1 Axes>"
            ],
            "image/png": "[encoded data removed]"
          },
          "metadata": {
            "needs_background": "light"
          }
        }
      ]
    },
    {
      "cell_type": "markdown",
      "source": [
        "## 5-3. Random Search"
      ],
      "metadata": {
        "id": "yNUDh9P2skw9"
      }
    },
    {
      "cell_type": "code",
      "source": [
        "from sklearn.model_selection import RandomizedSearchCV"
      ],
      "metadata": {
        "id": "qW1fbpInsjUx"
      },
      "execution_count": null,
      "outputs": []
    },
    {
      "cell_type": "code",
      "source": [
        "from scipy.stats import randint"
      ],
      "metadata": {
        "id": "ziSjyxOosxbO"
      },
      "execution_count": null,
      "outputs": []
    },
    {
      "cell_type": "code",
      "source": [
        "param_distribs = {'n_neighbors': randint(low=1, high=20)}"
      ],
      "metadata": {
        "id": "4tcHzAq3sygy"
      },
      "execution_count": null,
      "outputs": []
    },
    {
      "cell_type": "code",
      "source": [
        "from sklearn.neighbors import KNeighborsClassifier"
      ],
      "metadata": {
        "id": "uoyqjf7Sszz8"
      },
      "execution_count": null,
      "outputs": []
    },
    {
      "cell_type": "code",
      "source": [
        "random_search = RandomizedSearchCV(KNeighborsClassifier(), param_distributions=param_distribs, cv=5, return_train_score=True)"
      ],
      "metadata": {
        "id": "lnr3CwIBs08v"
      },
      "execution_count": null,
      "outputs": []
    },
    {
      "cell_type": "code",
      "source": [
        "random_search.fit(X_train, y_train)"
      ],
      "metadata": {
        "colab": {
          "base_uri": "https://localhost:8080/"
        },
        "id": "Oa4DVKQUs4ve",
        "outputId": "b8f0e0f3-d88a-4b04-8ae7-2f53667ae45b"
      },
      "execution_count": null,
      "outputs": [
        {
          "output_type": "execute_result",
          "data": {
            "text/plain": [
              "RandomizedSearchCV(cv=5, estimator=KNeighborsClassifier(),\n",
              "                   param_distributions={'n_neighbors': <scipy.stats._distn_infrastructure.rv_frozen object at 0x7f6202c1e490>},\n",
              "                   return_train_score=True)"
            ]
          },
          "metadata": {},
          "execution_count": 26
        }
      ]
    },
    {
      "cell_type": "code",
      "source": [
        "print(\"Best Parameter: {}\".format(random_search.best_params_))"
      ],
      "metadata": {
        "colab": {
          "base_uri": "https://localhost:8080/"
        },
        "id": "sIoj4DGss7Lm",
        "outputId": "830e095d-9b5c-47a6-ca20-791bed28bdb6"
      },
      "execution_count": null,
      "outputs": [
        {
          "output_type": "stream",
          "name": "stdout",
          "text": [
            "Best Parameter: {'n_neighbors': 17}\n"
          ]
        }
      ]
    },
    {
      "cell_type": "code",
      "source": [
        "print(\"Best Cross-validity Score: {:.3f}\".format(random_search.best_score_))"
      ],
      "metadata": {
        "colab": {
          "base_uri": "https://localhost:8080/"
        },
        "id": "8dAqsFZAs9Nv",
        "outputId": "b4b28f36-a514-45a4-ea83-09f0d2aee6be"
      },
      "execution_count": null,
      "outputs": [
        {
          "output_type": "stream",
          "name": "stdout",
          "text": [
            "Best Cross-validity Score: 0.411\n"
          ]
        }
      ]
    },
    {
      "cell_type": "code",
      "source": [
        "print(\"Test set Score: {:.3f}\".format(random_search.score(X_test, y_test)))"
      ],
      "metadata": {
        "colab": {
          "base_uri": "https://localhost:8080/"
        },
        "id": "AZKmhE_qs-YL",
        "outputId": "f795d9d2-1e1d-43fe-9f27-0eb656a7b89e"
      },
      "execution_count": null,
      "outputs": [
        {
          "output_type": "stream",
          "name": "stdout",
          "text": [
            "Test set Score: 0.340\n"
          ]
        }
      ]
    },
    {
      "cell_type": "code",
      "source": [
        "result_random = random_search.cv_results_\n",
        "pd.DataFrame(result_random)"
      ],
      "metadata": {
        "colab": {
          "base_uri": "https://localhost:8080/",
          "height": 630
        },
        "id": "jYOkFz26tAXF",
        "outputId": "6387b522-e4ee-45cf-a45a-7f4102f1a022"
      },
      "execution_count": null,
      "outputs": [
        {
          "output_type": "execute_result",
          "data": {
            "text/plain": [
              "   mean_fit_time  std_fit_time  mean_score_time  std_score_time  \\\n",
              "0       0.004117      0.000384         0.004006        0.000172   \n",
              "1       0.004376      0.000094         0.004800        0.001128   \n",
              "2       0.004130      0.000371         0.004277        0.000166   \n",
              "3       0.004072      0.000076         0.004105        0.000238   \n",
              "4       0.004252      0.000333         0.003975        0.000295   \n",
              "5       0.003800      0.000346         0.004084        0.000258   \n",
              "6       0.004459      0.000147         0.004393        0.000406   \n",
              "7       0.005534      0.002255         0.004386        0.000332   \n",
              "8       0.003466      0.000999         0.003616        0.001286   \n",
              "9       0.002318      0.000043         0.002376        0.000187   \n",
              "\n",
              "  param_n_neighbors               params  split0_test_score  \\\n",
              "0                 6   {'n_neighbors': 6}            0.37500   \n",
              "1                19  {'n_neighbors': 19}            0.31250   \n",
              "2                14  {'n_neighbors': 14}            0.37500   \n",
              "3                 1   {'n_neighbors': 1}            0.37500   \n",
              "4                14  {'n_neighbors': 14}            0.37500   \n",
              "5                10  {'n_neighbors': 10}            0.28125   \n",
              "6                 2   {'n_neighbors': 2}            0.31250   \n",
              "7                 2   {'n_neighbors': 2}            0.31250   \n",
              "8                 3   {'n_neighbors': 3}            0.37500   \n",
              "9                17  {'n_neighbors': 17}            0.34375   \n",
              "\n",
              "   split1_test_score  split2_test_score  split3_test_score  ...  \\\n",
              "0            0.34375            0.37500           0.290323  ...   \n",
              "1            0.40625            0.43750           0.419355  ...   \n",
              "2            0.37500            0.56250           0.451613  ...   \n",
              "3            0.37500            0.46875           0.290323  ...   \n",
              "4            0.37500            0.56250           0.451613  ...   \n",
              "5            0.43750            0.43750           0.322581  ...   \n",
              "6            0.28125            0.43750           0.322581  ...   \n",
              "7            0.28125            0.43750           0.322581  ...   \n",
              "8            0.21875            0.40625           0.258065  ...   \n",
              "9            0.50000            0.43750           0.451613  ...   \n",
              "\n",
              "   mean_test_score  std_test_score  rank_test_score  split0_train_score  \\\n",
              "0         0.328427        0.046852                7            0.531746   \n",
              "1         0.379637        0.051762                4            0.500000   \n",
              "2         0.410887        0.091386                2            0.539683   \n",
              "3         0.372782        0.057169                5            0.984127   \n",
              "4         0.410887        0.091386                2            0.539683   \n",
              "5         0.366734        0.062312                6            0.539683   \n",
              "6         0.309476        0.078495                8            0.666667   \n",
              "7         0.309476        0.078495                8            0.666667   \n",
              "8         0.270968        0.111679               10            0.611111   \n",
              "9         0.411089        0.067251                1            0.523810   \n",
              "\n",
              "   split1_train_score  split2_train_score  split3_train_score  \\\n",
              "0            0.523810            0.507937            0.511811   \n",
              "1            0.452381            0.492063            0.456693   \n",
              "2            0.484127            0.476190            0.456693   \n",
              "3            0.984127            0.992063            0.992126   \n",
              "4            0.484127            0.476190            0.456693   \n",
              "5            0.531746            0.523810            0.496063   \n",
              "6            0.658730            0.626984            0.692913   \n",
              "7            0.658730            0.626984            0.692913   \n",
              "8            0.619048            0.619048            0.653543   \n",
              "9            0.484127            0.500000            0.433071   \n",
              "\n",
              "   split4_train_score  mean_train_score  std_train_score  \n",
              "0            0.527559          0.520572         0.009171  \n",
              "1            0.456693          0.471566         0.020195  \n",
              "2            0.440945          0.479528         0.033648  \n",
              "3            0.976378          0.985764         0.005893  \n",
              "4            0.440945          0.479528         0.033648  \n",
              "5            0.535433          0.525347         0.015544  \n",
              "6            0.637795          0.656618         0.023045  \n",
              "7            0.637795          0.656618         0.023045  \n",
              "8            0.645669          0.629684         0.016709  \n",
              "9            0.456693          0.479540         0.031877  \n",
              "\n",
              "[10 rows x 21 columns]"
            ],
            "text/html": [
              "\n",
              "  <div id=\"df-2d3edc9d-7286-4feb-99ef-eb371b4c7a3e\">\n",
              "    <div class=\"colab-df-container\">\n",
              "      <div>\n",
              "<style scoped>\n",
              "    .dataframe tbody tr th:only-of-type {\n",
              "        vertical-align: middle;\n",
              "    }\n",
              "\n",
              "    .dataframe tbody tr th {\n",
              "        vertical-align: top;\n",
              "    }\n",
              "\n",
              "    .dataframe thead th {\n",
              "        text-align: right;\n",
              "    }\n",
              "</style>\n",
              "<table border=\"1\" class=\"dataframe\">\n",
              "  <thead>\n",
              "    <tr style=\"text-align: right;\">\n",
              "      <th></th>\n",
              "      <th>mean_fit_time</th>\n",
              "      <th>std_fit_time</th>\n",
              "      <th>mean_score_time</th>\n",
              "      <th>std_score_time</th>\n",
              "      <th>param_n_neighbors</th>\n",
              "      <th>params</th>\n",
              "      <th>split0_test_score</th>\n",
              "      <th>split1_test_score</th>\n",
              "      <th>split2_test_score</th>\n",
              "      <th>split3_test_score</th>\n",
              "      <th>...</th>\n",
              "      <th>mean_test_score</th>\n",
              "      <th>std_test_score</th>\n",
              "      <th>rank_test_score</th>\n",
              "      <th>split0_train_score</th>\n",
              "      <th>split1_train_score</th>\n",
              "      <th>split2_train_score</th>\n",
              "      <th>split3_train_score</th>\n",
              "      <th>split4_train_score</th>\n",
              "      <th>mean_train_score</th>\n",
              "      <th>std_train_score</th>\n",
              "    </tr>\n",
              "  </thead>\n",
              "  <tbody>\n",
              "    <tr>\n",
              "      <th>0</th>\n",
              "      <td>0.004117</td>\n",
              "      <td>0.000384</td>\n",
              "      <td>0.004006</td>\n",
              "      <td>0.000172</td>\n",
              "      <td>6</td>\n",
              "      <td>{'n_neighbors': 6}</td>\n",
              "      <td>0.37500</td>\n",
              "      <td>0.34375</td>\n",
              "      <td>0.37500</td>\n",
              "      <td>0.290323</td>\n",
              "      <td>...</td>\n",
              "      <td>0.328427</td>\n",
              "      <td>0.046852</td>\n",
              "      <td>7</td>\n",
              "      <td>0.531746</td>\n",
              "      <td>0.523810</td>\n",
              "      <td>0.507937</td>\n",
              "      <td>0.511811</td>\n",
              "      <td>0.527559</td>\n",
              "      <td>0.520572</td>\n",
              "      <td>0.009171</td>\n",
              "    </tr>\n",
              "    <tr>\n",
              "      <th>1</th>\n",
              "      <td>0.004376</td>\n",
              "      <td>0.000094</td>\n",
              "      <td>0.004800</td>\n",
              "      <td>0.001128</td>\n",
              "      <td>19</td>\n",
              "      <td>{'n_neighbors': 19}</td>\n",
              "      <td>0.31250</td>\n",
              "      <td>0.40625</td>\n",
              "      <td>0.43750</td>\n",
              "      <td>0.419355</td>\n",
              "      <td>...</td>\n",
              "      <td>0.379637</td>\n",
              "      <td>0.051762</td>\n",
              "      <td>4</td>\n",
              "      <td>0.500000</td>\n",
              "      <td>0.452381</td>\n",
              "      <td>0.492063</td>\n",
              "      <td>0.456693</td>\n",
              "      <td>0.456693</td>\n",
              "      <td>0.471566</td>\n",
              "      <td>0.020195</td>\n",
              "    </tr>\n",
              "    <tr>\n",
              "      <th>2</th>\n",
              "      <td>0.004130</td>\n",
              "      <td>0.000371</td>\n",
              "      <td>0.004277</td>\n",
              "      <td>0.000166</td>\n",
              "      <td>14</td>\n",
              "      <td>{'n_neighbors': 14}</td>\n",
              "      <td>0.37500</td>\n",
              "      <td>0.37500</td>\n",
              "      <td>0.56250</td>\n",
              "      <td>0.451613</td>\n",
              "      <td>...</td>\n",
              "      <td>0.410887</td>\n",
              "      <td>0.091386</td>\n",
              "      <td>2</td>\n",
              "      <td>0.539683</td>\n",
              "      <td>0.484127</td>\n",
              "      <td>0.476190</td>\n",
              "      <td>0.456693</td>\n",
              "      <td>0.440945</td>\n",
              "      <td>0.479528</td>\n",
              "      <td>0.033648</td>\n",
              "    </tr>\n",
              "    <tr>\n",
              "      <th>3</th>\n",
              "      <td>0.004072</td>\n",
              "      <td>0.000076</td>\n",
              "      <td>0.004105</td>\n",
              "      <td>0.000238</td>\n",
              "      <td>1</td>\n",
              "      <td>{'n_neighbors': 1}</td>\n",
              "      <td>0.37500</td>\n",
              "      <td>0.37500</td>\n",
              "      <td>0.46875</td>\n",
              "      <td>0.290323</td>\n",
              "      <td>...</td>\n",
              "      <td>0.372782</td>\n",
              "      <td>0.057169</td>\n",
              "      <td>5</td>\n",
              "      <td>0.984127</td>\n",
              "      <td>0.984127</td>\n",
              "      <td>0.992063</td>\n",
              "      <td>0.992126</td>\n",
              "      <td>0.976378</td>\n",
              "      <td>0.985764</td>\n",
              "      <td>0.005893</td>\n",
              "    </tr>\n",
              "    <tr>\n",
              "      <th>4</th>\n",
              "      <td>0.004252</td>\n",
              "      <td>0.000333</td>\n",
              "      <td>0.003975</td>\n",
              "      <td>0.000295</td>\n",
              "      <td>14</td>\n",
              "      <td>{'n_neighbors': 14}</td>\n",
              "      <td>0.37500</td>\n",
              "      <td>0.37500</td>\n",
              "      <td>0.56250</td>\n",
              "      <td>0.451613</td>\n",
              "      <td>...</td>\n",
              "      <td>0.410887</td>\n",
              "      <td>0.091386</td>\n",
              "      <td>2</td>\n",
              "      <td>0.539683</td>\n",
              "      <td>0.484127</td>\n",
              "      <td>0.476190</td>\n",
              "      <td>0.456693</td>\n",
              "      <td>0.440945</td>\n",
              "      <td>0.479528</td>\n",
              "      <td>0.033648</td>\n",
              "    </tr>\n",
              "    <tr>\n",
              "      <th>5</th>\n",
              "      <td>0.003800</td>\n",
              "      <td>0.000346</td>\n",
              "      <td>0.004084</td>\n",
              "      <td>0.000258</td>\n",
              "      <td>10</td>\n",
              "      <td>{'n_neighbors': 10}</td>\n",
              "      <td>0.28125</td>\n",
              "      <td>0.43750</td>\n",
              "      <td>0.43750</td>\n",
              "      <td>0.322581</td>\n",
              "      <td>...</td>\n",
              "      <td>0.366734</td>\n",
              "      <td>0.062312</td>\n",
              "      <td>6</td>\n",
              "      <td>0.539683</td>\n",
              "      <td>0.531746</td>\n",
              "      <td>0.523810</td>\n",
              "      <td>0.496063</td>\n",
              "      <td>0.535433</td>\n",
              "      <td>0.525347</td>\n",
              "      <td>0.015544</td>\n",
              "    </tr>\n",
              "    <tr>\n",
              "      <th>6</th>\n",
              "      <td>0.004459</td>\n",
              "      <td>0.000147</td>\n",
              "      <td>0.004393</td>\n",
              "      <td>0.000406</td>\n",
              "      <td>2</td>\n",
              "      <td>{'n_neighbors': 2}</td>\n",
              "      <td>0.31250</td>\n",
              "      <td>0.28125</td>\n",
              "      <td>0.43750</td>\n",
              "      <td>0.322581</td>\n",
              "      <td>...</td>\n",
              "      <td>0.309476</td>\n",
              "      <td>0.078495</td>\n",
              "      <td>8</td>\n",
              "      <td>0.666667</td>\n",
              "      <td>0.658730</td>\n",
              "      <td>0.626984</td>\n",
              "      <td>0.692913</td>\n",
              "      <td>0.637795</td>\n",
              "      <td>0.656618</td>\n",
              "      <td>0.023045</td>\n",
              "    </tr>\n",
              "    <tr>\n",
              "      <th>7</th>\n",
              "      <td>0.005534</td>\n",
              "      <td>0.002255</td>\n",
              "      <td>0.004386</td>\n",
              "      <td>0.000332</td>\n",
              "      <td>2</td>\n",
              "      <td>{'n_neighbors': 2}</td>\n",
              "      <td>0.31250</td>\n",
              "      <td>0.28125</td>\n",
              "      <td>0.43750</td>\n",
              "      <td>0.322581</td>\n",
              "      <td>...</td>\n",
              "      <td>0.309476</td>\n",
              "      <td>0.078495</td>\n",
              "      <td>8</td>\n",
              "      <td>0.666667</td>\n",
              "      <td>0.658730</td>\n",
              "      <td>0.626984</td>\n",
              "      <td>0.692913</td>\n",
              "      <td>0.637795</td>\n",
              "      <td>0.656618</td>\n",
              "      <td>0.023045</td>\n",
              "    </tr>\n",
              "    <tr>\n",
              "      <th>8</th>\n",
              "      <td>0.003466</td>\n",
              "      <td>0.000999</td>\n",
              "      <td>0.003616</td>\n",
              "      <td>0.001286</td>\n",
              "      <td>3</td>\n",
              "      <td>{'n_neighbors': 3}</td>\n",
              "      <td>0.37500</td>\n",
              "      <td>0.21875</td>\n",
              "      <td>0.40625</td>\n",
              "      <td>0.258065</td>\n",
              "      <td>...</td>\n",
              "      <td>0.270968</td>\n",
              "      <td>0.111679</td>\n",
              "      <td>10</td>\n",
              "      <td>0.611111</td>\n",
              "      <td>0.619048</td>\n",
              "      <td>0.619048</td>\n",
              "      <td>0.653543</td>\n",
              "      <td>0.645669</td>\n",
              "      <td>0.629684</td>\n",
              "      <td>0.016709</td>\n",
              "    </tr>\n",
              "    <tr>\n",
              "      <th>9</th>\n",
              "      <td>0.002318</td>\n",
              "      <td>0.000043</td>\n",
              "      <td>0.002376</td>\n",
              "      <td>0.000187</td>\n",
              "      <td>17</td>\n",
              "      <td>{'n_neighbors': 17}</td>\n",
              "      <td>0.34375</td>\n",
              "      <td>0.50000</td>\n",
              "      <td>0.43750</td>\n",
              "      <td>0.451613</td>\n",
              "      <td>...</td>\n",
              "      <td>0.411089</td>\n",
              "      <td>0.067251</td>\n",
              "      <td>1</td>\n",
              "      <td>0.523810</td>\n",
              "      <td>0.484127</td>\n",
              "      <td>0.500000</td>\n",
              "      <td>0.433071</td>\n",
              "      <td>0.456693</td>\n",
              "      <td>0.479540</td>\n",
              "      <td>0.031877</td>\n",
              "    </tr>\n",
              "  </tbody>\n",
              "</table>\n",
              "<p>10 rows × 21 columns</p>\n",
              "</div>\n",
              "      <button class=\"colab-df-convert\" onclick=\"convertToInteractive('df-2d3edc9d-7286-4feb-99ef-eb371b4c7a3e')\"\n",
              "              title=\"Convert this dataframe to an interactive table.\"\n",
              "              style=\"display:none;\">\n",
              "        \n",
              "  <svg xmlns=\"http://www.w3.org/2000/svg\" height=\"24px\"viewBox=\"0 0 24 24\"\n",
              "       width=\"24px\">\n",
              "    <path d=\"M0 0h24v24H0V0z\" fill=\"none\"/>\n",
              "    <path d=\"M18.56 5.44l.94 2.06.94-2.06 2.06-.94-2.06-.94-.94-2.06-.94 2.06-2.06.94zm-11 1L8.5 8.5l.94-2.06 2.06-.94-2.06-.94L8.5 2.5l-.94 2.06-2.06.94zm10 10l.94 2.06.94-2.06 2.06-.94-2.06-.94-.94-2.06-.94 2.06-2.06.94z\"/><path d=\"M17.41 7.96l-1.37-1.37c-.4-.4-.92-.59-1.43-.59-.52 0-1.04.2-1.43.59L10.3 9.45l-7.72 7.72c-.78.78-.78 2.05 0 2.83L4 21.41c.39.39.9.59 1.41.59.51 0 1.02-.2 1.41-.59l7.78-7.78 2.81-2.81c.8-.78.8-2.07 0-2.86zM5.41 20L4 18.59l7.72-7.72 1.47 1.35L5.41 20z\"/>\n",
              "  </svg>\n",
              "      </button>\n",
              "      \n",
              "  <style>\n",
              "    .colab-df-container {\n",
              "      display:flex;\n",
              "      flex-wrap:wrap;\n",
              "      gap: 12px;\n",
              "    }\n",
              "\n",
              "    .colab-df-convert {\n",
              "      background-color: #E8F0FE;\n",
              "      border: none;\n",
              "      border-radius: 50%;\n",
              "      cursor: pointer;\n",
              "      display: none;\n",
              "      fill: #1967D2;\n",
              "      height: 32px;\n",
              "      padding: 0 0 0 0;\n",
              "      width: 32px;\n",
              "    }\n",
              "\n",
              "    .colab-df-convert:hover {\n",
              "      background-color: #E2EBFA;\n",
              "      box-shadow: 0px 1px 2px rgba(60, 64, 67, 0.3), 0px 1px 3px 1px rgba(60, 64, 67, 0.15);\n",
              "      fill: #174EA6;\n",
              "    }\n",
              "\n",
              "    [theme=dark] .colab-df-convert {\n",
              "      background-color: #3B4455;\n",
              "      fill: #D2E3FC;\n",
              "    }\n",
              "\n",
              "    [theme=dark] .colab-df-convert:hover {\n",
              "      background-color: #434B5C;\n",
              "      box-shadow: 0px 1px 3px 1px rgba(0, 0, 0, 0.15);\n",
              "      filter: drop-shadow(0px 1px 2px rgba(0, 0, 0, 0.3));\n",
              "      fill: #FFFFFF;\n",
              "    }\n",
              "  </style>\n",
              "\n",
              "      <script>\n",
              "        const buttonEl =\n",
              "          document.querySelector('#df-2d3edc9d-7286-4feb-99ef-eb371b4c7a3e button.colab-df-convert');\n",
              "        buttonEl.style.display =\n",
              "          google.colab.kernel.accessAllowed ? 'block' : 'none';\n",
              "\n",
              "        async function convertToInteractive(key) {\n",
              "          const element = document.querySelector('#df-2d3edc9d-7286-4feb-99ef-eb371b4c7a3e');\n",
              "          const dataTable =\n",
              "            await google.colab.kernel.invokeFunction('convertToInteractive',\n",
              "                                                     [key], {});\n",
              "          if (!dataTable) return;\n",
              "\n",
              "          const docLinkHtml = 'Like what you see? Visit the ' +\n",
              "            '<a target=\"_blank\" href=https://colab.research.google.com/notebooks/data_table.ipynb>data table notebook</a>'\n",
              "            + ' to learn more about interactive tables.';\n",
              "          element.innerHTML = '';\n",
              "          dataTable['output_type'] = 'display_data';\n",
              "          await google.colab.output.renderOutput(dataTable, element);\n",
              "          const docLink = document.createElement('div');\n",
              "          docLink.innerHTML = docLinkHtml;\n",
              "          element.appendChild(docLink);\n",
              "        }\n",
              "      </script>\n",
              "    </div>\n",
              "  </div>\n",
              "  "
            ]
          },
          "metadata": {},
          "execution_count": 31
        }
      ]
    },
    {
      "cell_type": "code",
      "source": [
        "import matplotlib.pyplot as plt\n",
        "plt.plot(result_random['param_n_neighbors'], result_random['mean_train_score'], label=\"Train\")\n",
        "plt.plot(result_random['param_n_neighbors'], result_random['mean_test_score'], label=\"Test\")\n",
        "plt.legend()"
      ],
      "metadata": {
        "colab": {
          "base_uri": "https://localhost:8080/",
          "height": 283
        },
        "id": "sMsoiFZttBuB",
        "outputId": "70fc64cd-8c10-40db-ebe4-8fbc8a71a008"
      },
      "execution_count": null,
      "outputs": [
        {
          "output_type": "execute_result",
          "data": {
            "text/plain": [
              "<matplotlib.legend.Legend at 0x7f6202775350>"
            ]
          },
          "metadata": {},
          "execution_count": 32
        },
        {
          "output_type": "display_data",
          "data": {
            "text/plain": [
              "<Figure size 432x288 with 1 Axes>"
            ],
            "image/png": "[encoded data removed]"
          },
          "metadata": {
            "needs_background": "light"
          }
        }
      ]
    },
    {
      "cell_type": "markdown",
      "source": [
        "## 5-4. 모델평가"
      ],
      "metadata": {
        "id": "Acwhcbe5tIsq"
      }
    },
    {
      "cell_type": "code",
      "source": [
        "from sklearn.neighbors import KNeighborsClassifier"
      ],
      "metadata": {
        "id": "hehuPMVRtGM8"
      },
      "execution_count": null,
      "outputs": []
    },
    {
      "cell_type": "code",
      "source": [
        "# Random Search가 더 나은 모델\n",
        "knn17 = KNeighborsClassifier(n_neighbors=17)"
      ],
      "metadata": {
        "id": "UJBgQbLEtLQx"
      },
      "execution_count": null,
      "outputs": []
    },
    {
      "cell_type": "code",
      "source": [
        "knn17.fit(X_train, y_train)"
      ],
      "metadata": {
        "colab": {
          "base_uri": "https://localhost:8080/"
        },
        "id": "RLzpOpA4tXaI",
        "outputId": "7aa69f4b-0bae-4e24-ed5e-b9ccfce0b470"
      },
      "execution_count": null,
      "outputs": [
        {
          "output_type": "execute_result",
          "data": {
            "text/plain": [
              "KNeighborsClassifier(n_neighbors=17)"
            ]
          },
          "metadata": {},
          "execution_count": 35
        }
      ]
    },
    {
      "cell_type": "code",
      "source": [
        "from sklearn.metrics import confusion_matrix"
      ],
      "metadata": {
        "id": "1NPR7RQOtZ9k"
      },
      "execution_count": null,
      "outputs": []
    },
    {
      "cell_type": "code",
      "source": [
        "pred_train = knn17.predict(X_train)"
      ],
      "metadata": {
        "id": "dx7fblwItboW"
      },
      "execution_count": null,
      "outputs": []
    },
    {
      "cell_type": "code",
      "source": [
        "confusion_train = confusion_matrix(y_train, pred_train)"
      ],
      "metadata": {
        "id": "GCqfjsoTtdsR"
      },
      "execution_count": null,
      "outputs": []
    },
    {
      "cell_type": "code",
      "source": [
        "print(\"훈련데이터 오차행렬:\\n\", confusion_train)"
      ],
      "metadata": {
        "colab": {
          "base_uri": "https://localhost:8080/"
        },
        "id": "5aX7nEr6thGc",
        "outputId": "59858be7-6743-4330-a3ef-199360e919a6"
      },
      "execution_count": null,
      "outputs": [
        {
          "output_type": "stream",
          "name": "stdout",
          "text": [
            "훈련데이터 오차행렬:\n",
            " [[ 9  2  2 24]\n",
            " [ 3 17  0 20]\n",
            " [ 5  4  0 10]\n",
            " [ 8  7  0 47]]\n"
          ]
        }
      ]
    },
    {
      "cell_type": "code",
      "source": [
        "pred_test = knn17.predict(X_test)"
      ],
      "metadata": {
        "id": "s85ARMQKtiLl"
      },
      "execution_count": null,
      "outputs": []
    },
    {
      "cell_type": "code",
      "source": [
        "confusion_test = confusion_matrix(y_test, pred_test)"
      ],
      "metadata": {
        "id": "LgmigBZStlKs"
      },
      "execution_count": null,
      "outputs": []
    },
    {
      "cell_type": "code",
      "source": [
        "print(\"테스트데이터 오차행렬:\\n\", confusion_test)"
      ],
      "metadata": {
        "colab": {
          "base_uri": "https://localhost:8080/"
        },
        "id": "1V2NqtPwtn4z",
        "outputId": "c2362cd4-04c4-4e39-a8c6-50c4b0c315cf"
      },
      "execution_count": null,
      "outputs": [
        {
          "output_type": "stream",
          "name": "stdout",
          "text": [
            "테스트데이터 오차행렬:\n",
            " [[ 3  2  0  8]\n",
            " [ 1  1  0 11]\n",
            " [ 2  0  0  4]\n",
            " [ 1  6  0 14]]\n"
          ]
        }
      ]
    },
    {
      "cell_type": "code",
      "source": [
        "from sklearn.metrics import f1_score"
      ],
      "metadata": {
        "id": "jsajK_9ntpob"
      },
      "execution_count": null,
      "outputs": []
    },
    {
      "cell_type": "code",
      "source": [
        "f1 = f1_score(y_test, pred_test, average=\"micro\" )\n",
        "# 다중분류일 때 micro / macro 사용"
      ],
      "metadata": {
        "id": "Gn1rSp3XtrX9"
      },
      "execution_count": null,
      "outputs": []
    },
    {
      "cell_type": "code",
      "source": [
        "print(\"micro f1 score(micro):\\n\", f1)"
      ],
      "metadata": {
        "colab": {
          "base_uri": "https://localhost:8080/"
        },
        "id": "OslLloRgtsdK",
        "outputId": "7a77d5bf-955b-45b8-c049-a1613c286c1c"
      },
      "execution_count": null,
      "outputs": [
        {
          "output_type": "stream",
          "name": "stdout",
          "text": [
            "micro f1 score(micro):\n",
            " 0.33962264150943394\n"
          ]
        }
      ]
    },
    {
      "cell_type": "code",
      "source": [
        "f2 = f1_score(y_test, pred_test, average=\"macro\" )"
      ],
      "metadata": {
        "id": "d8-6RkFotuA0"
      },
      "execution_count": null,
      "outputs": []
    },
    {
      "cell_type": "code",
      "source": [
        "print(\"macro f1 score(macro):\\n\", f2)"
      ],
      "metadata": {
        "colab": {
          "base_uri": "https://localhost:8080/"
        },
        "id": "LQeG3I42tvlt",
        "outputId": "f8f40091-96c2-434f-aa8e-f3d497140e85"
      },
      "execution_count": null,
      "outputs": [
        {
          "output_type": "stream",
          "name": "stdout",
          "text": [
            "macro f1 score(macro):\n",
            " 0.21841692789968653\n"
          ]
        }
      ]
    },
    {
      "cell_type": "code",
      "source": [
        "from sklearn.metrics import classification_report"
      ],
      "metadata": {
        "id": "bNYaz1fPtxta"
      },
      "execution_count": null,
      "outputs": []
    },
    {
      "cell_type": "code",
      "source": [
        "cfreport = classification_report(y_test, pred_test)"
      ],
      "metadata": {
        "id": "4d8DChX9tzAz"
      },
      "execution_count": null,
      "outputs": []
    },
    {
      "cell_type": "code",
      "source": [
        "print(\"분류예측 레포트:\\n\", cfreport)"
      ],
      "metadata": {
        "colab": {
          "base_uri": "https://localhost:8080/"
        },
        "id": "F1G8PaXTt0da",
        "outputId": "866fa5c3-e074-424d-fa06-27f59d09bbda"
      },
      "execution_count": null,
      "outputs": [
        {
          "output_type": "stream",
          "name": "stdout",
          "text": [
            "분류예측 레포트:\n",
            "               precision    recall  f1-score   support\n",
            "\n",
            "           1       0.43      0.23      0.30        13\n",
            "           2       0.11      0.08      0.09        13\n",
            "           3       0.00      0.00      0.00         6\n",
            "           4       0.38      0.67      0.48        21\n",
            "\n",
            "    accuracy                           0.34        53\n",
            "   macro avg       0.23      0.24      0.22        53\n",
            "weighted avg       0.28      0.34      0.29        53\n",
            "\n"
          ]
        }
      ]
    },
    {
      "cell_type": "code",
      "source": [],
      "metadata": {
        "id": "P6RO51UYt1uq"
      },
      "execution_count": null,
      "outputs": []
    }
  ]
}