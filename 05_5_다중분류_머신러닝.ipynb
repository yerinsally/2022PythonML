{
  "cells": [
    {
      "cell_type": "markdown",
      "metadata": {
        "id": "view-in-github",
        "colab_type": "text"
      },
      "source": [
        "<a href=\"https://colab.research.google.com/github/yerinsally/2022_PythonML/blob/main/5_5_%EB%8B%A4%EC%A4%91%EB%B6%84%EB%A5%98_%EB%A8%B8%EC%8B%A0%EB%9F%AC%EB%8B%9D.ipynb\" target=\"_parent\"><img src=\"https://colab.research.google.com/assets/colab-badge.svg\" alt=\"Open In Colab\"/></a>"
      ]
    },
    {
      "cell_type": "markdown",
      "source": [
        "# 지지정당에 대한 예측"
      ],
      "metadata": {
        "id": "uwp5pRm9Catc"
      }
    },
    {
      "cell_type": "markdown",
      "metadata": {
        "id": "zoLW5mVrahxm"
      },
      "source": [
        "## 1. 데이터 불러오기와 데이터셋 나누기"
      ]
    },
    {
      "cell_type": "code",
      "execution_count": null,
      "metadata": {
        "id": "aw5GxWqWahxr"
      },
      "outputs": [],
      "source": [
        "import warnings\n",
        "warnings.filterwarnings(\"ignore\")"
      ]
    },
    {
      "cell_type": "code",
      "execution_count": null,
      "metadata": {
        "id": "IwB6KlfTahxs"
      },
      "outputs": [],
      "source": [
        "import pandas as pd"
      ]
    },
    {
      "cell_type": "code",
      "execution_count": null,
      "metadata": {
        "id": "xKO1BKflahxs"
      },
      "outputs": [],
      "source": [
        "data=pd.read_csv('Fvote.csv', encoding='utf-8')"
      ]
    },
    {
      "cell_type": "code",
      "execution_count": null,
      "metadata": {
        "id": "s50Ek0Gnahxt"
      },
      "outputs": [],
      "source": [
        "X=data[['gender_female', 'gender_male', 'region_Chungcheung', 'region_Honam', \n",
        "        'region_Others', 'region_Sudo', 'region_Youngnam', 'edu', 'income', \n",
        "        'age', 'score_gov', 'score_progress', 'score_intention']]"
      ]
    },
    {
      "cell_type": "code",
      "execution_count": null,
      "metadata": {
        "id": "Us6LvXdSahxt"
      },
      "outputs": [],
      "source": [
        "# 지지정당에 대한 결과 : label\n",
        "y=data[['parties']]"
      ]
    },
    {
      "cell_type": "code",
      "execution_count": null,
      "metadata": {
        "id": "JKcZzo43ahxu"
      },
      "outputs": [],
      "source": [
        "from sklearn.model_selection import train_test_split"
      ]
    },
    {
      "cell_type": "code",
      "execution_count": null,
      "metadata": {
        "id": "zoGNDBGrahxu"
      },
      "outputs": [],
      "source": [
        "X_train, X_test, y_train, y_test=train_test_split(X, y, stratify=y, random_state=42 )"
      ]
    },
    {
      "cell_type": "markdown",
      "metadata": {
        "id": "4Zw82QmDahxv"
      },
      "source": [
        "## 2. Grid Search "
      ]
    },
    {
      "cell_type": "code",
      "execution_count": null,
      "metadata": {
        "id": "C4HGzSWCahxw"
      },
      "outputs": [],
      "source": [
        "from sklearn.model_selection import GridSearchCV"
      ]
    },
    {
      "cell_type": "code",
      "execution_count": null,
      "metadata": {
        "id": "MCrEcFGTahxw"
      },
      "outputs": [],
      "source": [
        "param_grid={'n_neighbors': [1, 2, 3, 4, 5, 6, 7, 8, 9 , 10]}"
      ]
    },
    {
      "cell_type": "code",
      "execution_count": null,
      "metadata": {
        "id": "EeX2lK4Tahxw"
      },
      "outputs": [],
      "source": [
        "from sklearn.neighbors import KNeighborsClassifier"
      ]
    },
    {
      "cell_type": "code",
      "execution_count": null,
      "metadata": {
        "id": "DC4tueBTahxx"
      },
      "outputs": [],
      "source": [
        "grid_search=GridSearchCV(KNeighborsClassifier(), param_grid, cv=5, return_train_score=True)"
      ]
    },
    {
      "cell_type": "code",
      "execution_count": null,
      "metadata": {
        "id": "8Ouxa6gzahxx",
        "outputId": "a7101317-03de-4314-c7e8-c2345fb3bb75"
      },
      "outputs": [
        {
          "data": {
            "text/plain": [
              "GridSearchCV(cv=5, error_score='raise',\n",
              "       estimator=KNeighborsClassifier(algorithm='auto', leaf_size=30, metric='minkowski',\n",
              "           metric_params=None, n_jobs=1, n_neighbors=5, p=2,\n",
              "           weights='uniform'),\n",
              "       fit_params=None, iid=True, n_jobs=1,\n",
              "       param_grid={'n_neighbors': [1, 2, 3, 4, 5, 6, 7, 8, 9, 10]},\n",
              "       pre_dispatch='2*n_jobs', refit=True, return_train_score='warn',\n",
              "       scoring=None, verbose=0)"
            ]
          },
          "execution_count": 12,
          "metadata": {},
          "output_type": "execute_result"
        }
      ],
      "source": [
        "grid_search.fit(X_train, y_train)"
      ]
    },
    {
      "cell_type": "code",
      "execution_count": null,
      "metadata": {
        "id": "YmiAy81Tahxy",
        "outputId": "fa460f16-c34d-41c1-8c1a-f9ac957efca6"
      },
      "outputs": [
        {
          "name": "stdout",
          "output_type": "stream",
          "text": [
            "Best Parameter: {'n_neighbors': 8}\n"
          ]
        }
      ],
      "source": [
        "print(\"Best Parameter: {}\".format(grid_search.best_params_))"
      ]
    },
    {
      "cell_type": "code",
      "execution_count": null,
      "metadata": {
        "id": "V0q9IdSLahxz",
        "outputId": "eee61be1-b182-4212-ccf0-20414242d063"
      },
      "outputs": [
        {
          "name": "stdout",
          "output_type": "stream",
          "text": [
            "Best Cross-validity Score: 0.392\n"
          ]
        }
      ],
      "source": [
        "print(\"Best Cross-validity Score: {:.3f}\".format(grid_search.best_score_))"
      ]
    },
    {
      "cell_type": "code",
      "source": [
        "# Test data에 대한 예측률"
      ],
      "metadata": {
        "id": "FSyI8nf8ByU_"
      },
      "execution_count": null,
      "outputs": []
    },
    {
      "cell_type": "code",
      "execution_count": null,
      "metadata": {
        "id": "NnWaVxgMahxz",
        "outputId": "80898724-737e-4e7e-a56f-245f5bd28d7d"
      },
      "outputs": [
        {
          "name": "stdout",
          "output_type": "stream",
          "text": [
            "Test set Score: 0.415\n"
          ]
        }
      ],
      "source": [
        "print(\"Test set Score: {:.3f}\".format(grid_search.score(X_test, y_test)))"
      ]
    },
    {
      "cell_type": "code",
      "execution_count": null,
      "metadata": {
        "id": "405fuF2Lahxz"
      },
      "outputs": [],
      "source": [
        "result_grid= pd.DataFrame(grid_search.cv_results_)"
      ]
    },
    {
      "cell_type": "code",
      "execution_count": null,
      "metadata": {
        "id": "LcyCYbiMahx0",
        "outputId": "83f803e0-313d-4ec6-e209-a214bea3f7cb"
      },
      "outputs": [
        {
          "data": {
            "text/html": [
              "<div>\n",
              "<style scoped>\n",
              "    .dataframe tbody tr th:only-of-type {\n",
              "        vertical-align: middle;\n",
              "    }\n",
              "\n",
              "    .dataframe tbody tr th {\n",
              "        vertical-align: top;\n",
              "    }\n",
              "\n",
              "    .dataframe thead th {\n",
              "        text-align: right;\n",
              "    }\n",
              "</style>\n",
              "<table border=\"1\" class=\"dataframe\">\n",
              "  <thead>\n",
              "    <tr style=\"text-align: right;\">\n",
              "      <th></th>\n",
              "      <th>mean_fit_time</th>\n",
              "      <th>std_fit_time</th>\n",
              "      <th>mean_score_time</th>\n",
              "      <th>std_score_time</th>\n",
              "      <th>param_n_neighbors</th>\n",
              "      <th>params</th>\n",
              "      <th>split0_test_score</th>\n",
              "      <th>split1_test_score</th>\n",
              "      <th>split2_test_score</th>\n",
              "      <th>split3_test_score</th>\n",
              "      <th>...</th>\n",
              "      <th>mean_test_score</th>\n",
              "      <th>std_test_score</th>\n",
              "      <th>rank_test_score</th>\n",
              "      <th>split0_train_score</th>\n",
              "      <th>split1_train_score</th>\n",
              "      <th>split2_train_score</th>\n",
              "      <th>split3_train_score</th>\n",
              "      <th>split4_train_score</th>\n",
              "      <th>mean_train_score</th>\n",
              "      <th>std_train_score</th>\n",
              "    </tr>\n",
              "  </thead>\n",
              "  <tbody>\n",
              "    <tr>\n",
              "      <th>0</th>\n",
              "      <td>0.0026</td>\n",
              "      <td>1.200032e-03</td>\n",
              "      <td>0.0016</td>\n",
              "      <td>7.999539e-04</td>\n",
              "      <td>1</td>\n",
              "      <td>{'n_neighbors': 1}</td>\n",
              "      <td>0.363636</td>\n",
              "      <td>0.272727</td>\n",
              "      <td>0.419355</td>\n",
              "      <td>0.387097</td>\n",
              "      <td>...</td>\n",
              "      <td>0.373418</td>\n",
              "      <td>0.057183</td>\n",
              "      <td>4</td>\n",
              "      <td>0.992</td>\n",
              "      <td>1.000</td>\n",
              "      <td>0.992126</td>\n",
              "      <td>0.992126</td>\n",
              "      <td>1.000000</td>\n",
              "      <td>0.995250</td>\n",
              "      <td>0.003878</td>\n",
              "    </tr>\n",
              "    <tr>\n",
              "      <th>1</th>\n",
              "      <td>0.0012</td>\n",
              "      <td>3.999710e-04</td>\n",
              "      <td>0.0010</td>\n",
              "      <td>0.000000e+00</td>\n",
              "      <td>2</td>\n",
              "      <td>{'n_neighbors': 2}</td>\n",
              "      <td>0.363636</td>\n",
              "      <td>0.303030</td>\n",
              "      <td>0.322581</td>\n",
              "      <td>0.258065</td>\n",
              "      <td>...</td>\n",
              "      <td>0.316456</td>\n",
              "      <td>0.035114</td>\n",
              "      <td>10</td>\n",
              "      <td>0.680</td>\n",
              "      <td>0.688</td>\n",
              "      <td>0.669291</td>\n",
              "      <td>0.669291</td>\n",
              "      <td>0.687500</td>\n",
              "      <td>0.678817</td>\n",
              "      <td>0.008278</td>\n",
              "    </tr>\n",
              "    <tr>\n",
              "      <th>2</th>\n",
              "      <td>0.0014</td>\n",
              "      <td>4.898235e-04</td>\n",
              "      <td>0.0010</td>\n",
              "      <td>0.000000e+00</td>\n",
              "      <td>3</td>\n",
              "      <td>{'n_neighbors': 3}</td>\n",
              "      <td>0.424242</td>\n",
              "      <td>0.272727</td>\n",
              "      <td>0.354839</td>\n",
              "      <td>0.354839</td>\n",
              "      <td>...</td>\n",
              "      <td>0.360759</td>\n",
              "      <td>0.052597</td>\n",
              "      <td>6</td>\n",
              "      <td>0.608</td>\n",
              "      <td>0.656</td>\n",
              "      <td>0.629921</td>\n",
              "      <td>0.598425</td>\n",
              "      <td>0.648438</td>\n",
              "      <td>0.628157</td>\n",
              "      <td>0.022271</td>\n",
              "    </tr>\n",
              "    <tr>\n",
              "      <th>3</th>\n",
              "      <td>0.0012</td>\n",
              "      <td>4.000425e-04</td>\n",
              "      <td>0.0008</td>\n",
              "      <td>3.999949e-04</td>\n",
              "      <td>4</td>\n",
              "      <td>{'n_neighbors': 4}</td>\n",
              "      <td>0.363636</td>\n",
              "      <td>0.303030</td>\n",
              "      <td>0.290323</td>\n",
              "      <td>0.322581</td>\n",
              "      <td>...</td>\n",
              "      <td>0.335443</td>\n",
              "      <td>0.040108</td>\n",
              "      <td>9</td>\n",
              "      <td>0.600</td>\n",
              "      <td>0.600</td>\n",
              "      <td>0.637795</td>\n",
              "      <td>0.598425</td>\n",
              "      <td>0.632812</td>\n",
              "      <td>0.613807</td>\n",
              "      <td>0.017632</td>\n",
              "    </tr>\n",
              "    <tr>\n",
              "      <th>4</th>\n",
              "      <td>0.0012</td>\n",
              "      <td>4.000425e-04</td>\n",
              "      <td>0.0008</td>\n",
              "      <td>4.000187e-04</td>\n",
              "      <td>5</td>\n",
              "      <td>{'n_neighbors': 5}</td>\n",
              "      <td>0.515152</td>\n",
              "      <td>0.303030</td>\n",
              "      <td>0.290323</td>\n",
              "      <td>0.354839</td>\n",
              "      <td>...</td>\n",
              "      <td>0.367089</td>\n",
              "      <td>0.081373</td>\n",
              "      <td>5</td>\n",
              "      <td>0.560</td>\n",
              "      <td>0.584</td>\n",
              "      <td>0.622047</td>\n",
              "      <td>0.622047</td>\n",
              "      <td>0.593750</td>\n",
              "      <td>0.596369</td>\n",
              "      <td>0.023670</td>\n",
              "    </tr>\n",
              "    <tr>\n",
              "      <th>5</th>\n",
              "      <td>0.0012</td>\n",
              "      <td>3.998995e-04</td>\n",
              "      <td>0.0008</td>\n",
              "      <td>3.999949e-04</td>\n",
              "      <td>6</td>\n",
              "      <td>{'n_neighbors': 6}</td>\n",
              "      <td>0.393939</td>\n",
              "      <td>0.333333</td>\n",
              "      <td>0.322581</td>\n",
              "      <td>0.290323</td>\n",
              "      <td>...</td>\n",
              "      <td>0.341772</td>\n",
              "      <td>0.035952</td>\n",
              "      <td>8</td>\n",
              "      <td>0.528</td>\n",
              "      <td>0.592</td>\n",
              "      <td>0.590551</td>\n",
              "      <td>0.551181</td>\n",
              "      <td>0.554688</td>\n",
              "      <td>0.563284</td>\n",
              "      <td>0.024631</td>\n",
              "    </tr>\n",
              "    <tr>\n",
              "      <th>6</th>\n",
              "      <td>0.0010</td>\n",
              "      <td>9.536743e-08</td>\n",
              "      <td>0.0006</td>\n",
              "      <td>4.899403e-04</td>\n",
              "      <td>7</td>\n",
              "      <td>{'n_neighbors': 7}</td>\n",
              "      <td>0.454545</td>\n",
              "      <td>0.303030</td>\n",
              "      <td>0.387097</td>\n",
              "      <td>0.354839</td>\n",
              "      <td>...</td>\n",
              "      <td>0.379747</td>\n",
              "      <td>0.051068</td>\n",
              "      <td>2</td>\n",
              "      <td>0.512</td>\n",
              "      <td>0.552</td>\n",
              "      <td>0.543307</td>\n",
              "      <td>0.566929</td>\n",
              "      <td>0.500000</td>\n",
              "      <td>0.534847</td>\n",
              "      <td>0.025025</td>\n",
              "    </tr>\n",
              "    <tr>\n",
              "      <th>7</th>\n",
              "      <td>0.0012</td>\n",
              "      <td>4.000425e-04</td>\n",
              "      <td>0.0006</td>\n",
              "      <td>4.899014e-04</td>\n",
              "      <td>8</td>\n",
              "      <td>{'n_neighbors': 8}</td>\n",
              "      <td>0.424242</td>\n",
              "      <td>0.393939</td>\n",
              "      <td>0.451613</td>\n",
              "      <td>0.290323</td>\n",
              "      <td>...</td>\n",
              "      <td>0.392405</td>\n",
              "      <td>0.054365</td>\n",
              "      <td>1</td>\n",
              "      <td>0.544</td>\n",
              "      <td>0.560</td>\n",
              "      <td>0.543307</td>\n",
              "      <td>0.543307</td>\n",
              "      <td>0.523438</td>\n",
              "      <td>0.542810</td>\n",
              "      <td>0.011599</td>\n",
              "    </tr>\n",
              "    <tr>\n",
              "      <th>8</th>\n",
              "      <td>0.0010</td>\n",
              "      <td>9.536743e-08</td>\n",
              "      <td>0.0010</td>\n",
              "      <td>1.907349e-07</td>\n",
              "      <td>9</td>\n",
              "      <td>{'n_neighbors': 9}</td>\n",
              "      <td>0.393939</td>\n",
              "      <td>0.363636</td>\n",
              "      <td>0.354839</td>\n",
              "      <td>0.354839</td>\n",
              "      <td>...</td>\n",
              "      <td>0.379747</td>\n",
              "      <td>0.029748</td>\n",
              "      <td>2</td>\n",
              "      <td>0.488</td>\n",
              "      <td>0.504</td>\n",
              "      <td>0.535433</td>\n",
              "      <td>0.535433</td>\n",
              "      <td>0.500000</td>\n",
              "      <td>0.512573</td>\n",
              "      <td>0.019394</td>\n",
              "    </tr>\n",
              "    <tr>\n",
              "      <th>9</th>\n",
              "      <td>0.0010</td>\n",
              "      <td>9.536743e-08</td>\n",
              "      <td>0.0008</td>\n",
              "      <td>3.999949e-04</td>\n",
              "      <td>10</td>\n",
              "      <td>{'n_neighbors': 10}</td>\n",
              "      <td>0.333333</td>\n",
              "      <td>0.303030</td>\n",
              "      <td>0.322581</td>\n",
              "      <td>0.354839</td>\n",
              "      <td>...</td>\n",
              "      <td>0.348101</td>\n",
              "      <td>0.044563</td>\n",
              "      <td>7</td>\n",
              "      <td>0.496</td>\n",
              "      <td>0.512</td>\n",
              "      <td>0.519685</td>\n",
              "      <td>0.559055</td>\n",
              "      <td>0.507812</td>\n",
              "      <td>0.518911</td>\n",
              "      <td>0.021485</td>\n",
              "    </tr>\n",
              "  </tbody>\n",
              "</table>\n",
              "<p>10 rows × 21 columns</p>\n",
              "</div>"
            ],
            "text/plain": [
              "   mean_fit_time  std_fit_time  mean_score_time  std_score_time  \\\n",
              "0         0.0026  1.200032e-03           0.0016    7.999539e-04   \n",
              "1         0.0012  3.999710e-04           0.0010    0.000000e+00   \n",
              "2         0.0014  4.898235e-04           0.0010    0.000000e+00   \n",
              "3         0.0012  4.000425e-04           0.0008    3.999949e-04   \n",
              "4         0.0012  4.000425e-04           0.0008    4.000187e-04   \n",
              "5         0.0012  3.998995e-04           0.0008    3.999949e-04   \n",
              "6         0.0010  9.536743e-08           0.0006    4.899403e-04   \n",
              "7         0.0012  4.000425e-04           0.0006    4.899014e-04   \n",
              "8         0.0010  9.536743e-08           0.0010    1.907349e-07   \n",
              "9         0.0010  9.536743e-08           0.0008    3.999949e-04   \n",
              "\n",
              "  param_n_neighbors               params  split0_test_score  \\\n",
              "0                 1   {'n_neighbors': 1}           0.363636   \n",
              "1                 2   {'n_neighbors': 2}           0.363636   \n",
              "2                 3   {'n_neighbors': 3}           0.424242   \n",
              "3                 4   {'n_neighbors': 4}           0.363636   \n",
              "4                 5   {'n_neighbors': 5}           0.515152   \n",
              "5                 6   {'n_neighbors': 6}           0.393939   \n",
              "6                 7   {'n_neighbors': 7}           0.454545   \n",
              "7                 8   {'n_neighbors': 8}           0.424242   \n",
              "8                 9   {'n_neighbors': 9}           0.393939   \n",
              "9                10  {'n_neighbors': 10}           0.333333   \n",
              "\n",
              "   split1_test_score  split2_test_score  split3_test_score       ...         \\\n",
              "0           0.272727           0.419355           0.387097       ...          \n",
              "1           0.303030           0.322581           0.258065       ...          \n",
              "2           0.272727           0.354839           0.354839       ...          \n",
              "3           0.303030           0.290323           0.322581       ...          \n",
              "4           0.303030           0.290323           0.354839       ...          \n",
              "5           0.333333           0.322581           0.290323       ...          \n",
              "6           0.303030           0.387097           0.354839       ...          \n",
              "7           0.393939           0.451613           0.290323       ...          \n",
              "8           0.363636           0.354839           0.354839       ...          \n",
              "9           0.303030           0.322581           0.354839       ...          \n",
              "\n",
              "   mean_test_score  std_test_score  rank_test_score  split0_train_score  \\\n",
              "0         0.373418        0.057183                4               0.992   \n",
              "1         0.316456        0.035114               10               0.680   \n",
              "2         0.360759        0.052597                6               0.608   \n",
              "3         0.335443        0.040108                9               0.600   \n",
              "4         0.367089        0.081373                5               0.560   \n",
              "5         0.341772        0.035952                8               0.528   \n",
              "6         0.379747        0.051068                2               0.512   \n",
              "7         0.392405        0.054365                1               0.544   \n",
              "8         0.379747        0.029748                2               0.488   \n",
              "9         0.348101        0.044563                7               0.496   \n",
              "\n",
              "   split1_train_score  split2_train_score  split3_train_score  \\\n",
              "0               1.000            0.992126            0.992126   \n",
              "1               0.688            0.669291            0.669291   \n",
              "2               0.656            0.629921            0.598425   \n",
              "3               0.600            0.637795            0.598425   \n",
              "4               0.584            0.622047            0.622047   \n",
              "5               0.592            0.590551            0.551181   \n",
              "6               0.552            0.543307            0.566929   \n",
              "7               0.560            0.543307            0.543307   \n",
              "8               0.504            0.535433            0.535433   \n",
              "9               0.512            0.519685            0.559055   \n",
              "\n",
              "   split4_train_score  mean_train_score  std_train_score  \n",
              "0            1.000000          0.995250         0.003878  \n",
              "1            0.687500          0.678817         0.008278  \n",
              "2            0.648438          0.628157         0.022271  \n",
              "3            0.632812          0.613807         0.017632  \n",
              "4            0.593750          0.596369         0.023670  \n",
              "5            0.554688          0.563284         0.024631  \n",
              "6            0.500000          0.534847         0.025025  \n",
              "7            0.523438          0.542810         0.011599  \n",
              "8            0.500000          0.512573         0.019394  \n",
              "9            0.507812          0.518911         0.021485  \n",
              "\n",
              "[10 rows x 21 columns]"
            ]
          },
          "execution_count": 17,
          "metadata": {},
          "output_type": "execute_result"
        }
      ],
      "source": [
        "result_grid"
      ]
    },
    {
      "cell_type": "code",
      "execution_count": null,
      "metadata": {
        "id": "JWzaf1tuahx0",
        "outputId": "08ec383d-49d3-4eed-83e1-a1b5bc96ffd4"
      },
      "outputs": [
        {
          "data": {
            "text/plain": [
              "<matplotlib.legend.Legend at 0xa467630>"
            ]
          },
          "execution_count": 19,
          "metadata": {},
          "output_type": "execute_result"
        },
        {
          "data": {
            "image/png": "[encoded data removed]",
            "text/plain": [
              "<Figure size 432x288 with 1 Axes>"
            ]
          },
          "metadata": {},
          "output_type": "display_data"
        }
      ],
      "source": [
        "import matplotlib.pyplot as plt\n",
        "plt.plot(result_grid['param_n_neighbors'], result_grid['mean_train_score'], label=\"Train\")\n",
        "plt.plot(result_grid['param_n_neighbors'], result_grid['mean_test_score'], label=\"Test\")\n",
        "plt.legend()"
      ]
    },
    {
      "cell_type": "markdown",
      "metadata": {
        "id": "gUi0IamKahx0"
      },
      "source": [
        "## 3. Random Search"
      ]
    },
    {
      "cell_type": "code",
      "execution_count": null,
      "metadata": {
        "id": "GHjDabKxahx1"
      },
      "outputs": [],
      "source": [
        "from sklearn.model_selection import RandomizedSearchCV"
      ]
    },
    {
      "cell_type": "code",
      "execution_count": null,
      "metadata": {
        "id": "IrCKJ-niahx1"
      },
      "outputs": [],
      "source": [
        "from scipy.stats import randint"
      ]
    },
    {
      "cell_type": "code",
      "execution_count": null,
      "metadata": {
        "id": "rFRF_WNKahx1"
      },
      "outputs": [],
      "source": [
        "param_distribs = {'n_neighbors': randint(low=1, high=20)}"
      ]
    },
    {
      "cell_type": "code",
      "execution_count": null,
      "metadata": {
        "id": "h6EsbKoZahx1"
      },
      "outputs": [],
      "source": [
        "from sklearn.neighbors import KNeighborsClassifier"
      ]
    },
    {
      "cell_type": "code",
      "execution_count": null,
      "metadata": {
        "id": "ajWuRrA5ahx1"
      },
      "outputs": [],
      "source": [
        "random_search=RandomizedSearchCV(KNeighborsClassifier(), param_distributions=param_distribs, cv=5, return_train_score=True)"
      ]
    },
    {
      "cell_type": "code",
      "execution_count": null,
      "metadata": {
        "id": "mG1mjGBtahx2",
        "outputId": "47ac45aa-c88d-49e4-d5e1-3240a7b03a41"
      },
      "outputs": [
        {
          "data": {
            "text/plain": [
              "RandomizedSearchCV(cv=5, error_score='raise',\n",
              "          estimator=KNeighborsClassifier(algorithm='auto', leaf_size=30, metric='minkowski',\n",
              "           metric_params=None, n_jobs=1, n_neighbors=5, p=2,\n",
              "           weights='uniform'),\n",
              "          fit_params=None, iid=True, n_iter=10, n_jobs=1,\n",
              "          param_distributions={'n_neighbors': <scipy.stats._distn_infrastructure.rv_frozen object at 0x000000000A4406D8>},\n",
              "          pre_dispatch='2*n_jobs', random_state=None, refit=True,\n",
              "          return_train_score='warn', scoring=None, verbose=0)"
            ]
          },
          "execution_count": 25,
          "metadata": {},
          "output_type": "execute_result"
        }
      ],
      "source": [
        "random_search.fit(X_train, y_train)"
      ]
    },
    {
      "cell_type": "code",
      "execution_count": null,
      "metadata": {
        "id": "DSFhnquOahx2",
        "outputId": "05202727-58b9-4c0d-b4a4-43845ddccce5"
      },
      "outputs": [
        {
          "name": "stdout",
          "output_type": "stream",
          "text": [
            "Best Parameter: {'n_neighbors': 19}\n"
          ]
        }
      ],
      "source": [
        "print(\"Best Parameter: {}\".format(random_search.best_params_))"
      ]
    },
    {
      "cell_type": "code",
      "execution_count": null,
      "metadata": {
        "id": "2svpeuZJahx3",
        "outputId": "1dddd7cc-e90d-4a39-af24-0f6d36b2b052"
      },
      "outputs": [
        {
          "name": "stdout",
          "output_type": "stream",
          "text": [
            "Best Cross-validity Score: 0.424\n"
          ]
        }
      ],
      "source": [
        "print(\"Best Cross-validity Score: {:.3f}\".format(random_search.best_score_))"
      ]
    },
    {
      "cell_type": "code",
      "execution_count": null,
      "metadata": {
        "id": "VBgkAdKzahx3",
        "outputId": "490876a1-31c8-4c2c-86ab-55542aca5fbc"
      },
      "outputs": [
        {
          "name": "stdout",
          "output_type": "stream",
          "text": [
            "Test set Score: 0.302\n"
          ]
        }
      ],
      "source": [
        "print(\"Test set Score: {:.3f}\".format(random_search.score(X_test, y_test)))"
      ]
    },
    {
      "cell_type": "code",
      "execution_count": null,
      "metadata": {
        "id": "LxxxcYqrahx3"
      },
      "outputs": [],
      "source": [
        "result_random = random_search.cv_results_"
      ]
    },
    {
      "cell_type": "code",
      "execution_count": null,
      "metadata": {
        "id": "pLsZcBomahx3",
        "outputId": "a27f9819-da27-4b98-cae3-5c15c280ec1e"
      },
      "outputs": [
        {
          "data": {
            "text/html": [
              "<div>\n",
              "<style scoped>\n",
              "    .dataframe tbody tr th:only-of-type {\n",
              "        vertical-align: middle;\n",
              "    }\n",
              "\n",
              "    .dataframe tbody tr th {\n",
              "        vertical-align: top;\n",
              "    }\n",
              "\n",
              "    .dataframe thead th {\n",
              "        text-align: right;\n",
              "    }\n",
              "</style>\n",
              "<table border=\"1\" class=\"dataframe\">\n",
              "  <thead>\n",
              "    <tr style=\"text-align: right;\">\n",
              "      <th></th>\n",
              "      <th>mean_fit_time</th>\n",
              "      <th>std_fit_time</th>\n",
              "      <th>mean_score_time</th>\n",
              "      <th>std_score_time</th>\n",
              "      <th>param_n_neighbors</th>\n",
              "      <th>params</th>\n",
              "      <th>split0_test_score</th>\n",
              "      <th>split1_test_score</th>\n",
              "      <th>split2_test_score</th>\n",
              "      <th>split3_test_score</th>\n",
              "      <th>...</th>\n",
              "      <th>mean_test_score</th>\n",
              "      <th>std_test_score</th>\n",
              "      <th>rank_test_score</th>\n",
              "      <th>split0_train_score</th>\n",
              "      <th>split1_train_score</th>\n",
              "      <th>split2_train_score</th>\n",
              "      <th>split3_train_score</th>\n",
              "      <th>split4_train_score</th>\n",
              "      <th>mean_train_score</th>\n",
              "      <th>std_train_score</th>\n",
              "    </tr>\n",
              "  </thead>\n",
              "  <tbody>\n",
              "    <tr>\n",
              "      <th>0</th>\n",
              "      <td>0.0018</td>\n",
              "      <td>9.797833e-04</td>\n",
              "      <td>0.0016</td>\n",
              "      <td>8.000493e-04</td>\n",
              "      <td>19</td>\n",
              "      <td>{'n_neighbors': 19}</td>\n",
              "      <td>0.363636</td>\n",
              "      <td>0.424242</td>\n",
              "      <td>0.387097</td>\n",
              "      <td>0.387097</td>\n",
              "      <td>...</td>\n",
              "      <td>0.424051</td>\n",
              "      <td>0.071834</td>\n",
              "      <td>1</td>\n",
              "      <td>0.488</td>\n",
              "      <td>0.528</td>\n",
              "      <td>0.448819</td>\n",
              "      <td>0.472441</td>\n",
              "      <td>0.492188</td>\n",
              "      <td>0.485889</td>\n",
              "      <td>0.025971</td>\n",
              "    </tr>\n",
              "    <tr>\n",
              "      <th>1</th>\n",
              "      <td>0.0012</td>\n",
              "      <td>4.000187e-04</td>\n",
              "      <td>0.0006</td>\n",
              "      <td>4.899014e-04</td>\n",
              "      <td>3</td>\n",
              "      <td>{'n_neighbors': 3}</td>\n",
              "      <td>0.424242</td>\n",
              "      <td>0.272727</td>\n",
              "      <td>0.354839</td>\n",
              "      <td>0.354839</td>\n",
              "      <td>...</td>\n",
              "      <td>0.360759</td>\n",
              "      <td>0.052597</td>\n",
              "      <td>6</td>\n",
              "      <td>0.608</td>\n",
              "      <td>0.656</td>\n",
              "      <td>0.629921</td>\n",
              "      <td>0.598425</td>\n",
              "      <td>0.648438</td>\n",
              "      <td>0.628157</td>\n",
              "      <td>0.022271</td>\n",
              "    </tr>\n",
              "    <tr>\n",
              "      <th>2</th>\n",
              "      <td>0.0016</td>\n",
              "      <td>4.899598e-04</td>\n",
              "      <td>0.0008</td>\n",
              "      <td>3.999710e-04</td>\n",
              "      <td>2</td>\n",
              "      <td>{'n_neighbors': 2}</td>\n",
              "      <td>0.363636</td>\n",
              "      <td>0.303030</td>\n",
              "      <td>0.322581</td>\n",
              "      <td>0.258065</td>\n",
              "      <td>...</td>\n",
              "      <td>0.316456</td>\n",
              "      <td>0.035114</td>\n",
              "      <td>10</td>\n",
              "      <td>0.680</td>\n",
              "      <td>0.688</td>\n",
              "      <td>0.669291</td>\n",
              "      <td>0.669291</td>\n",
              "      <td>0.687500</td>\n",
              "      <td>0.678817</td>\n",
              "      <td>0.008278</td>\n",
              "    </tr>\n",
              "    <tr>\n",
              "      <th>3</th>\n",
              "      <td>0.0012</td>\n",
              "      <td>4.000425e-04</td>\n",
              "      <td>0.0010</td>\n",
              "      <td>1.168008e-07</td>\n",
              "      <td>13</td>\n",
              "      <td>{'n_neighbors': 13}</td>\n",
              "      <td>0.242424</td>\n",
              "      <td>0.303030</td>\n",
              "      <td>0.290323</td>\n",
              "      <td>0.290323</td>\n",
              "      <td>...</td>\n",
              "      <td>0.322785</td>\n",
              "      <td>0.088356</td>\n",
              "      <td>7</td>\n",
              "      <td>0.520</td>\n",
              "      <td>0.504</td>\n",
              "      <td>0.448819</td>\n",
              "      <td>0.488189</td>\n",
              "      <td>0.484375</td>\n",
              "      <td>0.489077</td>\n",
              "      <td>0.023759</td>\n",
              "    </tr>\n",
              "    <tr>\n",
              "      <th>4</th>\n",
              "      <td>0.0014</td>\n",
              "      <td>4.898430e-04</td>\n",
              "      <td>0.0008</td>\n",
              "      <td>3.999949e-04</td>\n",
              "      <td>11</td>\n",
              "      <td>{'n_neighbors': 11}</td>\n",
              "      <td>0.272727</td>\n",
              "      <td>0.303030</td>\n",
              "      <td>0.354839</td>\n",
              "      <td>0.322581</td>\n",
              "      <td>...</td>\n",
              "      <td>0.322785</td>\n",
              "      <td>0.034236</td>\n",
              "      <td>7</td>\n",
              "      <td>0.512</td>\n",
              "      <td>0.528</td>\n",
              "      <td>0.511811</td>\n",
              "      <td>0.551181</td>\n",
              "      <td>0.468750</td>\n",
              "      <td>0.514348</td>\n",
              "      <td>0.026960</td>\n",
              "    </tr>\n",
              "    <tr>\n",
              "      <th>5</th>\n",
              "      <td>0.0014</td>\n",
              "      <td>4.899403e-04</td>\n",
              "      <td>0.0006</td>\n",
              "      <td>4.898624e-04</td>\n",
              "      <td>8</td>\n",
              "      <td>{'n_neighbors': 8}</td>\n",
              "      <td>0.424242</td>\n",
              "      <td>0.393939</td>\n",
              "      <td>0.451613</td>\n",
              "      <td>0.290323</td>\n",
              "      <td>...</td>\n",
              "      <td>0.392405</td>\n",
              "      <td>0.054365</td>\n",
              "      <td>3</td>\n",
              "      <td>0.544</td>\n",
              "      <td>0.560</td>\n",
              "      <td>0.543307</td>\n",
              "      <td>0.543307</td>\n",
              "      <td>0.523438</td>\n",
              "      <td>0.542810</td>\n",
              "      <td>0.011599</td>\n",
              "    </tr>\n",
              "    <tr>\n",
              "      <th>6</th>\n",
              "      <td>0.0010</td>\n",
              "      <td>9.536743e-08</td>\n",
              "      <td>0.0008</td>\n",
              "      <td>3.999949e-04</td>\n",
              "      <td>11</td>\n",
              "      <td>{'n_neighbors': 11}</td>\n",
              "      <td>0.272727</td>\n",
              "      <td>0.303030</td>\n",
              "      <td>0.354839</td>\n",
              "      <td>0.322581</td>\n",
              "      <td>...</td>\n",
              "      <td>0.322785</td>\n",
              "      <td>0.034236</td>\n",
              "      <td>7</td>\n",
              "      <td>0.512</td>\n",
              "      <td>0.528</td>\n",
              "      <td>0.511811</td>\n",
              "      <td>0.551181</td>\n",
              "      <td>0.468750</td>\n",
              "      <td>0.514348</td>\n",
              "      <td>0.026960</td>\n",
              "    </tr>\n",
              "    <tr>\n",
              "      <th>7</th>\n",
              "      <td>0.0014</td>\n",
              "      <td>4.898819e-04</td>\n",
              "      <td>0.0004</td>\n",
              "      <td>4.898624e-04</td>\n",
              "      <td>1</td>\n",
              "      <td>{'n_neighbors': 1}</td>\n",
              "      <td>0.363636</td>\n",
              "      <td>0.272727</td>\n",
              "      <td>0.419355</td>\n",
              "      <td>0.387097</td>\n",
              "      <td>...</td>\n",
              "      <td>0.373418</td>\n",
              "      <td>0.057183</td>\n",
              "      <td>4</td>\n",
              "      <td>0.992</td>\n",
              "      <td>1.000</td>\n",
              "      <td>0.992126</td>\n",
              "      <td>0.992126</td>\n",
              "      <td>1.000000</td>\n",
              "      <td>0.995250</td>\n",
              "      <td>0.003878</td>\n",
              "    </tr>\n",
              "    <tr>\n",
              "      <th>8</th>\n",
              "      <td>0.0012</td>\n",
              "      <td>4.000187e-04</td>\n",
              "      <td>0.0006</td>\n",
              "      <td>4.899014e-04</td>\n",
              "      <td>17</td>\n",
              "      <td>{'n_neighbors': 17}</td>\n",
              "      <td>0.363636</td>\n",
              "      <td>0.393939</td>\n",
              "      <td>0.483871</td>\n",
              "      <td>0.387097</td>\n",
              "      <td>...</td>\n",
              "      <td>0.411392</td>\n",
              "      <td>0.042165</td>\n",
              "      <td>2</td>\n",
              "      <td>0.472</td>\n",
              "      <td>0.512</td>\n",
              "      <td>0.433071</td>\n",
              "      <td>0.480315</td>\n",
              "      <td>0.460938</td>\n",
              "      <td>0.471665</td>\n",
              "      <td>0.025715</td>\n",
              "    </tr>\n",
              "    <tr>\n",
              "      <th>9</th>\n",
              "      <td>0.0010</td>\n",
              "      <td>9.536743e-08</td>\n",
              "      <td>0.0008</td>\n",
              "      <td>4.000187e-04</td>\n",
              "      <td>1</td>\n",
              "      <td>{'n_neighbors': 1}</td>\n",
              "      <td>0.363636</td>\n",
              "      <td>0.272727</td>\n",
              "      <td>0.419355</td>\n",
              "      <td>0.387097</td>\n",
              "      <td>...</td>\n",
              "      <td>0.373418</td>\n",
              "      <td>0.057183</td>\n",
              "      <td>4</td>\n",
              "      <td>0.992</td>\n",
              "      <td>1.000</td>\n",
              "      <td>0.992126</td>\n",
              "      <td>0.992126</td>\n",
              "      <td>1.000000</td>\n",
              "      <td>0.995250</td>\n",
              "      <td>0.003878</td>\n",
              "    </tr>\n",
              "  </tbody>\n",
              "</table>\n",
              "<p>10 rows × 21 columns</p>\n",
              "</div>"
            ],
            "text/plain": [
              "   mean_fit_time  std_fit_time  mean_score_time  std_score_time  \\\n",
              "0         0.0018  9.797833e-04           0.0016    8.000493e-04   \n",
              "1         0.0012  4.000187e-04           0.0006    4.899014e-04   \n",
              "2         0.0016  4.899598e-04           0.0008    3.999710e-04   \n",
              "3         0.0012  4.000425e-04           0.0010    1.168008e-07   \n",
              "4         0.0014  4.898430e-04           0.0008    3.999949e-04   \n",
              "5         0.0014  4.899403e-04           0.0006    4.898624e-04   \n",
              "6         0.0010  9.536743e-08           0.0008    3.999949e-04   \n",
              "7         0.0014  4.898819e-04           0.0004    4.898624e-04   \n",
              "8         0.0012  4.000187e-04           0.0006    4.899014e-04   \n",
              "9         0.0010  9.536743e-08           0.0008    4.000187e-04   \n",
              "\n",
              "  param_n_neighbors               params  split0_test_score  \\\n",
              "0                19  {'n_neighbors': 19}           0.363636   \n",
              "1                 3   {'n_neighbors': 3}           0.424242   \n",
              "2                 2   {'n_neighbors': 2}           0.363636   \n",
              "3                13  {'n_neighbors': 13}           0.242424   \n",
              "4                11  {'n_neighbors': 11}           0.272727   \n",
              "5                 8   {'n_neighbors': 8}           0.424242   \n",
              "6                11  {'n_neighbors': 11}           0.272727   \n",
              "7                 1   {'n_neighbors': 1}           0.363636   \n",
              "8                17  {'n_neighbors': 17}           0.363636   \n",
              "9                 1   {'n_neighbors': 1}           0.363636   \n",
              "\n",
              "   split1_test_score  split2_test_score  split3_test_score       ...         \\\n",
              "0           0.424242           0.387097           0.387097       ...          \n",
              "1           0.272727           0.354839           0.354839       ...          \n",
              "2           0.303030           0.322581           0.258065       ...          \n",
              "3           0.303030           0.290323           0.290323       ...          \n",
              "4           0.303030           0.354839           0.322581       ...          \n",
              "5           0.393939           0.451613           0.290323       ...          \n",
              "6           0.303030           0.354839           0.322581       ...          \n",
              "7           0.272727           0.419355           0.387097       ...          \n",
              "8           0.393939           0.483871           0.387097       ...          \n",
              "9           0.272727           0.419355           0.387097       ...          \n",
              "\n",
              "   mean_test_score  std_test_score  rank_test_score  split0_train_score  \\\n",
              "0         0.424051        0.071834                1               0.488   \n",
              "1         0.360759        0.052597                6               0.608   \n",
              "2         0.316456        0.035114               10               0.680   \n",
              "3         0.322785        0.088356                7               0.520   \n",
              "4         0.322785        0.034236                7               0.512   \n",
              "5         0.392405        0.054365                3               0.544   \n",
              "6         0.322785        0.034236                7               0.512   \n",
              "7         0.373418        0.057183                4               0.992   \n",
              "8         0.411392        0.042165                2               0.472   \n",
              "9         0.373418        0.057183                4               0.992   \n",
              "\n",
              "   split1_train_score  split2_train_score  split3_train_score  \\\n",
              "0               0.528            0.448819            0.472441   \n",
              "1               0.656            0.629921            0.598425   \n",
              "2               0.688            0.669291            0.669291   \n",
              "3               0.504            0.448819            0.488189   \n",
              "4               0.528            0.511811            0.551181   \n",
              "5               0.560            0.543307            0.543307   \n",
              "6               0.528            0.511811            0.551181   \n",
              "7               1.000            0.992126            0.992126   \n",
              "8               0.512            0.433071            0.480315   \n",
              "9               1.000            0.992126            0.992126   \n",
              "\n",
              "   split4_train_score  mean_train_score  std_train_score  \n",
              "0            0.492188          0.485889         0.025971  \n",
              "1            0.648438          0.628157         0.022271  \n",
              "2            0.687500          0.678817         0.008278  \n",
              "3            0.484375          0.489077         0.023759  \n",
              "4            0.468750          0.514348         0.026960  \n",
              "5            0.523438          0.542810         0.011599  \n",
              "6            0.468750          0.514348         0.026960  \n",
              "7            1.000000          0.995250         0.003878  \n",
              "8            0.460938          0.471665         0.025715  \n",
              "9            1.000000          0.995250         0.003878  \n",
              "\n",
              "[10 rows x 21 columns]"
            ]
          },
          "execution_count": 30,
          "metadata": {},
          "output_type": "execute_result"
        }
      ],
      "source": [
        "pd.DataFrame(result_random)"
      ]
    },
    {
      "cell_type": "code",
      "execution_count": null,
      "metadata": {
        "id": "OMFHQ2Iyahx4",
        "outputId": "32aae78e-c2b0-415a-954a-a5cd8d791628"
      },
      "outputs": [
        {
          "data": {
            "text/plain": [
              "<matplotlib.legend.Legend at 0xb4d96d8>"
            ]
          },
          "execution_count": 31,
          "metadata": {},
          "output_type": "execute_result"
        },
        {
          "data": {
            "image/png": "[encoded data removed]",
            "text/plain": [
              "<Figure size 432x288 with 1 Axes>"
            ]
          },
          "metadata": {},
          "output_type": "display_data"
        }
      ],
      "source": [
        "import matplotlib.pyplot as plt\n",
        "plt.plot(result_random['param_n_neighbors'], result_random['mean_train_score'], label=\"Train\")\n",
        "plt.plot(result_random['param_n_neighbors'], result_random['mean_test_score'], label=\"Test\")\n",
        "plt.legend()"
      ]
    },
    {
      "cell_type": "markdown",
      "metadata": {
        "id": "YUiAQHNtahx4"
      },
      "source": [
        "## 4. 모델평가"
      ]
    },
    {
      "cell_type": "code",
      "execution_count": null,
      "metadata": {
        "id": "62TeJYTSahx4"
      },
      "outputs": [],
      "source": [
        "from sklearn.neighbors import KNeighborsClassifier"
      ]
    },
    {
      "cell_type": "code",
      "execution_count": null,
      "metadata": {
        "id": "886h8bh2ahx4"
      },
      "outputs": [],
      "source": [
        "# Grid Search가 더 나은 모델\n",
        "knn8=KNeighborsClassifier(n_neighbors=8)"
      ]
    },
    {
      "cell_type": "code",
      "execution_count": null,
      "metadata": {
        "id": "8OVBsH2qahx4",
        "outputId": "a14756d2-d1a9-4b07-928b-af27a30f71f3"
      },
      "outputs": [
        {
          "data": {
            "text/plain": [
              "KNeighborsClassifier(algorithm='auto', leaf_size=30, metric='minkowski',\n",
              "           metric_params=None, n_jobs=1, n_neighbors=8, p=2,\n",
              "           weights='uniform')"
            ]
          },
          "execution_count": 34,
          "metadata": {},
          "output_type": "execute_result"
        }
      ],
      "source": [
        "knn8.fit(X_train, y_train)"
      ]
    },
    {
      "cell_type": "code",
      "execution_count": null,
      "metadata": {
        "id": "0-A9P-Kaahx5"
      },
      "outputs": [],
      "source": [
        "from sklearn.metrics import confusion_matrix"
      ]
    },
    {
      "cell_type": "code",
      "execution_count": null,
      "metadata": {
        "id": "e45r1Wgmahx5"
      },
      "outputs": [],
      "source": [
        "pred_train=knn8.predict(X_train)"
      ]
    },
    {
      "cell_type": "code",
      "execution_count": null,
      "metadata": {
        "id": "iS2YD0G4ahx5"
      },
      "outputs": [],
      "source": [
        "confusion_train=confusion_matrix(y_train, pred_train)"
      ]
    },
    {
      "cell_type": "code",
      "execution_count": null,
      "metadata": {
        "id": "8BEWhX-Lahx5",
        "outputId": "d4690aa1-a70c-4e50-d0c8-da428f46cd33"
      },
      "outputs": [
        {
          "name": "stdout",
          "output_type": "stream",
          "text": [
            "훈련데이터 오차행렬:\n",
            " [[20  0  2 15]\n",
            " [ 3 15  0 19]\n",
            " [ 3  3  2 11]\n",
            " [10  6  1 48]]\n"
          ]
        }
      ],
      "source": [
        "print(\"훈련데이터 오차행렬:\\n\", confusion_train)"
      ]
    },
    {
      "cell_type": "code",
      "execution_count": null,
      "metadata": {
        "id": "HOVUhuTYahx5"
      },
      "outputs": [],
      "source": [
        "pred_test=knn8.predict(X_test)"
      ]
    },
    {
      "cell_type": "code",
      "execution_count": null,
      "metadata": {
        "id": "jOJA_mWZahx5"
      },
      "outputs": [],
      "source": [
        "confusion_test=confusion_matrix(y_test, pred_test)"
      ]
    },
    {
      "cell_type": "code",
      "execution_count": null,
      "metadata": {
        "id": "-Rbmi790ahx6",
        "outputId": "9112b1cc-cd72-49bd-aa09-d1d71be5f251"
      },
      "outputs": [
        {
          "name": "stdout",
          "output_type": "stream",
          "text": [
            "테스트데이터 오차행렬:\n",
            " [[ 5  0  1  7]\n",
            " [ 2  4  1  9]\n",
            " [ 3  1  0  2]\n",
            " [ 3  1  1 13]]\n"
          ]
        }
      ],
      "source": [
        "print(\"테스트데이터 오차행렬:\\n\", confusion_test)"
      ]
    },
    {
      "cell_type": "code",
      "execution_count": null,
      "metadata": {
        "id": "ze18PceDahx6"
      },
      "outputs": [],
      "source": [
        "from sklearn.metrics import f1_score"
      ]
    },
    {
      "cell_type": "code",
      "execution_count": null,
      "metadata": {
        "id": "lG3-refPahx6"
      },
      "outputs": [],
      "source": [
        "f1 = f1_score(y_test, pred_test, average=\"micro\" )\n",
        "# 다중분류일 때 micro / macro 사용"
      ]
    },
    {
      "cell_type": "code",
      "execution_count": null,
      "metadata": {
        "id": "pvkGADhVahx6",
        "outputId": "e712cc12-afb0-4d5d-bea5-b712113e2731"
      },
      "outputs": [
        {
          "name": "stdout",
          "output_type": "stream",
          "text": [
            "micro f1 score:\n",
            " 0.41509433962264153\n"
          ]
        }
      ],
      "source": [
        "print(\"micro f1 score(micro):\\n\", f1)"
      ]
    },
    {
      "cell_type": "code",
      "execution_count": null,
      "metadata": {
        "id": "mlPwzESuahx6"
      },
      "outputs": [],
      "source": [
        "f2 =  f1_score(y_test, pred_test, average=\"macro\" )"
      ]
    },
    {
      "cell_type": "code",
      "execution_count": null,
      "metadata": {
        "id": "mfVs0UO0ahx7",
        "outputId": "cf28bc6f-4f0f-4261-9d5c-fce0d39bde60"
      },
      "outputs": [
        {
          "name": "stdout",
          "output_type": "stream",
          "text": [
            "macro f1 score:\n",
            " 0.3197159982874269\n"
          ]
        }
      ],
      "source": [
        "print(\"macro f1 score(macro):\\n\", f2)"
      ]
    },
    {
      "cell_type": "code",
      "execution_count": null,
      "metadata": {
        "id": "9v_rvqppahx7"
      },
      "outputs": [],
      "source": [
        "from sklearn.metrics import classification_report"
      ]
    },
    {
      "cell_type": "code",
      "execution_count": null,
      "metadata": {
        "id": "Oo_ukWeTahx7"
      },
      "outputs": [],
      "source": [
        "cfreport=classification_report(y_test, pred_test)"
      ]
    },
    {
      "cell_type": "code",
      "execution_count": null,
      "metadata": {
        "id": "_PDvYwTKahx7",
        "outputId": "850f10f3-d87d-450a-bb0b-6414e07818c0"
      },
      "outputs": [
        {
          "name": "stdout",
          "output_type": "stream",
          "text": [
            "분류예측 레포트:\n",
            "              precision    recall  f1-score   support\n",
            "\n",
            "          1       0.38      0.38      0.38        13\n",
            "          2       0.67      0.25      0.36        16\n",
            "          3       0.00      0.00      0.00         6\n",
            "          4       0.42      0.72      0.53        18\n",
            "\n",
            "avg / total       0.44      0.42      0.38        53\n",
            "\n"
          ]
        }
      ],
      "source": [
        "print(\"분류예측 레포트:\\n\", cfreport)"
      ]
    }
  ],
  "metadata": {
    "kernelspec": {
      "display_name": "Python 3",
      "language": "python",
      "name": "python3"
    },
    "language_info": {
      "codemirror_mode": {
        "name": "ipython",
        "version": 3
      },
      "file_extension": ".py",
      "mimetype": "text/x-python",
      "name": "python",
      "nbconvert_exporter": "python",
      "pygments_lexer": "ipython3",
      "version": "3.6.5"
    },
    "colab": {
      "provenance": [],
      "include_colab_link": true
    }
  },
  "nbformat": 4,
  "nbformat_minor": 0
}
