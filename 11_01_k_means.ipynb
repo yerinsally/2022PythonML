{
  "nbformat": 4,
  "nbformat_minor": 0,
  "metadata": {
    "colab": {
      "provenance": [],
      "include_colab_link": true
    },
    "kernelspec": {
      "name": "python3",
      "display_name": "Python 3"
    }
  },
  "cells": [
    {
      "cell_type": "markdown",
      "metadata": {
        "id": "view-in-github",
        "colab_type": "text"
      },
      "source": [
        "<a href=\"https://colab.research.google.com/github/yerinsally/2022_PythonML/blob/main/11_k_means_1.ipynb\" target=\"_parent\"><img src=\"https://colab.research.google.com/assets/colab-badge.svg\" alt=\"Open In Colab\"/></a>"
      ]
    },
    {
      "cell_type": "code",
      "metadata": {
        "id": "DLUzaUjkbPID",
        "outputId": "c35b218e-4503-407e-fae4-3cbf87dccfbb",
        "colab": {
          "base_uri": "https://localhost:8080/",
          "height": 568
        }
      },
      "source": [
        "import pandas as pd\n",
        "import numpy as np\n",
        "import matplotlib.pyplot as plt\n",
        "from sklearn.cluster import KMeans\n",
        "%matplotlib inline\n",
        "\n",
        "\n",
        "# -2 보다 크고 0보다 작은 100열 2행의 랜덤 어레이 생성\n",
        "X = -2 * np.random.rand(100,2)\n",
        "# print(X)\n",
        "\n",
        "# 1보다 크고 3보다 작은 50열 2행의 랜덤 어레이 생성\n",
        "X1 = 1 + 2 * np.random.rand(50,2)\n",
        "# print(X1)\n",
        "\n",
        "\n",
        "# X의 50~100열을 X1의 값으로 대체 (클러스터를 구분하기 위한 데이터)\n",
        "X[50:100, :] = X1\n",
        "# print(X)\n",
        "\n",
        "plt.scatter(x=X[:, 0], y=X[:, 1], s=50, c='b')\n",
        "plt.show()\n",
        "\n",
        "\n",
        "from sklearn.cluster import KMeans\n",
        "kmean = KMeans(n_clusters=2)\n",
        "kmean.fit(X)\n",
        "\n",
        "'''\n",
        "KMeans(n_clusters=8, *, init='k-means++', n_init=10,\n",
        "         max_iter=300, tol=1e-4, precompute_distances='deprecated',\n",
        "         verbose=0, random_state=None, copy_x=True,\n",
        "         n_jobs='deprecated', algorithm='auto')\n",
        "\n",
        "init 파라미터의 default 값은 k-mean++\n",
        "k-mean++는 초기 Centroid를 정하는 방법 중 하나\n",
        "먼저 맨 처음 데이터를 centroid1로 정하고 centroid1로부터 가장 멀리 떨어져 있는 데이터를 centroid2로 정함.\n",
        "centroid1과 centroid2로부터 가장 멀리 떨어져 있는 데이터를 centroid3로 둠.\n",
        "이렇게 K번 반복하여 초기 centroid를 정해주는 것\n",
        "임의로 정하거나 랜덤하게 정하는 것보다 iteration 횟수를 줄여주어 좀 더 효율적임\n",
        "\n",
        "max_iter=300\n",
        "클러스터에 assign되는 데이터가 없을 때까지 반복\n",
        "max_iter를 정해주면 max_iter까지 하거나 assign 되는 데이터가 없을 때까지 반복\n",
        "보통 300번 이전에 끝나기 때문에 default가 300\n",
        "'''\n",
        "\n",
        "print(\"Cluster centers\", kmean.cluster_centers_)\n",
        "\n",
        "plt.scatter(X[ : , 0], X[ : , 1], s =50, c='b')\n",
        "plt.scatter(kmean.cluster_centers_[0][0], kmean.cluster_centers_[0][1], s=200, c='g', marker='s')\n",
        "plt.scatter(kmean.cluster_centers_[1][0], kmean.cluster_centers_[1][1], s=200, c='r', marker='s')\n",
        "plt.show()\n",
        "\n",
        "\n",
        "predict = kmean.predict([[-1,-1],[9,9],[0.5,0.5]])\n",
        "print(predict)\n"
      ],
      "execution_count": null,
      "outputs": [
        {
          "output_type": "display_data",
          "data": {
            "text/plain": [
              "<Figure size 432x288 with 1 Axes>"
            ],
            "image/png": "[encoded data removed]"
          },
          "metadata": {
            "needs_background": "light"
          }
        },
        {
          "output_type": "stream",
          "name": "stdout",
          "text": [
            "Cluster centers [[-1.12226635 -1.12256673]\n",
            " [ 2.17070743  1.90101403]]\n"
          ]
        },
        {
          "output_type": "display_data",
          "data": {
            "text/plain": [
              "<Figure size 432x288 with 1 Axes>"
            ],
            "image/png": "[encoded data removed]"
          },
          "metadata": {
            "needs_background": "light"
          }
        },
        {
          "output_type": "stream",
          "name": "stdout",
          "text": [
            "[0 1 1]\n"
          ]
        }
      ]
    }
  ]
}
