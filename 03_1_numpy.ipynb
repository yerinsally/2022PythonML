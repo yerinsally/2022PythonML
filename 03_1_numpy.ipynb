{
  "cells": [
    {
      "cell_type": "markdown",
      "source": [
        "#Numpy Library : 배열을 다루는 도구"
      ],
      "metadata": {
        "id": "BlxsgmzhdshM"
      }
    },
    {
      "cell_type": "code",
      "source": [
        "import numpy as np"
      ],
      "metadata": {
        "id": "qy56eK4mGFEO"
      },
      "execution_count": null,
      "outputs": []
    },
    {
      "cell_type": "code",
      "source": [
        "# 1차원 배열 생성하기\n",
        "넘파이_배열1 = np.array([1,2,3,4])\n",
        "넘파이_배열1"
      ],
      "metadata": {
        "colab": {
          "base_uri": "https://localhost:8080/"
        },
        "id": "kew8OlIcGHXO",
        "outputId": "7df3e759-d32d-4e1b-8462-edf3e2589b91"
      },
      "execution_count": null,
      "outputs": [
        {
          "output_type": "execute_result",
          "data": {
            "text/plain": [
              "array([1, 2, 3, 4])"
            ]
          },
          "metadata": {},
          "execution_count": 2
        }
      ]
    },
    {
      "cell_type": "code",
      "source": [
        "# 2차원 배열 생성하기\n",
        "넘파이_배열2 = np.array([[1,2,3,4],[11,12,13,14]])\n",
        "넘파이_배열2"
      ],
      "metadata": {
        "colab": {
          "base_uri": "https://localhost:8080/"
        },
        "id": "SJAzInBlGHG2",
        "outputId": "0258ba8c-e976-41a5-e741-398aabd8c366"
      },
      "execution_count": null,
      "outputs": [
        {
          "output_type": "execute_result",
          "data": {
            "text/plain": [
              "array([[ 1,  2,  3,  4],\n",
              "       [11, 12, 13, 14]])"
            ]
          },
          "metadata": {},
          "execution_count": 3
        }
      ]
    },
    {
      "cell_type": "code",
      "source": [
        "# 3차원 배열 생성하기\n",
        "넘파이_배열3 = np.array([ [[1,2,3,4],[11,12,13,14]],\n",
        "                   [[21,22,23,24],[31,32,33,34]] ])\n",
        "넘파이_배열3"
      ],
      "metadata": {
        "colab": {
          "base_uri": "https://localhost:8080/"
        },
        "id": "-BvsMAq5Gpu2",
        "outputId": "6df74688-6203-4a79-a546-53b2e5189024"
      },
      "execution_count": null,
      "outputs": [
        {
          "output_type": "execute_result",
          "data": {
            "text/plain": [
              "array([[[ 1,  2,  3,  4],\n",
              "        [11, 12, 13, 14]],\n",
              "\n",
              "       [[21, 22, 23, 24],\n",
              "        [31, 32, 33, 34]]])"
            ]
          },
          "metadata": {},
          "execution_count": 9
        }
      ]
    },
    {
      "cell_type": "code",
      "source": [
        "# .shape로 배열의 모양 보기\n",
        "print(넘파이_배열1.shape)\n",
        "print(넘파이_배열2.shape)\n",
        "print(넘파이_배열3.shape)"
      ],
      "metadata": {
        "colab": {
          "base_uri": "https://localhost:8080/"
        },
        "id": "pxFp54o1Hewd",
        "outputId": "684ade56-35a6-4f03-c46a-a446126a9154"
      },
      "execution_count": null,
      "outputs": [
        {
          "output_type": "stream",
          "name": "stdout",
          "text": [
            "(4,)\n",
            "(2, 4)\n",
            "(2, 2, 4)\n"
          ]
        }
      ]
    },
    {
      "cell_type": "code",
      "execution_count": null,
      "metadata": {
        "colab": {
          "base_uri": "https://localhost:8080/"
        },
        "id": "Mynl2zhJdYLY",
        "outputId": "954e51b2-96ac-443c-c275-9ec92a69b72e"
      },
      "outputs": [
        {
          "output_type": "stream",
          "name": "stdout",
          "text": [
            "[1 2 3 4]\n"
          ]
        }
      ],
      "source": [
        "v1=np.array([1,2,3,4])\n",
        "print(v1)"
      ]
    },
    {
      "cell_type": "code",
      "execution_count": null,
      "metadata": {
        "colab": {
          "base_uri": "https://localhost:8080/"
        },
        "id": "wYySuLghdYLb",
        "outputId": "469a41e8-c6a3-4393-d0fa-2dcc6a968441"
      },
      "outputs": [
        {
          "output_type": "stream",
          "name": "stdout",
          "text": [
            "[0 1 2 3 4 5 6 7 8 9]\n"
          ]
        }
      ],
      "source": [
        "v1=np.arange(10)\n",
        "print(v1)"
      ]
    },
    {
      "cell_type": "code",
      "execution_count": null,
      "metadata": {
        "colab": {
          "base_uri": "https://localhost:8080/"
        },
        "id": "e5NrhukLdYLc",
        "outputId": "cdbcaeec-1dee-4662-a968-6d2bf0bb63d5"
      },
      "outputs": [
        {
          "output_type": "stream",
          "name": "stdout",
          "text": [
            "[1 3 5 7 9]\n",
            "[3.5 5.5 7.5 9.5]\n"
          ]
        }
      ],
      "source": [
        "v2=np.arange(1,10,2, dtype=int)\n",
        "v3=np.arange(3.5,10.5,2, dtype=float)\n",
        "print(v2)\n",
        "print(v3)"
      ]
    },
    {
      "cell_type": "code",
      "execution_count": null,
      "metadata": {
        "colab": {
          "base_uri": "https://localhost:8080/"
        },
        "id": "f9YfhO5BdYLc",
        "outputId": "6f2686e8-31f8-42b1-d900-1edfada2a46d"
      },
      "outputs": [
        {
          "output_type": "stream",
          "name": "stdout",
          "text": [
            "[ 1  9 25 49 81]\n"
          ]
        }
      ],
      "source": [
        "v4=np.arange(1,10,2)**2\n",
        "print(v4)"
      ]
    },
    {
      "cell_type": "code",
      "execution_count": null,
      "metadata": {
        "colab": {
          "base_uri": "https://localhost:8080/"
        },
        "id": "Mwi8L5tJdYLc",
        "outputId": "7e22a16b-20ad-4f94-f252-b43fa016370b"
      },
      "outputs": [
        {
          "output_type": "stream",
          "name": "stdout",
          "text": [
            "[  1  27 125 343 729]\n"
          ]
        }
      ],
      "source": [
        "v5=np.arange(1,10,2)**3\n",
        "print(v5)"
      ]
    },
    {
      "cell_type": "code",
      "execution_count": null,
      "metadata": {
        "colab": {
          "base_uri": "https://localhost:8080/"
        },
        "id": "SpSRO8_bdYLd",
        "outputId": "baebc83f-a30a-4557-b366-3d34df9f02cc"
      },
      "outputs": [
        {
          "output_type": "stream",
          "name": "stdout",
          "text": [
            "[ 0  1  2  3  4  5  6  7  8  9 10 11]\n",
            "[[ 0  1  2  3  4  5]\n",
            " [ 6  7  8  9 10 11]]\n",
            "[[ 0  2  4  6  8 10]\n",
            " [ 1  3  5  7  9 11]]\n"
          ]
        }
      ],
      "source": [
        "v1=np.arange(12)\n",
        "print(v1)\n",
        "v2=v1.reshape(2,6)\n",
        "print(v2)\n",
        "v3=v1.reshape(2,6, order='F')\n",
        "print(v3)"
      ]
    },
    {
      "cell_type": "code",
      "execution_count": null,
      "metadata": {
        "colab": {
          "base_uri": "https://localhost:8080/"
        },
        "id": "9UtkqsHkdYLd",
        "outputId": "a59f52a2-9959-459e-9b5a-a9887b3c69bc"
      },
      "outputs": [
        {
          "output_type": "stream",
          "name": "stdout",
          "text": [
            "[[1 2]\n",
            " [3 4]]\n",
            "[[2 4]\n",
            " [6 8]]\n",
            "[[0 0]\n",
            " [0 0]]\n",
            "[[ 1  4]\n",
            " [ 9 16]]\n",
            "[[ 7 10]\n",
            " [15 22]]\n"
          ]
        }
      ],
      "source": [
        "v1=np.arange(1,5).reshape(2,2)\n",
        "print(v1)\n",
        "print(np.add(v1,v1))\n",
        "print(np.subtract(v1,v1))\n",
        "print(np.multiply(v1,v1))\n",
        "print(np.dot(v1,v1))"
      ]
    },
    {
      "cell_type": "code",
      "execution_count": null,
      "metadata": {
        "colab": {
          "base_uri": "https://localhost:8080/"
        },
        "id": "lTmPd84IdYLe",
        "outputId": "0c40fce3-8408-4c58-de46-85f2147687a5"
      },
      "outputs": [
        {
          "output_type": "stream",
          "name": "stdout",
          "text": [
            "[ 0  1  2  3  4  5  6  7  8  9 10 11]\n",
            "[[[ 0  1]\n",
            "  [ 2  3]\n",
            "  [ 4  5]]\n",
            "\n",
            " [[ 6  7]\n",
            "  [ 8  9]\n",
            "  [10 11]]]\n",
            "[[[ 0  6]\n",
            "  [ 2  8]\n",
            "  [ 4 10]]\n",
            "\n",
            " [[ 1  7]\n",
            "  [ 3  9]\n",
            "  [ 5 11]]]\n"
          ]
        }
      ],
      "source": [
        "v1=np.arange(12)\n",
        "print(v1)\n",
        "v2=v1.reshape(2,3,2)\n",
        "v3=v1.reshape(2,3,2,order='F')\n",
        "print(v2)\n",
        "print(v3)"
      ]
    },
    {
      "cell_type": "code",
      "execution_count": null,
      "metadata": {
        "colab": {
          "base_uri": "https://localhost:8080/"
        },
        "id": "m9GXzfahdYLe",
        "outputId": "805a2edb-7f1f-4430-f690-c1db0c6229da"
      },
      "outputs": [
        {
          "output_type": "stream",
          "name": "stdout",
          "text": [
            "[3.5 5.5 7.5 9.5]\n",
            "[[1 2]\n",
            " [3 4]]\n"
          ]
        }
      ],
      "source": [
        "v3=np.arange(3.5, 10.5, 2, dtype=float)\n",
        "print(v3)\n",
        "v4=np.arange(1,5).reshape(2,2)\n",
        "print(v4)"
      ]
    },
    {
      "cell_type": "code",
      "execution_count": null,
      "metadata": {
        "colab": {
          "base_uri": "https://localhost:8080/"
        },
        "id": "8O9a6zfBdYLf",
        "outputId": "fd1bcc8f-8edb-4a25-d9bb-ab606cdb12f0"
      },
      "outputs": [
        {
          "output_type": "stream",
          "name": "stdout",
          "text": [
            "[ 0  1  2  3  4  5  6  7  8  9 10 11]\n",
            "[[[ 0  6]\n",
            "  [ 2  8]\n",
            "  [ 4 10]]\n",
            "\n",
            " [[ 1  7]\n",
            "  [ 3  9]\n",
            "  [ 5 11]]]\n"
          ]
        }
      ],
      "source": [
        "v1=np.arange(12)\n",
        "print(v1)\n",
        "v2=v1.reshape(2,3,2, order='F')\n",
        "print(v2)"
      ]
    },
    {
      "cell_type": "code",
      "execution_count": null,
      "metadata": {
        "colab": {
          "base_uri": "https://localhost:8080/"
        },
        "id": "jDpxxv3TdYLf",
        "outputId": "a317e2a7-8def-494f-83ee-6f61a9b10194"
      },
      "outputs": [
        {
          "output_type": "stream",
          "name": "stdout",
          "text": [
            "[3.5 5.5 7.5 9.5]\n",
            "[[1 2]\n",
            " [3 4]]\n",
            "9.5\n",
            "1\n",
            "float64\n",
            "(2, 2)\n"
          ]
        }
      ],
      "source": [
        "v3=np.arange(3.5, 10.5, 2, dtype=float)\n",
        "print(v3)\n",
        "v4=np.arange(1,5).reshape(2,2)\n",
        "print(v4)\n",
        "print(np.amax(v3))\n",
        "print(np.amin(v4))\n",
        "print(v3.dtype)\n",
        "print(v4.shape)"
      ]
    },
    {
      "cell_type": "code",
      "execution_count": null,
      "metadata": {
        "id": "w42-vfZ8dYLg"
      },
      "outputs": [],
      "source": []
    }
  ],
  "metadata": {
    "kernelspec": {
      "display_name": "Python 3",
      "language": "python",
      "name": "python3"
    },
    "language_info": {
      "codemirror_mode": {
        "name": "ipython",
        "version": 3
      },
      "file_extension": ".py",
      "mimetype": "text/x-python",
      "name": "python",
      "nbconvert_exporter": "python",
      "pygments_lexer": "ipython3",
      "version": "3.7.1"
    },
    "colab": {
      "provenance": []
    }
  },
  "nbformat": 4,
  "nbformat_minor": 0
}
