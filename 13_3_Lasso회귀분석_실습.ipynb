{
  "nbformat": 4,
  "nbformat_minor": 0,
  "metadata": {
    "kernelspec": {
      "display_name": "Python 3",
      "language": "python",
      "name": "python3"
    },
    "language_info": {
      "codemirror_mode": {
        "name": "ipython",
        "version": 3
      },
      "file_extension": ".py",
      "mimetype": "text/x-python",
      "name": "python",
      "nbconvert_exporter": "python",
      "pygments_lexer": "ipython3",
      "version": "3.6.5"
    },
    "colab": {
      "provenance": [],
      "include_colab_link": true
    }
  },
  "cells": [
    {
      "cell_type": "markdown",
      "metadata": {
        "id": "view-in-github",
        "colab_type": "text"
      },
      "source": [
        "<a href=\"https://colab.research.google.com/github/yerinsally/2022_PythonML/blob/main/13_3_Lasso%ED%9A%8C%EA%B7%80%EB%B6%84%EC%84%9D_%EC%8B%A4%EC%8A%B5.ipynb\" target=\"_parent\"><img src=\"https://colab.research.google.com/assets/colab-badge.svg\" alt=\"Open In Colab\"/></a>"
      ]
    },
    {
      "cell_type": "markdown",
      "metadata": {
        "id": "nV4bliyN7cRB"
      },
      "source": [
        "# 1. 라이브러리 및 데이터 불러오기"
      ]
    },
    {
      "cell_type": "code",
      "metadata": {
        "id": "WKZtZR_Q7cRG"
      },
      "source": [
        "import warnings\n",
        "warnings.filterwarnings(\"ignore\")"
      ],
      "execution_count": null,
      "outputs": []
    },
    {
      "cell_type": "code",
      "metadata": {
        "colab": {
          "base_uri": "https://localhost:8080/"
        },
        "id": "ZbI6DdU47fuI",
        "outputId": "aa1b7de6-e3d3-4a64-e3a6-45d27dff2ded"
      },
      "source": [
        "from google.colab import drive\n",
        "drive.mount('/content/drive')"
      ],
      "execution_count": null,
      "outputs": [
        {
          "output_type": "stream",
          "name": "stdout",
          "text": [
            "Drive already mounted at /content/drive; to attempt to forcibly remount, call drive.mount(\"/content/drive\", force_remount=True).\n"
          ]
        }
      ]
    },
    {
      "cell_type": "code",
      "metadata": {
        "id": "UqL0gbp77cRH"
      },
      "source": [
        "import pandas as pd"
      ],
      "execution_count": null,
      "outputs": []
    },
    {
      "cell_type": "code",
      "metadata": {
        "id": "pgrq7aZD7cRI"
      },
      "source": [
        "data=pd.read_csv(\"/content/drive/MyDrive/G_ML_2/data/wine.csv\",sep=',')"
      ],
      "execution_count": null,
      "outputs": []
    },
    {
      "cell_type": "code",
      "metadata": {
        "id": "P0el9TuX7cRI"
      },
      "source": [
        "X=data[data.columns[0:11]]"
      ],
      "execution_count": null,
      "outputs": []
    },
    {
      "cell_type": "code",
      "metadata": {
        "id": "_g2pubv67cRI"
      },
      "source": [
        "y=data[['quality']]"
      ],
      "execution_count": null,
      "outputs": []
    },
    {
      "cell_type": "code",
      "metadata": {
        "id": "VeLEF6y17cRJ"
      },
      "source": [
        "from sklearn.model_selection import train_test_split"
      ],
      "execution_count": null,
      "outputs": []
    },
    {
      "cell_type": "code",
      "metadata": {
        "id": "fOT_7BwW7cRK"
      },
      "source": [
        "X_train, X_test, y_train, y_test = train_test_split(\n",
        "    X, y, train_size = 0.7, random_state=42)"
      ],
      "execution_count": null,
      "outputs": []
    },
    {
      "cell_type": "markdown",
      "metadata": {
        "id": "EJTpJBLK7cRK"
      },
      "source": [
        "# 2. Grid Search"
      ]
    },
    {
      "cell_type": "code",
      "metadata": {
        "id": "MJBP_I6e7cRL"
      },
      "source": [
        "from sklearn.model_selection import GridSearchCV"
      ],
      "execution_count": null,
      "outputs": []
    },
    {
      "cell_type": "code",
      "metadata": {
        "id": "W4IBAV3K7cRM"
      },
      "source": [
        "param_grid={'alpha': [0.0, 1e-6, 1e-5, 1e-4, 1e-3, 1e-2, 0.1, 0.5, 1.0, 2.0, 3.0]}"
      ],
      "execution_count": null,
      "outputs": []
    },
    {
      "cell_type": "code",
      "metadata": {
        "id": "JBmGu1em7cRM"
      },
      "source": [
        "from sklearn.linear_model import Lasso"
      ],
      "execution_count": null,
      "outputs": []
    },
    {
      "cell_type": "code",
      "metadata": {
        "id": "aCHyQP247cRN"
      },
      "source": [
        "grid_search=GridSearchCV(Lasso(), param_grid, cv=5, return_train_score=True)"
      ],
      "execution_count": null,
      "outputs": []
    },
    {
      "cell_type": "code",
      "metadata": {
        "colab": {
          "base_uri": "https://localhost:8080/"
        },
        "id": "qRRr569i7cRN",
        "outputId": "f2694ece-869a-440d-c854-01d0eae97e71"
      },
      "source": [
        "grid_search.fit(X_train, y_train)"
      ],
      "execution_count": null,
      "outputs": [
        {
          "output_type": "execute_result",
          "data": {
            "text/plain": [
              "GridSearchCV(cv=5, estimator=Lasso(),\n",
              "             param_grid={'alpha': [0.0, 1e-06, 1e-05, 0.0001, 0.001, 0.01, 0.1,\n",
              "                                   0.5, 1.0, 2.0, 3.0]},\n",
              "             return_train_score=True)"
            ]
          },
          "metadata": {},
          "execution_count": 13
        }
      ]
    },
    {
      "cell_type": "code",
      "metadata": {
        "colab": {
          "base_uri": "https://localhost:8080/"
        },
        "id": "ooL21xUT7cRO",
        "outputId": "1af6d28d-23c9-4966-a610-28bbfc2a6071"
      },
      "source": [
        "print(\"Best Parameter: {}\".format(grid_search.best_params_))"
      ],
      "execution_count": null,
      "outputs": [
        {
          "output_type": "stream",
          "name": "stdout",
          "text": [
            "Best Parameter: {'alpha': 0.0001}\n"
          ]
        }
      ]
    },
    {
      "cell_type": "code",
      "metadata": {
        "colab": {
          "base_uri": "https://localhost:8080/"
        },
        "id": "gZAZADAW7cRO",
        "outputId": "b133e02b-1331-4763-b584-ed5e09a2d68f"
      },
      "source": [
        "print(\"Best Cross-validity Score: {:.3f}\".format(grid_search.best_score_))"
      ],
      "execution_count": null,
      "outputs": [
        {
          "output_type": "stream",
          "name": "stdout",
          "text": [
            "Best Cross-validity Score: 0.335\n"
          ]
        }
      ]
    },
    {
      "cell_type": "code",
      "metadata": {
        "colab": {
          "base_uri": "https://localhost:8080/"
        },
        "id": "R79swMuW7cRP",
        "outputId": "84c45748-0160-4009-bf2d-0c741ba0d287"
      },
      "source": [
        "print(\"Test set Score: {:.3f}\".format(grid_search.score(X_test, y_test)))"
      ],
      "execution_count": null,
      "outputs": [
        {
          "output_type": "stream",
          "name": "stdout",
          "text": [
            "Test set Score: 0.351\n"
          ]
        }
      ]
    },
    {
      "cell_type": "code",
      "metadata": {
        "id": "L1YESJci7cRP"
      },
      "source": [
        "result_grid= pd.DataFrame(grid_search.cv_results_)"
      ],
      "execution_count": null,
      "outputs": []
    },
    {
      "cell_type": "code",
      "metadata": {
        "colab": {
          "base_uri": "https://localhost:8080/",
          "height": 598
        },
        "id": "MJfu8h4K7cRP",
        "outputId": "5165aeb6-a9e8-444b-9d1b-dc0e3f817d6e"
      },
      "source": [
        "result_grid"
      ],
      "execution_count": null,
      "outputs": [
        {
          "output_type": "execute_result",
          "data": {
            "text/html": [
              "<div>\n",
              "<style scoped>\n",
              "    .dataframe tbody tr th:only-of-type {\n",
              "        vertical-align: middle;\n",
              "    }\n",
              "\n",
              "    .dataframe tbody tr th {\n",
              "        vertical-align: top;\n",
              "    }\n",
              "\n",
              "    .dataframe thead th {\n",
              "        text-align: right;\n",
              "    }\n",
              "</style>\n",
              "<table border=\"1\" class=\"dataframe\">\n",
              "  <thead>\n",
              "    <tr style=\"text-align: right;\">\n",
              "      <th></th>\n",
              "      <th>mean_fit_time</th>\n",
              "      <th>std_fit_time</th>\n",
              "      <th>mean_score_time</th>\n",
              "      <th>std_score_time</th>\n",
              "      <th>param_alpha</th>\n",
              "      <th>params</th>\n",
              "      <th>split0_test_score</th>\n",
              "      <th>split1_test_score</th>\n",
              "      <th>split2_test_score</th>\n",
              "      <th>split3_test_score</th>\n",
              "      <th>split4_test_score</th>\n",
              "      <th>mean_test_score</th>\n",
              "      <th>std_test_score</th>\n",
              "      <th>rank_test_score</th>\n",
              "      <th>split0_train_score</th>\n",
              "      <th>split1_train_score</th>\n",
              "      <th>split2_train_score</th>\n",
              "      <th>split3_train_score</th>\n",
              "      <th>split4_train_score</th>\n",
              "      <th>mean_train_score</th>\n",
              "      <th>std_train_score</th>\n",
              "    </tr>\n",
              "  </thead>\n",
              "  <tbody>\n",
              "    <tr>\n",
              "      <th>0</th>\n",
              "      <td>0.023263</td>\n",
              "      <td>0.005720</td>\n",
              "      <td>0.006365</td>\n",
              "      <td>0.002308</td>\n",
              "      <td>0</td>\n",
              "      <td>{'alpha': 0.0}</td>\n",
              "      <td>0.364330</td>\n",
              "      <td>0.202185</td>\n",
              "      <td>0.349339</td>\n",
              "      <td>0.306427</td>\n",
              "      <td>0.452648</td>\n",
              "      <td>0.334986</td>\n",
              "      <td>0.081686</td>\n",
              "      <td>4</td>\n",
              "      <td>0.356033</td>\n",
              "      <td>0.394013</td>\n",
              "      <td>0.361167</td>\n",
              "      <td>0.368515</td>\n",
              "      <td>0.338667</td>\n",
              "      <td>0.363679</td>\n",
              "      <td>0.018077</td>\n",
              "    </tr>\n",
              "    <tr>\n",
              "      <th>1</th>\n",
              "      <td>0.019536</td>\n",
              "      <td>0.002346</td>\n",
              "      <td>0.010135</td>\n",
              "      <td>0.000155</td>\n",
              "      <td>1e-06</td>\n",
              "      <td>{'alpha': 1e-06}</td>\n",
              "      <td>0.364457</td>\n",
              "      <td>0.202109</td>\n",
              "      <td>0.349436</td>\n",
              "      <td>0.306734</td>\n",
              "      <td>0.452626</td>\n",
              "      <td>0.335072</td>\n",
              "      <td>0.081696</td>\n",
              "      <td>3</td>\n",
              "      <td>0.356030</td>\n",
              "      <td>0.394010</td>\n",
              "      <td>0.361164</td>\n",
              "      <td>0.368512</td>\n",
              "      <td>0.338664</td>\n",
              "      <td>0.363676</td>\n",
              "      <td>0.018077</td>\n",
              "    </tr>\n",
              "    <tr>\n",
              "      <th>2</th>\n",
              "      <td>0.009705</td>\n",
              "      <td>0.004103</td>\n",
              "      <td>0.006571</td>\n",
              "      <td>0.002382</td>\n",
              "      <td>1e-05</td>\n",
              "      <td>{'alpha': 1e-05}</td>\n",
              "      <td>0.365364</td>\n",
              "      <td>0.201697</td>\n",
              "      <td>0.350087</td>\n",
              "      <td>0.306793</td>\n",
              "      <td>0.452368</td>\n",
              "      <td>0.335262</td>\n",
              "      <td>0.081841</td>\n",
              "      <td>2</td>\n",
              "      <td>0.355755</td>\n",
              "      <td>0.393928</td>\n",
              "      <td>0.360905</td>\n",
              "      <td>0.368509</td>\n",
              "      <td>0.338519</td>\n",
              "      <td>0.363523</td>\n",
              "      <td>0.018120</td>\n",
              "    </tr>\n",
              "    <tr>\n",
              "      <th>3</th>\n",
              "      <td>0.007637</td>\n",
              "      <td>0.003348</td>\n",
              "      <td>0.005570</td>\n",
              "      <td>0.001213</td>\n",
              "      <td>0.0001</td>\n",
              "      <td>{'alpha': 0.0001}</td>\n",
              "      <td>0.365507</td>\n",
              "      <td>0.202216</td>\n",
              "      <td>0.350254</td>\n",
              "      <td>0.306059</td>\n",
              "      <td>0.452874</td>\n",
              "      <td>0.335382</td>\n",
              "      <td>0.081885</td>\n",
              "      <td>1</td>\n",
              "      <td>0.355486</td>\n",
              "      <td>0.393914</td>\n",
              "      <td>0.360738</td>\n",
              "      <td>0.368495</td>\n",
              "      <td>0.338506</td>\n",
              "      <td>0.363428</td>\n",
              "      <td>0.018147</td>\n",
              "    </tr>\n",
              "    <tr>\n",
              "      <th>4</th>\n",
              "      <td>0.008533</td>\n",
              "      <td>0.003912</td>\n",
              "      <td>0.006685</td>\n",
              "      <td>0.002593</td>\n",
              "      <td>0.001</td>\n",
              "      <td>{'alpha': 0.001}</td>\n",
              "      <td>0.362459</td>\n",
              "      <td>0.206064</td>\n",
              "      <td>0.349046</td>\n",
              "      <td>0.297689</td>\n",
              "      <td>0.456747</td>\n",
              "      <td>0.334401</td>\n",
              "      <td>0.082205</td>\n",
              "      <td>5</td>\n",
              "      <td>0.353930</td>\n",
              "      <td>0.392519</td>\n",
              "      <td>0.359211</td>\n",
              "      <td>0.367151</td>\n",
              "      <td>0.337159</td>\n",
              "      <td>0.361994</td>\n",
              "      <td>0.018154</td>\n",
              "    </tr>\n",
              "    <tr>\n",
              "      <th>5</th>\n",
              "      <td>0.011764</td>\n",
              "      <td>0.010838</td>\n",
              "      <td>0.005197</td>\n",
              "      <td>0.000570</td>\n",
              "      <td>0.01</td>\n",
              "      <td>{'alpha': 0.01}</td>\n",
              "      <td>0.329622</td>\n",
              "      <td>0.226937</td>\n",
              "      <td>0.338052</td>\n",
              "      <td>0.293248</td>\n",
              "      <td>0.447682</td>\n",
              "      <td>0.327108</td>\n",
              "      <td>0.071896</td>\n",
              "      <td>6</td>\n",
              "      <td>0.336096</td>\n",
              "      <td>0.372458</td>\n",
              "      <td>0.341919</td>\n",
              "      <td>0.351517</td>\n",
              "      <td>0.315806</td>\n",
              "      <td>0.343559</td>\n",
              "      <td>0.018586</td>\n",
              "    </tr>\n",
              "    <tr>\n",
              "      <th>6</th>\n",
              "      <td>0.008071</td>\n",
              "      <td>0.002829</td>\n",
              "      <td>0.005243</td>\n",
              "      <td>0.001066</td>\n",
              "      <td>0.1</td>\n",
              "      <td>{'alpha': 0.1}</td>\n",
              "      <td>0.205378</td>\n",
              "      <td>0.205979</td>\n",
              "      <td>0.271721</td>\n",
              "      <td>0.191303</td>\n",
              "      <td>0.325728</td>\n",
              "      <td>0.240022</td>\n",
              "      <td>0.051153</td>\n",
              "      <td>7</td>\n",
              "      <td>0.251971</td>\n",
              "      <td>0.263536</td>\n",
              "      <td>0.244128</td>\n",
              "      <td>0.259255</td>\n",
              "      <td>0.223622</td>\n",
              "      <td>0.248502</td>\n",
              "      <td>0.014084</td>\n",
              "    </tr>\n",
              "    <tr>\n",
              "      <th>7</th>\n",
              "      <td>0.009159</td>\n",
              "      <td>0.006305</td>\n",
              "      <td>0.005136</td>\n",
              "      <td>0.001050</td>\n",
              "      <td>0.5</td>\n",
              "      <td>{'alpha': 0.5}</td>\n",
              "      <td>0.039654</td>\n",
              "      <td>0.054970</td>\n",
              "      <td>0.043757</td>\n",
              "      <td>0.001547</td>\n",
              "      <td>0.044006</td>\n",
              "      <td>0.036787</td>\n",
              "      <td>0.018338</td>\n",
              "      <td>8</td>\n",
              "      <td>0.039522</td>\n",
              "      <td>0.037958</td>\n",
              "      <td>0.036981</td>\n",
              "      <td>0.055022</td>\n",
              "      <td>0.041041</td>\n",
              "      <td>0.042105</td>\n",
              "      <td>0.006605</td>\n",
              "    </tr>\n",
              "    <tr>\n",
              "      <th>8</th>\n",
              "      <td>0.009556</td>\n",
              "      <td>0.004758</td>\n",
              "      <td>0.005600</td>\n",
              "      <td>0.001805</td>\n",
              "      <td>1</td>\n",
              "      <td>{'alpha': 1.0}</td>\n",
              "      <td>0.037447</td>\n",
              "      <td>0.050191</td>\n",
              "      <td>0.040805</td>\n",
              "      <td>0.004923</td>\n",
              "      <td>0.041501</td>\n",
              "      <td>0.034973</td>\n",
              "      <td>0.015603</td>\n",
              "      <td>9</td>\n",
              "      <td>0.038017</td>\n",
              "      <td>0.035392</td>\n",
              "      <td>0.035955</td>\n",
              "      <td>0.049093</td>\n",
              "      <td>0.038706</td>\n",
              "      <td>0.039433</td>\n",
              "      <td>0.004986</td>\n",
              "    </tr>\n",
              "    <tr>\n",
              "      <th>9</th>\n",
              "      <td>0.010980</td>\n",
              "      <td>0.003289</td>\n",
              "      <td>0.006183</td>\n",
              "      <td>0.001998</td>\n",
              "      <td>2</td>\n",
              "      <td>{'alpha': 2.0}</td>\n",
              "      <td>0.031793</td>\n",
              "      <td>0.042067</td>\n",
              "      <td>0.033149</td>\n",
              "      <td>0.011150</td>\n",
              "      <td>0.037160</td>\n",
              "      <td>0.031064</td>\n",
              "      <td>0.010580</td>\n",
              "      <td>10</td>\n",
              "      <td>0.033585</td>\n",
              "      <td>0.031436</td>\n",
              "      <td>0.031851</td>\n",
              "      <td>0.044763</td>\n",
              "      <td>0.034610</td>\n",
              "      <td>0.035249</td>\n",
              "      <td>0.004894</td>\n",
              "    </tr>\n",
              "    <tr>\n",
              "      <th>10</th>\n",
              "      <td>0.007099</td>\n",
              "      <td>0.002306</td>\n",
              "      <td>0.005259</td>\n",
              "      <td>0.001273</td>\n",
              "      <td>3</td>\n",
              "      <td>{'alpha': 3.0}</td>\n",
              "      <td>0.023374</td>\n",
              "      <td>0.031603</td>\n",
              "      <td>0.023156</td>\n",
              "      <td>0.013685</td>\n",
              "      <td>0.029825</td>\n",
              "      <td>0.024329</td>\n",
              "      <td>0.006304</td>\n",
              "      <td>11</td>\n",
              "      <td>0.026197</td>\n",
              "      <td>0.024844</td>\n",
              "      <td>0.025010</td>\n",
              "      <td>0.037545</td>\n",
              "      <td>0.027783</td>\n",
              "      <td>0.028276</td>\n",
              "      <td>0.004752</td>\n",
              "    </tr>\n",
              "  </tbody>\n",
              "</table>\n",
              "</div>"
            ],
            "text/plain": [
              "    mean_fit_time  std_fit_time  ...  mean_train_score  std_train_score\n",
              "0        0.023263      0.005720  ...          0.363679         0.018077\n",
              "1        0.019536      0.002346  ...          0.363676         0.018077\n",
              "2        0.009705      0.004103  ...          0.363523         0.018120\n",
              "3        0.007637      0.003348  ...          0.363428         0.018147\n",
              "4        0.008533      0.003912  ...          0.361994         0.018154\n",
              "5        0.011764      0.010838  ...          0.343559         0.018586\n",
              "6        0.008071      0.002829  ...          0.248502         0.014084\n",
              "7        0.009159      0.006305  ...          0.042105         0.006605\n",
              "8        0.009556      0.004758  ...          0.039433         0.004986\n",
              "9        0.010980      0.003289  ...          0.035249         0.004894\n",
              "10       0.007099      0.002306  ...          0.028276         0.004752\n",
              "\n",
              "[11 rows x 21 columns]"
            ]
          },
          "metadata": {},
          "execution_count": 18
        }
      ]
    },
    {
      "cell_type": "code",
      "metadata": {
        "colab": {
          "base_uri": "https://localhost:8080/",
          "height": 283
        },
        "id": "EOokMOaj7cRP",
        "outputId": "6d9c7073-304d-4b3b-ca0f-09efdb2a280a"
      },
      "source": [
        "import matplotlib.pyplot as plt\n",
        "plt.plot(result_grid['param_alpha'],  result_grid['mean_train_score'], label=\"Train\")\n",
        "plt.plot(result_grid['param_alpha'],  result_grid['mean_test_score'], label=\"Test\")\n",
        "plt.legend()"
      ],
      "execution_count": null,
      "outputs": [
        {
          "output_type": "execute_result",
          "data": {
            "text/plain": [
              "<matplotlib.legend.Legend at 0x7f1fcb972690>"
            ]
          },
          "metadata": {},
          "execution_count": 19
        },
        {
          "output_type": "display_data",
          "data": {
            "image/png": "[encoded data removed]",
            "text/plain": [
              "<Figure size 432x288 with 1 Axes>"
            ]
          },
          "metadata": {
            "needs_background": "light"
          }
        }
      ]
    },
    {
      "cell_type": "markdown",
      "metadata": {
        "id": "ZDKbLmL47cRQ"
      },
      "source": [
        "# 3. Random Search"
      ]
    },
    {
      "cell_type": "code",
      "metadata": {
        "id": "ZbqpsO577cRQ"
      },
      "source": [
        "from sklearn.model_selection import RandomizedSearchCV"
      ],
      "execution_count": null,
      "outputs": []
    },
    {
      "cell_type": "code",
      "metadata": {
        "id": "j8O-AK5C7cRQ"
      },
      "source": [
        "from scipy.stats import randint"
      ],
      "execution_count": null,
      "outputs": []
    },
    {
      "cell_type": "code",
      "metadata": {
        "id": "IYLWMHOl7cRR"
      },
      "source": [
        "param_distribs = {'alpha': randint(low=0.00001, high=10)}"
      ],
      "execution_count": null,
      "outputs": []
    },
    {
      "cell_type": "code",
      "metadata": {
        "id": "_x6lO8Hr7cRR"
      },
      "source": [
        "random_search=RandomizedSearchCV(Lasso(), param_distributions=param_distribs, \n",
        "                                 cv=5,  n_iter=1000, return_train_score=True)"
      ],
      "execution_count": null,
      "outputs": []
    },
    {
      "cell_type": "code",
      "metadata": {
        "colab": {
          "base_uri": "https://localhost:8080/"
        },
        "id": "vPQ092Z97cRR",
        "outputId": "f6207d8d-af5a-4c84-b550-27bc05fb6f1e"
      },
      "source": [
        "random_search.fit(X_train, y_train)"
      ],
      "execution_count": null,
      "outputs": [
        {
          "output_type": "execute_result",
          "data": {
            "text/plain": [
              "RandomizedSearchCV(cv=5, estimator=Lasso(), n_iter=1000,\n",
              "                   param_distributions={'alpha': <scipy.stats._distn_infrastructure.rv_frozen object at 0x7f1fcb8f5c90>},\n",
              "                   return_train_score=True)"
            ]
          },
          "metadata": {},
          "execution_count": 32
        }
      ]
    },
    {
      "cell_type": "code",
      "metadata": {
        "colab": {
          "base_uri": "https://localhost:8080/"
        },
        "id": "5n_YSObm7cRR",
        "outputId": "9a591116-99b3-4130-a4a8-9dd92a51ba3e"
      },
      "source": [
        "print(\"Best Parameter: {}\".format(random_search.best_params_))"
      ],
      "execution_count": null,
      "outputs": [
        {
          "output_type": "stream",
          "name": "stdout",
          "text": [
            "Best Parameter: {'alpha': 0}\n"
          ]
        }
      ]
    },
    {
      "cell_type": "code",
      "metadata": {
        "colab": {
          "base_uri": "https://localhost:8080/"
        },
        "id": "jPo33G5O7cRR",
        "outputId": "79bb54fe-91a3-4fe0-c163-cee92ca95590"
      },
      "source": [
        "print(\"Best Cross-validity Score: {:.3f}\".format(random_search.best_score_))"
      ],
      "execution_count": null,
      "outputs": [
        {
          "output_type": "stream",
          "name": "stdout",
          "text": [
            "Best Cross-validity Score: 0.335\n"
          ]
        }
      ]
    },
    {
      "cell_type": "code",
      "metadata": {
        "colab": {
          "base_uri": "https://localhost:8080/"
        },
        "id": "A8xREi0F7cRS",
        "outputId": "554af145-7044-4707-c3e9-9cb15455dcfe"
      },
      "source": [
        "print(\"Test set Score: {:.3f}\".format(random_search.score(X_test, y_test)))"
      ],
      "execution_count": null,
      "outputs": [
        {
          "output_type": "stream",
          "name": "stdout",
          "text": [
            "Test set Score: 0.351\n"
          ]
        }
      ]
    },
    {
      "cell_type": "code",
      "metadata": {
        "id": "OwSi-VnV7cRS"
      },
      "source": [
        "result_random= pd.DataFrame(random_search.cv_results_ )"
      ],
      "execution_count": null,
      "outputs": []
    },
    {
      "cell_type": "code",
      "metadata": {
        "colab": {
          "base_uri": "https://localhost:8080/",
          "height": 610
        },
        "id": "DHSWX1Sq7cRS",
        "outputId": "bc46051e-0e23-48db-97e9-d2d9574f0f7f"
      },
      "source": [
        "result_random"
      ],
      "execution_count": null,
      "outputs": [
        {
          "output_type": "execute_result",
          "data": {
            "text/html": [
              "<div>\n",
              "<style scoped>\n",
              "    .dataframe tbody tr th:only-of-type {\n",
              "        vertical-align: middle;\n",
              "    }\n",
              "\n",
              "    .dataframe tbody tr th {\n",
              "        vertical-align: top;\n",
              "    }\n",
              "\n",
              "    .dataframe thead th {\n",
              "        text-align: right;\n",
              "    }\n",
              "</style>\n",
              "<table border=\"1\" class=\"dataframe\">\n",
              "  <thead>\n",
              "    <tr style=\"text-align: right;\">\n",
              "      <th></th>\n",
              "      <th>mean_fit_time</th>\n",
              "      <th>std_fit_time</th>\n",
              "      <th>mean_score_time</th>\n",
              "      <th>std_score_time</th>\n",
              "      <th>param_alpha</th>\n",
              "      <th>params</th>\n",
              "      <th>split0_test_score</th>\n",
              "      <th>split1_test_score</th>\n",
              "      <th>split2_test_score</th>\n",
              "      <th>split3_test_score</th>\n",
              "      <th>split4_test_score</th>\n",
              "      <th>mean_test_score</th>\n",
              "      <th>std_test_score</th>\n",
              "      <th>rank_test_score</th>\n",
              "      <th>split0_train_score</th>\n",
              "      <th>split1_train_score</th>\n",
              "      <th>split2_train_score</th>\n",
              "      <th>split3_train_score</th>\n",
              "      <th>split4_train_score</th>\n",
              "      <th>mean_train_score</th>\n",
              "      <th>std_train_score</th>\n",
              "    </tr>\n",
              "  </thead>\n",
              "  <tbody>\n",
              "    <tr>\n",
              "      <th>0</th>\n",
              "      <td>0.010232</td>\n",
              "      <td>0.004476</td>\n",
              "      <td>0.005611</td>\n",
              "      <td>0.002210</td>\n",
              "      <td>2</td>\n",
              "      <td>{'alpha': 2}</td>\n",
              "      <td>0.031793</td>\n",
              "      <td>0.042067</td>\n",
              "      <td>0.033149</td>\n",
              "      <td>0.011150</td>\n",
              "      <td>0.037160</td>\n",
              "      <td>0.031064</td>\n",
              "      <td>0.010580</td>\n",
              "      <td>200</td>\n",
              "      <td>0.033585</td>\n",
              "      <td>0.031436</td>\n",
              "      <td>0.031851</td>\n",
              "      <td>0.044763</td>\n",
              "      <td>0.034610</td>\n",
              "      <td>0.035249</td>\n",
              "      <td>0.004894</td>\n",
              "    </tr>\n",
              "    <tr>\n",
              "      <th>1</th>\n",
              "      <td>0.007228</td>\n",
              "      <td>0.001564</td>\n",
              "      <td>0.004747</td>\n",
              "      <td>0.000128</td>\n",
              "      <td>5</td>\n",
              "      <td>{'alpha': 5}</td>\n",
              "      <td>-0.001760</td>\n",
              "      <td>0.003656</td>\n",
              "      <td>-0.003839</td>\n",
              "      <td>0.007682</td>\n",
              "      <td>0.006175</td>\n",
              "      <td>0.002383</td>\n",
              "      <td>0.004471</td>\n",
              "      <td>484</td>\n",
              "      <td>0.002557</td>\n",
              "      <td>0.003750</td>\n",
              "      <td>0.003122</td>\n",
              "      <td>0.014448</td>\n",
              "      <td>0.005937</td>\n",
              "      <td>0.005963</td>\n",
              "      <td>0.004395</td>\n",
              "    </tr>\n",
              "    <tr>\n",
              "      <th>2</th>\n",
              "      <td>0.029789</td>\n",
              "      <td>0.008229</td>\n",
              "      <td>0.008182</td>\n",
              "      <td>0.002283</td>\n",
              "      <td>0</td>\n",
              "      <td>{'alpha': 0}</td>\n",
              "      <td>0.364330</td>\n",
              "      <td>0.202185</td>\n",
              "      <td>0.349339</td>\n",
              "      <td>0.306427</td>\n",
              "      <td>0.452648</td>\n",
              "      <td>0.334986</td>\n",
              "      <td>0.081686</td>\n",
              "      <td>1</td>\n",
              "      <td>0.356033</td>\n",
              "      <td>0.394013</td>\n",
              "      <td>0.361167</td>\n",
              "      <td>0.368515</td>\n",
              "      <td>0.338667</td>\n",
              "      <td>0.363679</td>\n",
              "      <td>0.018077</td>\n",
              "    </tr>\n",
              "    <tr>\n",
              "      <th>3</th>\n",
              "      <td>0.014450</td>\n",
              "      <td>0.002198</td>\n",
              "      <td>0.009519</td>\n",
              "      <td>0.000338</td>\n",
              "      <td>8</td>\n",
              "      <td>{'alpha': 8}</td>\n",
              "      <td>-0.004409</td>\n",
              "      <td>-0.000948</td>\n",
              "      <td>-0.007433</td>\n",
              "      <td>-0.000005</td>\n",
              "      <td>-0.000272</td>\n",
              "      <td>-0.002613</td>\n",
              "      <td>0.002881</td>\n",
              "      <td>594</td>\n",
              "      <td>0.000000</td>\n",
              "      <td>0.000000</td>\n",
              "      <td>0.000000</td>\n",
              "      <td>0.000000</td>\n",
              "      <td>0.000000</td>\n",
              "      <td>0.000000</td>\n",
              "      <td>0.000000</td>\n",
              "    </tr>\n",
              "    <tr>\n",
              "      <th>4</th>\n",
              "      <td>0.016569</td>\n",
              "      <td>0.005656</td>\n",
              "      <td>0.007339</td>\n",
              "      <td>0.002792</td>\n",
              "      <td>4</td>\n",
              "      <td>{'alpha': 4}</td>\n",
              "      <td>0.012189</td>\n",
              "      <td>0.018799</td>\n",
              "      <td>0.010826</td>\n",
              "      <td>0.012529</td>\n",
              "      <td>0.019497</td>\n",
              "      <td>0.014768</td>\n",
              "      <td>0.003628</td>\n",
              "      <td>396</td>\n",
              "      <td>0.015854</td>\n",
              "      <td>0.015615</td>\n",
              "      <td>0.015434</td>\n",
              "      <td>0.027440</td>\n",
              "      <td>0.018226</td>\n",
              "      <td>0.018514</td>\n",
              "      <td>0.004576</td>\n",
              "    </tr>\n",
              "    <tr>\n",
              "      <th>...</th>\n",
              "      <td>...</td>\n",
              "      <td>...</td>\n",
              "      <td>...</td>\n",
              "      <td>...</td>\n",
              "      <td>...</td>\n",
              "      <td>...</td>\n",
              "      <td>...</td>\n",
              "      <td>...</td>\n",
              "      <td>...</td>\n",
              "      <td>...</td>\n",
              "      <td>...</td>\n",
              "      <td>...</td>\n",
              "      <td>...</td>\n",
              "      <td>...</td>\n",
              "      <td>...</td>\n",
              "      <td>...</td>\n",
              "      <td>...</td>\n",
              "      <td>...</td>\n",
              "      <td>...</td>\n",
              "      <td>...</td>\n",
              "      <td>...</td>\n",
              "    </tr>\n",
              "    <tr>\n",
              "      <th>995</th>\n",
              "      <td>0.010938</td>\n",
              "      <td>0.004500</td>\n",
              "      <td>0.007361</td>\n",
              "      <td>0.002292</td>\n",
              "      <td>7</td>\n",
              "      <td>{'alpha': 7}</td>\n",
              "      <td>-0.004409</td>\n",
              "      <td>-0.000948</td>\n",
              "      <td>-0.007433</td>\n",
              "      <td>-0.000005</td>\n",
              "      <td>-0.000272</td>\n",
              "      <td>-0.002613</td>\n",
              "      <td>0.002881</td>\n",
              "      <td>594</td>\n",
              "      <td>0.000000</td>\n",
              "      <td>0.000000</td>\n",
              "      <td>0.000000</td>\n",
              "      <td>0.000000</td>\n",
              "      <td>0.000000</td>\n",
              "      <td>0.000000</td>\n",
              "      <td>0.000000</td>\n",
              "    </tr>\n",
              "    <tr>\n",
              "      <th>996</th>\n",
              "      <td>0.014104</td>\n",
              "      <td>0.000813</td>\n",
              "      <td>0.007760</td>\n",
              "      <td>0.002703</td>\n",
              "      <td>5</td>\n",
              "      <td>{'alpha': 5}</td>\n",
              "      <td>-0.001760</td>\n",
              "      <td>0.003656</td>\n",
              "      <td>-0.003839</td>\n",
              "      <td>0.007682</td>\n",
              "      <td>0.006175</td>\n",
              "      <td>0.002383</td>\n",
              "      <td>0.004471</td>\n",
              "      <td>484</td>\n",
              "      <td>0.002557</td>\n",
              "      <td>0.003750</td>\n",
              "      <td>0.003122</td>\n",
              "      <td>0.014448</td>\n",
              "      <td>0.005937</td>\n",
              "      <td>0.005963</td>\n",
              "      <td>0.004395</td>\n",
              "    </tr>\n",
              "    <tr>\n",
              "      <th>997</th>\n",
              "      <td>0.006881</td>\n",
              "      <td>0.002494</td>\n",
              "      <td>0.005381</td>\n",
              "      <td>0.001775</td>\n",
              "      <td>5</td>\n",
              "      <td>{'alpha': 5}</td>\n",
              "      <td>-0.001760</td>\n",
              "      <td>0.003656</td>\n",
              "      <td>-0.003839</td>\n",
              "      <td>0.007682</td>\n",
              "      <td>0.006175</td>\n",
              "      <td>0.002383</td>\n",
              "      <td>0.004471</td>\n",
              "      <td>484</td>\n",
              "      <td>0.002557</td>\n",
              "      <td>0.003750</td>\n",
              "      <td>0.003122</td>\n",
              "      <td>0.014448</td>\n",
              "      <td>0.005937</td>\n",
              "      <td>0.005963</td>\n",
              "      <td>0.004395</td>\n",
              "    </tr>\n",
              "    <tr>\n",
              "      <th>998</th>\n",
              "      <td>0.008100</td>\n",
              "      <td>0.003526</td>\n",
              "      <td>0.005716</td>\n",
              "      <td>0.001758</td>\n",
              "      <td>1</td>\n",
              "      <td>{'alpha': 1}</td>\n",
              "      <td>0.037447</td>\n",
              "      <td>0.050191</td>\n",
              "      <td>0.040805</td>\n",
              "      <td>0.004923</td>\n",
              "      <td>0.041501</td>\n",
              "      <td>0.034973</td>\n",
              "      <td>0.015603</td>\n",
              "      <td>95</td>\n",
              "      <td>0.038017</td>\n",
              "      <td>0.035392</td>\n",
              "      <td>0.035955</td>\n",
              "      <td>0.049093</td>\n",
              "      <td>0.038706</td>\n",
              "      <td>0.039433</td>\n",
              "      <td>0.004986</td>\n",
              "    </tr>\n",
              "    <tr>\n",
              "      <th>999</th>\n",
              "      <td>0.005985</td>\n",
              "      <td>0.000250</td>\n",
              "      <td>0.004640</td>\n",
              "      <td>0.000110</td>\n",
              "      <td>5</td>\n",
              "      <td>{'alpha': 5}</td>\n",
              "      <td>-0.001760</td>\n",
              "      <td>0.003656</td>\n",
              "      <td>-0.003839</td>\n",
              "      <td>0.007682</td>\n",
              "      <td>0.006175</td>\n",
              "      <td>0.002383</td>\n",
              "      <td>0.004471</td>\n",
              "      <td>484</td>\n",
              "      <td>0.002557</td>\n",
              "      <td>0.003750</td>\n",
              "      <td>0.003122</td>\n",
              "      <td>0.014448</td>\n",
              "      <td>0.005937</td>\n",
              "      <td>0.005963</td>\n",
              "      <td>0.004395</td>\n",
              "    </tr>\n",
              "  </tbody>\n",
              "</table>\n",
              "<p>1000 rows × 21 columns</p>\n",
              "</div>"
            ],
            "text/plain": [
              "     mean_fit_time  std_fit_time  ...  mean_train_score  std_train_score\n",
              "0         0.010232      0.004476  ...          0.035249         0.004894\n",
              "1         0.007228      0.001564  ...          0.005963         0.004395\n",
              "2         0.029789      0.008229  ...          0.363679         0.018077\n",
              "3         0.014450      0.002198  ...          0.000000         0.000000\n",
              "4         0.016569      0.005656  ...          0.018514         0.004576\n",
              "..             ...           ...  ...               ...              ...\n",
              "995       0.010938      0.004500  ...          0.000000         0.000000\n",
              "996       0.014104      0.000813  ...          0.005963         0.004395\n",
              "997       0.006881      0.002494  ...          0.005963         0.004395\n",
              "998       0.008100      0.003526  ...          0.039433         0.004986\n",
              "999       0.005985      0.000250  ...          0.005963         0.004395\n",
              "\n",
              "[1000 rows x 21 columns]"
            ]
          },
          "metadata": {},
          "execution_count": 37
        }
      ]
    },
    {
      "cell_type": "code",
      "metadata": {
        "colab": {
          "base_uri": "https://localhost:8080/",
          "height": 283
        },
        "id": "Vyq8H7mb7cRS",
        "outputId": "87f90b8a-25c3-46d9-d5bc-4d49352569ff"
      },
      "source": [
        "import matplotlib.pyplot as plt\n",
        "plt.plot(result_random['param_alpha'], result_random['mean_train_score'], label=\"Train\")\n",
        "plt.plot(result_random['param_alpha'], result_random['mean_test_score'], label=\"Test\")\n",
        "plt.legend()"
      ],
      "execution_count": null,
      "outputs": [
        {
          "output_type": "execute_result",
          "data": {
            "text/plain": [
              "<matplotlib.legend.Legend at 0x7f1fcb31dc50>"
            ]
          },
          "metadata": {},
          "execution_count": 38
        },
        {
          "output_type": "display_data",
          "data": {
            "image/png": "[encoded data removed]",
            "text/plain": [
              "<Figure size 432x288 with 1 Axes>"
            ]
          },
          "metadata": {
            "needs_background": "light"
          }
        }
      ]
    }
  ]
}