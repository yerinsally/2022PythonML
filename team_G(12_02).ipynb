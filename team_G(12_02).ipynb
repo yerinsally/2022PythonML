{
  "nbformat": 4,
  "nbformat_minor": 0,
  "metadata": {
    "kernelspec": {
      "display_name": "Python 3",
      "language": "python",
      "name": "python3"
    },
    "language_info": {
      "codemirror_mode": {
        "name": "ipython",
        "version": 3
      },
      "file_extension": ".py",
      "mimetype": "text/x-python",
      "name": "python",
      "nbconvert_exporter": "python",
      "pygments_lexer": "ipython3",
      "version": "3.7.1"
    },
    "colab": {
      "provenance": [],
      "include_colab_link": true
    }
  },
  "cells": [
    {
      "cell_type": "markdown",
      "metadata": {
        "id": "view-in-github",
        "colab_type": "text"
      },
      "source": [
        "<a href=\"https://colab.research.google.com/github/yerinsally/2022_PythonML/blob/main/team_G(12_02).ipynb\" target=\"_parent\"><img src=\"https://colab.research.google.com/assets/colab-badge.svg\" alt=\"Open In Colab\"/></a>"
      ]
    },
    {
      "cell_type": "markdown",
      "metadata": {
        "id": "-k8_F-mxRSXn"
      },
      "source": [
        "## 1. 데이터 불러오기 & 데이터셋 나누기"
      ]
    },
    {
      "cell_type": "code",
      "metadata": {
        "id": "LIP3Vw_tSvCh",
        "colab": {
          "base_uri": "https://localhost:8080/"
        },
        "outputId": "6dbb5a31-3c53-446a-f9ee-8b0ae35a10ac"
      },
      "source": [
        "from google.colab import drive\n",
        "drive.mount('/content/drive')"
      ],
      "execution_count": null,
      "outputs": [
        {
          "output_type": "stream",
          "name": "stdout",
          "text": [
            "Mounted at /content/drive\n"
          ]
        }
      ]
    },
    {
      "cell_type": "code",
      "metadata": {
        "id": "5DR5Hip9RSXq"
      },
      "source": [
        "import warnings\n",
        "warnings.filterwarnings(\"ignore\")\n",
        "import pandas as pd"
      ],
      "execution_count": null,
      "outputs": []
    },
    {
      "cell_type": "code",
      "metadata": {
        "id": "JPt7Vet-RSYA"
      },
      "source": [
        "data = pd.read_csv('/content/drive/MyDrive/Colab Notebooks/MachineLearning/data/breast-cancer-wisconsin.csv', encoding='utf-8')"
      ],
      "execution_count": null,
      "outputs": []
    },
    {
      "cell_type": "code",
      "source": [
        "data.info()"
      ],
      "metadata": {
        "colab": {
          "base_uri": "https://localhost:8080/"
        },
        "id": "9Y6KdTeGdvxl",
        "outputId": "328cda84-999b-42be-cb47-a87e4ca0250a"
      },
      "execution_count": null,
      "outputs": [
        {
          "output_type": "stream",
          "name": "stdout",
          "text": [
            "<class 'pandas.core.frame.DataFrame'>\n",
            "RangeIndex: 683 entries, 0 to 682\n",
            "Data columns (total 11 columns):\n",
            " #   Column                       Non-Null Count  Dtype\n",
            "---  ------                       --------------  -----\n",
            " 0   code                         683 non-null    int64\n",
            " 1   Clump_Thickness              683 non-null    int64\n",
            " 2   Cell_Size                    683 non-null    int64\n",
            " 3   Cell_Shape                   683 non-null    int64\n",
            " 4   Marginal_Adhesion            683 non-null    int64\n",
            " 5   Single_Epithelial_Cell_Size  683 non-null    int64\n",
            " 6   Bare_Nuclei                  683 non-null    int64\n",
            " 7   Bland_Chromatin              683 non-null    int64\n",
            " 8   Normal_Nucleoli              683 non-null    int64\n",
            " 9   Mitoses                      683 non-null    int64\n",
            " 10  Class                        683 non-null    int64\n",
            "dtypes: int64(11)\n",
            "memory usage: 58.8 KB\n"
          ]
        }
      ]
    },
    {
      "cell_type": "code",
      "source": [
        "data.isnull().sum()"
      ],
      "metadata": {
        "colab": {
          "base_uri": "https://localhost:8080/"
        },
        "id": "ryDh9Pk5lNnq",
        "outputId": "b163010d-c8a3-40fc-cd93-228a1749d8bd"
      },
      "execution_count": null,
      "outputs": [
        {
          "output_type": "execute_result",
          "data": {
            "text/plain": [
              "code                           0\n",
              "Clump_Thickness                0\n",
              "Cell_Size                      0\n",
              "Cell_Shape                     0\n",
              "Marginal_Adhesion              0\n",
              "Single_Epithelial_Cell_Size    0\n",
              "Bare_Nuclei                    0\n",
              "Bland_Chromatin                0\n",
              "Normal_Nucleoli                0\n",
              "Mitoses                        0\n",
              "Class                          0\n",
              "dtype: int64"
            ]
          },
          "metadata": {},
          "execution_count": 6
        }
      ]
    },
    {
      "cell_type": "code",
      "source": [
        "data['Class'].unique()"
      ],
      "metadata": {
        "colab": {
          "base_uri": "https://localhost:8080/"
        },
        "id": "tfTCLSmmeCeQ",
        "outputId": "b388c061-2197-45e1-c762-799ff99e476d"
      },
      "execution_count": null,
      "outputs": [
        {
          "output_type": "execute_result",
          "data": {
            "text/plain": [
              "array([0, 1])"
            ]
          },
          "metadata": {},
          "execution_count": 7
        }
      ]
    },
    {
      "cell_type": "code",
      "source": [
        "data.hist(figsize=(15,10));"
      ],
      "metadata": {
        "colab": {
          "base_uri": "https://localhost:8080/",
          "height": 607
        },
        "id": "jEa5j9d4lkTc",
        "outputId": "8e8048c5-8af0-4d3d-9f45-28758ec2c808"
      },
      "execution_count": null,
      "outputs": [
        {
          "output_type": "display_data",
          "data": {
            "text/plain": [
              "<Figure size 1080x720 with 12 Axes>"
            ],
            "image/png": "[encoded data removed]"
          },
          "metadata": {
            "needs_background": "light"
          }
        }
      ]
    },
    {
      "cell_type": "code",
      "metadata": {
        "id": "DBDhsToFRSYG"
      },
      "source": [
        "X = data.iloc[:,1:10]\n",
        "y = data['Class']"
      ],
      "execution_count": null,
      "outputs": []
    },
    {
      "cell_type": "markdown",
      "source": [
        "### Standardization 스케일링 적용"
      ],
      "metadata": {
        "id": "fIXeJn2du4k_"
      }
    },
    {
      "cell_type": "code",
      "source": [
        "from sklearn.preprocessing import StandardScaler\n",
        "scaler = StandardScaler()\n",
        "scaler.fit(X)\n",
        "X_scaled = scaler.transform(X)"
      ],
      "metadata": {
        "id": "Cjnzh5BqnHB2"
      },
      "execution_count": null,
      "outputs": []
    },
    {
      "cell_type": "code",
      "source": [
        "pd.DataFrame(X_scaled).describe() # 정규분포로 정규화"
      ],
      "metadata": {
        "colab": {
          "base_uri": "https://localhost:8080/",
          "height": 300
        },
        "id": "4kqR3WDfn7OW",
        "outputId": "1885ee44-3fa9-4b56-a44a-39740bd65cfc"
      },
      "execution_count": null,
      "outputs": [
        {
          "output_type": "execute_result",
          "data": {
            "text/plain": [
              "                  0           1             2             3             4  \\\n",
              "count  6.830000e+02  683.000000  6.830000e+02  6.830000e+02  6.830000e+02   \n",
              "mean   1.144359e-16    0.000000 -6.241957e-17  4.681468e-17 -2.080652e-17   \n",
              "std    1.000733e+00    1.000733  1.000733e+00  1.000733e+00  1.000733e+00   \n",
              "min   -1.221191e+00   -0.702212 -7.417736e-01 -6.393655e-01 -1.005763e+00   \n",
              "25%   -8.664174e-01   -0.702212 -7.417736e-01 -6.393655e-01 -5.556085e-01   \n",
              "50%   -1.568693e-01   -0.702212 -7.417736e-01 -6.393655e-01 -5.556085e-01   \n",
              "75%    5.526787e-01    0.603740  5.976352e-01  4.086824e-01  3.447014e-01   \n",
              "max    1.971775e+00    2.236180  2.271896e+00  2.504778e+00  3.045631e+00   \n",
              "\n",
              "                5             6             7             8  \n",
              "count  683.000000  6.830000e+02  6.830000e+02  6.830000e+02  \n",
              "mean     0.000000  3.120978e-17  2.080652e-17  3.120978e-17  \n",
              "std      1.000733  1.000733e+00  1.000733e+00  1.000733e+00  \n",
              "min     -0.698853 -9.988531e-01 -6.129274e-01 -3.483997e-01  \n",
              "25%     -0.698853 -5.903401e-01 -6.129274e-01 -3.483997e-01  \n",
              "50%     -0.698853 -1.818272e-01 -6.129274e-01 -3.483997e-01  \n",
              "75%      0.674325  6.351988e-01  3.705403e-01 -3.483997e-01  \n",
              "max      1.772867  2.677764e+00  2.337476e+00  4.849690e+00  "
            ],
            "text/html": [
              "\n",
              "  <div id=\"df-a1bb22f2-9503-4581-a0e4-83579b5ddd28\">\n",
              "    <div class=\"colab-df-container\">\n",
              "      <div>\n",
              "<style scoped>\n",
              "    .dataframe tbody tr th:only-of-type {\n",
              "        vertical-align: middle;\n",
              "    }\n",
              "\n",
              "    .dataframe tbody tr th {\n",
              "        vertical-align: top;\n",
              "    }\n",
              "\n",
              "    .dataframe thead th {\n",
              "        text-align: right;\n",
              "    }\n",
              "</style>\n",
              "<table border=\"1\" class=\"dataframe\">\n",
              "  <thead>\n",
              "    <tr style=\"text-align: right;\">\n",
              "      <th></th>\n",
              "      <th>0</th>\n",
              "      <th>1</th>\n",
              "      <th>2</th>\n",
              "      <th>3</th>\n",
              "      <th>4</th>\n",
              "      <th>5</th>\n",
              "      <th>6</th>\n",
              "      <th>7</th>\n",
              "      <th>8</th>\n",
              "    </tr>\n",
              "  </thead>\n",
              "  <tbody>\n",
              "    <tr>\n",
              "      <th>count</th>\n",
              "      <td>6.830000e+02</td>\n",
              "      <td>683.000000</td>\n",
              "      <td>6.830000e+02</td>\n",
              "      <td>6.830000e+02</td>\n",
              "      <td>6.830000e+02</td>\n",
              "      <td>683.000000</td>\n",
              "      <td>6.830000e+02</td>\n",
              "      <td>6.830000e+02</td>\n",
              "      <td>6.830000e+02</td>\n",
              "    </tr>\n",
              "    <tr>\n",
              "      <th>mean</th>\n",
              "      <td>1.144359e-16</td>\n",
              "      <td>0.000000</td>\n",
              "      <td>-6.241957e-17</td>\n",
              "      <td>4.681468e-17</td>\n",
              "      <td>-2.080652e-17</td>\n",
              "      <td>0.000000</td>\n",
              "      <td>3.120978e-17</td>\n",
              "      <td>2.080652e-17</td>\n",
              "      <td>3.120978e-17</td>\n",
              "    </tr>\n",
              "    <tr>\n",
              "      <th>std</th>\n",
              "      <td>1.000733e+00</td>\n",
              "      <td>1.000733</td>\n",
              "      <td>1.000733e+00</td>\n",
              "      <td>1.000733e+00</td>\n",
              "      <td>1.000733e+00</td>\n",
              "      <td>1.000733</td>\n",
              "      <td>1.000733e+00</td>\n",
              "      <td>1.000733e+00</td>\n",
              "      <td>1.000733e+00</td>\n",
              "    </tr>\n",
              "    <tr>\n",
              "      <th>min</th>\n",
              "      <td>-1.221191e+00</td>\n",
              "      <td>-0.702212</td>\n",
              "      <td>-7.417736e-01</td>\n",
              "      <td>-6.393655e-01</td>\n",
              "      <td>-1.005763e+00</td>\n",
              "      <td>-0.698853</td>\n",
              "      <td>-9.988531e-01</td>\n",
              "      <td>-6.129274e-01</td>\n",
              "      <td>-3.483997e-01</td>\n",
              "    </tr>\n",
              "    <tr>\n",
              "      <th>25%</th>\n",
              "      <td>-8.664174e-01</td>\n",
              "      <td>-0.702212</td>\n",
              "      <td>-7.417736e-01</td>\n",
              "      <td>-6.393655e-01</td>\n",
              "      <td>-5.556085e-01</td>\n",
              "      <td>-0.698853</td>\n",
              "      <td>-5.903401e-01</td>\n",
              "      <td>-6.129274e-01</td>\n",
              "      <td>-3.483997e-01</td>\n",
              "    </tr>\n",
              "    <tr>\n",
              "      <th>50%</th>\n",
              "      <td>-1.568693e-01</td>\n",
              "      <td>-0.702212</td>\n",
              "      <td>-7.417736e-01</td>\n",
              "      <td>-6.393655e-01</td>\n",
              "      <td>-5.556085e-01</td>\n",
              "      <td>-0.698853</td>\n",
              "      <td>-1.818272e-01</td>\n",
              "      <td>-6.129274e-01</td>\n",
              "      <td>-3.483997e-01</td>\n",
              "    </tr>\n",
              "    <tr>\n",
              "      <th>75%</th>\n",
              "      <td>5.526787e-01</td>\n",
              "      <td>0.603740</td>\n",
              "      <td>5.976352e-01</td>\n",
              "      <td>4.086824e-01</td>\n",
              "      <td>3.447014e-01</td>\n",
              "      <td>0.674325</td>\n",
              "      <td>6.351988e-01</td>\n",
              "      <td>3.705403e-01</td>\n",
              "      <td>-3.483997e-01</td>\n",
              "    </tr>\n",
              "    <tr>\n",
              "      <th>max</th>\n",
              "      <td>1.971775e+00</td>\n",
              "      <td>2.236180</td>\n",
              "      <td>2.271896e+00</td>\n",
              "      <td>2.504778e+00</td>\n",
              "      <td>3.045631e+00</td>\n",
              "      <td>1.772867</td>\n",
              "      <td>2.677764e+00</td>\n",
              "      <td>2.337476e+00</td>\n",
              "      <td>4.849690e+00</td>\n",
              "    </tr>\n",
              "  </tbody>\n",
              "</table>\n",
              "</div>\n",
              "      <button class=\"colab-df-convert\" onclick=\"convertToInteractive('df-a1bb22f2-9503-4581-a0e4-83579b5ddd28')\"\n",
              "              title=\"Convert this dataframe to an interactive table.\"\n",
              "              style=\"display:none;\">\n",
              "        \n",
              "  <svg xmlns=\"http://www.w3.org/2000/svg\" height=\"24px\"viewBox=\"0 0 24 24\"\n",
              "       width=\"24px\">\n",
              "    <path d=\"M0 0h24v24H0V0z\" fill=\"none\"/>\n",
              "    <path d=\"M18.56 5.44l.94 2.06.94-2.06 2.06-.94-2.06-.94-.94-2.06-.94 2.06-2.06.94zm-11 1L8.5 8.5l.94-2.06 2.06-.94-2.06-.94L8.5 2.5l-.94 2.06-2.06.94zm10 10l.94 2.06.94-2.06 2.06-.94-2.06-.94-.94-2.06-.94 2.06-2.06.94z\"/><path d=\"M17.41 7.96l-1.37-1.37c-.4-.4-.92-.59-1.43-.59-.52 0-1.04.2-1.43.59L10.3 9.45l-7.72 7.72c-.78.78-.78 2.05 0 2.83L4 21.41c.39.39.9.59 1.41.59.51 0 1.02-.2 1.41-.59l7.78-7.78 2.81-2.81c.8-.78.8-2.07 0-2.86zM5.41 20L4 18.59l7.72-7.72 1.47 1.35L5.41 20z\"/>\n",
              "  </svg>\n",
              "      </button>\n",
              "      \n",
              "  <style>\n",
              "    .colab-df-container {\n",
              "      display:flex;\n",
              "      flex-wrap:wrap;\n",
              "      gap: 12px;\n",
              "    }\n",
              "\n",
              "    .colab-df-convert {\n",
              "      background-color: #E8F0FE;\n",
              "      border: none;\n",
              "      border-radius: 50%;\n",
              "      cursor: pointer;\n",
              "      display: none;\n",
              "      fill: #1967D2;\n",
              "      height: 32px;\n",
              "      padding: 0 0 0 0;\n",
              "      width: 32px;\n",
              "    }\n",
              "\n",
              "    .colab-df-convert:hover {\n",
              "      background-color: #E2EBFA;\n",
              "      box-shadow: 0px 1px 2px rgba(60, 64, 67, 0.3), 0px 1px 3px 1px rgba(60, 64, 67, 0.15);\n",
              "      fill: #174EA6;\n",
              "    }\n",
              "\n",
              "    [theme=dark] .colab-df-convert {\n",
              "      background-color: #3B4455;\n",
              "      fill: #D2E3FC;\n",
              "    }\n",
              "\n",
              "    [theme=dark] .colab-df-convert:hover {\n",
              "      background-color: #434B5C;\n",
              "      box-shadow: 0px 1px 3px 1px rgba(0, 0, 0, 0.15);\n",
              "      filter: drop-shadow(0px 1px 2px rgba(0, 0, 0, 0.3));\n",
              "      fill: #FFFFFF;\n",
              "    }\n",
              "  </style>\n",
              "\n",
              "      <script>\n",
              "        const buttonEl =\n",
              "          document.querySelector('#df-a1bb22f2-9503-4581-a0e4-83579b5ddd28 button.colab-df-convert');\n",
              "        buttonEl.style.display =\n",
              "          google.colab.kernel.accessAllowed ? 'block' : 'none';\n",
              "\n",
              "        async function convertToInteractive(key) {\n",
              "          const element = document.querySelector('#df-a1bb22f2-9503-4581-a0e4-83579b5ddd28');\n",
              "          const dataTable =\n",
              "            await google.colab.kernel.invokeFunction('convertToInteractive',\n",
              "                                                     [key], {});\n",
              "          if (!dataTable) return;\n",
              "\n",
              "          const docLinkHtml = 'Like what you see? Visit the ' +\n",
              "            '<a target=\"_blank\" href=https://colab.research.google.com/notebooks/data_table.ipynb>data table notebook</a>'\n",
              "            + ' to learn more about interactive tables.';\n",
              "          element.innerHTML = '';\n",
              "          dataTable['output_type'] = 'display_data';\n",
              "          await google.colab.output.renderOutput(dataTable, element);\n",
              "          const docLink = document.createElement('div');\n",
              "          docLink.innerHTML = docLinkHtml;\n",
              "          element.appendChild(docLink);\n",
              "        }\n",
              "      </script>\n",
              "    </div>\n",
              "  </div>\n",
              "  "
            ]
          },
          "metadata": {},
          "execution_count": 12
        }
      ]
    },
    {
      "cell_type": "code",
      "source": [
        "# X_scaled.columns=['Clump_Thickness','Cell_Size','Cell_Shape', 'Marginal_Adhesion','Single_Epithelial_Cell_Size', 'Bare_Nuclei', 'Bland_Chromatin','Normal_Nucleoli', 'Mitoses']"
      ],
      "metadata": {
        "id": "Ps16thPzoAEx"
      },
      "execution_count": null,
      "outputs": []
    },
    {
      "cell_type": "code",
      "metadata": {
        "id": "uLhetpuoRSYT"
      },
      "source": [
        "# train / test 데이터셋 나누기\n",
        "from sklearn.model_selection import train_test_split\n",
        "X_train, X_test, y_train, y_test=train_test_split(X_scaled, y, stratify=y, random_state=42)"
      ],
      "execution_count": null,
      "outputs": []
    },
    {
      "cell_type": "code",
      "source": [
        "print(X_train.shape, X_test.shape, y_train.shape, y_test.shape)"
      ],
      "metadata": {
        "colab": {
          "base_uri": "https://localhost:8080/"
        },
        "id": "CxAwpMym0fJ7",
        "outputId": "32ead1f9-e3f9-4686-c09d-049318f91e5a"
      },
      "execution_count": null,
      "outputs": [
        {
          "output_type": "stream",
          "name": "stdout",
          "text": [
            "(512, 9) (171, 9) (512,) (171,)\n"
          ]
        }
      ]
    },
    {
      "cell_type": "markdown",
      "source": [
        "## 2. 의사결정나무"
      ],
      "metadata": {
        "id": "ws4AAYq3zIdk"
      }
    },
    {
      "cell_type": "markdown",
      "metadata": {
        "id": "PHv-ONYNRSYh"
      },
      "source": [
        "### Grid Search "
      ]
    },
    {
      "cell_type": "code",
      "metadata": {
        "id": "MJ21FT6WRSYm",
        "colab": {
          "base_uri": "https://localhost:8080/"
        },
        "outputId": "5860ea5f-d348-4d18-fe1b-f2c592e1aaf1"
      },
      "source": [
        "from sklearn.model_selection import GridSearchCV\n",
        "from sklearn.tree import DecisionTreeClassifier\n",
        "param_grid={'max_depth': range(2,20,1),'min_samples_leaf': range(1,50,1)}\n",
        "\n",
        "grid_search=GridSearchCV(DecisionTreeClassifier(), param_grid, cv=5, return_train_score=True)\n",
        "grid_search.fit(X_train, y_train)"
      ],
      "execution_count": null,
      "outputs": [
        {
          "output_type": "execute_result",
          "data": {
            "text/plain": [
              "GridSearchCV(cv=5, estimator=DecisionTreeClassifier(),\n",
              "             param_grid={'max_depth': range(2, 20),\n",
              "                         'min_samples_leaf': range(1, 50)},\n",
              "             return_train_score=True)"
            ]
          },
          "metadata": {},
          "execution_count": 15
        }
      ]
    },
    {
      "cell_type": "code",
      "metadata": {
        "id": "itTICLkNRSY9",
        "colab": {
          "base_uri": "https://localhost:8080/"
        },
        "outputId": "cea0acc4-1e53-4e96-86f7-800316517808"
      },
      "source": [
        "print(\"Best Parameter: {}\".format(grid_search.best_params_))\n",
        "print(\"Best Cross-validity Score: {:.3f}\".format(grid_search.best_score_))\n",
        "print(\"Test set Score: {:.3f}\".format(grid_search.score(X_test, y_test)))"
      ],
      "execution_count": null,
      "outputs": [
        {
          "output_type": "stream",
          "name": "stdout",
          "text": [
            "Best Parameter: {'max_depth': 7, 'min_samples_leaf': 1}\n",
            "Best Cross-validity Score: 0.967\n",
            "Test set Score: 0.959\n"
          ]
        }
      ]
    },
    {
      "cell_type": "code",
      "metadata": {
        "id": "aPcIWhr2RSZO"
      },
      "source": [
        "result_grid = pd.DataFrame(grid_search.cv_results_)"
      ],
      "execution_count": null,
      "outputs": []
    },
    {
      "cell_type": "code",
      "metadata": {
        "id": "4_CmJPXBRSZa",
        "colab": {
          "base_uri": "https://localhost:8080/",
          "height": 283
        },
        "outputId": "0747e2b7-ac09-4319-df83-fec04261cd5d"
      },
      "source": [
        "import matplotlib.pyplot as plt\n",
        "plt.plot(result_grid['param_max_depth'], result_grid['mean_train_score'], label=\"Train\")\n",
        "plt.plot(result_grid['param_max_depth'], result_grid['mean_test_score'], label=\"Test\")\n",
        "plt.legend()"
      ],
      "execution_count": null,
      "outputs": [
        {
          "output_type": "execute_result",
          "data": {
            "text/plain": [
              "<matplotlib.legend.Legend at 0x7f15fd8cbbb0>"
            ]
          },
          "metadata": {},
          "execution_count": 19
        },
        {
          "output_type": "display_data",
          "data": {
            "text/plain": [
              "<Figure size 432x288 with 1 Axes>"
            ],
            "image/png": "[encoded data removed]"
          },
          "metadata": {
            "needs_background": "light"
          }
        }
      ]
    },
    {
      "cell_type": "code",
      "source": [
        "import matplotlib.pyplot as plt\n",
        "plt.plot(result_grid['param_min_samples_leaf'], \n",
        "         result_grid['mean_train_score'], label=\"Train\")\n",
        "plt.plot(result_grid['param_min_samples_leaf'], \n",
        "         result_grid['mean_test_score'], label=\"Test\")\n",
        "plt.legend()"
      ],
      "metadata": {
        "colab": {
          "base_uri": "https://localhost:8080/",
          "height": 283
        },
        "id": "Nv5fv5iOxpG8",
        "outputId": "0d735256-78b2-42ff-bfc9-f2924c6afa74"
      },
      "execution_count": null,
      "outputs": [
        {
          "output_type": "execute_result",
          "data": {
            "text/plain": [
              "<matplotlib.legend.Legend at 0x7f15f53943d0>"
            ]
          },
          "metadata": {},
          "execution_count": 20
        },
        {
          "output_type": "display_data",
          "data": {
            "text/plain": [
              "<Figure size 432x288 with 1 Axes>"
            ],
            "image/png": "[encoded data removed]"
          },
          "metadata": {
            "needs_background": "light"
          }
        }
      ]
    },
    {
      "cell_type": "markdown",
      "metadata": {
        "id": "JFRW7EzoRSZh"
      },
      "source": [
        "### Random Search"
      ]
    },
    {
      "cell_type": "code",
      "metadata": {
        "id": "S9PI9qprRSZh"
      },
      "source": [
        "from sklearn.model_selection import RandomizedSearchCV\n",
        "from scipy.stats import randint\n",
        "from sklearn.tree import DecisionTreeClassifier\n",
        "param_distribs = {'max_depth': randint(low=1, high=20), \n",
        "                  'min_samples_leaf': randint(low=1, high=50)}"
      ],
      "execution_count": null,
      "outputs": []
    },
    {
      "cell_type": "code",
      "metadata": {
        "id": "QE5PWNZARSZw",
        "colab": {
          "base_uri": "https://localhost:8080/"
        },
        "outputId": "fd9400f8-2c98-429d-b448-248709ceed3d"
      },
      "source": [
        "random_search=RandomizedSearchCV(DecisionTreeClassifier(), \n",
        "                                 param_distributions=param_distribs, cv=5, return_train_score=True)\n",
        "random_search.fit(X_train, y_train)"
      ],
      "execution_count": null,
      "outputs": [
        {
          "output_type": "execute_result",
          "data": {
            "text/plain": [
              "RandomizedSearchCV(cv=5, estimator=DecisionTreeClassifier(),\n",
              "                   param_distributions={'max_depth': <scipy.stats._distn_infrastructure.rv_frozen object at 0x7f15fd643670>,\n",
              "                                        'min_samples_leaf': <scipy.stats._distn_infrastructure.rv_frozen object at 0x7f15f5440a60>},\n",
              "                   return_train_score=True)"
            ]
          },
          "metadata": {},
          "execution_count": 22
        }
      ]
    },
    {
      "cell_type": "code",
      "metadata": {
        "id": "PlcyXZOwRSZ7",
        "colab": {
          "base_uri": "https://localhost:8080/"
        },
        "outputId": "6e160366-4d98-4c21-eb15-423c691cc4c3"
      },
      "source": [
        "print(\"Best Parameter: {}\".format(random_search.best_params_))\n",
        "print(\"Best Cross-validity Score: {:.3f}\".format(random_search.best_score_))\n",
        "print(\"Test set Score: {:.3f}\".format(random_search.score(X_test, y_test)))"
      ],
      "execution_count": null,
      "outputs": [
        {
          "output_type": "stream",
          "name": "stdout",
          "text": [
            "Best Parameter: {'max_depth': 12, 'min_samples_leaf': 5}\n",
            "Best Cross-validity Score: 0.945\n",
            "Test set Score: 0.924\n"
          ]
        }
      ]
    },
    {
      "cell_type": "code",
      "metadata": {
        "id": "xSW_8RoVRSaN",
        "colab": {
          "base_uri": "https://localhost:8080/",
          "height": 803
        },
        "outputId": "75b1cee1-7936-41b3-fa51-0e766753afd1"
      },
      "source": [
        "result_random = random_search.cv_results_\n",
        "pd.DataFrame(result_random)"
      ],
      "execution_count": null,
      "outputs": [
        {
          "output_type": "execute_result",
          "data": {
            "text/plain": [
              "   mean_fit_time  std_fit_time  mean_score_time  std_score_time  \\\n",
              "0       0.002273      0.000710         0.000925        0.000441   \n",
              "1       0.002462      0.000604         0.000650        0.000206   \n",
              "2       0.001160      0.000119         0.000398        0.000025   \n",
              "3       0.001596      0.000488         0.000779        0.000365   \n",
              "4       0.001863      0.000284         0.000658        0.000132   \n",
              "5       0.001212      0.000066         0.000419        0.000023   \n",
              "6       0.001339      0.000177         0.000434        0.000070   \n",
              "7       0.001106      0.000097         0.000403        0.000063   \n",
              "8       0.001247      0.000063         0.000413        0.000019   \n",
              "9       0.001107      0.000026         0.000381        0.000018   \n",
              "\n",
              "  param_max_depth param_min_samples_leaf  \\\n",
              "0              16                     12   \n",
              "1              12                     39   \n",
              "2              10                     42   \n",
              "3               8                     24   \n",
              "4              15                     19   \n",
              "5               8                     30   \n",
              "6               7                     11   \n",
              "7              12                     31   \n",
              "8              12                      5   \n",
              "9               7                     24   \n",
              "\n",
              "                                      params  split0_test_score  \\\n",
              "0  {'max_depth': 16, 'min_samples_leaf': 12}           0.951456   \n",
              "1  {'max_depth': 12, 'min_samples_leaf': 39}           0.912621   \n",
              "2  {'max_depth': 10, 'min_samples_leaf': 42}           0.912621   \n",
              "3   {'max_depth': 8, 'min_samples_leaf': 24}           0.951456   \n",
              "4  {'max_depth': 15, 'min_samples_leaf': 19}           0.951456   \n",
              "5   {'max_depth': 8, 'min_samples_leaf': 30}           0.941748   \n",
              "6   {'max_depth': 7, 'min_samples_leaf': 11}           0.951456   \n",
              "7  {'max_depth': 12, 'min_samples_leaf': 31}           0.941748   \n",
              "8   {'max_depth': 12, 'min_samples_leaf': 5}           0.961165   \n",
              "9   {'max_depth': 7, 'min_samples_leaf': 24}           0.951456   \n",
              "\n",
              "   split1_test_score  split2_test_score  ...  mean_test_score  std_test_score  \\\n",
              "0           0.932039           0.941176  ...         0.943366        0.007229   \n",
              "1           0.902913           0.941176  ...         0.923891        0.018691   \n",
              "2           0.902913           0.941176  ...         0.916048        0.028029   \n",
              "3           0.932039           0.941176  ...         0.933562        0.011560   \n",
              "4           0.932039           0.950980  ...         0.939444        0.011443   \n",
              "5           0.902913           0.941176  ...         0.925795        0.014494   \n",
              "6           0.932039           0.941176  ...         0.943366        0.007229   \n",
              "7           0.902913           0.941176  ...         0.923834        0.015557   \n",
              "8           0.902913           0.960784  ...         0.945365        0.022561   \n",
              "9           0.932039           0.941176  ...         0.933562        0.011560   \n",
              "\n",
              "   rank_test_score  split0_train_score  split1_train_score  \\\n",
              "0                2            0.955990            0.948655   \n",
              "1                8            0.933985            0.941320   \n",
              "2               10            0.933985            0.941320   \n",
              "3                5            0.955990            0.946210   \n",
              "4                4            0.955990            0.948655   \n",
              "5                7            0.938875            0.941320   \n",
              "6                2            0.963325            0.963325   \n",
              "7                9            0.938875            0.941320   \n",
              "8                1            0.970660            0.977995   \n",
              "9                5            0.955990            0.946210   \n",
              "\n",
              "   split2_train_score  split3_train_score  split4_train_score  \\\n",
              "0            0.965854            0.960976            0.975610   \n",
              "1            0.931707            0.929268            0.939024   \n",
              "2            0.931707            0.929268            0.939024   \n",
              "3            0.931707            0.931707            0.953659   \n",
              "4            0.946341            0.946341            0.953659   \n",
              "5            0.931707            0.931707            0.953659   \n",
              "6            0.965854            0.960976            0.975610   \n",
              "7            0.931707            0.931707            0.939024   \n",
              "8            0.975610            0.980488            0.978049   \n",
              "9            0.931707            0.931707            0.953659   \n",
              "\n",
              "   mean_train_score  std_train_score  \n",
              "0          0.961417         0.009095  \n",
              "1          0.935061         0.004491  \n",
              "2          0.935061         0.004491  \n",
              "3          0.943855         0.010431  \n",
              "4          0.950197         0.003941  \n",
              "5          0.939454         0.008070  \n",
              "6          0.965818         0.005133  \n",
              "7          0.936527         0.004030  \n",
              "8          0.976560         0.003329  \n",
              "9          0.943855         0.010431  \n",
              "\n",
              "[10 rows x 22 columns]"
            ],
            "text/html": [
              "\n",
              "  <div id=\"df-96dd09aa-5314-4d38-aac6-1eec75963660\">\n",
              "    <div class=\"colab-df-container\">\n",
              "      <div>\n",
              "<style scoped>\n",
              "    .dataframe tbody tr th:only-of-type {\n",
              "        vertical-align: middle;\n",
              "    }\n",
              "\n",
              "    .dataframe tbody tr th {\n",
              "        vertical-align: top;\n",
              "    }\n",
              "\n",
              "    .dataframe thead th {\n",
              "        text-align: right;\n",
              "    }\n",
              "</style>\n",
              "<table border=\"1\" class=\"dataframe\">\n",
              "  <thead>\n",
              "    <tr style=\"text-align: right;\">\n",
              "      <th></th>\n",
              "      <th>mean_fit_time</th>\n",
              "      <th>std_fit_time</th>\n",
              "      <th>mean_score_time</th>\n",
              "      <th>std_score_time</th>\n",
              "      <th>param_max_depth</th>\n",
              "      <th>param_min_samples_leaf</th>\n",
              "      <th>params</th>\n",
              "      <th>split0_test_score</th>\n",
              "      <th>split1_test_score</th>\n",
              "      <th>split2_test_score</th>\n",
              "      <th>...</th>\n",
              "      <th>mean_test_score</th>\n",
              "      <th>std_test_score</th>\n",
              "      <th>rank_test_score</th>\n",
              "      <th>split0_train_score</th>\n",
              "      <th>split1_train_score</th>\n",
              "      <th>split2_train_score</th>\n",
              "      <th>split3_train_score</th>\n",
              "      <th>split4_train_score</th>\n",
              "      <th>mean_train_score</th>\n",
              "      <th>std_train_score</th>\n",
              "    </tr>\n",
              "  </thead>\n",
              "  <tbody>\n",
              "    <tr>\n",
              "      <th>0</th>\n",
              "      <td>0.002273</td>\n",
              "      <td>0.000710</td>\n",
              "      <td>0.000925</td>\n",
              "      <td>0.000441</td>\n",
              "      <td>16</td>\n",
              "      <td>12</td>\n",
              "      <td>{'max_depth': 16, 'min_samples_leaf': 12}</td>\n",
              "      <td>0.951456</td>\n",
              "      <td>0.932039</td>\n",
              "      <td>0.941176</td>\n",
              "      <td>...</td>\n",
              "      <td>0.943366</td>\n",
              "      <td>0.007229</td>\n",
              "      <td>2</td>\n",
              "      <td>0.955990</td>\n",
              "      <td>0.948655</td>\n",
              "      <td>0.965854</td>\n",
              "      <td>0.960976</td>\n",
              "      <td>0.975610</td>\n",
              "      <td>0.961417</td>\n",
              "      <td>0.009095</td>\n",
              "    </tr>\n",
              "    <tr>\n",
              "      <th>1</th>\n",
              "      <td>0.002462</td>\n",
              "      <td>0.000604</td>\n",
              "      <td>0.000650</td>\n",
              "      <td>0.000206</td>\n",
              "      <td>12</td>\n",
              "      <td>39</td>\n",
              "      <td>{'max_depth': 12, 'min_samples_leaf': 39}</td>\n",
              "      <td>0.912621</td>\n",
              "      <td>0.902913</td>\n",
              "      <td>0.941176</td>\n",
              "      <td>...</td>\n",
              "      <td>0.923891</td>\n",
              "      <td>0.018691</td>\n",
              "      <td>8</td>\n",
              "      <td>0.933985</td>\n",
              "      <td>0.941320</td>\n",
              "      <td>0.931707</td>\n",
              "      <td>0.929268</td>\n",
              "      <td>0.939024</td>\n",
              "      <td>0.935061</td>\n",
              "      <td>0.004491</td>\n",
              "    </tr>\n",
              "    <tr>\n",
              "      <th>2</th>\n",
              "      <td>0.001160</td>\n",
              "      <td>0.000119</td>\n",
              "      <td>0.000398</td>\n",
              "      <td>0.000025</td>\n",
              "      <td>10</td>\n",
              "      <td>42</td>\n",
              "      <td>{'max_depth': 10, 'min_samples_leaf': 42}</td>\n",
              "      <td>0.912621</td>\n",
              "      <td>0.902913</td>\n",
              "      <td>0.941176</td>\n",
              "      <td>...</td>\n",
              "      <td>0.916048</td>\n",
              "      <td>0.028029</td>\n",
              "      <td>10</td>\n",
              "      <td>0.933985</td>\n",
              "      <td>0.941320</td>\n",
              "      <td>0.931707</td>\n",
              "      <td>0.929268</td>\n",
              "      <td>0.939024</td>\n",
              "      <td>0.935061</td>\n",
              "      <td>0.004491</td>\n",
              "    </tr>\n",
              "    <tr>\n",
              "      <th>3</th>\n",
              "      <td>0.001596</td>\n",
              "      <td>0.000488</td>\n",
              "      <td>0.000779</td>\n",
              "      <td>0.000365</td>\n",
              "      <td>8</td>\n",
              "      <td>24</td>\n",
              "      <td>{'max_depth': 8, 'min_samples_leaf': 24}</td>\n",
              "      <td>0.951456</td>\n",
              "      <td>0.932039</td>\n",
              "      <td>0.941176</td>\n",
              "      <td>...</td>\n",
              "      <td>0.933562</td>\n",
              "      <td>0.011560</td>\n",
              "      <td>5</td>\n",
              "      <td>0.955990</td>\n",
              "      <td>0.946210</td>\n",
              "      <td>0.931707</td>\n",
              "      <td>0.931707</td>\n",
              "      <td>0.953659</td>\n",
              "      <td>0.943855</td>\n",
              "      <td>0.010431</td>\n",
              "    </tr>\n",
              "    <tr>\n",
              "      <th>4</th>\n",
              "      <td>0.001863</td>\n",
              "      <td>0.000284</td>\n",
              "      <td>0.000658</td>\n",
              "      <td>0.000132</td>\n",
              "      <td>15</td>\n",
              "      <td>19</td>\n",
              "      <td>{'max_depth': 15, 'min_samples_leaf': 19}</td>\n",
              "      <td>0.951456</td>\n",
              "      <td>0.932039</td>\n",
              "      <td>0.950980</td>\n",
              "      <td>...</td>\n",
              "      <td>0.939444</td>\n",
              "      <td>0.011443</td>\n",
              "      <td>4</td>\n",
              "      <td>0.955990</td>\n",
              "      <td>0.948655</td>\n",
              "      <td>0.946341</td>\n",
              "      <td>0.946341</td>\n",
              "      <td>0.953659</td>\n",
              "      <td>0.950197</td>\n",
              "      <td>0.003941</td>\n",
              "    </tr>\n",
              "    <tr>\n",
              "      <th>5</th>\n",
              "      <td>0.001212</td>\n",
              "      <td>0.000066</td>\n",
              "      <td>0.000419</td>\n",
              "      <td>0.000023</td>\n",
              "      <td>8</td>\n",
              "      <td>30</td>\n",
              "      <td>{'max_depth': 8, 'min_samples_leaf': 30}</td>\n",
              "      <td>0.941748</td>\n",
              "      <td>0.902913</td>\n",
              "      <td>0.941176</td>\n",
              "      <td>...</td>\n",
              "      <td>0.925795</td>\n",
              "      <td>0.014494</td>\n",
              "      <td>7</td>\n",
              "      <td>0.938875</td>\n",
              "      <td>0.941320</td>\n",
              "      <td>0.931707</td>\n",
              "      <td>0.931707</td>\n",
              "      <td>0.953659</td>\n",
              "      <td>0.939454</td>\n",
              "      <td>0.008070</td>\n",
              "    </tr>\n",
              "    <tr>\n",
              "      <th>6</th>\n",
              "      <td>0.001339</td>\n",
              "      <td>0.000177</td>\n",
              "      <td>0.000434</td>\n",
              "      <td>0.000070</td>\n",
              "      <td>7</td>\n",
              "      <td>11</td>\n",
              "      <td>{'max_depth': 7, 'min_samples_leaf': 11}</td>\n",
              "      <td>0.951456</td>\n",
              "      <td>0.932039</td>\n",
              "      <td>0.941176</td>\n",
              "      <td>...</td>\n",
              "      <td>0.943366</td>\n",
              "      <td>0.007229</td>\n",
              "      <td>2</td>\n",
              "      <td>0.963325</td>\n",
              "      <td>0.963325</td>\n",
              "      <td>0.965854</td>\n",
              "      <td>0.960976</td>\n",
              "      <td>0.975610</td>\n",
              "      <td>0.965818</td>\n",
              "      <td>0.005133</td>\n",
              "    </tr>\n",
              "    <tr>\n",
              "      <th>7</th>\n",
              "      <td>0.001106</td>\n",
              "      <td>0.000097</td>\n",
              "      <td>0.000403</td>\n",
              "      <td>0.000063</td>\n",
              "      <td>12</td>\n",
              "      <td>31</td>\n",
              "      <td>{'max_depth': 12, 'min_samples_leaf': 31}</td>\n",
              "      <td>0.941748</td>\n",
              "      <td>0.902913</td>\n",
              "      <td>0.941176</td>\n",
              "      <td>...</td>\n",
              "      <td>0.923834</td>\n",
              "      <td>0.015557</td>\n",
              "      <td>9</td>\n",
              "      <td>0.938875</td>\n",
              "      <td>0.941320</td>\n",
              "      <td>0.931707</td>\n",
              "      <td>0.931707</td>\n",
              "      <td>0.939024</td>\n",
              "      <td>0.936527</td>\n",
              "      <td>0.004030</td>\n",
              "    </tr>\n",
              "    <tr>\n",
              "      <th>8</th>\n",
              "      <td>0.001247</td>\n",
              "      <td>0.000063</td>\n",
              "      <td>0.000413</td>\n",
              "      <td>0.000019</td>\n",
              "      <td>12</td>\n",
              "      <td>5</td>\n",
              "      <td>{'max_depth': 12, 'min_samples_leaf': 5}</td>\n",
              "      <td>0.961165</td>\n",
              "      <td>0.902913</td>\n",
              "      <td>0.960784</td>\n",
              "      <td>...</td>\n",
              "      <td>0.945365</td>\n",
              "      <td>0.022561</td>\n",
              "      <td>1</td>\n",
              "      <td>0.970660</td>\n",
              "      <td>0.977995</td>\n",
              "      <td>0.975610</td>\n",
              "      <td>0.980488</td>\n",
              "      <td>0.978049</td>\n",
              "      <td>0.976560</td>\n",
              "      <td>0.003329</td>\n",
              "    </tr>\n",
              "    <tr>\n",
              "      <th>9</th>\n",
              "      <td>0.001107</td>\n",
              "      <td>0.000026</td>\n",
              "      <td>0.000381</td>\n",
              "      <td>0.000018</td>\n",
              "      <td>7</td>\n",
              "      <td>24</td>\n",
              "      <td>{'max_depth': 7, 'min_samples_leaf': 24}</td>\n",
              "      <td>0.951456</td>\n",
              "      <td>0.932039</td>\n",
              "      <td>0.941176</td>\n",
              "      <td>...</td>\n",
              "      <td>0.933562</td>\n",
              "      <td>0.011560</td>\n",
              "      <td>5</td>\n",
              "      <td>0.955990</td>\n",
              "      <td>0.946210</td>\n",
              "      <td>0.931707</td>\n",
              "      <td>0.931707</td>\n",
              "      <td>0.953659</td>\n",
              "      <td>0.943855</td>\n",
              "      <td>0.010431</td>\n",
              "    </tr>\n",
              "  </tbody>\n",
              "</table>\n",
              "<p>10 rows × 22 columns</p>\n",
              "</div>\n",
              "      <button class=\"colab-df-convert\" onclick=\"convertToInteractive('df-96dd09aa-5314-4d38-aac6-1eec75963660')\"\n",
              "              title=\"Convert this dataframe to an interactive table.\"\n",
              "              style=\"display:none;\">\n",
              "        \n",
              "  <svg xmlns=\"http://www.w3.org/2000/svg\" height=\"24px\"viewBox=\"0 0 24 24\"\n",
              "       width=\"24px\">\n",
              "    <path d=\"M0 0h24v24H0V0z\" fill=\"none\"/>\n",
              "    <path d=\"M18.56 5.44l.94 2.06.94-2.06 2.06-.94-2.06-.94-.94-2.06-.94 2.06-2.06.94zm-11 1L8.5 8.5l.94-2.06 2.06-.94-2.06-.94L8.5 2.5l-.94 2.06-2.06.94zm10 10l.94 2.06.94-2.06 2.06-.94-2.06-.94-.94-2.06-.94 2.06-2.06.94z\"/><path d=\"M17.41 7.96l-1.37-1.37c-.4-.4-.92-.59-1.43-.59-.52 0-1.04.2-1.43.59L10.3 9.45l-7.72 7.72c-.78.78-.78 2.05 0 2.83L4 21.41c.39.39.9.59 1.41.59.51 0 1.02-.2 1.41-.59l7.78-7.78 2.81-2.81c.8-.78.8-2.07 0-2.86zM5.41 20L4 18.59l7.72-7.72 1.47 1.35L5.41 20z\"/>\n",
              "  </svg>\n",
              "      </button>\n",
              "      \n",
              "  <style>\n",
              "    .colab-df-container {\n",
              "      display:flex;\n",
              "      flex-wrap:wrap;\n",
              "      gap: 12px;\n",
              "    }\n",
              "\n",
              "    .colab-df-convert {\n",
              "      background-color: #E8F0FE;\n",
              "      border: none;\n",
              "      border-radius: 50%;\n",
              "      cursor: pointer;\n",
              "      display: none;\n",
              "      fill: #1967D2;\n",
              "      height: 32px;\n",
              "      padding: 0 0 0 0;\n",
              "      width: 32px;\n",
              "    }\n",
              "\n",
              "    .colab-df-convert:hover {\n",
              "      background-color: #E2EBFA;\n",
              "      box-shadow: 0px 1px 2px rgba(60, 64, 67, 0.3), 0px 1px 3px 1px rgba(60, 64, 67, 0.15);\n",
              "      fill: #174EA6;\n",
              "    }\n",
              "\n",
              "    [theme=dark] .colab-df-convert {\n",
              "      background-color: #3B4455;\n",
              "      fill: #D2E3FC;\n",
              "    }\n",
              "\n",
              "    [theme=dark] .colab-df-convert:hover {\n",
              "      background-color: #434B5C;\n",
              "      box-shadow: 0px 1px 3px 1px rgba(0, 0, 0, 0.15);\n",
              "      filter: drop-shadow(0px 1px 2px rgba(0, 0, 0, 0.3));\n",
              "      fill: #FFFFFF;\n",
              "    }\n",
              "  </style>\n",
              "\n",
              "      <script>\n",
              "        const buttonEl =\n",
              "          document.querySelector('#df-96dd09aa-5314-4d38-aac6-1eec75963660 button.colab-df-convert');\n",
              "        buttonEl.style.display =\n",
              "          google.colab.kernel.accessAllowed ? 'block' : 'none';\n",
              "\n",
              "        async function convertToInteractive(key) {\n",
              "          const element = document.querySelector('#df-96dd09aa-5314-4d38-aac6-1eec75963660');\n",
              "          const dataTable =\n",
              "            await google.colab.kernel.invokeFunction('convertToInteractive',\n",
              "                                                     [key], {});\n",
              "          if (!dataTable) return;\n",
              "\n",
              "          const docLinkHtml = 'Like what you see? Visit the ' +\n",
              "            '<a target=\"_blank\" href=https://colab.research.google.com/notebooks/data_table.ipynb>data table notebook</a>'\n",
              "            + ' to learn more about interactive tables.';\n",
              "          element.innerHTML = '';\n",
              "          dataTable['output_type'] = 'display_data';\n",
              "          await google.colab.output.renderOutput(dataTable, element);\n",
              "          const docLink = document.createElement('div');\n",
              "          docLink.innerHTML = docLinkHtml;\n",
              "          element.appendChild(docLink);\n",
              "        }\n",
              "      </script>\n",
              "    </div>\n",
              "  </div>\n",
              "  "
            ]
          },
          "metadata": {},
          "execution_count": 24
        }
      ]
    },
    {
      "cell_type": "code",
      "metadata": {
        "id": "oVY4tMh1RSaX",
        "colab": {
          "base_uri": "https://localhost:8080/",
          "height": 283
        },
        "outputId": "5ed588fb-4bca-4678-8163-c2949102eafc"
      },
      "source": [
        "import matplotlib.pyplot as plt\n",
        "plt.plot(result_grid['param_max_depth'], result_grid['mean_train_score'], label=\"Train\")\n",
        "plt.plot(result_grid['param_max_depth'], result_grid['mean_test_score'], label=\"Test\")\n",
        "plt.legend()"
      ],
      "execution_count": null,
      "outputs": [
        {
          "output_type": "execute_result",
          "data": {
            "text/plain": [
              "<matplotlib.legend.Legend at 0x7f15fd7a55b0>"
            ]
          },
          "metadata": {},
          "execution_count": 25
        },
        {
          "output_type": "display_data",
          "data": {
            "text/plain": [
              "<Figure size 432x288 with 1 Axes>"
            ],
            "image/png": "[encoded data removed]"
          },
          "metadata": {
            "needs_background": "light"
          }
        }
      ]
    },
    {
      "cell_type": "code",
      "metadata": {
        "id": "7YJVBVSxRSaa",
        "colab": {
          "base_uri": "https://localhost:8080/",
          "height": 283
        },
        "outputId": "055eafaa-23b1-4dd2-8ed6-7e699264f0ef"
      },
      "source": [
        "import matplotlib.pyplot as plt\n",
        "plt.plot(result_grid['param_min_samples_leaf'], \n",
        "         result_grid['mean_train_score'], label=\"Train\")\n",
        "plt.plot(result_grid['param_min_samples_leaf'], \n",
        "         result_grid['mean_test_score'], label=\"Test\")\n",
        "plt.legend()"
      ],
      "execution_count": null,
      "outputs": [
        {
          "output_type": "execute_result",
          "data": {
            "text/plain": [
              "<matplotlib.legend.Legend at 0x7f15ff9145e0>"
            ]
          },
          "metadata": {},
          "execution_count": 26
        },
        {
          "output_type": "display_data",
          "data": {
            "text/plain": [
              "<Figure size 432x288 with 1 Axes>"
            ],
            "image/png": "[encoded data removed]"
          },
          "metadata": {
            "needs_background": "light"
          }
        }
      ]
    },
    {
      "cell_type": "markdown",
      "metadata": {
        "id": "LbyYu2NYRSb1"
      },
      "source": [
        "### 모델평가"
      ]
    },
    {
      "cell_type": "code",
      "metadata": {
        "id": "DaeytYUPRSb6"
      },
      "source": [
        "from sklearn.tree import DecisionTreeClassifier\n",
        "from sklearn.metrics import accuracy_score"
      ],
      "execution_count": null,
      "outputs": []
    },
    {
      "cell_type": "code",
      "source": [
        "dt = DecisionTreeClassifier()"
      ],
      "metadata": {
        "id": "K3BgiiJJjxnx"
      },
      "execution_count": null,
      "outputs": []
    },
    {
      "cell_type": "code",
      "source": [
        "dt.fit(X_train, y_train)"
      ],
      "metadata": {
        "colab": {
          "base_uri": "https://localhost:8080/"
        },
        "id": "Sm1WwPqnjlm8",
        "outputId": "755413ab-aa73-46a3-d1ce-ab6475857a33"
      },
      "execution_count": null,
      "outputs": [
        {
          "output_type": "execute_result",
          "data": {
            "text/plain": [
              "DecisionTreeClassifier()"
            ]
          },
          "metadata": {},
          "execution_count": 29
        }
      ]
    },
    {
      "cell_type": "code",
      "source": [
        "pred_train = dt.predict(X_train)\n",
        "pred_test = dt.predict(X_test)\n",
        "print('Train 정확도:',accuracy_score(y_train, pred_train))\n",
        "print('Test 정확도:',accuracy_score(y_test, pred_test))"
      ],
      "metadata": {
        "colab": {
          "base_uri": "https://localhost:8080/"
        },
        "id": "quE2qFSYj5uR",
        "outputId": "9804e0d8-4180-4bc3-ecc1-810723389047"
      },
      "execution_count": null,
      "outputs": [
        {
          "output_type": "stream",
          "name": "stdout",
          "text": [
            "Train 정확도: 1.0\n",
            "Test 정확도: 0.9532163742690059\n"
          ]
        }
      ]
    },
    {
      "cell_type": "code",
      "source": [
        "max_depth_list = range(1,20)\n",
        "train_list=[]\n",
        "test_list=[]\n",
        "for max_depth in max_depth_list:\n",
        "  tree = DecisionTreeClassifier(max_depth = max_depth)\n",
        "  tree.fit(X_train, y_train)\n",
        "  pre_train = tree.predict(X_train)\n",
        "  pred_test = tree.predict(X_test)\n",
        "  train_list.append(accuracy_score(y_train, pred_train))\n",
        "  test_list.append(accuracy_score(y_test, pred_test))\n",
        "\n",
        "d = {\n",
        "    \"max_depth\":max_depth_list,\n",
        "     \"Train 정확도\":train_list,\n",
        "     \"Test 정확도\":test_list\n",
        "}\n",
        "acc_df = pd.DataFrame(d)\n",
        "acc_df"
      ],
      "metadata": {
        "colab": {
          "base_uri": "https://localhost:8080/",
          "height": 645
        },
        "id": "SBxj8aoGg6jP",
        "outputId": "1e357476-99d2-48f0-d5b9-b7a35b68f800"
      },
      "execution_count": null,
      "outputs": [
        {
          "output_type": "execute_result",
          "data": {
            "text/plain": [
              "    max_depth  Train 정확도  Test 정확도\n",
              "0           1        1.0  0.900585\n",
              "1           2        1.0  0.941520\n",
              "2           3        1.0  0.953216\n",
              "3           4        1.0  0.953216\n",
              "4           5        1.0  0.929825\n",
              "5           6        1.0  0.964912\n",
              "6           7        1.0  0.964912\n",
              "7           8        1.0  0.964912\n",
              "8           9        1.0  0.953216\n",
              "9          10        1.0  0.959064\n",
              "10         11        1.0  0.959064\n",
              "11         12        1.0  0.941520\n",
              "12         13        1.0  0.959064\n",
              "13         14        1.0  0.953216\n",
              "14         15        1.0  0.953216\n",
              "15         16        1.0  0.953216\n",
              "16         17        1.0  0.959064\n",
              "17         18        1.0  0.959064\n",
              "18         19        1.0  0.959064"
            ],
            "text/html": [
              "\n",
              "  <div id=\"df-2e2d1c4b-dd05-4fea-a10a-2924428b0274\">\n",
              "    <div class=\"colab-df-container\">\n",
              "      <div>\n",
              "<style scoped>\n",
              "    .dataframe tbody tr th:only-of-type {\n",
              "        vertical-align: middle;\n",
              "    }\n",
              "\n",
              "    .dataframe tbody tr th {\n",
              "        vertical-align: top;\n",
              "    }\n",
              "\n",
              "    .dataframe thead th {\n",
              "        text-align: right;\n",
              "    }\n",
              "</style>\n",
              "<table border=\"1\" class=\"dataframe\">\n",
              "  <thead>\n",
              "    <tr style=\"text-align: right;\">\n",
              "      <th></th>\n",
              "      <th>max_depth</th>\n",
              "      <th>Train 정확도</th>\n",
              "      <th>Test 정확도</th>\n",
              "    </tr>\n",
              "  </thead>\n",
              "  <tbody>\n",
              "    <tr>\n",
              "      <th>0</th>\n",
              "      <td>1</td>\n",
              "      <td>1.0</td>\n",
              "      <td>0.900585</td>\n",
              "    </tr>\n",
              "    <tr>\n",
              "      <th>1</th>\n",
              "      <td>2</td>\n",
              "      <td>1.0</td>\n",
              "      <td>0.941520</td>\n",
              "    </tr>\n",
              "    <tr>\n",
              "      <th>2</th>\n",
              "      <td>3</td>\n",
              "      <td>1.0</td>\n",
              "      <td>0.953216</td>\n",
              "    </tr>\n",
              "    <tr>\n",
              "      <th>3</th>\n",
              "      <td>4</td>\n",
              "      <td>1.0</td>\n",
              "      <td>0.953216</td>\n",
              "    </tr>\n",
              "    <tr>\n",
              "      <th>4</th>\n",
              "      <td>5</td>\n",
              "      <td>1.0</td>\n",
              "      <td>0.929825</td>\n",
              "    </tr>\n",
              "    <tr>\n",
              "      <th>5</th>\n",
              "      <td>6</td>\n",
              "      <td>1.0</td>\n",
              "      <td>0.964912</td>\n",
              "    </tr>\n",
              "    <tr>\n",
              "      <th>6</th>\n",
              "      <td>7</td>\n",
              "      <td>1.0</td>\n",
              "      <td>0.964912</td>\n",
              "    </tr>\n",
              "    <tr>\n",
              "      <th>7</th>\n",
              "      <td>8</td>\n",
              "      <td>1.0</td>\n",
              "      <td>0.964912</td>\n",
              "    </tr>\n",
              "    <tr>\n",
              "      <th>8</th>\n",
              "      <td>9</td>\n",
              "      <td>1.0</td>\n",
              "      <td>0.953216</td>\n",
              "    </tr>\n",
              "    <tr>\n",
              "      <th>9</th>\n",
              "      <td>10</td>\n",
              "      <td>1.0</td>\n",
              "      <td>0.959064</td>\n",
              "    </tr>\n",
              "    <tr>\n",
              "      <th>10</th>\n",
              "      <td>11</td>\n",
              "      <td>1.0</td>\n",
              "      <td>0.959064</td>\n",
              "    </tr>\n",
              "    <tr>\n",
              "      <th>11</th>\n",
              "      <td>12</td>\n",
              "      <td>1.0</td>\n",
              "      <td>0.941520</td>\n",
              "    </tr>\n",
              "    <tr>\n",
              "      <th>12</th>\n",
              "      <td>13</td>\n",
              "      <td>1.0</td>\n",
              "      <td>0.959064</td>\n",
              "    </tr>\n",
              "    <tr>\n",
              "      <th>13</th>\n",
              "      <td>14</td>\n",
              "      <td>1.0</td>\n",
              "      <td>0.953216</td>\n",
              "    </tr>\n",
              "    <tr>\n",
              "      <th>14</th>\n",
              "      <td>15</td>\n",
              "      <td>1.0</td>\n",
              "      <td>0.953216</td>\n",
              "    </tr>\n",
              "    <tr>\n",
              "      <th>15</th>\n",
              "      <td>16</td>\n",
              "      <td>1.0</td>\n",
              "      <td>0.953216</td>\n",
              "    </tr>\n",
              "    <tr>\n",
              "      <th>16</th>\n",
              "      <td>17</td>\n",
              "      <td>1.0</td>\n",
              "      <td>0.959064</td>\n",
              "    </tr>\n",
              "    <tr>\n",
              "      <th>17</th>\n",
              "      <td>18</td>\n",
              "      <td>1.0</td>\n",
              "      <td>0.959064</td>\n",
              "    </tr>\n",
              "    <tr>\n",
              "      <th>18</th>\n",
              "      <td>19</td>\n",
              "      <td>1.0</td>\n",
              "      <td>0.959064</td>\n",
              "    </tr>\n",
              "  </tbody>\n",
              "</table>\n",
              "</div>\n",
              "      <button class=\"colab-df-convert\" onclick=\"convertToInteractive('df-2e2d1c4b-dd05-4fea-a10a-2924428b0274')\"\n",
              "              title=\"Convert this dataframe to an interactive table.\"\n",
              "              style=\"display:none;\">\n",
              "        \n",
              "  <svg xmlns=\"http://www.w3.org/2000/svg\" height=\"24px\"viewBox=\"0 0 24 24\"\n",
              "       width=\"24px\">\n",
              "    <path d=\"M0 0h24v24H0V0z\" fill=\"none\"/>\n",
              "    <path d=\"M18.56 5.44l.94 2.06.94-2.06 2.06-.94-2.06-.94-.94-2.06-.94 2.06-2.06.94zm-11 1L8.5 8.5l.94-2.06 2.06-.94-2.06-.94L8.5 2.5l-.94 2.06-2.06.94zm10 10l.94 2.06.94-2.06 2.06-.94-2.06-.94-.94-2.06-.94 2.06-2.06.94z\"/><path d=\"M17.41 7.96l-1.37-1.37c-.4-.4-.92-.59-1.43-.59-.52 0-1.04.2-1.43.59L10.3 9.45l-7.72 7.72c-.78.78-.78 2.05 0 2.83L4 21.41c.39.39.9.59 1.41.59.51 0 1.02-.2 1.41-.59l7.78-7.78 2.81-2.81c.8-.78.8-2.07 0-2.86zM5.41 20L4 18.59l7.72-7.72 1.47 1.35L5.41 20z\"/>\n",
              "  </svg>\n",
              "      </button>\n",
              "      \n",
              "  <style>\n",
              "    .colab-df-container {\n",
              "      display:flex;\n",
              "      flex-wrap:wrap;\n",
              "      gap: 12px;\n",
              "    }\n",
              "\n",
              "    .colab-df-convert {\n",
              "      background-color: #E8F0FE;\n",
              "      border: none;\n",
              "      border-radius: 50%;\n",
              "      cursor: pointer;\n",
              "      display: none;\n",
              "      fill: #1967D2;\n",
              "      height: 32px;\n",
              "      padding: 0 0 0 0;\n",
              "      width: 32px;\n",
              "    }\n",
              "\n",
              "    .colab-df-convert:hover {\n",
              "      background-color: #E2EBFA;\n",
              "      box-shadow: 0px 1px 2px rgba(60, 64, 67, 0.3), 0px 1px 3px 1px rgba(60, 64, 67, 0.15);\n",
              "      fill: #174EA6;\n",
              "    }\n",
              "\n",
              "    [theme=dark] .colab-df-convert {\n",
              "      background-color: #3B4455;\n",
              "      fill: #D2E3FC;\n",
              "    }\n",
              "\n",
              "    [theme=dark] .colab-df-convert:hover {\n",
              "      background-color: #434B5C;\n",
              "      box-shadow: 0px 1px 3px 1px rgba(0, 0, 0, 0.15);\n",
              "      filter: drop-shadow(0px 1px 2px rgba(0, 0, 0, 0.3));\n",
              "      fill: #FFFFFF;\n",
              "    }\n",
              "  </style>\n",
              "\n",
              "      <script>\n",
              "        const buttonEl =\n",
              "          document.querySelector('#df-2e2d1c4b-dd05-4fea-a10a-2924428b0274 button.colab-df-convert');\n",
              "        buttonEl.style.display =\n",
              "          google.colab.kernel.accessAllowed ? 'block' : 'none';\n",
              "\n",
              "        async function convertToInteractive(key) {\n",
              "          const element = document.querySelector('#df-2e2d1c4b-dd05-4fea-a10a-2924428b0274');\n",
              "          const dataTable =\n",
              "            await google.colab.kernel.invokeFunction('convertToInteractive',\n",
              "                                                     [key], {});\n",
              "          if (!dataTable) return;\n",
              "\n",
              "          const docLinkHtml = 'Like what you see? Visit the ' +\n",
              "            '<a target=\"_blank\" href=https://colab.research.google.com/notebooks/data_table.ipynb>data table notebook</a>'\n",
              "            + ' to learn more about interactive tables.';\n",
              "          element.innerHTML = '';\n",
              "          dataTable['output_type'] = 'display_data';\n",
              "          await google.colab.output.renderOutput(dataTable, element);\n",
              "          const docLink = document.createElement('div');\n",
              "          docLink.innerHTML = docLinkHtml;\n",
              "          element.appendChild(docLink);\n",
              "        }\n",
              "      </script>\n",
              "    </div>\n",
              "  </div>\n",
              "  "
            ]
          },
          "metadata": {},
          "execution_count": 31
        }
      ]
    },
    {
      "cell_type": "code",
      "metadata": {
        "id": "32GUVV3hRSb8"
      },
      "source": [
        "tree=DecisionTreeClassifier(max_depth=17, min_samples_leaf=3)"
      ],
      "execution_count": null,
      "outputs": []
    },
    {
      "cell_type": "code",
      "metadata": {
        "id": "LdwIZUc1RSb-",
        "colab": {
          "base_uri": "https://localhost:8080/"
        },
        "outputId": "b22f5be7-39db-4641-bc56-9612e5bf2d56"
      },
      "source": [
        "tree.fit(X_train, y_train)"
      ],
      "execution_count": null,
      "outputs": [
        {
          "output_type": "execute_result",
          "data": {
            "text/plain": [
              "DecisionTreeClassifier(max_depth=17, min_samples_leaf=3)"
            ]
          },
          "metadata": {},
          "execution_count": 33
        }
      ]
    },
    {
      "cell_type": "code",
      "metadata": {
        "id": "rStQSs2hRScA",
        "colab": {
          "base_uri": "https://localhost:8080/"
        },
        "outputId": "6ca7b149-7938-44e7-9213-12d0e2530bb8"
      },
      "source": [
        "from sklearn.metrics import confusion_matrix\n",
        "pred_train=tree.predict(X_train)\n",
        "confusion_train=confusion_matrix(y_train, pred_train)\n",
        "pred_test=tree.predict(X_test)\n",
        "confusion_test=confusion_matrix(y_test, pred_test)\n",
        "print(\"훈련데이터 오차행렬:\\n\", confusion_train)\n",
        "print(\"테스트 데이터 오차행렬:\\n\", confusion_test)"
      ],
      "execution_count": null,
      "outputs": [
        {
          "output_type": "stream",
          "name": "stdout",
          "text": [
            "훈련데이터 오차행렬:\n",
            " [[329   4]\n",
            " [  3 176]]\n",
            "테스트 데이터 오차행렬:\n",
            " [[106   5]\n",
            " [  2  58]]\n"
          ]
        }
      ]
    },
    {
      "cell_type": "code",
      "metadata": {
        "id": "2q6bYuCfRScX",
        "colab": {
          "base_uri": "https://localhost:8080/"
        },
        "outputId": "f63394f6-5f65-4e05-dccf-3340c58bc15f"
      },
      "source": [
        "from sklearn.metrics import f1_score\n",
        "from sklearn.metrics import classification_report\n",
        "f1=f1_score(y_test, pred_test)\n",
        "print(\"f1_score =\", f1,\"\\n\")\n",
        "cfreport=classification_report(y_test, pred_test)\n",
        "print(\"분류예측 레포트:\\n\", cfreport)"
      ],
      "execution_count": null,
      "outputs": [
        {
          "output_type": "stream",
          "name": "stdout",
          "text": [
            "f1_score = 0.943089430894309 \n",
            "\n",
            "분류예측 레포트:\n",
            "               precision    recall  f1-score   support\n",
            "\n",
            "           0       0.98      0.95      0.97       111\n",
            "           1       0.92      0.97      0.94        60\n",
            "\n",
            "    accuracy                           0.96       171\n",
            "   macro avg       0.95      0.96      0.96       171\n",
            "weighted avg       0.96      0.96      0.96       171\n",
            "\n"
          ]
        }
      ]
    },
    {
      "cell_type": "code",
      "metadata": {
        "id": "t-b7V1wYRSbg",
        "colab": {
          "base_uri": "https://localhost:8080/"
        },
        "outputId": "83e781ba-5883-48dc-e8ec-ccc3f31360f4"
      },
      "source": [
        "print(\"특성 중요도:\\n{}\".format(tree.feature_importances_))"
      ],
      "execution_count": null,
      "outputs": [
        {
          "output_type": "stream",
          "name": "stdout",
          "text": [
            "특성 중요도:\n",
            "[0.01894562 0.04248937 0.78428789 0.01508025 0.00804986 0.12880447\n",
            " 0.00234255 0.         0.        ]\n"
          ]
        }
      ]
    },
    {
      "cell_type": "code",
      "metadata": {
        "id": "mfqcpA7wRSbv",
        "colab": {
          "base_uri": "https://localhost:8080/",
          "height": 279
        },
        "outputId": "21ff4429-c1b0-4968-f46b-7413bdd7f592"
      },
      "source": [
        "import numpy as np\n",
        "def plot_feature_importances_tree(model):\n",
        "    n_features = X.shape[1]\n",
        "    plt.barh(range(n_features), model.feature_importances_, align='center')\n",
        "    plt.yticks(np.arange(n_features), X.columns)\n",
        "    plt.xlabel(\"Importance\")\n",
        "    plt.ylabel(\"Features\")\n",
        "    plt.ylim(-1, n_features)\n",
        "\n",
        "plot_feature_importances_tree(tree)"
      ],
      "execution_count": null,
      "outputs": [
        {
          "output_type": "display_data",
          "data": {
            "text/plain": [
              "<Figure size 432x288 with 1 Axes>"
            ],
            "image/png": "[encoded data removed]"
          },
          "metadata": {
            "needs_background": "light"
          }
        }
      ]
    },
    {
      "cell_type": "markdown",
      "source": [
        "변수중요도 : cell_shape - Bare_Nuclei - cell_size"
      ],
      "metadata": {
        "id": "fpDTmZ-5zmOq"
      }
    },
    {
      "cell_type": "code",
      "metadata": {
        "id": "l2K8M3ddRSac",
        "colab": {
          "base_uri": "https://localhost:8080/"
        },
        "outputId": "d7777baf-bfd7-47e4-9c0b-42e86ceca6ba"
      },
      "source": [
        "from sklearn.tree import DecisionTreeClassifier\n",
        "import matplotlib.pyplot as plt\n",
        "import numpy as np\n",
        "tree=DecisionTreeClassifier(max_depth=17, min_samples_leaf=6)\n",
        "tree.fit(X_train, y_train)"
      ],
      "execution_count": null,
      "outputs": [
        {
          "output_type": "execute_result",
          "data": {
            "text/plain": [
              "DecisionTreeClassifier(max_depth=17, min_samples_leaf=6)"
            ]
          },
          "metadata": {},
          "execution_count": 39
        }
      ]
    },
    {
      "cell_type": "code",
      "metadata": {
        "id": "kYL5ya7YRSa0",
        "colab": {
          "base_uri": "https://localhost:8080/"
        },
        "outputId": "69a3dc07-e592-49d1-8714-490e1b3a1690"
      },
      "source": [
        "!pip install graphviz\n",
        "# graphvis 설치가 제대로 되지 않을 경우 아래에서 직접 설치\n",
        "# https://graphviz.gitlab.io/_pages/Download/windows/graphviz-2.38.msi"
      ],
      "execution_count": null,
      "outputs": [
        {
          "output_type": "stream",
          "name": "stdout",
          "text": [
            "Looking in indexes: https://pypi.org/simple, https://us-python.pkg.dev/colab-wheels/public/simple/\n",
            "Requirement already satisfied: graphviz in /usr/local/lib/python3.8/dist-packages (0.10.1)\n"
          ]
        }
      ]
    },
    {
      "cell_type": "code",
      "metadata": {
        "id": "ISVIPK9SRSa8"
      },
      "source": [
        "import graphviz\n",
        "import os\n",
        "os.environ[\"PATH\"] += os.pathsep + 'C:/Program Files (x86)/Graphviz2.38/bin/'"
      ],
      "execution_count": null,
      "outputs": []
    },
    {
      "cell_type": "code",
      "metadata": {
        "id": "miWM_R-wRSbW"
      },
      "source": [
        "from sklearn.tree import export_graphviz\n",
        "export_graphviz(tree, out_file=\"tree.dot\", class_names=['0', '1'],\n",
        "                feature_names=X.columns, impurity=False, filled=True)"
      ],
      "execution_count": null,
      "outputs": []
    },
    {
      "cell_type": "code",
      "metadata": {
        "id": "433moX_lRSbb",
        "colab": {
          "base_uri": "https://localhost:8080/",
          "height": 815
        },
        "outputId": "9dde2e95-e32a-4569-b9c1-c6d469959c19"
      },
      "source": [
        "with open(\"tree.dot\", encoding =\"euc-kr\") as f:\n",
        "    dot_graph = f.read()\n",
        "    display(graphviz.Source(dot_graph))"
      ],
      "execution_count": null,
      "outputs": [
        {
          "output_type": "display_data",
          "data": {
            "text/plain": [
              "<graphviz.files.Source at 0x7f15fd4526d0>"
            ],
            "image/svg+xml": "<?xml version=\"1.0\" encoding=\"UTF-8\" standalone=\"no\"?>\n<!DOCTYPE svg PUBLIC \"-//W3C//DTD SVG 1.1//EN\"\n \"http://www.w3.org/Graphics/SVG/1.1/DTD/svg11.dtd\">\n<!-- Generated by graphviz version 2.40.1 (20161225.0304)\n -->\n<!-- Title: Tree Pages: 1 -->\n<svg width=\"1316pt\" height=\"581pt\"\n viewBox=\"0.00 0.00 1316.00 581.00\" xmlns=\"http://www.w3.org/2000/svg\" xmlns:xlink=\"http://www.w3.org/1999/xlink\">\n<g id=\"graph0\" class=\"graph\" transform=\"scale(1 1) rotate(0) translate(4 577)\">\n<title>Tree</title>\n<polygon fill=\"#ffffff\" stroke=\"transparent\" points=\"-4,4 -4,-577 1312,-577 1312,4 -4,4\"/>\n<!-- 0 -->\n<g id=\"node1\" class=\"node\">\n<title>0</title>\n<polygon fill=\"#f3c5a3\" stroke=\"#000000\" points=\"760.5,-573 607.5,-573 607.5,-505 760.5,-505 760.5,-573\"/>\n<text text-anchor=\"middle\" x=\"684\" y=\"-557.8\" font-family=\"Helvetica,sans-Serif\" font-size=\"14.00\" fill=\"#000000\">Cell_Shape &lt;= 0.095</text>\n<text text-anchor=\"middle\" x=\"684\" y=\"-542.8\" font-family=\"Helvetica,sans-Serif\" font-size=\"14.00\" fill=\"#000000\">samples = 512</text>\n<text text-anchor=\"middle\" x=\"684\" y=\"-527.8\" font-family=\"Helvetica,sans-Serif\" font-size=\"14.00\" fill=\"#000000\">value = [333, 179]</text>\n<text text-anchor=\"middle\" x=\"684\" y=\"-512.8\" font-family=\"Helvetica,sans-Serif\" font-size=\"14.00\" fill=\"#000000\">class = 0</text>\n</g>\n<!-- 1 -->\n<g id=\"node2\" class=\"node\">\n<title>1</title>\n<polygon fill=\"#e78a47\" stroke=\"#000000\" points=\"678.5,-469 521.5,-469 521.5,-401 678.5,-401 678.5,-469\"/>\n<text text-anchor=\"middle\" x=\"600\" y=\"-453.8\" font-family=\"Helvetica,sans-Serif\" font-size=\"14.00\" fill=\"#000000\">Bare_Nuclei &lt;= 0.537</text>\n<text text-anchor=\"middle\" x=\"600\" y=\"-438.8\" font-family=\"Helvetica,sans-Serif\" font-size=\"14.00\" fill=\"#000000\">samples = 343</text>\n<text text-anchor=\"middle\" x=\"600\" y=\"-423.8\" font-family=\"Helvetica,sans-Serif\" font-size=\"14.00\" fill=\"#000000\">value = [321, 22]</text>\n<text text-anchor=\"middle\" x=\"600\" y=\"-408.8\" font-family=\"Helvetica,sans-Serif\" font-size=\"14.00\" fill=\"#000000\">class = 0</text>\n</g>\n<!-- 0&#45;&gt;1 -->\n<g id=\"edge1\" class=\"edge\">\n<title>0&#45;&gt;1</title>\n<path fill=\"none\" stroke=\"#000000\" d=\"M656.4953,-504.9465C649.3159,-496.0578 641.4924,-486.3716 634.019,-477.1188\"/>\n<polygon fill=\"#000000\" stroke=\"#000000\" points=\"636.5727,-474.7102 627.5665,-469.13 631.1271,-479.1086 636.5727,-474.7102\"/>\n<text text-anchor=\"middle\" x=\"624.9219\" y=\"-490.2897\" font-family=\"Helvetica,sans-Serif\" font-size=\"14.00\" fill=\"#000000\">True</text>\n</g>\n<!-- 14 -->\n<g id=\"node15\" class=\"node\">\n<title>14</title>\n<polygon fill=\"#48a4e7\" stroke=\"#000000\" points=\"839.5,-469 696.5,-469 696.5,-401 839.5,-401 839.5,-469\"/>\n<text text-anchor=\"middle\" x=\"768\" y=\"-453.8\" font-family=\"Helvetica,sans-Serif\" font-size=\"14.00\" fill=\"#000000\">Cell_Size &lt;= &#45;0.212</text>\n<text text-anchor=\"middle\" x=\"768\" y=\"-438.8\" font-family=\"Helvetica,sans-Serif\" font-size=\"14.00\" fill=\"#000000\">samples = 169</text>\n<text text-anchor=\"middle\" x=\"768\" y=\"-423.8\" font-family=\"Helvetica,sans-Serif\" font-size=\"14.00\" fill=\"#000000\">value = [12, 157]</text>\n<text text-anchor=\"middle\" x=\"768\" y=\"-408.8\" font-family=\"Helvetica,sans-Serif\" font-size=\"14.00\" fill=\"#000000\">class = 1</text>\n</g>\n<!-- 0&#45;&gt;14 -->\n<g id=\"edge14\" class=\"edge\">\n<title>0&#45;&gt;14</title>\n<path fill=\"none\" stroke=\"#000000\" d=\"M711.5047,-504.9465C718.6841,-496.0578 726.5076,-486.3716 733.981,-477.1188\"/>\n<polygon fill=\"#000000\" stroke=\"#000000\" points=\"736.8729,-479.1086 740.4335,-469.13 731.4273,-474.7102 736.8729,-479.1086\"/>\n<text text-anchor=\"middle\" x=\"743.0781\" y=\"-490.2897\" font-family=\"Helvetica,sans-Serif\" font-size=\"14.00\" fill=\"#000000\">False</text>\n</g>\n<!-- 2 -->\n<g id=\"node3\" class=\"node\">\n<title>2</title>\n<polygon fill=\"#e6853f\" stroke=\"#000000\" points=\"492,-365 298,-365 298,-297 492,-297 492,-365\"/>\n<text text-anchor=\"middle\" x=\"395\" y=\"-349.8\" font-family=\"Helvetica,sans-Serif\" font-size=\"14.00\" fill=\"#000000\">Clump_Thickness &lt;= 0.375</text>\n<text text-anchor=\"middle\" x=\"395\" y=\"-334.8\" font-family=\"Helvetica,sans-Serif\" font-size=\"14.00\" fill=\"#000000\">samples = 329</text>\n<text text-anchor=\"middle\" x=\"395\" y=\"-319.8\" font-family=\"Helvetica,sans-Serif\" font-size=\"14.00\" fill=\"#000000\">value = [320, 9]</text>\n<text text-anchor=\"middle\" x=\"395\" y=\"-304.8\" font-family=\"Helvetica,sans-Serif\" font-size=\"14.00\" fill=\"#000000\">class = 0</text>\n</g>\n<!-- 1&#45;&gt;2 -->\n<g id=\"edge2\" class=\"edge\">\n<title>1&#45;&gt;2</title>\n<path fill=\"none\" stroke=\"#000000\" d=\"M532.8753,-400.9465C513.2305,-390.9803 491.6096,-380.0117 471.4323,-369.7754\"/>\n<polygon fill=\"#000000\" stroke=\"#000000\" points=\"472.777,-366.533 462.2755,-365.13 469.61,-372.7756 472.777,-366.533\"/>\n</g>\n<!-- 11 -->\n<g id=\"node12\" class=\"node\">\n<title>11</title>\n<polygon fill=\"#48a5e7\" stroke=\"#000000\" points=\"694,-365 510,-365 510,-297 694,-297 694,-365\"/>\n<text text-anchor=\"middle\" x=\"602\" y=\"-349.8\" font-family=\"Helvetica,sans-Serif\" font-size=\"14.00\" fill=\"#000000\">Normal_Nucleoli &lt;= 0.207</text>\n<text text-anchor=\"middle\" x=\"602\" y=\"-334.8\" font-family=\"Helvetica,sans-Serif\" font-size=\"14.00\" fill=\"#000000\">samples = 14</text>\n<text text-anchor=\"middle\" x=\"602\" y=\"-319.8\" font-family=\"Helvetica,sans-Serif\" font-size=\"14.00\" fill=\"#000000\">value = [1, 13]</text>\n<text text-anchor=\"middle\" x=\"602\" y=\"-304.8\" font-family=\"Helvetica,sans-Serif\" font-size=\"14.00\" fill=\"#000000\">class = 1</text>\n</g>\n<!-- 1&#45;&gt;11 -->\n<g id=\"edge11\" class=\"edge\">\n<title>1&#45;&gt;11</title>\n<path fill=\"none\" stroke=\"#000000\" d=\"M600.6549,-400.9465C600.812,-392.776 600.9821,-383.9318 601.1467,-375.3697\"/>\n<polygon fill=\"#000000\" stroke=\"#000000\" points=\"604.6506,-375.1955 601.3437,-365.13 597.6519,-375.0608 604.6506,-375.1955\"/>\n</g>\n<!-- 3 -->\n<g id=\"node4\" class=\"node\">\n<title>3</title>\n<polygon fill=\"#e5823b\" stroke=\"#000000\" points=\"311.5,-261 150.5,-261 150.5,-193 311.5,-193 311.5,-261\"/>\n<text text-anchor=\"middle\" x=\"231\" y=\"-245.8\" font-family=\"Helvetica,sans-Serif\" font-size=\"14.00\" fill=\"#000000\">Bare_Nuclei &lt;= &#45;0.287</text>\n<text text-anchor=\"middle\" x=\"231\" y=\"-230.8\" font-family=\"Helvetica,sans-Serif\" font-size=\"14.00\" fill=\"#000000\">samples = 312</text>\n<text text-anchor=\"middle\" x=\"231\" y=\"-215.8\" font-family=\"Helvetica,sans-Serif\" font-size=\"14.00\" fill=\"#000000\">value = [309, 3]</text>\n<text text-anchor=\"middle\" x=\"231\" y=\"-200.8\" font-family=\"Helvetica,sans-Serif\" font-size=\"14.00\" fill=\"#000000\">class = 0</text>\n</g>\n<!-- 2&#45;&gt;3 -->\n<g id=\"edge3\" class=\"edge\">\n<title>2&#45;&gt;3</title>\n<path fill=\"none\" stroke=\"#000000\" d=\"M341.3003,-296.9465C326.0091,-287.2497 309.2215,-276.6039 293.4571,-266.6069\"/>\n<polygon fill=\"#000000\" stroke=\"#000000\" points=\"295.1399,-263.5297 284.8204,-261.13 291.3911,-269.4412 295.1399,-263.5297\"/>\n</g>\n<!-- 8 -->\n<g id=\"node9\" class=\"node\">\n<title>8</title>\n<polygon fill=\"#f3c6a5\" stroke=\"#000000\" points=\"490.5,-261 329.5,-261 329.5,-193 490.5,-193 490.5,-261\"/>\n<text text-anchor=\"middle\" x=\"410\" y=\"-245.8\" font-family=\"Helvetica,sans-Serif\" font-size=\"14.00\" fill=\"#000000\">Bare_Nuclei &lt;= &#45;0.562</text>\n<text text-anchor=\"middle\" x=\"410\" y=\"-230.8\" font-family=\"Helvetica,sans-Serif\" font-size=\"14.00\" fill=\"#000000\">samples = 17</text>\n<text text-anchor=\"middle\" x=\"410\" y=\"-215.8\" font-family=\"Helvetica,sans-Serif\" font-size=\"14.00\" fill=\"#000000\">value = [11, 6]</text>\n<text text-anchor=\"middle\" x=\"410\" y=\"-200.8\" font-family=\"Helvetica,sans-Serif\" font-size=\"14.00\" fill=\"#000000\">class = 0</text>\n</g>\n<!-- 2&#45;&gt;8 -->\n<g id=\"edge8\" class=\"edge\">\n<title>2&#45;&gt;8</title>\n<path fill=\"none\" stroke=\"#000000\" d=\"M399.9116,-296.9465C401.1029,-288.6863 402.3937,-279.7374 403.6412,-271.0875\"/>\n<polygon fill=\"#000000\" stroke=\"#000000\" points=\"407.1139,-271.5272 405.0774,-261.13 400.1856,-270.5279 407.1139,-271.5272\"/>\n</g>\n<!-- 4 -->\n<g id=\"node5\" class=\"node\">\n<title>4</title>\n<polygon fill=\"#e58139\" stroke=\"#000000\" points=\"116,-149.5 0,-149.5 0,-96.5 116,-96.5 116,-149.5\"/>\n<text text-anchor=\"middle\" x=\"58\" y=\"-134.3\" font-family=\"Helvetica,sans-Serif\" font-size=\"14.00\" fill=\"#000000\">samples = 288</text>\n<text text-anchor=\"middle\" x=\"58\" y=\"-119.3\" font-family=\"Helvetica,sans-Serif\" font-size=\"14.00\" fill=\"#000000\">value = [288, 0]</text>\n<text text-anchor=\"middle\" x=\"58\" y=\"-104.3\" font-family=\"Helvetica,sans-Serif\" font-size=\"14.00\" fill=\"#000000\">class = 0</text>\n</g>\n<!-- 3&#45;&gt;4 -->\n<g id=\"edge4\" class=\"edge\">\n<title>3&#45;&gt;4</title>\n<path fill=\"none\" stroke=\"#000000\" d=\"M174.3533,-192.9465C153.9233,-180.6649 130.9609,-166.8609 110.8667,-154.7811\"/>\n<polygon fill=\"#000000\" stroke=\"#000000\" points=\"112.5257,-151.6948 102.1519,-149.5422 108.9191,-157.6942 112.5257,-151.6948\"/>\n</g>\n<!-- 5 -->\n<g id=\"node6\" class=\"node\">\n<title>5</title>\n<polygon fill=\"#e99355\" stroke=\"#000000\" points=\"333.5,-157 134.5,-157 134.5,-89 333.5,-89 333.5,-157\"/>\n<text text-anchor=\"middle\" x=\"234\" y=\"-141.8\" font-family=\"Helvetica,sans-Serif\" font-size=\"14.00\" fill=\"#000000\">Clump_Thickness &lt;= &#45;0.334</text>\n<text text-anchor=\"middle\" x=\"234\" y=\"-126.8\" font-family=\"Helvetica,sans-Serif\" font-size=\"14.00\" fill=\"#000000\">samples = 24</text>\n<text text-anchor=\"middle\" x=\"234\" y=\"-111.8\" font-family=\"Helvetica,sans-Serif\" font-size=\"14.00\" fill=\"#000000\">value = [21, 3]</text>\n<text text-anchor=\"middle\" x=\"234\" y=\"-96.8\" font-family=\"Helvetica,sans-Serif\" font-size=\"14.00\" fill=\"#000000\">class = 0</text>\n</g>\n<!-- 3&#45;&gt;5 -->\n<g id=\"edge5\" class=\"edge\">\n<title>3&#45;&gt;5</title>\n<path fill=\"none\" stroke=\"#000000\" d=\"M231.9823,-192.9465C232.218,-184.776 232.4731,-175.9318 232.7201,-167.3697\"/>\n<polygon fill=\"#000000\" stroke=\"#000000\" points=\"236.2256,-167.2268 233.0155,-157.13 229.2285,-167.0249 236.2256,-167.2268\"/>\n</g>\n<!-- 6 -->\n<g id=\"node7\" class=\"node\">\n<title>6</title>\n<polygon fill=\"#e58139\" stroke=\"#000000\" points=\"227.5,-53 120.5,-53 120.5,0 227.5,0 227.5,-53\"/>\n<text text-anchor=\"middle\" x=\"174\" y=\"-37.8\" font-family=\"Helvetica,sans-Serif\" font-size=\"14.00\" fill=\"#000000\">samples = 16</text>\n<text text-anchor=\"middle\" x=\"174\" y=\"-22.8\" font-family=\"Helvetica,sans-Serif\" font-size=\"14.00\" fill=\"#000000\">value = [16, 0]</text>\n<text text-anchor=\"middle\" x=\"174\" y=\"-7.8\" font-family=\"Helvetica,sans-Serif\" font-size=\"14.00\" fill=\"#000000\">class = 0</text>\n</g>\n<!-- 5&#45;&gt;6 -->\n<g id=\"edge6\" class=\"edge\">\n<title>5&#45;&gt;6</title>\n<path fill=\"none\" stroke=\"#000000\" d=\"M212.8462,-88.9777C207.3805,-80.187 201.4846,-70.7044 195.9778,-61.8477\"/>\n<polygon fill=\"#000000\" stroke=\"#000000\" points=\"198.8837,-59.8927 190.6312,-53.2485 192.9391,-63.5889 198.8837,-59.8927\"/>\n</g>\n<!-- 7 -->\n<g id=\"node8\" class=\"node\">\n<title>7</title>\n<polygon fill=\"#f5cdb0\" stroke=\"#000000\" points=\"344.5,-53 245.5,-53 245.5,0 344.5,0 344.5,-53\"/>\n<text text-anchor=\"middle\" x=\"295\" y=\"-37.8\" font-family=\"Helvetica,sans-Serif\" font-size=\"14.00\" fill=\"#000000\">samples = 8</text>\n<text text-anchor=\"middle\" x=\"295\" y=\"-22.8\" font-family=\"Helvetica,sans-Serif\" font-size=\"14.00\" fill=\"#000000\">value = [5, 3]</text>\n<text text-anchor=\"middle\" x=\"295\" y=\"-7.8\" font-family=\"Helvetica,sans-Serif\" font-size=\"14.00\" fill=\"#000000\">class = 0</text>\n</g>\n<!-- 5&#45;&gt;7 -->\n<g id=\"edge7\" class=\"edge\">\n<title>5&#45;&gt;7</title>\n<path fill=\"none\" stroke=\"#000000\" d=\"M255.5063,-88.9777C261.0631,-80.187 267.0573,-70.7044 272.6559,-61.8477\"/>\n<polygon fill=\"#000000\" stroke=\"#000000\" points=\"275.7069,-63.5714 278.0916,-53.2485 269.7899,-59.8312 275.7069,-63.5714\"/>\n</g>\n<!-- 9 -->\n<g id=\"node10\" class=\"node\">\n<title>9</title>\n<polygon fill=\"#e58139\" stroke=\"#000000\" points=\"456.5,-149.5 357.5,-149.5 357.5,-96.5 456.5,-96.5 456.5,-149.5\"/>\n<text text-anchor=\"middle\" x=\"407\" y=\"-134.3\" font-family=\"Helvetica,sans-Serif\" font-size=\"14.00\" fill=\"#000000\">samples = 9</text>\n<text text-anchor=\"middle\" x=\"407\" y=\"-119.3\" font-family=\"Helvetica,sans-Serif\" font-size=\"14.00\" fill=\"#000000\">value = [9, 0]</text>\n<text text-anchor=\"middle\" x=\"407\" y=\"-104.3\" font-family=\"Helvetica,sans-Serif\" font-size=\"14.00\" fill=\"#000000\">class = 0</text>\n</g>\n<!-- 8&#45;&gt;9 -->\n<g id=\"edge9\" class=\"edge\">\n<title>8&#45;&gt;9</title>\n<path fill=\"none\" stroke=\"#000000\" d=\"M409.0177,-192.9465C408.7095,-182.2621 408.368,-170.4254 408.055,-159.5742\"/>\n<polygon fill=\"#000000\" stroke=\"#000000\" points=\"411.5526,-159.4371 407.7656,-149.5422 404.5555,-159.639 411.5526,-159.4371\"/>\n</g>\n<!-- 10 -->\n<g id=\"node11\" class=\"node\">\n<title>10</title>\n<polygon fill=\"#7bbeee\" stroke=\"#000000\" points=\"573.5,-149.5 474.5,-149.5 474.5,-96.5 573.5,-96.5 573.5,-149.5\"/>\n<text text-anchor=\"middle\" x=\"524\" y=\"-134.3\" font-family=\"Helvetica,sans-Serif\" font-size=\"14.00\" fill=\"#000000\">samples = 8</text>\n<text text-anchor=\"middle\" x=\"524\" y=\"-119.3\" font-family=\"Helvetica,sans-Serif\" font-size=\"14.00\" fill=\"#000000\">value = [2, 6]</text>\n<text text-anchor=\"middle\" x=\"524\" y=\"-104.3\" font-family=\"Helvetica,sans-Serif\" font-size=\"14.00\" fill=\"#000000\">class = 1</text>\n</g>\n<!-- 8&#45;&gt;10 -->\n<g id=\"edge10\" class=\"edge\">\n<title>8&#45;&gt;10</title>\n<path fill=\"none\" stroke=\"#000000\" d=\"M447.3279,-192.9465C460.1263,-181.2707 474.433,-168.219 487.1901,-156.5809\"/>\n<polygon fill=\"#000000\" stroke=\"#000000\" points=\"489.8769,-158.8675 494.9057,-149.5422 485.1591,-153.6961 489.8769,-158.8675\"/>\n</g>\n<!-- 12 -->\n<g id=\"node13\" class=\"node\">\n<title>12</title>\n<polygon fill=\"#61b1ea\" stroke=\"#000000\" points=\"636.5,-253.5 537.5,-253.5 537.5,-200.5 636.5,-200.5 636.5,-253.5\"/>\n<text text-anchor=\"middle\" x=\"587\" y=\"-238.3\" font-family=\"Helvetica,sans-Serif\" font-size=\"14.00\" fill=\"#000000\">samples = 6</text>\n<text text-anchor=\"middle\" x=\"587\" y=\"-223.3\" font-family=\"Helvetica,sans-Serif\" font-size=\"14.00\" fill=\"#000000\">value = [1, 5]</text>\n<text text-anchor=\"middle\" x=\"587\" y=\"-208.3\" font-family=\"Helvetica,sans-Serif\" font-size=\"14.00\" fill=\"#000000\">class = 1</text>\n</g>\n<!-- 11&#45;&gt;12 -->\n<g id=\"edge12\" class=\"edge\">\n<title>11&#45;&gt;12</title>\n<path fill=\"none\" stroke=\"#000000\" d=\"M597.0884,-296.9465C595.5474,-286.2621 593.8402,-274.4254 592.2751,-263.5742\"/>\n<polygon fill=\"#000000\" stroke=\"#000000\" points=\"595.72,-262.9401 590.8282,-253.5422 588.7917,-263.9394 595.72,-262.9401\"/>\n</g>\n<!-- 13 -->\n<g id=\"node14\" class=\"node\">\n<title>13</title>\n<polygon fill=\"#399de5\" stroke=\"#000000\" points=\"753.5,-253.5 654.5,-253.5 654.5,-200.5 753.5,-200.5 753.5,-253.5\"/>\n<text text-anchor=\"middle\" x=\"704\" y=\"-238.3\" font-family=\"Helvetica,sans-Serif\" font-size=\"14.00\" fill=\"#000000\">samples = 8</text>\n<text text-anchor=\"middle\" x=\"704\" y=\"-223.3\" font-family=\"Helvetica,sans-Serif\" font-size=\"14.00\" fill=\"#000000\">value = [0, 8]</text>\n<text text-anchor=\"middle\" x=\"704\" y=\"-208.3\" font-family=\"Helvetica,sans-Serif\" font-size=\"14.00\" fill=\"#000000\">class = 1</text>\n</g>\n<!-- 11&#45;&gt;13 -->\n<g id=\"edge13\" class=\"edge\">\n<title>11&#45;&gt;13</title>\n<path fill=\"none\" stroke=\"#000000\" d=\"M635.3986,-296.9465C646.7418,-285.3809 659.4092,-272.4652 670.7415,-260.9107\"/>\n<polygon fill=\"#000000\" stroke=\"#000000\" points=\"673.4649,-263.1323 677.9683,-253.5422 668.4674,-258.2308 673.4649,-263.1323\"/>\n</g>\n<!-- 15 -->\n<g id=\"node16\" class=\"node\">\n<title>15</title>\n<polygon fill=\"#f2c09c\" stroke=\"#000000\" points=\"815.5,-357.5 716.5,-357.5 716.5,-304.5 815.5,-304.5 815.5,-357.5\"/>\n<text text-anchor=\"middle\" x=\"766\" y=\"-342.3\" font-family=\"Helvetica,sans-Serif\" font-size=\"14.00\" fill=\"#000000\">samples = 6</text>\n<text text-anchor=\"middle\" x=\"766\" y=\"-327.3\" font-family=\"Helvetica,sans-Serif\" font-size=\"14.00\" fill=\"#000000\">value = [4, 2]</text>\n<text text-anchor=\"middle\" x=\"766\" y=\"-312.3\" font-family=\"Helvetica,sans-Serif\" font-size=\"14.00\" fill=\"#000000\">class = 0</text>\n</g>\n<!-- 14&#45;&gt;15 -->\n<g id=\"edge15\" class=\"edge\">\n<title>14&#45;&gt;15</title>\n<path fill=\"none\" stroke=\"#000000\" d=\"M767.3451,-400.9465C767.1397,-390.2621 766.912,-378.4254 766.7034,-367.5742\"/>\n<polygon fill=\"#000000\" stroke=\"#000000\" points=\"770.2021,-367.473 766.5104,-357.5422 763.2034,-367.6076 770.2021,-367.473\"/>\n</g>\n<!-- 16 -->\n<g id=\"node17\" class=\"node\">\n<title>16</title>\n<polygon fill=\"#43a2e6\" stroke=\"#000000\" points=\"990.5,-365 833.5,-365 833.5,-297 990.5,-297 990.5,-365\"/>\n<text text-anchor=\"middle\" x=\"912\" y=\"-349.8\" font-family=\"Helvetica,sans-Serif\" font-size=\"14.00\" fill=\"#000000\">Bare_Nuclei &lt;= 0.262</text>\n<text text-anchor=\"middle\" x=\"912\" y=\"-334.8\" font-family=\"Helvetica,sans-Serif\" font-size=\"14.00\" fill=\"#000000\">samples = 163</text>\n<text text-anchor=\"middle\" x=\"912\" y=\"-319.8\" font-family=\"Helvetica,sans-Serif\" font-size=\"14.00\" fill=\"#000000\">value = [8, 155]</text>\n<text text-anchor=\"middle\" x=\"912\" y=\"-304.8\" font-family=\"Helvetica,sans-Serif\" font-size=\"14.00\" fill=\"#000000\">class = 1</text>\n</g>\n<!-- 14&#45;&gt;16 -->\n<g id=\"edge16\" class=\"edge\">\n<title>14&#45;&gt;16</title>\n<path fill=\"none\" stroke=\"#000000\" d=\"M815.151,-400.9465C828.3287,-391.4293 842.7722,-380.9978 856.3897,-371.163\"/>\n<polygon fill=\"#000000\" stroke=\"#000000\" points=\"858.6855,-373.8223 864.7431,-365.13 854.587,-368.1476 858.6855,-373.8223\"/>\n</g>\n<!-- 17 -->\n<g id=\"node18\" class=\"node\">\n<title>17</title>\n<polygon fill=\"#6db7ec\" stroke=\"#000000\" points=\"994.5,-261 791.5,-261 791.5,-193 994.5,-193 994.5,-261\"/>\n<text text-anchor=\"middle\" x=\"893\" y=\"-245.8\" font-family=\"Helvetica,sans-Serif\" font-size=\"14.00\" fill=\"#000000\">Marginal_Adhesion &lt;= 0.234</text>\n<text text-anchor=\"middle\" x=\"893\" y=\"-230.8\" font-family=\"Helvetica,sans-Serif\" font-size=\"14.00\" fill=\"#000000\">samples = 29</text>\n<text text-anchor=\"middle\" x=\"893\" y=\"-215.8\" font-family=\"Helvetica,sans-Serif\" font-size=\"14.00\" fill=\"#000000\">value = [6, 23]</text>\n<text text-anchor=\"middle\" x=\"893\" y=\"-200.8\" font-family=\"Helvetica,sans-Serif\" font-size=\"14.00\" fill=\"#000000\">class = 1</text>\n</g>\n<!-- 16&#45;&gt;17 -->\n<g id=\"edge17\" class=\"edge\">\n<title>16&#45;&gt;17</title>\n<path fill=\"none\" stroke=\"#000000\" d=\"M905.7787,-296.9465C904.2696,-288.6863 902.6347,-279.7374 901.0545,-271.0875\"/>\n<polygon fill=\"#000000\" stroke=\"#000000\" points=\"904.4756,-270.3381 899.2353,-261.13 897.5895,-271.5962 904.4756,-270.3381\"/>\n</g>\n<!-- 22 -->\n<g id=\"node23\" class=\"node\">\n<title>22</title>\n<polygon fill=\"#3c9ee5\" stroke=\"#000000\" points=\"1157.5,-261 1012.5,-261 1012.5,-193 1157.5,-193 1157.5,-261\"/>\n<text text-anchor=\"middle\" x=\"1085\" y=\"-245.8\" font-family=\"Helvetica,sans-Serif\" font-size=\"14.00\" fill=\"#000000\">Cell_Shape &lt;= 0.43</text>\n<text text-anchor=\"middle\" x=\"1085\" y=\"-230.8\" font-family=\"Helvetica,sans-Serif\" font-size=\"14.00\" fill=\"#000000\">samples = 134</text>\n<text text-anchor=\"middle\" x=\"1085\" y=\"-215.8\" font-family=\"Helvetica,sans-Serif\" font-size=\"14.00\" fill=\"#000000\">value = [2, 132]</text>\n<text text-anchor=\"middle\" x=\"1085\" y=\"-200.8\" font-family=\"Helvetica,sans-Serif\" font-size=\"14.00\" fill=\"#000000\">class = 1</text>\n</g>\n<!-- 16&#45;&gt;22 -->\n<g id=\"edge22\" class=\"edge\">\n<title>16&#45;&gt;22</title>\n<path fill=\"none\" stroke=\"#000000\" d=\"M968.6467,-296.9465C984.9263,-287.1599 1002.814,-276.4066 1019.577,-266.3294\"/>\n<polygon fill=\"#000000\" stroke=\"#000000\" points=\"1021.4588,-269.282 1028.2261,-261.13 1017.8522,-263.2826 1021.4588,-269.282\"/>\n</g>\n<!-- 18 -->\n<g id=\"node19\" class=\"node\">\n<title>18</title>\n<polygon fill=\"#e3f1fb\" stroke=\"#000000\" points=\"828.5,-157 697.5,-157 697.5,-89 828.5,-89 828.5,-157\"/>\n<text text-anchor=\"middle\" x=\"763\" y=\"-141.8\" font-family=\"Helvetica,sans-Serif\" font-size=\"14.00\" fill=\"#000000\">Cell_Size &lt;= 0.44</text>\n<text text-anchor=\"middle\" x=\"763\" y=\"-126.8\" font-family=\"Helvetica,sans-Serif\" font-size=\"14.00\" fill=\"#000000\">samples = 13</text>\n<text text-anchor=\"middle\" x=\"763\" y=\"-111.8\" font-family=\"Helvetica,sans-Serif\" font-size=\"14.00\" fill=\"#000000\">value = [6, 7]</text>\n<text text-anchor=\"middle\" x=\"763\" y=\"-96.8\" font-family=\"Helvetica,sans-Serif\" font-size=\"14.00\" fill=\"#000000\">class = 1</text>\n</g>\n<!-- 17&#45;&gt;18 -->\n<g id=\"edge18\" class=\"edge\">\n<title>17&#45;&gt;18</title>\n<path fill=\"none\" stroke=\"#000000\" d=\"M850.4331,-192.9465C838.6488,-183.519 825.7432,-173.1946 813.5519,-163.4415\"/>\n<polygon fill=\"#000000\" stroke=\"#000000\" points=\"815.6577,-160.6439 805.6625,-157.13 811.2848,-166.11 815.6577,-160.6439\"/>\n</g>\n<!-- 21 -->\n<g id=\"node22\" class=\"node\">\n<title>21</title>\n<polygon fill=\"#399de5\" stroke=\"#000000\" points=\"953.5,-149.5 846.5,-149.5 846.5,-96.5 953.5,-96.5 953.5,-149.5\"/>\n<text text-anchor=\"middle\" x=\"900\" y=\"-134.3\" font-family=\"Helvetica,sans-Serif\" font-size=\"14.00\" fill=\"#000000\">samples = 16</text>\n<text text-anchor=\"middle\" x=\"900\" y=\"-119.3\" font-family=\"Helvetica,sans-Serif\" font-size=\"14.00\" fill=\"#000000\">value = [0, 16]</text>\n<text text-anchor=\"middle\" x=\"900\" y=\"-104.3\" font-family=\"Helvetica,sans-Serif\" font-size=\"14.00\" fill=\"#000000\">class = 1</text>\n</g>\n<!-- 17&#45;&gt;21 -->\n<g id=\"edge21\" class=\"edge\">\n<title>17&#45;&gt;21</title>\n<path fill=\"none\" stroke=\"#000000\" d=\"M895.2921,-192.9465C896.0112,-182.2621 896.8079,-170.4254 897.5383,-159.5742\"/>\n<polygon fill=\"#000000\" stroke=\"#000000\" points=\"901.034,-159.7547 898.2135,-149.5422 894.0498,-159.2845 901.034,-159.7547\"/>\n</g>\n<!-- 19 -->\n<g id=\"node20\" class=\"node\">\n<title>19</title>\n<polygon fill=\"#ea9a61\" stroke=\"#000000\" points=\"753.5,-53 654.5,-53 654.5,0 753.5,0 753.5,-53\"/>\n<text text-anchor=\"middle\" x=\"704\" y=\"-37.8\" font-family=\"Helvetica,sans-Serif\" font-size=\"14.00\" fill=\"#000000\">samples = 6</text>\n<text text-anchor=\"middle\" x=\"704\" y=\"-22.8\" font-family=\"Helvetica,sans-Serif\" font-size=\"14.00\" fill=\"#000000\">value = [5, 1]</text>\n<text text-anchor=\"middle\" x=\"704\" y=\"-7.8\" font-family=\"Helvetica,sans-Serif\" font-size=\"14.00\" fill=\"#000000\">class = 0</text>\n</g>\n<!-- 18&#45;&gt;19 -->\n<g id=\"edge19\" class=\"edge\">\n<title>18&#45;&gt;19</title>\n<path fill=\"none\" stroke=\"#000000\" d=\"M742.1988,-88.9777C736.8242,-80.187 731.0265,-70.7044 725.6115,-61.8477\"/>\n<polygon fill=\"#000000\" stroke=\"#000000\" points=\"728.5564,-59.9545 720.354,-53.2485 722.5842,-63.6059 728.5564,-59.9545\"/>\n</g>\n<!-- 20 -->\n<g id=\"node21\" class=\"node\">\n<title>20</title>\n<polygon fill=\"#5aade9\" stroke=\"#000000\" points=\"870.5,-53 771.5,-53 771.5,0 870.5,0 870.5,-53\"/>\n<text text-anchor=\"middle\" x=\"821\" y=\"-37.8\" font-family=\"Helvetica,sans-Serif\" font-size=\"14.00\" fill=\"#000000\">samples = 7</text>\n<text text-anchor=\"middle\" x=\"821\" y=\"-22.8\" font-family=\"Helvetica,sans-Serif\" font-size=\"14.00\" fill=\"#000000\">value = [1, 6]</text>\n<text text-anchor=\"middle\" x=\"821\" y=\"-7.8\" font-family=\"Helvetica,sans-Serif\" font-size=\"14.00\" fill=\"#000000\">class = 1</text>\n</g>\n<!-- 18&#45;&gt;20 -->\n<g id=\"edge20\" class=\"edge\">\n<title>18&#45;&gt;20</title>\n<path fill=\"none\" stroke=\"#000000\" d=\"M783.4486,-88.9777C788.7322,-80.187 794.4316,-70.7044 799.7548,-61.8477\"/>\n<polygon fill=\"#000000\" stroke=\"#000000\" points=\"802.7715,-63.6225 804.9232,-53.2485 796.7718,-60.0165 802.7715,-63.6225\"/>\n</g>\n<!-- 23 -->\n<g id=\"node24\" class=\"node\">\n<title>23</title>\n<polygon fill=\"#55abe9\" stroke=\"#000000\" points=\"1174,-157 984,-157 984,-89 1174,-89 1174,-157\"/>\n<text text-anchor=\"middle\" x=\"1079\" y=\"-141.8\" font-family=\"Helvetica,sans-Serif\" font-size=\"14.00\" fill=\"#000000\">Bland_Chromatin &lt;= 1.248</text>\n<text text-anchor=\"middle\" x=\"1079\" y=\"-126.8\" font-family=\"Helvetica,sans-Serif\" font-size=\"14.00\" fill=\"#000000\">samples = 16</text>\n<text text-anchor=\"middle\" x=\"1079\" y=\"-111.8\" font-family=\"Helvetica,sans-Serif\" font-size=\"14.00\" fill=\"#000000\">value = [2, 14]</text>\n<text text-anchor=\"middle\" x=\"1079\" y=\"-96.8\" font-family=\"Helvetica,sans-Serif\" font-size=\"14.00\" fill=\"#000000\">class = 1</text>\n</g>\n<!-- 22&#45;&gt;23 -->\n<g id=\"edge23\" class=\"edge\">\n<title>22&#45;&gt;23</title>\n<path fill=\"none\" stroke=\"#000000\" d=\"M1083.0354,-192.9465C1082.564,-184.776 1082.0538,-175.9318 1081.5598,-167.3697\"/>\n<polygon fill=\"#000000\" stroke=\"#000000\" points=\"1085.0393,-166.9118 1080.969,-157.13 1078.0509,-167.315 1085.0393,-166.9118\"/>\n</g>\n<!-- 26 -->\n<g id=\"node27\" class=\"node\">\n<title>26</title>\n<polygon fill=\"#399de5\" stroke=\"#000000\" points=\"1308,-149.5 1192,-149.5 1192,-96.5 1308,-96.5 1308,-149.5\"/>\n<text text-anchor=\"middle\" x=\"1250\" y=\"-134.3\" font-family=\"Helvetica,sans-Serif\" font-size=\"14.00\" fill=\"#000000\">samples = 118</text>\n<text text-anchor=\"middle\" x=\"1250\" y=\"-119.3\" font-family=\"Helvetica,sans-Serif\" font-size=\"14.00\" fill=\"#000000\">value = [0, 118]</text>\n<text text-anchor=\"middle\" x=\"1250\" y=\"-104.3\" font-family=\"Helvetica,sans-Serif\" font-size=\"14.00\" fill=\"#000000\">class = 1</text>\n</g>\n<!-- 22&#45;&gt;26 -->\n<g id=\"edge26\" class=\"edge\">\n<title>22&#45;&gt;26</title>\n<path fill=\"none\" stroke=\"#000000\" d=\"M1139.0272,-192.9465C1158.4251,-180.72 1180.2166,-166.9847 1199.32,-154.9437\"/>\n<polygon fill=\"#000000\" stroke=\"#000000\" points=\"1201.2964,-157.8353 1207.8898,-149.5422 1197.5638,-151.9135 1201.2964,-157.8353\"/>\n</g>\n<!-- 24 -->\n<g id=\"node25\" class=\"node\">\n<title>24</title>\n<polygon fill=\"#399de5\" stroke=\"#000000\" points=\"1071.5,-53 964.5,-53 964.5,0 1071.5,0 1071.5,-53\"/>\n<text text-anchor=\"middle\" x=\"1018\" y=\"-37.8\" font-family=\"Helvetica,sans-Serif\" font-size=\"14.00\" fill=\"#000000\">samples = 10</text>\n<text text-anchor=\"middle\" x=\"1018\" y=\"-22.8\" font-family=\"Helvetica,sans-Serif\" font-size=\"14.00\" fill=\"#000000\">value = [0, 10]</text>\n<text text-anchor=\"middle\" x=\"1018\" y=\"-7.8\" font-family=\"Helvetica,sans-Serif\" font-size=\"14.00\" fill=\"#000000\">class = 1</text>\n</g>\n<!-- 23&#45;&gt;24 -->\n<g id=\"edge24\" class=\"edge\">\n<title>23&#45;&gt;24</title>\n<path fill=\"none\" stroke=\"#000000\" d=\"M1057.4937,-88.9777C1051.9369,-80.187 1045.9427,-70.7044 1040.3441,-61.8477\"/>\n<polygon fill=\"#000000\" stroke=\"#000000\" points=\"1043.2101,-59.8312 1034.9084,-53.2485 1037.2931,-63.5714 1043.2101,-59.8312\"/>\n</g>\n<!-- 25 -->\n<g id=\"node26\" class=\"node\">\n<title>25</title>\n<polygon fill=\"#9ccef2\" stroke=\"#000000\" points=\"1188.5,-53 1089.5,-53 1089.5,0 1188.5,0 1188.5,-53\"/>\n<text text-anchor=\"middle\" x=\"1139\" y=\"-37.8\" font-family=\"Helvetica,sans-Serif\" font-size=\"14.00\" fill=\"#000000\">samples = 6</text>\n<text text-anchor=\"middle\" x=\"1139\" y=\"-22.8\" font-family=\"Helvetica,sans-Serif\" font-size=\"14.00\" fill=\"#000000\">value = [2, 4]</text>\n<text text-anchor=\"middle\" x=\"1139\" y=\"-7.8\" font-family=\"Helvetica,sans-Serif\" font-size=\"14.00\" fill=\"#000000\">class = 1</text>\n</g>\n<!-- 23&#45;&gt;25 -->\n<g id=\"edge25\" class=\"edge\">\n<title>23&#45;&gt;25</title>\n<path fill=\"none\" stroke=\"#000000\" d=\"M1100.1538,-88.9777C1105.6195,-80.187 1111.5154,-70.7044 1117.0222,-61.8477\"/>\n<polygon fill=\"#000000\" stroke=\"#000000\" points=\"1120.0609,-63.5889 1122.3688,-53.2485 1114.1163,-59.8927 1120.0609,-63.5889\"/>\n</g>\n</g>\n</svg>\n"
          },
          "metadata": {}
        }
      ]
    },
    {
      "cell_type": "markdown",
      "source": [
        "## 3. KNN"
      ],
      "metadata": {
        "id": "q_rERLpqSOyZ"
      }
    },
    {
      "cell_type": "markdown",
      "source": [
        "### Grid Search"
      ],
      "metadata": {
        "id": "8OnpX-SxSU5D"
      }
    },
    {
      "cell_type": "code",
      "source": [
        "from sklearn.neighbors import KNeighborsClassifier\n",
        "knn=KNeighborsClassifier(n_neighbors=3)"
      ],
      "metadata": {
        "id": "CYFspbag0kcd"
      },
      "execution_count": null,
      "outputs": []
    },
    {
      "cell_type": "code",
      "source": [
        "from sklearn.model_selection import GridSearchCV\n",
        "from sklearn.neighbors import KNeighborsClassifier\n",
        "param_grid={'n_neighbors': [1,2,3,4,5,6,7,8,9,10,11,12,13,14,15,16,17,18,19,20]}\n",
        "grid_search=GridSearchCV(KNeighborsClassifier(), param_grid, cv=5, return_train_score=True)\n",
        "grid_search.fit(X_train, y_train)"
      ],
      "metadata": {
        "colab": {
          "base_uri": "https://localhost:8080/"
        },
        "id": "66zPncef0viY",
        "outputId": "71e895de-46e9-4319-a973-58e08d13a4f1"
      },
      "execution_count": null,
      "outputs": [
        {
          "output_type": "execute_result",
          "data": {
            "text/plain": [
              "GridSearchCV(cv=5, estimator=KNeighborsClassifier(),\n",
              "             param_grid={'n_neighbors': [1, 2, 3, 4, 5, 6, 7, 8, 9, 10, 11, 12,\n",
              "                                         13, 14, 15, 16, 17, 18, 19, 20]},\n",
              "             return_train_score=True)"
            ]
          },
          "metadata": {},
          "execution_count": 45
        }
      ]
    },
    {
      "cell_type": "code",
      "source": [
        "print(\"Best Parameter: {}\".format(grid_search.best_params_))\n",
        "# test_size = 0.6 일 때는 6\n",
        "# 0.5 일 때는 8\n",
        "# 0.4 일 때 8\n",
        "# 0.3 일 때 4 \n",
        "# 0.25 일 때 3\n",
        "# 0.2 일 때 6"
      ],
      "metadata": {
        "colab": {
          "base_uri": "https://localhost:8080/"
        },
        "id": "HY93XIJt03lY",
        "outputId": "42567c72-8073-4d2f-a709-444cc80cdb92"
      },
      "execution_count": null,
      "outputs": [
        {
          "output_type": "stream",
          "name": "stdout",
          "text": [
            "Best Parameter: {'n_neighbors': 3}\n"
          ]
        }
      ]
    },
    {
      "cell_type": "code",
      "source": [
        "print(\"Best Cross-validity Score: {:.3f}\".format(grid_search.best_score_))\n",
        "# test_size = 0.6 일 때는 0.836\n",
        "# 0.5 일 때는 0.835\n",
        "# 0.4 일 때 0.842\n",
        "# 0.3 일 때 0.837 \n",
        "# 0.25 일 때 0.842\n",
        "# 0.2 일 때 0.839"
      ],
      "metadata": {
        "colab": {
          "base_uri": "https://localhost:8080/"
        },
        "id": "fs--Q7sI05yO",
        "outputId": "df3d74e3-2397-497c-a4a0-86b74b4b248c"
      },
      "execution_count": null,
      "outputs": [
        {
          "output_type": "stream",
          "name": "stdout",
          "text": [
            "Best Cross-validity Score: 0.982\n"
          ]
        }
      ]
    },
    {
      "cell_type": "code",
      "source": [
        "print(\"Test set Score: {:.3f}\".format(grid_search.score(X_test, y_test)))\n",
        "# test_size = 0.6 일 때는 0.827\n",
        "# 0.5 일 때는 0.825\n",
        "# 0.4 일 때 0.822\n",
        "# 0.3 일 때 0.809 \n",
        "# 0.25 일 때 0.816\n",
        "# 0.2 일 때 0.81"
      ],
      "metadata": {
        "colab": {
          "base_uri": "https://localhost:8080/"
        },
        "id": "zAHoPC6v07ch",
        "outputId": "ffd0f1ee-ddec-44b4-8cbc-44102562b81b"
      },
      "execution_count": null,
      "outputs": [
        {
          "output_type": "stream",
          "name": "stdout",
          "text": [
            "Test set Score: 0.942\n"
          ]
        }
      ]
    },
    {
      "cell_type": "code",
      "source": [
        "result_grid= pd.DataFrame(grid_search.cv_results_)"
      ],
      "metadata": {
        "id": "jdilqH7e0810"
      },
      "execution_count": null,
      "outputs": []
    },
    {
      "cell_type": "markdown",
      "source": [
        "### Random Search"
      ],
      "metadata": {
        "id": "0-stw4Z2Sb0f"
      }
    },
    {
      "cell_type": "code",
      "source": [
        "from sklearn.model_selection import RandomizedSearchCV\n",
        "from scipy.stats import randint"
      ],
      "metadata": {
        "id": "2watvXEu1BUC"
      },
      "execution_count": null,
      "outputs": []
    },
    {
      "cell_type": "code",
      "source": [
        "param_distribs = {'n_neighbors': randint(low=1, high=20)}\n",
        "random_search=RandomizedSearchCV(KNeighborsClassifier(), param_distributions=param_distribs, cv=5, return_train_score=True)\n",
        "random_search.fit(X_train, y_train)"
      ],
      "metadata": {
        "colab": {
          "base_uri": "https://localhost:8080/"
        },
        "id": "pL4KujqM1Q8e",
        "outputId": "664fdf12-622b-4eaf-be5d-77ba88664630"
      },
      "execution_count": null,
      "outputs": [
        {
          "output_type": "execute_result",
          "data": {
            "text/plain": [
              "RandomizedSearchCV(cv=5, estimator=KNeighborsClassifier(),\n",
              "                   param_distributions={'n_neighbors': <scipy.stats._distn_infrastructure.rv_frozen object at 0x7f15fd5d18e0>},\n",
              "                   return_train_score=True)"
            ]
          },
          "metadata": {},
          "execution_count": 51
        }
      ]
    },
    {
      "cell_type": "code",
      "source": [
        "print(\"Best Parameter: {}\".format(random_search.best_params_))\n",
        "print(\"Best Cross-validity Score: {:.3f}\".format(random_search.best_score_))\n",
        "print(\"Test set Score: {:.3f}\".format(random_search.score(X_test, y_test)))"
      ],
      "metadata": {
        "colab": {
          "base_uri": "https://localhost:8080/"
        },
        "id": "QnQKd3Gt1VCj",
        "outputId": "11f83bb5-c8cc-4105-892e-ba5f235f76f7"
      },
      "execution_count": null,
      "outputs": [
        {
          "output_type": "stream",
          "name": "stdout",
          "text": [
            "Best Parameter: {'n_neighbors': 8}\n",
            "Best Cross-validity Score: 0.977\n",
            "Test set Score: 0.953\n"
          ]
        }
      ]
    },
    {
      "cell_type": "code",
      "source": [
        "result_random = random_search.cv_results_\n",
        "pd.DataFrame(result_random)"
      ],
      "metadata": {
        "colab": {
          "base_uri": "https://localhost:8080/",
          "height": 630
        },
        "id": "EmGFvl6n1cFC",
        "outputId": "18ecc71f-6326-4908-ed4e-e8032e542675"
      },
      "execution_count": null,
      "outputs": [
        {
          "output_type": "execute_result",
          "data": {
            "text/plain": [
              "   mean_fit_time  std_fit_time  mean_score_time  std_score_time  \\\n",
              "0       0.016916      0.006310         0.026234        0.010805   \n",
              "1       0.004083      0.002728         0.030297        0.012510   \n",
              "2       0.004057      0.003737         0.017390        0.008511   \n",
              "3       0.004660      0.004928         0.024188        0.010230   \n",
              "4       0.005032      0.003751         0.016924        0.007774   \n",
              "5       0.001901      0.000199         0.015038        0.007332   \n",
              "6       0.002794      0.001666         0.014810        0.004028   \n",
              "7       0.002713      0.001629         0.008441        0.000814   \n",
              "8       0.001825      0.000089         0.007702        0.000985   \n",
              "9       0.003329      0.002970         0.011097        0.005984   \n",
              "\n",
              "  param_n_neighbors               params  split0_test_score  \\\n",
              "0                 7   {'n_neighbors': 7}           0.990291   \n",
              "1                 2   {'n_neighbors': 2}           1.000000   \n",
              "2                19  {'n_neighbors': 19}           0.990291   \n",
              "3                19  {'n_neighbors': 19}           0.990291   \n",
              "4                15  {'n_neighbors': 15}           0.990291   \n",
              "5                 2   {'n_neighbors': 2}           1.000000   \n",
              "6                13  {'n_neighbors': 13}           0.990291   \n",
              "7                12  {'n_neighbors': 12}           0.990291   \n",
              "8                 8   {'n_neighbors': 8}           0.990291   \n",
              "9                 2   {'n_neighbors': 2}           1.000000   \n",
              "\n",
              "   split1_test_score  split2_test_score  split3_test_score  ...  \\\n",
              "0           0.980583           0.970588           0.980392  ...   \n",
              "1           0.990291           0.950980           0.950980  ...   \n",
              "2           0.980583           0.970588           0.970588  ...   \n",
              "3           0.980583           0.970588           0.970588  ...   \n",
              "4           0.990291           0.970588           0.970588  ...   \n",
              "5           0.990291           0.950980           0.950980  ...   \n",
              "6           0.980583           0.970588           0.970588  ...   \n",
              "7           0.990291           0.970588           0.970588  ...   \n",
              "8           0.990291           0.970588           0.980392  ...   \n",
              "9           0.990291           0.950980           0.950980  ...   \n",
              "\n",
              "   mean_test_score  std_test_score  rank_test_score  split0_train_score  \\\n",
              "0         0.974567        0.013338                2            0.977995   \n",
              "1         0.960803        0.031634                8            0.968215   \n",
              "2         0.972606        0.013055                4            0.968215   \n",
              "3         0.972606        0.013055                4            0.968215   \n",
              "4         0.974548        0.014714                3            0.968215   \n",
              "5         0.960803        0.031634                8            0.968215   \n",
              "6         0.972606        0.013055                4            0.970660   \n",
              "7         0.972587        0.018008                7            0.968215   \n",
              "8         0.976509        0.014709                1            0.973105   \n",
              "9         0.960803        0.031634                8            0.968215   \n",
              "\n",
              "   split1_train_score  split2_train_score  split3_train_score  \\\n",
              "0            0.977995            0.980488            0.980488   \n",
              "1            0.970660            0.973171            0.985366   \n",
              "2            0.968215            0.973171            0.968293   \n",
              "3            0.968215            0.973171            0.968293   \n",
              "4            0.968215            0.973171            0.973171   \n",
              "5            0.970660            0.973171            0.985366   \n",
              "6            0.968215            0.973171            0.973171   \n",
              "7            0.968215            0.975610            0.973171   \n",
              "8            0.973105            0.978049            0.978049   \n",
              "9            0.970660            0.973171            0.985366   \n",
              "\n",
              "   split4_train_score  mean_train_score  std_train_score  \n",
              "0            0.985366          0.980466         0.002691  \n",
              "1            0.982927          0.976068         0.006823  \n",
              "2            0.980488          0.971676         0.004802  \n",
              "3            0.980488          0.971676         0.004802  \n",
              "4            0.978049          0.972164         0.003684  \n",
              "5            0.982927          0.976068         0.006823  \n",
              "6            0.985366          0.974117         0.005918  \n",
              "7            0.982927          0.973628         0.005463  \n",
              "8            0.982927          0.977047         0.003678  \n",
              "9            0.982927          0.976068         0.006823  \n",
              "\n",
              "[10 rows x 21 columns]"
            ],
            "text/html": [
              "\n",
              "  <div id=\"df-3e38fc97-b8c7-40bb-8a0d-99bfe00ee5fb\">\n",
              "    <div class=\"colab-df-container\">\n",
              "      <div>\n",
              "<style scoped>\n",
              "    .dataframe tbody tr th:only-of-type {\n",
              "        vertical-align: middle;\n",
              "    }\n",
              "\n",
              "    .dataframe tbody tr th {\n",
              "        vertical-align: top;\n",
              "    }\n",
              "\n",
              "    .dataframe thead th {\n",
              "        text-align: right;\n",
              "    }\n",
              "</style>\n",
              "<table border=\"1\" class=\"dataframe\">\n",
              "  <thead>\n",
              "    <tr style=\"text-align: right;\">\n",
              "      <th></th>\n",
              "      <th>mean_fit_time</th>\n",
              "      <th>std_fit_time</th>\n",
              "      <th>mean_score_time</th>\n",
              "      <th>std_score_time</th>\n",
              "      <th>param_n_neighbors</th>\n",
              "      <th>params</th>\n",
              "      <th>split0_test_score</th>\n",
              "      <th>split1_test_score</th>\n",
              "      <th>split2_test_score</th>\n",
              "      <th>split3_test_score</th>\n",
              "      <th>...</th>\n",
              "      <th>mean_test_score</th>\n",
              "      <th>std_test_score</th>\n",
              "      <th>rank_test_score</th>\n",
              "      <th>split0_train_score</th>\n",
              "      <th>split1_train_score</th>\n",
              "      <th>split2_train_score</th>\n",
              "      <th>split3_train_score</th>\n",
              "      <th>split4_train_score</th>\n",
              "      <th>mean_train_score</th>\n",
              "      <th>std_train_score</th>\n",
              "    </tr>\n",
              "  </thead>\n",
              "  <tbody>\n",
              "    <tr>\n",
              "      <th>0</th>\n",
              "      <td>0.016916</td>\n",
              "      <td>0.006310</td>\n",
              "      <td>0.026234</td>\n",
              "      <td>0.010805</td>\n",
              "      <td>7</td>\n",
              "      <td>{'n_neighbors': 7}</td>\n",
              "      <td>0.990291</td>\n",
              "      <td>0.980583</td>\n",
              "      <td>0.970588</td>\n",
              "      <td>0.980392</td>\n",
              "      <td>...</td>\n",
              "      <td>0.974567</td>\n",
              "      <td>0.013338</td>\n",
              "      <td>2</td>\n",
              "      <td>0.977995</td>\n",
              "      <td>0.977995</td>\n",
              "      <td>0.980488</td>\n",
              "      <td>0.980488</td>\n",
              "      <td>0.985366</td>\n",
              "      <td>0.980466</td>\n",
              "      <td>0.002691</td>\n",
              "    </tr>\n",
              "    <tr>\n",
              "      <th>1</th>\n",
              "      <td>0.004083</td>\n",
              "      <td>0.002728</td>\n",
              "      <td>0.030297</td>\n",
              "      <td>0.012510</td>\n",
              "      <td>2</td>\n",
              "      <td>{'n_neighbors': 2}</td>\n",
              "      <td>1.000000</td>\n",
              "      <td>0.990291</td>\n",
              "      <td>0.950980</td>\n",
              "      <td>0.950980</td>\n",
              "      <td>...</td>\n",
              "      <td>0.960803</td>\n",
              "      <td>0.031634</td>\n",
              "      <td>8</td>\n",
              "      <td>0.968215</td>\n",
              "      <td>0.970660</td>\n",
              "      <td>0.973171</td>\n",
              "      <td>0.985366</td>\n",
              "      <td>0.982927</td>\n",
              "      <td>0.976068</td>\n",
              "      <td>0.006823</td>\n",
              "    </tr>\n",
              "    <tr>\n",
              "      <th>2</th>\n",
              "      <td>0.004057</td>\n",
              "      <td>0.003737</td>\n",
              "      <td>0.017390</td>\n",
              "      <td>0.008511</td>\n",
              "      <td>19</td>\n",
              "      <td>{'n_neighbors': 19}</td>\n",
              "      <td>0.990291</td>\n",
              "      <td>0.980583</td>\n",
              "      <td>0.970588</td>\n",
              "      <td>0.970588</td>\n",
              "      <td>...</td>\n",
              "      <td>0.972606</td>\n",
              "      <td>0.013055</td>\n",
              "      <td>4</td>\n",
              "      <td>0.968215</td>\n",
              "      <td>0.968215</td>\n",
              "      <td>0.973171</td>\n",
              "      <td>0.968293</td>\n",
              "      <td>0.980488</td>\n",
              "      <td>0.971676</td>\n",
              "      <td>0.004802</td>\n",
              "    </tr>\n",
              "    <tr>\n",
              "      <th>3</th>\n",
              "      <td>0.004660</td>\n",
              "      <td>0.004928</td>\n",
              "      <td>0.024188</td>\n",
              "      <td>0.010230</td>\n",
              "      <td>19</td>\n",
              "      <td>{'n_neighbors': 19}</td>\n",
              "      <td>0.990291</td>\n",
              "      <td>0.980583</td>\n",
              "      <td>0.970588</td>\n",
              "      <td>0.970588</td>\n",
              "      <td>...</td>\n",
              "      <td>0.972606</td>\n",
              "      <td>0.013055</td>\n",
              "      <td>4</td>\n",
              "      <td>0.968215</td>\n",
              "      <td>0.968215</td>\n",
              "      <td>0.973171</td>\n",
              "      <td>0.968293</td>\n",
              "      <td>0.980488</td>\n",
              "      <td>0.971676</td>\n",
              "      <td>0.004802</td>\n",
              "    </tr>\n",
              "    <tr>\n",
              "      <th>4</th>\n",
              "      <td>0.005032</td>\n",
              "      <td>0.003751</td>\n",
              "      <td>0.016924</td>\n",
              "      <td>0.007774</td>\n",
              "      <td>15</td>\n",
              "      <td>{'n_neighbors': 15}</td>\n",
              "      <td>0.990291</td>\n",
              "      <td>0.990291</td>\n",
              "      <td>0.970588</td>\n",
              "      <td>0.970588</td>\n",
              "      <td>...</td>\n",
              "      <td>0.974548</td>\n",
              "      <td>0.014714</td>\n",
              "      <td>3</td>\n",
              "      <td>0.968215</td>\n",
              "      <td>0.968215</td>\n",
              "      <td>0.973171</td>\n",
              "      <td>0.973171</td>\n",
              "      <td>0.978049</td>\n",
              "      <td>0.972164</td>\n",
              "      <td>0.003684</td>\n",
              "    </tr>\n",
              "    <tr>\n",
              "      <th>5</th>\n",
              "      <td>0.001901</td>\n",
              "      <td>0.000199</td>\n",
              "      <td>0.015038</td>\n",
              "      <td>0.007332</td>\n",
              "      <td>2</td>\n",
              "      <td>{'n_neighbors': 2}</td>\n",
              "      <td>1.000000</td>\n",
              "      <td>0.990291</td>\n",
              "      <td>0.950980</td>\n",
              "      <td>0.950980</td>\n",
              "      <td>...</td>\n",
              "      <td>0.960803</td>\n",
              "      <td>0.031634</td>\n",
              "      <td>8</td>\n",
              "      <td>0.968215</td>\n",
              "      <td>0.970660</td>\n",
              "      <td>0.973171</td>\n",
              "      <td>0.985366</td>\n",
              "      <td>0.982927</td>\n",
              "      <td>0.976068</td>\n",
              "      <td>0.006823</td>\n",
              "    </tr>\n",
              "    <tr>\n",
              "      <th>6</th>\n",
              "      <td>0.002794</td>\n",
              "      <td>0.001666</td>\n",
              "      <td>0.014810</td>\n",
              "      <td>0.004028</td>\n",
              "      <td>13</td>\n",
              "      <td>{'n_neighbors': 13}</td>\n",
              "      <td>0.990291</td>\n",
              "      <td>0.980583</td>\n",
              "      <td>0.970588</td>\n",
              "      <td>0.970588</td>\n",
              "      <td>...</td>\n",
              "      <td>0.972606</td>\n",
              "      <td>0.013055</td>\n",
              "      <td>4</td>\n",
              "      <td>0.970660</td>\n",
              "      <td>0.968215</td>\n",
              "      <td>0.973171</td>\n",
              "      <td>0.973171</td>\n",
              "      <td>0.985366</td>\n",
              "      <td>0.974117</td>\n",
              "      <td>0.005918</td>\n",
              "    </tr>\n",
              "    <tr>\n",
              "      <th>7</th>\n",
              "      <td>0.002713</td>\n",
              "      <td>0.001629</td>\n",
              "      <td>0.008441</td>\n",
              "      <td>0.000814</td>\n",
              "      <td>12</td>\n",
              "      <td>{'n_neighbors': 12}</td>\n",
              "      <td>0.990291</td>\n",
              "      <td>0.990291</td>\n",
              "      <td>0.970588</td>\n",
              "      <td>0.970588</td>\n",
              "      <td>...</td>\n",
              "      <td>0.972587</td>\n",
              "      <td>0.018008</td>\n",
              "      <td>7</td>\n",
              "      <td>0.968215</td>\n",
              "      <td>0.968215</td>\n",
              "      <td>0.975610</td>\n",
              "      <td>0.973171</td>\n",
              "      <td>0.982927</td>\n",
              "      <td>0.973628</td>\n",
              "      <td>0.005463</td>\n",
              "    </tr>\n",
              "    <tr>\n",
              "      <th>8</th>\n",
              "      <td>0.001825</td>\n",
              "      <td>0.000089</td>\n",
              "      <td>0.007702</td>\n",
              "      <td>0.000985</td>\n",
              "      <td>8</td>\n",
              "      <td>{'n_neighbors': 8}</td>\n",
              "      <td>0.990291</td>\n",
              "      <td>0.990291</td>\n",
              "      <td>0.970588</td>\n",
              "      <td>0.980392</td>\n",
              "      <td>...</td>\n",
              "      <td>0.976509</td>\n",
              "      <td>0.014709</td>\n",
              "      <td>1</td>\n",
              "      <td>0.973105</td>\n",
              "      <td>0.973105</td>\n",
              "      <td>0.978049</td>\n",
              "      <td>0.978049</td>\n",
              "      <td>0.982927</td>\n",
              "      <td>0.977047</td>\n",
              "      <td>0.003678</td>\n",
              "    </tr>\n",
              "    <tr>\n",
              "      <th>9</th>\n",
              "      <td>0.003329</td>\n",
              "      <td>0.002970</td>\n",
              "      <td>0.011097</td>\n",
              "      <td>0.005984</td>\n",
              "      <td>2</td>\n",
              "      <td>{'n_neighbors': 2}</td>\n",
              "      <td>1.000000</td>\n",
              "      <td>0.990291</td>\n",
              "      <td>0.950980</td>\n",
              "      <td>0.950980</td>\n",
              "      <td>...</td>\n",
              "      <td>0.960803</td>\n",
              "      <td>0.031634</td>\n",
              "      <td>8</td>\n",
              "      <td>0.968215</td>\n",
              "      <td>0.970660</td>\n",
              "      <td>0.973171</td>\n",
              "      <td>0.985366</td>\n",
              "      <td>0.982927</td>\n",
              "      <td>0.976068</td>\n",
              "      <td>0.006823</td>\n",
              "    </tr>\n",
              "  </tbody>\n",
              "</table>\n",
              "<p>10 rows × 21 columns</p>\n",
              "</div>\n",
              "      <button class=\"colab-df-convert\" onclick=\"convertToInteractive('df-3e38fc97-b8c7-40bb-8a0d-99bfe00ee5fb')\"\n",
              "              title=\"Convert this dataframe to an interactive table.\"\n",
              "              style=\"display:none;\">\n",
              "        \n",
              "  <svg xmlns=\"http://www.w3.org/2000/svg\" height=\"24px\"viewBox=\"0 0 24 24\"\n",
              "       width=\"24px\">\n",
              "    <path d=\"M0 0h24v24H0V0z\" fill=\"none\"/>\n",
              "    <path d=\"M18.56 5.44l.94 2.06.94-2.06 2.06-.94-2.06-.94-.94-2.06-.94 2.06-2.06.94zm-11 1L8.5 8.5l.94-2.06 2.06-.94-2.06-.94L8.5 2.5l-.94 2.06-2.06.94zm10 10l.94 2.06.94-2.06 2.06-.94-2.06-.94-.94-2.06-.94 2.06-2.06.94z\"/><path d=\"M17.41 7.96l-1.37-1.37c-.4-.4-.92-.59-1.43-.59-.52 0-1.04.2-1.43.59L10.3 9.45l-7.72 7.72c-.78.78-.78 2.05 0 2.83L4 21.41c.39.39.9.59 1.41.59.51 0 1.02-.2 1.41-.59l7.78-7.78 2.81-2.81c.8-.78.8-2.07 0-2.86zM5.41 20L4 18.59l7.72-7.72 1.47 1.35L5.41 20z\"/>\n",
              "  </svg>\n",
              "      </button>\n",
              "      \n",
              "  <style>\n",
              "    .colab-df-container {\n",
              "      display:flex;\n",
              "      flex-wrap:wrap;\n",
              "      gap: 12px;\n",
              "    }\n",
              "\n",
              "    .colab-df-convert {\n",
              "      background-color: #E8F0FE;\n",
              "      border: none;\n",
              "      border-radius: 50%;\n",
              "      cursor: pointer;\n",
              "      display: none;\n",
              "      fill: #1967D2;\n",
              "      height: 32px;\n",
              "      padding: 0 0 0 0;\n",
              "      width: 32px;\n",
              "    }\n",
              "\n",
              "    .colab-df-convert:hover {\n",
              "      background-color: #E2EBFA;\n",
              "      box-shadow: 0px 1px 2px rgba(60, 64, 67, 0.3), 0px 1px 3px 1px rgba(60, 64, 67, 0.15);\n",
              "      fill: #174EA6;\n",
              "    }\n",
              "\n",
              "    [theme=dark] .colab-df-convert {\n",
              "      background-color: #3B4455;\n",
              "      fill: #D2E3FC;\n",
              "    }\n",
              "\n",
              "    [theme=dark] .colab-df-convert:hover {\n",
              "      background-color: #434B5C;\n",
              "      box-shadow: 0px 1px 3px 1px rgba(0, 0, 0, 0.15);\n",
              "      filter: drop-shadow(0px 1px 2px rgba(0, 0, 0, 0.3));\n",
              "      fill: #FFFFFF;\n",
              "    }\n",
              "  </style>\n",
              "\n",
              "      <script>\n",
              "        const buttonEl =\n",
              "          document.querySelector('#df-3e38fc97-b8c7-40bb-8a0d-99bfe00ee5fb button.colab-df-convert');\n",
              "        buttonEl.style.display =\n",
              "          google.colab.kernel.accessAllowed ? 'block' : 'none';\n",
              "\n",
              "        async function convertToInteractive(key) {\n",
              "          const element = document.querySelector('#df-3e38fc97-b8c7-40bb-8a0d-99bfe00ee5fb');\n",
              "          const dataTable =\n",
              "            await google.colab.kernel.invokeFunction('convertToInteractive',\n",
              "                                                     [key], {});\n",
              "          if (!dataTable) return;\n",
              "\n",
              "          const docLinkHtml = 'Like what you see? Visit the ' +\n",
              "            '<a target=\"_blank\" href=https://colab.research.google.com/notebooks/data_table.ipynb>data table notebook</a>'\n",
              "            + ' to learn more about interactive tables.';\n",
              "          element.innerHTML = '';\n",
              "          dataTable['output_type'] = 'display_data';\n",
              "          await google.colab.output.renderOutput(dataTable, element);\n",
              "          const docLink = document.createElement('div');\n",
              "          docLink.innerHTML = docLinkHtml;\n",
              "          element.appendChild(docLink);\n",
              "        }\n",
              "      </script>\n",
              "    </div>\n",
              "  </div>\n",
              "  "
            ]
          },
          "metadata": {},
          "execution_count": 53
        }
      ]
    },
    {
      "cell_type": "code",
      "source": [
        "import matplotlib.pyplot as plt\n",
        "plt.plot(result_random['param_n_neighbors'], result_random['mean_train_score'], label=\"Train\")\n",
        "plt.plot(result_random['param_n_neighbors'], result_random['mean_test_score'], label=\"Test\")\n",
        "plt.legend()"
      ],
      "metadata": {
        "colab": {
          "base_uri": "https://localhost:8080/",
          "height": 283
        },
        "id": "CAJ0D4iW1f8y",
        "outputId": "eb73c90f-f4a4-481a-eb0f-52860de55ed2"
      },
      "execution_count": null,
      "outputs": [
        {
          "output_type": "execute_result",
          "data": {
            "text/plain": [
              "<matplotlib.legend.Legend at 0x7f15fd6911f0>"
            ]
          },
          "metadata": {},
          "execution_count": 54
        },
        {
          "output_type": "display_data",
          "data": {
            "text/plain": [
              "<Figure size 432x288 with 1 Axes>"
            ],
            "image/png": "[encoded data removed]"
          },
          "metadata": {
            "needs_background": "light"
          }
        }
      ]
    },
    {
      "cell_type": "markdown",
      "source": [
        "### 모델평가"
      ],
      "metadata": {
        "id": "PZTjGg7I152r"
      }
    },
    {
      "cell_type": "code",
      "source": [
        "from sklearn.neighbors import KNeighborsClassifier"
      ],
      "metadata": {
        "id": "T7m9GvTK1g7a"
      },
      "execution_count": null,
      "outputs": []
    },
    {
      "cell_type": "code",
      "source": [
        "knn_best=KNeighborsClassifier(n_neighbors=8)"
      ],
      "metadata": {
        "id": "SquOfWiN18OX"
      },
      "execution_count": null,
      "outputs": []
    },
    {
      "cell_type": "code",
      "source": [
        "knn_best.fit(X_train, y_train)\n",
        "from sklearn.metrics import confusion_matrix\n",
        "# Confusion matrix에서\n",
        "pred_train=knn_best.predict(X_train) \n",
        "confusion_train=confusion_matrix(y_train, pred_train)\n",
        "print(\"훈련데이터 오차행렬:\\n\", confusion_train)"
      ],
      "metadata": {
        "colab": {
          "base_uri": "https://localhost:8080/"
        },
        "id": "ORUIJM-K19Ty",
        "outputId": "bf0274d1-119e-4c99-f702-d7cb7381e0cd"
      },
      "execution_count": null,
      "outputs": [
        {
          "output_type": "stream",
          "name": "stdout",
          "text": [
            "훈련데이터 오차행렬:\n",
            " [[330   3]\n",
            " [  8 171]]\n"
          ]
        }
      ]
    },
    {
      "cell_type": "code",
      "source": [
        "pred_test=knn_best.predict(X_test)\n",
        "confusion_test=confusion_matrix(y_test, pred_test)\n",
        "print(\"테스트데이터 오차행렬:\\n\", confusion_test)\n"
      ],
      "metadata": {
        "colab": {
          "base_uri": "https://localhost:8080/"
        },
        "id": "RBnOhKJV2CNu",
        "outputId": "b20dffee-ab8a-4ca7-9bae-7b3882f405fb"
      },
      "execution_count": null,
      "outputs": [
        {
          "output_type": "stream",
          "name": "stdout",
          "text": [
            "테스트데이터 오차행렬:\n",
            " [[106   5]\n",
            " [  3  57]]\n"
          ]
        }
      ]
    },
    {
      "cell_type": "code",
      "source": [
        "f1=f1_score(y_test, pred_test)\n",
        "print(\"f1 score:\", f1,'\\n')\n",
        "from sklearn.metrics import classification_report\n",
        "cfreport=classification_report(y_test, pred_test)\n",
        "print(\"분류예측 레포트:\\n\", cfreport)"
      ],
      "metadata": {
        "colab": {
          "base_uri": "https://localhost:8080/"
        },
        "id": "XC9amPhr2F-c",
        "outputId": "317ea096-0e99-45d2-a558-fca1f6151c34"
      },
      "execution_count": null,
      "outputs": [
        {
          "output_type": "stream",
          "name": "stdout",
          "text": [
            "f1 score: 0.9344262295081968 \n",
            "\n",
            "분류예측 레포트:\n",
            "               precision    recall  f1-score   support\n",
            "\n",
            "           0       0.97      0.95      0.96       111\n",
            "           1       0.92      0.95      0.93        60\n",
            "\n",
            "    accuracy                           0.95       171\n",
            "   macro avg       0.95      0.95      0.95       171\n",
            "weighted avg       0.95      0.95      0.95       171\n",
            "\n"
          ]
        }
      ]
    },
    {
      "cell_type": "code",
      "source": [
        "# test_size =\n",
        "# 0.6 일 때 f1 = 0.59 / 0.89\n",
        "# 0.5 일 때 f1 = 0.56 / 0.89\n",
        "# 0.4 일 때 f1 = 0.55 / 0.89\n",
        "# 0.3 일 때 f1 = 0.57 / 0.88\n",
        "# 0.25 일 때 f1 = 0.54 / 0.88\n",
        "# 0.2 일 때 f1 = 0.51 / 0.88"
      ],
      "metadata": {
        "id": "cI22uMaF2S3g"
      },
      "execution_count": null,
      "outputs": []
    },
    {
      "cell_type": "markdown",
      "source": [
        "## 4. 랜덤포레스트"
      ],
      "metadata": {
        "id": "hvrou2P-3E0Y"
      }
    },
    {
      "cell_type": "markdown",
      "source": [
        "### Grid Search"
      ],
      "metadata": {
        "id": "d5nvRANf3elz"
      }
    },
    {
      "cell_type": "code",
      "source": [
        "from sklearn.model_selection import GridSearchCV\n",
        "param_grid={'n_estimators': range(100, 1000, 100), \n",
        "            'max_features': ['auto', 'sqrt', 'log2']}\n",
        "from sklearn.ensemble import RandomForestClassifier\n",
        "grid_search=GridSearchCV(RandomForestClassifier(), param_grid, cv=5, return_train_score=True)"
      ],
      "metadata": {
        "id": "oCFVJJTq2TjV"
      },
      "execution_count": null,
      "outputs": []
    },
    {
      "cell_type": "code",
      "source": [
        "grid_search.fit(X_train, y_train)\n",
        "print(\"Best Parameter: {}\".format(grid_search.best_params_))\n",
        "print(\"Best Cross-validity Score: {:.3f}\".format(grid_search.best_score_))\n",
        "print(\"Test set Score: {:.3f}\".format(grid_search.score(X_test, y_test)))"
      ],
      "metadata": {
        "colab": {
          "base_uri": "https://localhost:8080/"
        },
        "id": "_oKDBfp13Qg2",
        "outputId": "1e90a9f7-336f-4f55-9cb5-8488aeebafe4"
      },
      "execution_count": null,
      "outputs": [
        {
          "output_type": "stream",
          "name": "stdout",
          "text": [
            "Best Parameter: {'max_features': 'auto', 'n_estimators': 300}\n",
            "Best Cross-validity Score: 0.971\n",
            "Test set Score: 0.965\n"
          ]
        }
      ]
    },
    {
      "cell_type": "code",
      "source": [
        "result_grid= pd.DataFrame(grid_search.cv_results_)"
      ],
      "metadata": {
        "id": "SPlQH8Fm3Uj2"
      },
      "execution_count": null,
      "outputs": []
    },
    {
      "cell_type": "code",
      "source": [
        "import matplotlib.pyplot as plt\n",
        "plt.plot(result_grid['param_max_features'], \n",
        "         result_grid['mean_train_score'], label=\"Train\")\n",
        "plt.plot(result_grid['param_max_features'], \n",
        "         result_grid['mean_test_score'], label=\"Test\")\n",
        "plt.legend()"
      ],
      "metadata": {
        "colab": {
          "base_uri": "https://localhost:8080/",
          "height": 283
        },
        "id": "JdtEoN8P3XGn",
        "outputId": "b5a87b7c-f4e2-439d-ebb3-a08a153f92f8"
      },
      "execution_count": null,
      "outputs": [
        {
          "output_type": "execute_result",
          "data": {
            "text/plain": [
              "<matplotlib.legend.Legend at 0x7f15fd80cf40>"
            ]
          },
          "metadata": {},
          "execution_count": 67
        },
        {
          "output_type": "display_data",
          "data": {
            "text/plain": [
              "<Figure size 432x288 with 1 Axes>"
            ],
            "image/png": "[encoded data removed]"
          },
          "metadata": {
            "needs_background": "light"
          }
        }
      ]
    },
    {
      "cell_type": "code",
      "source": [
        "import matplotlib.pyplot as plt\n",
        "plt.plot(result_grid['param_n_estimators'], \n",
        "         result_grid['mean_train_score'], label=\"Train\")\n",
        "plt.plot(result_grid['param_n_estimators'], \n",
        "         result_grid['mean_test_score'], label=\"Test\")\n",
        "plt.legend()"
      ],
      "metadata": {
        "colab": {
          "base_uri": "https://localhost:8080/",
          "height": 283
        },
        "id": "JDU6R_xT3X0Q",
        "outputId": "38c83f51-ecf1-40a0-877e-4d5668575e95"
      },
      "execution_count": null,
      "outputs": [
        {
          "output_type": "execute_result",
          "data": {
            "text/plain": [
              "<matplotlib.legend.Legend at 0x7f15fd53d0d0>"
            ]
          },
          "metadata": {},
          "execution_count": 68
        },
        {
          "output_type": "display_data",
          "data": {
            "text/plain": [
              "<Figure size 432x288 with 1 Axes>"
            ],
            "image/png": "[encoded data removed]"
          },
          "metadata": {
            "needs_background": "light"
          }
        }
      ]
    },
    {
      "cell_type": "markdown",
      "source": [
        "### Random Search"
      ],
      "metadata": {
        "id": "Ghl_3Pu83ff7"
      }
    },
    {
      "cell_type": "code",
      "source": [
        "from sklearn.model_selection import RandomizedSearchCV\n",
        "from scipy.stats import randint\n",
        "from sklearn.ensemble import RandomForestClassifier\n",
        "param_distribs = {'n_estimators': randint(low=100, high=1000), \n",
        "                  'max_features': ['auto', 'sqrt', 'log2']}"
      ],
      "metadata": {
        "id": "r08V7QrF3Y1p"
      },
      "execution_count": null,
      "outputs": []
    },
    {
      "cell_type": "code",
      "source": [
        "random_search=RandomizedSearchCV(RandomForestClassifier(), \n",
        "                                 param_distributions=param_distribs, cv=5, return_train_score=True)\n",
        "random_search.fit(X_train, y_train)"
      ],
      "metadata": {
        "colab": {
          "base_uri": "https://localhost:8080/"
        },
        "id": "fxu2PuCF3kQs",
        "outputId": "731285e6-c11d-42fa-cc8d-6c6e172fd5a2"
      },
      "execution_count": null,
      "outputs": [
        {
          "output_type": "execute_result",
          "data": {
            "text/plain": [
              "RandomizedSearchCV(cv=5, estimator=RandomForestClassifier(),\n",
              "                   param_distributions={'max_features': ['auto', 'sqrt',\n",
              "                                                         'log2'],\n",
              "                                        'n_estimators': <scipy.stats._distn_infrastructure.rv_frozen object at 0x7f15f53917c0>},\n",
              "                   return_train_score=True)"
            ]
          },
          "metadata": {},
          "execution_count": 70
        }
      ]
    },
    {
      "cell_type": "code",
      "source": [
        "print(\"Best Parameter: {}\".format(random_search.best_params_))\n",
        "print(\"Best Cross-validity Score: {:.3f}\".format(random_search.best_score_))\n",
        "print(\"Test set Score: {:.3f}\".format(random_search.score(X_test, y_test)))"
      ],
      "metadata": {
        "colab": {
          "base_uri": "https://localhost:8080/"
        },
        "id": "wEDM0Wyh3oLH",
        "outputId": "a5183a7f-fc11-4cfd-c145-7919594350a2"
      },
      "execution_count": null,
      "outputs": [
        {
          "output_type": "stream",
          "name": "stdout",
          "text": [
            "Best Parameter: {'max_features': 'log2', 'n_estimators': 583}\n",
            "Best Cross-validity Score: 0.971\n",
            "Test set Score: 0.965\n"
          ]
        }
      ]
    },
    {
      "cell_type": "code",
      "source": [
        "result_random = random_search.cv_results_\n",
        "pd.DataFrame(result_random)"
      ],
      "metadata": {
        "colab": {
          "base_uri": "https://localhost:8080/",
          "height": 977
        },
        "id": "rHdbLg293q8X",
        "outputId": "ae6dae21-5d93-48a4-d05b-1a004f0da770"
      },
      "execution_count": null,
      "outputs": [
        {
          "output_type": "execute_result",
          "data": {
            "text/plain": [
              "   mean_fit_time  std_fit_time  mean_score_time  std_score_time  \\\n",
              "0       1.471933      0.036291         0.150573        0.077000   \n",
              "1       0.966879      0.135738         0.064319        0.002683   \n",
              "2       0.890893      0.009765         0.067184        0.006120   \n",
              "3       0.705788      0.016394         0.052104        0.002551   \n",
              "4       1.050357      0.039563         0.082045        0.010584   \n",
              "5       1.397949      0.060869         0.103224        0.005852   \n",
              "6       1.415927      0.114331         0.108622        0.012695   \n",
              "7       2.149398      0.521977         0.124849        0.029621   \n",
              "8       0.878398      0.009939         0.064181        0.006089   \n",
              "9       0.872192      0.034459         0.061955        0.002498   \n",
              "\n",
              "  param_max_features param_n_estimators  \\\n",
              "0               sqrt                955   \n",
              "1               log2                583   \n",
              "2               sqrt                571   \n",
              "3               sqrt                459   \n",
              "4               log2                661   \n",
              "5               log2                900   \n",
              "6               log2                885   \n",
              "7               sqrt                931   \n",
              "8               sqrt                575   \n",
              "9               auto                575   \n",
              "\n",
              "                                          params  split0_test_score  \\\n",
              "0  {'max_features': 'sqrt', 'n_estimators': 955}           0.990291   \n",
              "1  {'max_features': 'log2', 'n_estimators': 583}           0.990291   \n",
              "2  {'max_features': 'sqrt', 'n_estimators': 571}           0.990291   \n",
              "3  {'max_features': 'sqrt', 'n_estimators': 459}           0.990291   \n",
              "4  {'max_features': 'log2', 'n_estimators': 661}           0.990291   \n",
              "5  {'max_features': 'log2', 'n_estimators': 900}           0.990291   \n",
              "6  {'max_features': 'log2', 'n_estimators': 885}           0.990291   \n",
              "7  {'max_features': 'sqrt', 'n_estimators': 931}           0.990291   \n",
              "8  {'max_features': 'sqrt', 'n_estimators': 575}           0.980583   \n",
              "9  {'max_features': 'auto', 'n_estimators': 575}           0.990291   \n",
              "\n",
              "   split1_test_score  split2_test_score  ...  mean_test_score  std_test_score  \\\n",
              "0           0.970874           0.970588  ...         0.966743        0.014719   \n",
              "1           0.980583           0.980392  ...         0.970645        0.016451   \n",
              "2           0.980583           0.970588  ...         0.968685        0.015741   \n",
              "3           0.980583           0.970588  ...         0.968685        0.015741   \n",
              "4           0.970874           0.980392  ...         0.968704        0.015720   \n",
              "5           0.980583           0.970588  ...         0.968685        0.015741   \n",
              "6           0.970874           0.970588  ...         0.966743        0.014719   \n",
              "7           0.980583           0.980392  ...         0.970645        0.016451   \n",
              "8           0.970874           0.970588  ...         0.964801        0.011844   \n",
              "9           0.970874           0.980392  ...         0.968704        0.015720   \n",
              "\n",
              "   rank_test_score  split0_train_score  split1_train_score  \\\n",
              "0                8                 1.0                 1.0   \n",
              "1                1                 1.0                 1.0   \n",
              "2                5                 1.0                 1.0   \n",
              "3                5                 1.0                 1.0   \n",
              "4                3                 1.0                 1.0   \n",
              "5                5                 1.0                 1.0   \n",
              "6                8                 1.0                 1.0   \n",
              "7                1                 1.0                 1.0   \n",
              "8               10                 1.0                 1.0   \n",
              "9                3                 1.0                 1.0   \n",
              "\n",
              "   split2_train_score  split3_train_score  split4_train_score  \\\n",
              "0                 1.0                 1.0                 1.0   \n",
              "1                 1.0                 1.0                 1.0   \n",
              "2                 1.0                 1.0                 1.0   \n",
              "3                 1.0                 1.0                 1.0   \n",
              "4                 1.0                 1.0                 1.0   \n",
              "5                 1.0                 1.0                 1.0   \n",
              "6                 1.0                 1.0                 1.0   \n",
              "7                 1.0                 1.0                 1.0   \n",
              "8                 1.0                 1.0                 1.0   \n",
              "9                 1.0                 1.0                 1.0   \n",
              "\n",
              "   mean_train_score  std_train_score  \n",
              "0               1.0              0.0  \n",
              "1               1.0              0.0  \n",
              "2               1.0              0.0  \n",
              "3               1.0              0.0  \n",
              "4               1.0              0.0  \n",
              "5               1.0              0.0  \n",
              "6               1.0              0.0  \n",
              "7               1.0              0.0  \n",
              "8               1.0              0.0  \n",
              "9               1.0              0.0  \n",
              "\n",
              "[10 rows x 22 columns]"
            ],
            "text/html": [
              "\n",
              "  <div id=\"df-158061c9-3dfc-4461-900c-8007ff4271c6\">\n",
              "    <div class=\"colab-df-container\">\n",
              "      <div>\n",
              "<style scoped>\n",
              "    .dataframe tbody tr th:only-of-type {\n",
              "        vertical-align: middle;\n",
              "    }\n",
              "\n",
              "    .dataframe tbody tr th {\n",
              "        vertical-align: top;\n",
              "    }\n",
              "\n",
              "    .dataframe thead th {\n",
              "        text-align: right;\n",
              "    }\n",
              "</style>\n",
              "<table border=\"1\" class=\"dataframe\">\n",
              "  <thead>\n",
              "    <tr style=\"text-align: right;\">\n",
              "      <th></th>\n",
              "      <th>mean_fit_time</th>\n",
              "      <th>std_fit_time</th>\n",
              "      <th>mean_score_time</th>\n",
              "      <th>std_score_time</th>\n",
              "      <th>param_max_features</th>\n",
              "      <th>param_n_estimators</th>\n",
              "      <th>params</th>\n",
              "      <th>split0_test_score</th>\n",
              "      <th>split1_test_score</th>\n",
              "      <th>split2_test_score</th>\n",
              "      <th>...</th>\n",
              "      <th>mean_test_score</th>\n",
              "      <th>std_test_score</th>\n",
              "      <th>rank_test_score</th>\n",
              "      <th>split0_train_score</th>\n",
              "      <th>split1_train_score</th>\n",
              "      <th>split2_train_score</th>\n",
              "      <th>split3_train_score</th>\n",
              "      <th>split4_train_score</th>\n",
              "      <th>mean_train_score</th>\n",
              "      <th>std_train_score</th>\n",
              "    </tr>\n",
              "  </thead>\n",
              "  <tbody>\n",
              "    <tr>\n",
              "      <th>0</th>\n",
              "      <td>1.471933</td>\n",
              "      <td>0.036291</td>\n",
              "      <td>0.150573</td>\n",
              "      <td>0.077000</td>\n",
              "      <td>sqrt</td>\n",
              "      <td>955</td>\n",
              "      <td>{'max_features': 'sqrt', 'n_estimators': 955}</td>\n",
              "      <td>0.990291</td>\n",
              "      <td>0.970874</td>\n",
              "      <td>0.970588</td>\n",
              "      <td>...</td>\n",
              "      <td>0.966743</td>\n",
              "      <td>0.014719</td>\n",
              "      <td>8</td>\n",
              "      <td>1.0</td>\n",
              "      <td>1.0</td>\n",
              "      <td>1.0</td>\n",
              "      <td>1.0</td>\n",
              "      <td>1.0</td>\n",
              "      <td>1.0</td>\n",
              "      <td>0.0</td>\n",
              "    </tr>\n",
              "    <tr>\n",
              "      <th>1</th>\n",
              "      <td>0.966879</td>\n",
              "      <td>0.135738</td>\n",
              "      <td>0.064319</td>\n",
              "      <td>0.002683</td>\n",
              "      <td>log2</td>\n",
              "      <td>583</td>\n",
              "      <td>{'max_features': 'log2', 'n_estimators': 583}</td>\n",
              "      <td>0.990291</td>\n",
              "      <td>0.980583</td>\n",
              "      <td>0.980392</td>\n",
              "      <td>...</td>\n",
              "      <td>0.970645</td>\n",
              "      <td>0.016451</td>\n",
              "      <td>1</td>\n",
              "      <td>1.0</td>\n",
              "      <td>1.0</td>\n",
              "      <td>1.0</td>\n",
              "      <td>1.0</td>\n",
              "      <td>1.0</td>\n",
              "      <td>1.0</td>\n",
              "      <td>0.0</td>\n",
              "    </tr>\n",
              "    <tr>\n",
              "      <th>2</th>\n",
              "      <td>0.890893</td>\n",
              "      <td>0.009765</td>\n",
              "      <td>0.067184</td>\n",
              "      <td>0.006120</td>\n",
              "      <td>sqrt</td>\n",
              "      <td>571</td>\n",
              "      <td>{'max_features': 'sqrt', 'n_estimators': 571}</td>\n",
              "      <td>0.990291</td>\n",
              "      <td>0.980583</td>\n",
              "      <td>0.970588</td>\n",
              "      <td>...</td>\n",
              "      <td>0.968685</td>\n",
              "      <td>0.015741</td>\n",
              "      <td>5</td>\n",
              "      <td>1.0</td>\n",
              "      <td>1.0</td>\n",
              "      <td>1.0</td>\n",
              "      <td>1.0</td>\n",
              "      <td>1.0</td>\n",
              "      <td>1.0</td>\n",
              "      <td>0.0</td>\n",
              "    </tr>\n",
              "    <tr>\n",
              "      <th>3</th>\n",
              "      <td>0.705788</td>\n",
              "      <td>0.016394</td>\n",
              "      <td>0.052104</td>\n",
              "      <td>0.002551</td>\n",
              "      <td>sqrt</td>\n",
              "      <td>459</td>\n",
              "      <td>{'max_features': 'sqrt', 'n_estimators': 459}</td>\n",
              "      <td>0.990291</td>\n",
              "      <td>0.980583</td>\n",
              "      <td>0.970588</td>\n",
              "      <td>...</td>\n",
              "      <td>0.968685</td>\n",
              "      <td>0.015741</td>\n",
              "      <td>5</td>\n",
              "      <td>1.0</td>\n",
              "      <td>1.0</td>\n",
              "      <td>1.0</td>\n",
              "      <td>1.0</td>\n",
              "      <td>1.0</td>\n",
              "      <td>1.0</td>\n",
              "      <td>0.0</td>\n",
              "    </tr>\n",
              "    <tr>\n",
              "      <th>4</th>\n",
              "      <td>1.050357</td>\n",
              "      <td>0.039563</td>\n",
              "      <td>0.082045</td>\n",
              "      <td>0.010584</td>\n",
              "      <td>log2</td>\n",
              "      <td>661</td>\n",
              "      <td>{'max_features': 'log2', 'n_estimators': 661}</td>\n",
              "      <td>0.990291</td>\n",
              "      <td>0.970874</td>\n",
              "      <td>0.980392</td>\n",
              "      <td>...</td>\n",
              "      <td>0.968704</td>\n",
              "      <td>0.015720</td>\n",
              "      <td>3</td>\n",
              "      <td>1.0</td>\n",
              "      <td>1.0</td>\n",
              "      <td>1.0</td>\n",
              "      <td>1.0</td>\n",
              "      <td>1.0</td>\n",
              "      <td>1.0</td>\n",
              "      <td>0.0</td>\n",
              "    </tr>\n",
              "    <tr>\n",
              "      <th>5</th>\n",
              "      <td>1.397949</td>\n",
              "      <td>0.060869</td>\n",
              "      <td>0.103224</td>\n",
              "      <td>0.005852</td>\n",
              "      <td>log2</td>\n",
              "      <td>900</td>\n",
              "      <td>{'max_features': 'log2', 'n_estimators': 900}</td>\n",
              "      <td>0.990291</td>\n",
              "      <td>0.980583</td>\n",
              "      <td>0.970588</td>\n",
              "      <td>...</td>\n",
              "      <td>0.968685</td>\n",
              "      <td>0.015741</td>\n",
              "      <td>5</td>\n",
              "      <td>1.0</td>\n",
              "      <td>1.0</td>\n",
              "      <td>1.0</td>\n",
              "      <td>1.0</td>\n",
              "      <td>1.0</td>\n",
              "      <td>1.0</td>\n",
              "      <td>0.0</td>\n",
              "    </tr>\n",
              "    <tr>\n",
              "      <th>6</th>\n",
              "      <td>1.415927</td>\n",
              "      <td>0.114331</td>\n",
              "      <td>0.108622</td>\n",
              "      <td>0.012695</td>\n",
              "      <td>log2</td>\n",
              "      <td>885</td>\n",
              "      <td>{'max_features': 'log2', 'n_estimators': 885}</td>\n",
              "      <td>0.990291</td>\n",
              "      <td>0.970874</td>\n",
              "      <td>0.970588</td>\n",
              "      <td>...</td>\n",
              "      <td>0.966743</td>\n",
              "      <td>0.014719</td>\n",
              "      <td>8</td>\n",
              "      <td>1.0</td>\n",
              "      <td>1.0</td>\n",
              "      <td>1.0</td>\n",
              "      <td>1.0</td>\n",
              "      <td>1.0</td>\n",
              "      <td>1.0</td>\n",
              "      <td>0.0</td>\n",
              "    </tr>\n",
              "    <tr>\n",
              "      <th>7</th>\n",
              "      <td>2.149398</td>\n",
              "      <td>0.521977</td>\n",
              "      <td>0.124849</td>\n",
              "      <td>0.029621</td>\n",
              "      <td>sqrt</td>\n",
              "      <td>931</td>\n",
              "      <td>{'max_features': 'sqrt', 'n_estimators': 931}</td>\n",
              "      <td>0.990291</td>\n",
              "      <td>0.980583</td>\n",
              "      <td>0.980392</td>\n",
              "      <td>...</td>\n",
              "      <td>0.970645</td>\n",
              "      <td>0.016451</td>\n",
              "      <td>1</td>\n",
              "      <td>1.0</td>\n",
              "      <td>1.0</td>\n",
              "      <td>1.0</td>\n",
              "      <td>1.0</td>\n",
              "      <td>1.0</td>\n",
              "      <td>1.0</td>\n",
              "      <td>0.0</td>\n",
              "    </tr>\n",
              "    <tr>\n",
              "      <th>8</th>\n",
              "      <td>0.878398</td>\n",
              "      <td>0.009939</td>\n",
              "      <td>0.064181</td>\n",
              "      <td>0.006089</td>\n",
              "      <td>sqrt</td>\n",
              "      <td>575</td>\n",
              "      <td>{'max_features': 'sqrt', 'n_estimators': 575}</td>\n",
              "      <td>0.980583</td>\n",
              "      <td>0.970874</td>\n",
              "      <td>0.970588</td>\n",
              "      <td>...</td>\n",
              "      <td>0.964801</td>\n",
              "      <td>0.011844</td>\n",
              "      <td>10</td>\n",
              "      <td>1.0</td>\n",
              "      <td>1.0</td>\n",
              "      <td>1.0</td>\n",
              "      <td>1.0</td>\n",
              "      <td>1.0</td>\n",
              "      <td>1.0</td>\n",
              "      <td>0.0</td>\n",
              "    </tr>\n",
              "    <tr>\n",
              "      <th>9</th>\n",
              "      <td>0.872192</td>\n",
              "      <td>0.034459</td>\n",
              "      <td>0.061955</td>\n",
              "      <td>0.002498</td>\n",
              "      <td>auto</td>\n",
              "      <td>575</td>\n",
              "      <td>{'max_features': 'auto', 'n_estimators': 575}</td>\n",
              "      <td>0.990291</td>\n",
              "      <td>0.970874</td>\n",
              "      <td>0.980392</td>\n",
              "      <td>...</td>\n",
              "      <td>0.968704</td>\n",
              "      <td>0.015720</td>\n",
              "      <td>3</td>\n",
              "      <td>1.0</td>\n",
              "      <td>1.0</td>\n",
              "      <td>1.0</td>\n",
              "      <td>1.0</td>\n",
              "      <td>1.0</td>\n",
              "      <td>1.0</td>\n",
              "      <td>0.0</td>\n",
              "    </tr>\n",
              "  </tbody>\n",
              "</table>\n",
              "<p>10 rows × 22 columns</p>\n",
              "</div>\n",
              "      <button class=\"colab-df-convert\" onclick=\"convertToInteractive('df-158061c9-3dfc-4461-900c-8007ff4271c6')\"\n",
              "              title=\"Convert this dataframe to an interactive table.\"\n",
              "              style=\"display:none;\">\n",
              "        \n",
              "  <svg xmlns=\"http://www.w3.org/2000/svg\" height=\"24px\"viewBox=\"0 0 24 24\"\n",
              "       width=\"24px\">\n",
              "    <path d=\"M0 0h24v24H0V0z\" fill=\"none\"/>\n",
              "    <path d=\"M18.56 5.44l.94 2.06.94-2.06 2.06-.94-2.06-.94-.94-2.06-.94 2.06-2.06.94zm-11 1L8.5 8.5l.94-2.06 2.06-.94-2.06-.94L8.5 2.5l-.94 2.06-2.06.94zm10 10l.94 2.06.94-2.06 2.06-.94-2.06-.94-.94-2.06-.94 2.06-2.06.94z\"/><path d=\"M17.41 7.96l-1.37-1.37c-.4-.4-.92-.59-1.43-.59-.52 0-1.04.2-1.43.59L10.3 9.45l-7.72 7.72c-.78.78-.78 2.05 0 2.83L4 21.41c.39.39.9.59 1.41.59.51 0 1.02-.2 1.41-.59l7.78-7.78 2.81-2.81c.8-.78.8-2.07 0-2.86zM5.41 20L4 18.59l7.72-7.72 1.47 1.35L5.41 20z\"/>\n",
              "  </svg>\n",
              "      </button>\n",
              "      \n",
              "  <style>\n",
              "    .colab-df-container {\n",
              "      display:flex;\n",
              "      flex-wrap:wrap;\n",
              "      gap: 12px;\n",
              "    }\n",
              "\n",
              "    .colab-df-convert {\n",
              "      background-color: #E8F0FE;\n",
              "      border: none;\n",
              "      border-radius: 50%;\n",
              "      cursor: pointer;\n",
              "      display: none;\n",
              "      fill: #1967D2;\n",
              "      height: 32px;\n",
              "      padding: 0 0 0 0;\n",
              "      width: 32px;\n",
              "    }\n",
              "\n",
              "    .colab-df-convert:hover {\n",
              "      background-color: #E2EBFA;\n",
              "      box-shadow: 0px 1px 2px rgba(60, 64, 67, 0.3), 0px 1px 3px 1px rgba(60, 64, 67, 0.15);\n",
              "      fill: #174EA6;\n",
              "    }\n",
              "\n",
              "    [theme=dark] .colab-df-convert {\n",
              "      background-color: #3B4455;\n",
              "      fill: #D2E3FC;\n",
              "    }\n",
              "\n",
              "    [theme=dark] .colab-df-convert:hover {\n",
              "      background-color: #434B5C;\n",
              "      box-shadow: 0px 1px 3px 1px rgba(0, 0, 0, 0.15);\n",
              "      filter: drop-shadow(0px 1px 2px rgba(0, 0, 0, 0.3));\n",
              "      fill: #FFFFFF;\n",
              "    }\n",
              "  </style>\n",
              "\n",
              "      <script>\n",
              "        const buttonEl =\n",
              "          document.querySelector('#df-158061c9-3dfc-4461-900c-8007ff4271c6 button.colab-df-convert');\n",
              "        buttonEl.style.display =\n",
              "          google.colab.kernel.accessAllowed ? 'block' : 'none';\n",
              "\n",
              "        async function convertToInteractive(key) {\n",
              "          const element = document.querySelector('#df-158061c9-3dfc-4461-900c-8007ff4271c6');\n",
              "          const dataTable =\n",
              "            await google.colab.kernel.invokeFunction('convertToInteractive',\n",
              "                                                     [key], {});\n",
              "          if (!dataTable) return;\n",
              "\n",
              "          const docLinkHtml = 'Like what you see? Visit the ' +\n",
              "            '<a target=\"_blank\" href=https://colab.research.google.com/notebooks/data_table.ipynb>data table notebook</a>'\n",
              "            + ' to learn more about interactive tables.';\n",
              "          element.innerHTML = '';\n",
              "          dataTable['output_type'] = 'display_data';\n",
              "          await google.colab.output.renderOutput(dataTable, element);\n",
              "          const docLink = document.createElement('div');\n",
              "          docLink.innerHTML = docLinkHtml;\n",
              "          element.appendChild(docLink);\n",
              "        }\n",
              "      </script>\n",
              "    </div>\n",
              "  </div>\n",
              "  "
            ]
          },
          "metadata": {},
          "execution_count": 72
        }
      ]
    },
    {
      "cell_type": "code",
      "source": [
        "import matplotlib.pyplot as plt\n",
        "plt.plot(result_grid['param_max_features'], \n",
        "         result_grid['mean_train_score'], label=\"Train\")\n",
        "plt.plot(result_grid['param_max_features'], \n",
        "         result_grid['mean_test_score'], label=\"Test\")\n",
        "plt.legend()"
      ],
      "metadata": {
        "colab": {
          "base_uri": "https://localhost:8080/",
          "height": 283
        },
        "id": "rHAED2ib3us2",
        "outputId": "34a3e8ba-ba99-407b-e5e1-e8aada86f9a5"
      },
      "execution_count": null,
      "outputs": [
        {
          "output_type": "execute_result",
          "data": {
            "text/plain": [
              "<matplotlib.legend.Legend at 0x7f15fd72da30>"
            ]
          },
          "metadata": {},
          "execution_count": 73
        },
        {
          "output_type": "display_data",
          "data": {
            "text/plain": [
              "<Figure size 432x288 with 1 Axes>"
            ],
            "image/png": "[encoded data removed]"
          },
          "metadata": {
            "needs_background": "light"
          }
        }
      ]
    },
    {
      "cell_type": "code",
      "source": [
        "import matplotlib.pyplot as plt\n",
        "plt.plot(result_grid['param_n_estimators'], \n",
        "         result_grid['mean_train_score'], label=\"Train\")\n",
        "plt.plot(result_grid['param_n_estimators'], \n",
        "         result_grid['mean_test_score'], label=\"Test\")\n",
        "plt.legend()"
      ],
      "metadata": {
        "colab": {
          "base_uri": "https://localhost:8080/",
          "height": 283
        },
        "id": "rk5CTeLR3wQt",
        "outputId": "dbc5dfc5-b01a-4c42-e0f8-44572da67d4a"
      },
      "execution_count": null,
      "outputs": [
        {
          "output_type": "execute_result",
          "data": {
            "text/plain": [
              "<matplotlib.legend.Legend at 0x7f15fd7c6430>"
            ]
          },
          "metadata": {},
          "execution_count": 74
        },
        {
          "output_type": "display_data",
          "data": {
            "text/plain": [
              "<Figure size 432x288 with 1 Axes>"
            ],
            "image/png": "[encoded data removed]"
          },
          "metadata": {
            "needs_background": "light"
          }
        }
      ]
    },
    {
      "cell_type": "code",
      "source": [
        "from sklearn.ensemble import RandomForestClassifier\n",
        "Forest=RandomForestClassifier(max_features='log2', n_estimators=583)\n",
        "Forest.fit(X_train, y_train)\n",
        "print(\"특성 중요도:\\n{}\".format(Forest.feature_importances_))"
      ],
      "metadata": {
        "colab": {
          "base_uri": "https://localhost:8080/"
        },
        "id": "5EIvjMRJ3xYL",
        "outputId": "e93189ea-a945-44ea-8a65-0fb678d0426d"
      },
      "execution_count": null,
      "outputs": [
        {
          "output_type": "stream",
          "name": "stdout",
          "text": [
            "특성 중요도:\n",
            "[0.04731834 0.19500527 0.25921399 0.02995896 0.09733089 0.21220655\n",
            " 0.09320475 0.0560263  0.00973495]\n"
          ]
        }
      ]
    },
    {
      "cell_type": "code",
      "source": [
        "def plot_feature_importances_forest(model):\n",
        "    n_features = X.shape[1]\n",
        "    plt.barh(range(n_features), model.feature_importances_, align='center')\n",
        "    plt.yticks(np.arange(n_features), X.columns)\n",
        "    plt.xlabel(\"Importance\")\n",
        "    plt.ylabel(\"Features\")\n",
        "    plt.ylim(-1, n_features)\n",
        "\n",
        "plot_feature_importances_forest(Forest)"
      ],
      "metadata": {
        "colab": {
          "base_uri": "https://localhost:8080/",
          "height": 279
        },
        "id": "JwRBAMGM33fP",
        "outputId": "8c19ea14-014c-4dfb-e364-0ecfd108fc77"
      },
      "execution_count": null,
      "outputs": [
        {
          "output_type": "display_data",
          "data": {
            "text/plain": [
              "<Figure size 432x288 with 1 Axes>"
            ],
            "image/png": "[encoded data removed]"
          },
          "metadata": {
            "needs_background": "light"
          }
        }
      ]
    },
    {
      "cell_type": "markdown",
      "source": [
        "### 모델평가"
      ],
      "metadata": {
        "id": "23gA5VDu36BB"
      }
    },
    {
      "cell_type": "code",
      "source": [
        "from sklearn.ensemble import RandomForestClassifier\n",
        "Forest=RandomForestClassifier(max_features='log2', n_estimators=583)\n",
        "Forest.fit(X_train, y_train)\n",
        "from sklearn.metrics import confusion_matrix"
      ],
      "metadata": {
        "id": "Ol8svl0Q34iC"
      },
      "execution_count": null,
      "outputs": []
    },
    {
      "cell_type": "code",
      "source": [
        "pred_train=Forest.predict(X_train)\n",
        "confusion_train=confusion_matrix(y_train, pred_train)\n",
        "print(\"훈련데이터 오차행렬:\\n\", confusion_train)"
      ],
      "metadata": {
        "colab": {
          "base_uri": "https://localhost:8080/"
        },
        "id": "yPYcZhZf3_YG",
        "outputId": "2dee3bf8-d262-4270-e520-a68089aa7e68"
      },
      "execution_count": null,
      "outputs": [
        {
          "output_type": "stream",
          "name": "stdout",
          "text": [
            "훈련데이터 오차행렬:\n",
            " [[333   0]\n",
            " [  0 179]]\n"
          ]
        }
      ]
    },
    {
      "cell_type": "code",
      "source": [
        "pred_test=Forest.predict(X_test)\n",
        "confusion_test=confusion_matrix(y_test, pred_test)\n",
        "print(\"테스트 데이터 오차행렬:\\n\", confusion_test)"
      ],
      "metadata": {
        "colab": {
          "base_uri": "https://localhost:8080/"
        },
        "id": "l4n7ONES4Czn",
        "outputId": "b4208227-a48a-48e1-b470-b63183e0ae04"
      },
      "execution_count": null,
      "outputs": [
        {
          "output_type": "stream",
          "name": "stdout",
          "text": [
            "테스트 데이터 오차행렬:\n",
            " [[106   5]\n",
            " [  1  59]]\n"
          ]
        }
      ]
    },
    {
      "cell_type": "code",
      "source": [
        "from sklearn.metrics import f1_score\n",
        "f1=f1_score(y_test, pred_test)\n",
        "print(\"f1 score:\\n\", f1)\n",
        "cfreport=classification_report(y_test, pred_test)\n",
        "print(\"분류예측 레포트:\\n\", cfreport)"
      ],
      "metadata": {
        "colab": {
          "base_uri": "https://localhost:8080/"
        },
        "id": "QiReNybt4EKy",
        "outputId": "566b67fb-e93a-48b9-b423-b5a9b2154738"
      },
      "execution_count": null,
      "outputs": [
        {
          "output_type": "stream",
          "name": "stdout",
          "text": [
            "f1 score:\n",
            " 0.9516129032258064\n",
            "분류예측 레포트:\n",
            "               precision    recall  f1-score   support\n",
            "\n",
            "           0       0.99      0.95      0.97       111\n",
            "           1       0.92      0.98      0.95        60\n",
            "\n",
            "    accuracy                           0.96       171\n",
            "   macro avg       0.96      0.97      0.96       171\n",
            "weighted avg       0.97      0.96      0.97       171\n",
            "\n"
          ]
        }
      ]
    },
    {
      "cell_type": "markdown",
      "source": [
        "## 5. 로지스틱 회귀분석"
      ],
      "metadata": {
        "id": "sTDvS6di4Zsv"
      }
    },
    {
      "cell_type": "code",
      "source": [
        "features = data[[ 'code', 'Clump_Thickness', 'Cell_Size', 'Cell_Shape',\n",
        "       'Marginal_Adhesion', 'Single_Epithelial_Cell_Size', 'Bare_Nuclei',\n",
        "       'Bland_Chromatin', 'Normal_Nucleoli', 'Mitoses']]\n",
        "survival = data['Class']"
      ],
      "metadata": {
        "id": "TLmdTGu0cJEf"
      },
      "execution_count": null,
      "outputs": []
    },
    {
      "cell_type": "code",
      "source": [
        "from sklearn.model_selection import train_test_split\n",
        "train_features, test_features, train_labels, test_labels = train_test_split(features, survival)\n",
        "\n",
        "from sklearn.preprocessing import StandardScaler\n",
        "scaler = StandardScaler()\n",
        "train_features = scaler.fit_transform(train_features)\n",
        "test_features = scaler.transform(test_features)"
      ],
      "metadata": {
        "id": "uu71P2hW4Jc7"
      },
      "execution_count": null,
      "outputs": []
    },
    {
      "cell_type": "code",
      "source": [
        "from sklearn.linear_model import LogisticRegression\n",
        "model = LogisticRegression()\n",
        "model.fit(train_features, train_labels)"
      ],
      "metadata": {
        "colab": {
          "base_uri": "https://localhost:8080/"
        },
        "id": "L-R9YMNu4otW",
        "outputId": "d4ef7ad7-c483-4a91-c03e-8e90f859c436"
      },
      "execution_count": null,
      "outputs": [
        {
          "output_type": "execute_result",
          "data": {
            "text/plain": [
              "LogisticRegression()"
            ]
          },
          "metadata": {},
          "execution_count": 92
        }
      ]
    },
    {
      "cell_type": "code",
      "source": [
        "print(model.score(train_features, train_labels))\n",
        "print(model.score(test_features, test_labels))\n",
        "print(model.coef_)"
      ],
      "metadata": {
        "colab": {
          "base_uri": "https://localhost:8080/"
        },
        "id": "mx0-Q_6s42vQ",
        "outputId": "4705a384-3924-4868-9518-e4f72a8318ef"
      },
      "execution_count": null,
      "outputs": [
        {
          "output_type": "stream",
          "name": "stdout",
          "text": [
            "0.9765625\n",
            "0.9649122807017544\n",
            "[[-0.31038669  1.06690586  0.75838432  0.82073926  0.71605135  0.28463203\n",
            "   1.10985974  1.00694075  0.59825338  0.60567946]]\n"
          ]
        }
      ]
    },
    {
      "cell_type": "markdown",
      "source": [
        "회귀분석/변수 중요도 : Bland_Chromatin - Clump_Thickness - Bare_Nuclei"
      ],
      "metadata": {
        "id": "n5IM-Xhq5ltS"
      }
    }
  ]
}