{
  "nbformat": 4,
  "nbformat_minor": 0,
  "metadata": {
    "colab": {
      "provenance": []
    },
    "kernelspec": {
      "name": "python3",
      "display_name": "Python 3"
    },
    "language_info": {
      "name": "python"
    }
  },
  "cells": [
    {
      "cell_type": "markdown",
      "metadata": {
        "id": "8cWxqHIGVkAG"
      },
      "source": [
        "# Colab의 Seaborn library 예제"
      ]
    },
    {
      "cell_type": "code",
      "metadata": {
        "id": "rIN2ulniCi4y"
      },
      "source": [
        "import matplotlib.pyplot as plt\n",
        "import numpy as np\n",
        "import seaborn as sns\n",
        "sns.set_theme()\n",
        "%matplotlib inline\n",
        "plt.rc('font', family='Malgun Gothic')"
      ],
      "execution_count": null,
      "outputs": []
    },
    {
      "cell_type": "code",
      "metadata": {
        "id": "Gx_KYKF0CqFy"
      },
      "source": [
        "# Generate some random data\n",
        "num_points = 20"
      ],
      "execution_count": null,
      "outputs": []
    },
    {
      "cell_type": "code",
      "metadata": {
        "id": "PhEjP4vhCslI"
      },
      "source": [
        "x = np.arange(num_points)"
      ],
      "execution_count": null,
      "outputs": []
    },
    {
      "cell_type": "code",
      "metadata": {
        "colab": {
          "base_uri": "https://localhost:8080/"
        },
        "id": "mUmnSH36CxfQ",
        "outputId": "3737bb99-4079-43d3-ef96-86ff23f99d84"
      },
      "source": [
        "x"
      ],
      "execution_count": null,
      "outputs": [
        {
          "output_type": "execute_result",
          "data": {
            "text/plain": [
              "array([ 0,  1,  2,  3,  4,  5,  6,  7,  8,  9, 10, 11, 12, 13, 14, 15, 16,\n",
              "       17, 18, 19])"
            ]
          },
          "metadata": {
            "tags": []
          },
          "execution_count": 4
        }
      ]
    },
    {
      "cell_type": "code",
      "metadata": {
        "id": "0Sa_jxBpCydJ"
      },
      "source": [
        "a=np.random.randn(num_points)"
      ],
      "execution_count": null,
      "outputs": []
    },
    {
      "cell_type": "code",
      "metadata": {
        "colab": {
          "base_uri": "https://localhost:8080/"
        },
        "id": "UcFLoRrDkU-v",
        "outputId": "d94e87e3-a9ca-41ac-8182-4de3a1ffb37e"
      },
      "source": [
        "a"
      ],
      "execution_count": null,
      "outputs": [
        {
          "output_type": "execute_result",
          "data": {
            "text/plain": [
              "array([ 0.76737723,  0.74808631, -1.40908439,  0.50140385,  0.57358429,\n",
              "       -1.29864835, -0.38070425,  1.4689143 , -0.12219668,  0.11714305,\n",
              "       -0.16577194, -0.11912036, -0.44208883, -0.48615368, -0.93481228,\n",
              "       -0.18158849, -0.34943833,  0.99535592,  0.12970962,  0.5009274 ])"
            ]
          },
          "metadata": {
            "tags": []
          },
          "execution_count": 7
        }
      ]
    },
    {
      "cell_type": "code",
      "metadata": {
        "id": "6DwTjyzqC2q4"
      },
      "source": [
        "x = 5 + np.arange(num_points) + a"
      ],
      "execution_count": null,
      "outputs": []
    },
    {
      "cell_type": "code",
      "metadata": {
        "colab": {
          "base_uri": "https://localhost:8080/"
        },
        "id": "gtz4UseXDO4H",
        "outputId": "cdc474eb-2393-4217-8fa5-8aa5b2b623ac"
      },
      "source": [
        "x"
      ],
      "execution_count": null,
      "outputs": [
        {
          "output_type": "execute_result",
          "data": {
            "text/plain": [
              "array([ 5.76737723,  6.74808631,  5.59091561,  8.50140385,  9.57358429,\n",
              "        8.70135165, 10.61929575, 13.4689143 , 12.87780332, 14.11714305,\n",
              "       14.83422806, 15.88087964, 16.55791117, 17.51384632, 18.06518772,\n",
              "       19.81841151, 20.65056167, 22.99535592, 23.12970962, 24.5009274 ])"
            ]
          },
          "metadata": {
            "tags": []
          },
          "execution_count": 8
        }
      ]
    },
    {
      "cell_type": "code",
      "metadata": {
        "id": "PxAENoNeDPoo"
      },
      "source": [
        "y = 10 + np.arange(num_points) + 5 * np.random.randn(num_points)"
      ],
      "execution_count": null,
      "outputs": []
    },
    {
      "cell_type": "code",
      "metadata": {
        "colab": {
          "base_uri": "https://localhost:8080/"
        },
        "id": "WAcKCdEhDynA",
        "outputId": "1444d998-07ad-4b5d-d9ac-e7e69f978a22"
      },
      "source": [
        "y"
      ],
      "execution_count": null,
      "outputs": [
        {
          "output_type": "execute_result",
          "data": {
            "text/plain": [
              "array([15.59634693,  3.2145261 , 18.44429626, 17.0767762 ,  9.17262966,\n",
              "        9.89444909, 19.02088585, 10.02313961, 20.42521897, 24.5479937 ,\n",
              "       23.07477989, 22.83860457, 28.70266049, 21.64165591, 25.02886601,\n",
              "       20.02892914, 32.29185043, 25.53626081, 24.866488  , 28.00425957])"
            ]
          },
          "metadata": {
            "tags": []
          },
          "execution_count": 10
        }
      ]
    },
    {
      "cell_type": "code",
      "metadata": {
        "colab": {
          "base_uri": "https://localhost:8080/",
          "height": 532
        },
        "id": "YfPR1bnLqtLu",
        "outputId": "4f4a1aab-4960-4048-ede0-4fab701ad2bf"
      },
      "source": [
        "plt.subplots(figsize=(20,10))"
      ],
      "execution_count": null,
      "outputs": [
        {
          "output_type": "execute_result",
          "data": {
            "text/plain": [
              "(<Figure size 1440x720 with 1 Axes>,\n",
              " <matplotlib.axes._subplots.AxesSubplot at 0x7fc00b486e50>)"
            ]
          },
          "metadata": {
            "tags": []
          },
          "execution_count": 11
        },
        {
          "output_type": "stream",
          "text": [
            "findfont: Font family ['Malgun Gothic'] not found. Falling back to DejaVu Sans.\n"
          ],
          "name": "stderr"
        },
        {
          "output_type": "display_data",
          "data": {
            "image/png": "[encoded data removed]",
            "text/plain": [
              "<Figure size 1440x720 with 1 Axes>"
            ]
          },
          "metadata": {
            "tags": [],
            "needs_background": "light"
          }
        }
      ]
    },
    {
      "cell_type": "code",
      "metadata": {
        "colab": {
          "base_uri": "https://localhost:8080/",
          "height": 341
        },
        "id": "NOt8oOURDznQ",
        "outputId": "9465ae1d-c3ce-49d0-e660-44ac448a6d2e"
      },
      "source": [
        "sns.regplot(x,y)"
      ],
      "execution_count": null,
      "outputs": [
        {
          "output_type": "stream",
          "text": [
            "/usr/local/lib/python3.7/dist-packages/seaborn/_decorators.py:43: FutureWarning: Pass the following variables as keyword args: x, y. From version 0.12, the only valid positional argument will be `data`, and passing other arguments without an explicit keyword will result in an error or misinterpretation.\n",
            "  FutureWarning\n"
          ],
          "name": "stderr"
        },
        {
          "output_type": "execute_result",
          "data": {
            "text/plain": [
              "<matplotlib.axes._subplots.AxesSubplot at 0x7fc00b3f5110>"
            ]
          },
          "metadata": {
            "tags": []
          },
          "execution_count": 12
        },
        {
          "output_type": "display_data",
          "data": {
            "image/png": "[encoded data removed]",
            "text/plain": [
              "<Figure size 432x288 with 1 Axes>"
            ]
          },
          "metadata": {
            "tags": [],
            "needs_background": "light"
          }
        }
      ]
    },
    {
      "cell_type": "markdown",
      "metadata": {
        "id": "dMv70WPMVvlt"
      },
      "source": [
        "#Seaborn library 예제"
      ]
    },
    {
      "cell_type": "code",
      "metadata": {
        "colab": {
          "base_uri": "https://localhost:8080/",
          "height": 400
        },
        "id": "tQZOM0HdD5jg",
        "outputId": "e92fe8b8-8279-4104-a258-577d1d490ecc"
      },
      "source": [
        "# Import seaborn\n",
        "import seaborn as sns\n",
        "\n",
        "# Apply the default theme\n",
        "sns.set_theme()\n",
        "\n",
        "# Load an example dataset\n",
        "tips = sns.load_dataset(\"tips\")\n",
        "\n",
        "# Create a visualization\n",
        "sns.relplot(\n",
        "    data=tips,\n",
        "    x=\"total_bill\", y=\"tip\", col=\"time\",\n",
        "    hue=\"smoker\", style=\"smoker\", size=\"size\",\n",
        ")"
      ],
      "execution_count": null,
      "outputs": [
        {
          "output_type": "execute_result",
          "data": {
            "text/plain": [
              "<seaborn.axisgrid.FacetGrid at 0x7fc00aea2a90>"
            ]
          },
          "metadata": {
            "tags": []
          },
          "execution_count": 14
        },
        {
          "output_type": "display_data",
          "data": {
            "image/png": "[encoded data removed]",
            "text/plain": [
              "<Figure size 781.975x360 with 2 Axes>"
            ]
          },
          "metadata": {
            "tags": []
          }
        }
      ]
    },
    {
      "cell_type": "code",
      "metadata": {
        "colab": {
          "base_uri": "https://localhost:8080/",
          "height": 402
        },
        "id": "6p_xb7uAKKQw",
        "outputId": "05a9228c-4d0e-4172-9c39-743e739e6717"
      },
      "source": [
        "tips"
      ],
      "execution_count": null,
      "outputs": [
        {
          "output_type": "execute_result",
          "data": {
            "text/html": [
              "<div>\n",
              "<style scoped>\n",
              "    .dataframe tbody tr th:only-of-type {\n",
              "        vertical-align: middle;\n",
              "    }\n",
              "\n",
              "    .dataframe tbody tr th {\n",
              "        vertical-align: top;\n",
              "    }\n",
              "\n",
              "    .dataframe thead th {\n",
              "        text-align: right;\n",
              "    }\n",
              "</style>\n",
              "<table border=\"1\" class=\"dataframe\">\n",
              "  <thead>\n",
              "    <tr style=\"text-align: right;\">\n",
              "      <th></th>\n",
              "      <th>total_bill</th>\n",
              "      <th>tip</th>\n",
              "      <th>sex</th>\n",
              "      <th>smoker</th>\n",
              "      <th>day</th>\n",
              "      <th>time</th>\n",
              "      <th>size</th>\n",
              "    </tr>\n",
              "  </thead>\n",
              "  <tbody>\n",
              "    <tr>\n",
              "      <th>0</th>\n",
              "      <td>16.99</td>\n",
              "      <td>1.01</td>\n",
              "      <td>Female</td>\n",
              "      <td>No</td>\n",
              "      <td>Sun</td>\n",
              "      <td>Dinner</td>\n",
              "      <td>2</td>\n",
              "    </tr>\n",
              "    <tr>\n",
              "      <th>1</th>\n",
              "      <td>10.34</td>\n",
              "      <td>1.66</td>\n",
              "      <td>Male</td>\n",
              "      <td>No</td>\n",
              "      <td>Sun</td>\n",
              "      <td>Dinner</td>\n",
              "      <td>3</td>\n",
              "    </tr>\n",
              "    <tr>\n",
              "      <th>2</th>\n",
              "      <td>21.01</td>\n",
              "      <td>3.50</td>\n",
              "      <td>Male</td>\n",
              "      <td>No</td>\n",
              "      <td>Sun</td>\n",
              "      <td>Dinner</td>\n",
              "      <td>3</td>\n",
              "    </tr>\n",
              "    <tr>\n",
              "      <th>3</th>\n",
              "      <td>23.68</td>\n",
              "      <td>3.31</td>\n",
              "      <td>Male</td>\n",
              "      <td>No</td>\n",
              "      <td>Sun</td>\n",
              "      <td>Dinner</td>\n",
              "      <td>2</td>\n",
              "    </tr>\n",
              "    <tr>\n",
              "      <th>4</th>\n",
              "      <td>24.59</td>\n",
              "      <td>3.61</td>\n",
              "      <td>Female</td>\n",
              "      <td>No</td>\n",
              "      <td>Sun</td>\n",
              "      <td>Dinner</td>\n",
              "      <td>4</td>\n",
              "    </tr>\n",
              "    <tr>\n",
              "      <th>...</th>\n",
              "      <td>...</td>\n",
              "      <td>...</td>\n",
              "      <td>...</td>\n",
              "      <td>...</td>\n",
              "      <td>...</td>\n",
              "      <td>...</td>\n",
              "      <td>...</td>\n",
              "    </tr>\n",
              "    <tr>\n",
              "      <th>239</th>\n",
              "      <td>29.03</td>\n",
              "      <td>5.92</td>\n",
              "      <td>Male</td>\n",
              "      <td>No</td>\n",
              "      <td>Sat</td>\n",
              "      <td>Dinner</td>\n",
              "      <td>3</td>\n",
              "    </tr>\n",
              "    <tr>\n",
              "      <th>240</th>\n",
              "      <td>27.18</td>\n",
              "      <td>2.00</td>\n",
              "      <td>Female</td>\n",
              "      <td>Yes</td>\n",
              "      <td>Sat</td>\n",
              "      <td>Dinner</td>\n",
              "      <td>2</td>\n",
              "    </tr>\n",
              "    <tr>\n",
              "      <th>241</th>\n",
              "      <td>22.67</td>\n",
              "      <td>2.00</td>\n",
              "      <td>Male</td>\n",
              "      <td>Yes</td>\n",
              "      <td>Sat</td>\n",
              "      <td>Dinner</td>\n",
              "      <td>2</td>\n",
              "    </tr>\n",
              "    <tr>\n",
              "      <th>242</th>\n",
              "      <td>17.82</td>\n",
              "      <td>1.75</td>\n",
              "      <td>Male</td>\n",
              "      <td>No</td>\n",
              "      <td>Sat</td>\n",
              "      <td>Dinner</td>\n",
              "      <td>2</td>\n",
              "    </tr>\n",
              "    <tr>\n",
              "      <th>243</th>\n",
              "      <td>18.78</td>\n",
              "      <td>3.00</td>\n",
              "      <td>Female</td>\n",
              "      <td>No</td>\n",
              "      <td>Thur</td>\n",
              "      <td>Dinner</td>\n",
              "      <td>2</td>\n",
              "    </tr>\n",
              "  </tbody>\n",
              "</table>\n",
              "<p>244 rows × 7 columns</p>\n",
              "</div>"
            ],
            "text/plain": [
              "     total_bill   tip     sex smoker   day    time  size\n",
              "0         16.99  1.01  Female     No   Sun  Dinner     2\n",
              "1         10.34  1.66    Male     No   Sun  Dinner     3\n",
              "2         21.01  3.50    Male     No   Sun  Dinner     3\n",
              "3         23.68  3.31    Male     No   Sun  Dinner     2\n",
              "4         24.59  3.61  Female     No   Sun  Dinner     4\n",
              "..          ...   ...     ...    ...   ...     ...   ...\n",
              "239       29.03  5.92    Male     No   Sat  Dinner     3\n",
              "240       27.18  2.00  Female    Yes   Sat  Dinner     2\n",
              "241       22.67  2.00    Male    Yes   Sat  Dinner     2\n",
              "242       17.82  1.75    Male     No   Sat  Dinner     2\n",
              "243       18.78  3.00  Female     No  Thur  Dinner     2\n",
              "\n",
              "[244 rows x 7 columns]"
            ]
          },
          "metadata": {
            "tags": []
          },
          "execution_count": 15
        }
      ]
    },
    {
      "cell_type": "code",
      "metadata": {
        "colab": {
          "base_uri": "https://localhost:8080/"
        },
        "id": "RhqM0jMXKOUn",
        "outputId": "d8cd9026-d5ee-49ba-b994-00d99c90c7f6"
      },
      "source": [
        "tips.info()"
      ],
      "execution_count": null,
      "outputs": [
        {
          "output_type": "stream",
          "text": [
            "<class 'pandas.core.frame.DataFrame'>\n",
            "RangeIndex: 244 entries, 0 to 243\n",
            "Data columns (total 7 columns):\n",
            " #   Column      Non-Null Count  Dtype   \n",
            "---  ------      --------------  -----   \n",
            " 0   total_bill  244 non-null    float64 \n",
            " 1   tip         244 non-null    float64 \n",
            " 2   sex         244 non-null    category\n",
            " 3   smoker      244 non-null    category\n",
            " 4   day         244 non-null    category\n",
            " 5   time        244 non-null    category\n",
            " 6   size        244 non-null    int64   \n",
            "dtypes: category(4), float64(2), int64(1)\n",
            "memory usage: 7.3 KB\n"
          ],
          "name": "stdout"
        }
      ]
    },
    {
      "cell_type": "markdown",
      "metadata": {
        "id": "_NA_YT2BViQS"
      },
      "source": [
        "#Pandas를 이용한 Seaborn library 학습"
      ]
    },
    {
      "cell_type": "code",
      "metadata": {
        "id": "pcI8o63FMMe4"
      },
      "source": [
        "import pandas as pd"
      ],
      "execution_count": null,
      "outputs": []
    },
    {
      "cell_type": "code",
      "metadata": {
        "colab": {
          "base_uri": "https://localhost:8080/"
        },
        "id": "xz7jobgHWKF-",
        "outputId": "ca880929-9775-437b-a419-4c744d9fe48f"
      },
      "source": [
        "from google.colab import drive\n",
        "drive.mount('/content/drive')"
      ],
      "execution_count": null,
      "outputs": [
        {
          "output_type": "stream",
          "text": [
            "Mounted at /content/drive\n"
          ],
          "name": "stdout"
        }
      ]
    },
    {
      "cell_type": "code",
      "metadata": {
        "id": "ct7oXVi3WTyU"
      },
      "source": [
        "df=pd.read_csv('/content/drive/Shareddrives/VisualPython/DATA/cosmetics_.csv', encoding='utf-8')"
      ],
      "execution_count": null,
      "outputs": []
    },
    {
      "cell_type": "code",
      "metadata": {
        "colab": {
          "base_uri": "https://localhost:8080/",
          "height": 402
        },
        "id": "jicQvx3-W1pA",
        "outputId": "ac2d9a38-73df-457c-90d7-e532ef22a452"
      },
      "source": [
        "df"
      ],
      "execution_count": null,
      "outputs": [
        {
          "output_type": "execute_result",
          "data": {
            "text/html": [
              "<div>\n",
              "<style scoped>\n",
              "    .dataframe tbody tr th:only-of-type {\n",
              "        vertical-align: middle;\n",
              "    }\n",
              "\n",
              "    .dataframe tbody tr th {\n",
              "        vertical-align: top;\n",
              "    }\n",
              "\n",
              "    .dataframe thead th {\n",
              "        text-align: right;\n",
              "    }\n",
              "</style>\n",
              "<table border=\"1\" class=\"dataframe\">\n",
              "  <thead>\n",
              "    <tr style=\"text-align: right;\">\n",
              "      <th></th>\n",
              "      <th>gender</th>\n",
              "      <th>marriage</th>\n",
              "      <th>edu</th>\n",
              "      <th>job</th>\n",
              "      <th>mincome</th>\n",
              "      <th>aware</th>\n",
              "      <th>count</th>\n",
              "      <th>amount</th>\n",
              "      <th>decision</th>\n",
              "      <th>propensity</th>\n",
              "      <th>skin</th>\n",
              "      <th>promo</th>\n",
              "      <th>location</th>\n",
              "      <th>satisf_b</th>\n",
              "      <th>satisf_i</th>\n",
              "      <th>satisf_al</th>\n",
              "      <th>repurchase</th>\n",
              "    </tr>\n",
              "  </thead>\n",
              "  <tbody>\n",
              "    <tr>\n",
              "      <th>0</th>\n",
              "      <td>1</td>\n",
              "      <td>1</td>\n",
              "      <td>4</td>\n",
              "      <td>1</td>\n",
              "      <td>2</td>\n",
              "      <td>2</td>\n",
              "      <td>1</td>\n",
              "      <td>11000</td>\n",
              "      <td>2</td>\n",
              "      <td>1</td>\n",
              "      <td>1</td>\n",
              "      <td>1</td>\n",
              "      <td>2</td>\n",
              "      <td>5</td>\n",
              "      <td>2</td>\n",
              "      <td>2</td>\n",
              "      <td>2</td>\n",
              "    </tr>\n",
              "    <tr>\n",
              "      <th>1</th>\n",
              "      <td>2</td>\n",
              "      <td>1</td>\n",
              "      <td>4</td>\n",
              "      <td>9</td>\n",
              "      <td>2</td>\n",
              "      <td>1</td>\n",
              "      <td>4</td>\n",
              "      <td>30000</td>\n",
              "      <td>1</td>\n",
              "      <td>1</td>\n",
              "      <td>3</td>\n",
              "      <td>2</td>\n",
              "      <td>3</td>\n",
              "      <td>2</td>\n",
              "      <td>3</td>\n",
              "      <td>3</td>\n",
              "      <td>4</td>\n",
              "    </tr>\n",
              "    <tr>\n",
              "      <th>2</th>\n",
              "      <td>2</td>\n",
              "      <td>2</td>\n",
              "      <td>4</td>\n",
              "      <td>4</td>\n",
              "      <td>3</td>\n",
              "      <td>1</td>\n",
              "      <td>6</td>\n",
              "      <td>100000</td>\n",
              "      <td>3</td>\n",
              "      <td>2</td>\n",
              "      <td>3</td>\n",
              "      <td>2</td>\n",
              "      <td>2</td>\n",
              "      <td>4</td>\n",
              "      <td>5</td>\n",
              "      <td>4</td>\n",
              "      <td>4</td>\n",
              "    </tr>\n",
              "    <tr>\n",
              "      <th>3</th>\n",
              "      <td>2</td>\n",
              "      <td>2</td>\n",
              "      <td>4</td>\n",
              "      <td>7</td>\n",
              "      <td>5</td>\n",
              "      <td>2</td>\n",
              "      <td>6</td>\n",
              "      <td>65000</td>\n",
              "      <td>3</td>\n",
              "      <td>2</td>\n",
              "      <td>5</td>\n",
              "      <td>2</td>\n",
              "      <td>3</td>\n",
              "      <td>3</td>\n",
              "      <td>4</td>\n",
              "      <td>4</td>\n",
              "      <td>4</td>\n",
              "    </tr>\n",
              "    <tr>\n",
              "      <th>4</th>\n",
              "      <td>1</td>\n",
              "      <td>2</td>\n",
              "      <td>6</td>\n",
              "      <td>6</td>\n",
              "      <td>5</td>\n",
              "      <td>2</td>\n",
              "      <td>2</td>\n",
              "      <td>50000</td>\n",
              "      <td>2</td>\n",
              "      <td>2</td>\n",
              "      <td>3</td>\n",
              "      <td>2</td>\n",
              "      <td>3</td>\n",
              "      <td>3</td>\n",
              "      <td>3</td>\n",
              "      <td>3</td>\n",
              "      <td>3</td>\n",
              "    </tr>\n",
              "    <tr>\n",
              "      <th>...</th>\n",
              "      <td>...</td>\n",
              "      <td>...</td>\n",
              "      <td>...</td>\n",
              "      <td>...</td>\n",
              "      <td>...</td>\n",
              "      <td>...</td>\n",
              "      <td>...</td>\n",
              "      <td>...</td>\n",
              "      <td>...</td>\n",
              "      <td>...</td>\n",
              "      <td>...</td>\n",
              "      <td>...</td>\n",
              "      <td>...</td>\n",
              "      <td>...</td>\n",
              "      <td>...</td>\n",
              "      <td>...</td>\n",
              "      <td>...</td>\n",
              "    </tr>\n",
              "    <tr>\n",
              "      <th>242</th>\n",
              "      <td>1</td>\n",
              "      <td>1</td>\n",
              "      <td>4</td>\n",
              "      <td>2</td>\n",
              "      <td>3</td>\n",
              "      <td>2</td>\n",
              "      <td>6</td>\n",
              "      <td>4000</td>\n",
              "      <td>1</td>\n",
              "      <td>1</td>\n",
              "      <td>1</td>\n",
              "      <td>1</td>\n",
              "      <td>4</td>\n",
              "      <td>2</td>\n",
              "      <td>1</td>\n",
              "      <td>1</td>\n",
              "      <td>1</td>\n",
              "    </tr>\n",
              "    <tr>\n",
              "      <th>243</th>\n",
              "      <td>2</td>\n",
              "      <td>2</td>\n",
              "      <td>4</td>\n",
              "      <td>4</td>\n",
              "      <td>2</td>\n",
              "      <td>1</td>\n",
              "      <td>10</td>\n",
              "      <td>150000</td>\n",
              "      <td>3</td>\n",
              "      <td>2</td>\n",
              "      <td>2</td>\n",
              "      <td>1</td>\n",
              "      <td>2</td>\n",
              "      <td>3</td>\n",
              "      <td>4</td>\n",
              "      <td>4</td>\n",
              "      <td>4</td>\n",
              "    </tr>\n",
              "    <tr>\n",
              "      <th>244</th>\n",
              "      <td>2</td>\n",
              "      <td>2</td>\n",
              "      <td>7</td>\n",
              "      <td>8</td>\n",
              "      <td>1</td>\n",
              "      <td>2</td>\n",
              "      <td>3</td>\n",
              "      <td>100000</td>\n",
              "      <td>1</td>\n",
              "      <td>2</td>\n",
              "      <td>1</td>\n",
              "      <td>1</td>\n",
              "      <td>5</td>\n",
              "      <td>2</td>\n",
              "      <td>5</td>\n",
              "      <td>4</td>\n",
              "      <td>4</td>\n",
              "    </tr>\n",
              "    <tr>\n",
              "      <th>245</th>\n",
              "      <td>1</td>\n",
              "      <td>1</td>\n",
              "      <td>4</td>\n",
              "      <td>6</td>\n",
              "      <td>1</td>\n",
              "      <td>3</td>\n",
              "      <td>2</td>\n",
              "      <td>20000</td>\n",
              "      <td>3</td>\n",
              "      <td>1</td>\n",
              "      <td>1</td>\n",
              "      <td>1</td>\n",
              "      <td>3</td>\n",
              "      <td>4</td>\n",
              "      <td>3</td>\n",
              "      <td>3</td>\n",
              "      <td>2</td>\n",
              "    </tr>\n",
              "    <tr>\n",
              "      <th>246</th>\n",
              "      <td>2</td>\n",
              "      <td>2</td>\n",
              "      <td>6</td>\n",
              "      <td>10</td>\n",
              "      <td>1</td>\n",
              "      <td>1</td>\n",
              "      <td>10</td>\n",
              "      <td>1000000</td>\n",
              "      <td>3</td>\n",
              "      <td>2</td>\n",
              "      <td>3</td>\n",
              "      <td>1</td>\n",
              "      <td>3</td>\n",
              "      <td>2</td>\n",
              "      <td>3</td>\n",
              "      <td>3</td>\n",
              "      <td>3</td>\n",
              "    </tr>\n",
              "  </tbody>\n",
              "</table>\n",
              "<p>247 rows × 17 columns</p>\n",
              "</div>"
            ],
            "text/plain": [
              "     gender  marriage  edu  job  ...  satisf_b  satisf_i  satisf_al  repurchase\n",
              "0         1         1    4    1  ...         5         2          2           2\n",
              "1         2         1    4    9  ...         2         3          3           4\n",
              "2         2         2    4    4  ...         4         5          4           4\n",
              "3         2         2    4    7  ...         3         4          4           4\n",
              "4         1         2    6    6  ...         3         3          3           3\n",
              "..      ...       ...  ...  ...  ...       ...       ...        ...         ...\n",
              "242       1         1    4    2  ...         2         1          1           1\n",
              "243       2         2    4    4  ...         3         4          4           4\n",
              "244       2         2    7    8  ...         2         5          4           4\n",
              "245       1         1    4    6  ...         4         3          3           2\n",
              "246       2         2    6   10  ...         2         3          3           3\n",
              "\n",
              "[247 rows x 17 columns]"
            ]
          },
          "metadata": {
            "tags": []
          },
          "execution_count": 20
        }
      ]
    },
    {
      "cell_type": "code",
      "metadata": {
        "colab": {
          "base_uri": "https://localhost:8080/",
          "height": 304
        },
        "id": "D4gFtAJvW489",
        "outputId": "f5e47036-d1a9-4f44-c2ff-e0fcf53498e9"
      },
      "source": [
        "df.describe()"
      ],
      "execution_count": null,
      "outputs": [
        {
          "output_type": "execute_result",
          "data": {
            "text/html": [
              "<div>\n",
              "<style scoped>\n",
              "    .dataframe tbody tr th:only-of-type {\n",
              "        vertical-align: middle;\n",
              "    }\n",
              "\n",
              "    .dataframe tbody tr th {\n",
              "        vertical-align: top;\n",
              "    }\n",
              "\n",
              "    .dataframe thead th {\n",
              "        text-align: right;\n",
              "    }\n",
              "</style>\n",
              "<table border=\"1\" class=\"dataframe\">\n",
              "  <thead>\n",
              "    <tr style=\"text-align: right;\">\n",
              "      <th></th>\n",
              "      <th>gender</th>\n",
              "      <th>marriage</th>\n",
              "      <th>edu</th>\n",
              "      <th>job</th>\n",
              "      <th>mincome</th>\n",
              "      <th>aware</th>\n",
              "      <th>count</th>\n",
              "      <th>amount</th>\n",
              "      <th>decision</th>\n",
              "      <th>propensity</th>\n",
              "      <th>skin</th>\n",
              "      <th>promo</th>\n",
              "      <th>location</th>\n",
              "      <th>satisf_b</th>\n",
              "      <th>satisf_i</th>\n",
              "      <th>satisf_al</th>\n",
              "      <th>repurchase</th>\n",
              "    </tr>\n",
              "  </thead>\n",
              "  <tbody>\n",
              "    <tr>\n",
              "      <th>count</th>\n",
              "      <td>247.000000</td>\n",
              "      <td>247.000000</td>\n",
              "      <td>247.000000</td>\n",
              "      <td>247.000000</td>\n",
              "      <td>247.000000</td>\n",
              "      <td>247.000000</td>\n",
              "      <td>247.000000</td>\n",
              "      <td>2.470000e+02</td>\n",
              "      <td>247.000000</td>\n",
              "      <td>247.000000</td>\n",
              "      <td>247.000000</td>\n",
              "      <td>247.000000</td>\n",
              "      <td>247.000000</td>\n",
              "      <td>247.000000</td>\n",
              "      <td>247.000000</td>\n",
              "      <td>247.000000</td>\n",
              "      <td>247.000000</td>\n",
              "    </tr>\n",
              "    <tr>\n",
              "      <th>mean</th>\n",
              "      <td>1.465587</td>\n",
              "      <td>1.712551</td>\n",
              "      <td>4.566802</td>\n",
              "      <td>4.578947</td>\n",
              "      <td>3.757085</td>\n",
              "      <td>3.319838</td>\n",
              "      <td>4.327935</td>\n",
              "      <td>1.539393e+05</td>\n",
              "      <td>2.388664</td>\n",
              "      <td>1.975709</td>\n",
              "      <td>2.761134</td>\n",
              "      <td>2.016194</td>\n",
              "      <td>2.465587</td>\n",
              "      <td>2.890688</td>\n",
              "      <td>3.404858</td>\n",
              "      <td>3.461538</td>\n",
              "      <td>3.554656</td>\n",
              "    </tr>\n",
              "    <tr>\n",
              "      <th>std</th>\n",
              "      <td>0.499827</td>\n",
              "      <td>0.453492</td>\n",
              "      <td>1.709191</td>\n",
              "      <td>2.199603</td>\n",
              "      <td>1.674079</td>\n",
              "      <td>5.575692</td>\n",
              "      <td>4.422061</td>\n",
              "      <td>3.980750e+05</td>\n",
              "      <td>0.761599</td>\n",
              "      <td>0.680310</td>\n",
              "      <td>1.488311</td>\n",
              "      <td>0.821300</td>\n",
              "      <td>1.073437</td>\n",
              "      <td>0.780995</td>\n",
              "      <td>0.830110</td>\n",
              "      <td>0.752731</td>\n",
              "      <td>0.724182</td>\n",
              "    </tr>\n",
              "    <tr>\n",
              "      <th>min</th>\n",
              "      <td>1.000000</td>\n",
              "      <td>1.000000</td>\n",
              "      <td>2.000000</td>\n",
              "      <td>1.000000</td>\n",
              "      <td>1.000000</td>\n",
              "      <td>1.000000</td>\n",
              "      <td>1.000000</td>\n",
              "      <td>3.000000e+03</td>\n",
              "      <td>1.000000</td>\n",
              "      <td>1.000000</td>\n",
              "      <td>1.000000</td>\n",
              "      <td>1.000000</td>\n",
              "      <td>1.000000</td>\n",
              "      <td>1.000000</td>\n",
              "      <td>1.000000</td>\n",
              "      <td>1.000000</td>\n",
              "      <td>1.000000</td>\n",
              "    </tr>\n",
              "    <tr>\n",
              "      <th>25%</th>\n",
              "      <td>1.000000</td>\n",
              "      <td>1.000000</td>\n",
              "      <td>4.000000</td>\n",
              "      <td>3.000000</td>\n",
              "      <td>2.000000</td>\n",
              "      <td>1.000000</td>\n",
              "      <td>2.000000</td>\n",
              "      <td>3.000000e+04</td>\n",
              "      <td>2.000000</td>\n",
              "      <td>2.000000</td>\n",
              "      <td>1.000000</td>\n",
              "      <td>2.000000</td>\n",
              "      <td>2.000000</td>\n",
              "      <td>2.000000</td>\n",
              "      <td>3.000000</td>\n",
              "      <td>3.000000</td>\n",
              "      <td>3.000000</td>\n",
              "    </tr>\n",
              "    <tr>\n",
              "      <th>50%</th>\n",
              "      <td>1.000000</td>\n",
              "      <td>2.000000</td>\n",
              "      <td>4.000000</td>\n",
              "      <td>4.000000</td>\n",
              "      <td>4.000000</td>\n",
              "      <td>2.000000</td>\n",
              "      <td>3.000000</td>\n",
              "      <td>5.200000e+04</td>\n",
              "      <td>3.000000</td>\n",
              "      <td>2.000000</td>\n",
              "      <td>3.000000</td>\n",
              "      <td>2.000000</td>\n",
              "      <td>3.000000</td>\n",
              "      <td>3.000000</td>\n",
              "      <td>3.000000</td>\n",
              "      <td>4.000000</td>\n",
              "      <td>4.000000</td>\n",
              "    </tr>\n",
              "    <tr>\n",
              "      <th>75%</th>\n",
              "      <td>2.000000</td>\n",
              "      <td>2.000000</td>\n",
              "      <td>6.000000</td>\n",
              "      <td>6.000000</td>\n",
              "      <td>5.000000</td>\n",
              "      <td>2.000000</td>\n",
              "      <td>5.000000</td>\n",
              "      <td>1.000000e+05</td>\n",
              "      <td>3.000000</td>\n",
              "      <td>2.000000</td>\n",
              "      <td>4.000000</td>\n",
              "      <td>2.000000</td>\n",
              "      <td>3.000000</td>\n",
              "      <td>3.000000</td>\n",
              "      <td>4.000000</td>\n",
              "      <td>4.000000</td>\n",
              "      <td>4.000000</td>\n",
              "    </tr>\n",
              "    <tr>\n",
              "      <th>max</th>\n",
              "      <td>2.000000</td>\n",
              "      <td>2.000000</td>\n",
              "      <td>8.000000</td>\n",
              "      <td>10.000000</td>\n",
              "      <td>6.000000</td>\n",
              "      <td>31.000000</td>\n",
              "      <td>36.000000</td>\n",
              "      <td>5.000000e+06</td>\n",
              "      <td>3.000000</td>\n",
              "      <td>3.000000</td>\n",
              "      <td>5.000000</td>\n",
              "      <td>4.000000</td>\n",
              "      <td>5.000000</td>\n",
              "      <td>5.000000</td>\n",
              "      <td>5.000000</td>\n",
              "      <td>5.000000</td>\n",
              "      <td>5.000000</td>\n",
              "    </tr>\n",
              "  </tbody>\n",
              "</table>\n",
              "</div>"
            ],
            "text/plain": [
              "           gender    marriage         edu  ...    satisf_i   satisf_al  repurchase\n",
              "count  247.000000  247.000000  247.000000  ...  247.000000  247.000000  247.000000\n",
              "mean     1.465587    1.712551    4.566802  ...    3.404858    3.461538    3.554656\n",
              "std      0.499827    0.453492    1.709191  ...    0.830110    0.752731    0.724182\n",
              "min      1.000000    1.000000    2.000000  ...    1.000000    1.000000    1.000000\n",
              "25%      1.000000    1.000000    4.000000  ...    3.000000    3.000000    3.000000\n",
              "50%      1.000000    2.000000    4.000000  ...    3.000000    4.000000    4.000000\n",
              "75%      2.000000    2.000000    6.000000  ...    4.000000    4.000000    4.000000\n",
              "max      2.000000    2.000000    8.000000  ...    5.000000    5.000000    5.000000\n",
              "\n",
              "[8 rows x 17 columns]"
            ]
          },
          "metadata": {
            "tags": []
          },
          "execution_count": 21
        }
      ]
    },
    {
      "cell_type": "code",
      "metadata": {
        "colab": {
          "base_uri": "https://localhost:8080/"
        },
        "id": "0sRXmBL-W8Il",
        "outputId": "961225f6-82fe-4eb9-b3bb-a2251cf81b68"
      },
      "source": [
        "df.info()"
      ],
      "execution_count": null,
      "outputs": [
        {
          "output_type": "stream",
          "text": [
            "<class 'pandas.core.frame.DataFrame'>\n",
            "RangeIndex: 247 entries, 0 to 246\n",
            "Data columns (total 17 columns):\n",
            " #   Column      Non-Null Count  Dtype\n",
            "---  ------      --------------  -----\n",
            " 0   gender      247 non-null    int64\n",
            " 1   marriage    247 non-null    int64\n",
            " 2   edu         247 non-null    int64\n",
            " 3   job         247 non-null    int64\n",
            " 4   mincome     247 non-null    int64\n",
            " 5   aware       247 non-null    int64\n",
            " 6   count       247 non-null    int64\n",
            " 7   amount      247 non-null    int64\n",
            " 8   decision    247 non-null    int64\n",
            " 9   propensity  247 non-null    int64\n",
            " 10  skin        247 non-null    int64\n",
            " 11  promo       247 non-null    int64\n",
            " 12  location    247 non-null    int64\n",
            " 13  satisf_b    247 non-null    int64\n",
            " 14  satisf_i    247 non-null    int64\n",
            " 15  satisf_al   247 non-null    int64\n",
            " 16  repurchase  247 non-null    int64\n",
            "dtypes: int64(17)\n",
            "memory usage: 32.9 KB\n"
          ],
          "name": "stdout"
        }
      ]
    },
    {
      "cell_type": "code",
      "metadata": {
        "colab": {
          "base_uri": "https://localhost:8080/",
          "height": 393
        },
        "id": "PN3cR9HtXCQE",
        "outputId": "d1172338-3933-45cf-80aa-87837f98455e"
      },
      "source": [
        "import seaborn as sns\n",
        "sns.distplot(df[\"job\"], hist=True, kde=True, rug=True, color='green', vertical=False, axlabel=\"JOB\", label=\"SMUW\")"
      ],
      "execution_count": null,
      "outputs": [
        {
          "output_type": "stream",
          "text": [
            "/usr/local/lib/python3.7/dist-packages/seaborn/distributions.py:2557: FutureWarning: `distplot` is a deprecated function and will be removed in a future version. Please adapt your code to use either `displot` (a figure-level function with similar flexibility) or `histplot` (an axes-level function for histograms).\n",
            "  warnings.warn(msg, FutureWarning)\n",
            "/usr/local/lib/python3.7/dist-packages/seaborn/distributions.py:2056: FutureWarning: The `axis` variable is no longer used and will be removed. Instead, assign variables directly to `x` or `y`.\n",
            "  warnings.warn(msg, FutureWarning)\n"
          ],
          "name": "stderr"
        },
        {
          "output_type": "execute_result",
          "data": {
            "text/plain": [
              "<matplotlib.axes._subplots.AxesSubplot at 0x7fc000cffc50>"
            ]
          },
          "metadata": {
            "tags": []
          },
          "execution_count": 33
        },
        {
          "output_type": "display_data",
          "data": {
            "image/png": "[encoded data removed]",
            "text/plain": [
              "<Figure size 432x288 with 1 Axes>"
            ]
          },
          "metadata": {
            "tags": []
          }
        }
      ]
    },
    {
      "cell_type": "code",
      "metadata": {
        "colab": {
          "base_uri": "https://localhost:8080/"
        },
        "id": "UrYS4ukJaRxb",
        "outputId": "f3880a82-074c-480d-a1ec-71fb62925666"
      },
      "source": [
        "df[\"amount\"].describe()"
      ],
      "execution_count": null,
      "outputs": [
        {
          "output_type": "execute_result",
          "data": {
            "text/plain": [
              "count    2.470000e+02\n",
              "mean     1.539393e+05\n",
              "std      3.980750e+05\n",
              "min      3.000000e+03\n",
              "25%      3.000000e+04\n",
              "50%      5.200000e+04\n",
              "75%      1.000000e+05\n",
              "max      5.000000e+06\n",
              "Name: amount, dtype: float64"
            ]
          },
          "metadata": {
            "tags": []
          },
          "execution_count": 32
        }
      ]
    },
    {
      "cell_type": "markdown",
      "metadata": {
        "id": "0NY2Lem5ac3H"
      },
      "source": [
        "각각의 column에 대해서 추가로 시각화하여 특성을 파악해보세요"
      ]
    },
    {
      "cell_type": "code",
      "metadata": {
        "colab": {
          "base_uri": "https://localhost:8080/",
          "height": 454
        },
        "id": "NFtKWcVbZhUv",
        "outputId": "f5b15d91-b588-4407-85df-99a32ddf5b19"
      },
      "source": [
        "sns.jointplot(x=\"amount\", y=\"count\", data=df, kind=\"hist\")"
      ],
      "execution_count": null,
      "outputs": [
        {
          "output_type": "execute_result",
          "data": {
            "text/plain": [
              "<seaborn.axisgrid.JointGrid at 0x7fc000cae4d0>"
            ]
          },
          "metadata": {
            "tags": []
          },
          "execution_count": 36
        },
        {
          "output_type": "display_data",
          "data": {
            "image/png": "[encoded data removed]",
            "text/plain": [
              "<Figure size 432x432 with 3 Axes>"
            ]
          },
          "metadata": {
            "tags": []
          }
        }
      ]
    },
    {
      "cell_type": "code",
      "metadata": {
        "colab": {
          "base_uri": "https://localhost:8080/",
          "height": 454
        },
        "id": "YXwl9ViOYS6P",
        "outputId": "8c77da3c-455c-442e-ce0d-3d067203398b"
      },
      "source": [
        "sns.jointplot(x=\"amount\", y=\"count\", data=df,  kind=\"hist\", space=1, color=\"b\").plot_joint(sns.kdeplot, zorder=1, n_levels=6)"
      ],
      "execution_count": null,
      "outputs": [
        {
          "output_type": "execute_result",
          "data": {
            "text/plain": [
              "<seaborn.axisgrid.JointGrid at 0x7fbffca18350>"
            ]
          },
          "metadata": {
            "tags": []
          },
          "execution_count": 47
        },
        {
          "output_type": "display_data",
          "data": {
            "image/png": "[encoded data removed]",
            "text/plain": [
              "<Figure size 432x432 with 3 Axes>"
            ]
          },
          "metadata": {
            "tags": []
          }
        }
      ]
    },
    {
      "cell_type": "markdown",
      "metadata": {
        "id": "TXuvobJDan4n"
      },
      "source": [
        "두 가지 이상의 column에 대해 추가로 jointplot을 적용하여 특성관계를 파악해보세요."
      ]
    },
    {
      "cell_type": "code",
      "metadata": {
        "colab": {
          "base_uri": "https://localhost:8080/",
          "height": 362
        },
        "id": "DpVKdW6aZZxN",
        "outputId": "8e9770a4-dc5b-45bf-92d0-212e80250543"
      },
      "source": [
        " plt.subplots(figsize=(10,5))"
      ],
      "execution_count": null,
      "outputs": [
        {
          "output_type": "execute_result",
          "data": {
            "text/plain": [
              "(<Figure size 720x360 with 1 Axes>,\n",
              " <matplotlib.axes._subplots.AxesSubplot at 0x7fbffd3a68d0>)"
            ]
          },
          "metadata": {
            "tags": []
          },
          "execution_count": 51
        },
        {
          "output_type": "display_data",
          "data": {
            "image/png": "[encoded data removed]",
            "text/plain": [
              "<Figure size 720x360 with 1 Axes>"
            ]
          },
          "metadata": {
            "tags": []
          }
        }
      ]
    },
    {
      "cell_type": "code",
      "metadata": {
        "id": "0ZOT1hzwcX_N"
      },
      "source": [
        "sns.set()"
      ],
      "execution_count": null,
      "outputs": []
    },
    {
      "cell_type": "code",
      "metadata": {
        "id": "rnw0Yn6bce1r"
      },
      "source": [
        " sns.set_style(\"whitegrid\")"
      ],
      "execution_count": null,
      "outputs": []
    },
    {
      "cell_type": "code",
      "metadata": {
        "id": "6nXSG6i_cijT"
      },
      "source": [
        " sns.set_style(\"ticks\", {\"xtick.major.size\":8,\"ytick.major.size\":8})"
      ],
      "execution_count": null,
      "outputs": []
    },
    {
      "cell_type": "code",
      "metadata": {
        "colab": {
          "base_uri": "https://localhost:8080/"
        },
        "id": "6-WpQnQtcl6z",
        "outputId": "308ac996-6c14-4738-8daf-fb6750d768dd"
      },
      "source": [
        "sns.axes_style(\"whitegrid\")"
      ],
      "execution_count": null,
      "outputs": [
        {
          "output_type": "execute_result",
          "data": {
            "text/plain": [
              "{'axes.axisbelow': True,\n",
              " 'axes.edgecolor': '.8',\n",
              " 'axes.facecolor': 'white',\n",
              " 'axes.grid': True,\n",
              " 'axes.labelcolor': '.15',\n",
              " 'axes.spines.bottom': True,\n",
              " 'axes.spines.left': True,\n",
              " 'axes.spines.right': True,\n",
              " 'axes.spines.top': True,\n",
              " 'figure.facecolor': 'white',\n",
              " 'font.family': ['sans-serif'],\n",
              " 'font.sans-serif': ['Arial',\n",
              "  'DejaVu Sans',\n",
              "  'Liberation Sans',\n",
              "  'Bitstream Vera Sans',\n",
              "  'sans-serif'],\n",
              " 'grid.color': '.8',\n",
              " 'grid.linestyle': '-',\n",
              " 'image.cmap': 'rocket',\n",
              " 'lines.solid_capstyle': 'round',\n",
              " 'patch.edgecolor': 'w',\n",
              " 'patch.force_edgecolor': True,\n",
              " 'text.color': '.15',\n",
              " 'xtick.bottom': False,\n",
              " 'xtick.color': '.15',\n",
              " 'xtick.direction': 'out',\n",
              " 'xtick.top': False,\n",
              " 'ytick.color': '.15',\n",
              " 'ytick.direction': 'out',\n",
              " 'ytick.left': False,\n",
              " 'ytick.right': False}"
            ]
          },
          "metadata": {
            "tags": []
          },
          "execution_count": 55
        }
      ]
    },
    {
      "cell_type": "code",
      "metadata": {
        "id": "cAU-ZdeBc0Mb"
      },
      "source": [
        " sns.set_context(\"talk\")"
      ],
      "execution_count": null,
      "outputs": []
    },
    {
      "cell_type": "code",
      "metadata": {
        "id": "Ojjvwhm3dMpL"
      },
      "source": [
        " sns.set_context(\"notebook\", font_scale=1, rc={\"lines.linewidth\":1})"
      ],
      "execution_count": null,
      "outputs": []
    },
    {
      "cell_type": "code",
      "metadata": {
        "id": "tPZcLEMZdwlf"
      },
      "source": [
        " sns.set_palette(\"husl\",3)"
      ],
      "execution_count": null,
      "outputs": []
    },
    {
      "cell_type": "code",
      "metadata": {
        "colab": {
          "base_uri": "https://localhost:8080/",
          "height": 74
        },
        "id": "pDfmEHUldz3e",
        "outputId": "c9d88d5f-1520-4746-b32d-49e5a503e292"
      },
      "source": [
        " sns.color_palette(\"husl\")"
      ],
      "execution_count": null,
      "outputs": [
        {
          "output_type": "execute_result",
          "data": {
            "text/html": [
              "<svg  width=\"330\" height=\"55\"><rect x=\"0\" y=\"0\" width=\"55\" height=\"55\" style=\"fill:#f77189;stroke-width:2;stroke:rgb(255,255,255)\"/><rect x=\"55\" y=\"0\" width=\"55\" height=\"55\" style=\"fill:#bb9832;stroke-width:2;stroke:rgb(255,255,255)\"/><rect x=\"110\" y=\"0\" width=\"55\" height=\"55\" style=\"fill:#50b131;stroke-width:2;stroke:rgb(255,255,255)\"/><rect x=\"165\" y=\"0\" width=\"55\" height=\"55\" style=\"fill:#36ada4;stroke-width:2;stroke:rgb(255,255,255)\"/><rect x=\"220\" y=\"0\" width=\"55\" height=\"55\" style=\"fill:#3ba3ec;stroke-width:2;stroke:rgb(255,255,255)\"/><rect x=\"275\" y=\"0\" width=\"55\" height=\"55\" style=\"fill:#e866f4;stroke-width:2;stroke:rgb(255,255,255)\"/></svg>"
            ],
            "text/plain": [
              "[(0.9677975592919913, 0.44127456009157356, 0.5358103155058701),\n",
              " (0.7350228985632719, 0.5952719904750953, 0.1944419133847522),\n",
              " (0.3126890019504329, 0.6928754610296064, 0.1923704830330379),\n",
              " (0.21044753832183283, 0.6773105080456748, 0.6433941168468681),\n",
              " (0.23299120924703914, 0.639586552066035, 0.9260706093977744),\n",
              " (0.9082572436765556, 0.40195790729656516, 0.9576909250290225)]"
            ]
          },
          "metadata": {
            "tags": []
          },
          "execution_count": 59
        }
      ]
    },
    {
      "cell_type": "code",
      "metadata": {
        "id": "L8cx85c0d6Cu"
      },
      "source": [
        " flatui = [\"#9b59b6\",\"#3498db\",\"#95a5a6\",\"#e74c3c\",\"#34495e\",\"#2ecc71\"]"
      ],
      "execution_count": null,
      "outputs": []
    },
    {
      "cell_type": "code",
      "metadata": {
        "id": "5sgB1rbJd-KP"
      },
      "source": [
        "sns.set_palette(flatui) "
      ],
      "execution_count": null,
      "outputs": []
    },
    {
      "cell_type": "code",
      "metadata": {
        "colab": {
          "base_uri": "https://localhost:8080/",
          "height": 466
        },
        "id": "QgGuJp_mdUvj",
        "outputId": "a262444b-ec58-4abe-d9a6-d08c4e3920cd"
      },
      "source": [
        "sns.jointplot(x=\"amount\", y=\"count\", data=df,  kind=\"kde\", space=0, color=\"g\").plot_joint(sns.kdeplot, zorder=0, n_levels=6)"
      ],
      "execution_count": null,
      "outputs": [
        {
          "output_type": "execute_result",
          "data": {
            "text/plain": [
              "<seaborn.axisgrid.JointGrid at 0x7fbffd4b5590>"
            ]
          },
          "metadata": {
            "tags": []
          },
          "execution_count": 62
        },
        {
          "output_type": "display_data",
          "data": {
            "image/png": "[encoded data removed]",
            "text/plain": [
              "<Figure size 432x432 with 3 Axes>"
            ]
          },
          "metadata": {
            "tags": []
          }
        }
      ]
    },
    {
      "cell_type": "markdown",
      "metadata": {
        "id": "MXraADxxec_y"
      },
      "source": [
        "#Categorical Plots"
      ]
    },
    {
      "cell_type": "code",
      "metadata": {
        "id": "VjZon9TxiFld"
      },
      "source": [
        "df['gender'] = df['gender'].replace([1,2], ['male', 'female'])"
      ],
      "execution_count": null,
      "outputs": []
    },
    {
      "cell_type": "code",
      "metadata": {
        "colab": {
          "base_uri": "https://localhost:8080/",
          "height": 402
        },
        "id": "llOqq9VLxTRC",
        "outputId": "728fa2e5-39a0-46ae-f56f-d714d1272244"
      },
      "source": [
        "df"
      ],
      "execution_count": null,
      "outputs": [
        {
          "output_type": "execute_result",
          "data": {
            "text/html": [
              "<div>\n",
              "<style scoped>\n",
              "    .dataframe tbody tr th:only-of-type {\n",
              "        vertical-align: middle;\n",
              "    }\n",
              "\n",
              "    .dataframe tbody tr th {\n",
              "        vertical-align: top;\n",
              "    }\n",
              "\n",
              "    .dataframe thead th {\n",
              "        text-align: right;\n",
              "    }\n",
              "</style>\n",
              "<table border=\"1\" class=\"dataframe\">\n",
              "  <thead>\n",
              "    <tr style=\"text-align: right;\">\n",
              "      <th></th>\n",
              "      <th>gender</th>\n",
              "      <th>marriage</th>\n",
              "      <th>edu</th>\n",
              "      <th>job</th>\n",
              "      <th>mincome</th>\n",
              "      <th>aware</th>\n",
              "      <th>count</th>\n",
              "      <th>amount</th>\n",
              "      <th>decision</th>\n",
              "      <th>propensity</th>\n",
              "      <th>skin</th>\n",
              "      <th>promo</th>\n",
              "      <th>location</th>\n",
              "      <th>satisf_b</th>\n",
              "      <th>satisf_i</th>\n",
              "      <th>satisf_al</th>\n",
              "      <th>repurchase</th>\n",
              "    </tr>\n",
              "  </thead>\n",
              "  <tbody>\n",
              "    <tr>\n",
              "      <th>0</th>\n",
              "      <td>male</td>\n",
              "      <td>1</td>\n",
              "      <td>4</td>\n",
              "      <td>1</td>\n",
              "      <td>2</td>\n",
              "      <td>2</td>\n",
              "      <td>1</td>\n",
              "      <td>11000</td>\n",
              "      <td>2</td>\n",
              "      <td>1</td>\n",
              "      <td>1</td>\n",
              "      <td>1</td>\n",
              "      <td>2</td>\n",
              "      <td>5</td>\n",
              "      <td>2</td>\n",
              "      <td>2</td>\n",
              "      <td>2</td>\n",
              "    </tr>\n",
              "    <tr>\n",
              "      <th>1</th>\n",
              "      <td>female</td>\n",
              "      <td>1</td>\n",
              "      <td>4</td>\n",
              "      <td>9</td>\n",
              "      <td>2</td>\n",
              "      <td>1</td>\n",
              "      <td>4</td>\n",
              "      <td>30000</td>\n",
              "      <td>1</td>\n",
              "      <td>1</td>\n",
              "      <td>3</td>\n",
              "      <td>2</td>\n",
              "      <td>3</td>\n",
              "      <td>2</td>\n",
              "      <td>3</td>\n",
              "      <td>3</td>\n",
              "      <td>4</td>\n",
              "    </tr>\n",
              "    <tr>\n",
              "      <th>2</th>\n",
              "      <td>female</td>\n",
              "      <td>2</td>\n",
              "      <td>4</td>\n",
              "      <td>4</td>\n",
              "      <td>3</td>\n",
              "      <td>1</td>\n",
              "      <td>6</td>\n",
              "      <td>100000</td>\n",
              "      <td>3</td>\n",
              "      <td>2</td>\n",
              "      <td>3</td>\n",
              "      <td>2</td>\n",
              "      <td>2</td>\n",
              "      <td>4</td>\n",
              "      <td>5</td>\n",
              "      <td>4</td>\n",
              "      <td>4</td>\n",
              "    </tr>\n",
              "    <tr>\n",
              "      <th>3</th>\n",
              "      <td>female</td>\n",
              "      <td>2</td>\n",
              "      <td>4</td>\n",
              "      <td>7</td>\n",
              "      <td>5</td>\n",
              "      <td>2</td>\n",
              "      <td>6</td>\n",
              "      <td>65000</td>\n",
              "      <td>3</td>\n",
              "      <td>2</td>\n",
              "      <td>5</td>\n",
              "      <td>2</td>\n",
              "      <td>3</td>\n",
              "      <td>3</td>\n",
              "      <td>4</td>\n",
              "      <td>4</td>\n",
              "      <td>4</td>\n",
              "    </tr>\n",
              "    <tr>\n",
              "      <th>4</th>\n",
              "      <td>male</td>\n",
              "      <td>2</td>\n",
              "      <td>6</td>\n",
              "      <td>6</td>\n",
              "      <td>5</td>\n",
              "      <td>2</td>\n",
              "      <td>2</td>\n",
              "      <td>50000</td>\n",
              "      <td>2</td>\n",
              "      <td>2</td>\n",
              "      <td>3</td>\n",
              "      <td>2</td>\n",
              "      <td>3</td>\n",
              "      <td>3</td>\n",
              "      <td>3</td>\n",
              "      <td>3</td>\n",
              "      <td>3</td>\n",
              "    </tr>\n",
              "    <tr>\n",
              "      <th>...</th>\n",
              "      <td>...</td>\n",
              "      <td>...</td>\n",
              "      <td>...</td>\n",
              "      <td>...</td>\n",
              "      <td>...</td>\n",
              "      <td>...</td>\n",
              "      <td>...</td>\n",
              "      <td>...</td>\n",
              "      <td>...</td>\n",
              "      <td>...</td>\n",
              "      <td>...</td>\n",
              "      <td>...</td>\n",
              "      <td>...</td>\n",
              "      <td>...</td>\n",
              "      <td>...</td>\n",
              "      <td>...</td>\n",
              "      <td>...</td>\n",
              "    </tr>\n",
              "    <tr>\n",
              "      <th>242</th>\n",
              "      <td>male</td>\n",
              "      <td>1</td>\n",
              "      <td>4</td>\n",
              "      <td>2</td>\n",
              "      <td>3</td>\n",
              "      <td>2</td>\n",
              "      <td>6</td>\n",
              "      <td>4000</td>\n",
              "      <td>1</td>\n",
              "      <td>1</td>\n",
              "      <td>1</td>\n",
              "      <td>1</td>\n",
              "      <td>4</td>\n",
              "      <td>2</td>\n",
              "      <td>1</td>\n",
              "      <td>1</td>\n",
              "      <td>1</td>\n",
              "    </tr>\n",
              "    <tr>\n",
              "      <th>243</th>\n",
              "      <td>female</td>\n",
              "      <td>2</td>\n",
              "      <td>4</td>\n",
              "      <td>4</td>\n",
              "      <td>2</td>\n",
              "      <td>1</td>\n",
              "      <td>10</td>\n",
              "      <td>150000</td>\n",
              "      <td>3</td>\n",
              "      <td>2</td>\n",
              "      <td>2</td>\n",
              "      <td>1</td>\n",
              "      <td>2</td>\n",
              "      <td>3</td>\n",
              "      <td>4</td>\n",
              "      <td>4</td>\n",
              "      <td>4</td>\n",
              "    </tr>\n",
              "    <tr>\n",
              "      <th>244</th>\n",
              "      <td>female</td>\n",
              "      <td>2</td>\n",
              "      <td>7</td>\n",
              "      <td>8</td>\n",
              "      <td>1</td>\n",
              "      <td>2</td>\n",
              "      <td>3</td>\n",
              "      <td>100000</td>\n",
              "      <td>1</td>\n",
              "      <td>2</td>\n",
              "      <td>1</td>\n",
              "      <td>1</td>\n",
              "      <td>5</td>\n",
              "      <td>2</td>\n",
              "      <td>5</td>\n",
              "      <td>4</td>\n",
              "      <td>4</td>\n",
              "    </tr>\n",
              "    <tr>\n",
              "      <th>245</th>\n",
              "      <td>male</td>\n",
              "      <td>1</td>\n",
              "      <td>4</td>\n",
              "      <td>6</td>\n",
              "      <td>1</td>\n",
              "      <td>3</td>\n",
              "      <td>2</td>\n",
              "      <td>20000</td>\n",
              "      <td>3</td>\n",
              "      <td>1</td>\n",
              "      <td>1</td>\n",
              "      <td>1</td>\n",
              "      <td>3</td>\n",
              "      <td>4</td>\n",
              "      <td>3</td>\n",
              "      <td>3</td>\n",
              "      <td>2</td>\n",
              "    </tr>\n",
              "    <tr>\n",
              "      <th>246</th>\n",
              "      <td>female</td>\n",
              "      <td>2</td>\n",
              "      <td>6</td>\n",
              "      <td>10</td>\n",
              "      <td>1</td>\n",
              "      <td>1</td>\n",
              "      <td>10</td>\n",
              "      <td>1000000</td>\n",
              "      <td>3</td>\n",
              "      <td>2</td>\n",
              "      <td>3</td>\n",
              "      <td>1</td>\n",
              "      <td>3</td>\n",
              "      <td>2</td>\n",
              "      <td>3</td>\n",
              "      <td>3</td>\n",
              "      <td>3</td>\n",
              "    </tr>\n",
              "  </tbody>\n",
              "</table>\n",
              "<p>247 rows × 17 columns</p>\n",
              "</div>"
            ],
            "text/plain": [
              "     gender  marriage  edu  job  ...  satisf_b  satisf_i  satisf_al  repurchase\n",
              "0      male         1    4    1  ...         5         2          2           2\n",
              "1    female         1    4    9  ...         2         3          3           4\n",
              "2    female         2    4    4  ...         4         5          4           4\n",
              "3    female         2    4    7  ...         3         4          4           4\n",
              "4      male         2    6    6  ...         3         3          3           3\n",
              "..      ...       ...  ...  ...  ...       ...       ...        ...         ...\n",
              "242    male         1    4    2  ...         2         1          1           1\n",
              "243  female         2    4    4  ...         3         4          4           4\n",
              "244  female         2    7    8  ...         2         5          4           4\n",
              "245    male         1    4    6  ...         4         3          3           2\n",
              "246  female         2    6   10  ...         2         3          3           3\n",
              "\n",
              "[247 rows x 17 columns]"
            ]
          },
          "metadata": {
            "tags": []
          },
          "execution_count": 64
        }
      ]
    },
    {
      "cell_type": "markdown",
      "metadata": {
        "id": "eSZTzyCeei9b"
      },
      "source": [
        "##Scatterplot"
      ]
    },
    {
      "cell_type": "code",
      "metadata": {
        "colab": {
          "base_uri": "https://localhost:8080/",
          "height": 302
        },
        "id": "N_IDT1HkdZ7r",
        "outputId": "95f64e24-c8e5-487f-d6c7-7706285121e2"
      },
      "source": [
        " sns.stripplot(x=\"edu\",  y=\"job\", data=df) "
      ],
      "execution_count": null,
      "outputs": [
        {
          "output_type": "execute_result",
          "data": {
            "text/plain": [
              "<matplotlib.axes._subplots.AxesSubplot at 0x7fbffd3d71d0>"
            ]
          },
          "metadata": {
            "tags": []
          },
          "execution_count": 65
        },
        {
          "output_type": "display_data",
          "data": {
            "image/png": "[encoded data removed]",
            "text/plain": [
              "<Figure size 432x288 with 1 Axes>"
            ]
          },
          "metadata": {
            "tags": []
          }
        }
      ]
    },
    {
      "cell_type": "code",
      "metadata": {
        "colab": {
          "base_uri": "https://localhost:8080/",
          "height": 428
        },
        "id": "uHGhz6h3e7wm",
        "outputId": "34fd4c9b-5fbe-4500-ce53-94e819eb28b7"
      },
      "source": [
        "sns.swarmplot(x=\"edu\",  y=\"job\", data=df) "
      ],
      "execution_count": null,
      "outputs": [
        {
          "output_type": "stream",
          "text": [
            "/usr/local/lib/python3.7/dist-packages/seaborn/categorical.py:1296: UserWarning: 58.1% of the points cannot be placed; you may want to decrease the size of the markers or use stripplot.\n",
            "  warnings.warn(msg, UserWarning)\n",
            "/usr/local/lib/python3.7/dist-packages/seaborn/categorical.py:1296: UserWarning: 13.8% of the points cannot be placed; you may want to decrease the size of the markers or use stripplot.\n",
            "  warnings.warn(msg, UserWarning)\n",
            "/usr/local/lib/python3.7/dist-packages/seaborn/categorical.py:1296: UserWarning: 46.2% of the points cannot be placed; you may want to decrease the size of the markers or use stripplot.\n",
            "  warnings.warn(msg, UserWarning)\n"
          ],
          "name": "stderr"
        },
        {
          "output_type": "execute_result",
          "data": {
            "text/plain": [
              "<matplotlib.axes._subplots.AxesSubplot at 0x7fbffd5dd090>"
            ]
          },
          "metadata": {
            "tags": []
          },
          "execution_count": 66
        },
        {
          "output_type": "display_data",
          "data": {
            "image/png": "[encoded data removed]",
            "text/plain": [
              "<Figure size 432x288 with 1 Axes>"
            ]
          },
          "metadata": {
            "tags": []
          }
        }
      ]
    },
    {
      "cell_type": "markdown",
      "metadata": {
        "id": "wGQ1pChsfKqQ"
      },
      "source": [
        "##Bar Chart"
      ]
    },
    {
      "cell_type": "markdown",
      "metadata": {
        "id": "AhrGeBaNyNXy"
      },
      "source": [
        "seaborn.barplot(*, x=None, y=None, hue=None, data=None, order=None, hue_order=None, estimator=<function mean at 0x7fecadf1cee0>, ci=95, n_boot=1000, units=None, seed=None, orient=None, color=None, palette=None, saturation=0.75, errcolor='.26', errwidth=None, capsize=None, dodge=True, ax=None, **kwargs)"
      ]
    },
    {
      "cell_type": "code",
      "metadata": {
        "colab": {
          "base_uri": "https://localhost:8080/",
          "height": 302
        },
        "id": "o1714wQXfDGb",
        "outputId": "072d509a-cf8b-4099-de18-95f5228af38d"
      },
      "source": [
        "sns.barplot(x=\"edu\",  y=\"job\", hue=\"gender\", data=df) \n",
        "#"
      ],
      "execution_count": null,
      "outputs": [
        {
          "output_type": "execute_result",
          "data": {
            "text/plain": [
              "<matplotlib.axes._subplots.AxesSubplot at 0x7fbffd594e50>"
            ]
          },
          "metadata": {
            "tags": []
          },
          "execution_count": 67
        },
        {
          "output_type": "display_data",
          "data": {
            "image/png": "[encoded data removed]",
            "text/plain": [
              "<Figure size 432x288 with 1 Axes>"
            ]
          },
          "metadata": {
            "tags": []
          }
        }
      ]
    },
    {
      "cell_type": "markdown",
      "metadata": {
        "id": "4dLxQe1gfwKi"
      },
      "source": [
        "##Count Plot"
      ]
    },
    {
      "cell_type": "markdown",
      "metadata": {
        "id": "wiCb46wPyrhY"
      },
      "source": [
        "seaborn.countplot(*, x=None, y=None, hue=None, data=None, order=None, hue_order=None, orient=None, color=None, palette=None, saturation=0.75, dodge=True, ax=None, **kwargs)"
      ]
    },
    {
      "cell_type": "code",
      "metadata": {
        "colab": {
          "base_uri": "https://localhost:8080/",
          "height": 302
        },
        "id": "iQPeuukEfXRT",
        "outputId": "a3e6082c-d1b3-411a-c125-4b4ff9af8fc2"
      },
      "source": [
        "sns.countplot(x=\"job\", data=df, palette=\"Blues_d\") "
      ],
      "execution_count": null,
      "outputs": [
        {
          "output_type": "execute_result",
          "data": {
            "text/plain": [
              "<matplotlib.axes._subplots.AxesSubplot at 0x7fbffc360b10>"
            ]
          },
          "metadata": {
            "tags": []
          },
          "execution_count": 72
        },
        {
          "output_type": "display_data",
          "data": {
            "image/png": "[encoded data removed]",
            "text/plain": [
              "<Figure size 432x288 with 1 Axes>"
            ]
          },
          "metadata": {
            "tags": []
          }
        }
      ]
    },
    {
      "cell_type": "markdown",
      "metadata": {
        "id": "k6g6mqkxg95b"
      },
      "source": [
        "##Point Plot "
      ]
    },
    {
      "cell_type": "code",
      "metadata": {
        "colab": {
          "base_uri": "https://localhost:8080/",
          "height": 302
        },
        "id": "MPDkqdSKgJBl",
        "outputId": "29860bc8-2e58-4a5a-a61c-703461c5fc15"
      },
      "source": [
        "sns.pointplot(x=\"edu\",  y=\"job\", hue=\"gender\", data=df,\n",
        "              palette={\"male\":\"r\", \"female\":\"b\"},\n",
        "              markers=[\"^\",\"o\"], linestyles=[\":\",\"--\"]) "
      ],
      "execution_count": null,
      "outputs": [
        {
          "output_type": "execute_result",
          "data": {
            "text/plain": [
              "<matplotlib.axes._subplots.AxesSubplot at 0x7fbffbf9c910>"
            ]
          },
          "metadata": {
            "tags": []
          },
          "execution_count": 77
        },
        {
          "output_type": "display_data",
          "data": {
            "image/png": "[encoded data removed]",
            "text/plain": [
              "<Figure size 432x288 with 1 Axes>"
            ]
          },
          "metadata": {
            "tags": []
          }
        }
      ]
    },
    {
      "cell_type": "markdown",
      "metadata": {
        "id": "VtcFUphsihY2"
      },
      "source": [
        "##Boxplot"
      ]
    },
    {
      "cell_type": "markdown",
      "metadata": {
        "id": "Z6rMX5M-0laa"
      },
      "source": [
        "seaborn.boxplot(*, x=None, y=None, hue=None, data=None, order=None, hue_order=None, orient=None, color=None, palette=None, saturation=0.75, width=0.8, dodge=True, fliersize=5, linewidth=None, whis=1.5, ax=None, **kwargs)"
      ]
    },
    {
      "cell_type": "markdown",
      "metadata": {
        "id": "0uAcqPXj0oh8"
      },
      "source": [
        "https://seaborn.pydata.org/generated/seaborn.boxplot.html"
      ]
    },
    {
      "cell_type": "code",
      "metadata": {
        "colab": {
          "base_uri": "https://localhost:8080/",
          "height": 302
        },
        "id": "QLdjxUoehTNc",
        "outputId": "73701ab0-f97b-4d68-e76f-a259ce5a8db1"
      },
      "source": [
        "#df[\"amount\"]=df[\"amount\"]/10000\n",
        "sns.boxplot(x=\"edu\",  y=\"mincome\", hue=\"gender\", data=df) "
      ],
      "execution_count": null,
      "outputs": [
        {
          "output_type": "execute_result",
          "data": {
            "text/plain": [
              "<matplotlib.axes._subplots.AxesSubplot at 0x7fbffc0ea950>"
            ]
          },
          "metadata": {
            "tags": []
          },
          "execution_count": 78
        },
        {
          "output_type": "display_data",
          "data": {
            "image/png": "[encoded data removed]",
            "text/plain": [
              "<Figure size 432x288 with 1 Axes>"
            ]
          },
          "metadata": {
            "tags": []
          }
        }
      ]
    },
    {
      "cell_type": "code",
      "metadata": {
        "colab": {
          "base_uri": "https://localhost:8080/",
          "height": 302
        },
        "id": "z6lNPZSyiyNU",
        "outputId": "3cd53a26-9c3c-4a79-a3a4-2dd3681ddb6d"
      },
      "source": [
        "sns.boxplot(x=\"edu\",  y=\"job\", hue=\"mincome\", data=df, orient=\"h\") "
      ],
      "execution_count": null,
      "outputs": [
        {
          "output_type": "execute_result",
          "data": {
            "text/plain": [
              "<matplotlib.axes._subplots.AxesSubplot at 0x7fbffbd64190>"
            ]
          },
          "metadata": {
            "tags": []
          },
          "execution_count": 79
        },
        {
          "output_type": "display_data",
          "data": {
            "image/png": "[encoded data removed]",
            "text/plain": [
              "<Figure size 432x288 with 1 Axes>"
            ]
          },
          "metadata": {
            "tags": []
          }
        }
      ]
    },
    {
      "cell_type": "code",
      "metadata": {
        "colab": {
          "base_uri": "https://localhost:8080/",
          "height": 352
        },
        "id": "CHL-Oy52jAiq",
        "outputId": "f4579536-7f00-49ab-a90c-70e235ad9cc2"
      },
      "source": [
        " f, ax = plt.subplots(figsize=(15,5))\n",
        "sns.boxplot(data=df, orient=\"v\") "
      ],
      "execution_count": null,
      "outputs": [
        {
          "output_type": "execute_result",
          "data": {
            "text/plain": [
              "<matplotlib.axes._subplots.AxesSubplot at 0x7fbffb935f90>"
            ]
          },
          "metadata": {
            "tags": []
          },
          "execution_count": 82
        },
        {
          "output_type": "display_data",
          "data": {
            "image/png": "[encoded data removed]",
            "text/plain": [
              "<Figure size 1080x360 with 1 Axes>"
            ]
          },
          "metadata": {
            "tags": []
          }
        }
      ]
    },
    {
      "cell_type": "code",
      "metadata": {
        "colab": {
          "base_uri": "https://localhost:8080/",
          "height": 268
        },
        "id": "hqv82WYHlh1s",
        "outputId": "605e9844-2cb3-4ca4-a435-4285e68263eb"
      },
      "source": [
        "df.boxplot(column='count', return_type='both')\n",
        "plt.savefig('/content/drive/Shareddrives/VisualPython/Colab/WEEK12/image/heatmap_1.png')"
      ],
      "execution_count": null,
      "outputs": [
        {
          "output_type": "display_data",
          "data": {
            "image/png": "[encoded data removed]",
            "text/plain": [
              "<Figure size 432x288 with 1 Axes>"
            ]
          },
          "metadata": {
            "tags": []
          }
        }
      ]
    },
    {
      "cell_type": "markdown",
      "metadata": {
        "id": "cQYvRZxlkReg"
      },
      "source": [
        "##Violinplot"
      ]
    },
    {
      "cell_type": "markdown",
      "metadata": {
        "id": "c7wKJiHS6f4S"
      },
      "source": [
        "seaborn.violinplot(*, x=None, y=None, hue=None, data=None, order=None, hue_order=None, bw='scott', cut=2, scale='area', scale_hue=True, gridsize=100, width=0.8, inner='box', split=False, dodge=True, orient=None, linewidth=None, color=None, palette=None, saturation=0.75, ax=None, **kwargs)"
      ]
    },
    {
      "cell_type": "markdown",
      "metadata": {
        "id": "ZNJxunpd6fy_"
      },
      "source": [
        "https://seaborn.pydata.org/generated/seaborn.violinplot.html"
      ]
    },
    {
      "cell_type": "code",
      "metadata": {
        "colab": {
          "base_uri": "https://localhost:8080/",
          "height": 357
        },
        "id": "Swj6h1QUkIaU",
        "outputId": "9fe8c996-e446-49e8-a294-1858c99a0b51"
      },
      "source": [
        " f, ax = plt.subplots(figsize=(20,5))\n",
        "sns.violinplot(x=\"edu\",  y=\"job\", hue=\"mincome\", data=df) "
      ],
      "execution_count": null,
      "outputs": [
        {
          "output_type": "execute_result",
          "data": {
            "text/plain": [
              "<matplotlib.axes._subplots.AxesSubplot at 0x7fbffd9eef50>"
            ]
          },
          "metadata": {
            "tags": []
          },
          "execution_count": 85
        },
        {
          "output_type": "display_data",
          "data": {
            "image/png": "[encoded data removed]",
            "text/plain": [
              "<Figure size 1440x360 with 1 Axes>"
            ]
          },
          "metadata": {
            "tags": []
          }
        }
      ]
    },
    {
      "cell_type": "code",
      "metadata": {
        "colab": {
          "base_uri": "https://localhost:8080/",
          "height": 629
        },
        "id": "b8DzABSPkdN-",
        "outputId": "ddab1f1d-06e6-433e-87c1-937f8e43e941"
      },
      "source": [
        "f, ax = plt.subplots(figsize=(20,10))\n",
        "sns.violinplot(x=\"edu\",  y=\"job\", data=df, orient=\"v\") \n",
        "#sns.violinplot(x=\"edu\",  y=\"job\", hue=\"mincome\", data=df, orient=\"h\") "
      ],
      "execution_count": null,
      "outputs": [
        {
          "output_type": "execute_result",
          "data": {
            "text/plain": [
              "<matplotlib.axes._subplots.AxesSubplot at 0x7fbffaf3ea90>"
            ]
          },
          "metadata": {
            "tags": []
          },
          "execution_count": 90
        },
        {
          "output_type": "display_data",
          "data": {
            "image/png": "[encoded data removed]",
            "text/plain": [
              "<Figure size 1440x720 with 1 Axes>"
            ]
          },
          "metadata": {
            "tags": []
          }
        }
      ]
    },
    {
      "cell_type": "markdown",
      "metadata": {
        "id": "gHAKUTc0k1y3"
      },
      "source": [
        "##Matrix Plots - heatmap"
      ]
    },
    {
      "cell_type": "markdown",
      "metadata": {
        "id": "4RcGgttB7SUY"
      },
      "source": [
        "seaborn.heatmap(data, *, vmin=None, vmax=None, cmap=None, center=None, robust=False, annot=None, fmt='.2g', annot_kws=None, linewidths=0, linecolor='white', cbar=True, cbar_kws=None, cbar_ax=None, square=False, xticklabels='auto', yticklabels='auto', mask=None, ax=None, **kwargs)"
      ]
    },
    {
      "cell_type": "markdown",
      "metadata": {
        "id": "bt6eXc--7Tj8"
      },
      "source": [
        "https://seaborn.pydata.org/generated/seaborn.heatmap.html"
      ]
    },
    {
      "cell_type": "code",
      "metadata": {
        "id": "BGLYxfuDqOwe"
      },
      "source": [
        "uniform_data = np.random.rand(10, 12)"
      ],
      "execution_count": null,
      "outputs": []
    },
    {
      "cell_type": "code",
      "metadata": {
        "colab": {
          "base_uri": "https://localhost:8080/"
        },
        "id": "Mi7PZq2fqPXg",
        "outputId": "f1d5cc4c-c3de-4a1c-c4d0-96ede0cf8345"
      },
      "source": [
        "uniform_data"
      ],
      "execution_count": null,
      "outputs": [
        {
          "output_type": "execute_result",
          "data": {
            "text/plain": [
              "array([[0.58620299, 0.30484984, 0.2443061 , 0.466571  , 0.29382476,\n",
              "        0.49337611, 0.47992461, 0.51383717, 0.71293797, 0.62043093,\n",
              "        0.23248312, 0.44005862],\n",
              "       [0.70381351, 0.65323327, 0.3457474 , 0.92042418, 0.99451214,\n",
              "        0.04185721, 0.06392481, 0.72399737, 0.0781141 , 0.46112149,\n",
              "        0.69783877, 0.6391085 ],\n",
              "       [0.43606531, 0.74259776, 0.71408879, 0.33387204, 0.14946031,\n",
              "        0.34256173, 0.22458601, 0.80582491, 0.85947109, 0.85926448,\n",
              "        0.51131638, 0.47980294],\n",
              "       [0.39390847, 0.81571595, 0.00982367, 0.31616931, 0.92688279,\n",
              "        0.80823589, 0.46368022, 0.38247247, 0.64060915, 0.88316656,\n",
              "        0.17613369, 0.59471731],\n",
              "       [0.16512616, 0.18997006, 0.07811577, 0.59412926, 0.02453462,\n",
              "        0.67737752, 0.35910011, 0.17826311, 0.27728151, 0.32749777,\n",
              "        0.78460939, 0.24991906],\n",
              "       [0.1169216 , 0.77809074, 0.9248505 , 0.4235222 , 0.8382104 ,\n",
              "        0.42258019, 0.39986733, 0.80722826, 0.06373537, 0.15881126,\n",
              "        0.62143089, 0.41091622],\n",
              "       [0.23981332, 0.15897216, 0.26457633, 0.17352109, 0.74580355,\n",
              "        0.29787308, 0.15282623, 0.47511546, 0.83704002, 0.76214778,\n",
              "        0.49807871, 0.14276342],\n",
              "       [0.08144178, 0.94150775, 0.89155217, 0.97459768, 0.93591327,\n",
              "        0.85558409, 0.33610834, 0.54308796, 0.13354359, 0.02195898,\n",
              "        0.1167802 , 0.31762386],\n",
              "       [0.07412565, 0.25581014, 0.84504585, 0.33235428, 0.83489178,\n",
              "        0.7541084 , 0.28497081, 0.2620893 , 0.53251385, 0.91294932,\n",
              "        0.68422811, 0.6920386 ],\n",
              "       [0.9467387 , 0.08520735, 0.59192775, 0.51828398, 0.98477554,\n",
              "        0.01468983, 0.27461697, 0.7061783 , 0.36445438, 0.46132888,\n",
              "        0.49652952, 0.43915988]])"
            ]
          },
          "metadata": {
            "tags": []
          },
          "execution_count": 93
        }
      ]
    },
    {
      "cell_type": "code",
      "metadata": {
        "colab": {
          "base_uri": "https://localhost:8080/",
          "height": 286
        },
        "id": "AZkpKibxqlrc",
        "outputId": "873de7c4-b463-489d-f745-42b1e4d16f6e"
      },
      "source": [
        "sns.heatmap(uniform_data)"
      ],
      "execution_count": null,
      "outputs": [
        {
          "output_type": "execute_result",
          "data": {
            "text/plain": [
              "<matplotlib.axes._subplots.AxesSubplot at 0x7fbffae78090>"
            ]
          },
          "metadata": {
            "tags": []
          },
          "execution_count": 94
        },
        {
          "output_type": "display_data",
          "data": {
            "image/png": "[encoded data removed]",
            "text/plain": [
              "<Figure size 432x288 with 2 Axes>"
            ]
          },
          "metadata": {
            "tags": []
          }
        }
      ]
    },
    {
      "cell_type": "code",
      "metadata": {
        "id": "3z7LqAtt8Ub8"
      },
      "source": [
        "import matplotlib.pyplot as plt\n",
        "import numpy as np\n",
        "\n",
        "# Make a 10 x 10 heatmap of some random data\n",
        "side_length = 10"
      ],
      "execution_count": null,
      "outputs": []
    },
    {
      "cell_type": "code",
      "metadata": {
        "colab": {
          "base_uri": "https://localhost:8080/"
        },
        "id": "CzcOba778X-V",
        "outputId": "958343f7-0515-43ef-d51d-14d47432b5cf"
      },
      "source": [
        "np.random.randn(side_length, side_length)"
      ],
      "execution_count": null,
      "outputs": [
        {
          "output_type": "execute_result",
          "data": {
            "text/plain": [
              "array([[ 2.45756125e-01, -6.03535139e-01, -1.30080397e-02,\n",
              "        -3.13231382e-01, -1.37324610e+00,  6.49618700e-02,\n",
              "        -4.18700354e-01,  1.06969354e+00, -1.85367570e+00,\n",
              "        -2.86021662e-01],\n",
              "       [ 6.08997452e-01, -3.71383361e-01,  4.81597412e-01,\n",
              "         1.09861204e-01, -2.37671490e-01,  7.07414280e-01,\n",
              "         1.59074869e+00, -1.66698153e+00, -1.51662169e+00,\n",
              "         7.96480166e-02],\n",
              "       [-1.69799528e+00, -6.12368452e-02, -1.18385023e+00,\n",
              "        -1.90666202e-01, -1.40108791e-01,  3.82689773e-01,\n",
              "         8.77773407e-01, -5.29119798e-01,  6.63856742e-02,\n",
              "         4.42627862e-01],\n",
              "       [ 3.71520715e-02, -1.78140980e-01, -2.82534585e+00,\n",
              "         4.26382613e-01, -3.75313882e-01,  3.05749817e-01,\n",
              "        -9.37845179e-01, -3.18406639e-01, -8.14185105e-01,\n",
              "         1.13900964e+00],\n",
              "       [ 5.37634332e-01, -2.13981988e-01, -1.84256272e+00,\n",
              "         9.68845789e-02, -1.45021354e+00,  1.99353221e+00,\n",
              "         1.30980594e+00,  3.32518829e-01,  1.04883723e+00,\n",
              "         1.22723090e+00],\n",
              "       [ 5.18774561e-01,  1.26039451e-01,  2.02453260e-01,\n",
              "         5.31389225e-01, -6.47991328e-01, -3.11372336e-01,\n",
              "        -4.32154121e-01,  1.18221006e+00,  4.59806711e-01,\n",
              "         7.27075850e-01],\n",
              "       [-2.28447716e+00,  1.02577016e+00, -1.00309869e+00,\n",
              "        -6.82392585e-01,  2.46746456e-01,  1.04027179e-03,\n",
              "         2.19083426e-01, -5.39936248e-01,  3.31797343e-01,\n",
              "         3.67472565e-01],\n",
              "       [-1.04314990e+00,  1.99573484e+00, -1.63193312e+00,\n",
              "        -5.57557840e-01,  1.12848341e+00, -3.32022560e-01,\n",
              "         1.18737923e+00, -3.36024634e+00, -4.17171331e-01,\n",
              "        -8.20589336e-01],\n",
              "       [-1.13292737e+00,  8.62687216e-02,  4.02924500e-01,\n",
              "         6.91766440e-01,  1.02756939e+00,  3.57001705e-01,\n",
              "         2.35073244e-01, -1.77043074e-02,  1.48359173e+00,\n",
              "        -1.37546836e+00],\n",
              "       [-2.98582048e-01, -1.18190499e-01, -9.76799812e-01,\n",
              "        -1.38894998e+00, -2.19352564e+00,  2.12056746e+00,\n",
              "         5.84681136e-01,  2.49359376e-01, -1.33608047e+00,\n",
              "        -1.00849384e+00]])"
            ]
          },
          "metadata": {
            "tags": []
          },
          "execution_count": 101
        }
      ]
    },
    {
      "cell_type": "code",
      "metadata": {
        "colab": {
          "base_uri": "https://localhost:8080/"
        },
        "id": "jReT0No38lhm",
        "outputId": "b8513f5d-ef74-4b04-a74d-ae774639da98"
      },
      "source": [
        "5 + np.random.randn(side_length, side_length)"
      ],
      "execution_count": null,
      "outputs": [
        {
          "output_type": "execute_result",
          "data": {
            "text/plain": [
              "array([[4.64817119, 5.69283314, 5.20865356, 5.5957282 , 4.69260633,\n",
              "        4.74662605, 5.32962891, 3.145389  , 4.84551836, 6.45630039],\n",
              "       [4.17758496, 4.46067568, 4.4597709 , 5.06394663, 5.07587905,\n",
              "        5.92952345, 4.59124178, 4.84311086, 3.33707636, 1.94121111],\n",
              "       [6.24654828, 7.41979549, 8.01921776, 5.75568382, 4.63185803,\n",
              "        5.28145247, 6.1187903 , 5.48369742, 6.05923108, 4.81647752],\n",
              "       [5.2981967 , 5.01952591, 3.91469996, 4.20148375, 3.84493361,\n",
              "        4.98870879, 4.53005155, 3.41086343, 6.55582234, 6.54422674],\n",
              "       [6.29893982, 5.39806318, 4.46381709, 5.34104053, 4.38296082,\n",
              "        3.23268843, 6.16358958, 5.00025258, 3.64465204, 4.21058667],\n",
              "       [5.39160681, 3.91303381, 3.37010849, 5.25078018, 4.31132833,\n",
              "        4.9435955 , 4.80439134, 6.27509117, 4.10043873, 4.69753527],\n",
              "       [4.39187586, 3.54320692, 4.25938738, 6.03662811, 6.00102393,\n",
              "        4.30099951, 4.28635062, 4.81244997, 6.06968857, 7.81386307],\n",
              "       [4.0614595 , 3.78299036, 4.9648517 , 5.39842623, 5.96955378,\n",
              "        5.19133797, 6.26398024, 4.39551452, 4.54004936, 5.21202786],\n",
              "       [5.47466817, 5.45912328, 5.19205212, 6.16348279, 5.32696777,\n",
              "        5.27638099, 4.96953122, 4.04284772, 5.03571676, 4.20239461],\n",
              "       [5.13798558, 3.02694418, 4.44378572, 6.28578086, 5.83430482,\n",
              "        3.56816826, 4.89255475, 5.99869006, 4.66935113, 5.41064233]])"
            ]
          },
          "metadata": {
            "tags": []
          },
          "execution_count": 102
        }
      ]
    },
    {
      "cell_type": "code",
      "metadata": {
        "id": "39TjgvwI8tzQ"
      },
      "source": [
        "data = 5 + np.random.randn(side_length, side_length)"
      ],
      "execution_count": null,
      "outputs": []
    },
    {
      "cell_type": "code",
      "metadata": {
        "colab": {
          "base_uri": "https://localhost:8080/"
        },
        "id": "FBbyW98e8_f6",
        "outputId": "036e98cf-253b-4088-ef5b-2c3ede7f825a"
      },
      "source": [
        "data"
      ],
      "execution_count": null,
      "outputs": [
        {
          "output_type": "execute_result",
          "data": {
            "text/plain": [
              "array([[4.29285255, 4.19645019, 4.44500921, 6.35360601, 5.00303742,\n",
              "        5.08092451, 4.83059442, 3.28897397, 4.92185412, 3.99295451],\n",
              "       [5.50497007, 5.86705703, 3.71634584, 4.26420107, 5.63586563,\n",
              "        4.14152333, 4.72538305, 3.71485624, 4.93544379, 6.52318496],\n",
              "       [4.44298206, 3.14719424, 5.4389492 , 3.75763572, 3.54683925,\n",
              "        3.9917216 , 5.94630258, 4.99546589, 3.27458614, 5.23232344],\n",
              "       [5.80461578, 6.25564833, 4.80650832, 5.94442505, 4.40535232,\n",
              "        5.70666093, 5.67475179, 4.24358747, 3.53864497, 3.50077922],\n",
              "       [4.32004893, 4.80507218, 4.05803865, 4.06671831, 5.20708352,\n",
              "        4.81960715, 5.46040973, 5.59787945, 4.68278393, 5.55007521],\n",
              "       [4.51134688, 5.87557732, 3.80502589, 4.04398641, 4.98252059,\n",
              "        5.33815194, 3.56447424, 4.5941239 , 6.36841044, 5.0217591 ],\n",
              "       [4.81581101, 5.9430188 , 4.86759699, 4.62305667, 5.156659  ,\n",
              "        5.65018345, 4.22194452, 4.16775035, 4.01260374, 5.03334611],\n",
              "       [4.27158807, 4.91043441, 4.39244925, 4.32186859, 5.22943495,\n",
              "        5.98083285, 4.56683236, 4.49545894, 5.21837856, 4.93473393],\n",
              "       [4.95381449, 5.23586818, 4.87529547, 5.86579125, 5.77997276,\n",
              "        5.04724182, 5.00436898, 3.56471019, 5.42945172, 5.5173615 ],\n",
              "       [5.27643556, 6.12516239, 5.82490281, 6.39126384, 5.27932837,\n",
              "        6.39407426, 4.81936158, 3.4960442 , 3.72426802, 6.34395255]])"
            ]
          },
          "metadata": {
            "tags": []
          },
          "execution_count": 104
        }
      ]
    },
    {
      "cell_type": "code",
      "metadata": {
        "id": "829xNsK9809r"
      },
      "source": [
        "data += np.arange(side_length)"
      ],
      "execution_count": null,
      "outputs": []
    },
    {
      "cell_type": "code",
      "metadata": {
        "colab": {
          "base_uri": "https://localhost:8080/"
        },
        "id": "ROHSiKHN82Vl",
        "outputId": "f320e21a-5b24-4f3b-c4cd-6319f386e0d5"
      },
      "source": [
        "data"
      ],
      "execution_count": null,
      "outputs": [
        {
          "output_type": "execute_result",
          "data": {
            "text/plain": [
              "array([[ 5.24636917,  4.69522775,  5.89715902,  8.57621432,  8.14157273,\n",
              "        10.17315882, 10.11861823, 12.35722186, 14.60671176, 14.78899059],\n",
              "       [ 4.28811671,  7.21642422,  7.64700457,  7.69165428,  9.22326395,\n",
              "        10.708285  , 11.67615423, 11.82368962, 14.00917512, 13.79299507],\n",
              "       [ 4.05985143,  5.64791245,  7.96292612,  7.90571299,  9.96939265,\n",
              "         9.99707231,  9.51974783, 12.45843134, 13.44942428, 14.70290603],\n",
              "       [ 5.69011452,  4.86838094,  5.34672429,  7.78453835,  9.27007748,\n",
              "         8.93338197, 10.50810375, 12.18499391, 12.07073823, 12.78283174],\n",
              "       [ 5.92461118,  5.78830865,  8.0520152 ,  7.71900218,  7.65760395,\n",
              "        10.57923931, 10.12732624, 13.27952443, 12.53185176, 13.34987055],\n",
              "       [ 6.29139993,  5.94721212,  7.01623743,  6.99654503,  8.44827516,\n",
              "        11.44867722, 11.17458707, 12.54177346, 13.64108838, 13.19214954],\n",
              "       [ 5.2331992 ,  6.76606865,  7.64691355,  8.83664526,  8.17574462,\n",
              "        10.50680715, 10.50767028, 11.43553588, 14.25048545, 14.55996813],\n",
              "       [ 5.45759908,  5.03601642,  6.61213093,  8.61463139,  7.67452813,\n",
              "         8.62841372, 12.01625997, 11.41852408, 12.59152353, 14.62268676],\n",
              "       [ 5.54106923,  5.56466363,  7.08004   ,  9.27921682,  8.2446735 ,\n",
              "         7.55532279, 10.54200504, 13.34490541, 13.11007628, 14.92010982],\n",
              "       [ 4.47117113,  6.30050631,  6.72911323,  9.07656309,  7.4783779 ,\n",
              "        10.5150949 ,  9.06062703, 12.99981987, 12.69696703, 14.30836141]])"
            ]
          },
          "metadata": {
            "tags": []
          },
          "execution_count": 100
        }
      ]
    },
    {
      "cell_type": "code",
      "metadata": {
        "id": "82DnDegg9QpE"
      },
      "source": [
        "data += np.reshape(np.arange(side_length), (side_length, 1))"
      ],
      "execution_count": null,
      "outputs": []
    },
    {
      "cell_type": "code",
      "metadata": {
        "colab": {
          "base_uri": "https://localhost:8080/"
        },
        "id": "zb8PYXdM9SMY",
        "outputId": "13e97d76-0fab-44b7-f8e2-357b5b60660c"
      },
      "source": [
        "data"
      ],
      "execution_count": null,
      "outputs": [
        {
          "output_type": "execute_result",
          "data": {
            "text/plain": [
              "array([[ 4.29285255,  5.19645019,  6.44500921,  9.35360601,  9.00303742,\n",
              "        10.08092451, 10.83059442, 10.28897397, 12.92185412, 12.99295451],\n",
              "       [ 6.50497007,  7.86705703,  6.71634584,  8.26420107, 10.63586563,\n",
              "        10.14152333, 11.72538305, 11.71485624, 13.93544379, 16.52318496],\n",
              "       [ 6.44298206,  6.14719424,  9.4389492 ,  8.75763572,  9.54683925,\n",
              "        10.9917216 , 13.94630258, 13.99546589, 13.27458614, 16.23232344],\n",
              "       [ 8.80461578, 10.25564833,  9.80650832, 11.94442505, 11.40535232,\n",
              "        13.70666093, 14.67475179, 14.24358747, 14.53864497, 15.50077922],\n",
              "       [ 8.32004893,  9.80507218, 10.05803865, 11.06671831, 13.20708352,\n",
              "        13.81960715, 15.46040973, 16.59787945, 16.68278393, 18.55007521],\n",
              "       [ 9.51134688, 11.87557732, 10.80502589, 12.04398641, 13.98252059,\n",
              "        15.33815194, 14.56447424, 16.5941239 , 19.36841044, 19.0217591 ],\n",
              "       [10.81581101, 12.9430188 , 12.86759699, 13.62305667, 15.156659  ,\n",
              "        16.65018345, 16.22194452, 17.16775035, 18.01260374, 20.03334611],\n",
              "       [11.27158807, 12.91043441, 13.39244925, 14.32186859, 16.22943495,\n",
              "        17.98083285, 17.56683236, 18.49545894, 20.21837856, 20.93473393],\n",
              "       [12.95381449, 14.23586818, 14.87529547, 16.86579125, 17.77997276,\n",
              "        18.04724182, 19.00436898, 18.56471019, 21.42945172, 22.5173615 ],\n",
              "       [14.27643556, 16.12516239, 16.82490281, 18.39126384, 18.27932837,\n",
              "        20.39407426, 19.81936158, 19.4960442 , 20.72426802, 24.34395255]])"
            ]
          },
          "metadata": {
            "tags": []
          },
          "execution_count": 107
        }
      ]
    },
    {
      "cell_type": "code",
      "metadata": {
        "colab": {
          "base_uri": "https://localhost:8080/",
          "height": 286
        },
        "id": "OzThfFNIzFQT",
        "outputId": "f10f2a47-9df8-4183-84ca-8070488bfc6b"
      },
      "source": [
        "import matplotlib.pyplot as plt\n",
        "import numpy as np\n",
        "\n",
        "# Make a 10 x 10 heatmap of some random data\n",
        "side_length = 10\n",
        "# Start with a 10 x 10 matrix with values randomized around 5\n",
        "data = 5 + np.random.randn(side_length, side_length)\n",
        "# The next two lines make the values larger as we get closer to (9, 9)\n",
        "data += np.arange(side_length)\n",
        "data += np.reshape(np.arange(side_length), (side_length, 1))\n",
        "# Generate the heatmap\n",
        "sns.heatmap(data)\n",
        "plt.show()\n",
        "plt.savefig('/content/drive/Shareddrives/VisualPython/Colab/WEEK12/image/heatmap_1.png')"
      ],
      "execution_count": null,
      "outputs": [
        {
          "output_type": "display_data",
          "data": {
            "image/png": "[encoded data removed]",
            "text/plain": [
              "<Figure size 432x288 with 2 Axes>"
            ]
          },
          "metadata": {
            "tags": []
          }
        },
        {
          "output_type": "display_data",
          "data": {
            "text/plain": [
              "<Figure size 432x288 with 0 Axes>"
            ]
          },
          "metadata": {
            "tags": []
          }
        }
      ]
    },
    {
      "cell_type": "markdown",
      "metadata": {
        "id": "3wzkrNG3tv4s"
      },
      "source": [
        "#To store Graph"
      ]
    },
    {
      "cell_type": "code",
      "metadata": {
        "id": "gfXynb_S9uH3"
      },
      "source": [
        "#plt.show()\n",
        "#plt.savefig('/content/drive/Shareddrives/VisualPython/Colab/WEEK12/image/heatmap_1.png')"
      ],
      "execution_count": null,
      "outputs": []
    },
    {
      "cell_type": "markdown",
      "metadata": {
        "id": "nqxZkckVuN1m"
      },
      "source": [
        "Heatmap Example"
      ]
    },
    {
      "cell_type": "code",
      "metadata": {
        "colab": {
          "base_uri": "https://localhost:8080/",
          "height": 365
        },
        "id": "FNErj1j6qZ_I",
        "outputId": "cb0ac527-34b8-4618-ff88-d10c398b1f2e"
      },
      "source": [
        "import numpy as np\n",
        "import matplotlib\n",
        "import matplotlib.pyplot as plt\n",
        "\n",
        "vegetables = [\"cucumber\", \"tomato\", \"lettuce\", \n",
        "              \"asparagus\", \"potato\", \"wheat\", \"barley\"]\n",
        "farmers = [\"Farmer Joe\", \"Upland Bros.\", \"Smith Gardening\",\n",
        "           \"Agrifun\", \"Organiculture\", \"BioGoods Ltd.\", \"Cornylee Corp.\"]\n",
        "\n",
        "harvest = np.array([[0.8, 2.4, 2.5, 3.9, 0.0, 4.0, 0.0],\n",
        "                    [2.4, 0.0, 4.0, 1.0, 2.7, 0.0, 0.0],\n",
        "                    [1.1, 2.4, 0.8, 4.3, 1.9, 4.4, 0.0],\n",
        "                    [0.6, 0.0, 0.3, 0.0, 3.1, 0.0, 0.0],\n",
        "                    [0.7, 1.7, 0.6, 2.6, 2.2, 6.2, 0.0],\n",
        "                    [1.3, 1.2, 0.0, 0.0, 0.0, 3.2, 5.1],\n",
        "                    [0.1, 2.0, 0.0, 1.4, 0.0, 1.9, 6.3]])\n",
        "\n",
        "\n",
        "fig, ax = plt.subplots()\n",
        "im = ax.imshow(harvest)\n",
        "\n",
        "# We want to show all ticks...\n",
        "ax.set_xticks(np.arange(len(farmers)))\n",
        "ax.set_yticks(np.arange(len(vegetables)))\n",
        "# ... and label them with the respective list entries\n",
        "ax.set_xticklabels(farmers)\n",
        "ax.set_yticklabels(vegetables)\n",
        "\n",
        "# Rotate the tick labels and set their alignment.\n",
        "plt.setp(ax.get_xticklabels(), rotation=45, ha=\"right\",\n",
        "         rotation_mode=\"anchor\")\n",
        "\n",
        "# Loop over data dimensions and create text annotations.\n",
        "for i in range(len(vegetables)):\n",
        "    for j in range(len(farmers)):\n",
        "        text = ax.text(j, i, harvest[i, j],\n",
        "                       ha=\"center\", va=\"center\", color=\"w\")\n",
        "\n",
        "ax.set_title(\"Harvest of local farmers (in tons/year)\")\n",
        "#fig.tight_layout()\n",
        "plt.show()\n",
        "plt.savefig('/content/drive/Shareddrives/VisualPython/Colab/WEEK12/image/heatmap_1.png')"
      ],
      "execution_count": null,
      "outputs": [
        {
          "output_type": "display_data",
          "data": {
            "image/png": "[encoded data removed]",
            "text/plain": [
              "<Figure size 432x288 with 1 Axes>"
            ]
          },
          "metadata": {
            "tags": []
          }
        },
        {
          "output_type": "display_data",
          "data": {
            "text/plain": [
              "<Figure size 432x288 with 0 Axes>"
            ]
          },
          "metadata": {
            "tags": []
          }
        }
      ]
    },
    {
      "cell_type": "code",
      "metadata": {
        "id": "UvRM5qwAsIhR",
        "colab": {
          "base_uri": "https://localhost:8080/",
          "height": 34
        },
        "outputId": "2305c6c3-cbfd-4ca9-f5f8-f7ffad573d9e"
      },
      "source": [
        "#plt.savefig(fname, dpi, facecolor, format, bbox_inches, transparent)\n",
        "plt.savefig('/content/drive/Shareddrives/VisualPython/Colab/WEEK12/image/heatmap_1.png')"
      ],
      "execution_count": null,
      "outputs": [
        {
          "output_type": "display_data",
          "data": {
            "text/plain": [
              "<Figure size 432x288 with 0 Axes>"
            ]
          },
          "metadata": {
            "tags": []
          }
        }
      ]
    }
  ]
}
